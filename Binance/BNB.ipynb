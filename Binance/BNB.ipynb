{
  "cells": [
    {
      "cell_type": "code",
      "execution_count": null,
      "metadata": {
        "id": "Eu3KY5sHa1Wn"
      },
      "outputs": [],
      "source": [
        "import pandas as pd\n",
        "import numpy\n",
        "import numpy as np\n",
        "import statistics as st\n",
        "from scipy.stats import mode, skew, kurtosis\n",
        "import matplotlib.pyplot as plt\n",
        "import seaborn as sns\n",
        "from sklearn.model_selection import train_test_split\n",
        "from sklearn.preprocessing import StandardScaler\n",
        "from sklearn.linear_model import LinearRegression\n",
        "from sklearn.metrics import mean_absolute_percentage_error, root_mean_squared_error, mean_absolute_error\n",
        "from sklearn.preprocessing import MinMaxScaler\n",
        "import torch\n",
        "from torch import nn\n",
        "from torch.utils.data import DataLoader, Dataset\n",
        "from datetime import datetime, timedelta\n",
        "from pmdarima import auto_arima\n",
        "from tensorflow import keras\n",
        "from keras.models import Sequential\n",
        "from keras.layers import Dense, LSTM, RNN, GRU, Dropout, Activation"
      ]
    },
    {
      "cell_type": "code",
      "execution_count": null,
      "metadata": {
        "colab": {
          "base_uri": "https://localhost:8080/",
          "height": 423
        },
        "id": "g5HJMQN4bRTx",
        "outputId": "f3b4a70a-328c-429f-fc23-0aa9714472b6"
      },
      "outputs": [],
      "source": [
        "bnb_df = pd.read_csv(\"./BNB Historical Data.csv\")\n",
        "bnb_df"
      ]
    },
    {
      "cell_type": "markdown",
      "metadata": {},
      "source": [
        "### Pre-processing Data"
      ]
    },
    {
      "cell_type": "code",
      "execution_count": null,
      "metadata": {
        "colab": {
          "base_uri": "https://localhost:8080/"
        },
        "id": "tklPa70AQ59C",
        "outputId": "5ee4350e-7c40-45e4-af52-81fe9bcc972d"
      },
      "outputs": [],
      "source": [
        "print(bnb_df.info())"
      ]
    },
    {
      "cell_type": "markdown",
      "metadata": {},
      "source": [
        "* Định dạng lại cột `Date` để nó trở thành dạng `datetime`\n",
        "* Xử lý và chuyển đổi kiểu dữ liệu của cột `Vol.` và `Change %` thành kiểu float"
      ]
    },
    {
      "cell_type": "code",
      "execution_count": null,
      "metadata": {
        "colab": {
          "base_uri": "https://localhost:8080/",
          "height": 423
        },
        "id": "O0MjflxYcm_r",
        "outputId": "b9054be4-7906-45b7-c360-de98e7921a45"
      },
      "outputs": [],
      "source": [
        "bnb_df['Date'] = pd.to_datetime(bnb_df['Date'])\n",
        "bnb_df['Vol.'] = bnb_df['Vol.'].str.replace('M', 'e6').str.replace('K', 'e3').fillna('0')\n",
        "bnb_df['Vol.'] = bnb_df['Vol.'].astype(float)\n",
        "bnb_df['Change %'] = bnb_df['Change %'].str.replace('%', '').astype(float)\n",
        "bnb_df.reset_index(drop=True)\n",
        "bnb_df.set_index('Date', inplace=True)\n",
        "bnb_df.sort_index(ascending=True, inplace=True)\n",
        "bnb_df"
      ]
    },
    {
      "cell_type": "code",
      "execution_count": null,
      "metadata": {},
      "outputs": [],
      "source": [
        "missing_values = bnb_df.isnull().sum()\n",
        "print(\"Missing values:\\n\", missing_values)"
      ]
    },
    {
      "cell_type": "code",
      "execution_count": null,
      "metadata": {
        "colab": {
          "base_uri": "https://localhost:8080/"
        },
        "id": "ZenIuWtokUbQ",
        "outputId": "4f3d09c9-7cad-441a-e8b0-df454571afdc"
      },
      "outputs": [],
      "source": [
        "print(bnb_df.info())"
      ]
    },
    {
      "cell_type": "code",
      "execution_count": null,
      "metadata": {
        "colab": {
          "base_uri": "https://localhost:8080/",
          "height": 300
        },
        "id": "q_PgD6hTTrbJ",
        "outputId": "f69b6fa4-bb12-48ec-bf28-af6895f33549"
      },
      "outputs": [],
      "source": [
        "bnb_description = bnb_df.describe()\n",
        "bnb_description"
      ]
    },
    {
      "cell_type": "code",
      "execution_count": null,
      "metadata": {},
      "outputs": [],
      "source": [
        "# Descriptive statistics for Price\n",
        "print('More Price Statistics:')\n",
        "\n",
        "print('Mode:', bnb_df['Price'].mode().values[0])\n",
        "print('Standard Deviation:', bnb_df['Price'].std())\n",
        "print('Variance:', bnb_df['Price'].var())\n",
        "print('Kurtosis:', bnb_df['Price'].kurt())\n",
        "print('Skewness:', bnb_df['Price'].skew())"
      ]
    },
    {
      "cell_type": "markdown",
      "metadata": {},
      "source": [
        "##### Price by Date Plot"
      ]
    },
    {
      "cell_type": "code",
      "execution_count": null,
      "metadata": {},
      "outputs": [],
      "source": [
        "plt.figure(figsize=(12, 6))\n",
        "plt.plot(bnb_df['Price'], label='Price', color='b')\n",
        "plt.xlabel('Date')\n",
        "plt.ylabel('Price')\n",
        "plt.title('Historical BNB Price from 1/3/2019 to 1/3/2024')\n",
        "plt.legend()\n",
        "plt.grid(True)\n",
        "plt.show()\n"
      ]
    },
    {
      "cell_type": "markdown",
      "metadata": {},
      "source": [
        "##### Boxplot for Price"
      ]
    },
    {
      "cell_type": "code",
      "execution_count": null,
      "metadata": {},
      "outputs": [],
      "source": [
        "plt.figure(figsize=(12, 6))\n",
        "plt.boxplot(bnb_df['Price'])\n",
        "plt.grid()\n",
        "plt.show()"
      ]
    },
    {
      "cell_type": "markdown",
      "metadata": {},
      "source": [
        "### Parameter"
      ]
    },
    {
      "cell_type": "code",
      "execution_count": null,
      "metadata": {},
      "outputs": [],
      "source": [
        "window_size = 10\n",
        "feature_dim = 5\n",
        "test_size=0.2\n",
        "\n",
        "# model params\n",
        "lstm_neurons = 20\n",
        "rnn_neurons = 20\n",
        "epochs = 100\n",
        "batch_size = 4\n",
        "loss = 'mae'\n",
        "dropout = 0.25\n",
        "optimizer = 'adam'"
      ]
    },
    {
      "cell_type": "markdown",
      "metadata": {},
      "source": [
        "### Split data"
      ]
    },
    {
      "cell_type": "code",
      "execution_count": null,
      "metadata": {},
      "outputs": [],
      "source": [
        "train_ratio = 0.6\n",
        "test_ratio = 0.3\n",
        "val_ratio = 0.1"
      ]
    },
    {
      "cell_type": "code",
      "execution_count": null,
      "metadata": {},
      "outputs": [],
      "source": [
        "train_data = int(len(bnb_df)*train_ratio)\n",
        "test_data = train_data + int(len(bnb_df)*test_ratio)\n",
        "\n",
        "print('train index: ',train_data)\n",
        "print('test index: ',test_data)"
      ]
    },
    {
      "cell_type": "code",
      "execution_count": null,
      "metadata": {},
      "outputs": [],
      "source": [
        "train_df = bnb_df.iloc[:train_data]\n",
        "test_df  = bnb_df[train_data:test_data]\n",
        "val_df   = bnb_df[test_data:]\n",
        "\n",
        "print('train_df.shape: ',train_df.shape)\n",
        "print('test_df.shape: ',test_df.shape)\n",
        "print('val_df.shape: ',val_df.shape)"
      ]
    },
    {
      "cell_type": "code",
      "execution_count": null,
      "metadata": {},
      "outputs": [],
      "source": [
        "plt.figure(figsize=(12,6))\n",
        "plt.plot(pd.DataFrame(train_df).index.to_list(), pd.DataFrame(train_df['Price']), color='r', label='Train')\n",
        "plt.plot(pd.DataFrame(test_df).index.to_list(),pd.DataFrame(test_df['Price']),color='b' ,label ='Test')\n",
        "plt.plot(pd.DataFrame(val_df).index.to_list(),pd.DataFrame(val_df['Price']),color ='y', label ='Validation')\n",
        "plt.legend()\n",
        "plt.show()"
      ]
    },
    {
      "cell_type": "code",
      "execution_count": null,
      "metadata": {},
      "outputs": [],
      "source": [
        "scaler = MinMaxScaler(feature_range=(0, 1))\n",
        "train_df_scaled = scaler.fit_transform(train_df)\n",
        "test_df_scaled = scaler.transform(test_df)\n",
        "val_df_scaled = scaler.transform(val_df)\n",
        "\n",
        "train_df_scaled = pd.DataFrame(train_df_scaled, index=train_df.index, columns=train_df.columns)\n",
        "test_df_scaled = pd.DataFrame(test_df_scaled, index=test_df.index, columns=test_df.columns)\n",
        "val_df_scaled = pd.DataFrame(val_df_scaled,index =val_df.index,columns=val_df.columns)"
      ]
    },
    {
      "cell_type": "code",
      "execution_count": null,
      "metadata": {},
      "outputs": [],
      "source": [
        "print('train_df_scaled shape: ',train_df_scaled.shape)\n",
        "print('test_df_scaled shape: ',test_df_scaled.shape)\n",
        "print('val_df_scaled shape: ',val_df_scaled.shape)"
      ]
    },
    {
      "cell_type": "code",
      "execution_count": null,
      "metadata": {},
      "outputs": [],
      "source": [
        "# Define the target variable\n",
        "target = 'Price'"
      ]
    },
    {
      "cell_type": "code",
      "execution_count": null,
      "metadata": {},
      "outputs": [],
      "source": [
        "# Split data into features and target\n",
        "X_train = train_df_scaled.drop(columns=target).values\n",
        "y_train = train_df_scaled[target]\n",
        "\n",
        "X_test = test_df_scaled.drop(columns=target).values\n",
        "y_test = test_df_scaled[target]\n",
        "\n",
        "X_val = val_df_scaled.drop(columns=target).values\n",
        "y_val = val_df_scaled[target]"
      ]
    },
    {
      "cell_type": "markdown",
      "metadata": {},
      "source": [
        "### Model Training"
      ]
    },
    {
      "cell_type": "markdown",
      "metadata": {},
      "source": [
        "#### Linear Regression"
      ]
    },
    {
      "cell_type": "code",
      "execution_count": null,
      "metadata": {},
      "outputs": [],
      "source": [
        "# Train Linear Regression model\n",
        "model = LinearRegression()\n",
        "model.fit(X_train, y_train)\n",
        "\n",
        "# Make predictions\n",
        "y_pred_test_lr = model.predict(X_test)\n",
        "y_pred_val_lr = model.predict(X_val)"
      ]
    },
    {
      "cell_type": "markdown",
      "metadata": {},
      "source": [
        "##### Evaluate Linear Regression"
      ]
    },
    {
      "cell_type": "code",
      "execution_count": null,
      "metadata": {},
      "outputs": [],
      "source": [
        "# Evaluate model on test set\n",
        "mape_test_lr = mean_absolute_percentage_error(y_test, y_pred_test_lr)\n",
        "mae_test_lr = mean_absolute_error(y_test, y_pred_test_lr)\n",
        "rmse_test_lr = root_mean_squared_error(y_test, y_pred_test_lr)\n",
        "\n",
        "print(\"Test Set MAPE: \", mape_test_lr)\n",
        "print(\"Test Set MAE: \", mae_test_lr)\n",
        "print(\"Test Set RMSE: \", rmse_test_lr)\n",
        "\n",
        "# Evaluate model on validation set\n",
        "mape_val_lr = mean_absolute_percentage_error(y_val, y_pred_val_lr)\n",
        "mae_val_lr = mean_absolute_error(y_val, y_pred_val_lr)\n",
        "rmse_val_lr = root_mean_squared_error(y_val, y_pred_val_lr)\n",
        "\n",
        "print(\"Validation Set MAPE: \", mape_val_lr)\n",
        "print(\"Validation Set MAE: \", mae_val_lr)\n",
        "print(\"Validation Set RMSE: \", rmse_val_lr)"
      ]
    },
    {
      "cell_type": "code",
      "execution_count": null,
      "metadata": {},
      "outputs": [],
      "source": [
        "plt.figure(figsize=(12, 6))\n",
        "plt.plot(pd.DataFrame(y_train).index.to_list(),pd.DataFrame(y_train),color='red',label='Train value')\n",
        "plt.plot(pd.DataFrame(y_test).index.to_list(), pd.DataFrame(y_test), color='blue', label='Test value')\n",
        "plt.plot(pd.DataFrame(y_test).index.to_list(), pd.DataFrame(y_pred_test_lr.reshape(-1)), color='g', label='Predicted test value')\n",
        "plt.plot(pd.DataFrame(y_val).index.to_list(),pd.DataFrame(y_val),color='y', label='Validation value')\n",
        "plt.plot(pd.DataFrame(y_val).index.to_list(),pd.DataFrame(y_pred_val_lr.reshape(-1)),color='purple', label='Predicted validation value')\n",
        "plt.legend()\n",
        "plt.show()"
      ]
    },
    {
      "cell_type": "markdown",
      "metadata": {},
      "source": [
        "#### ARIMA"
      ]
    },
    {
      "cell_type": "code",
      "execution_count": null,
      "metadata": {},
      "outputs": [],
      "source": [
        "y_train"
      ]
    },
    {
      "cell_type": "code",
      "execution_count": null,
      "metadata": {},
      "outputs": [],
      "source": [
        "stepwise_model = auto_arima(y_train, start_p=1, start_q=1,\n",
        "                            max_p=5, max_q=5, m=1,\n",
        "                            start_P=0, seasonal=False,\n",
        "                            d=None, D=0, trace=True,\n",
        "                            error_action='ignore',  \n",
        "                            suppress_warnings=True, \n",
        "                            stepwise=True)\n",
        "\n",
        "print(stepwise_model.summary())"
      ]
    },
    {
      "cell_type": "code",
      "execution_count": null,
      "metadata": {},
      "outputs": [],
      "source": [
        "y_pred_test_arima = stepwise_model.predict(n_periods=len(X_test))\n",
        "mape_test_arima = mean_absolute_percentage_error(y_test, y_pred_test_arima)\n",
        "mae_test_arima = mean_absolute_error(y_test, y_pred_test_arima)\n",
        "rmse_test_arima = root_mean_squared_error(y_test, y_pred_test_arima)\n",
        "\n",
        "print(\"Test Set MAPE: \", mape_test_arima)\n",
        "print(\"Test Set MAE: \", mae_test_arima)\n",
        "print(\"Test Set RMSE: \", rmse_test_arima)\n",
        "\n",
        "y_pred_val_arima = stepwise_model.predict(n_periods=len(X_val))\n",
        "mape_val_arima = mean_absolute_percentage_error(y_val, y_pred_val_arima)\n",
        "mae_val_arima = mean_absolute_error(y_val, y_pred_val_arima)\n",
        "rmse_val_arima = root_mean_squared_error(y_val, y_pred_val_arima)\n",
        "\n",
        "print(\"Val Set MAPE: \", mape_val_arima)\n",
        "print(\"Val Set MAE: \", mae_val_arima)\n",
        "print(\"Val Set RMSE: \", rmse_val_arima)"
      ]
    },
    {
      "cell_type": "code",
      "execution_count": null,
      "metadata": {},
      "outputs": [],
      "source": [
        "plt.figure(figsize=(12, 6))\n",
        "plt.plot(pd.DataFrame(y_train).index.to_list(),pd.DataFrame(y_train),color='red',label='Train value')\n",
        "plt.plot(pd.DataFrame(y_test).index.to_list(), pd.DataFrame(y_test), color='blue', label='Test value')\n",
        "plt.plot(pd.DataFrame(y_test).index.to_list(), pd.DataFrame(y_pred_test_arima), color='g', label='Predicted test value')\n",
        "plt.plot(pd.DataFrame(y_val).index.to_list(),pd.DataFrame(y_val),color='y', label='Validation value')\n",
        "plt.plot(pd.DataFrame(y_val).index.to_list(),pd.DataFrame(y_pred_val_arima),color='purple', label='Predicted validation value')\n",
        "plt.legend()\n",
        "plt.show()"
      ]
    },
    {
      "cell_type": "markdown",
      "metadata": {},
      "source": [
        "#### GRU"
      ]
    },
    {
      "cell_type": "code",
      "execution_count": null,
      "metadata": {},
      "outputs": [],
      "source": [
        "X_train_GRU = X_train.reshape((X_train.shape[0], 1, X_train.shape[1]))\n",
        "y_train_GRU = y_train.values\n",
        "\n",
        "\n",
        "X_test_GRU = X_test.reshape((X_test.shape[0], 1, X_test.shape[1]))\n",
        "y_test_GRU = y_test\n",
        "\n",
        "\n",
        "X_val_GRU = X_val.reshape((X_val.shape[0], 1, X_val.shape[1]))\n",
        "y_val_GRU = y_val"
      ]
    },
    {
      "cell_type": "code",
      "execution_count": null,
      "metadata": {},
      "outputs": [],
      "source": [
        "# Xây dựng mô hình GRU\n",
        "model_GRU = Sequential()\n",
        "model_GRU.add(GRU(50, return_sequences=True, input_shape=(1, X_train_GRU.shape[2])))\n",
        "model_GRU.add(GRU(50, return_sequences=False))\n",
        "model_GRU.add(Dense(25))\n",
        "model_GRU.add(Dense(1))\n",
        "\n",
        "# Compile mô hình\n",
        "model_GRU.compile(optimizer='adam', loss='mean_squared_error')\n",
        "\n",
        "# Huấn luyện mô hình\n",
        "history_GRU = model_GRU.fit(X_train_GRU, y_train_GRU, validation_data=(X_val_GRU, y_val_GRU), epochs=100, batch_size=64, verbose=1)"
      ]
    },
    {
      "cell_type": "code",
      "execution_count": null,
      "metadata": {},
      "outputs": [],
      "source": [
        "# Compile mô hình\n",
        "model_GRU.compile(optimizer='adam', loss='mean_squared_error')"
      ]
    },
    {
      "cell_type": "code",
      "execution_count": null,
      "metadata": {},
      "outputs": [],
      "source": [
        "# Dự đoán giá\n",
        "train_predict_GRU = model_GRU.predict(X_train_GRU)\n",
        "val_predict_GRU = model_GRU.predict(X_val_GRU)\n",
        "test_predict_GRU = model_GRU.predict(X_test_GRU)"
      ]
    },
    {
      "cell_type": "code",
      "execution_count": null,
      "metadata": {},
      "outputs": [],
      "source": [
        "mape_test_GRU = mean_absolute_percentage_error(y_test_GRU, test_predict_GRU)\n",
        "mae_test_GRU = mean_absolute_error(y_test_GRU, test_predict_GRU)\n",
        "rmse_test_GRU = root_mean_squared_error(y_val_GRU, val_predict_GRU)\n",
        "\n",
        "print(\"Test Set MAPE: \", mape_test_GRU)\n",
        "print(\"Test Set MAE: \", mae_test_GRU)\n",
        "print(\"Test Set RMSE: \", rmse_test_GRU)\n",
        "\n",
        "mape_val_GRU = mean_absolute_percentage_error(y_val_GRU, val_predict_GRU)\n",
        "mae_val_GRU = mean_absolute_error(y_val_GRU, val_predict_GRU)\n",
        "rmse_val_GRU = root_mean_squared_error(y_val_GRU, val_predict_GRU)\n",
        "\n",
        "print(\"Val Set MAPE: \", mape_val_GRU)\n",
        "print(\"Val Set MAE: \", mae_val_GRU)\n",
        "print(\"Val Set RMSE: \", rmse_val_GRU)"
      ]
    },
    {
      "cell_type": "code",
      "execution_count": null,
      "metadata": {},
      "outputs": [],
      "source": [
        "plt.figure(figsize=(12, 6))\n",
        "plt.plot(pd.DataFrame(y_train).index.to_list(),pd.DataFrame(y_train),color='red',label='Train value')\n",
        "plt.plot(pd.DataFrame(y_test).index.to_list(), pd.DataFrame(y_test), color='blue', label='Test value')\n",
        "plt.plot(pd.DataFrame(y_test).index.to_list(), pd.DataFrame(test_predict_GRU), color='g', label='Predicted test value')\n",
        "plt.plot(pd.DataFrame(y_val).index.to_list(),pd.DataFrame(y_val),color='y', label='Validation value')\n",
        "plt.plot(pd.DataFrame(y_val).index.to_list(),pd.DataFrame(val_predict_GRU),color='purple', label='Predicted validation value')\n",
        "plt.legend()\n",
        "plt.show()"
      ]
    },
    {
      "cell_type": "markdown",
      "metadata": {},
      "source": [
        "#### AutoFormer"
      ]
    }
  ],
  "metadata": {
    "colab": {
      "provenance": []
    },
    "kernelspec": {
      "display_name": "Python 3",
      "name": "python3"
    },
    "language_info": {
      "codemirror_mode": {
        "name": "ipython",
        "version": 3
      },
      "file_extension": ".py",
      "mimetype": "text/x-python",
      "name": "python",
      "nbconvert_exporter": "python",
      "pygments_lexer": "ipython3",
      "version": "3.12.3"
    }
  },
  "nbformat": 4,
  "nbformat_minor": 0
}
