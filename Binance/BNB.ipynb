{
  "cells": [
    {
      "cell_type": "code",
      "execution_count": 19,
      "metadata": {
        "id": "Eu3KY5sHa1Wn"
      },
      "outputs": [],
      "source": [
        "import pandas as pd\n",
        "import numpy as np\n",
        "import statistics as st\n",
        "from scipy.stats import mode, skew, kurtosis\n",
        "import matplotlib.pyplot as plt\n",
        "import seaborn as sns\n",
        "from sklearn.model_selection import train_test_split\n",
        "from sklearn.preprocessing import StandardScaler\n",
        "from sklearn.linear_model import LinearRegression\n",
        "from sklearn.metrics import mean_squared_error, r2_score"
      ]
    },
    {
      "cell_type": "code",
      "execution_count": 20,
      "metadata": {
        "colab": {
          "base_uri": "https://localhost:8080/",
          "height": 423
        },
        "id": "g5HJMQN4bRTx",
        "outputId": "f3b4a70a-328c-429f-fc23-0aa9714472b6"
      },
      "outputs": [
        {
          "data": {
            "text/html": [
              "<div>\n",
              "<style scoped>\n",
              "    .dataframe tbody tr th:only-of-type {\n",
              "        vertical-align: middle;\n",
              "    }\n",
              "\n",
              "    .dataframe tbody tr th {\n",
              "        vertical-align: top;\n",
              "    }\n",
              "\n",
              "    .dataframe thead th {\n",
              "        text-align: right;\n",
              "    }\n",
              "</style>\n",
              "<table border=\"1\" class=\"dataframe\">\n",
              "  <thead>\n",
              "    <tr style=\"text-align: right;\">\n",
              "      <th></th>\n",
              "      <th>Date</th>\n",
              "      <th>Price</th>\n",
              "      <th>Open</th>\n",
              "      <th>High</th>\n",
              "      <th>Low</th>\n",
              "      <th>Vol.</th>\n",
              "      <th>Change %</th>\n",
              "    </tr>\n",
              "  </thead>\n",
              "  <tbody>\n",
              "    <tr>\n",
              "      <th>0</th>\n",
              "      <td>03/01/2024</td>\n",
              "      <td>407.30</td>\n",
              "      <td>399.10</td>\n",
              "      <td>408.48</td>\n",
              "      <td>399.00</td>\n",
              "      <td>595.45K</td>\n",
              "      <td>2.05%</td>\n",
              "    </tr>\n",
              "    <tr>\n",
              "      <th>1</th>\n",
              "      <td>02/29/2024</td>\n",
              "      <td>399.10</td>\n",
              "      <td>414.62</td>\n",
              "      <td>419.38</td>\n",
              "      <td>391.24</td>\n",
              "      <td>1.16M</td>\n",
              "      <td>-3.74%</td>\n",
              "    </tr>\n",
              "    <tr>\n",
              "      <th>2</th>\n",
              "      <td>02/28/2024</td>\n",
              "      <td>414.62</td>\n",
              "      <td>394.60</td>\n",
              "      <td>426.79</td>\n",
              "      <td>394.30</td>\n",
              "      <td>1.39M</td>\n",
              "      <td>5.02%</td>\n",
              "    </tr>\n",
              "    <tr>\n",
              "      <th>3</th>\n",
              "      <td>02/27/2024</td>\n",
              "      <td>394.80</td>\n",
              "      <td>401.60</td>\n",
              "      <td>403.69</td>\n",
              "      <td>390.11</td>\n",
              "      <td>932.13K</td>\n",
              "      <td>-1.69%</td>\n",
              "    </tr>\n",
              "    <tr>\n",
              "      <th>4</th>\n",
              "      <td>02/26/2024</td>\n",
              "      <td>401.60</td>\n",
              "      <td>388.50</td>\n",
              "      <td>404.49</td>\n",
              "      <td>382.10</td>\n",
              "      <td>1.23M</td>\n",
              "      <td>3.37%</td>\n",
              "    </tr>\n",
              "    <tr>\n",
              "      <th>...</th>\n",
              "      <td>...</td>\n",
              "      <td>...</td>\n",
              "      <td>...</td>\n",
              "      <td>...</td>\n",
              "      <td>...</td>\n",
              "      <td>...</td>\n",
              "      <td>...</td>\n",
              "    </tr>\n",
              "    <tr>\n",
              "      <th>1823</th>\n",
              "      <td>03/05/2019</td>\n",
              "      <td>13.65</td>\n",
              "      <td>11.40</td>\n",
              "      <td>13.74</td>\n",
              "      <td>11.40</td>\n",
              "      <td>8.34M</td>\n",
              "      <td>19.61%</td>\n",
              "    </tr>\n",
              "    <tr>\n",
              "      <th>1824</th>\n",
              "      <td>03/04/2019</td>\n",
              "      <td>11.41</td>\n",
              "      <td>11.45</td>\n",
              "      <td>11.51</td>\n",
              "      <td>10.88</td>\n",
              "      <td>2.74M</td>\n",
              "      <td>-0.29%</td>\n",
              "    </tr>\n",
              "    <tr>\n",
              "      <th>1825</th>\n",
              "      <td>03/03/2019</td>\n",
              "      <td>11.45</td>\n",
              "      <td>11.75</td>\n",
              "      <td>11.86</td>\n",
              "      <td>11.20</td>\n",
              "      <td>2.86M</td>\n",
              "      <td>-2.58%</td>\n",
              "    </tr>\n",
              "    <tr>\n",
              "      <th>1826</th>\n",
              "      <td>03/02/2019</td>\n",
              "      <td>11.75</td>\n",
              "      <td>11.35</td>\n",
              "      <td>11.80</td>\n",
              "      <td>10.83</td>\n",
              "      <td>3.89M</td>\n",
              "      <td>3.56%</td>\n",
              "    </tr>\n",
              "    <tr>\n",
              "      <th>1827</th>\n",
              "      <td>03/01/2019</td>\n",
              "      <td>11.35</td>\n",
              "      <td>10.27</td>\n",
              "      <td>11.55</td>\n",
              "      <td>10.24</td>\n",
              "      <td>4.02M</td>\n",
              "      <td>10.45%</td>\n",
              "    </tr>\n",
              "  </tbody>\n",
              "</table>\n",
              "<p>1828 rows × 7 columns</p>\n",
              "</div>"
            ],
            "text/plain": [
              "            Date   Price    Open    High     Low     Vol. Change %\n",
              "0     03/01/2024  407.30  399.10  408.48  399.00  595.45K    2.05%\n",
              "1     02/29/2024  399.10  414.62  419.38  391.24    1.16M   -3.74%\n",
              "2     02/28/2024  414.62  394.60  426.79  394.30    1.39M    5.02%\n",
              "3     02/27/2024  394.80  401.60  403.69  390.11  932.13K   -1.69%\n",
              "4     02/26/2024  401.60  388.50  404.49  382.10    1.23M    3.37%\n",
              "...          ...     ...     ...     ...     ...      ...      ...\n",
              "1823  03/05/2019   13.65   11.40   13.74   11.40    8.34M   19.61%\n",
              "1824  03/04/2019   11.41   11.45   11.51   10.88    2.74M   -0.29%\n",
              "1825  03/03/2019   11.45   11.75   11.86   11.20    2.86M   -2.58%\n",
              "1826  03/02/2019   11.75   11.35   11.80   10.83    3.89M    3.56%\n",
              "1827  03/01/2019   11.35   10.27   11.55   10.24    4.02M   10.45%\n",
              "\n",
              "[1828 rows x 7 columns]"
            ]
          },
          "execution_count": 20,
          "metadata": {},
          "output_type": "execute_result"
        }
      ],
      "source": [
        "bnb_df = pd.read_csv(\"./BNB-Historical-Data.csv\")\n",
        "bnb_df"
      ]
    },
    {
      "cell_type": "markdown",
      "metadata": {},
      "source": [
        "### Pre-processing Data"
      ]
    },
    {
      "cell_type": "code",
      "execution_count": 21,
      "metadata": {
        "colab": {
          "base_uri": "https://localhost:8080/"
        },
        "id": "tklPa70AQ59C",
        "outputId": "5ee4350e-7c40-45e4-af52-81fe9bcc972d"
      },
      "outputs": [
        {
          "name": "stdout",
          "output_type": "stream",
          "text": [
            "<class 'pandas.core.frame.DataFrame'>\n",
            "RangeIndex: 1828 entries, 0 to 1827\n",
            "Data columns (total 7 columns):\n",
            " #   Column    Non-Null Count  Dtype  \n",
            "---  ------    --------------  -----  \n",
            " 0   Date      1828 non-null   object \n",
            " 1   Price     1828 non-null   float64\n",
            " 2   Open      1828 non-null   float64\n",
            " 3   High      1828 non-null   float64\n",
            " 4   Low       1828 non-null   float64\n",
            " 5   Vol.      1828 non-null   object \n",
            " 6   Change %  1828 non-null   object \n",
            "dtypes: float64(4), object(3)\n",
            "memory usage: 100.1+ KB\n",
            "None\n"
          ]
        }
      ],
      "source": [
        "print(bnb_df.info())"
      ]
    },
    {
      "cell_type": "markdown",
      "metadata": {},
      "source": [
        "* Định dạng lại cột `Date` để nó trở thành dạng `datetime`\n",
        "* Xử lý và chuyển đổi kiểu dữ liệu của cột `Vol.` và `Change %` thành kiểu float"
      ]
    },
    {
      "cell_type": "code",
      "execution_count": 22,
      "metadata": {
        "colab": {
          "base_uri": "https://localhost:8080/",
          "height": 423
        },
        "id": "O0MjflxYcm_r",
        "outputId": "b9054be4-7906-45b7-c360-de98e7921a45"
      },
      "outputs": [
        {
          "data": {
            "text/html": [
              "<div>\n",
              "<style scoped>\n",
              "    .dataframe tbody tr th:only-of-type {\n",
              "        vertical-align: middle;\n",
              "    }\n",
              "\n",
              "    .dataframe tbody tr th {\n",
              "        vertical-align: top;\n",
              "    }\n",
              "\n",
              "    .dataframe thead th {\n",
              "        text-align: right;\n",
              "    }\n",
              "</style>\n",
              "<table border=\"1\" class=\"dataframe\">\n",
              "  <thead>\n",
              "    <tr style=\"text-align: right;\">\n",
              "      <th></th>\n",
              "      <th>Date</th>\n",
              "      <th>Price</th>\n",
              "      <th>Open</th>\n",
              "      <th>High</th>\n",
              "      <th>Low</th>\n",
              "      <th>Vol.</th>\n",
              "      <th>Change %</th>\n",
              "    </tr>\n",
              "  </thead>\n",
              "  <tbody>\n",
              "    <tr>\n",
              "      <th>0</th>\n",
              "      <td>2024-03-01</td>\n",
              "      <td>407.30</td>\n",
              "      <td>399.10</td>\n",
              "      <td>408.48</td>\n",
              "      <td>399.00</td>\n",
              "      <td>595450.0</td>\n",
              "      <td>2.05</td>\n",
              "    </tr>\n",
              "    <tr>\n",
              "      <th>1</th>\n",
              "      <td>2024-02-29</td>\n",
              "      <td>399.10</td>\n",
              "      <td>414.62</td>\n",
              "      <td>419.38</td>\n",
              "      <td>391.24</td>\n",
              "      <td>1160000.0</td>\n",
              "      <td>-3.74</td>\n",
              "    </tr>\n",
              "    <tr>\n",
              "      <th>2</th>\n",
              "      <td>2024-02-28</td>\n",
              "      <td>414.62</td>\n",
              "      <td>394.60</td>\n",
              "      <td>426.79</td>\n",
              "      <td>394.30</td>\n",
              "      <td>1390000.0</td>\n",
              "      <td>5.02</td>\n",
              "    </tr>\n",
              "    <tr>\n",
              "      <th>3</th>\n",
              "      <td>2024-02-27</td>\n",
              "      <td>394.80</td>\n",
              "      <td>401.60</td>\n",
              "      <td>403.69</td>\n",
              "      <td>390.11</td>\n",
              "      <td>932130.0</td>\n",
              "      <td>-1.69</td>\n",
              "    </tr>\n",
              "    <tr>\n",
              "      <th>4</th>\n",
              "      <td>2024-02-26</td>\n",
              "      <td>401.60</td>\n",
              "      <td>388.50</td>\n",
              "      <td>404.49</td>\n",
              "      <td>382.10</td>\n",
              "      <td>1230000.0</td>\n",
              "      <td>3.37</td>\n",
              "    </tr>\n",
              "    <tr>\n",
              "      <th>...</th>\n",
              "      <td>...</td>\n",
              "      <td>...</td>\n",
              "      <td>...</td>\n",
              "      <td>...</td>\n",
              "      <td>...</td>\n",
              "      <td>...</td>\n",
              "      <td>...</td>\n",
              "    </tr>\n",
              "    <tr>\n",
              "      <th>1823</th>\n",
              "      <td>2019-03-05</td>\n",
              "      <td>13.65</td>\n",
              "      <td>11.40</td>\n",
              "      <td>13.74</td>\n",
              "      <td>11.40</td>\n",
              "      <td>8340000.0</td>\n",
              "      <td>19.61</td>\n",
              "    </tr>\n",
              "    <tr>\n",
              "      <th>1824</th>\n",
              "      <td>2019-03-04</td>\n",
              "      <td>11.41</td>\n",
              "      <td>11.45</td>\n",
              "      <td>11.51</td>\n",
              "      <td>10.88</td>\n",
              "      <td>2740000.0</td>\n",
              "      <td>-0.29</td>\n",
              "    </tr>\n",
              "    <tr>\n",
              "      <th>1825</th>\n",
              "      <td>2019-03-03</td>\n",
              "      <td>11.45</td>\n",
              "      <td>11.75</td>\n",
              "      <td>11.86</td>\n",
              "      <td>11.20</td>\n",
              "      <td>2860000.0</td>\n",
              "      <td>-2.58</td>\n",
              "    </tr>\n",
              "    <tr>\n",
              "      <th>1826</th>\n",
              "      <td>2019-03-02</td>\n",
              "      <td>11.75</td>\n",
              "      <td>11.35</td>\n",
              "      <td>11.80</td>\n",
              "      <td>10.83</td>\n",
              "      <td>3890000.0</td>\n",
              "      <td>3.56</td>\n",
              "    </tr>\n",
              "    <tr>\n",
              "      <th>1827</th>\n",
              "      <td>2019-03-01</td>\n",
              "      <td>11.35</td>\n",
              "      <td>10.27</td>\n",
              "      <td>11.55</td>\n",
              "      <td>10.24</td>\n",
              "      <td>4020000.0</td>\n",
              "      <td>10.45</td>\n",
              "    </tr>\n",
              "  </tbody>\n",
              "</table>\n",
              "<p>1828 rows × 7 columns</p>\n",
              "</div>"
            ],
            "text/plain": [
              "           Date   Price    Open    High     Low       Vol.  Change %\n",
              "0    2024-03-01  407.30  399.10  408.48  399.00   595450.0      2.05\n",
              "1    2024-02-29  399.10  414.62  419.38  391.24  1160000.0     -3.74\n",
              "2    2024-02-28  414.62  394.60  426.79  394.30  1390000.0      5.02\n",
              "3    2024-02-27  394.80  401.60  403.69  390.11   932130.0     -1.69\n",
              "4    2024-02-26  401.60  388.50  404.49  382.10  1230000.0      3.37\n",
              "...         ...     ...     ...     ...     ...        ...       ...\n",
              "1823 2019-03-05   13.65   11.40   13.74   11.40  8340000.0     19.61\n",
              "1824 2019-03-04   11.41   11.45   11.51   10.88  2740000.0     -0.29\n",
              "1825 2019-03-03   11.45   11.75   11.86   11.20  2860000.0     -2.58\n",
              "1826 2019-03-02   11.75   11.35   11.80   10.83  3890000.0      3.56\n",
              "1827 2019-03-01   11.35   10.27   11.55   10.24  4020000.0     10.45\n",
              "\n",
              "[1828 rows x 7 columns]"
            ]
          },
          "execution_count": 22,
          "metadata": {},
          "output_type": "execute_result"
        }
      ],
      "source": [
        "bnb_df['Date'] = pd.to_datetime(bnb_df['Date'])\n",
        "bnb_df['Vol.'] = bnb_df['Vol.'].str.replace('M', 'e6').str.replace('K', 'e3').fillna('0')\n",
        "bnb_df['Vol.'] = bnb_df['Vol.'].astype(float)\n",
        "bnb_df['Change %'] = bnb_df['Change %'].str.replace('%', '').astype(float)\n",
        "bnb_df"
      ]
    },
    {
      "cell_type": "code",
      "execution_count": 23,
      "metadata": {},
      "outputs": [
        {
          "name": "stdout",
          "output_type": "stream",
          "text": [
            "Missing values:\n",
            " Date        0\n",
            "Price       0\n",
            "Open        0\n",
            "High        0\n",
            "Low         0\n",
            "Vol.        0\n",
            "Change %    0\n",
            "dtype: int64\n"
          ]
        }
      ],
      "source": [
        "# Kiểm tra các giá trị thiếu\n",
        "missing_values = bnb_df.isnull().sum()\n",
        "print(\"Missing values:\\n\", missing_values)"
      ]
    },
    {
      "cell_type": "code",
      "execution_count": 24,
      "metadata": {
        "colab": {
          "base_uri": "https://localhost:8080/"
        },
        "id": "ZenIuWtokUbQ",
        "outputId": "4f3d09c9-7cad-441a-e8b0-df454571afdc"
      },
      "outputs": [
        {
          "name": "stdout",
          "output_type": "stream",
          "text": [
            "<class 'pandas.core.frame.DataFrame'>\n",
            "RangeIndex: 1828 entries, 0 to 1827\n",
            "Data columns (total 7 columns):\n",
            " #   Column    Non-Null Count  Dtype         \n",
            "---  ------    --------------  -----         \n",
            " 0   Date      1828 non-null   datetime64[ns]\n",
            " 1   Price     1828 non-null   float64       \n",
            " 2   Open      1828 non-null   float64       \n",
            " 3   High      1828 non-null   float64       \n",
            " 4   Low       1828 non-null   float64       \n",
            " 5   Vol.      1828 non-null   float64       \n",
            " 6   Change %  1828 non-null   float64       \n",
            "dtypes: datetime64[ns](1), float64(6)\n",
            "memory usage: 100.1 KB\n",
            "None\n"
          ]
        }
      ],
      "source": [
        "print(bnb_df.info())"
      ]
    },
    {
      "cell_type": "code",
      "execution_count": 25,
      "metadata": {
        "colab": {
          "base_uri": "https://localhost:8080/",
          "height": 300
        },
        "id": "q_PgD6hTTrbJ",
        "outputId": "f69b6fa4-bb12-48ec-bf28-af6895f33549"
      },
      "outputs": [
        {
          "data": {
            "text/html": [
              "<div>\n",
              "<style scoped>\n",
              "    .dataframe tbody tr th:only-of-type {\n",
              "        vertical-align: middle;\n",
              "    }\n",
              "\n",
              "    .dataframe tbody tr th {\n",
              "        vertical-align: top;\n",
              "    }\n",
              "\n",
              "    .dataframe thead th {\n",
              "        text-align: right;\n",
              "    }\n",
              "</style>\n",
              "<table border=\"1\" class=\"dataframe\">\n",
              "  <thead>\n",
              "    <tr style=\"text-align: right;\">\n",
              "      <th></th>\n",
              "      <th>Date</th>\n",
              "      <th>Price</th>\n",
              "      <th>Open</th>\n",
              "      <th>High</th>\n",
              "      <th>Low</th>\n",
              "      <th>Vol.</th>\n",
              "      <th>Change %</th>\n",
              "    </tr>\n",
              "  </thead>\n",
              "  <tbody>\n",
              "    <tr>\n",
              "      <th>count</th>\n",
              "      <td>1828</td>\n",
              "      <td>1828.000000</td>\n",
              "      <td>1828.000000</td>\n",
              "      <td>1828.000000</td>\n",
              "      <td>1828.000000</td>\n",
              "      <td>1.828000e+03</td>\n",
              "      <td>1828.000000</td>\n",
              "    </tr>\n",
              "    <tr>\n",
              "      <th>mean</th>\n",
              "      <td>2021-08-30 12:00:00</td>\n",
              "      <td>212.445596</td>\n",
              "      <td>212.229464</td>\n",
              "      <td>218.417686</td>\n",
              "      <td>205.638523</td>\n",
              "      <td>4.493625e+06</td>\n",
              "      <td>0.321089</td>\n",
              "    </tr>\n",
              "    <tr>\n",
              "      <th>min</th>\n",
              "      <td>2019-03-01 00:00:00</td>\n",
              "      <td>9.250000</td>\n",
              "      <td>9.250000</td>\n",
              "      <td>10.410000</td>\n",
              "      <td>6.500000</td>\n",
              "      <td>8.993000e+04</td>\n",
              "      <td>-44.080000</td>\n",
              "    </tr>\n",
              "    <tr>\n",
              "      <th>25%</th>\n",
              "      <td>2020-05-30 18:00:00</td>\n",
              "      <td>25.335000</td>\n",
              "      <td>25.120000</td>\n",
              "      <td>26.377500</td>\n",
              "      <td>23.787500</td>\n",
              "      <td>5.846825e+05</td>\n",
              "      <td>-1.620000</td>\n",
              "    </tr>\n",
              "    <tr>\n",
              "      <th>50%</th>\n",
              "      <td>2021-08-30 12:00:00</td>\n",
              "      <td>242.400000</td>\n",
              "      <td>242.350000</td>\n",
              "      <td>246.650000</td>\n",
              "      <td>238.400000</td>\n",
              "      <td>1.790000e+06</td>\n",
              "      <td>0.130000</td>\n",
              "    </tr>\n",
              "    <tr>\n",
              "      <th>75%</th>\n",
              "      <td>2022-11-30 06:00:00</td>\n",
              "      <td>318.915000</td>\n",
              "      <td>318.665000</td>\n",
              "      <td>326.797500</td>\n",
              "      <td>310.840000</td>\n",
              "      <td>3.882500e+06</td>\n",
              "      <td>2.165000</td>\n",
              "    </tr>\n",
              "    <tr>\n",
              "      <th>max</th>\n",
              "      <td>2024-03-01 00:00:00</td>\n",
              "      <td>676.560000</td>\n",
              "      <td>676.250000</td>\n",
              "      <td>690.870000</td>\n",
              "      <td>634.810000</td>\n",
              "      <td>3.995400e+08</td>\n",
              "      <td>69.990000</td>\n",
              "    </tr>\n",
              "    <tr>\n",
              "      <th>std</th>\n",
              "      <td>NaN</td>\n",
              "      <td>171.767307</td>\n",
              "      <td>171.770377</td>\n",
              "      <td>177.110869</td>\n",
              "      <td>165.879731</td>\n",
              "      <td>2.187309e+07</td>\n",
              "      <td>4.942616</td>\n",
              "    </tr>\n",
              "  </tbody>\n",
              "</table>\n",
              "</div>"
            ],
            "text/plain": [
              "                      Date        Price         Open         High  \\\n",
              "count                 1828  1828.000000  1828.000000  1828.000000   \n",
              "mean   2021-08-30 12:00:00   212.445596   212.229464   218.417686   \n",
              "min    2019-03-01 00:00:00     9.250000     9.250000    10.410000   \n",
              "25%    2020-05-30 18:00:00    25.335000    25.120000    26.377500   \n",
              "50%    2021-08-30 12:00:00   242.400000   242.350000   246.650000   \n",
              "75%    2022-11-30 06:00:00   318.915000   318.665000   326.797500   \n",
              "max    2024-03-01 00:00:00   676.560000   676.250000   690.870000   \n",
              "std                    NaN   171.767307   171.770377   177.110869   \n",
              "\n",
              "               Low          Vol.     Change %  \n",
              "count  1828.000000  1.828000e+03  1828.000000  \n",
              "mean    205.638523  4.493625e+06     0.321089  \n",
              "min       6.500000  8.993000e+04   -44.080000  \n",
              "25%      23.787500  5.846825e+05    -1.620000  \n",
              "50%     238.400000  1.790000e+06     0.130000  \n",
              "75%     310.840000  3.882500e+06     2.165000  \n",
              "max     634.810000  3.995400e+08    69.990000  \n",
              "std     165.879731  2.187309e+07     4.942616  "
            ]
          },
          "execution_count": 25,
          "metadata": {},
          "output_type": "execute_result"
        }
      ],
      "source": [
        "# Mô tả dataset\n",
        "sol_description = bnb_df.describe()\n",
        "sol_description"
      ]
    },
    {
      "cell_type": "code",
      "execution_count": 26,
      "metadata": {},
      "outputs": [
        {
          "name": "stdout",
          "output_type": "stream",
          "text": [
            "More Price Statistics:\n",
            "Mode: 23.01\n",
            "Standard Deviation: 171.76730702873175\n",
            "Variance: 29504.0077639026\n",
            "Kurtosis: -0.8430090309802813\n",
            "Skewness: 0.3182824011710101\n"
          ]
        }
      ],
      "source": [
        "# Descriptive statistics for Price\n",
        "print('More Price Statistics:')\n",
        "\n",
        "print('Mode:', bnb_df['Price'].mode().values[0])\n",
        "print('Standard Deviation:', bnb_df['Price'].std())\n",
        "print('Variance:', bnb_df['Price'].var())\n",
        "print('Kurtosis:', bnb_df['Price'].kurt())\n",
        "print('Skewness:', bnb_df['Price'].skew())"
      ]
    },
    {
      "cell_type": "markdown",
      "metadata": {},
      "source": [
        "##### Price by Date Plot"
      ]
    },
    {
      "cell_type": "code",
      "execution_count": 27,
      "metadata": {},
      "outputs": [
        {
          "data": {
            "image/png": "[encoded data removed]",
            "text/plain": [
              "<Figure size 1200x600 with 1 Axes>"
            ]
          },
          "metadata": {},
          "output_type": "display_data"
        }
      ],
      "source": [
        "plt.figure(figsize=(12, 6))\n",
        "plt.plot(bnb_df['Date'], bnb_df['Price'], label='Price', color='b')\n",
        "plt.xlabel('Date')\n",
        "plt.ylabel('Price')\n",
        "plt.title('Historical BNB Price from 1/3/2019 to 1/3/2024')\n",
        "plt.legend()\n",
        "plt.grid(True)\n",
        "plt.show()\n"
      ]
    },
    {
      "cell_type": "markdown",
      "metadata": {},
      "source": [
        "##### Boxplot for Price"
      ]
    },
    {
      "cell_type": "code",
      "execution_count": 28,
      "metadata": {},
      "outputs": [
        {
          "data": {
            "image/png": "[encoded data removed]",
            "text/plain": [
              "<Figure size 1200x600 with 1 Axes>"
            ]
          },
          "metadata": {},
          "output_type": "display_data"
        }
      ],
      "source": [
        "plt.figure(figsize=(12, 6))\n",
        "plt.boxplot(bnb_df['Price'])\n",
        "plt.grid()\n",
        "plt.show()"
      ]
    },
    {
      "cell_type": "markdown",
      "metadata": {},
      "source": [
        "### Model Training"
      ]
    },
    {
      "cell_type": "markdown",
      "metadata": {},
      "source": [
        "##### Linear Regression"
      ]
    },
    {
      "cell_type": "code",
      "execution_count": 29,
      "metadata": {},
      "outputs": [],
      "source": [
        "# Define features\n",
        "features = ['Open', 'High', 'Low', 'Vol.', 'Change %']\n",
        "\n",
        "# Define the target variable\n",
        "target = 'Price'"
      ]
    },
    {
      "cell_type": "code",
      "execution_count": 30,
      "metadata": {},
      "outputs": [
        {
          "name": "stdout",
          "output_type": "stream",
          "text": [
            "Training data count: 1462\n",
            "Testing data count: 366\n"
          ]
        }
      ],
      "source": [
        "# Split the data into training and testing sets\n",
        "X = bnb_df[features]\n",
        "y = bnb_df[target]\n",
        "X_train, X_test, y_train, y_test = train_test_split(X, y, test_size=0.2, random_state=42, shuffle=False)\n",
        "\n",
        "print(f\"Training data count: {X_train.shape[0]}\")\n",
        "print(f\"Testing data count: {X_test.shape[0]}\")"
      ]
    },
    {
      "cell_type": "code",
      "execution_count": 31,
      "metadata": {},
      "outputs": [
        {
          "name": "stdout",
          "output_type": "stream",
          "text": [
            "Mean Squared Error: 9.292147418769089\n",
            "R^2 Score: 0.7808297489095943\n"
          ]
        }
      ],
      "source": [
        "# Initialize and train the Linear Regression model\n",
        "model = LinearRegression()\n",
        "model.fit(X_train, y_train)\n",
        "\n",
        "# Make predictions on the test set\n",
        "y_pred = model.predict(X_test)\n",
        "\n",
        "# Evaluate the model\n",
        "mse = mean_squared_error(y_test, y_pred)\n",
        "r2 = r2_score(y_test, y_pred)\n",
        "\n",
        "print(f\"Mean Squared Error: {mse}\")\n",
        "print(f\"R^2 Score: {r2}\")\n"
      ]
    }
  ],
  "metadata": {
    "colab": {
      "provenance": []
    },
    "kernelspec": {
      "display_name": "Python 3",
      "name": "python3"
    },
    "language_info": {
      "codemirror_mode": {
        "name": "ipython",
        "version": 3
      },
      "file_extension": ".py",
      "mimetype": "text/x-python",
      "name": "python",
      "nbconvert_exporter": "python",
      "pygments_lexer": "ipython3",
      "version": "3.12.3"
    }
  },
  "nbformat": 4,
  "nbformat_minor": 0
}
