{
  "cells": [
    {
      "cell_type": "code",
      "execution_count": 1,
      "metadata": {
        "id": "Eu3KY5sHa1Wn"
      },
      "outputs": [],
      "source": [
        "import pandas as pd\n",
        "import numpy as np\n",
        "import statistics as st\n",
        "from scipy.stats import mode, skew, kurtosis\n",
        "import matplotlib.pyplot as plt\n",
        "import seaborn as sns\n",
        "from sklearn.model_selection import train_test_split\n",
        "from sklearn.preprocessing import StandardScaler\n",
        "from sklearn.linear_model import LinearRegression\n",
        "from sklearn.metrics import mean_squared_error, r2_score"
      ]
    },
    {
      "cell_type": "code",
      "execution_count": 2,
      "metadata": {
        "colab": {
          "base_uri": "https://localhost:8080/",
          "height": 423
        },
        "id": "g5HJMQN4bRTx",
        "outputId": "f3b4a70a-328c-429f-fc23-0aa9714472b6"
      },
      "outputs": [
        {
          "data": {
            "text/html": [
              "<div>\n",
              "<style scoped>\n",
              "    .dataframe tbody tr th:only-of-type {\n",
              "        vertical-align: middle;\n",
              "    }\n",
              "\n",
              "    .dataframe tbody tr th {\n",
              "        vertical-align: top;\n",
              "    }\n",
              "\n",
              "    .dataframe thead th {\n",
              "        text-align: right;\n",
              "    }\n",
              "</style>\n",
              "<table border=\"1\" class=\"dataframe\">\n",
              "  <thead>\n",
              "    <tr style=\"text-align: right;\">\n",
              "      <th></th>\n",
              "      <th>Date</th>\n",
              "      <th>Price</th>\n",
              "      <th>Open</th>\n",
              "      <th>High</th>\n",
              "      <th>Low</th>\n",
              "      <th>Vol.</th>\n",
              "      <th>Change %</th>\n",
              "    </tr>\n",
              "  </thead>\n",
              "  <tbody>\n",
              "    <tr>\n",
              "      <th>0</th>\n",
              "      <td>06/01/2024</td>\n",
              "      <td>601.80</td>\n",
              "      <td>593.80</td>\n",
              "      <td>608.19</td>\n",
              "      <td>593.20</td>\n",
              "      <td>161.02K</td>\n",
              "      <td>1.35%</td>\n",
              "    </tr>\n",
              "    <tr>\n",
              "      <th>1</th>\n",
              "      <td>05/31/2024</td>\n",
              "      <td>593.80</td>\n",
              "      <td>594.99</td>\n",
              "      <td>598.89</td>\n",
              "      <td>590.10</td>\n",
              "      <td>175.98K</td>\n",
              "      <td>-0.20%</td>\n",
              "    </tr>\n",
              "    <tr>\n",
              "      <th>2</th>\n",
              "      <td>05/30/2024</td>\n",
              "      <td>594.99</td>\n",
              "      <td>595.69</td>\n",
              "      <td>601.80</td>\n",
              "      <td>586.60</td>\n",
              "      <td>233.89K</td>\n",
              "      <td>-0.10%</td>\n",
              "    </tr>\n",
              "    <tr>\n",
              "      <th>3</th>\n",
              "      <td>05/29/2024</td>\n",
              "      <td>595.59</td>\n",
              "      <td>601.69</td>\n",
              "      <td>603.59</td>\n",
              "      <td>593.29</td>\n",
              "      <td>219.96K</td>\n",
              "      <td>-1.01%</td>\n",
              "    </tr>\n",
              "    <tr>\n",
              "      <th>4</th>\n",
              "      <td>05/28/2024</td>\n",
              "      <td>601.69</td>\n",
              "      <td>603.80</td>\n",
              "      <td>605.48</td>\n",
              "      <td>594.29</td>\n",
              "      <td>294.76K</td>\n",
              "      <td>-0.35%</td>\n",
              "    </tr>\n",
              "    <tr>\n",
              "      <th>...</th>\n",
              "      <td>...</td>\n",
              "      <td>...</td>\n",
              "      <td>...</td>\n",
              "      <td>...</td>\n",
              "      <td>...</td>\n",
              "      <td>...</td>\n",
              "      <td>...</td>\n",
              "    </tr>\n",
              "    <tr>\n",
              "      <th>1915</th>\n",
              "      <td>03/05/2019</td>\n",
              "      <td>13.65</td>\n",
              "      <td>11.40</td>\n",
              "      <td>13.74</td>\n",
              "      <td>11.40</td>\n",
              "      <td>8.34M</td>\n",
              "      <td>19.61%</td>\n",
              "    </tr>\n",
              "    <tr>\n",
              "      <th>1916</th>\n",
              "      <td>03/04/2019</td>\n",
              "      <td>11.41</td>\n",
              "      <td>11.45</td>\n",
              "      <td>11.51</td>\n",
              "      <td>10.88</td>\n",
              "      <td>2.74M</td>\n",
              "      <td>-0.29%</td>\n",
              "    </tr>\n",
              "    <tr>\n",
              "      <th>1917</th>\n",
              "      <td>03/03/2019</td>\n",
              "      <td>11.45</td>\n",
              "      <td>11.75</td>\n",
              "      <td>11.86</td>\n",
              "      <td>11.20</td>\n",
              "      <td>2.86M</td>\n",
              "      <td>-2.58%</td>\n",
              "    </tr>\n",
              "    <tr>\n",
              "      <th>1918</th>\n",
              "      <td>03/02/2019</td>\n",
              "      <td>11.75</td>\n",
              "      <td>11.35</td>\n",
              "      <td>11.80</td>\n",
              "      <td>10.83</td>\n",
              "      <td>3.89M</td>\n",
              "      <td>3.56%</td>\n",
              "    </tr>\n",
              "    <tr>\n",
              "      <th>1919</th>\n",
              "      <td>03/01/2019</td>\n",
              "      <td>11.35</td>\n",
              "      <td>10.27</td>\n",
              "      <td>11.55</td>\n",
              "      <td>10.24</td>\n",
              "      <td>4.02M</td>\n",
              "      <td>10.45%</td>\n",
              "    </tr>\n",
              "  </tbody>\n",
              "</table>\n",
              "<p>1920 rows × 7 columns</p>\n",
              "</div>"
            ],
            "text/plain": [
              "            Date   Price    Open    High     Low     Vol. Change %\n",
              "0     06/01/2024  601.80  593.80  608.19  593.20  161.02K    1.35%\n",
              "1     05/31/2024  593.80  594.99  598.89  590.10  175.98K   -0.20%\n",
              "2     05/30/2024  594.99  595.69  601.80  586.60  233.89K   -0.10%\n",
              "3     05/29/2024  595.59  601.69  603.59  593.29  219.96K   -1.01%\n",
              "4     05/28/2024  601.69  603.80  605.48  594.29  294.76K   -0.35%\n",
              "...          ...     ...     ...     ...     ...      ...      ...\n",
              "1915  03/05/2019   13.65   11.40   13.74   11.40    8.34M   19.61%\n",
              "1916  03/04/2019   11.41   11.45   11.51   10.88    2.74M   -0.29%\n",
              "1917  03/03/2019   11.45   11.75   11.86   11.20    2.86M   -2.58%\n",
              "1918  03/02/2019   11.75   11.35   11.80   10.83    3.89M    3.56%\n",
              "1919  03/01/2019   11.35   10.27   11.55   10.24    4.02M   10.45%\n",
              "\n",
              "[1920 rows x 7 columns]"
            ]
          },
          "execution_count": 2,
          "metadata": {},
          "output_type": "execute_result"
        }
      ],
      "source": [
        "bnb_df = pd.read_csv(\"./BNB Historical Data.csv\")\n",
        "bnb_df"
      ]
    },
    {
      "cell_type": "markdown",
      "metadata": {},
      "source": [
        "### Pre-processing Data"
      ]
    },
    {
      "cell_type": "code",
      "execution_count": 3,
      "metadata": {
        "colab": {
          "base_uri": "https://localhost:8080/"
        },
        "id": "tklPa70AQ59C",
        "outputId": "5ee4350e-7c40-45e4-af52-81fe9bcc972d"
      },
      "outputs": [
        {
          "name": "stdout",
          "output_type": "stream",
          "text": [
            "<class 'pandas.core.frame.DataFrame'>\n",
            "RangeIndex: 1920 entries, 0 to 1919\n",
            "Data columns (total 7 columns):\n",
            " #   Column    Non-Null Count  Dtype  \n",
            "---  ------    --------------  -----  \n",
            " 0   Date      1920 non-null   object \n",
            " 1   Price     1920 non-null   float64\n",
            " 2   Open      1920 non-null   float64\n",
            " 3   High      1920 non-null   float64\n",
            " 4   Low       1920 non-null   float64\n",
            " 5   Vol.      1920 non-null   object \n",
            " 6   Change %  1920 non-null   object \n",
            "dtypes: float64(4), object(3)\n",
            "memory usage: 105.1+ KB\n",
            "None\n"
          ]
        }
      ],
      "source": [
        "print(bnb_df.info())"
      ]
    },
    {
      "cell_type": "markdown",
      "metadata": {},
      "source": [
        "* Định dạng lại cột `Date` để nó trở thành dạng `datetime`\n",
        "* Xử lý và chuyển đổi kiểu dữ liệu của cột `Vol.` và `Change %` thành kiểu float"
      ]
    },
    {
      "cell_type": "code",
      "execution_count": 4,
      "metadata": {
        "colab": {
          "base_uri": "https://localhost:8080/",
          "height": 423
        },
        "id": "O0MjflxYcm_r",
        "outputId": "b9054be4-7906-45b7-c360-de98e7921a45"
      },
      "outputs": [
        {
          "data": {
            "text/html": [
              "<div>\n",
              "<style scoped>\n",
              "    .dataframe tbody tr th:only-of-type {\n",
              "        vertical-align: middle;\n",
              "    }\n",
              "\n",
              "    .dataframe tbody tr th {\n",
              "        vertical-align: top;\n",
              "    }\n",
              "\n",
              "    .dataframe thead th {\n",
              "        text-align: right;\n",
              "    }\n",
              "</style>\n",
              "<table border=\"1\" class=\"dataframe\">\n",
              "  <thead>\n",
              "    <tr style=\"text-align: right;\">\n",
              "      <th></th>\n",
              "      <th>Date</th>\n",
              "      <th>Price</th>\n",
              "      <th>Open</th>\n",
              "      <th>High</th>\n",
              "      <th>Low</th>\n",
              "      <th>Vol.</th>\n",
              "      <th>Change %</th>\n",
              "    </tr>\n",
              "  </thead>\n",
              "  <tbody>\n",
              "    <tr>\n",
              "      <th>0</th>\n",
              "      <td>2024-06-01</td>\n",
              "      <td>601.80</td>\n",
              "      <td>593.80</td>\n",
              "      <td>608.19</td>\n",
              "      <td>593.20</td>\n",
              "      <td>161020.0</td>\n",
              "      <td>1.35</td>\n",
              "    </tr>\n",
              "    <tr>\n",
              "      <th>1</th>\n",
              "      <td>2024-05-31</td>\n",
              "      <td>593.80</td>\n",
              "      <td>594.99</td>\n",
              "      <td>598.89</td>\n",
              "      <td>590.10</td>\n",
              "      <td>175980.0</td>\n",
              "      <td>-0.20</td>\n",
              "    </tr>\n",
              "    <tr>\n",
              "      <th>2</th>\n",
              "      <td>2024-05-30</td>\n",
              "      <td>594.99</td>\n",
              "      <td>595.69</td>\n",
              "      <td>601.80</td>\n",
              "      <td>586.60</td>\n",
              "      <td>233890.0</td>\n",
              "      <td>-0.10</td>\n",
              "    </tr>\n",
              "    <tr>\n",
              "      <th>3</th>\n",
              "      <td>2024-05-29</td>\n",
              "      <td>595.59</td>\n",
              "      <td>601.69</td>\n",
              "      <td>603.59</td>\n",
              "      <td>593.29</td>\n",
              "      <td>219960.0</td>\n",
              "      <td>-1.01</td>\n",
              "    </tr>\n",
              "    <tr>\n",
              "      <th>4</th>\n",
              "      <td>2024-05-28</td>\n",
              "      <td>601.69</td>\n",
              "      <td>603.80</td>\n",
              "      <td>605.48</td>\n",
              "      <td>594.29</td>\n",
              "      <td>294760.0</td>\n",
              "      <td>-0.35</td>\n",
              "    </tr>\n",
              "    <tr>\n",
              "      <th>...</th>\n",
              "      <td>...</td>\n",
              "      <td>...</td>\n",
              "      <td>...</td>\n",
              "      <td>...</td>\n",
              "      <td>...</td>\n",
              "      <td>...</td>\n",
              "      <td>...</td>\n",
              "    </tr>\n",
              "    <tr>\n",
              "      <th>1915</th>\n",
              "      <td>2019-03-05</td>\n",
              "      <td>13.65</td>\n",
              "      <td>11.40</td>\n",
              "      <td>13.74</td>\n",
              "      <td>11.40</td>\n",
              "      <td>8340000.0</td>\n",
              "      <td>19.61</td>\n",
              "    </tr>\n",
              "    <tr>\n",
              "      <th>1916</th>\n",
              "      <td>2019-03-04</td>\n",
              "      <td>11.41</td>\n",
              "      <td>11.45</td>\n",
              "      <td>11.51</td>\n",
              "      <td>10.88</td>\n",
              "      <td>2740000.0</td>\n",
              "      <td>-0.29</td>\n",
              "    </tr>\n",
              "    <tr>\n",
              "      <th>1917</th>\n",
              "      <td>2019-03-03</td>\n",
              "      <td>11.45</td>\n",
              "      <td>11.75</td>\n",
              "      <td>11.86</td>\n",
              "      <td>11.20</td>\n",
              "      <td>2860000.0</td>\n",
              "      <td>-2.58</td>\n",
              "    </tr>\n",
              "    <tr>\n",
              "      <th>1918</th>\n",
              "      <td>2019-03-02</td>\n",
              "      <td>11.75</td>\n",
              "      <td>11.35</td>\n",
              "      <td>11.80</td>\n",
              "      <td>10.83</td>\n",
              "      <td>3890000.0</td>\n",
              "      <td>3.56</td>\n",
              "    </tr>\n",
              "    <tr>\n",
              "      <th>1919</th>\n",
              "      <td>2019-03-01</td>\n",
              "      <td>11.35</td>\n",
              "      <td>10.27</td>\n",
              "      <td>11.55</td>\n",
              "      <td>10.24</td>\n",
              "      <td>4020000.0</td>\n",
              "      <td>10.45</td>\n",
              "    </tr>\n",
              "  </tbody>\n",
              "</table>\n",
              "<p>1920 rows × 7 columns</p>\n",
              "</div>"
            ],
            "text/plain": [
              "           Date   Price    Open    High     Low       Vol.  Change %\n",
              "0    2024-06-01  601.80  593.80  608.19  593.20   161020.0      1.35\n",
              "1    2024-05-31  593.80  594.99  598.89  590.10   175980.0     -0.20\n",
              "2    2024-05-30  594.99  595.69  601.80  586.60   233890.0     -0.10\n",
              "3    2024-05-29  595.59  601.69  603.59  593.29   219960.0     -1.01\n",
              "4    2024-05-28  601.69  603.80  605.48  594.29   294760.0     -0.35\n",
              "...         ...     ...     ...     ...     ...        ...       ...\n",
              "1915 2019-03-05   13.65   11.40   13.74   11.40  8340000.0     19.61\n",
              "1916 2019-03-04   11.41   11.45   11.51   10.88  2740000.0     -0.29\n",
              "1917 2019-03-03   11.45   11.75   11.86   11.20  2860000.0     -2.58\n",
              "1918 2019-03-02   11.75   11.35   11.80   10.83  3890000.0      3.56\n",
              "1919 2019-03-01   11.35   10.27   11.55   10.24  4020000.0     10.45\n",
              "\n",
              "[1920 rows x 7 columns]"
            ]
          },
          "execution_count": 4,
          "metadata": {},
          "output_type": "execute_result"
        }
      ],
      "source": [
        "bnb_df['Date'] = pd.to_datetime(bnb_df['Date'])\n",
        "bnb_df['Vol.'] = bnb_df['Vol.'].str.replace('M', 'e6').str.replace('K', 'e3').fillna('0')\n",
        "bnb_df['Vol.'] = bnb_df['Vol.'].astype(float)\n",
        "bnb_df['Change %'] = bnb_df['Change %'].str.replace('%', '').astype(float)\n",
        "bnb_df"
      ]
    },
    {
      "cell_type": "code",
      "execution_count": 5,
      "metadata": {},
      "outputs": [
        {
          "name": "stdout",
          "output_type": "stream",
          "text": [
            "Missing values:\n",
            " Date        0\n",
            "Price       0\n",
            "Open        0\n",
            "High        0\n",
            "Low         0\n",
            "Vol.        0\n",
            "Change %    0\n",
            "dtype: int64\n"
          ]
        }
      ],
      "source": [
        "# Kiểm tra các giá trị thiếu\n",
        "missing_values = bnb_df.isnull().sum()\n",
        "print(\"Missing values:\\n\", missing_values)"
      ]
    },
    {
      "cell_type": "code",
      "execution_count": 6,
      "metadata": {
        "colab": {
          "base_uri": "https://localhost:8080/"
        },
        "id": "ZenIuWtokUbQ",
        "outputId": "4f3d09c9-7cad-441a-e8b0-df454571afdc"
      },
      "outputs": [
        {
          "name": "stdout",
          "output_type": "stream",
          "text": [
            "<class 'pandas.core.frame.DataFrame'>\n",
            "RangeIndex: 1920 entries, 0 to 1919\n",
            "Data columns (total 7 columns):\n",
            " #   Column    Non-Null Count  Dtype         \n",
            "---  ------    --------------  -----         \n",
            " 0   Date      1920 non-null   datetime64[ns]\n",
            " 1   Price     1920 non-null   float64       \n",
            " 2   Open      1920 non-null   float64       \n",
            " 3   High      1920 non-null   float64       \n",
            " 4   Low       1920 non-null   float64       \n",
            " 5   Vol.      1920 non-null   float64       \n",
            " 6   Change %  1920 non-null   float64       \n",
            "dtypes: datetime64[ns](1), float64(6)\n",
            "memory usage: 105.1 KB\n",
            "None\n"
          ]
        }
      ],
      "source": [
        "print(bnb_df.info())"
      ]
    },
    {
      "cell_type": "code",
      "execution_count": 7,
      "metadata": {
        "colab": {
          "base_uri": "https://localhost:8080/",
          "height": 300
        },
        "id": "q_PgD6hTTrbJ",
        "outputId": "f69b6fa4-bb12-48ec-bf28-af6895f33549"
      },
      "outputs": [
        {
          "data": {
            "text/html": [
              "<div>\n",
              "<style scoped>\n",
              "    .dataframe tbody tr th:only-of-type {\n",
              "        vertical-align: middle;\n",
              "    }\n",
              "\n",
              "    .dataframe tbody tr th {\n",
              "        vertical-align: top;\n",
              "    }\n",
              "\n",
              "    .dataframe thead th {\n",
              "        text-align: right;\n",
              "    }\n",
              "</style>\n",
              "<table border=\"1\" class=\"dataframe\">\n",
              "  <thead>\n",
              "    <tr style=\"text-align: right;\">\n",
              "      <th></th>\n",
              "      <th>Date</th>\n",
              "      <th>Price</th>\n",
              "      <th>Open</th>\n",
              "      <th>High</th>\n",
              "      <th>Low</th>\n",
              "      <th>Vol.</th>\n",
              "      <th>Change %</th>\n",
              "    </tr>\n",
              "  </thead>\n",
              "  <tbody>\n",
              "    <tr>\n",
              "      <th>count</th>\n",
              "      <td>1920</td>\n",
              "      <td>1920.000000</td>\n",
              "      <td>1920.000000</td>\n",
              "      <td>1920.000000</td>\n",
              "      <td>1920.000000</td>\n",
              "      <td>1.920000e+03</td>\n",
              "      <td>1920.000000</td>\n",
              "    </tr>\n",
              "    <tr>\n",
              "      <th>mean</th>\n",
              "      <td>2021-10-15 12:00:00</td>\n",
              "      <td>229.552547</td>\n",
              "      <td>229.245161</td>\n",
              "      <td>235.806146</td>\n",
              "      <td>222.272714</td>\n",
              "      <td>4.316261e+06</td>\n",
              "      <td>0.329344</td>\n",
              "    </tr>\n",
              "    <tr>\n",
              "      <th>min</th>\n",
              "      <td>2019-03-01 00:00:00</td>\n",
              "      <td>9.250000</td>\n",
              "      <td>9.250000</td>\n",
              "      <td>10.410000</td>\n",
              "      <td>6.500000</td>\n",
              "      <td>8.993000e+04</td>\n",
              "      <td>-44.080000</td>\n",
              "    </tr>\n",
              "    <tr>\n",
              "      <th>25%</th>\n",
              "      <td>2020-06-22 18:00:00</td>\n",
              "      <td>27.030000</td>\n",
              "      <td>27.027500</td>\n",
              "      <td>27.807500</td>\n",
              "      <td>26.082500</td>\n",
              "      <td>5.633800e+05</td>\n",
              "      <td>-1.610000</td>\n",
              "    </tr>\n",
              "    <tr>\n",
              "      <th>50%</th>\n",
              "      <td>2021-10-15 12:00:00</td>\n",
              "      <td>247.550000</td>\n",
              "      <td>247.055000</td>\n",
              "      <td>254.285000</td>\n",
              "      <td>242.050000</td>\n",
              "      <td>1.600000e+06</td>\n",
              "      <td>0.130000</td>\n",
              "    </tr>\n",
              "    <tr>\n",
              "      <th>75%</th>\n",
              "      <td>2023-02-07 06:00:00</td>\n",
              "      <td>332.110000</td>\n",
              "      <td>331.345000</td>\n",
              "      <td>339.792500</td>\n",
              "      <td>322.325000</td>\n",
              "      <td>3.772500e+06</td>\n",
              "      <td>2.160000</td>\n",
              "    </tr>\n",
              "    <tr>\n",
              "      <th>max</th>\n",
              "      <td>2024-06-01 00:00:00</td>\n",
              "      <td>676.560000</td>\n",
              "      <td>676.250000</td>\n",
              "      <td>690.870000</td>\n",
              "      <td>634.810000</td>\n",
              "      <td>3.995400e+08</td>\n",
              "      <td>69.990000</td>\n",
              "    </tr>\n",
              "    <tr>\n",
              "      <th>std</th>\n",
              "      <td>NaN</td>\n",
              "      <td>184.430107</td>\n",
              "      <td>184.300217</td>\n",
              "      <td>189.692063</td>\n",
              "      <td>178.382323</td>\n",
              "      <td>2.135747e+07</td>\n",
              "      <td>4.891566</td>\n",
              "    </tr>\n",
              "  </tbody>\n",
              "</table>\n",
              "</div>"
            ],
            "text/plain": [
              "                      Date        Price         Open         High  \\\n",
              "count                 1920  1920.000000  1920.000000  1920.000000   \n",
              "mean   2021-10-15 12:00:00   229.552547   229.245161   235.806146   \n",
              "min    2019-03-01 00:00:00     9.250000     9.250000    10.410000   \n",
              "25%    2020-06-22 18:00:00    27.030000    27.027500    27.807500   \n",
              "50%    2021-10-15 12:00:00   247.550000   247.055000   254.285000   \n",
              "75%    2023-02-07 06:00:00   332.110000   331.345000   339.792500   \n",
              "max    2024-06-01 00:00:00   676.560000   676.250000   690.870000   \n",
              "std                    NaN   184.430107   184.300217   189.692063   \n",
              "\n",
              "               Low          Vol.     Change %  \n",
              "count  1920.000000  1.920000e+03  1920.000000  \n",
              "mean    222.272714  4.316261e+06     0.329344  \n",
              "min       6.500000  8.993000e+04   -44.080000  \n",
              "25%      26.082500  5.633800e+05    -1.610000  \n",
              "50%     242.050000  1.600000e+06     0.130000  \n",
              "75%     322.325000  3.772500e+06     2.160000  \n",
              "max     634.810000  3.995400e+08    69.990000  \n",
              "std     178.382323  2.135747e+07     4.891566  "
            ]
          },
          "execution_count": 7,
          "metadata": {},
          "output_type": "execute_result"
        }
      ],
      "source": [
        "# Mô tả dataset\n",
        "sol_description = bnb_df.describe()\n",
        "sol_description"
      ]
    },
    {
      "cell_type": "code",
      "execution_count": 8,
      "metadata": {},
      "outputs": [
        {
          "name": "stdout",
          "output_type": "stream",
          "text": [
            "More Price Statistics:\n",
            "Mode: 23.01\n",
            "Standard Deviation: 184.43010721388004\n",
            "Variance: 34014.46444692328\n",
            "Kurtosis: -0.8960616714167435\n",
            "Skewness: 0.33018718587724444\n"
          ]
        }
      ],
      "source": [
        "# Descriptive statistics for Price\n",
        "print('More Price Statistics:')\n",
        "\n",
        "print('Mode:', bnb_df['Price'].mode().values[0])\n",
        "print('Standard Deviation:', bnb_df['Price'].std())\n",
        "print('Variance:', bnb_df['Price'].var())\n",
        "print('Kurtosis:', bnb_df['Price'].kurt())\n",
        "print('Skewness:', bnb_df['Price'].skew())"
      ]
    },
    {
      "cell_type": "markdown",
      "metadata": {},
      "source": [
        "##### Price by Date Plot"
      ]
    },
    {
      "cell_type": "code",
      "execution_count": 9,
      "metadata": {},
      "outputs": [
        {
          "data": {
            "image/png": "[encoded data removed]",
            "text/plain": [
              "<Figure size 1200x600 with 1 Axes>"
            ]
          },
          "metadata": {},
          "output_type": "display_data"
        }
      ],
      "source": [
        "plt.figure(figsize=(12, 6))\n",
        "plt.plot(bnb_df['Date'], bnb_df['Price'], label='Price', color='b')\n",
        "plt.xlabel('Date')\n",
        "plt.ylabel('Price')\n",
        "plt.title('Historical BNB Price from 1/3/2019 to 1/3/2024')\n",
        "plt.legend()\n",
        "plt.grid(True)\n",
        "plt.show()\n"
      ]
    },
    {
      "cell_type": "markdown",
      "metadata": {},
      "source": [
        "##### Boxplot for Price"
      ]
    },
    {
      "cell_type": "code",
      "execution_count": 10,
      "metadata": {},
      "outputs": [
        {
          "data": {
            "image/png": "[encoded data removed]",
            "text/plain": [
              "<Figure size 1200x600 with 1 Axes>"
            ]
          },
          "metadata": {},
          "output_type": "display_data"
        }
      ],
      "source": [
        "plt.figure(figsize=(12, 6))\n",
        "plt.boxplot(bnb_df['Price'])\n",
        "plt.grid()\n",
        "plt.show()"
      ]
    },
    {
      "cell_type": "markdown",
      "metadata": {},
      "source": [
        "### Model Training"
      ]
    },
    {
      "cell_type": "markdown",
      "metadata": {},
      "source": [
        "##### Linear Regression"
      ]
    },
    {
      "cell_type": "code",
      "execution_count": 11,
      "metadata": {},
      "outputs": [],
      "source": [
        "# Define features\n",
        "features = ['Open', 'High', 'Low', 'Vol.', 'Change %']\n",
        "\n",
        "# Define the target variable\n",
        "target = 'Price'"
      ]
    },
    {
      "cell_type": "code",
      "execution_count": 12,
      "metadata": {},
      "outputs": [
        {
          "name": "stdout",
          "output_type": "stream",
          "text": [
            "Training data count: 1536\n",
            "Testing data count: 384\n"
          ]
        }
      ],
      "source": [
        "# Split the data into training and testing sets\n",
        "X = bnb_df[features]\n",
        "y = bnb_df[target]\n",
        "X_train, X_test, y_train, y_test = train_test_split(X, y, test_size=0.2, random_state=42, shuffle=False)\n",
        "\n",
        "print(f\"Training data count: {X_train.shape[0]}\")\n",
        "print(f\"Testing data count: {X_test.shape[0]}\")"
      ]
    },
    {
      "cell_type": "code",
      "execution_count": 13,
      "metadata": {},
      "outputs": [
        {
          "name": "stdout",
          "output_type": "stream",
          "text": [
            "Mean Squared Error: 20.819388990473914\n",
            "R^2 Score: 0.5179209753956457\n"
          ]
        }
      ],
      "source": [
        "# Initialize and train the Linear Regression model\n",
        "model = LinearRegression()\n",
        "model.fit(X_train, y_train)\n",
        "\n",
        "# Make predictions on the test set\n",
        "y_pred = model.predict(X_test)\n",
        "\n",
        "# Evaluate the model\n",
        "mse = mean_squared_error(y_test, y_pred)\n",
        "r2 = r2_score(y_test, y_pred)\n",
        "\n",
        "print(f\"Mean Squared Error: {mse}\")\n",
        "print(f\"R^2 Score: {r2}\")\n"
      ]
    }
  ],
  "metadata": {
    "colab": {
      "provenance": []
    },
    "kernelspec": {
      "display_name": "Python 3",
      "name": "python3"
    },
    "language_info": {
      "codemirror_mode": {
        "name": "ipython",
        "version": 3
      },
      "file_extension": ".py",
      "mimetype": "text/x-python",
      "name": "python",
      "nbconvert_exporter": "python",
      "pygments_lexer": "ipython3",
      "version": "3.12.3"
    }
  },
  "nbformat": 4,
  "nbformat_minor": 0
}
