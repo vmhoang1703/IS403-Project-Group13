{
  "nbformat": 4,
  "nbformat_minor": 0,
  "metadata": {
    "colab": {
      "provenance": []
    },
    "kernelspec": {
      "name": "python3",
      "display_name": "Python 3"
    },
    "language_info": {
      "name": "python"
    }
  },
  "cells": [
    {
      "cell_type": "code",
      "execution_count": null,
      "metadata": {
        "id": "rkKatRptgBdZ"
      },
      "outputs": [],
      "source": [
        "import pandas as pd\n",
        "import numpy as np\n",
        "import matplotlib.pyplot as plt\n",
        "from sklearn.metrics import mean_squared_error ,mean_absolute_error\n",
        "import seaborn as sns\n",
        "from math import  sqrt\n",
        "from sklearn import metrics\n",
        "import tensorflow as tf\n",
        "from sklearn.preprocessing import MinMaxScaler\n",
        "from keras.models import Sequential\n",
        "from keras.layers import Dense\n",
        "from keras.layers import LSTM\n",
        "from keras.layers import Dropout\n",
        "import warnings\n",
        "warnings.filterwarnings(\"ignore\")\n",
        "import statistics as st\n",
        "from scipy.stats import mode, skew, kurtosis\n",
        "import matplotlib.pyplot as plt\n",
        "import seaborn as sns\n",
        "\n",
        "import pandas as pd\n",
        "import numpy as np\n",
        "import matplotlib.pyplot as plt\n",
        "from sklearn.metrics import mean_squared_error ,mean_absolute_error\n",
        "import seaborn as sns\n",
        "from math import  sqrt\n",
        "from sklearn import metrics\n",
        "import tensorflow as tf\n",
        "from sklearn.preprocessing import MinMaxScaler\n",
        "from keras.models import Sequential\n",
        "from keras.layers import Dense\n",
        "from keras.layers import Dense, SimpleRNN\n",
        "from keras.layers import LSTM\n",
        "from keras.layers import Dropout\n",
        "import warnings\n",
        "warnings.filterwarnings(\"ignore\")"
      ]
    },
    {
      "cell_type": "markdown",
      "source": [
        "**Read data**"
      ],
      "metadata": {
        "id": "WfI7HKjLmQt8"
      }
    },
    {
      "cell_type": "code",
      "source": [
        "eth_df = pd.read_csv(\"/content/Ethereum Historical Data (1).csv\")\n",
        "eth_df"
      ],
      "metadata": {
        "colab": {
          "base_uri": "https://localhost:8080/",
          "height": 423
        },
        "id": "nyN3A673h6YR",
        "outputId": "d210d4dd-1031-490c-f7df-6295a6296b0b"
      },
      "execution_count": null,
      "outputs": [
        {
          "output_type": "execute_result",
          "data": {
            "text/plain": [
              "            Date     Price      Open      High       Low     Vol. Change %\n",
              "0     06/01/2024  3,815.95  3,762.63  3,832.35  3,753.32  143.81K    1.42%\n",
              "1     05/31/2024  3,762.66  3,747.89  3,844.96  3,724.57  294.56K    0.40%\n",
              "2     05/30/2024  3,747.55  3,767.22  3,824.94  3,703.74  293.81K   -0.58%\n",
              "3     05/29/2024  3,769.57  3,845.56  3,886.44  3,745.72  353.25K   -1.98%\n",
              "4     05/28/2024  3,845.56  3,894.33  3,929.21  3,775.08  436.24K   -1.25%\n",
              "...          ...       ...       ...       ...       ...      ...      ...\n",
              "1915  03/05/2019    136.82    125.97    141.11    125.44   16.74M    8.61%\n",
              "1916  03/04/2019    125.97    131.02    131.57    123.25   14.11M   -3.85%\n",
              "1917  03/03/2019    131.01    132.77    168.42    129.05   10.64M   -1.32%\n",
              "1918  03/02/2019    132.76    135.72    136.36    130.74   11.29M   -2.18%\n",
              "1919  03/01/2019    135.72    135.47    138.06    128.46    9.73M    0.18%\n",
              "\n",
              "[1920 rows x 7 columns]"
            ],
            "text/html": [
              "\n",
              "  <div id=\"df-9e9ba240-b9f5-4b8d-917c-bb14dfd252ba\" class=\"colab-df-container\">\n",
              "    <div>\n",
              "<style scoped>\n",
              "    .dataframe tbody tr th:only-of-type {\n",
              "        vertical-align: middle;\n",
              "    }\n",
              "\n",
              "    .dataframe tbody tr th {\n",
              "        vertical-align: top;\n",
              "    }\n",
              "\n",
              "    .dataframe thead th {\n",
              "        text-align: right;\n",
              "    }\n",
              "</style>\n",
              "<table border=\"1\" class=\"dataframe\">\n",
              "  <thead>\n",
              "    <tr style=\"text-align: right;\">\n",
              "      <th></th>\n",
              "      <th>Date</th>\n",
              "      <th>Price</th>\n",
              "      <th>Open</th>\n",
              "      <th>High</th>\n",
              "      <th>Low</th>\n",
              "      <th>Vol.</th>\n",
              "      <th>Change %</th>\n",
              "    </tr>\n",
              "  </thead>\n",
              "  <tbody>\n",
              "    <tr>\n",
              "      <th>0</th>\n",
              "      <td>06/01/2024</td>\n",
              "      <td>3,815.95</td>\n",
              "      <td>3,762.63</td>\n",
              "      <td>3,832.35</td>\n",
              "      <td>3,753.32</td>\n",
              "      <td>143.81K</td>\n",
              "      <td>1.42%</td>\n",
              "    </tr>\n",
              "    <tr>\n",
              "      <th>1</th>\n",
              "      <td>05/31/2024</td>\n",
              "      <td>3,762.66</td>\n",
              "      <td>3,747.89</td>\n",
              "      <td>3,844.96</td>\n",
              "      <td>3,724.57</td>\n",
              "      <td>294.56K</td>\n",
              "      <td>0.40%</td>\n",
              "    </tr>\n",
              "    <tr>\n",
              "      <th>2</th>\n",
              "      <td>05/30/2024</td>\n",
              "      <td>3,747.55</td>\n",
              "      <td>3,767.22</td>\n",
              "      <td>3,824.94</td>\n",
              "      <td>3,703.74</td>\n",
              "      <td>293.81K</td>\n",
              "      <td>-0.58%</td>\n",
              "    </tr>\n",
              "    <tr>\n",
              "      <th>3</th>\n",
              "      <td>05/29/2024</td>\n",
              "      <td>3,769.57</td>\n",
              "      <td>3,845.56</td>\n",
              "      <td>3,886.44</td>\n",
              "      <td>3,745.72</td>\n",
              "      <td>353.25K</td>\n",
              "      <td>-1.98%</td>\n",
              "    </tr>\n",
              "    <tr>\n",
              "      <th>4</th>\n",
              "      <td>05/28/2024</td>\n",
              "      <td>3,845.56</td>\n",
              "      <td>3,894.33</td>\n",
              "      <td>3,929.21</td>\n",
              "      <td>3,775.08</td>\n",
              "      <td>436.24K</td>\n",
              "      <td>-1.25%</td>\n",
              "    </tr>\n",
              "    <tr>\n",
              "      <th>...</th>\n",
              "      <td>...</td>\n",
              "      <td>...</td>\n",
              "      <td>...</td>\n",
              "      <td>...</td>\n",
              "      <td>...</td>\n",
              "      <td>...</td>\n",
              "      <td>...</td>\n",
              "    </tr>\n",
              "    <tr>\n",
              "      <th>1915</th>\n",
              "      <td>03/05/2019</td>\n",
              "      <td>136.82</td>\n",
              "      <td>125.97</td>\n",
              "      <td>141.11</td>\n",
              "      <td>125.44</td>\n",
              "      <td>16.74M</td>\n",
              "      <td>8.61%</td>\n",
              "    </tr>\n",
              "    <tr>\n",
              "      <th>1916</th>\n",
              "      <td>03/04/2019</td>\n",
              "      <td>125.97</td>\n",
              "      <td>131.02</td>\n",
              "      <td>131.57</td>\n",
              "      <td>123.25</td>\n",
              "      <td>14.11M</td>\n",
              "      <td>-3.85%</td>\n",
              "    </tr>\n",
              "    <tr>\n",
              "      <th>1917</th>\n",
              "      <td>03/03/2019</td>\n",
              "      <td>131.01</td>\n",
              "      <td>132.77</td>\n",
              "      <td>168.42</td>\n",
              "      <td>129.05</td>\n",
              "      <td>10.64M</td>\n",
              "      <td>-1.32%</td>\n",
              "    </tr>\n",
              "    <tr>\n",
              "      <th>1918</th>\n",
              "      <td>03/02/2019</td>\n",
              "      <td>132.76</td>\n",
              "      <td>135.72</td>\n",
              "      <td>136.36</td>\n",
              "      <td>130.74</td>\n",
              "      <td>11.29M</td>\n",
              "      <td>-2.18%</td>\n",
              "    </tr>\n",
              "    <tr>\n",
              "      <th>1919</th>\n",
              "      <td>03/01/2019</td>\n",
              "      <td>135.72</td>\n",
              "      <td>135.47</td>\n",
              "      <td>138.06</td>\n",
              "      <td>128.46</td>\n",
              "      <td>9.73M</td>\n",
              "      <td>0.18%</td>\n",
              "    </tr>\n",
              "  </tbody>\n",
              "</table>\n",
              "<p>1920 rows × 7 columns</p>\n",
              "</div>\n",
              "    <div class=\"colab-df-buttons\">\n",
              "\n",
              "  <div class=\"colab-df-container\">\n",
              "    <button class=\"colab-df-convert\" onclick=\"convertToInteractive('df-9e9ba240-b9f5-4b8d-917c-bb14dfd252ba')\"\n",
              "            title=\"Convert this dataframe to an interactive table.\"\n",
              "            style=\"display:none;\">\n",
              "\n",
              "  <svg xmlns=\"http://www.w3.org/2000/svg\" height=\"24px\" viewBox=\"0 -960 960 960\">\n",
              "    <path d=\"M120-120v-720h720v720H120Zm60-500h600v-160H180v160Zm220 220h160v-160H400v160Zm0 220h160v-160H400v160ZM180-400h160v-160H180v160Zm440 0h160v-160H620v160ZM180-180h160v-160H180v160Zm440 0h160v-160H620v160Z\"/>\n",
              "  </svg>\n",
              "    </button>\n",
              "\n",
              "  <style>\n",
              "    .colab-df-container {\n",
              "      display:flex;\n",
              "      gap: 12px;\n",
              "    }\n",
              "\n",
              "    .colab-df-convert {\n",
              "      background-color: #E8F0FE;\n",
              "      border: none;\n",
              "      border-radius: 50%;\n",
              "      cursor: pointer;\n",
              "      display: none;\n",
              "      fill: #1967D2;\n",
              "      height: 32px;\n",
              "      padding: 0 0 0 0;\n",
              "      width: 32px;\n",
              "    }\n",
              "\n",
              "    .colab-df-convert:hover {\n",
              "      background-color: #E2EBFA;\n",
              "      box-shadow: 0px 1px 2px rgba(60, 64, 67, 0.3), 0px 1px 3px 1px rgba(60, 64, 67, 0.15);\n",
              "      fill: #174EA6;\n",
              "    }\n",
              "\n",
              "    .colab-df-buttons div {\n",
              "      margin-bottom: 4px;\n",
              "    }\n",
              "\n",
              "    [theme=dark] .colab-df-convert {\n",
              "      background-color: #3B4455;\n",
              "      fill: #D2E3FC;\n",
              "    }\n",
              "\n",
              "    [theme=dark] .colab-df-convert:hover {\n",
              "      background-color: #434B5C;\n",
              "      box-shadow: 0px 1px 3px 1px rgba(0, 0, 0, 0.15);\n",
              "      filter: drop-shadow(0px 1px 2px rgba(0, 0, 0, 0.3));\n",
              "      fill: #FFFFFF;\n",
              "    }\n",
              "  </style>\n",
              "\n",
              "    <script>\n",
              "      const buttonEl =\n",
              "        document.querySelector('#df-9e9ba240-b9f5-4b8d-917c-bb14dfd252ba button.colab-df-convert');\n",
              "      buttonEl.style.display =\n",
              "        google.colab.kernel.accessAllowed ? 'block' : 'none';\n",
              "\n",
              "      async function convertToInteractive(key) {\n",
              "        const element = document.querySelector('#df-9e9ba240-b9f5-4b8d-917c-bb14dfd252ba');\n",
              "        const dataTable =\n",
              "          await google.colab.kernel.invokeFunction('convertToInteractive',\n",
              "                                                    [key], {});\n",
              "        if (!dataTable) return;\n",
              "\n",
              "        const docLinkHtml = 'Like what you see? Visit the ' +\n",
              "          '<a target=\"_blank\" href=https://colab.research.google.com/notebooks/data_table.ipynb>data table notebook</a>'\n",
              "          + ' to learn more about interactive tables.';\n",
              "        element.innerHTML = '';\n",
              "        dataTable['output_type'] = 'display_data';\n",
              "        await google.colab.output.renderOutput(dataTable, element);\n",
              "        const docLink = document.createElement('div');\n",
              "        docLink.innerHTML = docLinkHtml;\n",
              "        element.appendChild(docLink);\n",
              "      }\n",
              "    </script>\n",
              "  </div>\n",
              "\n",
              "\n",
              "<div id=\"df-a3008417-7f54-433f-8906-7678124b8183\">\n",
              "  <button class=\"colab-df-quickchart\" onclick=\"quickchart('df-a3008417-7f54-433f-8906-7678124b8183')\"\n",
              "            title=\"Suggest charts\"\n",
              "            style=\"display:none;\">\n",
              "\n",
              "<svg xmlns=\"http://www.w3.org/2000/svg\" height=\"24px\"viewBox=\"0 0 24 24\"\n",
              "     width=\"24px\">\n",
              "    <g>\n",
              "        <path d=\"M19 3H5c-1.1 0-2 .9-2 2v14c0 1.1.9 2 2 2h14c1.1 0 2-.9 2-2V5c0-1.1-.9-2-2-2zM9 17H7v-7h2v7zm4 0h-2V7h2v10zm4 0h-2v-4h2v4z\"/>\n",
              "    </g>\n",
              "</svg>\n",
              "  </button>\n",
              "\n",
              "<style>\n",
              "  .colab-df-quickchart {\n",
              "      --bg-color: #E8F0FE;\n",
              "      --fill-color: #1967D2;\n",
              "      --hover-bg-color: #E2EBFA;\n",
              "      --hover-fill-color: #174EA6;\n",
              "      --disabled-fill-color: #AAA;\n",
              "      --disabled-bg-color: #DDD;\n",
              "  }\n",
              "\n",
              "  [theme=dark] .colab-df-quickchart {\n",
              "      --bg-color: #3B4455;\n",
              "      --fill-color: #D2E3FC;\n",
              "      --hover-bg-color: #434B5C;\n",
              "      --hover-fill-color: #FFFFFF;\n",
              "      --disabled-bg-color: #3B4455;\n",
              "      --disabled-fill-color: #666;\n",
              "  }\n",
              "\n",
              "  .colab-df-quickchart {\n",
              "    background-color: var(--bg-color);\n",
              "    border: none;\n",
              "    border-radius: 50%;\n",
              "    cursor: pointer;\n",
              "    display: none;\n",
              "    fill: var(--fill-color);\n",
              "    height: 32px;\n",
              "    padding: 0;\n",
              "    width: 32px;\n",
              "  }\n",
              "\n",
              "  .colab-df-quickchart:hover {\n",
              "    background-color: var(--hover-bg-color);\n",
              "    box-shadow: 0 1px 2px rgba(60, 64, 67, 0.3), 0 1px 3px 1px rgba(60, 64, 67, 0.15);\n",
              "    fill: var(--button-hover-fill-color);\n",
              "  }\n",
              "\n",
              "  .colab-df-quickchart-complete:disabled,\n",
              "  .colab-df-quickchart-complete:disabled:hover {\n",
              "    background-color: var(--disabled-bg-color);\n",
              "    fill: var(--disabled-fill-color);\n",
              "    box-shadow: none;\n",
              "  }\n",
              "\n",
              "  .colab-df-spinner {\n",
              "    border: 2px solid var(--fill-color);\n",
              "    border-color: transparent;\n",
              "    border-bottom-color: var(--fill-color);\n",
              "    animation:\n",
              "      spin 1s steps(1) infinite;\n",
              "  }\n",
              "\n",
              "  @keyframes spin {\n",
              "    0% {\n",
              "      border-color: transparent;\n",
              "      border-bottom-color: var(--fill-color);\n",
              "      border-left-color: var(--fill-color);\n",
              "    }\n",
              "    20% {\n",
              "      border-color: transparent;\n",
              "      border-left-color: var(--fill-color);\n",
              "      border-top-color: var(--fill-color);\n",
              "    }\n",
              "    30% {\n",
              "      border-color: transparent;\n",
              "      border-left-color: var(--fill-color);\n",
              "      border-top-color: var(--fill-color);\n",
              "      border-right-color: var(--fill-color);\n",
              "    }\n",
              "    40% {\n",
              "      border-color: transparent;\n",
              "      border-right-color: var(--fill-color);\n",
              "      border-top-color: var(--fill-color);\n",
              "    }\n",
              "    60% {\n",
              "      border-color: transparent;\n",
              "      border-right-color: var(--fill-color);\n",
              "    }\n",
              "    80% {\n",
              "      border-color: transparent;\n",
              "      border-right-color: var(--fill-color);\n",
              "      border-bottom-color: var(--fill-color);\n",
              "    }\n",
              "    90% {\n",
              "      border-color: transparent;\n",
              "      border-bottom-color: var(--fill-color);\n",
              "    }\n",
              "  }\n",
              "</style>\n",
              "\n",
              "  <script>\n",
              "    async function quickchart(key) {\n",
              "      const quickchartButtonEl =\n",
              "        document.querySelector('#' + key + ' button');\n",
              "      quickchartButtonEl.disabled = true;  // To prevent multiple clicks.\n",
              "      quickchartButtonEl.classList.add('colab-df-spinner');\n",
              "      try {\n",
              "        const charts = await google.colab.kernel.invokeFunction(\n",
              "            'suggestCharts', [key], {});\n",
              "      } catch (error) {\n",
              "        console.error('Error during call to suggestCharts:', error);\n",
              "      }\n",
              "      quickchartButtonEl.classList.remove('colab-df-spinner');\n",
              "      quickchartButtonEl.classList.add('colab-df-quickchart-complete');\n",
              "    }\n",
              "    (() => {\n",
              "      let quickchartButtonEl =\n",
              "        document.querySelector('#df-a3008417-7f54-433f-8906-7678124b8183 button');\n",
              "      quickchartButtonEl.style.display =\n",
              "        google.colab.kernel.accessAllowed ? 'block' : 'none';\n",
              "    })();\n",
              "  </script>\n",
              "</div>\n",
              "    </div>\n",
              "  </div>\n"
            ],
            "application/vnd.google.colaboratory.intrinsic+json": {
              "type": "dataframe",
              "variable_name": "eth_df",
              "summary": "{\n  \"name\": \"eth_df\",\n  \"rows\": 1920,\n  \"fields\": [\n    {\n      \"column\": \"Date\",\n      \"properties\": {\n        \"dtype\": \"object\",\n        \"num_unique_values\": 1920,\n        \"samples\": [\n          \"09/07/2021\",\n          \"12/24/2019\",\n          \"09/29/2022\"\n        ],\n        \"semantic_type\": \"\",\n        \"description\": \"\"\n      }\n    },\n    {\n      \"column\": \"Price\",\n      \"properties\": {\n        \"dtype\": \"string\",\n        \"num_unique_values\": 1900,\n        \"samples\": [\n          \"1,117.33\",\n          \"2,506.69\",\n          \"1,203.77\"\n        ],\n        \"semantic_type\": \"\",\n        \"description\": \"\"\n      }\n    },\n    {\n      \"column\": \"Open\",\n      \"properties\": {\n        \"dtype\": \"string\",\n        \"num_unique_values\": 1900,\n        \"samples\": [\n          \"1,118.01\",\n          \"2,500.28\",\n          \"1,185.70\"\n        ],\n        \"semantic_type\": \"\",\n        \"description\": \"\"\n      }\n    },\n    {\n      \"column\": \"High\",\n      \"properties\": {\n        \"dtype\": \"string\",\n        \"num_unique_values\": 1909,\n        \"samples\": [\n          \"229.80\",\n          \"2,537.85\",\n          \"160.28\"\n        ],\n        \"semantic_type\": \"\",\n        \"description\": \"\"\n      }\n    },\n    {\n      \"column\": \"Low\",\n      \"properties\": {\n        \"dtype\": \"string\",\n        \"num_unique_values\": 1908,\n        \"samples\": [\n          \"223.79\",\n          \"2,493.83\",\n          \"167.03\"\n        ],\n        \"semantic_type\": \"\",\n        \"description\": \"\"\n      }\n    },\n    {\n      \"column\": \"Vol.\",\n      \"properties\": {\n        \"dtype\": \"string\",\n        \"num_unique_values\": 1613,\n        \"samples\": [\n          \"381.95K\",\n          \"194.29K\",\n          \"229.74K\"\n        ],\n        \"semantic_type\": \"\",\n        \"description\": \"\"\n      }\n    },\n    {\n      \"column\": \"Change %\",\n      \"properties\": {\n        \"dtype\": \"string\",\n        \"num_unique_values\": 1042,\n        \"samples\": [\n          \"-1.99%\",\n          \"-1.23%\",\n          \"3.62%\"\n        ],\n        \"semantic_type\": \"\",\n        \"description\": \"\"\n      }\n    }\n  ]\n}"
            }
          },
          "metadata": {},
          "execution_count": 2
        }
      ]
    },
    {
      "cell_type": "markdown",
      "source": [
        "**Data processing**"
      ],
      "metadata": {
        "id": "5hiTApHcoFPZ"
      }
    },
    {
      "cell_type": "code",
      "source": [
        "eth_df['Date'] = pd.to_datetime(eth_df['Date'])\n",
        "eth_df.reset_index(drop=True)\n",
        "eth_df.set_index('Date', inplace=True)"
      ],
      "metadata": {
        "id": "YsGWa3Y1idAS"
      },
      "execution_count": null,
      "outputs": []
    },
    {
      "cell_type": "code",
      "source": [
        "eth_df"
      ],
      "metadata": {
        "colab": {
          "base_uri": "https://localhost:8080/",
          "height": 455
        },
        "id": "ngEROuCXmcc6",
        "outputId": "711d4985-fd77-4e68-a5f0-07ce5bed9ff4"
      },
      "execution_count": null,
      "outputs": [
        {
          "output_type": "execute_result",
          "data": {
            "text/plain": [
              "               Price      Open      High       Low     Vol. Change %\n",
              "Date                                                                \n",
              "2024-06-01  3,815.95  3,762.63  3,832.35  3,753.32  143.81K    1.42%\n",
              "2024-05-31  3,762.66  3,747.89  3,844.96  3,724.57  294.56K    0.40%\n",
              "2024-05-30  3,747.55  3,767.22  3,824.94  3,703.74  293.81K   -0.58%\n",
              "2024-05-29  3,769.57  3,845.56  3,886.44  3,745.72  353.25K   -1.98%\n",
              "2024-05-28  3,845.56  3,894.33  3,929.21  3,775.08  436.24K   -1.25%\n",
              "...              ...       ...       ...       ...      ...      ...\n",
              "2019-03-05    136.82    125.97    141.11    125.44   16.74M    8.61%\n",
              "2019-03-04    125.97    131.02    131.57    123.25   14.11M   -3.85%\n",
              "2019-03-03    131.01    132.77    168.42    129.05   10.64M   -1.32%\n",
              "2019-03-02    132.76    135.72    136.36    130.74   11.29M   -2.18%\n",
              "2019-03-01    135.72    135.47    138.06    128.46    9.73M    0.18%\n",
              "\n",
              "[1920 rows x 6 columns]"
            ],
            "text/html": [
              "\n",
              "  <div id=\"df-1d8901fa-cb42-4b65-bdb0-194c94435412\" class=\"colab-df-container\">\n",
              "    <div>\n",
              "<style scoped>\n",
              "    .dataframe tbody tr th:only-of-type {\n",
              "        vertical-align: middle;\n",
              "    }\n",
              "\n",
              "    .dataframe tbody tr th {\n",
              "        vertical-align: top;\n",
              "    }\n",
              "\n",
              "    .dataframe thead th {\n",
              "        text-align: right;\n",
              "    }\n",
              "</style>\n",
              "<table border=\"1\" class=\"dataframe\">\n",
              "  <thead>\n",
              "    <tr style=\"text-align: right;\">\n",
              "      <th></th>\n",
              "      <th>Price</th>\n",
              "      <th>Open</th>\n",
              "      <th>High</th>\n",
              "      <th>Low</th>\n",
              "      <th>Vol.</th>\n",
              "      <th>Change %</th>\n",
              "    </tr>\n",
              "    <tr>\n",
              "      <th>Date</th>\n",
              "      <th></th>\n",
              "      <th></th>\n",
              "      <th></th>\n",
              "      <th></th>\n",
              "      <th></th>\n",
              "      <th></th>\n",
              "    </tr>\n",
              "  </thead>\n",
              "  <tbody>\n",
              "    <tr>\n",
              "      <th>2024-06-01</th>\n",
              "      <td>3,815.95</td>\n",
              "      <td>3,762.63</td>\n",
              "      <td>3,832.35</td>\n",
              "      <td>3,753.32</td>\n",
              "      <td>143.81K</td>\n",
              "      <td>1.42%</td>\n",
              "    </tr>\n",
              "    <tr>\n",
              "      <th>2024-05-31</th>\n",
              "      <td>3,762.66</td>\n",
              "      <td>3,747.89</td>\n",
              "      <td>3,844.96</td>\n",
              "      <td>3,724.57</td>\n",
              "      <td>294.56K</td>\n",
              "      <td>0.40%</td>\n",
              "    </tr>\n",
              "    <tr>\n",
              "      <th>2024-05-30</th>\n",
              "      <td>3,747.55</td>\n",
              "      <td>3,767.22</td>\n",
              "      <td>3,824.94</td>\n",
              "      <td>3,703.74</td>\n",
              "      <td>293.81K</td>\n",
              "      <td>-0.58%</td>\n",
              "    </tr>\n",
              "    <tr>\n",
              "      <th>2024-05-29</th>\n",
              "      <td>3,769.57</td>\n",
              "      <td>3,845.56</td>\n",
              "      <td>3,886.44</td>\n",
              "      <td>3,745.72</td>\n",
              "      <td>353.25K</td>\n",
              "      <td>-1.98%</td>\n",
              "    </tr>\n",
              "    <tr>\n",
              "      <th>2024-05-28</th>\n",
              "      <td>3,845.56</td>\n",
              "      <td>3,894.33</td>\n",
              "      <td>3,929.21</td>\n",
              "      <td>3,775.08</td>\n",
              "      <td>436.24K</td>\n",
              "      <td>-1.25%</td>\n",
              "    </tr>\n",
              "    <tr>\n",
              "      <th>...</th>\n",
              "      <td>...</td>\n",
              "      <td>...</td>\n",
              "      <td>...</td>\n",
              "      <td>...</td>\n",
              "      <td>...</td>\n",
              "      <td>...</td>\n",
              "    </tr>\n",
              "    <tr>\n",
              "      <th>2019-03-05</th>\n",
              "      <td>136.82</td>\n",
              "      <td>125.97</td>\n",
              "      <td>141.11</td>\n",
              "      <td>125.44</td>\n",
              "      <td>16.74M</td>\n",
              "      <td>8.61%</td>\n",
              "    </tr>\n",
              "    <tr>\n",
              "      <th>2019-03-04</th>\n",
              "      <td>125.97</td>\n",
              "      <td>131.02</td>\n",
              "      <td>131.57</td>\n",
              "      <td>123.25</td>\n",
              "      <td>14.11M</td>\n",
              "      <td>-3.85%</td>\n",
              "    </tr>\n",
              "    <tr>\n",
              "      <th>2019-03-03</th>\n",
              "      <td>131.01</td>\n",
              "      <td>132.77</td>\n",
              "      <td>168.42</td>\n",
              "      <td>129.05</td>\n",
              "      <td>10.64M</td>\n",
              "      <td>-1.32%</td>\n",
              "    </tr>\n",
              "    <tr>\n",
              "      <th>2019-03-02</th>\n",
              "      <td>132.76</td>\n",
              "      <td>135.72</td>\n",
              "      <td>136.36</td>\n",
              "      <td>130.74</td>\n",
              "      <td>11.29M</td>\n",
              "      <td>-2.18%</td>\n",
              "    </tr>\n",
              "    <tr>\n",
              "      <th>2019-03-01</th>\n",
              "      <td>135.72</td>\n",
              "      <td>135.47</td>\n",
              "      <td>138.06</td>\n",
              "      <td>128.46</td>\n",
              "      <td>9.73M</td>\n",
              "      <td>0.18%</td>\n",
              "    </tr>\n",
              "  </tbody>\n",
              "</table>\n",
              "<p>1920 rows × 6 columns</p>\n",
              "</div>\n",
              "    <div class=\"colab-df-buttons\">\n",
              "\n",
              "  <div class=\"colab-df-container\">\n",
              "    <button class=\"colab-df-convert\" onclick=\"convertToInteractive('df-1d8901fa-cb42-4b65-bdb0-194c94435412')\"\n",
              "            title=\"Convert this dataframe to an interactive table.\"\n",
              "            style=\"display:none;\">\n",
              "\n",
              "  <svg xmlns=\"http://www.w3.org/2000/svg\" height=\"24px\" viewBox=\"0 -960 960 960\">\n",
              "    <path d=\"M120-120v-720h720v720H120Zm60-500h600v-160H180v160Zm220 220h160v-160H400v160Zm0 220h160v-160H400v160ZM180-400h160v-160H180v160Zm440 0h160v-160H620v160ZM180-180h160v-160H180v160Zm440 0h160v-160H620v160Z\"/>\n",
              "  </svg>\n",
              "    </button>\n",
              "\n",
              "  <style>\n",
              "    .colab-df-container {\n",
              "      display:flex;\n",
              "      gap: 12px;\n",
              "    }\n",
              "\n",
              "    .colab-df-convert {\n",
              "      background-color: #E8F0FE;\n",
              "      border: none;\n",
              "      border-radius: 50%;\n",
              "      cursor: pointer;\n",
              "      display: none;\n",
              "      fill: #1967D2;\n",
              "      height: 32px;\n",
              "      padding: 0 0 0 0;\n",
              "      width: 32px;\n",
              "    }\n",
              "\n",
              "    .colab-df-convert:hover {\n",
              "      background-color: #E2EBFA;\n",
              "      box-shadow: 0px 1px 2px rgba(60, 64, 67, 0.3), 0px 1px 3px 1px rgba(60, 64, 67, 0.15);\n",
              "      fill: #174EA6;\n",
              "    }\n",
              "\n",
              "    .colab-df-buttons div {\n",
              "      margin-bottom: 4px;\n",
              "    }\n",
              "\n",
              "    [theme=dark] .colab-df-convert {\n",
              "      background-color: #3B4455;\n",
              "      fill: #D2E3FC;\n",
              "    }\n",
              "\n",
              "    [theme=dark] .colab-df-convert:hover {\n",
              "      background-color: #434B5C;\n",
              "      box-shadow: 0px 1px 3px 1px rgba(0, 0, 0, 0.15);\n",
              "      filter: drop-shadow(0px 1px 2px rgba(0, 0, 0, 0.3));\n",
              "      fill: #FFFFFF;\n",
              "    }\n",
              "  </style>\n",
              "\n",
              "    <script>\n",
              "      const buttonEl =\n",
              "        document.querySelector('#df-1d8901fa-cb42-4b65-bdb0-194c94435412 button.colab-df-convert');\n",
              "      buttonEl.style.display =\n",
              "        google.colab.kernel.accessAllowed ? 'block' : 'none';\n",
              "\n",
              "      async function convertToInteractive(key) {\n",
              "        const element = document.querySelector('#df-1d8901fa-cb42-4b65-bdb0-194c94435412');\n",
              "        const dataTable =\n",
              "          await google.colab.kernel.invokeFunction('convertToInteractive',\n",
              "                                                    [key], {});\n",
              "        if (!dataTable) return;\n",
              "\n",
              "        const docLinkHtml = 'Like what you see? Visit the ' +\n",
              "          '<a target=\"_blank\" href=https://colab.research.google.com/notebooks/data_table.ipynb>data table notebook</a>'\n",
              "          + ' to learn more about interactive tables.';\n",
              "        element.innerHTML = '';\n",
              "        dataTable['output_type'] = 'display_data';\n",
              "        await google.colab.output.renderOutput(dataTable, element);\n",
              "        const docLink = document.createElement('div');\n",
              "        docLink.innerHTML = docLinkHtml;\n",
              "        element.appendChild(docLink);\n",
              "      }\n",
              "    </script>\n",
              "  </div>\n",
              "\n",
              "\n",
              "<div id=\"df-de90a4a8-b530-4c29-95e5-12acc830b4ac\">\n",
              "  <button class=\"colab-df-quickchart\" onclick=\"quickchart('df-de90a4a8-b530-4c29-95e5-12acc830b4ac')\"\n",
              "            title=\"Suggest charts\"\n",
              "            style=\"display:none;\">\n",
              "\n",
              "<svg xmlns=\"http://www.w3.org/2000/svg\" height=\"24px\"viewBox=\"0 0 24 24\"\n",
              "     width=\"24px\">\n",
              "    <g>\n",
              "        <path d=\"M19 3H5c-1.1 0-2 .9-2 2v14c0 1.1.9 2 2 2h14c1.1 0 2-.9 2-2V5c0-1.1-.9-2-2-2zM9 17H7v-7h2v7zm4 0h-2V7h2v10zm4 0h-2v-4h2v4z\"/>\n",
              "    </g>\n",
              "</svg>\n",
              "  </button>\n",
              "\n",
              "<style>\n",
              "  .colab-df-quickchart {\n",
              "      --bg-color: #E8F0FE;\n",
              "      --fill-color: #1967D2;\n",
              "      --hover-bg-color: #E2EBFA;\n",
              "      --hover-fill-color: #174EA6;\n",
              "      --disabled-fill-color: #AAA;\n",
              "      --disabled-bg-color: #DDD;\n",
              "  }\n",
              "\n",
              "  [theme=dark] .colab-df-quickchart {\n",
              "      --bg-color: #3B4455;\n",
              "      --fill-color: #D2E3FC;\n",
              "      --hover-bg-color: #434B5C;\n",
              "      --hover-fill-color: #FFFFFF;\n",
              "      --disabled-bg-color: #3B4455;\n",
              "      --disabled-fill-color: #666;\n",
              "  }\n",
              "\n",
              "  .colab-df-quickchart {\n",
              "    background-color: var(--bg-color);\n",
              "    border: none;\n",
              "    border-radius: 50%;\n",
              "    cursor: pointer;\n",
              "    display: none;\n",
              "    fill: var(--fill-color);\n",
              "    height: 32px;\n",
              "    padding: 0;\n",
              "    width: 32px;\n",
              "  }\n",
              "\n",
              "  .colab-df-quickchart:hover {\n",
              "    background-color: var(--hover-bg-color);\n",
              "    box-shadow: 0 1px 2px rgba(60, 64, 67, 0.3), 0 1px 3px 1px rgba(60, 64, 67, 0.15);\n",
              "    fill: var(--button-hover-fill-color);\n",
              "  }\n",
              "\n",
              "  .colab-df-quickchart-complete:disabled,\n",
              "  .colab-df-quickchart-complete:disabled:hover {\n",
              "    background-color: var(--disabled-bg-color);\n",
              "    fill: var(--disabled-fill-color);\n",
              "    box-shadow: none;\n",
              "  }\n",
              "\n",
              "  .colab-df-spinner {\n",
              "    border: 2px solid var(--fill-color);\n",
              "    border-color: transparent;\n",
              "    border-bottom-color: var(--fill-color);\n",
              "    animation:\n",
              "      spin 1s steps(1) infinite;\n",
              "  }\n",
              "\n",
              "  @keyframes spin {\n",
              "    0% {\n",
              "      border-color: transparent;\n",
              "      border-bottom-color: var(--fill-color);\n",
              "      border-left-color: var(--fill-color);\n",
              "    }\n",
              "    20% {\n",
              "      border-color: transparent;\n",
              "      border-left-color: var(--fill-color);\n",
              "      border-top-color: var(--fill-color);\n",
              "    }\n",
              "    30% {\n",
              "      border-color: transparent;\n",
              "      border-left-color: var(--fill-color);\n",
              "      border-top-color: var(--fill-color);\n",
              "      border-right-color: var(--fill-color);\n",
              "    }\n",
              "    40% {\n",
              "      border-color: transparent;\n",
              "      border-right-color: var(--fill-color);\n",
              "      border-top-color: var(--fill-color);\n",
              "    }\n",
              "    60% {\n",
              "      border-color: transparent;\n",
              "      border-right-color: var(--fill-color);\n",
              "    }\n",
              "    80% {\n",
              "      border-color: transparent;\n",
              "      border-right-color: var(--fill-color);\n",
              "      border-bottom-color: var(--fill-color);\n",
              "    }\n",
              "    90% {\n",
              "      border-color: transparent;\n",
              "      border-bottom-color: var(--fill-color);\n",
              "    }\n",
              "  }\n",
              "</style>\n",
              "\n",
              "  <script>\n",
              "    async function quickchart(key) {\n",
              "      const quickchartButtonEl =\n",
              "        document.querySelector('#' + key + ' button');\n",
              "      quickchartButtonEl.disabled = true;  // To prevent multiple clicks.\n",
              "      quickchartButtonEl.classList.add('colab-df-spinner');\n",
              "      try {\n",
              "        const charts = await google.colab.kernel.invokeFunction(\n",
              "            'suggestCharts', [key], {});\n",
              "      } catch (error) {\n",
              "        console.error('Error during call to suggestCharts:', error);\n",
              "      }\n",
              "      quickchartButtonEl.classList.remove('colab-df-spinner');\n",
              "      quickchartButtonEl.classList.add('colab-df-quickchart-complete');\n",
              "    }\n",
              "    (() => {\n",
              "      let quickchartButtonEl =\n",
              "        document.querySelector('#df-de90a4a8-b530-4c29-95e5-12acc830b4ac button');\n",
              "      quickchartButtonEl.style.display =\n",
              "        google.colab.kernel.accessAllowed ? 'block' : 'none';\n",
              "    })();\n",
              "  </script>\n",
              "</div>\n",
              "    </div>\n",
              "  </div>\n"
            ],
            "application/vnd.google.colaboratory.intrinsic+json": {
              "type": "dataframe",
              "variable_name": "eth_df",
              "summary": "{\n  \"name\": \"eth_df\",\n  \"rows\": 1920,\n  \"fields\": [\n    {\n      \"column\": \"Date\",\n      \"properties\": {\n        \"dtype\": \"date\",\n        \"min\": \"2019-03-01 00:00:00\",\n        \"max\": \"2024-06-01 00:00:00\",\n        \"num_unique_values\": 1920,\n        \"samples\": [\n          \"2021-09-07 00:00:00\",\n          \"2019-12-24 00:00:00\",\n          \"2022-09-29 00:00:00\"\n        ],\n        \"semantic_type\": \"\",\n        \"description\": \"\"\n      }\n    },\n    {\n      \"column\": \"Price\",\n      \"properties\": {\n        \"dtype\": \"string\",\n        \"num_unique_values\": 1900,\n        \"samples\": [\n          \"1,117.33\",\n          \"2,506.69\",\n          \"1,203.77\"\n        ],\n        \"semantic_type\": \"\",\n        \"description\": \"\"\n      }\n    },\n    {\n      \"column\": \"Open\",\n      \"properties\": {\n        \"dtype\": \"string\",\n        \"num_unique_values\": 1900,\n        \"samples\": [\n          \"1,118.01\",\n          \"2,500.28\",\n          \"1,185.70\"\n        ],\n        \"semantic_type\": \"\",\n        \"description\": \"\"\n      }\n    },\n    {\n      \"column\": \"High\",\n      \"properties\": {\n        \"dtype\": \"string\",\n        \"num_unique_values\": 1909,\n        \"samples\": [\n          \"229.80\",\n          \"2,537.85\",\n          \"160.28\"\n        ],\n        \"semantic_type\": \"\",\n        \"description\": \"\"\n      }\n    },\n    {\n      \"column\": \"Low\",\n      \"properties\": {\n        \"dtype\": \"string\",\n        \"num_unique_values\": 1908,\n        \"samples\": [\n          \"223.79\",\n          \"2,493.83\",\n          \"167.03\"\n        ],\n        \"semantic_type\": \"\",\n        \"description\": \"\"\n      }\n    },\n    {\n      \"column\": \"Vol.\",\n      \"properties\": {\n        \"dtype\": \"string\",\n        \"num_unique_values\": 1613,\n        \"samples\": [\n          \"381.95K\",\n          \"194.29K\",\n          \"229.74K\"\n        ],\n        \"semantic_type\": \"\",\n        \"description\": \"\"\n      }\n    },\n    {\n      \"column\": \"Change %\",\n      \"properties\": {\n        \"dtype\": \"string\",\n        \"num_unique_values\": 1042,\n        \"samples\": [\n          \"-1.99%\",\n          \"-1.23%\",\n          \"3.62%\"\n        ],\n        \"semantic_type\": \"\",\n        \"description\": \"\"\n      }\n    }\n  ]\n}"
            }
          },
          "metadata": {},
          "execution_count": 4
        }
      ]
    },
    {
      "cell_type": "code",
      "source": [
        "# Format \"Date\" column\n",
        "eth_df['Date'] = pd.to_datetime(eth_df['Date'], format='%m/%d/%Y')"
      ],
      "metadata": {
        "colab": {
          "base_uri": "https://localhost:8080/",
          "height": 478
        },
        "id": "O0MjflxYcm_r",
        "outputId": "23d09adc-995d-4bd9-caa4-3f89121cb41d"
      },
      "execution_count": null,
      "outputs": [
        {
          "output_type": "error",
          "ename": "KeyError",
          "evalue": "'Date'",
          "traceback": [
            "\u001b[0;31m---------------------------------------------------------------------------\u001b[0m",
            "\u001b[0;31mKeyError\u001b[0m                                  Traceback (most recent call last)",
            "\u001b[0;32m/usr/local/lib/python3.10/dist-packages/pandas/core/indexes/base.py\u001b[0m in \u001b[0;36mget_loc\u001b[0;34m(self, key)\u001b[0m\n\u001b[1;32m   3652\u001b[0m         \u001b[0;32mtry\u001b[0m\u001b[0;34m:\u001b[0m\u001b[0;34m\u001b[0m\u001b[0;34m\u001b[0m\u001b[0m\n\u001b[0;32m-> 3653\u001b[0;31m             \u001b[0;32mreturn\u001b[0m \u001b[0mself\u001b[0m\u001b[0;34m.\u001b[0m\u001b[0m_engine\u001b[0m\u001b[0;34m.\u001b[0m\u001b[0mget_loc\u001b[0m\u001b[0;34m(\u001b[0m\u001b[0mcasted_key\u001b[0m\u001b[0;34m)\u001b[0m\u001b[0;34m\u001b[0m\u001b[0;34m\u001b[0m\u001b[0m\n\u001b[0m\u001b[1;32m   3654\u001b[0m         \u001b[0;32mexcept\u001b[0m \u001b[0mKeyError\u001b[0m \u001b[0;32mas\u001b[0m \u001b[0merr\u001b[0m\u001b[0;34m:\u001b[0m\u001b[0;34m\u001b[0m\u001b[0;34m\u001b[0m\u001b[0m\n",
            "\u001b[0;32m/usr/local/lib/python3.10/dist-packages/pandas/_libs/index.pyx\u001b[0m in \u001b[0;36mpandas._libs.index.IndexEngine.get_loc\u001b[0;34m()\u001b[0m\n",
            "\u001b[0;32m/usr/local/lib/python3.10/dist-packages/pandas/_libs/index.pyx\u001b[0m in \u001b[0;36mpandas._libs.index.IndexEngine.get_loc\u001b[0;34m()\u001b[0m\n",
            "\u001b[0;32mpandas/_libs/hashtable_class_helper.pxi\u001b[0m in \u001b[0;36mpandas._libs.hashtable.PyObjectHashTable.get_item\u001b[0;34m()\u001b[0m\n",
            "\u001b[0;32mpandas/_libs/hashtable_class_helper.pxi\u001b[0m in \u001b[0;36mpandas._libs.hashtable.PyObjectHashTable.get_item\u001b[0;34m()\u001b[0m\n",
            "\u001b[0;31mKeyError\u001b[0m: 'Date'",
            "\nThe above exception was the direct cause of the following exception:\n",
            "\u001b[0;31mKeyError\u001b[0m                                  Traceback (most recent call last)",
            "\u001b[0;32m<ipython-input-5-2eec5e2c6a70>\u001b[0m in \u001b[0;36m<cell line: 2>\u001b[0;34m()\u001b[0m\n\u001b[1;32m      1\u001b[0m \u001b[0;31m# Format \"Date\" column\u001b[0m\u001b[0;34m\u001b[0m\u001b[0;34m\u001b[0m\u001b[0m\n\u001b[0;32m----> 2\u001b[0;31m \u001b[0meth_df\u001b[0m\u001b[0;34m[\u001b[0m\u001b[0;34m'Date'\u001b[0m\u001b[0;34m]\u001b[0m \u001b[0;34m=\u001b[0m \u001b[0mpd\u001b[0m\u001b[0;34m.\u001b[0m\u001b[0mto_datetime\u001b[0m\u001b[0;34m(\u001b[0m\u001b[0meth_df\u001b[0m\u001b[0;34m[\u001b[0m\u001b[0;34m'Date'\u001b[0m\u001b[0;34m]\u001b[0m\u001b[0;34m,\u001b[0m \u001b[0mformat\u001b[0m\u001b[0;34m=\u001b[0m\u001b[0;34m'%m/%d/%Y'\u001b[0m\u001b[0;34m)\u001b[0m\u001b[0;34m\u001b[0m\u001b[0;34m\u001b[0m\u001b[0m\n\u001b[0m",
            "\u001b[0;32m/usr/local/lib/python3.10/dist-packages/pandas/core/frame.py\u001b[0m in \u001b[0;36m__getitem__\u001b[0;34m(self, key)\u001b[0m\n\u001b[1;32m   3759\u001b[0m             \u001b[0;32mif\u001b[0m \u001b[0mself\u001b[0m\u001b[0;34m.\u001b[0m\u001b[0mcolumns\u001b[0m\u001b[0;34m.\u001b[0m\u001b[0mnlevels\u001b[0m \u001b[0;34m>\u001b[0m \u001b[0;36m1\u001b[0m\u001b[0;34m:\u001b[0m\u001b[0;34m\u001b[0m\u001b[0;34m\u001b[0m\u001b[0m\n\u001b[1;32m   3760\u001b[0m                 \u001b[0;32mreturn\u001b[0m \u001b[0mself\u001b[0m\u001b[0;34m.\u001b[0m\u001b[0m_getitem_multilevel\u001b[0m\u001b[0;34m(\u001b[0m\u001b[0mkey\u001b[0m\u001b[0;34m)\u001b[0m\u001b[0;34m\u001b[0m\u001b[0;34m\u001b[0m\u001b[0m\n\u001b[0;32m-> 3761\u001b[0;31m             \u001b[0mindexer\u001b[0m \u001b[0;34m=\u001b[0m \u001b[0mself\u001b[0m\u001b[0;34m.\u001b[0m\u001b[0mcolumns\u001b[0m\u001b[0;34m.\u001b[0m\u001b[0mget_loc\u001b[0m\u001b[0;34m(\u001b[0m\u001b[0mkey\u001b[0m\u001b[0;34m)\u001b[0m\u001b[0;34m\u001b[0m\u001b[0;34m\u001b[0m\u001b[0m\n\u001b[0m\u001b[1;32m   3762\u001b[0m             \u001b[0;32mif\u001b[0m \u001b[0mis_integer\u001b[0m\u001b[0;34m(\u001b[0m\u001b[0mindexer\u001b[0m\u001b[0;34m)\u001b[0m\u001b[0;34m:\u001b[0m\u001b[0;34m\u001b[0m\u001b[0;34m\u001b[0m\u001b[0m\n\u001b[1;32m   3763\u001b[0m                 \u001b[0mindexer\u001b[0m \u001b[0;34m=\u001b[0m \u001b[0;34m[\u001b[0m\u001b[0mindexer\u001b[0m\u001b[0;34m]\u001b[0m\u001b[0;34m\u001b[0m\u001b[0;34m\u001b[0m\u001b[0m\n",
            "\u001b[0;32m/usr/local/lib/python3.10/dist-packages/pandas/core/indexes/base.py\u001b[0m in \u001b[0;36mget_loc\u001b[0;34m(self, key)\u001b[0m\n\u001b[1;32m   3653\u001b[0m             \u001b[0;32mreturn\u001b[0m \u001b[0mself\u001b[0m\u001b[0;34m.\u001b[0m\u001b[0m_engine\u001b[0m\u001b[0;34m.\u001b[0m\u001b[0mget_loc\u001b[0m\u001b[0;34m(\u001b[0m\u001b[0mcasted_key\u001b[0m\u001b[0;34m)\u001b[0m\u001b[0;34m\u001b[0m\u001b[0;34m\u001b[0m\u001b[0m\n\u001b[1;32m   3654\u001b[0m         \u001b[0;32mexcept\u001b[0m \u001b[0mKeyError\u001b[0m \u001b[0;32mas\u001b[0m \u001b[0merr\u001b[0m\u001b[0;34m:\u001b[0m\u001b[0;34m\u001b[0m\u001b[0;34m\u001b[0m\u001b[0m\n\u001b[0;32m-> 3655\u001b[0;31m             \u001b[0;32mraise\u001b[0m \u001b[0mKeyError\u001b[0m\u001b[0;34m(\u001b[0m\u001b[0mkey\u001b[0m\u001b[0;34m)\u001b[0m \u001b[0;32mfrom\u001b[0m \u001b[0merr\u001b[0m\u001b[0;34m\u001b[0m\u001b[0;34m\u001b[0m\u001b[0m\n\u001b[0m\u001b[1;32m   3656\u001b[0m         \u001b[0;32mexcept\u001b[0m \u001b[0mTypeError\u001b[0m\u001b[0;34m:\u001b[0m\u001b[0;34m\u001b[0m\u001b[0;34m\u001b[0m\u001b[0m\n\u001b[1;32m   3657\u001b[0m             \u001b[0;31m# If we have a listlike key, _check_indexing_error will raise\u001b[0m\u001b[0;34m\u001b[0m\u001b[0;34m\u001b[0m\u001b[0m\n",
            "\u001b[0;31mKeyError\u001b[0m: 'Date'"
          ]
        }
      ]
    },
    {
      "cell_type": "code",
      "source": [
        "print(eth_df.info())"
      ],
      "metadata": {
        "colab": {
          "base_uri": "https://localhost:8080/"
        },
        "id": "iTBnmtJf3caa",
        "outputId": "81c40de6-900d-4084-ee90-03a3708df86e"
      },
      "execution_count": null,
      "outputs": [
        {
          "output_type": "stream",
          "name": "stdout",
          "text": [
            "<class 'pandas.core.frame.DataFrame'>\n",
            "DatetimeIndex: 1920 entries, 2024-06-01 to 2019-03-01\n",
            "Data columns (total 6 columns):\n",
            " #   Column    Non-Null Count  Dtype \n",
            "---  ------    --------------  ----- \n",
            " 0   Price     1920 non-null   object\n",
            " 1   Open      1920 non-null   object\n",
            " 2   High      1920 non-null   object\n",
            " 3   Low       1920 non-null   object\n",
            " 4   Vol.      1920 non-null   object\n",
            " 5   Change %  1920 non-null   object\n",
            "dtypes: object(6)\n",
            "memory usage: 105.0+ KB\n",
            "None\n"
          ]
        }
      ]
    },
    {
      "cell_type": "code",
      "source": [
        "# Hàm để chuyển đổi giá trị có 'K', 'M', hoặc 'B' thành số thực.\n",
        "def convert_volume(value):\n",
        "    if 'K' in value:\n",
        "        return float(value.replace('K', '')) * 1e3\n",
        "    elif 'M' in value:\n",
        "        return float(value.replace('M', '')) * 1e6\n",
        "    elif 'B' in value:\n",
        "        return float(value.replace('B', '')) * 1e9\n",
        "    else:\n",
        "        return float(value)\n",
        "\n",
        "# Áp dụng hàm cho mỗi giá trị trong cột 'Vol.'.\n",
        "eth_df['Vol.'] = eth_df['Vol.'].apply(convert_volume)\n"
      ],
      "metadata": {
        "id": "MwZEQMxG8SfD"
      },
      "execution_count": null,
      "outputs": []
    },
    {
      "cell_type": "code",
      "source": [
        "# Hàm để chuyển đổi giá trị có dấu % thành số thực.\n",
        "def convert_percent_to_float(value):\n",
        "    return float(value.replace('%', '')) / 100\n",
        "\n",
        "# Giả sử etr_df là DataFrame của bạn với cột 'Percentage' cần được chuyển đổi.\n",
        "# etr_df['Percentage'] = ...\n",
        "\n",
        "# Áp dụng hàm cho mỗi giá trị trong cột 'Percentage'.\n",
        "eth_df['Change %'] = eth_df['Change %'].apply(convert_percent_to_float)\n"
      ],
      "metadata": {
        "id": "bsFiDhee88wq"
      },
      "execution_count": null,
      "outputs": []
    },
    {
      "cell_type": "code",
      "source": [
        "eth_df"
      ],
      "metadata": {
        "colab": {
          "base_uri": "https://localhost:8080/",
          "height": 455
        },
        "id": "sJPM0dDT8VsR",
        "outputId": "4911faee-791a-4e60-b28d-057a6c8ecf17"
      },
      "execution_count": null,
      "outputs": [
        {
          "output_type": "execute_result",
          "data": {
            "text/plain": [
              "               Price      Open      High       Low        Vol.  Change %\n",
              "Date                                                                    \n",
              "2024-06-01  3,815.95  3,762.63  3,832.35  3,753.32    143810.0    0.0142\n",
              "2024-05-31  3,762.66  3,747.89  3,844.96  3,724.57    294560.0    0.0040\n",
              "2024-05-30  3,747.55  3,767.22  3,824.94  3,703.74    293810.0   -0.0058\n",
              "2024-05-29  3,769.57  3,845.56  3,886.44  3,745.72    353250.0   -0.0198\n",
              "2024-05-28  3,845.56  3,894.33  3,929.21  3,775.08    436240.0   -0.0125\n",
              "...              ...       ...       ...       ...         ...       ...\n",
              "2019-03-05    136.82    125.97    141.11    125.44  16740000.0    0.0861\n",
              "2019-03-04    125.97    131.02    131.57    123.25  14110000.0   -0.0385\n",
              "2019-03-03    131.01    132.77    168.42    129.05  10640000.0   -0.0132\n",
              "2019-03-02    132.76    135.72    136.36    130.74  11290000.0   -0.0218\n",
              "2019-03-01    135.72    135.47    138.06    128.46   9730000.0    0.0018\n",
              "\n",
              "[1920 rows x 6 columns]"
            ],
            "text/html": [
              "\n",
              "  <div id=\"df-7a49f958-5c20-41c5-96aa-d82c38373090\" class=\"colab-df-container\">\n",
              "    <div>\n",
              "<style scoped>\n",
              "    .dataframe tbody tr th:only-of-type {\n",
              "        vertical-align: middle;\n",
              "    }\n",
              "\n",
              "    .dataframe tbody tr th {\n",
              "        vertical-align: top;\n",
              "    }\n",
              "\n",
              "    .dataframe thead th {\n",
              "        text-align: right;\n",
              "    }\n",
              "</style>\n",
              "<table border=\"1\" class=\"dataframe\">\n",
              "  <thead>\n",
              "    <tr style=\"text-align: right;\">\n",
              "      <th></th>\n",
              "      <th>Price</th>\n",
              "      <th>Open</th>\n",
              "      <th>High</th>\n",
              "      <th>Low</th>\n",
              "      <th>Vol.</th>\n",
              "      <th>Change %</th>\n",
              "    </tr>\n",
              "    <tr>\n",
              "      <th>Date</th>\n",
              "      <th></th>\n",
              "      <th></th>\n",
              "      <th></th>\n",
              "      <th></th>\n",
              "      <th></th>\n",
              "      <th></th>\n",
              "    </tr>\n",
              "  </thead>\n",
              "  <tbody>\n",
              "    <tr>\n",
              "      <th>2024-06-01</th>\n",
              "      <td>3,815.95</td>\n",
              "      <td>3,762.63</td>\n",
              "      <td>3,832.35</td>\n",
              "      <td>3,753.32</td>\n",
              "      <td>143810.0</td>\n",
              "      <td>0.0142</td>\n",
              "    </tr>\n",
              "    <tr>\n",
              "      <th>2024-05-31</th>\n",
              "      <td>3,762.66</td>\n",
              "      <td>3,747.89</td>\n",
              "      <td>3,844.96</td>\n",
              "      <td>3,724.57</td>\n",
              "      <td>294560.0</td>\n",
              "      <td>0.0040</td>\n",
              "    </tr>\n",
              "    <tr>\n",
              "      <th>2024-05-30</th>\n",
              "      <td>3,747.55</td>\n",
              "      <td>3,767.22</td>\n",
              "      <td>3,824.94</td>\n",
              "      <td>3,703.74</td>\n",
              "      <td>293810.0</td>\n",
              "      <td>-0.0058</td>\n",
              "    </tr>\n",
              "    <tr>\n",
              "      <th>2024-05-29</th>\n",
              "      <td>3,769.57</td>\n",
              "      <td>3,845.56</td>\n",
              "      <td>3,886.44</td>\n",
              "      <td>3,745.72</td>\n",
              "      <td>353250.0</td>\n",
              "      <td>-0.0198</td>\n",
              "    </tr>\n",
              "    <tr>\n",
              "      <th>2024-05-28</th>\n",
              "      <td>3,845.56</td>\n",
              "      <td>3,894.33</td>\n",
              "      <td>3,929.21</td>\n",
              "      <td>3,775.08</td>\n",
              "      <td>436240.0</td>\n",
              "      <td>-0.0125</td>\n",
              "    </tr>\n",
              "    <tr>\n",
              "      <th>...</th>\n",
              "      <td>...</td>\n",
              "      <td>...</td>\n",
              "      <td>...</td>\n",
              "      <td>...</td>\n",
              "      <td>...</td>\n",
              "      <td>...</td>\n",
              "    </tr>\n",
              "    <tr>\n",
              "      <th>2019-03-05</th>\n",
              "      <td>136.82</td>\n",
              "      <td>125.97</td>\n",
              "      <td>141.11</td>\n",
              "      <td>125.44</td>\n",
              "      <td>16740000.0</td>\n",
              "      <td>0.0861</td>\n",
              "    </tr>\n",
              "    <tr>\n",
              "      <th>2019-03-04</th>\n",
              "      <td>125.97</td>\n",
              "      <td>131.02</td>\n",
              "      <td>131.57</td>\n",
              "      <td>123.25</td>\n",
              "      <td>14110000.0</td>\n",
              "      <td>-0.0385</td>\n",
              "    </tr>\n",
              "    <tr>\n",
              "      <th>2019-03-03</th>\n",
              "      <td>131.01</td>\n",
              "      <td>132.77</td>\n",
              "      <td>168.42</td>\n",
              "      <td>129.05</td>\n",
              "      <td>10640000.0</td>\n",
              "      <td>-0.0132</td>\n",
              "    </tr>\n",
              "    <tr>\n",
              "      <th>2019-03-02</th>\n",
              "      <td>132.76</td>\n",
              "      <td>135.72</td>\n",
              "      <td>136.36</td>\n",
              "      <td>130.74</td>\n",
              "      <td>11290000.0</td>\n",
              "      <td>-0.0218</td>\n",
              "    </tr>\n",
              "    <tr>\n",
              "      <th>2019-03-01</th>\n",
              "      <td>135.72</td>\n",
              "      <td>135.47</td>\n",
              "      <td>138.06</td>\n",
              "      <td>128.46</td>\n",
              "      <td>9730000.0</td>\n",
              "      <td>0.0018</td>\n",
              "    </tr>\n",
              "  </tbody>\n",
              "</table>\n",
              "<p>1920 rows × 6 columns</p>\n",
              "</div>\n",
              "    <div class=\"colab-df-buttons\">\n",
              "\n",
              "  <div class=\"colab-df-container\">\n",
              "    <button class=\"colab-df-convert\" onclick=\"convertToInteractive('df-7a49f958-5c20-41c5-96aa-d82c38373090')\"\n",
              "            title=\"Convert this dataframe to an interactive table.\"\n",
              "            style=\"display:none;\">\n",
              "\n",
              "  <svg xmlns=\"http://www.w3.org/2000/svg\" height=\"24px\" viewBox=\"0 -960 960 960\">\n",
              "    <path d=\"M120-120v-720h720v720H120Zm60-500h600v-160H180v160Zm220 220h160v-160H400v160Zm0 220h160v-160H400v160ZM180-400h160v-160H180v160Zm440 0h160v-160H620v160ZM180-180h160v-160H180v160Zm440 0h160v-160H620v160Z\"/>\n",
              "  </svg>\n",
              "    </button>\n",
              "\n",
              "  <style>\n",
              "    .colab-df-container {\n",
              "      display:flex;\n",
              "      gap: 12px;\n",
              "    }\n",
              "\n",
              "    .colab-df-convert {\n",
              "      background-color: #E8F0FE;\n",
              "      border: none;\n",
              "      border-radius: 50%;\n",
              "      cursor: pointer;\n",
              "      display: none;\n",
              "      fill: #1967D2;\n",
              "      height: 32px;\n",
              "      padding: 0 0 0 0;\n",
              "      width: 32px;\n",
              "    }\n",
              "\n",
              "    .colab-df-convert:hover {\n",
              "      background-color: #E2EBFA;\n",
              "      box-shadow: 0px 1px 2px rgba(60, 64, 67, 0.3), 0px 1px 3px 1px rgba(60, 64, 67, 0.15);\n",
              "      fill: #174EA6;\n",
              "    }\n",
              "\n",
              "    .colab-df-buttons div {\n",
              "      margin-bottom: 4px;\n",
              "    }\n",
              "\n",
              "    [theme=dark] .colab-df-convert {\n",
              "      background-color: #3B4455;\n",
              "      fill: #D2E3FC;\n",
              "    }\n",
              "\n",
              "    [theme=dark] .colab-df-convert:hover {\n",
              "      background-color: #434B5C;\n",
              "      box-shadow: 0px 1px 3px 1px rgba(0, 0, 0, 0.15);\n",
              "      filter: drop-shadow(0px 1px 2px rgba(0, 0, 0, 0.3));\n",
              "      fill: #FFFFFF;\n",
              "    }\n",
              "  </style>\n",
              "\n",
              "    <script>\n",
              "      const buttonEl =\n",
              "        document.querySelector('#df-7a49f958-5c20-41c5-96aa-d82c38373090 button.colab-df-convert');\n",
              "      buttonEl.style.display =\n",
              "        google.colab.kernel.accessAllowed ? 'block' : 'none';\n",
              "\n",
              "      async function convertToInteractive(key) {\n",
              "        const element = document.querySelector('#df-7a49f958-5c20-41c5-96aa-d82c38373090');\n",
              "        const dataTable =\n",
              "          await google.colab.kernel.invokeFunction('convertToInteractive',\n",
              "                                                    [key], {});\n",
              "        if (!dataTable) return;\n",
              "\n",
              "        const docLinkHtml = 'Like what you see? Visit the ' +\n",
              "          '<a target=\"_blank\" href=https://colab.research.google.com/notebooks/data_table.ipynb>data table notebook</a>'\n",
              "          + ' to learn more about interactive tables.';\n",
              "        element.innerHTML = '';\n",
              "        dataTable['output_type'] = 'display_data';\n",
              "        await google.colab.output.renderOutput(dataTable, element);\n",
              "        const docLink = document.createElement('div');\n",
              "        docLink.innerHTML = docLinkHtml;\n",
              "        element.appendChild(docLink);\n",
              "      }\n",
              "    </script>\n",
              "  </div>\n",
              "\n",
              "\n",
              "<div id=\"df-13d80539-d482-4011-b2e0-f9c10c56baf6\">\n",
              "  <button class=\"colab-df-quickchart\" onclick=\"quickchart('df-13d80539-d482-4011-b2e0-f9c10c56baf6')\"\n",
              "            title=\"Suggest charts\"\n",
              "            style=\"display:none;\">\n",
              "\n",
              "<svg xmlns=\"http://www.w3.org/2000/svg\" height=\"24px\"viewBox=\"0 0 24 24\"\n",
              "     width=\"24px\">\n",
              "    <g>\n",
              "        <path d=\"M19 3H5c-1.1 0-2 .9-2 2v14c0 1.1.9 2 2 2h14c1.1 0 2-.9 2-2V5c0-1.1-.9-2-2-2zM9 17H7v-7h2v7zm4 0h-2V7h2v10zm4 0h-2v-4h2v4z\"/>\n",
              "    </g>\n",
              "</svg>\n",
              "  </button>\n",
              "\n",
              "<style>\n",
              "  .colab-df-quickchart {\n",
              "      --bg-color: #E8F0FE;\n",
              "      --fill-color: #1967D2;\n",
              "      --hover-bg-color: #E2EBFA;\n",
              "      --hover-fill-color: #174EA6;\n",
              "      --disabled-fill-color: #AAA;\n",
              "      --disabled-bg-color: #DDD;\n",
              "  }\n",
              "\n",
              "  [theme=dark] .colab-df-quickchart {\n",
              "      --bg-color: #3B4455;\n",
              "      --fill-color: #D2E3FC;\n",
              "      --hover-bg-color: #434B5C;\n",
              "      --hover-fill-color: #FFFFFF;\n",
              "      --disabled-bg-color: #3B4455;\n",
              "      --disabled-fill-color: #666;\n",
              "  }\n",
              "\n",
              "  .colab-df-quickchart {\n",
              "    background-color: var(--bg-color);\n",
              "    border: none;\n",
              "    border-radius: 50%;\n",
              "    cursor: pointer;\n",
              "    display: none;\n",
              "    fill: var(--fill-color);\n",
              "    height: 32px;\n",
              "    padding: 0;\n",
              "    width: 32px;\n",
              "  }\n",
              "\n",
              "  .colab-df-quickchart:hover {\n",
              "    background-color: var(--hover-bg-color);\n",
              "    box-shadow: 0 1px 2px rgba(60, 64, 67, 0.3), 0 1px 3px 1px rgba(60, 64, 67, 0.15);\n",
              "    fill: var(--button-hover-fill-color);\n",
              "  }\n",
              "\n",
              "  .colab-df-quickchart-complete:disabled,\n",
              "  .colab-df-quickchart-complete:disabled:hover {\n",
              "    background-color: var(--disabled-bg-color);\n",
              "    fill: var(--disabled-fill-color);\n",
              "    box-shadow: none;\n",
              "  }\n",
              "\n",
              "  .colab-df-spinner {\n",
              "    border: 2px solid var(--fill-color);\n",
              "    border-color: transparent;\n",
              "    border-bottom-color: var(--fill-color);\n",
              "    animation:\n",
              "      spin 1s steps(1) infinite;\n",
              "  }\n",
              "\n",
              "  @keyframes spin {\n",
              "    0% {\n",
              "      border-color: transparent;\n",
              "      border-bottom-color: var(--fill-color);\n",
              "      border-left-color: var(--fill-color);\n",
              "    }\n",
              "    20% {\n",
              "      border-color: transparent;\n",
              "      border-left-color: var(--fill-color);\n",
              "      border-top-color: var(--fill-color);\n",
              "    }\n",
              "    30% {\n",
              "      border-color: transparent;\n",
              "      border-left-color: var(--fill-color);\n",
              "      border-top-color: var(--fill-color);\n",
              "      border-right-color: var(--fill-color);\n",
              "    }\n",
              "    40% {\n",
              "      border-color: transparent;\n",
              "      border-right-color: var(--fill-color);\n",
              "      border-top-color: var(--fill-color);\n",
              "    }\n",
              "    60% {\n",
              "      border-color: transparent;\n",
              "      border-right-color: var(--fill-color);\n",
              "    }\n",
              "    80% {\n",
              "      border-color: transparent;\n",
              "      border-right-color: var(--fill-color);\n",
              "      border-bottom-color: var(--fill-color);\n",
              "    }\n",
              "    90% {\n",
              "      border-color: transparent;\n",
              "      border-bottom-color: var(--fill-color);\n",
              "    }\n",
              "  }\n",
              "</style>\n",
              "\n",
              "  <script>\n",
              "    async function quickchart(key) {\n",
              "      const quickchartButtonEl =\n",
              "        document.querySelector('#' + key + ' button');\n",
              "      quickchartButtonEl.disabled = true;  // To prevent multiple clicks.\n",
              "      quickchartButtonEl.classList.add('colab-df-spinner');\n",
              "      try {\n",
              "        const charts = await google.colab.kernel.invokeFunction(\n",
              "            'suggestCharts', [key], {});\n",
              "      } catch (error) {\n",
              "        console.error('Error during call to suggestCharts:', error);\n",
              "      }\n",
              "      quickchartButtonEl.classList.remove('colab-df-spinner');\n",
              "      quickchartButtonEl.classList.add('colab-df-quickchart-complete');\n",
              "    }\n",
              "    (() => {\n",
              "      let quickchartButtonEl =\n",
              "        document.querySelector('#df-13d80539-d482-4011-b2e0-f9c10c56baf6 button');\n",
              "      quickchartButtonEl.style.display =\n",
              "        google.colab.kernel.accessAllowed ? 'block' : 'none';\n",
              "    })();\n",
              "  </script>\n",
              "</div>\n",
              "    </div>\n",
              "  </div>\n"
            ],
            "application/vnd.google.colaboratory.intrinsic+json": {
              "type": "dataframe",
              "variable_name": "eth_df",
              "summary": "{\n  \"name\": \"eth_df\",\n  \"rows\": 1920,\n  \"fields\": [\n    {\n      \"column\": \"Date\",\n      \"properties\": {\n        \"dtype\": \"date\",\n        \"min\": \"2019-03-01 00:00:00\",\n        \"max\": \"2024-06-01 00:00:00\",\n        \"num_unique_values\": 1920,\n        \"samples\": [\n          \"2021-09-07 00:00:00\",\n          \"2019-12-24 00:00:00\",\n          \"2022-09-29 00:00:00\"\n        ],\n        \"semantic_type\": \"\",\n        \"description\": \"\"\n      }\n    },\n    {\n      \"column\": \"Price\",\n      \"properties\": {\n        \"dtype\": \"string\",\n        \"num_unique_values\": 1900,\n        \"samples\": [\n          \"1,117.33\",\n          \"2,506.69\",\n          \"1,203.77\"\n        ],\n        \"semantic_type\": \"\",\n        \"description\": \"\"\n      }\n    },\n    {\n      \"column\": \"Open\",\n      \"properties\": {\n        \"dtype\": \"string\",\n        \"num_unique_values\": 1900,\n        \"samples\": [\n          \"1,118.01\",\n          \"2,500.28\",\n          \"1,185.70\"\n        ],\n        \"semantic_type\": \"\",\n        \"description\": \"\"\n      }\n    },\n    {\n      \"column\": \"High\",\n      \"properties\": {\n        \"dtype\": \"string\",\n        \"num_unique_values\": 1909,\n        \"samples\": [\n          \"229.80\",\n          \"2,537.85\",\n          \"160.28\"\n        ],\n        \"semantic_type\": \"\",\n        \"description\": \"\"\n      }\n    },\n    {\n      \"column\": \"Low\",\n      \"properties\": {\n        \"dtype\": \"string\",\n        \"num_unique_values\": 1908,\n        \"samples\": [\n          \"223.79\",\n          \"2,493.83\",\n          \"167.03\"\n        ],\n        \"semantic_type\": \"\",\n        \"description\": \"\"\n      }\n    },\n    {\n      \"column\": \"Vol.\",\n      \"properties\": {\n        \"dtype\": \"number\",\n        \"std\": 112208076.64132501,\n        \"min\": 27030.0,\n        \"max\": 1790000000.0,\n        \"num_unique_values\": 1613,\n        \"samples\": [\n          381950.0,\n          194290.0,\n          229740.0\n        ],\n        \"semantic_type\": \"\",\n        \"description\": \"\"\n      }\n    },\n    {\n      \"column\": \"Change %\",\n      \"properties\": {\n        \"dtype\": \"number\",\n        \"std\": 0.04447354266892567,\n        \"min\": -0.44549999999999995,\n        \"max\": 0.2596,\n        \"num_unique_values\": 1042,\n        \"samples\": [\n          -0.0199,\n          -0.0123,\n          0.0362\n        ],\n        \"semantic_type\": \"\",\n        \"description\": \"\"\n      }\n    }\n  ]\n}"
            }
          },
          "metadata": {},
          "execution_count": 9
        }
      ]
    },
    {
      "cell_type": "markdown",
      "source": [
        "***# Descriptive Analysis***"
      ],
      "metadata": {
        "id": "cv8peQcFnTkA"
      }
    },
    {
      "cell_type": "code",
      "source": [
        "eth_df.describe()\n"
      ],
      "metadata": {
        "colab": {
          "base_uri": "https://localhost:8080/",
          "height": 300
        },
        "id": "X_-1mjLVq7aD",
        "outputId": "f14aeae2-579f-4252-910d-f7739316b3ae"
      },
      "execution_count": null,
      "outputs": [
        {
          "output_type": "execute_result",
          "data": {
            "text/plain": [
              "               Vol.     Change %\n",
              "count  1.920000e+03  1920.000000\n",
              "mean   1.454516e+07     0.002749\n",
              "std    1.122081e+08     0.044474\n",
              "min    2.703000e+04    -0.445500\n",
              "25%    4.808800e+05    -0.017600\n",
              "50%    1.165000e+06     0.001400\n",
              "75%    8.500000e+06     0.022925\n",
              "max    1.790000e+09     0.259600"
            ],
            "text/html": [
              "\n",
              "  <div id=\"df-55f59f3f-cce3-49d8-9de8-e9b8d39c6b64\" class=\"colab-df-container\">\n",
              "    <div>\n",
              "<style scoped>\n",
              "    .dataframe tbody tr th:only-of-type {\n",
              "        vertical-align: middle;\n",
              "    }\n",
              "\n",
              "    .dataframe tbody tr th {\n",
              "        vertical-align: top;\n",
              "    }\n",
              "\n",
              "    .dataframe thead th {\n",
              "        text-align: right;\n",
              "    }\n",
              "</style>\n",
              "<table border=\"1\" class=\"dataframe\">\n",
              "  <thead>\n",
              "    <tr style=\"text-align: right;\">\n",
              "      <th></th>\n",
              "      <th>Vol.</th>\n",
              "      <th>Change %</th>\n",
              "    </tr>\n",
              "  </thead>\n",
              "  <tbody>\n",
              "    <tr>\n",
              "      <th>count</th>\n",
              "      <td>1.920000e+03</td>\n",
              "      <td>1920.000000</td>\n",
              "    </tr>\n",
              "    <tr>\n",
              "      <th>mean</th>\n",
              "      <td>1.454516e+07</td>\n",
              "      <td>0.002749</td>\n",
              "    </tr>\n",
              "    <tr>\n",
              "      <th>std</th>\n",
              "      <td>1.122081e+08</td>\n",
              "      <td>0.044474</td>\n",
              "    </tr>\n",
              "    <tr>\n",
              "      <th>min</th>\n",
              "      <td>2.703000e+04</td>\n",
              "      <td>-0.445500</td>\n",
              "    </tr>\n",
              "    <tr>\n",
              "      <th>25%</th>\n",
              "      <td>4.808800e+05</td>\n",
              "      <td>-0.017600</td>\n",
              "    </tr>\n",
              "    <tr>\n",
              "      <th>50%</th>\n",
              "      <td>1.165000e+06</td>\n",
              "      <td>0.001400</td>\n",
              "    </tr>\n",
              "    <tr>\n",
              "      <th>75%</th>\n",
              "      <td>8.500000e+06</td>\n",
              "      <td>0.022925</td>\n",
              "    </tr>\n",
              "    <tr>\n",
              "      <th>max</th>\n",
              "      <td>1.790000e+09</td>\n",
              "      <td>0.259600</td>\n",
              "    </tr>\n",
              "  </tbody>\n",
              "</table>\n",
              "</div>\n",
              "    <div class=\"colab-df-buttons\">\n",
              "\n",
              "  <div class=\"colab-df-container\">\n",
              "    <button class=\"colab-df-convert\" onclick=\"convertToInteractive('df-55f59f3f-cce3-49d8-9de8-e9b8d39c6b64')\"\n",
              "            title=\"Convert this dataframe to an interactive table.\"\n",
              "            style=\"display:none;\">\n",
              "\n",
              "  <svg xmlns=\"http://www.w3.org/2000/svg\" height=\"24px\" viewBox=\"0 -960 960 960\">\n",
              "    <path d=\"M120-120v-720h720v720H120Zm60-500h600v-160H180v160Zm220 220h160v-160H400v160Zm0 220h160v-160H400v160ZM180-400h160v-160H180v160Zm440 0h160v-160H620v160ZM180-180h160v-160H180v160Zm440 0h160v-160H620v160Z\"/>\n",
              "  </svg>\n",
              "    </button>\n",
              "\n",
              "  <style>\n",
              "    .colab-df-container {\n",
              "      display:flex;\n",
              "      gap: 12px;\n",
              "    }\n",
              "\n",
              "    .colab-df-convert {\n",
              "      background-color: #E8F0FE;\n",
              "      border: none;\n",
              "      border-radius: 50%;\n",
              "      cursor: pointer;\n",
              "      display: none;\n",
              "      fill: #1967D2;\n",
              "      height: 32px;\n",
              "      padding: 0 0 0 0;\n",
              "      width: 32px;\n",
              "    }\n",
              "\n",
              "    .colab-df-convert:hover {\n",
              "      background-color: #E2EBFA;\n",
              "      box-shadow: 0px 1px 2px rgba(60, 64, 67, 0.3), 0px 1px 3px 1px rgba(60, 64, 67, 0.15);\n",
              "      fill: #174EA6;\n",
              "    }\n",
              "\n",
              "    .colab-df-buttons div {\n",
              "      margin-bottom: 4px;\n",
              "    }\n",
              "\n",
              "    [theme=dark] .colab-df-convert {\n",
              "      background-color: #3B4455;\n",
              "      fill: #D2E3FC;\n",
              "    }\n",
              "\n",
              "    [theme=dark] .colab-df-convert:hover {\n",
              "      background-color: #434B5C;\n",
              "      box-shadow: 0px 1px 3px 1px rgba(0, 0, 0, 0.15);\n",
              "      filter: drop-shadow(0px 1px 2px rgba(0, 0, 0, 0.3));\n",
              "      fill: #FFFFFF;\n",
              "    }\n",
              "  </style>\n",
              "\n",
              "    <script>\n",
              "      const buttonEl =\n",
              "        document.querySelector('#df-55f59f3f-cce3-49d8-9de8-e9b8d39c6b64 button.colab-df-convert');\n",
              "      buttonEl.style.display =\n",
              "        google.colab.kernel.accessAllowed ? 'block' : 'none';\n",
              "\n",
              "      async function convertToInteractive(key) {\n",
              "        const element = document.querySelector('#df-55f59f3f-cce3-49d8-9de8-e9b8d39c6b64');\n",
              "        const dataTable =\n",
              "          await google.colab.kernel.invokeFunction('convertToInteractive',\n",
              "                                                    [key], {});\n",
              "        if (!dataTable) return;\n",
              "\n",
              "        const docLinkHtml = 'Like what you see? Visit the ' +\n",
              "          '<a target=\"_blank\" href=https://colab.research.google.com/notebooks/data_table.ipynb>data table notebook</a>'\n",
              "          + ' to learn more about interactive tables.';\n",
              "        element.innerHTML = '';\n",
              "        dataTable['output_type'] = 'display_data';\n",
              "        await google.colab.output.renderOutput(dataTable, element);\n",
              "        const docLink = document.createElement('div');\n",
              "        docLink.innerHTML = docLinkHtml;\n",
              "        element.appendChild(docLink);\n",
              "      }\n",
              "    </script>\n",
              "  </div>\n",
              "\n",
              "\n",
              "<div id=\"df-b06e5a42-1b0a-4598-ab7f-9b8f57212842\">\n",
              "  <button class=\"colab-df-quickchart\" onclick=\"quickchart('df-b06e5a42-1b0a-4598-ab7f-9b8f57212842')\"\n",
              "            title=\"Suggest charts\"\n",
              "            style=\"display:none;\">\n",
              "\n",
              "<svg xmlns=\"http://www.w3.org/2000/svg\" height=\"24px\"viewBox=\"0 0 24 24\"\n",
              "     width=\"24px\">\n",
              "    <g>\n",
              "        <path d=\"M19 3H5c-1.1 0-2 .9-2 2v14c0 1.1.9 2 2 2h14c1.1 0 2-.9 2-2V5c0-1.1-.9-2-2-2zM9 17H7v-7h2v7zm4 0h-2V7h2v10zm4 0h-2v-4h2v4z\"/>\n",
              "    </g>\n",
              "</svg>\n",
              "  </button>\n",
              "\n",
              "<style>\n",
              "  .colab-df-quickchart {\n",
              "      --bg-color: #E8F0FE;\n",
              "      --fill-color: #1967D2;\n",
              "      --hover-bg-color: #E2EBFA;\n",
              "      --hover-fill-color: #174EA6;\n",
              "      --disabled-fill-color: #AAA;\n",
              "      --disabled-bg-color: #DDD;\n",
              "  }\n",
              "\n",
              "  [theme=dark] .colab-df-quickchart {\n",
              "      --bg-color: #3B4455;\n",
              "      --fill-color: #D2E3FC;\n",
              "      --hover-bg-color: #434B5C;\n",
              "      --hover-fill-color: #FFFFFF;\n",
              "      --disabled-bg-color: #3B4455;\n",
              "      --disabled-fill-color: #666;\n",
              "  }\n",
              "\n",
              "  .colab-df-quickchart {\n",
              "    background-color: var(--bg-color);\n",
              "    border: none;\n",
              "    border-radius: 50%;\n",
              "    cursor: pointer;\n",
              "    display: none;\n",
              "    fill: var(--fill-color);\n",
              "    height: 32px;\n",
              "    padding: 0;\n",
              "    width: 32px;\n",
              "  }\n",
              "\n",
              "  .colab-df-quickchart:hover {\n",
              "    background-color: var(--hover-bg-color);\n",
              "    box-shadow: 0 1px 2px rgba(60, 64, 67, 0.3), 0 1px 3px 1px rgba(60, 64, 67, 0.15);\n",
              "    fill: var(--button-hover-fill-color);\n",
              "  }\n",
              "\n",
              "  .colab-df-quickchart-complete:disabled,\n",
              "  .colab-df-quickchart-complete:disabled:hover {\n",
              "    background-color: var(--disabled-bg-color);\n",
              "    fill: var(--disabled-fill-color);\n",
              "    box-shadow: none;\n",
              "  }\n",
              "\n",
              "  .colab-df-spinner {\n",
              "    border: 2px solid var(--fill-color);\n",
              "    border-color: transparent;\n",
              "    border-bottom-color: var(--fill-color);\n",
              "    animation:\n",
              "      spin 1s steps(1) infinite;\n",
              "  }\n",
              "\n",
              "  @keyframes spin {\n",
              "    0% {\n",
              "      border-color: transparent;\n",
              "      border-bottom-color: var(--fill-color);\n",
              "      border-left-color: var(--fill-color);\n",
              "    }\n",
              "    20% {\n",
              "      border-color: transparent;\n",
              "      border-left-color: var(--fill-color);\n",
              "      border-top-color: var(--fill-color);\n",
              "    }\n",
              "    30% {\n",
              "      border-color: transparent;\n",
              "      border-left-color: var(--fill-color);\n",
              "      border-top-color: var(--fill-color);\n",
              "      border-right-color: var(--fill-color);\n",
              "    }\n",
              "    40% {\n",
              "      border-color: transparent;\n",
              "      border-right-color: var(--fill-color);\n",
              "      border-top-color: var(--fill-color);\n",
              "    }\n",
              "    60% {\n",
              "      border-color: transparent;\n",
              "      border-right-color: var(--fill-color);\n",
              "    }\n",
              "    80% {\n",
              "      border-color: transparent;\n",
              "      border-right-color: var(--fill-color);\n",
              "      border-bottom-color: var(--fill-color);\n",
              "    }\n",
              "    90% {\n",
              "      border-color: transparent;\n",
              "      border-bottom-color: var(--fill-color);\n",
              "    }\n",
              "  }\n",
              "</style>\n",
              "\n",
              "  <script>\n",
              "    async function quickchart(key) {\n",
              "      const quickchartButtonEl =\n",
              "        document.querySelector('#' + key + ' button');\n",
              "      quickchartButtonEl.disabled = true;  // To prevent multiple clicks.\n",
              "      quickchartButtonEl.classList.add('colab-df-spinner');\n",
              "      try {\n",
              "        const charts = await google.colab.kernel.invokeFunction(\n",
              "            'suggestCharts', [key], {});\n",
              "      } catch (error) {\n",
              "        console.error('Error during call to suggestCharts:', error);\n",
              "      }\n",
              "      quickchartButtonEl.classList.remove('colab-df-spinner');\n",
              "      quickchartButtonEl.classList.add('colab-df-quickchart-complete');\n",
              "    }\n",
              "    (() => {\n",
              "      let quickchartButtonEl =\n",
              "        document.querySelector('#df-b06e5a42-1b0a-4598-ab7f-9b8f57212842 button');\n",
              "      quickchartButtonEl.style.display =\n",
              "        google.colab.kernel.accessAllowed ? 'block' : 'none';\n",
              "    })();\n",
              "  </script>\n",
              "</div>\n",
              "    </div>\n",
              "  </div>\n"
            ],
            "application/vnd.google.colaboratory.intrinsic+json": {
              "type": "dataframe",
              "summary": "{\n  \"name\": \"eth_df\",\n  \"rows\": 8,\n  \"fields\": [\n    {\n      \"column\": \"Vol.\",\n      \"properties\": {\n        \"dtype\": \"number\",\n        \"std\": 627107256.9335763,\n        \"min\": 1920.0,\n        \"max\": 1790000000.0,\n        \"num_unique_values\": 8,\n        \"samples\": [\n          14545159.348958334,\n          1165000.0,\n          1920.0\n        ],\n        \"semantic_type\": \"\",\n        \"description\": \"\"\n      }\n    },\n    {\n      \"column\": \"Change %\",\n      \"properties\": {\n        \"dtype\": \"number\",\n        \"std\": 678.8292025358536,\n        \"min\": -0.44549999999999995,\n        \"max\": 1920.0,\n        \"num_unique_values\": 8,\n        \"samples\": [\n          0.002749375,\n          0.0014000000000000002,\n          1920.0\n        ],\n        \"semantic_type\": \"\",\n        \"description\": \"\"\n      }\n    }\n  ]\n}"
            }
          },
          "metadata": {},
          "execution_count": 10
        }
      ]
    },
    {
      "cell_type": "code",
      "source": [
        "eth_df['Price'] = eth_df['Price'].str.replace(',', '').astype(float)\n",
        "eth_df['Open'] = eth_df['Open'].str.replace(',', '').astype(float)\n",
        "eth_df['High'] =eth_df['High'].str.replace(',', '').astype(float)\n",
        "eth_df['Low'] = eth_df['Low'].str.replace(',', '').astype(float)\n",
        "eth_df"
      ],
      "metadata": {
        "colab": {
          "base_uri": "https://localhost:8080/",
          "height": 455
        },
        "id": "T1WuLNho3uv-",
        "outputId": "ffb8bbd9-86b0-4db4-ee8d-59e16bfee914"
      },
      "execution_count": null,
      "outputs": [
        {
          "output_type": "execute_result",
          "data": {
            "text/plain": [
              "              Price     Open     High      Low        Vol.  Change %\n",
              "Date                                                                \n",
              "2024-06-01  3815.95  3762.63  3832.35  3753.32    143810.0    0.0142\n",
              "2024-05-31  3762.66  3747.89  3844.96  3724.57    294560.0    0.0040\n",
              "2024-05-30  3747.55  3767.22  3824.94  3703.74    293810.0   -0.0058\n",
              "2024-05-29  3769.57  3845.56  3886.44  3745.72    353250.0   -0.0198\n",
              "2024-05-28  3845.56  3894.33  3929.21  3775.08    436240.0   -0.0125\n",
              "...             ...      ...      ...      ...         ...       ...\n",
              "2019-03-05   136.82   125.97   141.11   125.44  16740000.0    0.0861\n",
              "2019-03-04   125.97   131.02   131.57   123.25  14110000.0   -0.0385\n",
              "2019-03-03   131.01   132.77   168.42   129.05  10640000.0   -0.0132\n",
              "2019-03-02   132.76   135.72   136.36   130.74  11290000.0   -0.0218\n",
              "2019-03-01   135.72   135.47   138.06   128.46   9730000.0    0.0018\n",
              "\n",
              "[1920 rows x 6 columns]"
            ],
            "text/html": [
              "\n",
              "  <div id=\"df-83d311f8-153b-42f6-9054-c82f48e12bab\" class=\"colab-df-container\">\n",
              "    <div>\n",
              "<style scoped>\n",
              "    .dataframe tbody tr th:only-of-type {\n",
              "        vertical-align: middle;\n",
              "    }\n",
              "\n",
              "    .dataframe tbody tr th {\n",
              "        vertical-align: top;\n",
              "    }\n",
              "\n",
              "    .dataframe thead th {\n",
              "        text-align: right;\n",
              "    }\n",
              "</style>\n",
              "<table border=\"1\" class=\"dataframe\">\n",
              "  <thead>\n",
              "    <tr style=\"text-align: right;\">\n",
              "      <th></th>\n",
              "      <th>Price</th>\n",
              "      <th>Open</th>\n",
              "      <th>High</th>\n",
              "      <th>Low</th>\n",
              "      <th>Vol.</th>\n",
              "      <th>Change %</th>\n",
              "    </tr>\n",
              "    <tr>\n",
              "      <th>Date</th>\n",
              "      <th></th>\n",
              "      <th></th>\n",
              "      <th></th>\n",
              "      <th></th>\n",
              "      <th></th>\n",
              "      <th></th>\n",
              "    </tr>\n",
              "  </thead>\n",
              "  <tbody>\n",
              "    <tr>\n",
              "      <th>2024-06-01</th>\n",
              "      <td>3815.95</td>\n",
              "      <td>3762.63</td>\n",
              "      <td>3832.35</td>\n",
              "      <td>3753.32</td>\n",
              "      <td>143810.0</td>\n",
              "      <td>0.0142</td>\n",
              "    </tr>\n",
              "    <tr>\n",
              "      <th>2024-05-31</th>\n",
              "      <td>3762.66</td>\n",
              "      <td>3747.89</td>\n",
              "      <td>3844.96</td>\n",
              "      <td>3724.57</td>\n",
              "      <td>294560.0</td>\n",
              "      <td>0.0040</td>\n",
              "    </tr>\n",
              "    <tr>\n",
              "      <th>2024-05-30</th>\n",
              "      <td>3747.55</td>\n",
              "      <td>3767.22</td>\n",
              "      <td>3824.94</td>\n",
              "      <td>3703.74</td>\n",
              "      <td>293810.0</td>\n",
              "      <td>-0.0058</td>\n",
              "    </tr>\n",
              "    <tr>\n",
              "      <th>2024-05-29</th>\n",
              "      <td>3769.57</td>\n",
              "      <td>3845.56</td>\n",
              "      <td>3886.44</td>\n",
              "      <td>3745.72</td>\n",
              "      <td>353250.0</td>\n",
              "      <td>-0.0198</td>\n",
              "    </tr>\n",
              "    <tr>\n",
              "      <th>2024-05-28</th>\n",
              "      <td>3845.56</td>\n",
              "      <td>3894.33</td>\n",
              "      <td>3929.21</td>\n",
              "      <td>3775.08</td>\n",
              "      <td>436240.0</td>\n",
              "      <td>-0.0125</td>\n",
              "    </tr>\n",
              "    <tr>\n",
              "      <th>...</th>\n",
              "      <td>...</td>\n",
              "      <td>...</td>\n",
              "      <td>...</td>\n",
              "      <td>...</td>\n",
              "      <td>...</td>\n",
              "      <td>...</td>\n",
              "    </tr>\n",
              "    <tr>\n",
              "      <th>2019-03-05</th>\n",
              "      <td>136.82</td>\n",
              "      <td>125.97</td>\n",
              "      <td>141.11</td>\n",
              "      <td>125.44</td>\n",
              "      <td>16740000.0</td>\n",
              "      <td>0.0861</td>\n",
              "    </tr>\n",
              "    <tr>\n",
              "      <th>2019-03-04</th>\n",
              "      <td>125.97</td>\n",
              "      <td>131.02</td>\n",
              "      <td>131.57</td>\n",
              "      <td>123.25</td>\n",
              "      <td>14110000.0</td>\n",
              "      <td>-0.0385</td>\n",
              "    </tr>\n",
              "    <tr>\n",
              "      <th>2019-03-03</th>\n",
              "      <td>131.01</td>\n",
              "      <td>132.77</td>\n",
              "      <td>168.42</td>\n",
              "      <td>129.05</td>\n",
              "      <td>10640000.0</td>\n",
              "      <td>-0.0132</td>\n",
              "    </tr>\n",
              "    <tr>\n",
              "      <th>2019-03-02</th>\n",
              "      <td>132.76</td>\n",
              "      <td>135.72</td>\n",
              "      <td>136.36</td>\n",
              "      <td>130.74</td>\n",
              "      <td>11290000.0</td>\n",
              "      <td>-0.0218</td>\n",
              "    </tr>\n",
              "    <tr>\n",
              "      <th>2019-03-01</th>\n",
              "      <td>135.72</td>\n",
              "      <td>135.47</td>\n",
              "      <td>138.06</td>\n",
              "      <td>128.46</td>\n",
              "      <td>9730000.0</td>\n",
              "      <td>0.0018</td>\n",
              "    </tr>\n",
              "  </tbody>\n",
              "</table>\n",
              "<p>1920 rows × 6 columns</p>\n",
              "</div>\n",
              "    <div class=\"colab-df-buttons\">\n",
              "\n",
              "  <div class=\"colab-df-container\">\n",
              "    <button class=\"colab-df-convert\" onclick=\"convertToInteractive('df-83d311f8-153b-42f6-9054-c82f48e12bab')\"\n",
              "            title=\"Convert this dataframe to an interactive table.\"\n",
              "            style=\"display:none;\">\n",
              "\n",
              "  <svg xmlns=\"http://www.w3.org/2000/svg\" height=\"24px\" viewBox=\"0 -960 960 960\">\n",
              "    <path d=\"M120-120v-720h720v720H120Zm60-500h600v-160H180v160Zm220 220h160v-160H400v160Zm0 220h160v-160H400v160ZM180-400h160v-160H180v160Zm440 0h160v-160H620v160ZM180-180h160v-160H180v160Zm440 0h160v-160H620v160Z\"/>\n",
              "  </svg>\n",
              "    </button>\n",
              "\n",
              "  <style>\n",
              "    .colab-df-container {\n",
              "      display:flex;\n",
              "      gap: 12px;\n",
              "    }\n",
              "\n",
              "    .colab-df-convert {\n",
              "      background-color: #E8F0FE;\n",
              "      border: none;\n",
              "      border-radius: 50%;\n",
              "      cursor: pointer;\n",
              "      display: none;\n",
              "      fill: #1967D2;\n",
              "      height: 32px;\n",
              "      padding: 0 0 0 0;\n",
              "      width: 32px;\n",
              "    }\n",
              "\n",
              "    .colab-df-convert:hover {\n",
              "      background-color: #E2EBFA;\n",
              "      box-shadow: 0px 1px 2px rgba(60, 64, 67, 0.3), 0px 1px 3px 1px rgba(60, 64, 67, 0.15);\n",
              "      fill: #174EA6;\n",
              "    }\n",
              "\n",
              "    .colab-df-buttons div {\n",
              "      margin-bottom: 4px;\n",
              "    }\n",
              "\n",
              "    [theme=dark] .colab-df-convert {\n",
              "      background-color: #3B4455;\n",
              "      fill: #D2E3FC;\n",
              "    }\n",
              "\n",
              "    [theme=dark] .colab-df-convert:hover {\n",
              "      background-color: #434B5C;\n",
              "      box-shadow: 0px 1px 3px 1px rgba(0, 0, 0, 0.15);\n",
              "      filter: drop-shadow(0px 1px 2px rgba(0, 0, 0, 0.3));\n",
              "      fill: #FFFFFF;\n",
              "    }\n",
              "  </style>\n",
              "\n",
              "    <script>\n",
              "      const buttonEl =\n",
              "        document.querySelector('#df-83d311f8-153b-42f6-9054-c82f48e12bab button.colab-df-convert');\n",
              "      buttonEl.style.display =\n",
              "        google.colab.kernel.accessAllowed ? 'block' : 'none';\n",
              "\n",
              "      async function convertToInteractive(key) {\n",
              "        const element = document.querySelector('#df-83d311f8-153b-42f6-9054-c82f48e12bab');\n",
              "        const dataTable =\n",
              "          await google.colab.kernel.invokeFunction('convertToInteractive',\n",
              "                                                    [key], {});\n",
              "        if (!dataTable) return;\n",
              "\n",
              "        const docLinkHtml = 'Like what you see? Visit the ' +\n",
              "          '<a target=\"_blank\" href=https://colab.research.google.com/notebooks/data_table.ipynb>data table notebook</a>'\n",
              "          + ' to learn more about interactive tables.';\n",
              "        element.innerHTML = '';\n",
              "        dataTable['output_type'] = 'display_data';\n",
              "        await google.colab.output.renderOutput(dataTable, element);\n",
              "        const docLink = document.createElement('div');\n",
              "        docLink.innerHTML = docLinkHtml;\n",
              "        element.appendChild(docLink);\n",
              "      }\n",
              "    </script>\n",
              "  </div>\n",
              "\n",
              "\n",
              "<div id=\"df-1881c9a1-529f-458d-8fdd-2265160651fa\">\n",
              "  <button class=\"colab-df-quickchart\" onclick=\"quickchart('df-1881c9a1-529f-458d-8fdd-2265160651fa')\"\n",
              "            title=\"Suggest charts\"\n",
              "            style=\"display:none;\">\n",
              "\n",
              "<svg xmlns=\"http://www.w3.org/2000/svg\" height=\"24px\"viewBox=\"0 0 24 24\"\n",
              "     width=\"24px\">\n",
              "    <g>\n",
              "        <path d=\"M19 3H5c-1.1 0-2 .9-2 2v14c0 1.1.9 2 2 2h14c1.1 0 2-.9 2-2V5c0-1.1-.9-2-2-2zM9 17H7v-7h2v7zm4 0h-2V7h2v10zm4 0h-2v-4h2v4z\"/>\n",
              "    </g>\n",
              "</svg>\n",
              "  </button>\n",
              "\n",
              "<style>\n",
              "  .colab-df-quickchart {\n",
              "      --bg-color: #E8F0FE;\n",
              "      --fill-color: #1967D2;\n",
              "      --hover-bg-color: #E2EBFA;\n",
              "      --hover-fill-color: #174EA6;\n",
              "      --disabled-fill-color: #AAA;\n",
              "      --disabled-bg-color: #DDD;\n",
              "  }\n",
              "\n",
              "  [theme=dark] .colab-df-quickchart {\n",
              "      --bg-color: #3B4455;\n",
              "      --fill-color: #D2E3FC;\n",
              "      --hover-bg-color: #434B5C;\n",
              "      --hover-fill-color: #FFFFFF;\n",
              "      --disabled-bg-color: #3B4455;\n",
              "      --disabled-fill-color: #666;\n",
              "  }\n",
              "\n",
              "  .colab-df-quickchart {\n",
              "    background-color: var(--bg-color);\n",
              "    border: none;\n",
              "    border-radius: 50%;\n",
              "    cursor: pointer;\n",
              "    display: none;\n",
              "    fill: var(--fill-color);\n",
              "    height: 32px;\n",
              "    padding: 0;\n",
              "    width: 32px;\n",
              "  }\n",
              "\n",
              "  .colab-df-quickchart:hover {\n",
              "    background-color: var(--hover-bg-color);\n",
              "    box-shadow: 0 1px 2px rgba(60, 64, 67, 0.3), 0 1px 3px 1px rgba(60, 64, 67, 0.15);\n",
              "    fill: var(--button-hover-fill-color);\n",
              "  }\n",
              "\n",
              "  .colab-df-quickchart-complete:disabled,\n",
              "  .colab-df-quickchart-complete:disabled:hover {\n",
              "    background-color: var(--disabled-bg-color);\n",
              "    fill: var(--disabled-fill-color);\n",
              "    box-shadow: none;\n",
              "  }\n",
              "\n",
              "  .colab-df-spinner {\n",
              "    border: 2px solid var(--fill-color);\n",
              "    border-color: transparent;\n",
              "    border-bottom-color: var(--fill-color);\n",
              "    animation:\n",
              "      spin 1s steps(1) infinite;\n",
              "  }\n",
              "\n",
              "  @keyframes spin {\n",
              "    0% {\n",
              "      border-color: transparent;\n",
              "      border-bottom-color: var(--fill-color);\n",
              "      border-left-color: var(--fill-color);\n",
              "    }\n",
              "    20% {\n",
              "      border-color: transparent;\n",
              "      border-left-color: var(--fill-color);\n",
              "      border-top-color: var(--fill-color);\n",
              "    }\n",
              "    30% {\n",
              "      border-color: transparent;\n",
              "      border-left-color: var(--fill-color);\n",
              "      border-top-color: var(--fill-color);\n",
              "      border-right-color: var(--fill-color);\n",
              "    }\n",
              "    40% {\n",
              "      border-color: transparent;\n",
              "      border-right-color: var(--fill-color);\n",
              "      border-top-color: var(--fill-color);\n",
              "    }\n",
              "    60% {\n",
              "      border-color: transparent;\n",
              "      border-right-color: var(--fill-color);\n",
              "    }\n",
              "    80% {\n",
              "      border-color: transparent;\n",
              "      border-right-color: var(--fill-color);\n",
              "      border-bottom-color: var(--fill-color);\n",
              "    }\n",
              "    90% {\n",
              "      border-color: transparent;\n",
              "      border-bottom-color: var(--fill-color);\n",
              "    }\n",
              "  }\n",
              "</style>\n",
              "\n",
              "  <script>\n",
              "    async function quickchart(key) {\n",
              "      const quickchartButtonEl =\n",
              "        document.querySelector('#' + key + ' button');\n",
              "      quickchartButtonEl.disabled = true;  // To prevent multiple clicks.\n",
              "      quickchartButtonEl.classList.add('colab-df-spinner');\n",
              "      try {\n",
              "        const charts = await google.colab.kernel.invokeFunction(\n",
              "            'suggestCharts', [key], {});\n",
              "      } catch (error) {\n",
              "        console.error('Error during call to suggestCharts:', error);\n",
              "      }\n",
              "      quickchartButtonEl.classList.remove('colab-df-spinner');\n",
              "      quickchartButtonEl.classList.add('colab-df-quickchart-complete');\n",
              "    }\n",
              "    (() => {\n",
              "      let quickchartButtonEl =\n",
              "        document.querySelector('#df-1881c9a1-529f-458d-8fdd-2265160651fa button');\n",
              "      quickchartButtonEl.style.display =\n",
              "        google.colab.kernel.accessAllowed ? 'block' : 'none';\n",
              "    })();\n",
              "  </script>\n",
              "</div>\n",
              "    </div>\n",
              "  </div>\n"
            ],
            "application/vnd.google.colaboratory.intrinsic+json": {
              "type": "dataframe",
              "variable_name": "eth_df",
              "summary": "{\n  \"name\": \"eth_df\",\n  \"rows\": 1920,\n  \"fields\": [\n    {\n      \"column\": \"Date\",\n      \"properties\": {\n        \"dtype\": \"date\",\n        \"min\": \"2019-03-01 00:00:00\",\n        \"max\": \"2024-06-01 00:00:00\",\n        \"num_unique_values\": 1920,\n        \"samples\": [\n          \"2021-09-07 00:00:00\",\n          \"2019-12-24 00:00:00\",\n          \"2022-09-29 00:00:00\"\n        ],\n        \"semantic_type\": \"\",\n        \"description\": \"\"\n      }\n    },\n    {\n      \"column\": \"Price\",\n      \"properties\": {\n        \"dtype\": \"number\",\n        \"std\": 1205.8617192638408,\n        \"min\": 107.9,\n        \"max\": 4808.38,\n        \"num_unique_values\": 1900,\n        \"samples\": [\n          1117.33,\n          2506.69,\n          1203.77\n        ],\n        \"semantic_type\": \"\",\n        \"description\": \"\"\n      }\n    },\n    {\n      \"column\": \"Open\",\n      \"properties\": {\n        \"dtype\": \"number\",\n        \"std\": 1205.2290056329853,\n        \"min\": 107.87,\n        \"max\": 4808.34,\n        \"num_unique_values\": 1900,\n        \"samples\": [\n          1118.01,\n          2500.28,\n          1185.7\n        ],\n        \"semantic_type\": \"\",\n        \"description\": \"\"\n      }\n    },\n    {\n      \"column\": \"High\",\n      \"properties\": {\n        \"dtype\": \"number\",\n        \"std\": 1239.7880333126684,\n        \"min\": 117.91,\n        \"max\": 4864.06,\n        \"num_unique_values\": 1909,\n        \"samples\": [\n          229.8,\n          2537.85,\n          160.28\n        ],\n        \"semantic_type\": \"\",\n        \"description\": \"\"\n      }\n    },\n    {\n      \"column\": \"Low\",\n      \"properties\": {\n        \"dtype\": \"number\",\n        \"std\": 1166.0979301552745,\n        \"min\": 88.5,\n        \"max\": 4715.43,\n        \"num_unique_values\": 1908,\n        \"samples\": [\n          223.79,\n          2493.83,\n          167.03\n        ],\n        \"semantic_type\": \"\",\n        \"description\": \"\"\n      }\n    },\n    {\n      \"column\": \"Vol.\",\n      \"properties\": {\n        \"dtype\": \"number\",\n        \"std\": 112208076.64132501,\n        \"min\": 27030.0,\n        \"max\": 1790000000.0,\n        \"num_unique_values\": 1613,\n        \"samples\": [\n          381950.0,\n          194290.0,\n          229740.0\n        ],\n        \"semantic_type\": \"\",\n        \"description\": \"\"\n      }\n    },\n    {\n      \"column\": \"Change %\",\n      \"properties\": {\n        \"dtype\": \"number\",\n        \"std\": 0.04447354266892567,\n        \"min\": -0.44549999999999995,\n        \"max\": 0.2596,\n        \"num_unique_values\": 1042,\n        \"samples\": [\n          -0.0199,\n          -0.0123,\n          0.0362\n        ],\n        \"semantic_type\": \"\",\n        \"description\": \"\"\n      }\n    }\n  ]\n}"
            }
          },
          "metadata": {},
          "execution_count": 11
        }
      ]
    },
    {
      "cell_type": "code",
      "source": [
        "eth_description = eth_df.describe()\n",
        "eth_description"
      ],
      "metadata": {
        "colab": {
          "base_uri": "https://localhost:8080/",
          "height": 300
        },
        "id": "tVzHtzW9M0w2",
        "outputId": "5d8ce379-cbaa-4191-8059-6bcd8610814b"
      },
      "execution_count": null,
      "outputs": [
        {
          "output_type": "execute_result",
          "data": {
            "text/plain": [
              "             Price         Open         High          Low          Vol.  \\\n",
              "count  1920.000000  1920.000000  1920.000000  1920.000000  1.920000e+03   \n",
              "mean   1580.443599  1578.543557  1623.758177  1529.572755  1.454516e+07   \n",
              "std    1205.861719  1205.229006  1239.788033  1166.097930  1.122081e+08   \n",
              "min     107.900000   107.870000   117.910000    88.500000  2.703000e+04   \n",
              "25%     268.945000   268.717500   278.095000   262.277500  4.808800e+05   \n",
              "50%    1622.465000  1620.975000  1654.210000  1569.740000  1.165000e+06   \n",
              "75%    2334.242500  2331.202500  2393.075000  2255.137500  8.500000e+06   \n",
              "max    4808.380000  4808.340000  4864.060000  4715.430000  1.790000e+09   \n",
              "\n",
              "          Change %  \n",
              "count  1920.000000  \n",
              "mean      0.002749  \n",
              "std       0.044474  \n",
              "min      -0.445500  \n",
              "25%      -0.017600  \n",
              "50%       0.001400  \n",
              "75%       0.022925  \n",
              "max       0.259600  "
            ],
            "text/html": [
              "\n",
              "  <div id=\"df-88f6fcc8-b138-48d9-b803-5bae638f1fe0\" class=\"colab-df-container\">\n",
              "    <div>\n",
              "<style scoped>\n",
              "    .dataframe tbody tr th:only-of-type {\n",
              "        vertical-align: middle;\n",
              "    }\n",
              "\n",
              "    .dataframe tbody tr th {\n",
              "        vertical-align: top;\n",
              "    }\n",
              "\n",
              "    .dataframe thead th {\n",
              "        text-align: right;\n",
              "    }\n",
              "</style>\n",
              "<table border=\"1\" class=\"dataframe\">\n",
              "  <thead>\n",
              "    <tr style=\"text-align: right;\">\n",
              "      <th></th>\n",
              "      <th>Price</th>\n",
              "      <th>Open</th>\n",
              "      <th>High</th>\n",
              "      <th>Low</th>\n",
              "      <th>Vol.</th>\n",
              "      <th>Change %</th>\n",
              "    </tr>\n",
              "  </thead>\n",
              "  <tbody>\n",
              "    <tr>\n",
              "      <th>count</th>\n",
              "      <td>1920.000000</td>\n",
              "      <td>1920.000000</td>\n",
              "      <td>1920.000000</td>\n",
              "      <td>1920.000000</td>\n",
              "      <td>1.920000e+03</td>\n",
              "      <td>1920.000000</td>\n",
              "    </tr>\n",
              "    <tr>\n",
              "      <th>mean</th>\n",
              "      <td>1580.443599</td>\n",
              "      <td>1578.543557</td>\n",
              "      <td>1623.758177</td>\n",
              "      <td>1529.572755</td>\n",
              "      <td>1.454516e+07</td>\n",
              "      <td>0.002749</td>\n",
              "    </tr>\n",
              "    <tr>\n",
              "      <th>std</th>\n",
              "      <td>1205.861719</td>\n",
              "      <td>1205.229006</td>\n",
              "      <td>1239.788033</td>\n",
              "      <td>1166.097930</td>\n",
              "      <td>1.122081e+08</td>\n",
              "      <td>0.044474</td>\n",
              "    </tr>\n",
              "    <tr>\n",
              "      <th>min</th>\n",
              "      <td>107.900000</td>\n",
              "      <td>107.870000</td>\n",
              "      <td>117.910000</td>\n",
              "      <td>88.500000</td>\n",
              "      <td>2.703000e+04</td>\n",
              "      <td>-0.445500</td>\n",
              "    </tr>\n",
              "    <tr>\n",
              "      <th>25%</th>\n",
              "      <td>268.945000</td>\n",
              "      <td>268.717500</td>\n",
              "      <td>278.095000</td>\n",
              "      <td>262.277500</td>\n",
              "      <td>4.808800e+05</td>\n",
              "      <td>-0.017600</td>\n",
              "    </tr>\n",
              "    <tr>\n",
              "      <th>50%</th>\n",
              "      <td>1622.465000</td>\n",
              "      <td>1620.975000</td>\n",
              "      <td>1654.210000</td>\n",
              "      <td>1569.740000</td>\n",
              "      <td>1.165000e+06</td>\n",
              "      <td>0.001400</td>\n",
              "    </tr>\n",
              "    <tr>\n",
              "      <th>75%</th>\n",
              "      <td>2334.242500</td>\n",
              "      <td>2331.202500</td>\n",
              "      <td>2393.075000</td>\n",
              "      <td>2255.137500</td>\n",
              "      <td>8.500000e+06</td>\n",
              "      <td>0.022925</td>\n",
              "    </tr>\n",
              "    <tr>\n",
              "      <th>max</th>\n",
              "      <td>4808.380000</td>\n",
              "      <td>4808.340000</td>\n",
              "      <td>4864.060000</td>\n",
              "      <td>4715.430000</td>\n",
              "      <td>1.790000e+09</td>\n",
              "      <td>0.259600</td>\n",
              "    </tr>\n",
              "  </tbody>\n",
              "</table>\n",
              "</div>\n",
              "    <div class=\"colab-df-buttons\">\n",
              "\n",
              "  <div class=\"colab-df-container\">\n",
              "    <button class=\"colab-df-convert\" onclick=\"convertToInteractive('df-88f6fcc8-b138-48d9-b803-5bae638f1fe0')\"\n",
              "            title=\"Convert this dataframe to an interactive table.\"\n",
              "            style=\"display:none;\">\n",
              "\n",
              "  <svg xmlns=\"http://www.w3.org/2000/svg\" height=\"24px\" viewBox=\"0 -960 960 960\">\n",
              "    <path d=\"M120-120v-720h720v720H120Zm60-500h600v-160H180v160Zm220 220h160v-160H400v160Zm0 220h160v-160H400v160ZM180-400h160v-160H180v160Zm440 0h160v-160H620v160ZM180-180h160v-160H180v160Zm440 0h160v-160H620v160Z\"/>\n",
              "  </svg>\n",
              "    </button>\n",
              "\n",
              "  <style>\n",
              "    .colab-df-container {\n",
              "      display:flex;\n",
              "      gap: 12px;\n",
              "    }\n",
              "\n",
              "    .colab-df-convert {\n",
              "      background-color: #E8F0FE;\n",
              "      border: none;\n",
              "      border-radius: 50%;\n",
              "      cursor: pointer;\n",
              "      display: none;\n",
              "      fill: #1967D2;\n",
              "      height: 32px;\n",
              "      padding: 0 0 0 0;\n",
              "      width: 32px;\n",
              "    }\n",
              "\n",
              "    .colab-df-convert:hover {\n",
              "      background-color: #E2EBFA;\n",
              "      box-shadow: 0px 1px 2px rgba(60, 64, 67, 0.3), 0px 1px 3px 1px rgba(60, 64, 67, 0.15);\n",
              "      fill: #174EA6;\n",
              "    }\n",
              "\n",
              "    .colab-df-buttons div {\n",
              "      margin-bottom: 4px;\n",
              "    }\n",
              "\n",
              "    [theme=dark] .colab-df-convert {\n",
              "      background-color: #3B4455;\n",
              "      fill: #D2E3FC;\n",
              "    }\n",
              "\n",
              "    [theme=dark] .colab-df-convert:hover {\n",
              "      background-color: #434B5C;\n",
              "      box-shadow: 0px 1px 3px 1px rgba(0, 0, 0, 0.15);\n",
              "      filter: drop-shadow(0px 1px 2px rgba(0, 0, 0, 0.3));\n",
              "      fill: #FFFFFF;\n",
              "    }\n",
              "  </style>\n",
              "\n",
              "    <script>\n",
              "      const buttonEl =\n",
              "        document.querySelector('#df-88f6fcc8-b138-48d9-b803-5bae638f1fe0 button.colab-df-convert');\n",
              "      buttonEl.style.display =\n",
              "        google.colab.kernel.accessAllowed ? 'block' : 'none';\n",
              "\n",
              "      async function convertToInteractive(key) {\n",
              "        const element = document.querySelector('#df-88f6fcc8-b138-48d9-b803-5bae638f1fe0');\n",
              "        const dataTable =\n",
              "          await google.colab.kernel.invokeFunction('convertToInteractive',\n",
              "                                                    [key], {});\n",
              "        if (!dataTable) return;\n",
              "\n",
              "        const docLinkHtml = 'Like what you see? Visit the ' +\n",
              "          '<a target=\"_blank\" href=https://colab.research.google.com/notebooks/data_table.ipynb>data table notebook</a>'\n",
              "          + ' to learn more about interactive tables.';\n",
              "        element.innerHTML = '';\n",
              "        dataTable['output_type'] = 'display_data';\n",
              "        await google.colab.output.renderOutput(dataTable, element);\n",
              "        const docLink = document.createElement('div');\n",
              "        docLink.innerHTML = docLinkHtml;\n",
              "        element.appendChild(docLink);\n",
              "      }\n",
              "    </script>\n",
              "  </div>\n",
              "\n",
              "\n",
              "<div id=\"df-0cbb5cec-69ad-410f-97f3-52ba96c6028e\">\n",
              "  <button class=\"colab-df-quickchart\" onclick=\"quickchart('df-0cbb5cec-69ad-410f-97f3-52ba96c6028e')\"\n",
              "            title=\"Suggest charts\"\n",
              "            style=\"display:none;\">\n",
              "\n",
              "<svg xmlns=\"http://www.w3.org/2000/svg\" height=\"24px\"viewBox=\"0 0 24 24\"\n",
              "     width=\"24px\">\n",
              "    <g>\n",
              "        <path d=\"M19 3H5c-1.1 0-2 .9-2 2v14c0 1.1.9 2 2 2h14c1.1 0 2-.9 2-2V5c0-1.1-.9-2-2-2zM9 17H7v-7h2v7zm4 0h-2V7h2v10zm4 0h-2v-4h2v4z\"/>\n",
              "    </g>\n",
              "</svg>\n",
              "  </button>\n",
              "\n",
              "<style>\n",
              "  .colab-df-quickchart {\n",
              "      --bg-color: #E8F0FE;\n",
              "      --fill-color: #1967D2;\n",
              "      --hover-bg-color: #E2EBFA;\n",
              "      --hover-fill-color: #174EA6;\n",
              "      --disabled-fill-color: #AAA;\n",
              "      --disabled-bg-color: #DDD;\n",
              "  }\n",
              "\n",
              "  [theme=dark] .colab-df-quickchart {\n",
              "      --bg-color: #3B4455;\n",
              "      --fill-color: #D2E3FC;\n",
              "      --hover-bg-color: #434B5C;\n",
              "      --hover-fill-color: #FFFFFF;\n",
              "      --disabled-bg-color: #3B4455;\n",
              "      --disabled-fill-color: #666;\n",
              "  }\n",
              "\n",
              "  .colab-df-quickchart {\n",
              "    background-color: var(--bg-color);\n",
              "    border: none;\n",
              "    border-radius: 50%;\n",
              "    cursor: pointer;\n",
              "    display: none;\n",
              "    fill: var(--fill-color);\n",
              "    height: 32px;\n",
              "    padding: 0;\n",
              "    width: 32px;\n",
              "  }\n",
              "\n",
              "  .colab-df-quickchart:hover {\n",
              "    background-color: var(--hover-bg-color);\n",
              "    box-shadow: 0 1px 2px rgba(60, 64, 67, 0.3), 0 1px 3px 1px rgba(60, 64, 67, 0.15);\n",
              "    fill: var(--button-hover-fill-color);\n",
              "  }\n",
              "\n",
              "  .colab-df-quickchart-complete:disabled,\n",
              "  .colab-df-quickchart-complete:disabled:hover {\n",
              "    background-color: var(--disabled-bg-color);\n",
              "    fill: var(--disabled-fill-color);\n",
              "    box-shadow: none;\n",
              "  }\n",
              "\n",
              "  .colab-df-spinner {\n",
              "    border: 2px solid var(--fill-color);\n",
              "    border-color: transparent;\n",
              "    border-bottom-color: var(--fill-color);\n",
              "    animation:\n",
              "      spin 1s steps(1) infinite;\n",
              "  }\n",
              "\n",
              "  @keyframes spin {\n",
              "    0% {\n",
              "      border-color: transparent;\n",
              "      border-bottom-color: var(--fill-color);\n",
              "      border-left-color: var(--fill-color);\n",
              "    }\n",
              "    20% {\n",
              "      border-color: transparent;\n",
              "      border-left-color: var(--fill-color);\n",
              "      border-top-color: var(--fill-color);\n",
              "    }\n",
              "    30% {\n",
              "      border-color: transparent;\n",
              "      border-left-color: var(--fill-color);\n",
              "      border-top-color: var(--fill-color);\n",
              "      border-right-color: var(--fill-color);\n",
              "    }\n",
              "    40% {\n",
              "      border-color: transparent;\n",
              "      border-right-color: var(--fill-color);\n",
              "      border-top-color: var(--fill-color);\n",
              "    }\n",
              "    60% {\n",
              "      border-color: transparent;\n",
              "      border-right-color: var(--fill-color);\n",
              "    }\n",
              "    80% {\n",
              "      border-color: transparent;\n",
              "      border-right-color: var(--fill-color);\n",
              "      border-bottom-color: var(--fill-color);\n",
              "    }\n",
              "    90% {\n",
              "      border-color: transparent;\n",
              "      border-bottom-color: var(--fill-color);\n",
              "    }\n",
              "  }\n",
              "</style>\n",
              "\n",
              "  <script>\n",
              "    async function quickchart(key) {\n",
              "      const quickchartButtonEl =\n",
              "        document.querySelector('#' + key + ' button');\n",
              "      quickchartButtonEl.disabled = true;  // To prevent multiple clicks.\n",
              "      quickchartButtonEl.classList.add('colab-df-spinner');\n",
              "      try {\n",
              "        const charts = await google.colab.kernel.invokeFunction(\n",
              "            'suggestCharts', [key], {});\n",
              "      } catch (error) {\n",
              "        console.error('Error during call to suggestCharts:', error);\n",
              "      }\n",
              "      quickchartButtonEl.classList.remove('colab-df-spinner');\n",
              "      quickchartButtonEl.classList.add('colab-df-quickchart-complete');\n",
              "    }\n",
              "    (() => {\n",
              "      let quickchartButtonEl =\n",
              "        document.querySelector('#df-0cbb5cec-69ad-410f-97f3-52ba96c6028e button');\n",
              "      quickchartButtonEl.style.display =\n",
              "        google.colab.kernel.accessAllowed ? 'block' : 'none';\n",
              "    })();\n",
              "  </script>\n",
              "</div>\n",
              "    </div>\n",
              "  </div>\n"
            ],
            "application/vnd.google.colaboratory.intrinsic+json": {
              "type": "dataframe",
              "variable_name": "eth_description",
              "summary": "{\n  \"name\": \"eth_description\",\n  \"rows\": 8,\n  \"fields\": [\n    {\n      \"column\": \"Price\",\n      \"properties\": {\n        \"dtype\": \"number\",\n        \"std\": 1461.5141802828869,\n        \"min\": 107.9,\n        \"max\": 4808.38,\n        \"num_unique_values\": 8,\n        \"samples\": [\n          1580.443598958333,\n          1622.4650000000001,\n          1920.0\n        ],\n        \"semantic_type\": \"\",\n        \"description\": \"\"\n      }\n    },\n    {\n      \"column\": \"Open\",\n      \"properties\": {\n        \"dtype\": \"number\",\n        \"std\": 1461.4368608735583,\n        \"min\": 107.87,\n        \"max\": 4808.34,\n        \"num_unique_values\": 8,\n        \"samples\": [\n          1578.5435572916665,\n          1620.975,\n          1920.0\n        ],\n        \"semantic_type\": \"\",\n        \"description\": \"\"\n      }\n    },\n    {\n      \"column\": \"High\",\n      \"properties\": {\n        \"dtype\": \"number\",\n        \"std\": 1476.2129852198175,\n        \"min\": 117.91,\n        \"max\": 4864.06,\n        \"num_unique_values\": 8,\n        \"samples\": [\n          1623.7581770833335,\n          1654.21,\n          1920.0\n        ],\n        \"semantic_type\": \"\",\n        \"description\": \"\"\n      }\n    },\n    {\n      \"column\": \"Low\",\n      \"properties\": {\n        \"dtype\": \"number\",\n        \"std\": 1436.4316744025186,\n        \"min\": 88.5,\n        \"max\": 4715.43,\n        \"num_unique_values\": 8,\n        \"samples\": [\n          1529.5727552083335,\n          1569.74,\n          1920.0\n        ],\n        \"semantic_type\": \"\",\n        \"description\": \"\"\n      }\n    },\n    {\n      \"column\": \"Vol.\",\n      \"properties\": {\n        \"dtype\": \"number\",\n        \"std\": 627107256.9335763,\n        \"min\": 1920.0,\n        \"max\": 1790000000.0,\n        \"num_unique_values\": 8,\n        \"samples\": [\n          14545159.348958334,\n          1165000.0,\n          1920.0\n        ],\n        \"semantic_type\": \"\",\n        \"description\": \"\"\n      }\n    },\n    {\n      \"column\": \"Change %\",\n      \"properties\": {\n        \"dtype\": \"number\",\n        \"std\": 678.8292025358536,\n        \"min\": -0.44549999999999995,\n        \"max\": 1920.0,\n        \"num_unique_values\": 8,\n        \"samples\": [\n          0.002749375,\n          0.0014000000000000002,\n          1920.0\n        ],\n        \"semantic_type\": \"\",\n        \"description\": \"\"\n      }\n    }\n  ]\n}"
            }
          },
          "metadata": {},
          "execution_count": 12
        }
      ]
    },
    {
      "cell_type": "code",
      "source": [
        "print(\"Meadian \\t\")\n",
        "eth_df.median()"
      ],
      "metadata": {
        "colab": {
          "base_uri": "https://localhost:8080/"
        },
        "id": "04kv1IhOr6Lb",
        "outputId": "27c77d1a-7cd3-448a-a906-c02ed74add64"
      },
      "execution_count": null,
      "outputs": [
        {
          "output_type": "stream",
          "name": "stdout",
          "text": [
            "Meadian \t\n"
          ]
        },
        {
          "output_type": "execute_result",
          "data": {
            "text/plain": [
              "Price       1.622465e+03\n",
              "Open        1.620975e+03\n",
              "High        1.654210e+03\n",
              "Low         1.569740e+03\n",
              "Vol.        1.165000e+06\n",
              "Change %    1.400000e-03\n",
              "dtype: float64"
            ]
          },
          "metadata": {},
          "execution_count": 13
        }
      ]
    },
    {
      "cell_type": "code",
      "source": [
        "print('Kurtosis\\t')\n",
        "eth_df.kurtosis()"
      ],
      "metadata": {
        "colab": {
          "base_uri": "https://localhost:8080/"
        },
        "id": "Avq55PofsdCP",
        "outputId": "55ad6c81-e3f9-424b-9a46-ea3c6a7c23a9"
      },
      "execution_count": null,
      "outputs": [
        {
          "output_type": "stream",
          "name": "stdout",
          "text": [
            "Kurtosis\t\n"
          ]
        },
        {
          "output_type": "execute_result",
          "data": {
            "text/plain": [
              "Price        -0.726134\n",
              "Open         -0.723653\n",
              "High         -0.733476\n",
              "Low          -0.729421\n",
              "Vol.        156.849436\n",
              "Change %      9.160245\n",
              "dtype: float64"
            ]
          },
          "metadata": {},
          "execution_count": 14
        }
      ]
    },
    {
      "cell_type": "code",
      "source": [
        "print('Skewness\\t')\n",
        "eth_df.skew()"
      ],
      "metadata": {
        "id": "HCFmq7kRsN4I",
        "colab": {
          "base_uri": "https://localhost:8080/"
        },
        "outputId": "7040d98e-a644-4e07-ce4c-a14f1150f2d2"
      },
      "execution_count": null,
      "outputs": [
        {
          "output_type": "stream",
          "name": "stdout",
          "text": [
            "Skewness\t\n"
          ]
        },
        {
          "output_type": "execute_result",
          "data": {
            "text/plain": [
              "Price        0.460779\n",
              "Open         0.461996\n",
              "High         0.462121\n",
              "Low          0.454362\n",
              "Vol.        12.308683\n",
              "Change %    -0.341816\n",
              "dtype: float64"
            ]
          },
          "metadata": {},
          "execution_count": 15
        }
      ]
    },
    {
      "cell_type": "code",
      "source": [
        "# Tính toán các giá trị thống kê cột price\n",
        "variance_price = st.variance(eth_df[\"Price\"])\n",
        "std_dev_price = st.stdev(eth_df[\"Price\"])\n",
        "skewness_price = skew(eth_df[\"Price\"])\n",
        "kurtosis_price = kurtosis(eth_df[\"Price\"])\n",
        "mode_price = mode(eth_df[\"Price\"])\n",
        "\n",
        "print(\"Variance:\", variance_price)\n",
        "print(\"Standard Deviation:\", std_dev_price)\n",
        "print(\"Skewness:\", skewness_price)\n",
        "print(\"Kurtosis:\", kurtosis_price)\n",
        "print(\"Mode:\", mode_price)"
      ],
      "metadata": {
        "colab": {
          "base_uri": "https://localhost:8080/"
        },
        "id": "i0K-VCiSNPFF",
        "outputId": "4cf86e53-7745-4129-ef35-b23ed15b88a4"
      },
      "execution_count": null,
      "outputs": [
        {
          "output_type": "stream",
          "name": "stdout",
          "text": [
            "Variance: 1454102.4859859464\n",
            "Standard Deviation: 1205.861719263841\n",
            "Skewness: 0.4604188994029928\n",
            "Kurtosis: -0.7273679966545292\n",
            "Mode: ModeResult(mode=125.24, count=2)\n"
          ]
        }
      ]
    },
    {
      "cell_type": "code",
      "source": [
        "import statistics as st\n",
        "from scipy.stats import skew, kurtosis\n",
        "\n",
        "# Assuming eth_df is your DataFrame and \"Price\" is the column of interest.\n",
        "\n",
        "# Calculate variance\n",
        "variance_price = st.variance(eth_df[\"Price\"])\n",
        "\n",
        "# Calculate standard deviation\n",
        "std_dev_price = st.stdev(eth_df[\"Price\"])\n",
        "\n",
        "# Calculate skewness\n",
        "skewness_price = skew(eth_df[\"Price\"])\n",
        "\n",
        "# Calculate kurtosis\n",
        "kurtosis_price = kurtosis(eth_df[\"Price\"])\n",
        "\n",
        "# Calculate mode\n",
        "# Since mode might not be unique, we handle multiple modes using statistics.multimode\n",
        "mode_price = st.multimode(eth_df[\"Price\"])\n",
        "\n",
        "print(\"Variance:\", variance_price)\n",
        "print(\"Standard Deviation:\", std_dev_price)\n",
        "print(\"Skewness:\", skewness_price)\n",
        "print(\"Kurtosis:\", kurtosis_price)\n",
        "print(\"Mode:\", mode_price if mode_price else \"No unique mode\")\n"
      ],
      "metadata": {
        "colab": {
          "base_uri": "https://localhost:8080/"
        },
        "id": "YdpE-fSCuYWV",
        "outputId": "d48eb8f4-e527-4d2b-e148-bb6b16d39865"
      },
      "execution_count": null,
      "outputs": [
        {
          "output_type": "stream",
          "name": "stdout",
          "text": [
            "Variance: 1454102.4859859464\n",
            "Standard Deviation: 1205.861719263841\n",
            "Skewness: 0.4604188994029928\n",
            "Kurtosis: -0.7273679966545292\n",
            "Mode: [2083.09, 1647.05, 1323.41, 1818.07, 2229.53, 591.09, 241.26, 225.63, 206.62, 212.0, 196.14, 173.0, 125.24, 164.36, 137.92, 148.89, 181.11, 179.87, 163.47, 135.72]\n"
          ]
        }
      ]
    },
    {
      "cell_type": "code",
      "source": [
        "eth_df['Price'].describe()"
      ],
      "metadata": {
        "colab": {
          "base_uri": "https://localhost:8080/"
        },
        "id": "OBiTm74HsLg1",
        "outputId": "7d636b83-1d55-4116-982a-821359adf09c"
      },
      "execution_count": null,
      "outputs": [
        {
          "output_type": "execute_result",
          "data": {
            "text/plain": [
              "count    1920.000000\n",
              "mean     1580.443599\n",
              "std      1205.861719\n",
              "min       107.900000\n",
              "25%       268.945000\n",
              "50%      1622.465000\n",
              "75%      2334.242500\n",
              "max      4808.380000\n",
              "Name: Price, dtype: float64"
            ]
          },
          "metadata": {},
          "execution_count": 18
        }
      ]
    },
    {
      "cell_type": "code",
      "source": [
        "#df['Price'].plot(figsize=(10,5),color='red')\n",
        "\n",
        "plt.plot(eth_df['Price'])"
      ],
      "metadata": {
        "colab": {
          "base_uri": "https://localhost:8080/",
          "height": 449
        },
        "id": "0-hnl0ZOm9un",
        "outputId": "7e4f78e1-fd3d-4322-cbcb-3175c9592897"
      },
      "execution_count": null,
      "outputs": [
        {
          "output_type": "execute_result",
          "data": {
            "text/plain": [
              "[<matplotlib.lines.Line2D at 0x7efe8d7734f0>]"
            ]
          },
          "metadata": {},
          "execution_count": 19
        },
        {
          "output_type": "display_data",
          "data": {
            "text/plain": [
              "<Figure size 640x480 with 1 Axes>"
            ],
            "image/png": "[encoded data removed]"
          },
          "metadata": {}
        }
      ]
    },
    {
      "cell_type": "code",
      "source": [
        "plt.figure(figsize=(12, 6))\n",
        "sns.lineplot(x='Date', y='Price', data=eth_df)\n",
        "\n",
        "plt.title('Price theo Date')\n",
        "plt.xlabel('Date')\n",
        "plt.ylabel('Price')\n",
        "plt.show()"
      ],
      "metadata": {
        "colab": {
          "base_uri": "https://localhost:8080/",
          "height": 479
        },
        "id": "BW_kqlHlv-Mm",
        "outputId": "e85010f9-becf-4f08-a190-f95a4f30955b"
      },
      "execution_count": null,
      "outputs": [
        {
          "output_type": "display_data",
          "data": {
            "text/plain": [
              "<Figure size 1200x600 with 1 Axes>"
            ],
            "image/png": "[encoded data removed]"
          },
          "metadata": {}
        }
      ]
    },
    {
      "cell_type": "code",
      "source": [
        "plt.figure(figsize=(6, 4))\n",
        "sns.boxplot(data=eth_df, y='Price')\n",
        "plt.title('Box Plot of Price')\n",
        "plt.ylabel('Price')\n",
        "plt.show()"
      ],
      "metadata": {
        "colab": {
          "base_uri": "https://localhost:8080/",
          "height": 372
        },
        "id": "ld_EHtUTOtee",
        "outputId": "46484a71-6495-4b7a-fbf1-bceb4ce32e5e"
      },
      "execution_count": null,
      "outputs": [
        {
          "output_type": "display_data",
          "data": {
            "text/plain": [
              "<Figure size 600x400 with 1 Axes>"
            ],
            "image/png": "[encoded data removed]"
          },
          "metadata": {}
        }
      ]
    },
    {
      "cell_type": "code",
      "source": [
        "plt.figure(figsize=(8, 6))\n",
        "sns.histplot(eth_df['Date'], bins=20, kde=True)\n",
        "plt.title('Histogram of Ethereum Prices')\n",
        "plt.xlabel('Date')\n",
        "plt.ylabel('Price')\n",
        "plt.grid(True)\n",
        "plt.show()"
      ],
      "metadata": {
        "colab": {
          "base_uri": "https://localhost:8080/",
          "height": 495
        },
        "id": "Oq_WzkwBOxf8",
        "outputId": "32779b57-0046-46ef-e6e1-041a9574bf03"
      },
      "execution_count": null,
      "outputs": [
        {
          "output_type": "error",
          "ename": "KeyError",
          "evalue": "'Date'",
          "traceback": [
            "\u001b[0;31m---------------------------------------------------------------------------\u001b[0m",
            "\u001b[0;31mKeyError\u001b[0m                                  Traceback (most recent call last)",
            "\u001b[0;32m/usr/local/lib/python3.10/dist-packages/pandas/core/indexes/base.py\u001b[0m in \u001b[0;36mget_loc\u001b[0;34m(self, key)\u001b[0m\n\u001b[1;32m   3652\u001b[0m         \u001b[0;32mtry\u001b[0m\u001b[0;34m:\u001b[0m\u001b[0;34m\u001b[0m\u001b[0;34m\u001b[0m\u001b[0m\n\u001b[0;32m-> 3653\u001b[0;31m             \u001b[0;32mreturn\u001b[0m \u001b[0mself\u001b[0m\u001b[0;34m.\u001b[0m\u001b[0m_engine\u001b[0m\u001b[0;34m.\u001b[0m\u001b[0mget_loc\u001b[0m\u001b[0;34m(\u001b[0m\u001b[0mcasted_key\u001b[0m\u001b[0;34m)\u001b[0m\u001b[0;34m\u001b[0m\u001b[0;34m\u001b[0m\u001b[0m\n\u001b[0m\u001b[1;32m   3654\u001b[0m         \u001b[0;32mexcept\u001b[0m \u001b[0mKeyError\u001b[0m \u001b[0;32mas\u001b[0m \u001b[0merr\u001b[0m\u001b[0;34m:\u001b[0m\u001b[0;34m\u001b[0m\u001b[0;34m\u001b[0m\u001b[0m\n",
            "\u001b[0;32m/usr/local/lib/python3.10/dist-packages/pandas/_libs/index.pyx\u001b[0m in \u001b[0;36mpandas._libs.index.IndexEngine.get_loc\u001b[0;34m()\u001b[0m\n",
            "\u001b[0;32m/usr/local/lib/python3.10/dist-packages/pandas/_libs/index.pyx\u001b[0m in \u001b[0;36mpandas._libs.index.IndexEngine.get_loc\u001b[0;34m()\u001b[0m\n",
            "\u001b[0;32mpandas/_libs/hashtable_class_helper.pxi\u001b[0m in \u001b[0;36mpandas._libs.hashtable.PyObjectHashTable.get_item\u001b[0;34m()\u001b[0m\n",
            "\u001b[0;32mpandas/_libs/hashtable_class_helper.pxi\u001b[0m in \u001b[0;36mpandas._libs.hashtable.PyObjectHashTable.get_item\u001b[0;34m()\u001b[0m\n",
            "\u001b[0;31mKeyError\u001b[0m: 'Date'",
            "\nThe above exception was the direct cause of the following exception:\n",
            "\u001b[0;31mKeyError\u001b[0m                                  Traceback (most recent call last)",
            "\u001b[0;32m<ipython-input-22-2015505e9733>\u001b[0m in \u001b[0;36m<cell line: 2>\u001b[0;34m()\u001b[0m\n\u001b[1;32m      1\u001b[0m \u001b[0mplt\u001b[0m\u001b[0;34m.\u001b[0m\u001b[0mfigure\u001b[0m\u001b[0;34m(\u001b[0m\u001b[0mfigsize\u001b[0m\u001b[0;34m=\u001b[0m\u001b[0;34m(\u001b[0m\u001b[0;36m8\u001b[0m\u001b[0;34m,\u001b[0m \u001b[0;36m6\u001b[0m\u001b[0;34m)\u001b[0m\u001b[0;34m)\u001b[0m\u001b[0;34m\u001b[0m\u001b[0;34m\u001b[0m\u001b[0m\n\u001b[0;32m----> 2\u001b[0;31m \u001b[0msns\u001b[0m\u001b[0;34m.\u001b[0m\u001b[0mhistplot\u001b[0m\u001b[0;34m(\u001b[0m\u001b[0meth_df\u001b[0m\u001b[0;34m[\u001b[0m\u001b[0;34m'Date'\u001b[0m\u001b[0;34m]\u001b[0m\u001b[0;34m,\u001b[0m \u001b[0mbins\u001b[0m\u001b[0;34m=\u001b[0m\u001b[0;36m20\u001b[0m\u001b[0;34m,\u001b[0m \u001b[0mkde\u001b[0m\u001b[0;34m=\u001b[0m\u001b[0;32mTrue\u001b[0m\u001b[0;34m)\u001b[0m\u001b[0;34m\u001b[0m\u001b[0;34m\u001b[0m\u001b[0m\n\u001b[0m\u001b[1;32m      3\u001b[0m \u001b[0mplt\u001b[0m\u001b[0;34m.\u001b[0m\u001b[0mtitle\u001b[0m\u001b[0;34m(\u001b[0m\u001b[0;34m'Histogram of Ethereum Prices'\u001b[0m\u001b[0;34m)\u001b[0m\u001b[0;34m\u001b[0m\u001b[0;34m\u001b[0m\u001b[0m\n\u001b[1;32m      4\u001b[0m \u001b[0mplt\u001b[0m\u001b[0;34m.\u001b[0m\u001b[0mxlabel\u001b[0m\u001b[0;34m(\u001b[0m\u001b[0;34m'Date'\u001b[0m\u001b[0;34m)\u001b[0m\u001b[0;34m\u001b[0m\u001b[0;34m\u001b[0m\u001b[0m\n\u001b[1;32m      5\u001b[0m \u001b[0mplt\u001b[0m\u001b[0;34m.\u001b[0m\u001b[0mylabel\u001b[0m\u001b[0;34m(\u001b[0m\u001b[0;34m'Price'\u001b[0m\u001b[0;34m)\u001b[0m\u001b[0;34m\u001b[0m\u001b[0;34m\u001b[0m\u001b[0m\n",
            "\u001b[0;32m/usr/local/lib/python3.10/dist-packages/pandas/core/frame.py\u001b[0m in \u001b[0;36m__getitem__\u001b[0;34m(self, key)\u001b[0m\n\u001b[1;32m   3759\u001b[0m             \u001b[0;32mif\u001b[0m \u001b[0mself\u001b[0m\u001b[0;34m.\u001b[0m\u001b[0mcolumns\u001b[0m\u001b[0;34m.\u001b[0m\u001b[0mnlevels\u001b[0m \u001b[0;34m>\u001b[0m \u001b[0;36m1\u001b[0m\u001b[0;34m:\u001b[0m\u001b[0;34m\u001b[0m\u001b[0;34m\u001b[0m\u001b[0m\n\u001b[1;32m   3760\u001b[0m                 \u001b[0;32mreturn\u001b[0m \u001b[0mself\u001b[0m\u001b[0;34m.\u001b[0m\u001b[0m_getitem_multilevel\u001b[0m\u001b[0;34m(\u001b[0m\u001b[0mkey\u001b[0m\u001b[0;34m)\u001b[0m\u001b[0;34m\u001b[0m\u001b[0;34m\u001b[0m\u001b[0m\n\u001b[0;32m-> 3761\u001b[0;31m             \u001b[0mindexer\u001b[0m \u001b[0;34m=\u001b[0m \u001b[0mself\u001b[0m\u001b[0;34m.\u001b[0m\u001b[0mcolumns\u001b[0m\u001b[0;34m.\u001b[0m\u001b[0mget_loc\u001b[0m\u001b[0;34m(\u001b[0m\u001b[0mkey\u001b[0m\u001b[0;34m)\u001b[0m\u001b[0;34m\u001b[0m\u001b[0;34m\u001b[0m\u001b[0m\n\u001b[0m\u001b[1;32m   3762\u001b[0m             \u001b[0;32mif\u001b[0m \u001b[0mis_integer\u001b[0m\u001b[0;34m(\u001b[0m\u001b[0mindexer\u001b[0m\u001b[0;34m)\u001b[0m\u001b[0;34m:\u001b[0m\u001b[0;34m\u001b[0m\u001b[0;34m\u001b[0m\u001b[0m\n\u001b[1;32m   3763\u001b[0m                 \u001b[0mindexer\u001b[0m \u001b[0;34m=\u001b[0m \u001b[0;34m[\u001b[0m\u001b[0mindexer\u001b[0m\u001b[0;34m]\u001b[0m\u001b[0;34m\u001b[0m\u001b[0;34m\u001b[0m\u001b[0m\n",
            "\u001b[0;32m/usr/local/lib/python3.10/dist-packages/pandas/core/indexes/base.py\u001b[0m in \u001b[0;36mget_loc\u001b[0;34m(self, key)\u001b[0m\n\u001b[1;32m   3653\u001b[0m             \u001b[0;32mreturn\u001b[0m \u001b[0mself\u001b[0m\u001b[0;34m.\u001b[0m\u001b[0m_engine\u001b[0m\u001b[0;34m.\u001b[0m\u001b[0mget_loc\u001b[0m\u001b[0;34m(\u001b[0m\u001b[0mcasted_key\u001b[0m\u001b[0;34m)\u001b[0m\u001b[0;34m\u001b[0m\u001b[0;34m\u001b[0m\u001b[0m\n\u001b[1;32m   3654\u001b[0m         \u001b[0;32mexcept\u001b[0m \u001b[0mKeyError\u001b[0m \u001b[0;32mas\u001b[0m \u001b[0merr\u001b[0m\u001b[0;34m:\u001b[0m\u001b[0;34m\u001b[0m\u001b[0;34m\u001b[0m\u001b[0m\n\u001b[0;32m-> 3655\u001b[0;31m             \u001b[0;32mraise\u001b[0m \u001b[0mKeyError\u001b[0m\u001b[0;34m(\u001b[0m\u001b[0mkey\u001b[0m\u001b[0;34m)\u001b[0m \u001b[0;32mfrom\u001b[0m \u001b[0merr\u001b[0m\u001b[0;34m\u001b[0m\u001b[0;34m\u001b[0m\u001b[0m\n\u001b[0m\u001b[1;32m   3656\u001b[0m         \u001b[0;32mexcept\u001b[0m \u001b[0mTypeError\u001b[0m\u001b[0;34m:\u001b[0m\u001b[0;34m\u001b[0m\u001b[0;34m\u001b[0m\u001b[0m\n\u001b[1;32m   3657\u001b[0m             \u001b[0;31m# If we have a listlike key, _check_indexing_error will raise\u001b[0m\u001b[0;34m\u001b[0m\u001b[0;34m\u001b[0m\u001b[0m\n",
            "\u001b[0;31mKeyError\u001b[0m: 'Date'"
          ]
        },
        {
          "output_type": "display_data",
          "data": {
            "text/plain": [
              "<Figure size 800x600 with 0 Axes>"
            ]
          },
          "metadata": {}
        }
      ]
    },
    {
      "cell_type": "code",
      "source": [
        "plt.figure()\n",
        "plt.plot(eth_df[\"Price\"], color='blue')\n",
        "plt.show()"
      ],
      "metadata": {
        "colab": {
          "base_uri": "https://localhost:8080/",
          "height": 432
        },
        "id": "5PEgP0Q1xM3x",
        "outputId": "af50c731-a381-4716-e78c-b22fddc7b4b6"
      },
      "execution_count": null,
      "outputs": [
        {
          "output_type": "display_data",
          "data": {
            "text/plain": [
              "<Figure size 640x480 with 1 Axes>"
            ],
            "image/png": "[encoded data removed]"
          },
          "metadata": {}
        }
      ]
    },
    {
      "cell_type": "code",
      "source": [
        "eth_df.boxplot(column=['Price'])"
      ],
      "metadata": {
        "colab": {
          "base_uri": "https://localhost:8080/",
          "height": 449
        },
        "id": "C9qkdQJRxYag",
        "outputId": "c343dddc-d26d-4add-9bf1-670961554628"
      },
      "execution_count": null,
      "outputs": [
        {
          "output_type": "execute_result",
          "data": {
            "text/plain": [
              "<Axes: >"
            ]
          },
          "metadata": {},
          "execution_count": 24
        },
        {
          "output_type": "display_data",
          "data": {
            "text/plain": [
              "<Figure size 640x480 with 1 Axes>"
            ],
            "image/png": "[encoded data removed]"
          },
          "metadata": {}
        }
      ]
    },
    {
      "cell_type": "code",
      "source": [
        "plt.figure(figsize=(15,7))\n",
        "sns.heatmap(eth_df.corr(),annot =True,cmap=\"YlGnBu\")"
      ],
      "metadata": {
        "id": "qfdYcMdvRdym",
        "colab": {
          "base_uri": "https://localhost:8080/",
          "height": 496
        },
        "outputId": "b9d000d0-6acf-4759-c60a-fa89513a064c"
      },
      "execution_count": null,
      "outputs": [
        {
          "output_type": "execute_result",
          "data": {
            "text/plain": [
              "<Axes: >"
            ]
          },
          "metadata": {},
          "execution_count": 25
        },
        {
          "output_type": "display_data",
          "data": {
            "text/plain": [
              "<Figure size 1500x700 with 2 Axes>"
            ],
            "image/png": "[encoded data removed]"
          },
          "metadata": {}
        }
      ]
    },
    {
      "cell_type": "markdown",
      "source": [
        "### Preprocess data ###"
      ],
      "metadata": {
        "id": "rVv5YfA4vWQa"
      }
    },
    {
      "cell_type": "code",
      "source": [
        "\n",
        "eth_df['Year'] = eth_df.index.year\n",
        "eth_df['Month'] = eth_df.index.month\n",
        "eth_df['Day'] = eth_df.index.day"
      ],
      "metadata": {
        "id": "LCJz1QsIvYmR"
      },
      "execution_count": null,
      "outputs": []
    },
    {
      "cell_type": "code",
      "source": [
        "eth_df\n"
      ],
      "metadata": {
        "colab": {
          "base_uri": "https://localhost:8080/",
          "height": 455
        },
        "id": "8id_T7TvvhYd",
        "outputId": "4ebc82b7-75f7-4350-e6a6-d74b0fddd2bf"
      },
      "execution_count": null,
      "outputs": [
        {
          "output_type": "execute_result",
          "data": {
            "text/plain": [
              "              Price     Open     High      Low        Vol.  Change %  Year  \\\n",
              "Date                                                                         \n",
              "2024-06-01  3815.95  3762.63  3832.35  3753.32    143810.0    0.0142  2024   \n",
              "2024-05-31  3762.66  3747.89  3844.96  3724.57    294560.0    0.0040  2024   \n",
              "2024-05-30  3747.55  3767.22  3824.94  3703.74    293810.0   -0.0058  2024   \n",
              "2024-05-29  3769.57  3845.56  3886.44  3745.72    353250.0   -0.0198  2024   \n",
              "2024-05-28  3845.56  3894.33  3929.21  3775.08    436240.0   -0.0125  2024   \n",
              "...             ...      ...      ...      ...         ...       ...   ...   \n",
              "2019-03-05   136.82   125.97   141.11   125.44  16740000.0    0.0861  2019   \n",
              "2019-03-04   125.97   131.02   131.57   123.25  14110000.0   -0.0385  2019   \n",
              "2019-03-03   131.01   132.77   168.42   129.05  10640000.0   -0.0132  2019   \n",
              "2019-03-02   132.76   135.72   136.36   130.74  11290000.0   -0.0218  2019   \n",
              "2019-03-01   135.72   135.47   138.06   128.46   9730000.0    0.0018  2019   \n",
              "\n",
              "            Month  Day  \n",
              "Date                    \n",
              "2024-06-01      6    1  \n",
              "2024-05-31      5   31  \n",
              "2024-05-30      5   30  \n",
              "2024-05-29      5   29  \n",
              "2024-05-28      5   28  \n",
              "...           ...  ...  \n",
              "2019-03-05      3    5  \n",
              "2019-03-04      3    4  \n",
              "2019-03-03      3    3  \n",
              "2019-03-02      3    2  \n",
              "2019-03-01      3    1  \n",
              "\n",
              "[1920 rows x 9 columns]"
            ],
            "text/html": [
              "\n",
              "  <div id=\"df-78f6a172-27a6-4d62-a1db-91dc336241c0\" class=\"colab-df-container\">\n",
              "    <div>\n",
              "<style scoped>\n",
              "    .dataframe tbody tr th:only-of-type {\n",
              "        vertical-align: middle;\n",
              "    }\n",
              "\n",
              "    .dataframe tbody tr th {\n",
              "        vertical-align: top;\n",
              "    }\n",
              "\n",
              "    .dataframe thead th {\n",
              "        text-align: right;\n",
              "    }\n",
              "</style>\n",
              "<table border=\"1\" class=\"dataframe\">\n",
              "  <thead>\n",
              "    <tr style=\"text-align: right;\">\n",
              "      <th></th>\n",
              "      <th>Price</th>\n",
              "      <th>Open</th>\n",
              "      <th>High</th>\n",
              "      <th>Low</th>\n",
              "      <th>Vol.</th>\n",
              "      <th>Change %</th>\n",
              "      <th>Year</th>\n",
              "      <th>Month</th>\n",
              "      <th>Day</th>\n",
              "    </tr>\n",
              "    <tr>\n",
              "      <th>Date</th>\n",
              "      <th></th>\n",
              "      <th></th>\n",
              "      <th></th>\n",
              "      <th></th>\n",
              "      <th></th>\n",
              "      <th></th>\n",
              "      <th></th>\n",
              "      <th></th>\n",
              "      <th></th>\n",
              "    </tr>\n",
              "  </thead>\n",
              "  <tbody>\n",
              "    <tr>\n",
              "      <th>2024-06-01</th>\n",
              "      <td>3815.95</td>\n",
              "      <td>3762.63</td>\n",
              "      <td>3832.35</td>\n",
              "      <td>3753.32</td>\n",
              "      <td>143810.0</td>\n",
              "      <td>0.0142</td>\n",
              "      <td>2024</td>\n",
              "      <td>6</td>\n",
              "      <td>1</td>\n",
              "    </tr>\n",
              "    <tr>\n",
              "      <th>2024-05-31</th>\n",
              "      <td>3762.66</td>\n",
              "      <td>3747.89</td>\n",
              "      <td>3844.96</td>\n",
              "      <td>3724.57</td>\n",
              "      <td>294560.0</td>\n",
              "      <td>0.0040</td>\n",
              "      <td>2024</td>\n",
              "      <td>5</td>\n",
              "      <td>31</td>\n",
              "    </tr>\n",
              "    <tr>\n",
              "      <th>2024-05-30</th>\n",
              "      <td>3747.55</td>\n",
              "      <td>3767.22</td>\n",
              "      <td>3824.94</td>\n",
              "      <td>3703.74</td>\n",
              "      <td>293810.0</td>\n",
              "      <td>-0.0058</td>\n",
              "      <td>2024</td>\n",
              "      <td>5</td>\n",
              "      <td>30</td>\n",
              "    </tr>\n",
              "    <tr>\n",
              "      <th>2024-05-29</th>\n",
              "      <td>3769.57</td>\n",
              "      <td>3845.56</td>\n",
              "      <td>3886.44</td>\n",
              "      <td>3745.72</td>\n",
              "      <td>353250.0</td>\n",
              "      <td>-0.0198</td>\n",
              "      <td>2024</td>\n",
              "      <td>5</td>\n",
              "      <td>29</td>\n",
              "    </tr>\n",
              "    <tr>\n",
              "      <th>2024-05-28</th>\n",
              "      <td>3845.56</td>\n",
              "      <td>3894.33</td>\n",
              "      <td>3929.21</td>\n",
              "      <td>3775.08</td>\n",
              "      <td>436240.0</td>\n",
              "      <td>-0.0125</td>\n",
              "      <td>2024</td>\n",
              "      <td>5</td>\n",
              "      <td>28</td>\n",
              "    </tr>\n",
              "    <tr>\n",
              "      <th>...</th>\n",
              "      <td>...</td>\n",
              "      <td>...</td>\n",
              "      <td>...</td>\n",
              "      <td>...</td>\n",
              "      <td>...</td>\n",
              "      <td>...</td>\n",
              "      <td>...</td>\n",
              "      <td>...</td>\n",
              "      <td>...</td>\n",
              "    </tr>\n",
              "    <tr>\n",
              "      <th>2019-03-05</th>\n",
              "      <td>136.82</td>\n",
              "      <td>125.97</td>\n",
              "      <td>141.11</td>\n",
              "      <td>125.44</td>\n",
              "      <td>16740000.0</td>\n",
              "      <td>0.0861</td>\n",
              "      <td>2019</td>\n",
              "      <td>3</td>\n",
              "      <td>5</td>\n",
              "    </tr>\n",
              "    <tr>\n",
              "      <th>2019-03-04</th>\n",
              "      <td>125.97</td>\n",
              "      <td>131.02</td>\n",
              "      <td>131.57</td>\n",
              "      <td>123.25</td>\n",
              "      <td>14110000.0</td>\n",
              "      <td>-0.0385</td>\n",
              "      <td>2019</td>\n",
              "      <td>3</td>\n",
              "      <td>4</td>\n",
              "    </tr>\n",
              "    <tr>\n",
              "      <th>2019-03-03</th>\n",
              "      <td>131.01</td>\n",
              "      <td>132.77</td>\n",
              "      <td>168.42</td>\n",
              "      <td>129.05</td>\n",
              "      <td>10640000.0</td>\n",
              "      <td>-0.0132</td>\n",
              "      <td>2019</td>\n",
              "      <td>3</td>\n",
              "      <td>3</td>\n",
              "    </tr>\n",
              "    <tr>\n",
              "      <th>2019-03-02</th>\n",
              "      <td>132.76</td>\n",
              "      <td>135.72</td>\n",
              "      <td>136.36</td>\n",
              "      <td>130.74</td>\n",
              "      <td>11290000.0</td>\n",
              "      <td>-0.0218</td>\n",
              "      <td>2019</td>\n",
              "      <td>3</td>\n",
              "      <td>2</td>\n",
              "    </tr>\n",
              "    <tr>\n",
              "      <th>2019-03-01</th>\n",
              "      <td>135.72</td>\n",
              "      <td>135.47</td>\n",
              "      <td>138.06</td>\n",
              "      <td>128.46</td>\n",
              "      <td>9730000.0</td>\n",
              "      <td>0.0018</td>\n",
              "      <td>2019</td>\n",
              "      <td>3</td>\n",
              "      <td>1</td>\n",
              "    </tr>\n",
              "  </tbody>\n",
              "</table>\n",
              "<p>1920 rows × 9 columns</p>\n",
              "</div>\n",
              "    <div class=\"colab-df-buttons\">\n",
              "\n",
              "  <div class=\"colab-df-container\">\n",
              "    <button class=\"colab-df-convert\" onclick=\"convertToInteractive('df-78f6a172-27a6-4d62-a1db-91dc336241c0')\"\n",
              "            title=\"Convert this dataframe to an interactive table.\"\n",
              "            style=\"display:none;\">\n",
              "\n",
              "  <svg xmlns=\"http://www.w3.org/2000/svg\" height=\"24px\" viewBox=\"0 -960 960 960\">\n",
              "    <path d=\"M120-120v-720h720v720H120Zm60-500h600v-160H180v160Zm220 220h160v-160H400v160Zm0 220h160v-160H400v160ZM180-400h160v-160H180v160Zm440 0h160v-160H620v160ZM180-180h160v-160H180v160Zm440 0h160v-160H620v160Z\"/>\n",
              "  </svg>\n",
              "    </button>\n",
              "\n",
              "  <style>\n",
              "    .colab-df-container {\n",
              "      display:flex;\n",
              "      gap: 12px;\n",
              "    }\n",
              "\n",
              "    .colab-df-convert {\n",
              "      background-color: #E8F0FE;\n",
              "      border: none;\n",
              "      border-radius: 50%;\n",
              "      cursor: pointer;\n",
              "      display: none;\n",
              "      fill: #1967D2;\n",
              "      height: 32px;\n",
              "      padding: 0 0 0 0;\n",
              "      width: 32px;\n",
              "    }\n",
              "\n",
              "    .colab-df-convert:hover {\n",
              "      background-color: #E2EBFA;\n",
              "      box-shadow: 0px 1px 2px rgba(60, 64, 67, 0.3), 0px 1px 3px 1px rgba(60, 64, 67, 0.15);\n",
              "      fill: #174EA6;\n",
              "    }\n",
              "\n",
              "    .colab-df-buttons div {\n",
              "      margin-bottom: 4px;\n",
              "    }\n",
              "\n",
              "    [theme=dark] .colab-df-convert {\n",
              "      background-color: #3B4455;\n",
              "      fill: #D2E3FC;\n",
              "    }\n",
              "\n",
              "    [theme=dark] .colab-df-convert:hover {\n",
              "      background-color: #434B5C;\n",
              "      box-shadow: 0px 1px 3px 1px rgba(0, 0, 0, 0.15);\n",
              "      filter: drop-shadow(0px 1px 2px rgba(0, 0, 0, 0.3));\n",
              "      fill: #FFFFFF;\n",
              "    }\n",
              "  </style>\n",
              "\n",
              "    <script>\n",
              "      const buttonEl =\n",
              "        document.querySelector('#df-78f6a172-27a6-4d62-a1db-91dc336241c0 button.colab-df-convert');\n",
              "      buttonEl.style.display =\n",
              "        google.colab.kernel.accessAllowed ? 'block' : 'none';\n",
              "\n",
              "      async function convertToInteractive(key) {\n",
              "        const element = document.querySelector('#df-78f6a172-27a6-4d62-a1db-91dc336241c0');\n",
              "        const dataTable =\n",
              "          await google.colab.kernel.invokeFunction('convertToInteractive',\n",
              "                                                    [key], {});\n",
              "        if (!dataTable) return;\n",
              "\n",
              "        const docLinkHtml = 'Like what you see? Visit the ' +\n",
              "          '<a target=\"_blank\" href=https://colab.research.google.com/notebooks/data_table.ipynb>data table notebook</a>'\n",
              "          + ' to learn more about interactive tables.';\n",
              "        element.innerHTML = '';\n",
              "        dataTable['output_type'] = 'display_data';\n",
              "        await google.colab.output.renderOutput(dataTable, element);\n",
              "        const docLink = document.createElement('div');\n",
              "        docLink.innerHTML = docLinkHtml;\n",
              "        element.appendChild(docLink);\n",
              "      }\n",
              "    </script>\n",
              "  </div>\n",
              "\n",
              "\n",
              "<div id=\"df-cd8f01ca-98e2-4118-87ab-d15824c65065\">\n",
              "  <button class=\"colab-df-quickchart\" onclick=\"quickchart('df-cd8f01ca-98e2-4118-87ab-d15824c65065')\"\n",
              "            title=\"Suggest charts\"\n",
              "            style=\"display:none;\">\n",
              "\n",
              "<svg xmlns=\"http://www.w3.org/2000/svg\" height=\"24px\"viewBox=\"0 0 24 24\"\n",
              "     width=\"24px\">\n",
              "    <g>\n",
              "        <path d=\"M19 3H5c-1.1 0-2 .9-2 2v14c0 1.1.9 2 2 2h14c1.1 0 2-.9 2-2V5c0-1.1-.9-2-2-2zM9 17H7v-7h2v7zm4 0h-2V7h2v10zm4 0h-2v-4h2v4z\"/>\n",
              "    </g>\n",
              "</svg>\n",
              "  </button>\n",
              "\n",
              "<style>\n",
              "  .colab-df-quickchart {\n",
              "      --bg-color: #E8F0FE;\n",
              "      --fill-color: #1967D2;\n",
              "      --hover-bg-color: #E2EBFA;\n",
              "      --hover-fill-color: #174EA6;\n",
              "      --disabled-fill-color: #AAA;\n",
              "      --disabled-bg-color: #DDD;\n",
              "  }\n",
              "\n",
              "  [theme=dark] .colab-df-quickchart {\n",
              "      --bg-color: #3B4455;\n",
              "      --fill-color: #D2E3FC;\n",
              "      --hover-bg-color: #434B5C;\n",
              "      --hover-fill-color: #FFFFFF;\n",
              "      --disabled-bg-color: #3B4455;\n",
              "      --disabled-fill-color: #666;\n",
              "  }\n",
              "\n",
              "  .colab-df-quickchart {\n",
              "    background-color: var(--bg-color);\n",
              "    border: none;\n",
              "    border-radius: 50%;\n",
              "    cursor: pointer;\n",
              "    display: none;\n",
              "    fill: var(--fill-color);\n",
              "    height: 32px;\n",
              "    padding: 0;\n",
              "    width: 32px;\n",
              "  }\n",
              "\n",
              "  .colab-df-quickchart:hover {\n",
              "    background-color: var(--hover-bg-color);\n",
              "    box-shadow: 0 1px 2px rgba(60, 64, 67, 0.3), 0 1px 3px 1px rgba(60, 64, 67, 0.15);\n",
              "    fill: var(--button-hover-fill-color);\n",
              "  }\n",
              "\n",
              "  .colab-df-quickchart-complete:disabled,\n",
              "  .colab-df-quickchart-complete:disabled:hover {\n",
              "    background-color: var(--disabled-bg-color);\n",
              "    fill: var(--disabled-fill-color);\n",
              "    box-shadow: none;\n",
              "  }\n",
              "\n",
              "  .colab-df-spinner {\n",
              "    border: 2px solid var(--fill-color);\n",
              "    border-color: transparent;\n",
              "    border-bottom-color: var(--fill-color);\n",
              "    animation:\n",
              "      spin 1s steps(1) infinite;\n",
              "  }\n",
              "\n",
              "  @keyframes spin {\n",
              "    0% {\n",
              "      border-color: transparent;\n",
              "      border-bottom-color: var(--fill-color);\n",
              "      border-left-color: var(--fill-color);\n",
              "    }\n",
              "    20% {\n",
              "      border-color: transparent;\n",
              "      border-left-color: var(--fill-color);\n",
              "      border-top-color: var(--fill-color);\n",
              "    }\n",
              "    30% {\n",
              "      border-color: transparent;\n",
              "      border-left-color: var(--fill-color);\n",
              "      border-top-color: var(--fill-color);\n",
              "      border-right-color: var(--fill-color);\n",
              "    }\n",
              "    40% {\n",
              "      border-color: transparent;\n",
              "      border-right-color: var(--fill-color);\n",
              "      border-top-color: var(--fill-color);\n",
              "    }\n",
              "    60% {\n",
              "      border-color: transparent;\n",
              "      border-right-color: var(--fill-color);\n",
              "    }\n",
              "    80% {\n",
              "      border-color: transparent;\n",
              "      border-right-color: var(--fill-color);\n",
              "      border-bottom-color: var(--fill-color);\n",
              "    }\n",
              "    90% {\n",
              "      border-color: transparent;\n",
              "      border-bottom-color: var(--fill-color);\n",
              "    }\n",
              "  }\n",
              "</style>\n",
              "\n",
              "  <script>\n",
              "    async function quickchart(key) {\n",
              "      const quickchartButtonEl =\n",
              "        document.querySelector('#' + key + ' button');\n",
              "      quickchartButtonEl.disabled = true;  // To prevent multiple clicks.\n",
              "      quickchartButtonEl.classList.add('colab-df-spinner');\n",
              "      try {\n",
              "        const charts = await google.colab.kernel.invokeFunction(\n",
              "            'suggestCharts', [key], {});\n",
              "      } catch (error) {\n",
              "        console.error('Error during call to suggestCharts:', error);\n",
              "      }\n",
              "      quickchartButtonEl.classList.remove('colab-df-spinner');\n",
              "      quickchartButtonEl.classList.add('colab-df-quickchart-complete');\n",
              "    }\n",
              "    (() => {\n",
              "      let quickchartButtonEl =\n",
              "        document.querySelector('#df-cd8f01ca-98e2-4118-87ab-d15824c65065 button');\n",
              "      quickchartButtonEl.style.display =\n",
              "        google.colab.kernel.accessAllowed ? 'block' : 'none';\n",
              "    })();\n",
              "  </script>\n",
              "</div>\n",
              "    </div>\n",
              "  </div>\n"
            ],
            "application/vnd.google.colaboratory.intrinsic+json": {
              "type": "dataframe",
              "variable_name": "eth_df",
              "summary": "{\n  \"name\": \"eth_df\",\n  \"rows\": 1920,\n  \"fields\": [\n    {\n      \"column\": \"Date\",\n      \"properties\": {\n        \"dtype\": \"date\",\n        \"min\": \"2019-03-01 00:00:00\",\n        \"max\": \"2024-06-01 00:00:00\",\n        \"num_unique_values\": 1920,\n        \"samples\": [\n          \"2021-09-07 00:00:00\",\n          \"2019-12-24 00:00:00\",\n          \"2022-09-29 00:00:00\"\n        ],\n        \"semantic_type\": \"\",\n        \"description\": \"\"\n      }\n    },\n    {\n      \"column\": \"Price\",\n      \"properties\": {\n        \"dtype\": \"number\",\n        \"std\": 1205.8617192638408,\n        \"min\": 107.9,\n        \"max\": 4808.38,\n        \"num_unique_values\": 1900,\n        \"samples\": [\n          1117.33,\n          2506.69,\n          1203.77\n        ],\n        \"semantic_type\": \"\",\n        \"description\": \"\"\n      }\n    },\n    {\n      \"column\": \"Open\",\n      \"properties\": {\n        \"dtype\": \"number\",\n        \"std\": 1205.2290056329853,\n        \"min\": 107.87,\n        \"max\": 4808.34,\n        \"num_unique_values\": 1900,\n        \"samples\": [\n          1118.01,\n          2500.28,\n          1185.7\n        ],\n        \"semantic_type\": \"\",\n        \"description\": \"\"\n      }\n    },\n    {\n      \"column\": \"High\",\n      \"properties\": {\n        \"dtype\": \"number\",\n        \"std\": 1239.7880333126684,\n        \"min\": 117.91,\n        \"max\": 4864.06,\n        \"num_unique_values\": 1909,\n        \"samples\": [\n          229.8,\n          2537.85,\n          160.28\n        ],\n        \"semantic_type\": \"\",\n        \"description\": \"\"\n      }\n    },\n    {\n      \"column\": \"Low\",\n      \"properties\": {\n        \"dtype\": \"number\",\n        \"std\": 1166.0979301552745,\n        \"min\": 88.5,\n        \"max\": 4715.43,\n        \"num_unique_values\": 1908,\n        \"samples\": [\n          223.79,\n          2493.83,\n          167.03\n        ],\n        \"semantic_type\": \"\",\n        \"description\": \"\"\n      }\n    },\n    {\n      \"column\": \"Vol.\",\n      \"properties\": {\n        \"dtype\": \"number\",\n        \"std\": 112208076.64132501,\n        \"min\": 27030.0,\n        \"max\": 1790000000.0,\n        \"num_unique_values\": 1613,\n        \"samples\": [\n          381950.0,\n          194290.0,\n          229740.0\n        ],\n        \"semantic_type\": \"\",\n        \"description\": \"\"\n      }\n    },\n    {\n      \"column\": \"Change %\",\n      \"properties\": {\n        \"dtype\": \"number\",\n        \"std\": 0.04447354266892567,\n        \"min\": -0.44549999999999995,\n        \"max\": 0.2596,\n        \"num_unique_values\": 1042,\n        \"samples\": [\n          -0.0199,\n          -0.0123,\n          0.0362\n        ],\n        \"semantic_type\": \"\",\n        \"description\": \"\"\n      }\n    },\n    {\n      \"column\": \"Year\",\n      \"properties\": {\n        \"dtype\": \"int32\",\n        \"num_unique_values\": 6,\n        \"samples\": [\n          2024,\n          2023,\n          2019\n        ],\n        \"semantic_type\": \"\",\n        \"description\": \"\"\n      }\n    },\n    {\n      \"column\": \"Month\",\n      \"properties\": {\n        \"dtype\": \"int32\",\n        \"num_unique_values\": 12,\n        \"samples\": [\n          8,\n          9,\n          6\n        ],\n        \"semantic_type\": \"\",\n        \"description\": \"\"\n      }\n    },\n    {\n      \"column\": \"Day\",\n      \"properties\": {\n        \"dtype\": \"int32\",\n        \"num_unique_values\": 31,\n        \"samples\": [\n          5,\n          17,\n          9\n        ],\n        \"semantic_type\": \"\",\n        \"description\": \"\"\n      }\n    }\n  ]\n}"
            }
          },
          "metadata": {},
          "execution_count": 27
        }
      ]
    },
    {
      "cell_type": "code",
      "source": [
        "eth_df.info()"
      ],
      "metadata": {
        "colab": {
          "base_uri": "https://localhost:8080/"
        },
        "id": "cmZL5W_qvkhm",
        "outputId": "068a998b-a8b8-48fc-9516-3a75dde7a55a"
      },
      "execution_count": null,
      "outputs": [
        {
          "output_type": "stream",
          "name": "stdout",
          "text": [
            "<class 'pandas.core.frame.DataFrame'>\n",
            "DatetimeIndex: 1920 entries, 2024-06-01 to 2019-03-01\n",
            "Data columns (total 9 columns):\n",
            " #   Column    Non-Null Count  Dtype  \n",
            "---  ------    --------------  -----  \n",
            " 0   Price     1920 non-null   float64\n",
            " 1   Open      1920 non-null   float64\n",
            " 2   High      1920 non-null   float64\n",
            " 3   Low       1920 non-null   float64\n",
            " 4   Vol.      1920 non-null   float64\n",
            " 5   Change %  1920 non-null   float64\n",
            " 6   Year      1920 non-null   int32  \n",
            " 7   Month     1920 non-null   int32  \n",
            " 8   Day       1920 non-null   int32  \n",
            "dtypes: float64(6), int32(3)\n",
            "memory usage: 127.5 KB\n"
          ]
        }
      ]
    },
    {
      "cell_type": "code",
      "source": [
        "eth_df.shape"
      ],
      "metadata": {
        "colab": {
          "base_uri": "https://localhost:8080/"
        },
        "id": "nouphK-3vrgn",
        "outputId": "facaffc8-9fc2-4d3a-ffff-3e300da4bddb"
      },
      "execution_count": null,
      "outputs": [
        {
          "output_type": "execute_result",
          "data": {
            "text/plain": [
              "(1920, 9)"
            ]
          },
          "metadata": {},
          "execution_count": 29
        }
      ]
    },
    {
      "cell_type": "markdown",
      "source": [
        "**Split data**"
      ],
      "metadata": {
        "id": "QVcUSRY3xrUU"
      }
    },
    {
      "cell_type": "code",
      "source": [
        "df_train = eth_df[eth_df.index<='3/1/2024']\n",
        "df_test = eth_df[eth_df.index>'3/1/2024']"
      ],
      "metadata": {
        "id": "nKiCvLiBxq5p"
      },
      "execution_count": null,
      "outputs": []
    },
    {
      "cell_type": "code",
      "source": [
        "print('df_train.shape: ',df_train.shape)\n",
        "print('df_trest.shape: ',df_test.shape)"
      ],
      "metadata": {
        "colab": {
          "base_uri": "https://localhost:8080/"
        },
        "id": "Lf7xLTQ4xzys",
        "outputId": "c13b3424-de89-439f-ca19-2ea7d044e496"
      },
      "execution_count": null,
      "outputs": [
        {
          "output_type": "stream",
          "name": "stdout",
          "text": [
            "df_train.shape:  (1828, 9)\n",
            "df_trest.shape:  (92, 9)\n"
          ]
        }
      ]
    },
    {
      "cell_type": "code",
      "source": [
        "plt.figure()\n",
        "plt.plot(pd.DataFrame(df_train).index.to_list(), pd.DataFrame(df_train['Price']), color='red', label='Train')\n",
        "plt.plot(pd.DataFrame(df_test).index.to_list(),pd.DataFrame(df_test['Price']), label ='Test')\n",
        "plt.legend()\n",
        "plt.show()"
      ],
      "metadata": {
        "colab": {
          "base_uri": "https://localhost:8080/",
          "height": 432
        },
        "id": "vMfdpta5zDSf",
        "outputId": "2aa3027b-65b5-456c-b485-7b97a29ad762"
      },
      "execution_count": null,
      "outputs": [
        {
          "output_type": "display_data",
          "data": {
            "text/plain": [
              "<Figure size 640x480 with 1 Axes>"
            ],
            "image/png": "[encoded data removed]"
          },
          "metadata": {}
        }
      ]
    },
    {
      "cell_type": "code",
      "source": [
        "scaler = MinMaxScaler(feature_range=(0, 1))\n",
        "df_train_scaled = scaler.fit_transform(df_train)\n",
        "df_test_scaled = scaler.transform(df_test)\n",
        "\n",
        "df_train_scaled = pd.DataFrame(df_train_scaled, index=df_train.index, columns=df_train.columns)\n",
        "df_test_scaled = pd.DataFrame(df_test_scaled, index=df_test.index, columns=df_test.columns)"
      ],
      "metadata": {
        "id": "XC_GnheFzMgD"
      },
      "execution_count": null,
      "outputs": []
    },
    {
      "cell_type": "code",
      "source": [
        "X_train_flat = df_train_scaled.drop(columns=['Price'])\n",
        "y_train_flat = df_train_scaled['Price']\n",
        "X_test_flat = df_test_scaled.drop(columns=['Price'])\n",
        "y_test_flat = df_test_scaled['Price']"
      ],
      "metadata": {
        "id": "BMetGWv2zRbq"
      },
      "execution_count": null,
      "outputs": []
    },
    {
      "cell_type": "code",
      "source": [
        "X_train_flat = df_train_scaled.drop(columns=['Price'])\n",
        "y_train_flat = df_train_scaled['Price']\n",
        "X_test_flat = df_test_scaled.drop(columns=['Price'])\n",
        "y_test_flat = df_test_scaled['Price']"
      ],
      "metadata": {
        "id": "-9BxRYA4zZqp"
      },
      "execution_count": null,
      "outputs": []
    },
    {
      "cell_type": "code",
      "source": [
        "def train_test_split(X_train, y_train,X_test,y_test,test_size, window_size=10):\n",
        "    if window_size is not None:\n",
        "        X_train = np.array([X_train[i:i+window_size] for i in range(len(X_train)-window_size)])\n",
        "        y_train = y_train[window_size:]\n",
        "        X_test = np.array([X_test[i:i+window_size] for i in range(len(X_test)-window_size)])\n",
        "        y_test = y_test[window_size:]\n",
        "    return X_train, y_train, X_test, y_test"
      ],
      "metadata": {
        "id": "fns-4SLizgsl"
      },
      "execution_count": null,
      "outputs": []
    },
    {
      "cell_type": "code",
      "source": [
        "# Define window_size with an appropriate value\n",
        "window_size = 5  # or any other value that makes sense in your context\n",
        "\n",
        "# Now you can use window_size in your function call\n",
        "X_train, y_train, X_test, y_test = train_test_split(X_train_flat, y_train_flat, X_test_flat, y_test_flat, window_size)\n"
      ],
      "metadata": {
        "id": "pxXgLagg0Eqq"
      },
      "execution_count": null,
      "outputs": []
    },
    {
      "cell_type": "code",
      "source": [
        "X_train, y_train, X_test, y_test=train_test_split(X_train_flat,y_train_flat,X_test_flat,y_test_flat,window_size)"
      ],
      "metadata": {
        "id": "5o0BSY_yzkDp"
      },
      "execution_count": null,
      "outputs": []
    },
    {
      "cell_type": "code",
      "source": [
        "print('X_train shape: ',X_train.shape)\n",
        "print('y_train shape: ',y_train.shape)\n",
        "print('X_test shape: ',X_test.shape)\n",
        "print('y_test shape: ',y_test.shape)"
      ],
      "metadata": {
        "colab": {
          "base_uri": "https://localhost:8080/"
        },
        "id": "23K44Ws00HNV",
        "outputId": "0baf92ff-20ea-4495-c683-aabbe4a16bc2"
      },
      "execution_count": null,
      "outputs": [
        {
          "output_type": "stream",
          "name": "stdout",
          "text": [
            "X_train shape:  (1818, 10, 8)\n",
            "y_train shape:  (1818,)\n",
            "X_test shape:  (82, 10, 8)\n",
            "y_test shape:  (82,)\n"
          ]
        }
      ]
    },
    {
      "cell_type": "code",
      "source": [
        "from sklearn.model_selection import train_test_split"
      ],
      "metadata": {
        "id": "iXu0ZxWGSLEY"
      },
      "execution_count": null,
      "outputs": []
    },
    {
      "cell_type": "code",
      "source": [
        "x = eth_df.drop(['Price'],axis =1 ).values\n",
        "y = eth_df['Change %'].values"
      ],
      "metadata": {
        "id": "hXz96YbdNnrj"
      },
      "execution_count": null,
      "outputs": []
    },
    {
      "cell_type": "code",
      "source": [
        "new_df=eth_df.drop[['Price', 'Change %']]\n",
        "X =new_df.drop(['Price'],axis = 1)\n",
        "y = new_df['Change %']"
      ],
      "metadata": {
        "colab": {
          "base_uri": "https://localhost:8080/",
          "height": 176
        },
        "id": "TveqvhsQMO2N",
        "outputId": "8d92c3c2-65bc-4d72-f7b7-2a72c6a43985"
      },
      "execution_count": null,
      "outputs": [
        {
          "output_type": "error",
          "ename": "TypeError",
          "evalue": "'method' object is not subscriptable",
          "traceback": [
            "\u001b[0;31m---------------------------------------------------------------------------\u001b[0m",
            "\u001b[0;31mTypeError\u001b[0m                                 Traceback (most recent call last)",
            "\u001b[0;32m<ipython-input-42-18e608740630>\u001b[0m in \u001b[0;36m<cell line: 1>\u001b[0;34m()\u001b[0m\n\u001b[0;32m----> 1\u001b[0;31m \u001b[0mnew_df\u001b[0m\u001b[0;34m=\u001b[0m\u001b[0meth_df\u001b[0m\u001b[0;34m.\u001b[0m\u001b[0mdrop\u001b[0m\u001b[0;34m[\u001b[0m\u001b[0;34m[\u001b[0m\u001b[0;34m'Price'\u001b[0m\u001b[0;34m,\u001b[0m \u001b[0;34m'Change %'\u001b[0m\u001b[0;34m]\u001b[0m\u001b[0;34m]\u001b[0m\u001b[0;34m\u001b[0m\u001b[0;34m\u001b[0m\u001b[0m\n\u001b[0m\u001b[1;32m      2\u001b[0m \u001b[0mX\u001b[0m \u001b[0;34m=\u001b[0m\u001b[0mnew_df\u001b[0m\u001b[0;34m.\u001b[0m\u001b[0mdrop\u001b[0m\u001b[0;34m(\u001b[0m\u001b[0;34m[\u001b[0m\u001b[0;34m'Price'\u001b[0m\u001b[0;34m]\u001b[0m\u001b[0;34m,\u001b[0m\u001b[0maxis\u001b[0m \u001b[0;34m=\u001b[0m \u001b[0;36m1\u001b[0m\u001b[0;34m)\u001b[0m\u001b[0;34m\u001b[0m\u001b[0;34m\u001b[0m\u001b[0m\n\u001b[1;32m      3\u001b[0m \u001b[0my\u001b[0m \u001b[0;34m=\u001b[0m \u001b[0mnew_df\u001b[0m\u001b[0;34m[\u001b[0m\u001b[0;34m'Change %'\u001b[0m\u001b[0;34m]\u001b[0m\u001b[0;34m\u001b[0m\u001b[0;34m\u001b[0m\u001b[0m\n",
            "\u001b[0;31mTypeError\u001b[0m: 'method' object is not subscriptable"
          ]
        }
      ]
    },
    {
      "cell_type": "code",
      "source": [
        "x"
      ],
      "metadata": {
        "colab": {
          "base_uri": "https://localhost:8080/"
        },
        "id": "UsyX7OLqPKvx",
        "outputId": "31bbf0f6-f1aa-42ec-960d-e122b3fe935d"
      },
      "execution_count": null,
      "outputs": [
        {
          "output_type": "execute_result",
          "data": {
            "text/plain": [
              "array([[3.76263e+03, 3.83235e+03, 3.75332e+03, ..., 2.02400e+03,\n",
              "        6.00000e+00, 1.00000e+00],\n",
              "       [3.74789e+03, 3.84496e+03, 3.72457e+03, ..., 2.02400e+03,\n",
              "        5.00000e+00, 3.10000e+01],\n",
              "       [3.76722e+03, 3.82494e+03, 3.70374e+03, ..., 2.02400e+03,\n",
              "        5.00000e+00, 3.00000e+01],\n",
              "       ...,\n",
              "       [1.32770e+02, 1.68420e+02, 1.29050e+02, ..., 2.01900e+03,\n",
              "        3.00000e+00, 3.00000e+00],\n",
              "       [1.35720e+02, 1.36360e+02, 1.30740e+02, ..., 2.01900e+03,\n",
              "        3.00000e+00, 2.00000e+00],\n",
              "       [1.35470e+02, 1.38060e+02, 1.28460e+02, ..., 2.01900e+03,\n",
              "        3.00000e+00, 1.00000e+00]])"
            ]
          },
          "metadata": {},
          "execution_count": 43
        }
      ]
    },
    {
      "cell_type": "code",
      "source": [
        "y"
      ],
      "metadata": {
        "colab": {
          "base_uri": "https://localhost:8080/"
        },
        "id": "VZc-0x4rPL9d",
        "outputId": "3cc8a1b3-0285-46a3-b320-c9af1f9224a6"
      },
      "execution_count": null,
      "outputs": [
        {
          "output_type": "execute_result",
          "data": {
            "text/plain": [
              "array([ 0.0142,  0.004 , -0.0058, ..., -0.0132, -0.0218,  0.0018])"
            ]
          },
          "metadata": {},
          "execution_count": 44
        }
      ]
    },
    {
      "cell_type": "code",
      "source": [
        "from sklearn.model_selection import train_test_split\n",
        "x_train, x_test, y_train, y_test = train_test_split(x, y, test_size=0.2, random_state=42)"
      ],
      "metadata": {
        "id": "MDSOS1IDP9vC"
      },
      "execution_count": null,
      "outputs": []
    },
    {
      "cell_type": "code",
      "source": [
        "x_train"
      ],
      "metadata": {
        "colab": {
          "base_uri": "https://localhost:8080/"
        },
        "id": "jDANP7lAQz6S",
        "outputId": "35a57771-68f7-4e48-ac6b-c6089ea21a6f"
      },
      "execution_count": null,
      "outputs": [
        {
          "output_type": "execute_result",
          "data": {
            "text/plain": [
              "array([[1.28533e+03, 1.31047e+03, 1.27279e+03, ..., 2.02200e+03,\n",
              "        1.00000e+01, 2.00000e+01],\n",
              "       [1.82078e+03, 1.82432e+03, 1.77581e+03, ..., 2.02300e+03,\n",
              "        4.00000e+00, 2.00000e+00],\n",
              "       [2.61808e+03, 2.71288e+03, 2.46293e+03, ..., 2.02400e+03,\n",
              "        1.00000e+00, 1.20000e+01],\n",
              "       ...,\n",
              "       [2.41252e+03, 2.54719e+03, 2.37385e+03, ..., 2.02200e+03,\n",
              "        1.00000e+00, 2.30000e+01],\n",
              "       [2.37900e+02, 2.44760e+02, 2.33840e+02, ..., 2.02000e+03,\n",
              "        6.00000e+00, 3.00000e+00],\n",
              "       [2.94504e+03, 2.98452e+03, 2.85412e+03, ..., 2.02100e+03,\n",
              "        5.00000e+00, 2.00000e+00]])"
            ]
          },
          "metadata": {},
          "execution_count": 46
        }
      ]
    },
    {
      "cell_type": "code",
      "source": [
        "y_train"
      ],
      "metadata": {
        "colab": {
          "base_uri": "https://localhost:8080/"
        },
        "id": "vVRc0aZYRi7M",
        "outputId": "faa25f22-aaca-426d-b630-731f4e9e275c"
      },
      "execution_count": null,
      "outputs": [
        {
          "output_type": "execute_result",
          "data": {
            "text/plain": [
              "array([-0.0019, -0.0142, -0.0359, ...,  0.0532,  0.0277,  0.0019])"
            ]
          },
          "metadata": {},
          "execution_count": 47
        }
      ]
    },
    {
      "cell_type": "code",
      "source": [
        "print('X_scale.shape: ',X_scale.shape)\n",
        "print('y_scale.shape: ',y_scale.shape)"
      ],
      "metadata": {
        "colab": {
          "base_uri": "https://localhost:8080/",
          "height": 158
        },
        "id": "s7J4jZGARZAy",
        "outputId": "fcbc002d-a640-4e1a-bfcf-a42c87708c74"
      },
      "execution_count": null,
      "outputs": [
        {
          "output_type": "error",
          "ename": "NameError",
          "evalue": "name 'X_scale' is not defined",
          "traceback": [
            "\u001b[0;31m---------------------------------------------------------------------------\u001b[0m",
            "\u001b[0;31mNameError\u001b[0m                                 Traceback (most recent call last)",
            "\u001b[0;32m<ipython-input-48-0c44e3d09562>\u001b[0m in \u001b[0;36m<cell line: 1>\u001b[0;34m()\u001b[0m\n\u001b[0;32m----> 1\u001b[0;31m \u001b[0mprint\u001b[0m\u001b[0;34m(\u001b[0m\u001b[0;34m'X_scale.shape: '\u001b[0m\u001b[0;34m,\u001b[0m\u001b[0mX_scale\u001b[0m\u001b[0;34m.\u001b[0m\u001b[0mshape\u001b[0m\u001b[0;34m)\u001b[0m\u001b[0;34m\u001b[0m\u001b[0;34m\u001b[0m\u001b[0m\n\u001b[0m\u001b[1;32m      2\u001b[0m \u001b[0mprint\u001b[0m\u001b[0;34m(\u001b[0m\u001b[0;34m'y_scale.shape: '\u001b[0m\u001b[0;34m,\u001b[0m\u001b[0my_scale\u001b[0m\u001b[0;34m.\u001b[0m\u001b[0mshape\u001b[0m\u001b[0;34m)\u001b[0m\u001b[0;34m\u001b[0m\u001b[0;34m\u001b[0m\u001b[0m\n",
            "\u001b[0;31mNameError\u001b[0m: name 'X_scale' is not defined"
          ]
        }
      ]
    },
    {
      "cell_type": "code",
      "source": [
        "X_train, y_train, X_test, y_test = train_test_split(X_scale, y_scale, 0.2, 10)\n",
        "print('X_train.shape: ', X_train.shape)\n",
        "print('y_train.shape: ',y_train.shape)\n",
        "print('X_test.shape: ',X_test.shape)\n",
        "print('y_test.shape: ',y_test.shape)"
      ],
      "metadata": {
        "colab": {
          "base_uri": "https://localhost:8080/",
          "height": 211
        },
        "id": "flA1SwfDPR6Q",
        "outputId": "56c056ca-100b-457c-c7c5-12f65f7b4ebf"
      },
      "execution_count": null,
      "outputs": [
        {
          "output_type": "error",
          "ename": "NameError",
          "evalue": "name 'X_scale' is not defined",
          "traceback": [
            "\u001b[0;31m---------------------------------------------------------------------------\u001b[0m",
            "\u001b[0;31mNameError\u001b[0m                                 Traceback (most recent call last)",
            "\u001b[0;32m<ipython-input-49-eef1f1c09815>\u001b[0m in \u001b[0;36m<cell line: 1>\u001b[0;34m()\u001b[0m\n\u001b[0;32m----> 1\u001b[0;31m \u001b[0mX_train\u001b[0m\u001b[0;34m,\u001b[0m \u001b[0my_train\u001b[0m\u001b[0;34m,\u001b[0m \u001b[0mX_test\u001b[0m\u001b[0;34m,\u001b[0m \u001b[0my_test\u001b[0m \u001b[0;34m=\u001b[0m \u001b[0mtrain_test_split\u001b[0m\u001b[0;34m(\u001b[0m\u001b[0mX_scale\u001b[0m\u001b[0;34m,\u001b[0m \u001b[0my_scale\u001b[0m\u001b[0;34m,\u001b[0m \u001b[0;36m0.2\u001b[0m\u001b[0;34m,\u001b[0m \u001b[0;36m10\u001b[0m\u001b[0;34m)\u001b[0m\u001b[0;34m\u001b[0m\u001b[0;34m\u001b[0m\u001b[0m\n\u001b[0m\u001b[1;32m      2\u001b[0m \u001b[0mprint\u001b[0m\u001b[0;34m(\u001b[0m\u001b[0;34m'X_train.shape: '\u001b[0m\u001b[0;34m,\u001b[0m \u001b[0mX_train\u001b[0m\u001b[0;34m.\u001b[0m\u001b[0mshape\u001b[0m\u001b[0;34m)\u001b[0m\u001b[0;34m\u001b[0m\u001b[0;34m\u001b[0m\u001b[0m\n\u001b[1;32m      3\u001b[0m \u001b[0mprint\u001b[0m\u001b[0;34m(\u001b[0m\u001b[0;34m'y_train.shape: '\u001b[0m\u001b[0;34m,\u001b[0m\u001b[0my_train\u001b[0m\u001b[0;34m.\u001b[0m\u001b[0mshape\u001b[0m\u001b[0;34m)\u001b[0m\u001b[0;34m\u001b[0m\u001b[0;34m\u001b[0m\u001b[0m\n\u001b[1;32m      4\u001b[0m \u001b[0mprint\u001b[0m\u001b[0;34m(\u001b[0m\u001b[0;34m'X_test.shape: '\u001b[0m\u001b[0;34m,\u001b[0m\u001b[0mX_test\u001b[0m\u001b[0;34m.\u001b[0m\u001b[0mshape\u001b[0m\u001b[0;34m)\u001b[0m\u001b[0;34m\u001b[0m\u001b[0;34m\u001b[0m\u001b[0m\n\u001b[1;32m      5\u001b[0m \u001b[0mprint\u001b[0m\u001b[0;34m(\u001b[0m\u001b[0;34m'y_test.shape: '\u001b[0m\u001b[0;34m,\u001b[0m\u001b[0my_test\u001b[0m\u001b[0;34m.\u001b[0m\u001b[0mshape\u001b[0m\u001b[0;34m)\u001b[0m\u001b[0;34m\u001b[0m\u001b[0;34m\u001b[0m\u001b[0m\n",
            "\u001b[0;31mNameError\u001b[0m: name 'X_scale' is not defined"
          ]
        }
      ]
    },
    {
      "cell_type": "markdown",
      "source": [
        "#RNN"
      ],
      "metadata": {
        "id": "HFX6oid9f6hH"
      }
    },
    {
      "cell_type": "code",
      "source": [
        "df1=eth_df.reset_index()['Price']"
      ],
      "metadata": {
        "id": "qMaecooLgH_l"
      },
      "execution_count": null,
      "outputs": []
    },
    {
      "cell_type": "code",
      "source": [
        "scaler=MinMaxScaler(feature_range=(0,1))\n",
        "df1=scaler.fit_transform(np.array(df1).reshape(-1,1))"
      ],
      "metadata": {
        "id": "qSrccwpTf-8d"
      },
      "execution_count": null,
      "outputs": []
    },
    {
      "cell_type": "code",
      "source": [
        "# 4. Chia train test\n",
        "train_size = int(0.7 * len(df1))\n",
        "test_size = len(df1) - train_size\n",
        "\n",
        "train_data = df1[:train_size]\n",
        "test_data = df1[train_size:]\n"
      ],
      "metadata": {
        "id": "R-sZJZhwgUTW"
      },
      "execution_count": null,
      "outputs": []
    },
    {
      "cell_type": "code",
      "source": [
        "# 5. Hàm Create Dataset\n",
        "def create_dataset(dataset, time_step=1):\n",
        "    dataX, dataY = [], []\n",
        "    for i in range(len(dataset) - time_step - 1):\n",
        "        a = dataset[i:(i + time_step), 0]\n",
        "        dataX.append(a)\n",
        "        dataY.append(dataset[i + time_step, 0])\n",
        "    return np.array(dataX), np.array(dataY)"
      ],
      "metadata": {
        "id": "CqRfwr9RgWSq"
      },
      "execution_count": null,
      "outputs": []
    },
    {
      "cell_type": "code",
      "source": [
        "# 6. Reshape into X=t,t+1,t+2..t+99 and Y=t+100\n",
        "time_step = 100\n",
        "X_train, y_train = create_dataset(train_data, time_step)\n",
        "X_test, ytest = create_dataset(test_data, time_step)"
      ],
      "metadata": {
        "id": "rJAIeUPHgYpF"
      },
      "execution_count": null,
      "outputs": []
    },
    {
      "cell_type": "code",
      "source": [
        "# 7. Reshape input to be [samples, time steps, features] which is required for LSTM\n",
        "X_train = X_train.reshape(X_train.shape[0], X_train.shape[1], 1)\n",
        "X_test = X_test.reshape(X_test.shape[0], X_test.shape[1], 1)"
      ],
      "metadata": {
        "id": "H7N8zC_bgcbR"
      },
      "execution_count": null,
      "outputs": []
    },
    {
      "cell_type": "code",
      "source": [
        "# 8. Define RNN Model\n",
        "model = Sequential()\n",
        "model.add(SimpleRNN(50, input_shape=(time_step, 1)))\n",
        "model.add(Dense(1))\n",
        "model.compile(loss='mean_squared_error', optimizer='adam')"
      ],
      "metadata": {
        "id": "Q11sVMAdgocO"
      },
      "execution_count": null,
      "outputs": []
    },
    {
      "cell_type": "code",
      "source": [
        "# 9. Fit mô hình với dữ liệu train\n",
        "model.fit(X_train, y_train, validation_data=(X_test, ytest), epochs=100, batch_size=64, verbose=1)"
      ],
      "metadata": {
        "colab": {
          "base_uri": "https://localhost:8080/"
        },
        "id": "Ml7F3d30g3Sr",
        "outputId": "7b54aa16-8732-4fd6-a1fc-925478d71cee"
      },
      "execution_count": null,
      "outputs": [
        {
          "output_type": "stream",
          "name": "stdout",
          "text": [
            "Epoch 1/100\n",
            "20/20 [==============================] - 5s 79ms/step - loss: 0.0104 - val_loss: 2.6155e-04\n",
            "Epoch 2/100\n",
            "20/20 [==============================] - 1s 45ms/step - loss: 0.0023 - val_loss: 8.1739e-05\n",
            "Epoch 3/100\n",
            "20/20 [==============================] - 1s 37ms/step - loss: 0.0021 - val_loss: 1.8741e-04\n",
            "Epoch 4/100\n",
            "20/20 [==============================] - 0s 24ms/step - loss: 0.0016 - val_loss: 5.8761e-05\n",
            "Epoch 5/100\n",
            "20/20 [==============================] - 0s 24ms/step - loss: 0.0014 - val_loss: 9.1935e-05\n",
            "Epoch 6/100\n",
            "20/20 [==============================] - 0s 24ms/step - loss: 0.0013 - val_loss: 4.0304e-05\n",
            "Epoch 7/100\n",
            "20/20 [==============================] - 0s 23ms/step - loss: 0.0013 - val_loss: 1.7157e-05\n",
            "Epoch 8/100\n",
            "20/20 [==============================] - 0s 23ms/step - loss: 0.0013 - val_loss: 5.4752e-05\n",
            "Epoch 9/100\n",
            "20/20 [==============================] - 0s 23ms/step - loss: 0.0011 - val_loss: 1.3857e-05\n",
            "Epoch 10/100\n",
            "20/20 [==============================] - 0s 24ms/step - loss: 0.0011 - val_loss: 1.4402e-05\n",
            "Epoch 11/100\n",
            "20/20 [==============================] - 0s 25ms/step - loss: 8.8039e-04 - val_loss: 3.7419e-05\n",
            "Epoch 12/100\n",
            "20/20 [==============================] - 0s 23ms/step - loss: 9.6985e-04 - val_loss: 1.5358e-05\n",
            "Epoch 13/100\n",
            "20/20 [==============================] - 1s 27ms/step - loss: 9.0663e-04 - val_loss: 2.3258e-05\n",
            "Epoch 14/100\n",
            "20/20 [==============================] - 0s 23ms/step - loss: 8.5687e-04 - val_loss: 2.3416e-05\n",
            "Epoch 15/100\n",
            "20/20 [==============================] - 0s 23ms/step - loss: 8.0421e-04 - val_loss: 1.0493e-05\n",
            "Epoch 16/100\n",
            "20/20 [==============================] - 1s 26ms/step - loss: 7.6440e-04 - val_loss: 1.4823e-05\n",
            "Epoch 17/100\n",
            "20/20 [==============================] - 0s 23ms/step - loss: 7.1237e-04 - val_loss: 1.2244e-05\n",
            "Epoch 18/100\n",
            "20/20 [==============================] - 0s 25ms/step - loss: 6.6935e-04 - val_loss: 2.2475e-05\n",
            "Epoch 19/100\n",
            "20/20 [==============================] - 0s 23ms/step - loss: 6.7018e-04 - val_loss: 1.0025e-05\n",
            "Epoch 20/100\n",
            "20/20 [==============================] - 0s 25ms/step - loss: 6.6263e-04 - val_loss: 9.7857e-06\n",
            "Epoch 21/100\n",
            "20/20 [==============================] - 0s 23ms/step - loss: 7.5083e-04 - val_loss: 9.9128e-06\n",
            "Epoch 22/100\n",
            "20/20 [==============================] - 1s 25ms/step - loss: 6.3198e-04 - val_loss: 9.2867e-06\n",
            "Epoch 23/100\n",
            "20/20 [==============================] - 0s 24ms/step - loss: 6.0079e-04 - val_loss: 9.8231e-06\n",
            "Epoch 24/100\n",
            "20/20 [==============================] - 1s 36ms/step - loss: 6.0586e-04 - val_loss: 9.4393e-06\n",
            "Epoch 25/100\n",
            "20/20 [==============================] - 1s 43ms/step - loss: 6.2882e-04 - val_loss: 2.7039e-05\n",
            "Epoch 26/100\n",
            "20/20 [==============================] - 1s 41ms/step - loss: 5.7885e-04 - val_loss: 1.2690e-05\n",
            "Epoch 27/100\n",
            "20/20 [==============================] - 1s 41ms/step - loss: 5.8026e-04 - val_loss: 9.6467e-06\n",
            "Epoch 28/100\n",
            "20/20 [==============================] - 1s 48ms/step - loss: 5.7918e-04 - val_loss: 7.4221e-06\n",
            "Epoch 29/100\n",
            "20/20 [==============================] - 1s 34ms/step - loss: 5.4160e-04 - val_loss: 2.3848e-05\n",
            "Epoch 30/100\n",
            "20/20 [==============================] - 0s 22ms/step - loss: 5.3535e-04 - val_loss: 7.9280e-06\n",
            "Epoch 31/100\n",
            "20/20 [==============================] - 0s 25ms/step - loss: 6.7204e-04 - val_loss: 8.0107e-06\n",
            "Epoch 32/100\n",
            "20/20 [==============================] - 0s 24ms/step - loss: 6.6351e-04 - val_loss: 1.3105e-05\n",
            "Epoch 33/100\n",
            "20/20 [==============================] - 1s 27ms/step - loss: 5.3367e-04 - val_loss: 7.3559e-06\n",
            "Epoch 34/100\n",
            "20/20 [==============================] - 0s 23ms/step - loss: 5.4572e-04 - val_loss: 1.7274e-05\n",
            "Epoch 35/100\n",
            "20/20 [==============================] - 1s 32ms/step - loss: 5.2265e-04 - val_loss: 9.4074e-06\n",
            "Epoch 36/100\n",
            "20/20 [==============================] - 1s 32ms/step - loss: 5.8129e-04 - val_loss: 1.3946e-05\n",
            "Epoch 37/100\n",
            "20/20 [==============================] - 1s 31ms/step - loss: 5.1082e-04 - val_loss: 9.0670e-06\n",
            "Epoch 38/100\n",
            "20/20 [==============================] - 1s 33ms/step - loss: 5.6092e-04 - val_loss: 1.5105e-05\n",
            "Epoch 39/100\n",
            "20/20 [==============================] - 1s 28ms/step - loss: 5.0922e-04 - val_loss: 6.4206e-06\n",
            "Epoch 40/100\n",
            "20/20 [==============================] - 1s 29ms/step - loss: 5.0116e-04 - val_loss: 9.4954e-06\n",
            "Epoch 41/100\n",
            "20/20 [==============================] - 1s 29ms/step - loss: 5.4063e-04 - val_loss: 1.5371e-05\n",
            "Epoch 42/100\n",
            "20/20 [==============================] - 1s 30ms/step - loss: 5.2758e-04 - val_loss: 6.1953e-06\n",
            "Epoch 43/100\n",
            "20/20 [==============================] - 1s 29ms/step - loss: 5.1859e-04 - val_loss: 8.6057e-06\n",
            "Epoch 44/100\n",
            "20/20 [==============================] - 1s 30ms/step - loss: 5.3334e-04 - val_loss: 6.1751e-06\n",
            "Epoch 45/100\n",
            "20/20 [==============================] - 1s 26ms/step - loss: 5.3620e-04 - val_loss: 8.1416e-06\n",
            "Epoch 46/100\n",
            "20/20 [==============================] - 1s 50ms/step - loss: 5.0449e-04 - val_loss: 1.1458e-05\n",
            "Epoch 47/100\n",
            "20/20 [==============================] - 1s 55ms/step - loss: 4.9570e-04 - val_loss: 9.2845e-06\n",
            "Epoch 48/100\n",
            "20/20 [==============================] - 1s 57ms/step - loss: 5.8154e-04 - val_loss: 1.9248e-05\n",
            "Epoch 49/100\n",
            "20/20 [==============================] - 1s 45ms/step - loss: 6.1335e-04 - val_loss: 5.9238e-06\n",
            "Epoch 50/100\n",
            "20/20 [==============================] - 1s 40ms/step - loss: 5.1407e-04 - val_loss: 1.0210e-05\n",
            "Epoch 51/100\n",
            "20/20 [==============================] - 1s 58ms/step - loss: 5.1081e-04 - val_loss: 6.8430e-06\n",
            "Epoch 52/100\n",
            "20/20 [==============================] - 1s 58ms/step - loss: 4.8637e-04 - val_loss: 6.5251e-06\n",
            "Epoch 53/100\n",
            "20/20 [==============================] - 1s 26ms/step - loss: 5.1033e-04 - val_loss: 1.9923e-05\n",
            "Epoch 54/100\n",
            "20/20 [==============================] - 1s 26ms/step - loss: 4.9544e-04 - val_loss: 1.3188e-05\n",
            "Epoch 55/100\n",
            "20/20 [==============================] - 1s 25ms/step - loss: 4.7894e-04 - val_loss: 1.3543e-05\n",
            "Epoch 56/100\n",
            "20/20 [==============================] - 1s 26ms/step - loss: 4.6773e-04 - val_loss: 2.3954e-05\n",
            "Epoch 57/100\n",
            "20/20 [==============================] - 1s 25ms/step - loss: 5.0251e-04 - val_loss: 8.9674e-06\n",
            "Epoch 58/100\n",
            "20/20 [==============================] - 1s 25ms/step - loss: 4.8091e-04 - val_loss: 7.8777e-06\n",
            "Epoch 59/100\n",
            "20/20 [==============================] - 0s 22ms/step - loss: 4.5849e-04 - val_loss: 7.8454e-06\n",
            "Epoch 60/100\n",
            "20/20 [==============================] - 0s 23ms/step - loss: 5.1761e-04 - val_loss: 1.5514e-05\n",
            "Epoch 61/100\n",
            "20/20 [==============================] - 0s 24ms/step - loss: 4.6651e-04 - val_loss: 1.1804e-05\n",
            "Epoch 62/100\n",
            "20/20 [==============================] - 0s 24ms/step - loss: 4.6778e-04 - val_loss: 5.2477e-06\n",
            "Epoch 63/100\n",
            "20/20 [==============================] - 1s 27ms/step - loss: 4.6409e-04 - val_loss: 8.8796e-06\n",
            "Epoch 64/100\n",
            "20/20 [==============================] - 0s 24ms/step - loss: 4.7062e-04 - val_loss: 1.3750e-05\n",
            "Epoch 65/100\n",
            "20/20 [==============================] - 0s 23ms/step - loss: 4.6864e-04 - val_loss: 9.4526e-06\n",
            "Epoch 66/100\n",
            "20/20 [==============================] - 0s 23ms/step - loss: 4.5876e-04 - val_loss: 6.7866e-06\n",
            "Epoch 67/100\n",
            "20/20 [==============================] - 0s 24ms/step - loss: 4.7388e-04 - val_loss: 1.3019e-05\n",
            "Epoch 68/100\n",
            "20/20 [==============================] - 0s 23ms/step - loss: 4.5050e-04 - val_loss: 5.0285e-06\n",
            "Epoch 69/100\n",
            "20/20 [==============================] - 0s 23ms/step - loss: 4.6412e-04 - val_loss: 1.7100e-05\n",
            "Epoch 70/100\n",
            "20/20 [==============================] - 0s 22ms/step - loss: 4.7411e-04 - val_loss: 5.6318e-06\n",
            "Epoch 71/100\n",
            "20/20 [==============================] - 1s 32ms/step - loss: 4.5154e-04 - val_loss: 1.3220e-05\n",
            "Epoch 72/100\n",
            "20/20 [==============================] - 1s 41ms/step - loss: 4.8274e-04 - val_loss: 4.8501e-06\n",
            "Epoch 73/100\n",
            "20/20 [==============================] - 1s 45ms/step - loss: 4.5480e-04 - val_loss: 1.2678e-05\n",
            "Epoch 74/100\n",
            "20/20 [==============================] - 1s 46ms/step - loss: 4.9507e-04 - val_loss: 4.9169e-06\n",
            "Epoch 75/100\n",
            "20/20 [==============================] - 1s 39ms/step - loss: 4.4963e-04 - val_loss: 5.7097e-06\n",
            "Epoch 76/100\n",
            "20/20 [==============================] - 0s 25ms/step - loss: 4.8519e-04 - val_loss: 4.8821e-06\n",
            "Epoch 77/100\n",
            "20/20 [==============================] - 0s 23ms/step - loss: 4.4951e-04 - val_loss: 5.8225e-06\n",
            "Epoch 78/100\n",
            "20/20 [==============================] - 0s 25ms/step - loss: 4.7620e-04 - val_loss: 5.2732e-06\n",
            "Epoch 79/100\n",
            "20/20 [==============================] - 0s 22ms/step - loss: 4.3548e-04 - val_loss: 5.9830e-06\n",
            "Epoch 80/100\n",
            "20/20 [==============================] - 1s 27ms/step - loss: 4.4946e-04 - val_loss: 1.5019e-05\n",
            "Epoch 81/100\n",
            "20/20 [==============================] - 0s 22ms/step - loss: 4.5646e-04 - val_loss: 5.4511e-06\n",
            "Epoch 82/100\n",
            "20/20 [==============================] - 1s 27ms/step - loss: 4.4185e-04 - val_loss: 5.6278e-06\n",
            "Epoch 83/100\n",
            "20/20 [==============================] - 0s 24ms/step - loss: 4.8573e-04 - val_loss: 5.4597e-06\n",
            "Epoch 84/100\n",
            "20/20 [==============================] - 1s 26ms/step - loss: 4.4443e-04 - val_loss: 6.1073e-06\n",
            "Epoch 85/100\n",
            "20/20 [==============================] - 0s 22ms/step - loss: 4.5143e-04 - val_loss: 4.7175e-06\n",
            "Epoch 86/100\n",
            "20/20 [==============================] - 0s 25ms/step - loss: 4.3546e-04 - val_loss: 6.6190e-06\n",
            "Epoch 87/100\n",
            "20/20 [==============================] - 0s 24ms/step - loss: 4.4494e-04 - val_loss: 2.4764e-05\n",
            "Epoch 88/100\n",
            "20/20 [==============================] - 0s 25ms/step - loss: 5.3050e-04 - val_loss: 5.4090e-06\n",
            "Epoch 89/100\n",
            "20/20 [==============================] - 1s 25ms/step - loss: 4.8772e-04 - val_loss: 6.3118e-06\n",
            "Epoch 90/100\n",
            "20/20 [==============================] - 1s 27ms/step - loss: 4.4369e-04 - val_loss: 5.7716e-06\n",
            "Epoch 91/100\n",
            "20/20 [==============================] - 0s 25ms/step - loss: 4.9491e-04 - val_loss: 5.0835e-06\n",
            "Epoch 92/100\n",
            "20/20 [==============================] - 1s 26ms/step - loss: 4.4046e-04 - val_loss: 4.9010e-06\n",
            "Epoch 93/100\n",
            "20/20 [==============================] - 0s 24ms/step - loss: 4.4610e-04 - val_loss: 4.9711e-06\n",
            "Epoch 94/100\n",
            "20/20 [==============================] - 0s 24ms/step - loss: 4.3022e-04 - val_loss: 8.2092e-06\n",
            "Epoch 95/100\n",
            "20/20 [==============================] - 1s 30ms/step - loss: 4.8164e-04 - val_loss: 1.2090e-05\n",
            "Epoch 96/100\n",
            "20/20 [==============================] - 1s 47ms/step - loss: 5.1123e-04 - val_loss: 9.5593e-06\n",
            "Epoch 97/100\n",
            "20/20 [==============================] - 1s 44ms/step - loss: 4.6808e-04 - val_loss: 1.8880e-05\n",
            "Epoch 98/100\n",
            "20/20 [==============================] - 1s 46ms/step - loss: 4.7627e-04 - val_loss: 1.2089e-05\n",
            "Epoch 99/100\n",
            "20/20 [==============================] - 1s 44ms/step - loss: 4.4958e-04 - val_loss: 4.8510e-06\n",
            "Epoch 100/100\n",
            "20/20 [==============================] - 0s 23ms/step - loss: 4.4064e-04 - val_loss: 5.2459e-06\n"
          ]
        },
        {
          "output_type": "execute_result",
          "data": {
            "text/plain": [
              "<keras.src.callbacks.History at 0x7efde421e1d0>"
            ]
          },
          "metadata": {},
          "execution_count": 62
        }
      ]
    },
    {
      "cell_type": "code",
      "source": [
        "# 10. Dự báo dữ liệu test\n",
        "train_predict = model.predict(X_train)\n",
        "y_pred = model.predict(X_test)"
      ],
      "metadata": {
        "colab": {
          "base_uri": "https://localhost:8080/"
        },
        "id": "TDEczvhphRd-",
        "outputId": "0ffb6afe-cad7-41c0-f999-c8a2626bdd38"
      },
      "execution_count": null,
      "outputs": [
        {
          "output_type": "stream",
          "name": "stdout",
          "text": [
            "39/39 [==============================] - 1s 13ms/step\n",
            "15/15 [==============================] - 0s 7ms/step\n"
          ]
        }
      ]
    },
    {
      "cell_type": "code",
      "source": [
        "# 11. Chuẩn hóa dữ liệu y_pred\n",
        "train_predict = scaler.inverse_transform(train_predict)\n",
        "y_pred = scaler.inverse_transform(y_pred)"
      ],
      "metadata": {
        "id": "6R19JXz0hUtx"
      },
      "execution_count": null,
      "outputs": []
    },
    {
      "cell_type": "code",
      "source": [
        "# 12. Đánh giá độ chính xác thuật toán bằng RMSE\n",
        "test_rmse = np.sqrt(np.mean((y_pred - scaler.inverse_transform(ytest.reshape(-1, 1)))**2))\n",
        "print('Testing RMSE:', test_rmse)"
      ],
      "metadata": {
        "colab": {
          "base_uri": "https://localhost:8080/"
        },
        "id": "ZKUAOQJPhYYF",
        "outputId": "d73c91bb-e9aa-4f9f-b20e-9a09b94360ce"
      },
      "execution_count": null,
      "outputs": [
        {
          "output_type": "stream",
          "name": "stdout",
          "text": [
            "Testing RMSE: 10.765937056387944\n"
          ]
        }
      ]
    },
    {
      "cell_type": "code",
      "source": [
        "# 13. Dự báo 30 ngày tiếp theo\n",
        "x_input = test_data[-100:].reshape(1, -1)\n",
        "x_input.shape\n",
        "\n",
        "temp_input = list(x_input)\n",
        "temp_input = temp_input[0].tolist()\n",
        "\n",
        "lst_output = []\n",
        "n_steps = 100\n",
        "i = 0\n",
        "while i < 30:\n",
        "    if len(temp_input) > 100:\n",
        "        x_input = np.array(temp_input[1:])\n",
        "        x_input = x_input.reshape(1, -1)\n",
        "        x_input = x_input.reshape((1, n_steps, 1))\n",
        "        yhat = model.predict(x_input, verbose=0)\n",
        "        temp_input.extend(yhat[0].tolist())\n",
        "        temp_input = temp_input[1:]\n",
        "        lst_output.extend(yhat.tolist())\n",
        "        i += 1\n",
        "    else:\n",
        "        x_input = x_input.reshape((1, n_steps, 1))\n",
        "        yhat = model.predict(x_input, verbose=0)\n",
        "        temp_input.extend(yhat[0].tolist())\n",
        "        lst_output.extend(yhat.tolist())\n",
        "        i += 1"
      ],
      "metadata": {
        "id": "ceETKf--hb1t"
      },
      "execution_count": null,
      "outputs": []
    },
    {
      "cell_type": "code",
      "source": [
        "# 14. Vẽ hình\n",
        "plt.plot(scaler.inverse_transform(train_data), label='Train Data')\n",
        "plt.plot(range(train_size, train_size + len(test_data)), scaler.inverse_transform(test_data), label='Test Data')\n",
        "plt.plot(range(train_size + 100, train_size + 100 + len(y_pred)), y_pred, label='Predicted Test Data')\n",
        "plt.plot(range(len(df1), len(df1) + 30), scaler.inverse_transform(lst_output), label='Predicted Next 30 Days')\n",
        "\n",
        "plt.legend()\n",
        "plt.show()"
      ],
      "metadata": {
        "colab": {
          "base_uri": "https://localhost:8080/",
          "height": 432
        },
        "id": "-YRE06jgheHr",
        "outputId": "0aa17ed3-9916-41db-9052-73b6e0c140e2"
      },
      "execution_count": null,
      "outputs": [
        {
          "output_type": "display_data",
          "data": {
            "text/plain": [
              "<Figure size 640x480 with 1 Axes>"
            ],
            "image/png": "[encoded data removed]"
          },
          "metadata": {}
        }
      ]
    },
    {
      "cell_type": "code",
      "source": [
        "# 13. Dự báo 60 ngày tiếp theo\n",
        "x_input = test_data[-100:].reshape(1, -1)\n",
        "x_input.shape\n",
        "\n",
        "temp_input = list(x_input)\n",
        "temp_input = temp_input[0].tolist()\n",
        "\n",
        "lst_output = []\n",
        "n_steps = 100\n",
        "i = 0\n",
        "while i < 60:  # Sửa số lần lặp từ 30 thành 60\n",
        "    if len(temp_input) > 100:\n",
        "        x_input = np.array(temp_input[1:])\n",
        "        x_input = x_input.reshape(1, -1)\n",
        "        x_input = x_input.reshape((1, n_steps, 1))\n",
        "        yhat = model.predict(x_input, verbose=0)\n",
        "        temp_input.extend(yhat[0].tolist())\n",
        "        temp_input = temp_input[1:]\n",
        "        lst_output.extend(yhat.tolist())\n",
        "        i += 1\n",
        "    else:\n",
        "        x_input = x_input.reshape((1, n_steps, 1))\n",
        "        yhat = model.predict(x_input, verbose=0)\n",
        "        temp_input.extend(yhat[0].tolist())\n",
        "        lst_output.extend(yhat.tolist())\n",
        "        i += 1\n",
        "\n",
        "# 14. Vẽ hình\n",
        "plt.plot(scaler.inverse_transform(train_data), label='Train Data')\n",
        "plt.plot(range(train_size, train_size + len(test_data)), scaler.inverse_transform(test_data), label='Test Data')\n",
        "plt.plot(range(train_size + 100, train_size + 100 + len(y_pred)), y_pred, label='Predicted Test Data')\n",
        "plt.plot(range(len(df1), len(df1) + 60), scaler.inverse_transform(lst_output), label='Predicted Next 60 Days')  # Sửa số ngày từ 30 thành 60\n",
        "\n",
        "plt.legend()\n",
        "plt.show()"
      ],
      "metadata": {
        "colab": {
          "base_uri": "https://localhost:8080/",
          "height": 432
        },
        "id": "Dsi4NRFshe-0",
        "outputId": "65b925df-fa56-4a38-e738-9fbc30a80125"
      },
      "execution_count": null,
      "outputs": [
        {
          "output_type": "display_data",
          "data": {
            "text/plain": [
              "<Figure size 640x480 with 1 Axes>"
            ],
            "image/png": "[encoded data removed]"
          },
          "metadata": {}
        }
      ]
    },
    {
      "cell_type": "code",
      "source": [
        "# 13. Dự báo 90 ngày tiếp theo\n",
        "x_input = test_data[-100:].reshape(1, -1)\n",
        "x_input.shape\n",
        "\n",
        "temp_input = list(x_input)\n",
        "temp_input = temp_input[0].tolist()\n",
        "\n",
        "lst_output = []\n",
        "n_steps = 100\n",
        "i = 0\n",
        "while i < 90:  # Sửa số lần lặp từ 30 thành 90\n",
        "    if len(temp_input) > 100:\n",
        "        x_input = np.array(temp_input[1:])\n",
        "        x_input = x_input.reshape(1, -1)\n",
        "        x_input = x_input.reshape((1, n_steps, 1))\n",
        "        yhat = model.predict(x_input, verbose=0)\n",
        "        temp_input.extend(yhat[0].tolist())\n",
        "        temp_input = temp_input[1:]\n",
        "        lst_output.extend(yhat.tolist())\n",
        "        i += 1\n",
        "    else:\n",
        "        x_input = x_input.reshape((1, n_steps, 1))\n",
        "        yhat = model.predict(x_input, verbose=0)\n",
        "        temp_input.extend(yhat[0].tolist())\n",
        "        lst_output.extend(yhat.tolist())\n",
        "        i += 1\n",
        "\n",
        "# 14. Vẽ hình\n",
        "plt.plot(scaler.inverse_transform(train_data), label='Train Data')\n",
        "plt.plot(range(train_size, train_size + len(test_data)), scaler.inverse_transform(test_data), label='Test Data')\n",
        "plt.plot(range(train_size + 100, train_size + 100 + len(y_pred)), y_pred, label='Predicted Test Data')\n",
        "plt.plot(range(len(df1), len(df1) + 90), scaler.inverse_transform(lst_output), label='Predicted Next 90 Days')  # Sửa số ngày từ 30 thành 90\n",
        "\n",
        "plt.legend()\n",
        "plt.show()"
      ],
      "metadata": {
        "colab": {
          "base_uri": "https://localhost:8080/",
          "height": 432
        },
        "id": "sceOlM2jhl7U",
        "outputId": "fa77326d-cd99-45f7-e512-e8b2ffd98641"
      },
      "execution_count": null,
      "outputs": [
        {
          "output_type": "display_data",
          "data": {
            "text/plain": [
              "<Figure size 640x480 with 1 Axes>"
            ],
            "image/png": "[encoded data removed]"
          },
          "metadata": {}
        }
      ]
    },
    {
      "cell_type": "code",
      "source": [],
      "metadata": {
        "id": "H1LvLkIvh8Nh"
      },
      "execution_count": null,
      "outputs": []
    },
    {
      "cell_type": "markdown",
      "source": [
        "###LSTM"
      ],
      "metadata": {
        "id": "AkV9236-h9E0"
      }
    },
    {
      "cell_type": "code",
      "source": [
        "scaler=MinMaxScaler(feature_range=(0,1))\n",
        "df1=scaler.fit_transform(np.array(df1).reshape(-1,1))"
      ],
      "metadata": {
        "id": "9DRcQr04iAFa"
      },
      "execution_count": null,
      "outputs": []
    },
    {
      "cell_type": "code",
      "source": [
        "# 4. Chia train test\n",
        "train_size = int(0.7 * len(df1))\n",
        "test_size = len(df1) - train_size\n",
        "\n",
        "# Lấy dữ liệu train và test\n",
        "train_data = df1[:train_size]\n",
        "test_data = df1[train_size:]\n",
        "\n",
        "print(\"Train shape:\", train_data.shape)\n",
        "print(\"Test shape:\", test_data.shape)"
      ],
      "metadata": {
        "colab": {
          "base_uri": "https://localhost:8080/"
        },
        "id": "1QS07zNNiHpg",
        "outputId": "daf6021e-1b5e-48e1-d6e4-474e3bac67d9"
      },
      "execution_count": null,
      "outputs": [
        {
          "output_type": "stream",
          "name": "stdout",
          "text": [
            "Train shape: (1344, 1)\n",
            "Test shape: (576, 1)\n"
          ]
        }
      ]
    },
    {
      "cell_type": "code",
      "source": [
        "# 5. Hàm Create Dataset\n",
        "def create_dataset(dataset, time_step=1):\n",
        "    dataX, dataY = [], []\n",
        "    for i in range(len(dataset) - time_step - 1):\n",
        "        a = dataset[i:(i + time_step), 0]\n",
        "        dataX.append(a)\n",
        "        dataY.append(dataset[i + time_step, 0])\n",
        "    return np.array(dataX), np.array(dataY)"
      ],
      "metadata": {
        "id": "DvyPtO3jiIvS"
      },
      "execution_count": null,
      "outputs": []
    },
    {
      "cell_type": "code",
      "source": [
        "# 6. Reshape into X=t,t+1,t+2..t+99 and Y=t+100\n",
        "time_step = 100\n",
        "X_train, y_train = create_dataset(train_data, time_step)\n",
        "X_test, y_test = create_dataset(test_data, time_step)"
      ],
      "metadata": {
        "id": "OKMVdlsSiLqE"
      },
      "execution_count": null,
      "outputs": []
    },
    {
      "cell_type": "code",
      "source": [
        "# 7. Reshape input to be [samples, time steps, features] which is required for LSTM\n",
        "X_train = X_train.reshape(X_train.shape[0], X_train.shape[1], 1)\n",
        "X_test = X_test.reshape(X_test.shape[0], X_test.shape[1], 1)"
      ],
      "metadata": {
        "id": "AjjuiajuiOJX"
      },
      "execution_count": null,
      "outputs": []
    },
    {
      "cell_type": "code",
      "source": [
        "# 8. Define LSTM Model\n",
        "model = Sequential()\n",
        "model.add(LSTM(50, return_sequences=True, input_shape=(100, 1)))\n",
        "model.add(LSTM(50, return_sequences=True))\n",
        "model.add(LSTM(50))\n",
        "model.add(Dense(1))\n",
        "model.compile(loss='mean_squared_error', optimizer='adam')"
      ],
      "metadata": {
        "id": "qofWSNveiQUQ"
      },
      "execution_count": null,
      "outputs": []
    },
    {
      "cell_type": "code",
      "source": [
        "# 9. Fit mô hình với dữ liệu train\n",
        "model.fit(X_train, y_train, validation_data=(X_test, y_test), epochs=100, batch_size=64, verbose=1)"
      ],
      "metadata": {
        "colab": {
          "base_uri": "https://localhost:8080/"
        },
        "id": "gwwtlJCMiTg-",
        "outputId": "8e3f34f4-a3b6-4d33-ac50-fd765903caad"
      },
      "execution_count": null,
      "outputs": [
        {
          "output_type": "stream",
          "name": "stdout",
          "text": [
            "Epoch 1/100\n",
            "20/20 [==============================] - 12s 305ms/step - loss: 0.0320 - val_loss: 0.0116\n",
            "Epoch 2/100\n",
            "20/20 [==============================] - 4s 183ms/step - loss: 0.0070 - val_loss: 0.0023\n",
            "Epoch 3/100\n",
            "20/20 [==============================] - 6s 324ms/step - loss: 0.0041 - val_loss: 7.1428e-05\n",
            "Epoch 4/100\n",
            "20/20 [==============================] - 4s 190ms/step - loss: 0.0037 - val_loss: 1.7337e-04\n",
            "Epoch 5/100\n",
            "20/20 [==============================] - 4s 185ms/step - loss: 0.0034 - val_loss: 3.2179e-04\n",
            "Epoch 6/100\n",
            "20/20 [==============================] - 4s 210ms/step - loss: 0.0031 - val_loss: 1.6808e-04\n",
            "Epoch 7/100\n",
            "20/20 [==============================] - 5s 237ms/step - loss: 0.0031 - val_loss: 1.3069e-04\n",
            "Epoch 8/100\n",
            "20/20 [==============================] - 4s 197ms/step - loss: 0.0028 - val_loss: 8.2732e-05\n",
            "Epoch 9/100\n",
            "20/20 [==============================] - 4s 189ms/step - loss: 0.0027 - val_loss: 4.3227e-05\n",
            "Epoch 10/100\n",
            "20/20 [==============================] - 7s 367ms/step - loss: 0.0025 - val_loss: 2.9129e-05\n",
            "Epoch 11/100\n",
            "20/20 [==============================] - 4s 195ms/step - loss: 0.0023 - val_loss: 4.9919e-05\n",
            "Epoch 12/100\n",
            "20/20 [==============================] - 4s 201ms/step - loss: 0.0024 - val_loss: 3.4357e-05\n",
            "Epoch 13/100\n",
            "20/20 [==============================] - 5s 272ms/step - loss: 0.0027 - val_loss: 2.8175e-05\n",
            "Epoch 14/100\n",
            "20/20 [==============================] - 4s 183ms/step - loss: 0.0023 - val_loss: 4.4696e-05\n",
            "Epoch 15/100\n",
            "20/20 [==============================] - 4s 211ms/step - loss: 0.0021 - val_loss: 3.7445e-05\n",
            "Epoch 16/100\n",
            "20/20 [==============================] - 7s 375ms/step - loss: 0.0020 - val_loss: 4.6738e-05\n",
            "Epoch 17/100\n",
            "20/20 [==============================] - 4s 188ms/step - loss: 0.0019 - val_loss: 5.9219e-05\n",
            "Epoch 18/100\n",
            "20/20 [==============================] - 4s 188ms/step - loss: 0.0018 - val_loss: 7.1157e-05\n",
            "Epoch 19/100\n",
            "20/20 [==============================] - 6s 327ms/step - loss: 0.0017 - val_loss: 3.4704e-05\n",
            "Epoch 20/100\n",
            "20/20 [==============================] - 4s 216ms/step - loss: 0.0017 - val_loss: 3.5786e-05\n",
            "Epoch 21/100\n",
            "20/20 [==============================] - 6s 304ms/step - loss: 0.0016 - val_loss: 2.7945e-05\n",
            "Epoch 22/100\n",
            "20/20 [==============================] - 8s 380ms/step - loss: 0.0015 - val_loss: 3.7665e-05\n",
            "Epoch 23/100\n",
            "20/20 [==============================] - 10s 507ms/step - loss: 0.0016 - val_loss: 4.5090e-05\n",
            "Epoch 24/100\n",
            "20/20 [==============================] - 7s 351ms/step - loss: 0.0015 - val_loss: 3.7676e-05\n",
            "Epoch 25/100\n",
            "20/20 [==============================] - 10s 515ms/step - loss: 0.0014 - val_loss: 2.1730e-05\n",
            "Epoch 26/100\n",
            "20/20 [==============================] - 7s 358ms/step - loss: 0.0013 - val_loss: 4.0598e-05\n",
            "Epoch 27/100\n",
            "20/20 [==============================] - 5s 269ms/step - loss: 0.0012 - val_loss: 2.2611e-05\n",
            "Epoch 28/100\n",
            "20/20 [==============================] - 5s 268ms/step - loss: 0.0012 - val_loss: 4.9911e-05\n",
            "Epoch 29/100\n",
            "20/20 [==============================] - 8s 418ms/step - loss: 0.0012 - val_loss: 3.5754e-05\n",
            "Epoch 30/100\n",
            "20/20 [==============================] - 4s 190ms/step - loss: 0.0012 - val_loss: 3.2761e-05\n",
            "Epoch 31/100\n",
            "20/20 [==============================] - 4s 189ms/step - loss: 0.0011 - val_loss: 2.0108e-05\n",
            "Epoch 32/100\n",
            "20/20 [==============================] - 4s 227ms/step - loss: 0.0013 - val_loss: 2.0654e-05\n",
            "Epoch 33/100\n",
            "20/20 [==============================] - 5s 233ms/step - loss: 0.0016 - val_loss: 7.8670e-05\n",
            "Epoch 34/100\n",
            "20/20 [==============================] - 4s 198ms/step - loss: 0.0010 - val_loss: 3.1329e-05\n",
            "Epoch 35/100\n",
            "20/20 [==============================] - 4s 200ms/step - loss: 9.6615e-04 - val_loss: 5.5369e-05\n",
            "Epoch 36/100\n",
            "20/20 [==============================] - 5s 274ms/step - loss: 0.0011 - val_loss: 2.0110e-05\n",
            "Epoch 37/100\n",
            "20/20 [==============================] - 4s 189ms/step - loss: 0.0010 - val_loss: 3.3258e-05\n",
            "Epoch 38/100\n",
            "20/20 [==============================] - 4s 191ms/step - loss: 9.9153e-04 - val_loss: 3.5834e-05\n",
            "Epoch 39/100\n",
            "20/20 [==============================] - 5s 273ms/step - loss: 9.2317e-04 - val_loss: 1.6600e-05\n",
            "Epoch 40/100\n",
            "20/20 [==============================] - 4s 186ms/step - loss: 8.8587e-04 - val_loss: 3.0730e-05\n",
            "Epoch 41/100\n",
            "20/20 [==============================] - 4s 189ms/step - loss: 8.5279e-04 - val_loss: 1.9439e-05\n",
            "Epoch 42/100\n",
            "20/20 [==============================] - 4s 226ms/step - loss: 9.1370e-04 - val_loss: 3.7690e-05\n",
            "Epoch 43/100\n",
            "20/20 [==============================] - 5s 232ms/step - loss: 8.1327e-04 - val_loss: 2.9268e-05\n",
            "Epoch 44/100\n",
            "20/20 [==============================] - 4s 188ms/step - loss: 7.8059e-04 - val_loss: 5.3778e-05\n",
            "Epoch 45/100\n",
            "20/20 [==============================] - 4s 199ms/step - loss: 8.6328e-04 - val_loss: 3.0102e-05\n",
            "Epoch 46/100\n",
            "20/20 [==============================] - 5s 263ms/step - loss: 8.8667e-04 - val_loss: 1.4905e-05\n",
            "Epoch 47/100\n",
            "20/20 [==============================] - 4s 190ms/step - loss: 8.4721e-04 - val_loss: 3.6674e-05\n",
            "Epoch 48/100\n",
            "20/20 [==============================] - 4s 192ms/step - loss: 7.4263e-04 - val_loss: 4.3979e-05\n",
            "Epoch 49/100\n",
            "20/20 [==============================] - 5s 275ms/step - loss: 7.2971e-04 - val_loss: 2.8348e-05\n",
            "Epoch 50/100\n",
            "20/20 [==============================] - 4s 190ms/step - loss: 7.2313e-04 - val_loss: 1.7919e-05\n",
            "Epoch 51/100\n",
            "20/20 [==============================] - 4s 187ms/step - loss: 7.0693e-04 - val_loss: 2.1576e-05\n",
            "Epoch 52/100\n",
            "20/20 [==============================] - 6s 321ms/step - loss: 7.0303e-04 - val_loss: 2.5881e-05\n",
            "Epoch 53/100\n",
            "20/20 [==============================] - 5s 239ms/step - loss: 9.1368e-04 - val_loss: 1.5775e-05\n",
            "Epoch 54/100\n",
            "20/20 [==============================] - 4s 188ms/step - loss: 7.2532e-04 - val_loss: 4.7594e-05\n",
            "Epoch 55/100\n",
            "20/20 [==============================] - 4s 190ms/step - loss: 6.5801e-04 - val_loss: 1.3344e-05\n",
            "Epoch 56/100\n",
            "20/20 [==============================] - 5s 271ms/step - loss: 7.2315e-04 - val_loss: 1.9952e-05\n",
            "Epoch 57/100\n",
            "20/20 [==============================] - 4s 190ms/step - loss: 6.6879e-04 - val_loss: 3.4291e-05\n",
            "Epoch 58/100\n",
            "20/20 [==============================] - 4s 194ms/step - loss: 7.6881e-04 - val_loss: 4.3297e-05\n",
            "Epoch 59/100\n",
            "20/20 [==============================] - 5s 277ms/step - loss: 6.3910e-04 - val_loss: 2.6099e-05\n",
            "Epoch 60/100\n",
            "20/20 [==============================] - 4s 197ms/step - loss: 7.6715e-04 - val_loss: 2.1219e-05\n",
            "Epoch 61/100\n",
            "20/20 [==============================] - 4s 193ms/step - loss: 6.0161e-04 - val_loss: 4.6078e-05\n",
            "Epoch 62/100\n",
            "20/20 [==============================] - 5s 254ms/step - loss: 6.5347e-04 - val_loss: 2.8446e-05\n",
            "Epoch 63/100\n",
            "20/20 [==============================] - 4s 207ms/step - loss: 6.2629e-04 - val_loss: 1.2510e-05\n",
            "Epoch 64/100\n",
            "20/20 [==============================] - 4s 191ms/step - loss: 6.0450e-04 - val_loss: 2.9530e-05\n",
            "Epoch 65/100\n",
            "20/20 [==============================] - 5s 254ms/step - loss: 6.1974e-04 - val_loss: 2.0490e-05\n",
            "Epoch 66/100\n",
            "20/20 [==============================] - 5s 229ms/step - loss: 5.8135e-04 - val_loss: 1.1731e-05\n",
            "Epoch 67/100\n",
            "20/20 [==============================] - 4s 200ms/step - loss: 5.7154e-04 - val_loss: 1.1719e-05\n",
            "Epoch 68/100\n",
            "20/20 [==============================] - 5s 237ms/step - loss: 7.4522e-04 - val_loss: 2.1208e-05\n",
            "Epoch 69/100\n",
            "20/20 [==============================] - 5s 233ms/step - loss: 7.1132e-04 - val_loss: 3.0012e-05\n",
            "Epoch 70/100\n",
            "20/20 [==============================] - 4s 193ms/step - loss: 6.1299e-04 - val_loss: 3.1551e-05\n",
            "Epoch 71/100\n",
            "20/20 [==============================] - 4s 201ms/step - loss: 6.2418e-04 - val_loss: 1.5386e-05\n",
            "Epoch 72/100\n",
            "20/20 [==============================] - 6s 276ms/step - loss: 5.9832e-04 - val_loss: 1.1658e-05\n",
            "Epoch 73/100\n",
            "20/20 [==============================] - 4s 187ms/step - loss: 5.8739e-04 - val_loss: 2.9981e-05\n",
            "Epoch 74/100\n",
            "20/20 [==============================] - 4s 206ms/step - loss: 5.7989e-04 - val_loss: 1.2831e-05\n",
            "Epoch 75/100\n",
            "20/20 [==============================] - 7s 357ms/step - loss: 5.7451e-04 - val_loss: 1.6923e-05\n",
            "Epoch 76/100\n",
            "20/20 [==============================] - 4s 189ms/step - loss: 5.6618e-04 - val_loss: 1.6979e-05\n",
            "Epoch 77/100\n",
            "20/20 [==============================] - 4s 198ms/step - loss: 5.5293e-04 - val_loss: 3.3894e-05\n",
            "Epoch 78/100\n",
            "20/20 [==============================] - 5s 260ms/step - loss: 5.4505e-04 - val_loss: 5.4919e-05\n",
            "Epoch 79/100\n",
            "20/20 [==============================] - 4s 192ms/step - loss: 5.5447e-04 - val_loss: 1.0559e-05\n",
            "Epoch 80/100\n",
            "20/20 [==============================] - 4s 188ms/step - loss: 6.0261e-04 - val_loss: 2.0915e-05\n",
            "Epoch 81/100\n",
            "20/20 [==============================] - 5s 265ms/step - loss: 5.8982e-04 - val_loss: 4.2280e-05\n",
            "Epoch 82/100\n",
            "20/20 [==============================] - 4s 188ms/step - loss: 5.4569e-04 - val_loss: 1.6658e-05\n",
            "Epoch 83/100\n",
            "20/20 [==============================] - 4s 189ms/step - loss: 5.4392e-04 - val_loss: 1.0654e-05\n",
            "Epoch 84/100\n",
            "20/20 [==============================] - 5s 263ms/step - loss: 5.2257e-04 - val_loss: 4.1596e-05\n",
            "Epoch 85/100\n",
            "20/20 [==============================] - 4s 196ms/step - loss: 5.0647e-04 - val_loss: 3.2795e-05\n",
            "Epoch 86/100\n",
            "20/20 [==============================] - 4s 191ms/step - loss: 6.9473e-04 - val_loss: 2.5678e-05\n",
            "Epoch 87/100\n",
            "20/20 [==============================] - 4s 219ms/step - loss: 5.6615e-04 - val_loss: 3.9952e-05\n",
            "Epoch 88/100\n",
            "20/20 [==============================] - 5s 233ms/step - loss: 5.8424e-04 - val_loss: 1.0458e-05\n",
            "Epoch 89/100\n",
            "20/20 [==============================] - 4s 205ms/step - loss: 5.2314e-04 - val_loss: 1.1595e-05\n",
            "Epoch 90/100\n",
            "20/20 [==============================] - 4s 202ms/step - loss: 5.1891e-04 - val_loss: 1.0740e-05\n",
            "Epoch 91/100\n",
            "20/20 [==============================] - 5s 246ms/step - loss: 6.1330e-04 - val_loss: 1.0199e-05\n",
            "Epoch 92/100\n",
            "20/20 [==============================] - 4s 185ms/step - loss: 5.2652e-04 - val_loss: 4.2694e-05\n",
            "Epoch 93/100\n",
            "20/20 [==============================] - 4s 187ms/step - loss: 5.9123e-04 - val_loss: 8.7871e-05\n",
            "Epoch 94/100\n",
            "20/20 [==============================] - 5s 275ms/step - loss: 6.5773e-04 - val_loss: 1.1627e-05\n",
            "Epoch 95/100\n",
            "20/20 [==============================] - 4s 194ms/step - loss: 5.1208e-04 - val_loss: 1.2049e-05\n",
            "Epoch 96/100\n",
            "20/20 [==============================] - 4s 194ms/step - loss: 5.0305e-04 - val_loss: 1.7649e-05\n",
            "Epoch 97/100\n",
            "20/20 [==============================] - 6s 310ms/step - loss: 5.1621e-04 - val_loss: 4.5333e-05\n",
            "Epoch 98/100\n",
            "20/20 [==============================] - 4s 196ms/step - loss: 5.6800e-04 - val_loss: 1.0245e-05\n",
            "Epoch 99/100\n",
            "20/20 [==============================] - 4s 212ms/step - loss: 5.4888e-04 - val_loss: 2.6849e-05\n",
            "Epoch 100/100\n",
            "20/20 [==============================] - 7s 342ms/step - loss: 5.3073e-04 - val_loss: 9.6473e-06\n"
          ]
        },
        {
          "output_type": "execute_result",
          "data": {
            "text/plain": [
              "<keras.src.callbacks.History at 0x7efde0e41390>"
            ]
          },
          "metadata": {},
          "execution_count": 76
        }
      ]
    },
    {
      "cell_type": "code",
      "source": [
        "# 10. Dự báo dữ liệu test\n",
        "train_predict = model.predict(X_train)\n",
        "y_pred = model.predict(X_test)"
      ],
      "metadata": {
        "colab": {
          "base_uri": "https://localhost:8080/"
        },
        "id": "zEuD-xCginen",
        "outputId": "b695bfd7-5d6f-47db-f740-ce5bdca5a188"
      },
      "execution_count": null,
      "outputs": [
        {
          "output_type": "stream",
          "name": "stdout",
          "text": [
            "39/39 [==============================] - 3s 41ms/step\n",
            "15/15 [==============================] - 1s 42ms/step\n"
          ]
        }
      ]
    },
    {
      "cell_type": "code",
      "source": [
        "# 11. Chuẩn hóa dữ liệu y_pred\n",
        "train_predict = scaler.inverse_transform(train_predict)\n",
        "y_pred = scaler.inverse_transform(y_pred)"
      ],
      "metadata": {
        "id": "25uXUBiLiuXK"
      },
      "execution_count": null,
      "outputs": []
    },
    {
      "cell_type": "code",
      "source": [
        "# 12. Đánh giá độ chính xác thuật toán bằng RMSE\n",
        "test_rmse = np.sqrt(np.mean((y_pred - scaler.inverse_transform(y_test.reshape(-1, 1)))**2))\n",
        "print('Testing RMSE:', test_rmse)"
      ],
      "metadata": {
        "colab": {
          "base_uri": "https://localhost:8080/"
        },
        "id": "61FGJoc3ivik",
        "outputId": "82173ec2-27de-4909-d1a3-ef2dfb3773b4"
      },
      "execution_count": null,
      "outputs": [
        {
          "output_type": "stream",
          "name": "stdout",
          "text": [
            "Testing RMSE: 0.00310601542669413\n"
          ]
        }
      ]
    },
    {
      "cell_type": "code",
      "source": [
        "# 13. Dự báo 30 ngày tiếp theo\n",
        "n_steps = 100\n",
        "x_input = test_data[-n_steps:].reshape(1, -1)\n",
        "x_input.shape\n",
        "\n",
        "temp_input = list(x_input[0])\n",
        "\n",
        "from numpy import array\n",
        "\n",
        "lst_output = []\n",
        "i = 0\n",
        "while(i < 30):\n",
        "    if(len(temp_input) > 100):\n",
        "        x_input = np.array(temp_input[1:])\n",
        "        x_input = x_input.reshape((1, n_steps, 1))\n",
        "        yhat = model.predict(x_input, verbose=0)\n",
        "        temp_input.extend(yhat[0].tolist())\n",
        "        temp_input = temp_input[1:]\n",
        "        lst_output.extend(yhat.tolist())\n",
        "        i += 1\n",
        "    else:\n",
        "        x_input = x_input.reshape((1, n_steps, 1))\n",
        "        yhat = model.predict(x_input, verbose=0)\n",
        "        temp_input.extend(yhat[0].tolist())\n",
        "        lst_output.extend(yhat.tolist())\n",
        "        i += 1"
      ],
      "metadata": {
        "id": "cuqfyX40izcL"
      },
      "execution_count": null,
      "outputs": []
    },
    {
      "cell_type": "code",
      "source": [
        "# 14. Vẽ hình\n",
        "plt.plot(scaler.inverse_transform(train_data), label='Train Data')\n",
        "plt.plot(range(train_size, train_size + len(test_data)), scaler.inverse_transform(test_data), label='Test Data')\n",
        "plt.plot(range(train_size + time_step, train_size + time_step + len(y_pred)), y_pred, label='Predicted Test Data')\n",
        "plt.plot(range(len(df1), len(df1) + 30), scaler.inverse_transform(lst_output), label='Predicted Next 30 Days')\n",
        "\n",
        "plt.legend()\n",
        "plt.show()"
      ],
      "metadata": {
        "colab": {
          "base_uri": "https://localhost:8080/",
          "height": 430
        },
        "id": "yRDPL-dRi1u4",
        "outputId": "37f13faf-474f-4ec3-ed1e-68216c19962c"
      },
      "execution_count": null,
      "outputs": [
        {
          "output_type": "display_data",
          "data": {
            "text/plain": [
              "<Figure size 640x480 with 1 Axes>"
            ],
            "image/png": "[encoded data removed]"
          },
          "metadata": {}
        }
      ]
    },
    {
      "cell_type": "code",
      "source": [
        "# 13. Dự báo 60 ngày tiếp theo\n",
        "n_steps = 100\n",
        "x_input = test_data[-n_steps:].reshape(1, -1)\n",
        "x_input.shape\n",
        "\n",
        "temp_input = list(x_input[0])\n",
        "\n",
        "from numpy import array\n",
        "\n",
        "lst_output = []\n",
        "i = 0\n",
        "while(i < 60):  # Đổi từ 30 thành 60\n",
        "    if(len(temp_input) > 100):\n",
        "        x_input = np.array(temp_input[1:])\n",
        "        x_input = x_input.reshape((1, n_steps, 1))\n",
        "        yhat = model.predict(x_input, verbose=0)\n",
        "        temp_input.extend(yhat[0].tolist())\n",
        "        temp_input = temp_input[1:]\n",
        "        lst_output.extend(yhat.tolist())\n",
        "        i += 1\n",
        "    else:\n",
        "        x_input = x_input.reshape((1, n_steps, 1))\n",
        "        yhat = model.predict(x_input, verbose=0)\n",
        "        temp_input.extend(yhat[0].tolist())\n",
        "        lst_output.extend(yhat.tolist())\n",
        "        i += 1\n",
        "\n",
        "# 14. Vẽ hình\n",
        "plt.plot(scaler.inverse_transform(train_data), label='Train Data')\n",
        "plt.plot(range(train_size, train_size + len(test_data)), scaler.inverse_transform(test_data), label='Test Data')\n",
        "plt.plot(range(train_size + time_step, train_size + time_step + len(y_pred)), y_pred, label='Predicted Test Data')\n",
        "plt.plot(range(len(df1), len(df1) + 60), scaler.inverse_transform(lst_output), label='Predicted Next 60 Days')\n",
        "\n",
        "plt.legend()\n",
        "plt.show()\n"
      ],
      "metadata": {
        "colab": {
          "base_uri": "https://localhost:8080/",
          "height": 430
        },
        "id": "w-xeySspi4Xx",
        "outputId": "18e4f155-ff0b-4708-df66-bb9939023a7f"
      },
      "execution_count": null,
      "outputs": [
        {
          "output_type": "display_data",
          "data": {
            "text/plain": [
              "<Figure size 640x480 with 1 Axes>"
            ],
            "image/png": "[encoded data removed]"
          },
          "metadata": {}
        }
      ]
    },
    {
      "cell_type": "code",
      "source": [
        "# 13. Dự báo 90 ngày tiếp theo\n",
        "n_steps = 100\n",
        "x_input = test_data[-n_steps:].reshape(1, -1)\n",
        "x_input.shape\n",
        "\n",
        "temp_input = list(x_input[0])\n",
        "\n",
        "from numpy import array\n",
        "\n",
        "lst_output = []\n",
        "i = 0\n",
        "while(i < 90):  # Đổi từ 60 thành 90\n",
        "    if(len(temp_input) > 100):\n",
        "        x_input = np.array(temp_input[1:])\n",
        "        x_input = x_input.reshape((1, n_steps, 1))\n",
        "        yhat = model.predict(x_input, verbose=0)\n",
        "        temp_input.extend(yhat[0].tolist())\n",
        "        temp_input = temp_input[1:]\n",
        "        lst_output.extend(yhat.tolist())\n",
        "        i += 1\n",
        "    else:\n",
        "        x_input = x_input.reshape((1, n_steps, 1))\n",
        "        yhat = model.predict(x_input, verbose=0)\n",
        "        temp_input.extend(yhat[0].tolist())\n",
        "        lst_output.extend(yhat.tolist())\n",
        "        i += 1\n",
        "\n",
        "# 14. Vẽ hình\n",
        "plt.plot(scaler.inverse_transform(train_data), label='Train Data')\n",
        "plt.plot(range(train_size, train_size + len(test_data)), scaler.inverse_transform(test_data), label='Test Data')\n",
        "plt.plot(range(train_size + time_step, train_size + time_step + len(y_pred)), y_pred, label='Predicted Test Data')\n",
        "plt.plot(range(len(df1), len(df1) + 90), scaler.inverse_transform(lst_output), label='Predicted Next 90 Days')\n",
        "\n",
        "plt.legend()\n",
        "plt.show()"
      ],
      "metadata": {
        "colab": {
          "base_uri": "https://localhost:8080/",
          "height": 430
        },
        "id": "KfdE42N-i70Y",
        "outputId": "07004e9f-660b-4242-a3ae-d65588cbf76e"
      },
      "execution_count": null,
      "outputs": [
        {
          "output_type": "display_data",
          "data": {
            "text/plain": [
              "<Figure size 640x480 with 1 Axes>"
            ],
            "image/png": "[encoded data removed]"
          },
          "metadata": {}
        }
      ]
    },
    {
      "cell_type": "markdown",
      "source": [
        "## Linear regression"
      ],
      "metadata": {
        "id": "b2utSPudk82n"
      }
    },
    {
      "cell_type": "code",
      "source": [
        "from sklearn.model_selection import train_test_split\n",
        "x_train, x_test, y_train, y_test = train_test_split(x, y, test_size=0.2, random_state=0)"
      ],
      "metadata": {
        "id": "Ums1BeFCk9im"
      },
      "execution_count": null,
      "outputs": []
    },
    {
      "cell_type": "code",
      "source": [
        "from sklearn import datasets, linear_model\n",
        "from sklearn.linear_model import LinearRegression\n",
        "import statsmodels.api as sm\n",
        "from scipy import stats"
      ],
      "metadata": {
        "id": "LVkEXiCxlbct"
      },
      "execution_count": null,
      "outputs": []
    },
    {
      "cell_type": "code",
      "source": [
        "import pandas as pd\n",
        "\n",
        "# Chuyển đổi numpy.ndarray thành DataFrame\n",
        "x_test_df = pd.DataFrame(x_test)\n",
        "\n",
        "# Sắp xếp theo index\n",
        "x_test_sorted_df = x_test_df.sort_index(ascending=True)\n"
      ],
      "metadata": {
        "id": "8NV4K_5TmYVw"
      },
      "execution_count": null,
      "outputs": []
    },
    {
      "cell_type": "code",
      "source": [
        "x_test =x_test.sort_index(ascending=True)\n",
        "x_test"
      ],
      "metadata": {
        "colab": {
          "base_uri": "https://localhost:8080/",
          "height": 158
        },
        "id": "1VorqOnHlI0T",
        "outputId": "20fbcbc9-08a8-4cc7-bb2a-c4693fb9fff6"
      },
      "execution_count": null,
      "outputs": [
        {
          "output_type": "error",
          "ename": "AttributeError",
          "evalue": "'numpy.ndarray' object has no attribute 'sort_index'",
          "traceback": [
            "\u001b[0;31m---------------------------------------------------------------------------\u001b[0m",
            "\u001b[0;31mAttributeError\u001b[0m                            Traceback (most recent call last)",
            "\u001b[0;32m<ipython-input-96-d568d5bc2051>\u001b[0m in \u001b[0;36m<cell line: 1>\u001b[0;34m()\u001b[0m\n\u001b[0;32m----> 1\u001b[0;31m \u001b[0mx_test\u001b[0m \u001b[0;34m=\u001b[0m\u001b[0mx_test\u001b[0m\u001b[0;34m.\u001b[0m\u001b[0msort_index\u001b[0m\u001b[0;34m(\u001b[0m\u001b[0mascending\u001b[0m\u001b[0;34m=\u001b[0m\u001b[0;32mTrue\u001b[0m\u001b[0;34m)\u001b[0m\u001b[0;34m\u001b[0m\u001b[0;34m\u001b[0m\u001b[0m\n\u001b[0m\u001b[1;32m      2\u001b[0m \u001b[0mx_test\u001b[0m\u001b[0;34m\u001b[0m\u001b[0;34m\u001b[0m\u001b[0m\n",
            "\u001b[0;31mAttributeError\u001b[0m: 'numpy.ndarray' object has no attribute 'sort_index'"
          ]
        }
      ]
    },
    {
      "cell_type": "code",
      "source": [
        "import numpy as np\n",
        "\n",
        "np.random.seed(2)\n",
        "x = np.random.randint(1, 100, 10)\n",
        "\n",
        "indices = np.argsort(x)  # Get the indices for sorting\n",
        "sorted_x = x[indices]\n",
        "print(sorted_x)\n"
      ],
      "metadata": {
        "id": "oJmjfyVGm9kA",
        "outputId": "e9c4a5ea-d4c9-446b-9e4a-00e1aa9a13df",
        "colab": {
          "base_uri": "https://localhost:8080/"
        }
      },
      "execution_count": null,
      "outputs": [
        {
          "output_type": "stream",
          "name": "stdout",
          "text": [
            "[ 8 16 23 35 41 44 50 73 76 83]\n"
          ]
        }
      ]
    }
  ]
}