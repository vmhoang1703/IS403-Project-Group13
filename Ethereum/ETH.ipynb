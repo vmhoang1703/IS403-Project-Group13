{
  "nbformat": 4,
  "nbformat_minor": 0,
  "metadata": {
    "colab": {
      "provenance": []
    },
    "kernelspec": {
      "name": "python3",
      "display_name": "Python 3"
    },
    "language_info": {
      "name": "python"
    }
  },
  "cells": [
    {
      "cell_type": "code",
      "execution_count": 92,
      "metadata": {
        "id": "rkKatRptgBdZ"
      },
      "outputs": [],
      "source": [
        "import pandas as pd\n",
        "import numpy as np\n",
        "import matplotlib.pyplot as plt\n",
        "from sklearn.metrics import mean_squared_error ,mean_absolute_error\n",
        "from math import  sqrt\n",
        "from sklearn import metrics\n",
        "import warnings\n",
        "warnings.filterwarnings(\"ignore\")\n",
        "import statistics as st\n",
        "from scipy.stats import mode, skew, kurtosis\n",
        "import seaborn as sns\n",
        "\n",
        "import tensorflow as tf\n",
        "from sklearn.preprocessing import MinMaxScaler\n",
        "from keras.models import Sequential\n",
        "from keras.layers import Dense\n",
        "from keras.layers import Dense, SimpleRNN\n",
        "from keras.layers import LSTM\n",
        "from keras.layers import Dropout\n",
        "\n",
        "\n",
        "import pandas as pd\n",
        "import joblib\n",
        "import matplotlib.pyplot as plt\n",
        "import math\n",
        "\n",
        "from sklearn.metrics import mean_squared_error, mean_absolute_error, mean_absolute_percentage_error\n",
        "from sklearn.linear_model import LinearRegression\n",
        "from sklearn.neural_network import MLPClassifier\n",
        "from sklearn.model_selection import KFold\n",
        "from sklearn.ensemble import RandomForestRegressor\n",
        "\n",
        "from keras.models import Sequential\n",
        "from tensorflow.keras.datasets import imdb\n",
        "from tensorflow.keras.layers import SimpleRNN, Embedding\n",
        "from tensorflow.keras.preprocessing import sequence\n",
        "\n",
        "from statsmodels.tsa.arima.model import ARIMA\n",
        "from scipy.stats import skew, kurtosis\n",
        "\n",
        "import warnings\n",
        "warnings.filterwarnings(\"ignore\")"
      ]
    },
    {
      "cell_type": "markdown",
      "source": [
        "###Read data"
      ],
      "metadata": {
        "id": "WfI7HKjLmQt8"
      }
    },
    {
      "cell_type": "code",
      "source": [
        "eth_df = pd.read_csv(\"/content/Ethereum Historical Data (1).csv\")\n",
        "eth_df"
      ],
      "metadata": {
        "colab": {
          "base_uri": "https://localhost:8080/",
          "height": 423
        },
        "id": "nyN3A673h6YR",
        "outputId": "175f237d-39fd-4755-b30f-590b1327125a"
      },
      "execution_count": 93,
      "outputs": [
        {
          "output_type": "execute_result",
          "data": {
            "text/plain": [
              "            Date     Price      Open      High       Low     Vol. Change %\n",
              "0     06/01/2024  3,815.95  3,762.63  3,832.35  3,753.32  143.81K    1.42%\n",
              "1     05/31/2024  3,762.66  3,747.89  3,844.96  3,724.57  294.56K    0.40%\n",
              "2     05/30/2024  3,747.55  3,767.22  3,824.94  3,703.74  293.81K   -0.58%\n",
              "3     05/29/2024  3,769.57  3,845.56  3,886.44  3,745.72  353.25K   -1.98%\n",
              "4     05/28/2024  3,845.56  3,894.33  3,929.21  3,775.08  436.24K   -1.25%\n",
              "...          ...       ...       ...       ...       ...      ...      ...\n",
              "1915  03/05/2019    136.82    125.97    141.11    125.44   16.74M    8.61%\n",
              "1916  03/04/2019    125.97    131.02    131.57    123.25   14.11M   -3.85%\n",
              "1917  03/03/2019    131.01    132.77    168.42    129.05   10.64M   -1.32%\n",
              "1918  03/02/2019    132.76    135.72    136.36    130.74   11.29M   -2.18%\n",
              "1919  03/01/2019    135.72    135.47    138.06    128.46    9.73M    0.18%\n",
              "\n",
              "[1920 rows x 7 columns]"
            ],
            "text/html": [
              "\n",
              "  <div id=\"df-d7625d6c-e95f-4fa7-9fce-2fc5f4e884d0\" class=\"colab-df-container\">\n",
              "    <div>\n",
              "<style scoped>\n",
              "    .dataframe tbody tr th:only-of-type {\n",
              "        vertical-align: middle;\n",
              "    }\n",
              "\n",
              "    .dataframe tbody tr th {\n",
              "        vertical-align: top;\n",
              "    }\n",
              "\n",
              "    .dataframe thead th {\n",
              "        text-align: right;\n",
              "    }\n",
              "</style>\n",
              "<table border=\"1\" class=\"dataframe\">\n",
              "  <thead>\n",
              "    <tr style=\"text-align: right;\">\n",
              "      <th></th>\n",
              "      <th>Date</th>\n",
              "      <th>Price</th>\n",
              "      <th>Open</th>\n",
              "      <th>High</th>\n",
              "      <th>Low</th>\n",
              "      <th>Vol.</th>\n",
              "      <th>Change %</th>\n",
              "    </tr>\n",
              "  </thead>\n",
              "  <tbody>\n",
              "    <tr>\n",
              "      <th>0</th>\n",
              "      <td>06/01/2024</td>\n",
              "      <td>3,815.95</td>\n",
              "      <td>3,762.63</td>\n",
              "      <td>3,832.35</td>\n",
              "      <td>3,753.32</td>\n",
              "      <td>143.81K</td>\n",
              "      <td>1.42%</td>\n",
              "    </tr>\n",
              "    <tr>\n",
              "      <th>1</th>\n",
              "      <td>05/31/2024</td>\n",
              "      <td>3,762.66</td>\n",
              "      <td>3,747.89</td>\n",
              "      <td>3,844.96</td>\n",
              "      <td>3,724.57</td>\n",
              "      <td>294.56K</td>\n",
              "      <td>0.40%</td>\n",
              "    </tr>\n",
              "    <tr>\n",
              "      <th>2</th>\n",
              "      <td>05/30/2024</td>\n",
              "      <td>3,747.55</td>\n",
              "      <td>3,767.22</td>\n",
              "      <td>3,824.94</td>\n",
              "      <td>3,703.74</td>\n",
              "      <td>293.81K</td>\n",
              "      <td>-0.58%</td>\n",
              "    </tr>\n",
              "    <tr>\n",
              "      <th>3</th>\n",
              "      <td>05/29/2024</td>\n",
              "      <td>3,769.57</td>\n",
              "      <td>3,845.56</td>\n",
              "      <td>3,886.44</td>\n",
              "      <td>3,745.72</td>\n",
              "      <td>353.25K</td>\n",
              "      <td>-1.98%</td>\n",
              "    </tr>\n",
              "    <tr>\n",
              "      <th>4</th>\n",
              "      <td>05/28/2024</td>\n",
              "      <td>3,845.56</td>\n",
              "      <td>3,894.33</td>\n",
              "      <td>3,929.21</td>\n",
              "      <td>3,775.08</td>\n",
              "      <td>436.24K</td>\n",
              "      <td>-1.25%</td>\n",
              "    </tr>\n",
              "    <tr>\n",
              "      <th>...</th>\n",
              "      <td>...</td>\n",
              "      <td>...</td>\n",
              "      <td>...</td>\n",
              "      <td>...</td>\n",
              "      <td>...</td>\n",
              "      <td>...</td>\n",
              "      <td>...</td>\n",
              "    </tr>\n",
              "    <tr>\n",
              "      <th>1915</th>\n",
              "      <td>03/05/2019</td>\n",
              "      <td>136.82</td>\n",
              "      <td>125.97</td>\n",
              "      <td>141.11</td>\n",
              "      <td>125.44</td>\n",
              "      <td>16.74M</td>\n",
              "      <td>8.61%</td>\n",
              "    </tr>\n",
              "    <tr>\n",
              "      <th>1916</th>\n",
              "      <td>03/04/2019</td>\n",
              "      <td>125.97</td>\n",
              "      <td>131.02</td>\n",
              "      <td>131.57</td>\n",
              "      <td>123.25</td>\n",
              "      <td>14.11M</td>\n",
              "      <td>-3.85%</td>\n",
              "    </tr>\n",
              "    <tr>\n",
              "      <th>1917</th>\n",
              "      <td>03/03/2019</td>\n",
              "      <td>131.01</td>\n",
              "      <td>132.77</td>\n",
              "      <td>168.42</td>\n",
              "      <td>129.05</td>\n",
              "      <td>10.64M</td>\n",
              "      <td>-1.32%</td>\n",
              "    </tr>\n",
              "    <tr>\n",
              "      <th>1918</th>\n",
              "      <td>03/02/2019</td>\n",
              "      <td>132.76</td>\n",
              "      <td>135.72</td>\n",
              "      <td>136.36</td>\n",
              "      <td>130.74</td>\n",
              "      <td>11.29M</td>\n",
              "      <td>-2.18%</td>\n",
              "    </tr>\n",
              "    <tr>\n",
              "      <th>1919</th>\n",
              "      <td>03/01/2019</td>\n",
              "      <td>135.72</td>\n",
              "      <td>135.47</td>\n",
              "      <td>138.06</td>\n",
              "      <td>128.46</td>\n",
              "      <td>9.73M</td>\n",
              "      <td>0.18%</td>\n",
              "    </tr>\n",
              "  </tbody>\n",
              "</table>\n",
              "<p>1920 rows × 7 columns</p>\n",
              "</div>\n",
              "    <div class=\"colab-df-buttons\">\n",
              "\n",
              "  <div class=\"colab-df-container\">\n",
              "    <button class=\"colab-df-convert\" onclick=\"convertToInteractive('df-d7625d6c-e95f-4fa7-9fce-2fc5f4e884d0')\"\n",
              "            title=\"Convert this dataframe to an interactive table.\"\n",
              "            style=\"display:none;\">\n",
              "\n",
              "  <svg xmlns=\"http://www.w3.org/2000/svg\" height=\"24px\" viewBox=\"0 -960 960 960\">\n",
              "    <path d=\"M120-120v-720h720v720H120Zm60-500h600v-160H180v160Zm220 220h160v-160H400v160Zm0 220h160v-160H400v160ZM180-400h160v-160H180v160Zm440 0h160v-160H620v160ZM180-180h160v-160H180v160Zm440 0h160v-160H620v160Z\"/>\n",
              "  </svg>\n",
              "    </button>\n",
              "\n",
              "  <style>\n",
              "    .colab-df-container {\n",
              "      display:flex;\n",
              "      gap: 12px;\n",
              "    }\n",
              "\n",
              "    .colab-df-convert {\n",
              "      background-color: #E8F0FE;\n",
              "      border: none;\n",
              "      border-radius: 50%;\n",
              "      cursor: pointer;\n",
              "      display: none;\n",
              "      fill: #1967D2;\n",
              "      height: 32px;\n",
              "      padding: 0 0 0 0;\n",
              "      width: 32px;\n",
              "    }\n",
              "\n",
              "    .colab-df-convert:hover {\n",
              "      background-color: #E2EBFA;\n",
              "      box-shadow: 0px 1px 2px rgba(60, 64, 67, 0.3), 0px 1px 3px 1px rgba(60, 64, 67, 0.15);\n",
              "      fill: #174EA6;\n",
              "    }\n",
              "\n",
              "    .colab-df-buttons div {\n",
              "      margin-bottom: 4px;\n",
              "    }\n",
              "\n",
              "    [theme=dark] .colab-df-convert {\n",
              "      background-color: #3B4455;\n",
              "      fill: #D2E3FC;\n",
              "    }\n",
              "\n",
              "    [theme=dark] .colab-df-convert:hover {\n",
              "      background-color: #434B5C;\n",
              "      box-shadow: 0px 1px 3px 1px rgba(0, 0, 0, 0.15);\n",
              "      filter: drop-shadow(0px 1px 2px rgba(0, 0, 0, 0.3));\n",
              "      fill: #FFFFFF;\n",
              "    }\n",
              "  </style>\n",
              "\n",
              "    <script>\n",
              "      const buttonEl =\n",
              "        document.querySelector('#df-d7625d6c-e95f-4fa7-9fce-2fc5f4e884d0 button.colab-df-convert');\n",
              "      buttonEl.style.display =\n",
              "        google.colab.kernel.accessAllowed ? 'block' : 'none';\n",
              "\n",
              "      async function convertToInteractive(key) {\n",
              "        const element = document.querySelector('#df-d7625d6c-e95f-4fa7-9fce-2fc5f4e884d0');\n",
              "        const dataTable =\n",
              "          await google.colab.kernel.invokeFunction('convertToInteractive',\n",
              "                                                    [key], {});\n",
              "        if (!dataTable) return;\n",
              "\n",
              "        const docLinkHtml = 'Like what you see? Visit the ' +\n",
              "          '<a target=\"_blank\" href=https://colab.research.google.com/notebooks/data_table.ipynb>data table notebook</a>'\n",
              "          + ' to learn more about interactive tables.';\n",
              "        element.innerHTML = '';\n",
              "        dataTable['output_type'] = 'display_data';\n",
              "        await google.colab.output.renderOutput(dataTable, element);\n",
              "        const docLink = document.createElement('div');\n",
              "        docLink.innerHTML = docLinkHtml;\n",
              "        element.appendChild(docLink);\n",
              "      }\n",
              "    </script>\n",
              "  </div>\n",
              "\n",
              "\n",
              "<div id=\"df-a2c57858-ae35-4edf-bc42-3c78df531441\">\n",
              "  <button class=\"colab-df-quickchart\" onclick=\"quickchart('df-a2c57858-ae35-4edf-bc42-3c78df531441')\"\n",
              "            title=\"Suggest charts\"\n",
              "            style=\"display:none;\">\n",
              "\n",
              "<svg xmlns=\"http://www.w3.org/2000/svg\" height=\"24px\"viewBox=\"0 0 24 24\"\n",
              "     width=\"24px\">\n",
              "    <g>\n",
              "        <path d=\"M19 3H5c-1.1 0-2 .9-2 2v14c0 1.1.9 2 2 2h14c1.1 0 2-.9 2-2V5c0-1.1-.9-2-2-2zM9 17H7v-7h2v7zm4 0h-2V7h2v10zm4 0h-2v-4h2v4z\"/>\n",
              "    </g>\n",
              "</svg>\n",
              "  </button>\n",
              "\n",
              "<style>\n",
              "  .colab-df-quickchart {\n",
              "      --bg-color: #E8F0FE;\n",
              "      --fill-color: #1967D2;\n",
              "      --hover-bg-color: #E2EBFA;\n",
              "      --hover-fill-color: #174EA6;\n",
              "      --disabled-fill-color: #AAA;\n",
              "      --disabled-bg-color: #DDD;\n",
              "  }\n",
              "\n",
              "  [theme=dark] .colab-df-quickchart {\n",
              "      --bg-color: #3B4455;\n",
              "      --fill-color: #D2E3FC;\n",
              "      --hover-bg-color: #434B5C;\n",
              "      --hover-fill-color: #FFFFFF;\n",
              "      --disabled-bg-color: #3B4455;\n",
              "      --disabled-fill-color: #666;\n",
              "  }\n",
              "\n",
              "  .colab-df-quickchart {\n",
              "    background-color: var(--bg-color);\n",
              "    border: none;\n",
              "    border-radius: 50%;\n",
              "    cursor: pointer;\n",
              "    display: none;\n",
              "    fill: var(--fill-color);\n",
              "    height: 32px;\n",
              "    padding: 0;\n",
              "    width: 32px;\n",
              "  }\n",
              "\n",
              "  .colab-df-quickchart:hover {\n",
              "    background-color: var(--hover-bg-color);\n",
              "    box-shadow: 0 1px 2px rgba(60, 64, 67, 0.3), 0 1px 3px 1px rgba(60, 64, 67, 0.15);\n",
              "    fill: var(--button-hover-fill-color);\n",
              "  }\n",
              "\n",
              "  .colab-df-quickchart-complete:disabled,\n",
              "  .colab-df-quickchart-complete:disabled:hover {\n",
              "    background-color: var(--disabled-bg-color);\n",
              "    fill: var(--disabled-fill-color);\n",
              "    box-shadow: none;\n",
              "  }\n",
              "\n",
              "  .colab-df-spinner {\n",
              "    border: 2px solid var(--fill-color);\n",
              "    border-color: transparent;\n",
              "    border-bottom-color: var(--fill-color);\n",
              "    animation:\n",
              "      spin 1s steps(1) infinite;\n",
              "  }\n",
              "\n",
              "  @keyframes spin {\n",
              "    0% {\n",
              "      border-color: transparent;\n",
              "      border-bottom-color: var(--fill-color);\n",
              "      border-left-color: var(--fill-color);\n",
              "    }\n",
              "    20% {\n",
              "      border-color: transparent;\n",
              "      border-left-color: var(--fill-color);\n",
              "      border-top-color: var(--fill-color);\n",
              "    }\n",
              "    30% {\n",
              "      border-color: transparent;\n",
              "      border-left-color: var(--fill-color);\n",
              "      border-top-color: var(--fill-color);\n",
              "      border-right-color: var(--fill-color);\n",
              "    }\n",
              "    40% {\n",
              "      border-color: transparent;\n",
              "      border-right-color: var(--fill-color);\n",
              "      border-top-color: var(--fill-color);\n",
              "    }\n",
              "    60% {\n",
              "      border-color: transparent;\n",
              "      border-right-color: var(--fill-color);\n",
              "    }\n",
              "    80% {\n",
              "      border-color: transparent;\n",
              "      border-right-color: var(--fill-color);\n",
              "      border-bottom-color: var(--fill-color);\n",
              "    }\n",
              "    90% {\n",
              "      border-color: transparent;\n",
              "      border-bottom-color: var(--fill-color);\n",
              "    }\n",
              "  }\n",
              "</style>\n",
              "\n",
              "  <script>\n",
              "    async function quickchart(key) {\n",
              "      const quickchartButtonEl =\n",
              "        document.querySelector('#' + key + ' button');\n",
              "      quickchartButtonEl.disabled = true;  // To prevent multiple clicks.\n",
              "      quickchartButtonEl.classList.add('colab-df-spinner');\n",
              "      try {\n",
              "        const charts = await google.colab.kernel.invokeFunction(\n",
              "            'suggestCharts', [key], {});\n",
              "      } catch (error) {\n",
              "        console.error('Error during call to suggestCharts:', error);\n",
              "      }\n",
              "      quickchartButtonEl.classList.remove('colab-df-spinner');\n",
              "      quickchartButtonEl.classList.add('colab-df-quickchart-complete');\n",
              "    }\n",
              "    (() => {\n",
              "      let quickchartButtonEl =\n",
              "        document.querySelector('#df-a2c57858-ae35-4edf-bc42-3c78df531441 button');\n",
              "      quickchartButtonEl.style.display =\n",
              "        google.colab.kernel.accessAllowed ? 'block' : 'none';\n",
              "    })();\n",
              "  </script>\n",
              "</div>\n",
              "    </div>\n",
              "  </div>\n"
            ],
            "application/vnd.google.colaboratory.intrinsic+json": {
              "type": "dataframe",
              "variable_name": "eth_df",
              "summary": "{\n  \"name\": \"eth_df\",\n  \"rows\": 1920,\n  \"fields\": [\n    {\n      \"column\": \"Date\",\n      \"properties\": {\n        \"dtype\": \"object\",\n        \"num_unique_values\": 1920,\n        \"samples\": [\n          \"09/07/2021\",\n          \"12/24/2019\",\n          \"09/29/2022\"\n        ],\n        \"semantic_type\": \"\",\n        \"description\": \"\"\n      }\n    },\n    {\n      \"column\": \"Price\",\n      \"properties\": {\n        \"dtype\": \"string\",\n        \"num_unique_values\": 1900,\n        \"samples\": [\n          \"1,117.33\",\n          \"2,506.69\",\n          \"1,203.77\"\n        ],\n        \"semantic_type\": \"\",\n        \"description\": \"\"\n      }\n    },\n    {\n      \"column\": \"Open\",\n      \"properties\": {\n        \"dtype\": \"string\",\n        \"num_unique_values\": 1900,\n        \"samples\": [\n          \"1,118.01\",\n          \"2,500.28\",\n          \"1,185.70\"\n        ],\n        \"semantic_type\": \"\",\n        \"description\": \"\"\n      }\n    },\n    {\n      \"column\": \"High\",\n      \"properties\": {\n        \"dtype\": \"string\",\n        \"num_unique_values\": 1909,\n        \"samples\": [\n          \"229.80\",\n          \"2,537.85\",\n          \"160.28\"\n        ],\n        \"semantic_type\": \"\",\n        \"description\": \"\"\n      }\n    },\n    {\n      \"column\": \"Low\",\n      \"properties\": {\n        \"dtype\": \"string\",\n        \"num_unique_values\": 1908,\n        \"samples\": [\n          \"223.79\",\n          \"2,493.83\",\n          \"167.03\"\n        ],\n        \"semantic_type\": \"\",\n        \"description\": \"\"\n      }\n    },\n    {\n      \"column\": \"Vol.\",\n      \"properties\": {\n        \"dtype\": \"string\",\n        \"num_unique_values\": 1613,\n        \"samples\": [\n          \"381.95K\",\n          \"194.29K\",\n          \"229.74K\"\n        ],\n        \"semantic_type\": \"\",\n        \"description\": \"\"\n      }\n    },\n    {\n      \"column\": \"Change %\",\n      \"properties\": {\n        \"dtype\": \"string\",\n        \"num_unique_values\": 1042,\n        \"samples\": [\n          \"-1.99%\",\n          \"-1.23%\",\n          \"3.62%\"\n        ],\n        \"semantic_type\": \"\",\n        \"description\": \"\"\n      }\n    }\n  ]\n}"
            }
          },
          "metadata": {},
          "execution_count": 93
        }
      ]
    },
    {
      "cell_type": "markdown",
      "source": [
        "###Data processing"
      ],
      "metadata": {
        "id": "5hiTApHcoFPZ"
      }
    },
    {
      "cell_type": "code",
      "source": [
        "eth_df['Date'] = pd.to_datetime(eth_df['Date'])\n",
        "eth_df.reset_index(drop=True)\n",
        "eth_df.set_index('Date', inplace=True)"
      ],
      "metadata": {
        "id": "YsGWa3Y1idAS"
      },
      "execution_count": 94,
      "outputs": []
    },
    {
      "cell_type": "code",
      "source": [
        "eth_df"
      ],
      "metadata": {
        "colab": {
          "base_uri": "https://localhost:8080/",
          "height": 455
        },
        "id": "ngEROuCXmcc6",
        "outputId": "20acc0c8-3dd6-4263-f9ae-65e145841a53"
      },
      "execution_count": 95,
      "outputs": [
        {
          "output_type": "execute_result",
          "data": {
            "text/plain": [
              "               Price      Open      High       Low     Vol. Change %\n",
              "Date                                                                \n",
              "2024-06-01  3,815.95  3,762.63  3,832.35  3,753.32  143.81K    1.42%\n",
              "2024-05-31  3,762.66  3,747.89  3,844.96  3,724.57  294.56K    0.40%\n",
              "2024-05-30  3,747.55  3,767.22  3,824.94  3,703.74  293.81K   -0.58%\n",
              "2024-05-29  3,769.57  3,845.56  3,886.44  3,745.72  353.25K   -1.98%\n",
              "2024-05-28  3,845.56  3,894.33  3,929.21  3,775.08  436.24K   -1.25%\n",
              "...              ...       ...       ...       ...      ...      ...\n",
              "2019-03-05    136.82    125.97    141.11    125.44   16.74M    8.61%\n",
              "2019-03-04    125.97    131.02    131.57    123.25   14.11M   -3.85%\n",
              "2019-03-03    131.01    132.77    168.42    129.05   10.64M   -1.32%\n",
              "2019-03-02    132.76    135.72    136.36    130.74   11.29M   -2.18%\n",
              "2019-03-01    135.72    135.47    138.06    128.46    9.73M    0.18%\n",
              "\n",
              "[1920 rows x 6 columns]"
            ],
            "text/html": [
              "\n",
              "  <div id=\"df-9ee9c45e-bac8-46df-96c8-789334586f03\" class=\"colab-df-container\">\n",
              "    <div>\n",
              "<style scoped>\n",
              "    .dataframe tbody tr th:only-of-type {\n",
              "        vertical-align: middle;\n",
              "    }\n",
              "\n",
              "    .dataframe tbody tr th {\n",
              "        vertical-align: top;\n",
              "    }\n",
              "\n",
              "    .dataframe thead th {\n",
              "        text-align: right;\n",
              "    }\n",
              "</style>\n",
              "<table border=\"1\" class=\"dataframe\">\n",
              "  <thead>\n",
              "    <tr style=\"text-align: right;\">\n",
              "      <th></th>\n",
              "      <th>Price</th>\n",
              "      <th>Open</th>\n",
              "      <th>High</th>\n",
              "      <th>Low</th>\n",
              "      <th>Vol.</th>\n",
              "      <th>Change %</th>\n",
              "    </tr>\n",
              "    <tr>\n",
              "      <th>Date</th>\n",
              "      <th></th>\n",
              "      <th></th>\n",
              "      <th></th>\n",
              "      <th></th>\n",
              "      <th></th>\n",
              "      <th></th>\n",
              "    </tr>\n",
              "  </thead>\n",
              "  <tbody>\n",
              "    <tr>\n",
              "      <th>2024-06-01</th>\n",
              "      <td>3,815.95</td>\n",
              "      <td>3,762.63</td>\n",
              "      <td>3,832.35</td>\n",
              "      <td>3,753.32</td>\n",
              "      <td>143.81K</td>\n",
              "      <td>1.42%</td>\n",
              "    </tr>\n",
              "    <tr>\n",
              "      <th>2024-05-31</th>\n",
              "      <td>3,762.66</td>\n",
              "      <td>3,747.89</td>\n",
              "      <td>3,844.96</td>\n",
              "      <td>3,724.57</td>\n",
              "      <td>294.56K</td>\n",
              "      <td>0.40%</td>\n",
              "    </tr>\n",
              "    <tr>\n",
              "      <th>2024-05-30</th>\n",
              "      <td>3,747.55</td>\n",
              "      <td>3,767.22</td>\n",
              "      <td>3,824.94</td>\n",
              "      <td>3,703.74</td>\n",
              "      <td>293.81K</td>\n",
              "      <td>-0.58%</td>\n",
              "    </tr>\n",
              "    <tr>\n",
              "      <th>2024-05-29</th>\n",
              "      <td>3,769.57</td>\n",
              "      <td>3,845.56</td>\n",
              "      <td>3,886.44</td>\n",
              "      <td>3,745.72</td>\n",
              "      <td>353.25K</td>\n",
              "      <td>-1.98%</td>\n",
              "    </tr>\n",
              "    <tr>\n",
              "      <th>2024-05-28</th>\n",
              "      <td>3,845.56</td>\n",
              "      <td>3,894.33</td>\n",
              "      <td>3,929.21</td>\n",
              "      <td>3,775.08</td>\n",
              "      <td>436.24K</td>\n",
              "      <td>-1.25%</td>\n",
              "    </tr>\n",
              "    <tr>\n",
              "      <th>...</th>\n",
              "      <td>...</td>\n",
              "      <td>...</td>\n",
              "      <td>...</td>\n",
              "      <td>...</td>\n",
              "      <td>...</td>\n",
              "      <td>...</td>\n",
              "    </tr>\n",
              "    <tr>\n",
              "      <th>2019-03-05</th>\n",
              "      <td>136.82</td>\n",
              "      <td>125.97</td>\n",
              "      <td>141.11</td>\n",
              "      <td>125.44</td>\n",
              "      <td>16.74M</td>\n",
              "      <td>8.61%</td>\n",
              "    </tr>\n",
              "    <tr>\n",
              "      <th>2019-03-04</th>\n",
              "      <td>125.97</td>\n",
              "      <td>131.02</td>\n",
              "      <td>131.57</td>\n",
              "      <td>123.25</td>\n",
              "      <td>14.11M</td>\n",
              "      <td>-3.85%</td>\n",
              "    </tr>\n",
              "    <tr>\n",
              "      <th>2019-03-03</th>\n",
              "      <td>131.01</td>\n",
              "      <td>132.77</td>\n",
              "      <td>168.42</td>\n",
              "      <td>129.05</td>\n",
              "      <td>10.64M</td>\n",
              "      <td>-1.32%</td>\n",
              "    </tr>\n",
              "    <tr>\n",
              "      <th>2019-03-02</th>\n",
              "      <td>132.76</td>\n",
              "      <td>135.72</td>\n",
              "      <td>136.36</td>\n",
              "      <td>130.74</td>\n",
              "      <td>11.29M</td>\n",
              "      <td>-2.18%</td>\n",
              "    </tr>\n",
              "    <tr>\n",
              "      <th>2019-03-01</th>\n",
              "      <td>135.72</td>\n",
              "      <td>135.47</td>\n",
              "      <td>138.06</td>\n",
              "      <td>128.46</td>\n",
              "      <td>9.73M</td>\n",
              "      <td>0.18%</td>\n",
              "    </tr>\n",
              "  </tbody>\n",
              "</table>\n",
              "<p>1920 rows × 6 columns</p>\n",
              "</div>\n",
              "    <div class=\"colab-df-buttons\">\n",
              "\n",
              "  <div class=\"colab-df-container\">\n",
              "    <button class=\"colab-df-convert\" onclick=\"convertToInteractive('df-9ee9c45e-bac8-46df-96c8-789334586f03')\"\n",
              "            title=\"Convert this dataframe to an interactive table.\"\n",
              "            style=\"display:none;\">\n",
              "\n",
              "  <svg xmlns=\"http://www.w3.org/2000/svg\" height=\"24px\" viewBox=\"0 -960 960 960\">\n",
              "    <path d=\"M120-120v-720h720v720H120Zm60-500h600v-160H180v160Zm220 220h160v-160H400v160Zm0 220h160v-160H400v160ZM180-400h160v-160H180v160Zm440 0h160v-160H620v160ZM180-180h160v-160H180v160Zm440 0h160v-160H620v160Z\"/>\n",
              "  </svg>\n",
              "    </button>\n",
              "\n",
              "  <style>\n",
              "    .colab-df-container {\n",
              "      display:flex;\n",
              "      gap: 12px;\n",
              "    }\n",
              "\n",
              "    .colab-df-convert {\n",
              "      background-color: #E8F0FE;\n",
              "      border: none;\n",
              "      border-radius: 50%;\n",
              "      cursor: pointer;\n",
              "      display: none;\n",
              "      fill: #1967D2;\n",
              "      height: 32px;\n",
              "      padding: 0 0 0 0;\n",
              "      width: 32px;\n",
              "    }\n",
              "\n",
              "    .colab-df-convert:hover {\n",
              "      background-color: #E2EBFA;\n",
              "      box-shadow: 0px 1px 2px rgba(60, 64, 67, 0.3), 0px 1px 3px 1px rgba(60, 64, 67, 0.15);\n",
              "      fill: #174EA6;\n",
              "    }\n",
              "\n",
              "    .colab-df-buttons div {\n",
              "      margin-bottom: 4px;\n",
              "    }\n",
              "\n",
              "    [theme=dark] .colab-df-convert {\n",
              "      background-color: #3B4455;\n",
              "      fill: #D2E3FC;\n",
              "    }\n",
              "\n",
              "    [theme=dark] .colab-df-convert:hover {\n",
              "      background-color: #434B5C;\n",
              "      box-shadow: 0px 1px 3px 1px rgba(0, 0, 0, 0.15);\n",
              "      filter: drop-shadow(0px 1px 2px rgba(0, 0, 0, 0.3));\n",
              "      fill: #FFFFFF;\n",
              "    }\n",
              "  </style>\n",
              "\n",
              "    <script>\n",
              "      const buttonEl =\n",
              "        document.querySelector('#df-9ee9c45e-bac8-46df-96c8-789334586f03 button.colab-df-convert');\n",
              "      buttonEl.style.display =\n",
              "        google.colab.kernel.accessAllowed ? 'block' : 'none';\n",
              "\n",
              "      async function convertToInteractive(key) {\n",
              "        const element = document.querySelector('#df-9ee9c45e-bac8-46df-96c8-789334586f03');\n",
              "        const dataTable =\n",
              "          await google.colab.kernel.invokeFunction('convertToInteractive',\n",
              "                                                    [key], {});\n",
              "        if (!dataTable) return;\n",
              "\n",
              "        const docLinkHtml = 'Like what you see? Visit the ' +\n",
              "          '<a target=\"_blank\" href=https://colab.research.google.com/notebooks/data_table.ipynb>data table notebook</a>'\n",
              "          + ' to learn more about interactive tables.';\n",
              "        element.innerHTML = '';\n",
              "        dataTable['output_type'] = 'display_data';\n",
              "        await google.colab.output.renderOutput(dataTable, element);\n",
              "        const docLink = document.createElement('div');\n",
              "        docLink.innerHTML = docLinkHtml;\n",
              "        element.appendChild(docLink);\n",
              "      }\n",
              "    </script>\n",
              "  </div>\n",
              "\n",
              "\n",
              "<div id=\"df-4af9f7db-2878-43ad-b82e-233e99f50295\">\n",
              "  <button class=\"colab-df-quickchart\" onclick=\"quickchart('df-4af9f7db-2878-43ad-b82e-233e99f50295')\"\n",
              "            title=\"Suggest charts\"\n",
              "            style=\"display:none;\">\n",
              "\n",
              "<svg xmlns=\"http://www.w3.org/2000/svg\" height=\"24px\"viewBox=\"0 0 24 24\"\n",
              "     width=\"24px\">\n",
              "    <g>\n",
              "        <path d=\"M19 3H5c-1.1 0-2 .9-2 2v14c0 1.1.9 2 2 2h14c1.1 0 2-.9 2-2V5c0-1.1-.9-2-2-2zM9 17H7v-7h2v7zm4 0h-2V7h2v10zm4 0h-2v-4h2v4z\"/>\n",
              "    </g>\n",
              "</svg>\n",
              "  </button>\n",
              "\n",
              "<style>\n",
              "  .colab-df-quickchart {\n",
              "      --bg-color: #E8F0FE;\n",
              "      --fill-color: #1967D2;\n",
              "      --hover-bg-color: #E2EBFA;\n",
              "      --hover-fill-color: #174EA6;\n",
              "      --disabled-fill-color: #AAA;\n",
              "      --disabled-bg-color: #DDD;\n",
              "  }\n",
              "\n",
              "  [theme=dark] .colab-df-quickchart {\n",
              "      --bg-color: #3B4455;\n",
              "      --fill-color: #D2E3FC;\n",
              "      --hover-bg-color: #434B5C;\n",
              "      --hover-fill-color: #FFFFFF;\n",
              "      --disabled-bg-color: #3B4455;\n",
              "      --disabled-fill-color: #666;\n",
              "  }\n",
              "\n",
              "  .colab-df-quickchart {\n",
              "    background-color: var(--bg-color);\n",
              "    border: none;\n",
              "    border-radius: 50%;\n",
              "    cursor: pointer;\n",
              "    display: none;\n",
              "    fill: var(--fill-color);\n",
              "    height: 32px;\n",
              "    padding: 0;\n",
              "    width: 32px;\n",
              "  }\n",
              "\n",
              "  .colab-df-quickchart:hover {\n",
              "    background-color: var(--hover-bg-color);\n",
              "    box-shadow: 0 1px 2px rgba(60, 64, 67, 0.3), 0 1px 3px 1px rgba(60, 64, 67, 0.15);\n",
              "    fill: var(--button-hover-fill-color);\n",
              "  }\n",
              "\n",
              "  .colab-df-quickchart-complete:disabled,\n",
              "  .colab-df-quickchart-complete:disabled:hover {\n",
              "    background-color: var(--disabled-bg-color);\n",
              "    fill: var(--disabled-fill-color);\n",
              "    box-shadow: none;\n",
              "  }\n",
              "\n",
              "  .colab-df-spinner {\n",
              "    border: 2px solid var(--fill-color);\n",
              "    border-color: transparent;\n",
              "    border-bottom-color: var(--fill-color);\n",
              "    animation:\n",
              "      spin 1s steps(1) infinite;\n",
              "  }\n",
              "\n",
              "  @keyframes spin {\n",
              "    0% {\n",
              "      border-color: transparent;\n",
              "      border-bottom-color: var(--fill-color);\n",
              "      border-left-color: var(--fill-color);\n",
              "    }\n",
              "    20% {\n",
              "      border-color: transparent;\n",
              "      border-left-color: var(--fill-color);\n",
              "      border-top-color: var(--fill-color);\n",
              "    }\n",
              "    30% {\n",
              "      border-color: transparent;\n",
              "      border-left-color: var(--fill-color);\n",
              "      border-top-color: var(--fill-color);\n",
              "      border-right-color: var(--fill-color);\n",
              "    }\n",
              "    40% {\n",
              "      border-color: transparent;\n",
              "      border-right-color: var(--fill-color);\n",
              "      border-top-color: var(--fill-color);\n",
              "    }\n",
              "    60% {\n",
              "      border-color: transparent;\n",
              "      border-right-color: var(--fill-color);\n",
              "    }\n",
              "    80% {\n",
              "      border-color: transparent;\n",
              "      border-right-color: var(--fill-color);\n",
              "      border-bottom-color: var(--fill-color);\n",
              "    }\n",
              "    90% {\n",
              "      border-color: transparent;\n",
              "      border-bottom-color: var(--fill-color);\n",
              "    }\n",
              "  }\n",
              "</style>\n",
              "\n",
              "  <script>\n",
              "    async function quickchart(key) {\n",
              "      const quickchartButtonEl =\n",
              "        document.querySelector('#' + key + ' button');\n",
              "      quickchartButtonEl.disabled = true;  // To prevent multiple clicks.\n",
              "      quickchartButtonEl.classList.add('colab-df-spinner');\n",
              "      try {\n",
              "        const charts = await google.colab.kernel.invokeFunction(\n",
              "            'suggestCharts', [key], {});\n",
              "      } catch (error) {\n",
              "        console.error('Error during call to suggestCharts:', error);\n",
              "      }\n",
              "      quickchartButtonEl.classList.remove('colab-df-spinner');\n",
              "      quickchartButtonEl.classList.add('colab-df-quickchart-complete');\n",
              "    }\n",
              "    (() => {\n",
              "      let quickchartButtonEl =\n",
              "        document.querySelector('#df-4af9f7db-2878-43ad-b82e-233e99f50295 button');\n",
              "      quickchartButtonEl.style.display =\n",
              "        google.colab.kernel.accessAllowed ? 'block' : 'none';\n",
              "    })();\n",
              "  </script>\n",
              "</div>\n",
              "    </div>\n",
              "  </div>\n"
            ],
            "application/vnd.google.colaboratory.intrinsic+json": {
              "type": "dataframe",
              "variable_name": "eth_df",
              "summary": "{\n  \"name\": \"eth_df\",\n  \"rows\": 1920,\n  \"fields\": [\n    {\n      \"column\": \"Date\",\n      \"properties\": {\n        \"dtype\": \"date\",\n        \"min\": \"2019-03-01 00:00:00\",\n        \"max\": \"2024-06-01 00:00:00\",\n        \"num_unique_values\": 1920,\n        \"samples\": [\n          \"2021-09-07 00:00:00\",\n          \"2019-12-24 00:00:00\",\n          \"2022-09-29 00:00:00\"\n        ],\n        \"semantic_type\": \"\",\n        \"description\": \"\"\n      }\n    },\n    {\n      \"column\": \"Price\",\n      \"properties\": {\n        \"dtype\": \"string\",\n        \"num_unique_values\": 1900,\n        \"samples\": [\n          \"1,117.33\",\n          \"2,506.69\",\n          \"1,203.77\"\n        ],\n        \"semantic_type\": \"\",\n        \"description\": \"\"\n      }\n    },\n    {\n      \"column\": \"Open\",\n      \"properties\": {\n        \"dtype\": \"string\",\n        \"num_unique_values\": 1900,\n        \"samples\": [\n          \"1,118.01\",\n          \"2,500.28\",\n          \"1,185.70\"\n        ],\n        \"semantic_type\": \"\",\n        \"description\": \"\"\n      }\n    },\n    {\n      \"column\": \"High\",\n      \"properties\": {\n        \"dtype\": \"string\",\n        \"num_unique_values\": 1909,\n        \"samples\": [\n          \"229.80\",\n          \"2,537.85\",\n          \"160.28\"\n        ],\n        \"semantic_type\": \"\",\n        \"description\": \"\"\n      }\n    },\n    {\n      \"column\": \"Low\",\n      \"properties\": {\n        \"dtype\": \"string\",\n        \"num_unique_values\": 1908,\n        \"samples\": [\n          \"223.79\",\n          \"2,493.83\",\n          \"167.03\"\n        ],\n        \"semantic_type\": \"\",\n        \"description\": \"\"\n      }\n    },\n    {\n      \"column\": \"Vol.\",\n      \"properties\": {\n        \"dtype\": \"string\",\n        \"num_unique_values\": 1613,\n        \"samples\": [\n          \"381.95K\",\n          \"194.29K\",\n          \"229.74K\"\n        ],\n        \"semantic_type\": \"\",\n        \"description\": \"\"\n      }\n    },\n    {\n      \"column\": \"Change %\",\n      \"properties\": {\n        \"dtype\": \"string\",\n        \"num_unique_values\": 1042,\n        \"samples\": [\n          \"-1.99%\",\n          \"-1.23%\",\n          \"3.62%\"\n        ],\n        \"semantic_type\": \"\",\n        \"description\": \"\"\n      }\n    }\n  ]\n}"
            }
          },
          "metadata": {},
          "execution_count": 95
        }
      ]
    },
    {
      "cell_type": "code",
      "source": [
        "print(eth_df.info())"
      ],
      "metadata": {
        "colab": {
          "base_uri": "https://localhost:8080/"
        },
        "id": "iTBnmtJf3caa",
        "outputId": "c36aa821-4c3f-46ab-ad0c-088c22dc9194"
      },
      "execution_count": 96,
      "outputs": [
        {
          "output_type": "stream",
          "name": "stdout",
          "text": [
            "<class 'pandas.core.frame.DataFrame'>\n",
            "DatetimeIndex: 1920 entries, 2024-06-01 to 2019-03-01\n",
            "Data columns (total 6 columns):\n",
            " #   Column    Non-Null Count  Dtype \n",
            "---  ------    --------------  ----- \n",
            " 0   Price     1920 non-null   object\n",
            " 1   Open      1920 non-null   object\n",
            " 2   High      1920 non-null   object\n",
            " 3   Low       1920 non-null   object\n",
            " 4   Vol.      1920 non-null   object\n",
            " 5   Change %  1920 non-null   object\n",
            "dtypes: object(6)\n",
            "memory usage: 105.0+ KB\n",
            "None\n"
          ]
        }
      ]
    },
    {
      "cell_type": "code",
      "source": [
        "# Hàm để chuyển đổi giá trị có 'K', 'M', hoặc 'B' thành số thực.\n",
        "def convert_volume(value):\n",
        "    if 'K' in value:\n",
        "        return float(value.replace('K', '')) * 1e3\n",
        "    elif 'M' in value:\n",
        "        return float(value.replace('M', '')) * 1e6\n",
        "    elif 'B' in value:\n",
        "        return float(value.replace('B', '')) * 1e9\n",
        "    else:\n",
        "        return float(value)\n",
        "\n",
        "# Áp dụng hàm cho mỗi giá trị trong cột 'Vol.'.\n",
        "eth_df['Vol.'] = eth_df['Vol.'].apply(convert_volume)\n"
      ],
      "metadata": {
        "id": "MwZEQMxG8SfD"
      },
      "execution_count": 97,
      "outputs": []
    },
    {
      "cell_type": "code",
      "source": [
        "# Hàm để chuyển đổi giá trị có dấu % thành số thực.\n",
        "def convert_percent_to_float(value):\n",
        "    return float(value.replace('%', '')) / 100\n",
        "\n",
        "# Giả sử etr_df là DataFrame của bạn với cột 'Percentage' cần được chuyển đổi.\n",
        "# etr_df['Percentage'] = ...\n",
        "\n",
        "# Áp dụng hàm cho mỗi giá trị trong cột 'Percentage'.\n",
        "eth_df['Change %'] = eth_df['Change %'].apply(convert_percent_to_float)\n"
      ],
      "metadata": {
        "id": "bsFiDhee88wq"
      },
      "execution_count": 98,
      "outputs": []
    },
    {
      "cell_type": "code",
      "source": [
        "eth_df"
      ],
      "metadata": {
        "colab": {
          "base_uri": "https://localhost:8080/",
          "height": 455
        },
        "id": "sJPM0dDT8VsR",
        "outputId": "c6fdcba8-97e2-46ae-cff4-6db5f1641022"
      },
      "execution_count": 99,
      "outputs": [
        {
          "output_type": "execute_result",
          "data": {
            "text/plain": [
              "               Price      Open      High       Low        Vol.  Change %\n",
              "Date                                                                    \n",
              "2024-06-01  3,815.95  3,762.63  3,832.35  3,753.32    143810.0    0.0142\n",
              "2024-05-31  3,762.66  3,747.89  3,844.96  3,724.57    294560.0    0.0040\n",
              "2024-05-30  3,747.55  3,767.22  3,824.94  3,703.74    293810.0   -0.0058\n",
              "2024-05-29  3,769.57  3,845.56  3,886.44  3,745.72    353250.0   -0.0198\n",
              "2024-05-28  3,845.56  3,894.33  3,929.21  3,775.08    436240.0   -0.0125\n",
              "...              ...       ...       ...       ...         ...       ...\n",
              "2019-03-05    136.82    125.97    141.11    125.44  16740000.0    0.0861\n",
              "2019-03-04    125.97    131.02    131.57    123.25  14110000.0   -0.0385\n",
              "2019-03-03    131.01    132.77    168.42    129.05  10640000.0   -0.0132\n",
              "2019-03-02    132.76    135.72    136.36    130.74  11290000.0   -0.0218\n",
              "2019-03-01    135.72    135.47    138.06    128.46   9730000.0    0.0018\n",
              "\n",
              "[1920 rows x 6 columns]"
            ],
            "text/html": [
              "\n",
              "  <div id=\"df-f301f106-17a0-42da-9b49-9cc0e0e8f459\" class=\"colab-df-container\">\n",
              "    <div>\n",
              "<style scoped>\n",
              "    .dataframe tbody tr th:only-of-type {\n",
              "        vertical-align: middle;\n",
              "    }\n",
              "\n",
              "    .dataframe tbody tr th {\n",
              "        vertical-align: top;\n",
              "    }\n",
              "\n",
              "    .dataframe thead th {\n",
              "        text-align: right;\n",
              "    }\n",
              "</style>\n",
              "<table border=\"1\" class=\"dataframe\">\n",
              "  <thead>\n",
              "    <tr style=\"text-align: right;\">\n",
              "      <th></th>\n",
              "      <th>Price</th>\n",
              "      <th>Open</th>\n",
              "      <th>High</th>\n",
              "      <th>Low</th>\n",
              "      <th>Vol.</th>\n",
              "      <th>Change %</th>\n",
              "    </tr>\n",
              "    <tr>\n",
              "      <th>Date</th>\n",
              "      <th></th>\n",
              "      <th></th>\n",
              "      <th></th>\n",
              "      <th></th>\n",
              "      <th></th>\n",
              "      <th></th>\n",
              "    </tr>\n",
              "  </thead>\n",
              "  <tbody>\n",
              "    <tr>\n",
              "      <th>2024-06-01</th>\n",
              "      <td>3,815.95</td>\n",
              "      <td>3,762.63</td>\n",
              "      <td>3,832.35</td>\n",
              "      <td>3,753.32</td>\n",
              "      <td>143810.0</td>\n",
              "      <td>0.0142</td>\n",
              "    </tr>\n",
              "    <tr>\n",
              "      <th>2024-05-31</th>\n",
              "      <td>3,762.66</td>\n",
              "      <td>3,747.89</td>\n",
              "      <td>3,844.96</td>\n",
              "      <td>3,724.57</td>\n",
              "      <td>294560.0</td>\n",
              "      <td>0.0040</td>\n",
              "    </tr>\n",
              "    <tr>\n",
              "      <th>2024-05-30</th>\n",
              "      <td>3,747.55</td>\n",
              "      <td>3,767.22</td>\n",
              "      <td>3,824.94</td>\n",
              "      <td>3,703.74</td>\n",
              "      <td>293810.0</td>\n",
              "      <td>-0.0058</td>\n",
              "    </tr>\n",
              "    <tr>\n",
              "      <th>2024-05-29</th>\n",
              "      <td>3,769.57</td>\n",
              "      <td>3,845.56</td>\n",
              "      <td>3,886.44</td>\n",
              "      <td>3,745.72</td>\n",
              "      <td>353250.0</td>\n",
              "      <td>-0.0198</td>\n",
              "    </tr>\n",
              "    <tr>\n",
              "      <th>2024-05-28</th>\n",
              "      <td>3,845.56</td>\n",
              "      <td>3,894.33</td>\n",
              "      <td>3,929.21</td>\n",
              "      <td>3,775.08</td>\n",
              "      <td>436240.0</td>\n",
              "      <td>-0.0125</td>\n",
              "    </tr>\n",
              "    <tr>\n",
              "      <th>...</th>\n",
              "      <td>...</td>\n",
              "      <td>...</td>\n",
              "      <td>...</td>\n",
              "      <td>...</td>\n",
              "      <td>...</td>\n",
              "      <td>...</td>\n",
              "    </tr>\n",
              "    <tr>\n",
              "      <th>2019-03-05</th>\n",
              "      <td>136.82</td>\n",
              "      <td>125.97</td>\n",
              "      <td>141.11</td>\n",
              "      <td>125.44</td>\n",
              "      <td>16740000.0</td>\n",
              "      <td>0.0861</td>\n",
              "    </tr>\n",
              "    <tr>\n",
              "      <th>2019-03-04</th>\n",
              "      <td>125.97</td>\n",
              "      <td>131.02</td>\n",
              "      <td>131.57</td>\n",
              "      <td>123.25</td>\n",
              "      <td>14110000.0</td>\n",
              "      <td>-0.0385</td>\n",
              "    </tr>\n",
              "    <tr>\n",
              "      <th>2019-03-03</th>\n",
              "      <td>131.01</td>\n",
              "      <td>132.77</td>\n",
              "      <td>168.42</td>\n",
              "      <td>129.05</td>\n",
              "      <td>10640000.0</td>\n",
              "      <td>-0.0132</td>\n",
              "    </tr>\n",
              "    <tr>\n",
              "      <th>2019-03-02</th>\n",
              "      <td>132.76</td>\n",
              "      <td>135.72</td>\n",
              "      <td>136.36</td>\n",
              "      <td>130.74</td>\n",
              "      <td>11290000.0</td>\n",
              "      <td>-0.0218</td>\n",
              "    </tr>\n",
              "    <tr>\n",
              "      <th>2019-03-01</th>\n",
              "      <td>135.72</td>\n",
              "      <td>135.47</td>\n",
              "      <td>138.06</td>\n",
              "      <td>128.46</td>\n",
              "      <td>9730000.0</td>\n",
              "      <td>0.0018</td>\n",
              "    </tr>\n",
              "  </tbody>\n",
              "</table>\n",
              "<p>1920 rows × 6 columns</p>\n",
              "</div>\n",
              "    <div class=\"colab-df-buttons\">\n",
              "\n",
              "  <div class=\"colab-df-container\">\n",
              "    <button class=\"colab-df-convert\" onclick=\"convertToInteractive('df-f301f106-17a0-42da-9b49-9cc0e0e8f459')\"\n",
              "            title=\"Convert this dataframe to an interactive table.\"\n",
              "            style=\"display:none;\">\n",
              "\n",
              "  <svg xmlns=\"http://www.w3.org/2000/svg\" height=\"24px\" viewBox=\"0 -960 960 960\">\n",
              "    <path d=\"M120-120v-720h720v720H120Zm60-500h600v-160H180v160Zm220 220h160v-160H400v160Zm0 220h160v-160H400v160ZM180-400h160v-160H180v160Zm440 0h160v-160H620v160ZM180-180h160v-160H180v160Zm440 0h160v-160H620v160Z\"/>\n",
              "  </svg>\n",
              "    </button>\n",
              "\n",
              "  <style>\n",
              "    .colab-df-container {\n",
              "      display:flex;\n",
              "      gap: 12px;\n",
              "    }\n",
              "\n",
              "    .colab-df-convert {\n",
              "      background-color: #E8F0FE;\n",
              "      border: none;\n",
              "      border-radius: 50%;\n",
              "      cursor: pointer;\n",
              "      display: none;\n",
              "      fill: #1967D2;\n",
              "      height: 32px;\n",
              "      padding: 0 0 0 0;\n",
              "      width: 32px;\n",
              "    }\n",
              "\n",
              "    .colab-df-convert:hover {\n",
              "      background-color: #E2EBFA;\n",
              "      box-shadow: 0px 1px 2px rgba(60, 64, 67, 0.3), 0px 1px 3px 1px rgba(60, 64, 67, 0.15);\n",
              "      fill: #174EA6;\n",
              "    }\n",
              "\n",
              "    .colab-df-buttons div {\n",
              "      margin-bottom: 4px;\n",
              "    }\n",
              "\n",
              "    [theme=dark] .colab-df-convert {\n",
              "      background-color: #3B4455;\n",
              "      fill: #D2E3FC;\n",
              "    }\n",
              "\n",
              "    [theme=dark] .colab-df-convert:hover {\n",
              "      background-color: #434B5C;\n",
              "      box-shadow: 0px 1px 3px 1px rgba(0, 0, 0, 0.15);\n",
              "      filter: drop-shadow(0px 1px 2px rgba(0, 0, 0, 0.3));\n",
              "      fill: #FFFFFF;\n",
              "    }\n",
              "  </style>\n",
              "\n",
              "    <script>\n",
              "      const buttonEl =\n",
              "        document.querySelector('#df-f301f106-17a0-42da-9b49-9cc0e0e8f459 button.colab-df-convert');\n",
              "      buttonEl.style.display =\n",
              "        google.colab.kernel.accessAllowed ? 'block' : 'none';\n",
              "\n",
              "      async function convertToInteractive(key) {\n",
              "        const element = document.querySelector('#df-f301f106-17a0-42da-9b49-9cc0e0e8f459');\n",
              "        const dataTable =\n",
              "          await google.colab.kernel.invokeFunction('convertToInteractive',\n",
              "                                                    [key], {});\n",
              "        if (!dataTable) return;\n",
              "\n",
              "        const docLinkHtml = 'Like what you see? Visit the ' +\n",
              "          '<a target=\"_blank\" href=https://colab.research.google.com/notebooks/data_table.ipynb>data table notebook</a>'\n",
              "          + ' to learn more about interactive tables.';\n",
              "        element.innerHTML = '';\n",
              "        dataTable['output_type'] = 'display_data';\n",
              "        await google.colab.output.renderOutput(dataTable, element);\n",
              "        const docLink = document.createElement('div');\n",
              "        docLink.innerHTML = docLinkHtml;\n",
              "        element.appendChild(docLink);\n",
              "      }\n",
              "    </script>\n",
              "  </div>\n",
              "\n",
              "\n",
              "<div id=\"df-6353cf69-cb9a-44fb-ba23-cb58bfca692c\">\n",
              "  <button class=\"colab-df-quickchart\" onclick=\"quickchart('df-6353cf69-cb9a-44fb-ba23-cb58bfca692c')\"\n",
              "            title=\"Suggest charts\"\n",
              "            style=\"display:none;\">\n",
              "\n",
              "<svg xmlns=\"http://www.w3.org/2000/svg\" height=\"24px\"viewBox=\"0 0 24 24\"\n",
              "     width=\"24px\">\n",
              "    <g>\n",
              "        <path d=\"M19 3H5c-1.1 0-2 .9-2 2v14c0 1.1.9 2 2 2h14c1.1 0 2-.9 2-2V5c0-1.1-.9-2-2-2zM9 17H7v-7h2v7zm4 0h-2V7h2v10zm4 0h-2v-4h2v4z\"/>\n",
              "    </g>\n",
              "</svg>\n",
              "  </button>\n",
              "\n",
              "<style>\n",
              "  .colab-df-quickchart {\n",
              "      --bg-color: #E8F0FE;\n",
              "      --fill-color: #1967D2;\n",
              "      --hover-bg-color: #E2EBFA;\n",
              "      --hover-fill-color: #174EA6;\n",
              "      --disabled-fill-color: #AAA;\n",
              "      --disabled-bg-color: #DDD;\n",
              "  }\n",
              "\n",
              "  [theme=dark] .colab-df-quickchart {\n",
              "      --bg-color: #3B4455;\n",
              "      --fill-color: #D2E3FC;\n",
              "      --hover-bg-color: #434B5C;\n",
              "      --hover-fill-color: #FFFFFF;\n",
              "      --disabled-bg-color: #3B4455;\n",
              "      --disabled-fill-color: #666;\n",
              "  }\n",
              "\n",
              "  .colab-df-quickchart {\n",
              "    background-color: var(--bg-color);\n",
              "    border: none;\n",
              "    border-radius: 50%;\n",
              "    cursor: pointer;\n",
              "    display: none;\n",
              "    fill: var(--fill-color);\n",
              "    height: 32px;\n",
              "    padding: 0;\n",
              "    width: 32px;\n",
              "  }\n",
              "\n",
              "  .colab-df-quickchart:hover {\n",
              "    background-color: var(--hover-bg-color);\n",
              "    box-shadow: 0 1px 2px rgba(60, 64, 67, 0.3), 0 1px 3px 1px rgba(60, 64, 67, 0.15);\n",
              "    fill: var(--button-hover-fill-color);\n",
              "  }\n",
              "\n",
              "  .colab-df-quickchart-complete:disabled,\n",
              "  .colab-df-quickchart-complete:disabled:hover {\n",
              "    background-color: var(--disabled-bg-color);\n",
              "    fill: var(--disabled-fill-color);\n",
              "    box-shadow: none;\n",
              "  }\n",
              "\n",
              "  .colab-df-spinner {\n",
              "    border: 2px solid var(--fill-color);\n",
              "    border-color: transparent;\n",
              "    border-bottom-color: var(--fill-color);\n",
              "    animation:\n",
              "      spin 1s steps(1) infinite;\n",
              "  }\n",
              "\n",
              "  @keyframes spin {\n",
              "    0% {\n",
              "      border-color: transparent;\n",
              "      border-bottom-color: var(--fill-color);\n",
              "      border-left-color: var(--fill-color);\n",
              "    }\n",
              "    20% {\n",
              "      border-color: transparent;\n",
              "      border-left-color: var(--fill-color);\n",
              "      border-top-color: var(--fill-color);\n",
              "    }\n",
              "    30% {\n",
              "      border-color: transparent;\n",
              "      border-left-color: var(--fill-color);\n",
              "      border-top-color: var(--fill-color);\n",
              "      border-right-color: var(--fill-color);\n",
              "    }\n",
              "    40% {\n",
              "      border-color: transparent;\n",
              "      border-right-color: var(--fill-color);\n",
              "      border-top-color: var(--fill-color);\n",
              "    }\n",
              "    60% {\n",
              "      border-color: transparent;\n",
              "      border-right-color: var(--fill-color);\n",
              "    }\n",
              "    80% {\n",
              "      border-color: transparent;\n",
              "      border-right-color: var(--fill-color);\n",
              "      border-bottom-color: var(--fill-color);\n",
              "    }\n",
              "    90% {\n",
              "      border-color: transparent;\n",
              "      border-bottom-color: var(--fill-color);\n",
              "    }\n",
              "  }\n",
              "</style>\n",
              "\n",
              "  <script>\n",
              "    async function quickchart(key) {\n",
              "      const quickchartButtonEl =\n",
              "        document.querySelector('#' + key + ' button');\n",
              "      quickchartButtonEl.disabled = true;  // To prevent multiple clicks.\n",
              "      quickchartButtonEl.classList.add('colab-df-spinner');\n",
              "      try {\n",
              "        const charts = await google.colab.kernel.invokeFunction(\n",
              "            'suggestCharts', [key], {});\n",
              "      } catch (error) {\n",
              "        console.error('Error during call to suggestCharts:', error);\n",
              "      }\n",
              "      quickchartButtonEl.classList.remove('colab-df-spinner');\n",
              "      quickchartButtonEl.classList.add('colab-df-quickchart-complete');\n",
              "    }\n",
              "    (() => {\n",
              "      let quickchartButtonEl =\n",
              "        document.querySelector('#df-6353cf69-cb9a-44fb-ba23-cb58bfca692c button');\n",
              "      quickchartButtonEl.style.display =\n",
              "        google.colab.kernel.accessAllowed ? 'block' : 'none';\n",
              "    })();\n",
              "  </script>\n",
              "</div>\n",
              "    </div>\n",
              "  </div>\n"
            ],
            "application/vnd.google.colaboratory.intrinsic+json": {
              "type": "dataframe",
              "variable_name": "eth_df",
              "summary": "{\n  \"name\": \"eth_df\",\n  \"rows\": 1920,\n  \"fields\": [\n    {\n      \"column\": \"Date\",\n      \"properties\": {\n        \"dtype\": \"date\",\n        \"min\": \"2019-03-01 00:00:00\",\n        \"max\": \"2024-06-01 00:00:00\",\n        \"num_unique_values\": 1920,\n        \"samples\": [\n          \"2021-09-07 00:00:00\",\n          \"2019-12-24 00:00:00\",\n          \"2022-09-29 00:00:00\"\n        ],\n        \"semantic_type\": \"\",\n        \"description\": \"\"\n      }\n    },\n    {\n      \"column\": \"Price\",\n      \"properties\": {\n        \"dtype\": \"string\",\n        \"num_unique_values\": 1900,\n        \"samples\": [\n          \"1,117.33\",\n          \"2,506.69\",\n          \"1,203.77\"\n        ],\n        \"semantic_type\": \"\",\n        \"description\": \"\"\n      }\n    },\n    {\n      \"column\": \"Open\",\n      \"properties\": {\n        \"dtype\": \"string\",\n        \"num_unique_values\": 1900,\n        \"samples\": [\n          \"1,118.01\",\n          \"2,500.28\",\n          \"1,185.70\"\n        ],\n        \"semantic_type\": \"\",\n        \"description\": \"\"\n      }\n    },\n    {\n      \"column\": \"High\",\n      \"properties\": {\n        \"dtype\": \"string\",\n        \"num_unique_values\": 1909,\n        \"samples\": [\n          \"229.80\",\n          \"2,537.85\",\n          \"160.28\"\n        ],\n        \"semantic_type\": \"\",\n        \"description\": \"\"\n      }\n    },\n    {\n      \"column\": \"Low\",\n      \"properties\": {\n        \"dtype\": \"string\",\n        \"num_unique_values\": 1908,\n        \"samples\": [\n          \"223.79\",\n          \"2,493.83\",\n          \"167.03\"\n        ],\n        \"semantic_type\": \"\",\n        \"description\": \"\"\n      }\n    },\n    {\n      \"column\": \"Vol.\",\n      \"properties\": {\n        \"dtype\": \"number\",\n        \"std\": 112208076.64132501,\n        \"min\": 27030.0,\n        \"max\": 1790000000.0,\n        \"num_unique_values\": 1613,\n        \"samples\": [\n          381950.0,\n          194290.0,\n          229740.0\n        ],\n        \"semantic_type\": \"\",\n        \"description\": \"\"\n      }\n    },\n    {\n      \"column\": \"Change %\",\n      \"properties\": {\n        \"dtype\": \"number\",\n        \"std\": 0.04447354266892567,\n        \"min\": -0.44549999999999995,\n        \"max\": 0.2596,\n        \"num_unique_values\": 1042,\n        \"samples\": [\n          -0.0199,\n          -0.0123,\n          0.0362\n        ],\n        \"semantic_type\": \"\",\n        \"description\": \"\"\n      }\n    }\n  ]\n}"
            }
          },
          "metadata": {},
          "execution_count": 99
        }
      ]
    },
    {
      "cell_type": "markdown",
      "source": [
        "###Descriptive Analysis"
      ],
      "metadata": {
        "id": "cv8peQcFnTkA"
      }
    },
    {
      "cell_type": "code",
      "source": [
        "eth_df.describe()\n"
      ],
      "metadata": {
        "colab": {
          "base_uri": "https://localhost:8080/",
          "height": 300
        },
        "id": "X_-1mjLVq7aD",
        "outputId": "d7463d8f-0b4a-4dfb-c56d-ecf5992d27b7"
      },
      "execution_count": 100,
      "outputs": [
        {
          "output_type": "execute_result",
          "data": {
            "text/plain": [
              "               Vol.     Change %\n",
              "count  1.920000e+03  1920.000000\n",
              "mean   1.454516e+07     0.002749\n",
              "std    1.122081e+08     0.044474\n",
              "min    2.703000e+04    -0.445500\n",
              "25%    4.808800e+05    -0.017600\n",
              "50%    1.165000e+06     0.001400\n",
              "75%    8.500000e+06     0.022925\n",
              "max    1.790000e+09     0.259600"
            ],
            "text/html": [
              "\n",
              "  <div id=\"df-19fe4d26-135e-40bb-b0c4-5e37d82344d5\" class=\"colab-df-container\">\n",
              "    <div>\n",
              "<style scoped>\n",
              "    .dataframe tbody tr th:only-of-type {\n",
              "        vertical-align: middle;\n",
              "    }\n",
              "\n",
              "    .dataframe tbody tr th {\n",
              "        vertical-align: top;\n",
              "    }\n",
              "\n",
              "    .dataframe thead th {\n",
              "        text-align: right;\n",
              "    }\n",
              "</style>\n",
              "<table border=\"1\" class=\"dataframe\">\n",
              "  <thead>\n",
              "    <tr style=\"text-align: right;\">\n",
              "      <th></th>\n",
              "      <th>Vol.</th>\n",
              "      <th>Change %</th>\n",
              "    </tr>\n",
              "  </thead>\n",
              "  <tbody>\n",
              "    <tr>\n",
              "      <th>count</th>\n",
              "      <td>1.920000e+03</td>\n",
              "      <td>1920.000000</td>\n",
              "    </tr>\n",
              "    <tr>\n",
              "      <th>mean</th>\n",
              "      <td>1.454516e+07</td>\n",
              "      <td>0.002749</td>\n",
              "    </tr>\n",
              "    <tr>\n",
              "      <th>std</th>\n",
              "      <td>1.122081e+08</td>\n",
              "      <td>0.044474</td>\n",
              "    </tr>\n",
              "    <tr>\n",
              "      <th>min</th>\n",
              "      <td>2.703000e+04</td>\n",
              "      <td>-0.445500</td>\n",
              "    </tr>\n",
              "    <tr>\n",
              "      <th>25%</th>\n",
              "      <td>4.808800e+05</td>\n",
              "      <td>-0.017600</td>\n",
              "    </tr>\n",
              "    <tr>\n",
              "      <th>50%</th>\n",
              "      <td>1.165000e+06</td>\n",
              "      <td>0.001400</td>\n",
              "    </tr>\n",
              "    <tr>\n",
              "      <th>75%</th>\n",
              "      <td>8.500000e+06</td>\n",
              "      <td>0.022925</td>\n",
              "    </tr>\n",
              "    <tr>\n",
              "      <th>max</th>\n",
              "      <td>1.790000e+09</td>\n",
              "      <td>0.259600</td>\n",
              "    </tr>\n",
              "  </tbody>\n",
              "</table>\n",
              "</div>\n",
              "    <div class=\"colab-df-buttons\">\n",
              "\n",
              "  <div class=\"colab-df-container\">\n",
              "    <button class=\"colab-df-convert\" onclick=\"convertToInteractive('df-19fe4d26-135e-40bb-b0c4-5e37d82344d5')\"\n",
              "            title=\"Convert this dataframe to an interactive table.\"\n",
              "            style=\"display:none;\">\n",
              "\n",
              "  <svg xmlns=\"http://www.w3.org/2000/svg\" height=\"24px\" viewBox=\"0 -960 960 960\">\n",
              "    <path d=\"M120-120v-720h720v720H120Zm60-500h600v-160H180v160Zm220 220h160v-160H400v160Zm0 220h160v-160H400v160ZM180-400h160v-160H180v160Zm440 0h160v-160H620v160ZM180-180h160v-160H180v160Zm440 0h160v-160H620v160Z\"/>\n",
              "  </svg>\n",
              "    </button>\n",
              "\n",
              "  <style>\n",
              "    .colab-df-container {\n",
              "      display:flex;\n",
              "      gap: 12px;\n",
              "    }\n",
              "\n",
              "    .colab-df-convert {\n",
              "      background-color: #E8F0FE;\n",
              "      border: none;\n",
              "      border-radius: 50%;\n",
              "      cursor: pointer;\n",
              "      display: none;\n",
              "      fill: #1967D2;\n",
              "      height: 32px;\n",
              "      padding: 0 0 0 0;\n",
              "      width: 32px;\n",
              "    }\n",
              "\n",
              "    .colab-df-convert:hover {\n",
              "      background-color: #E2EBFA;\n",
              "      box-shadow: 0px 1px 2px rgba(60, 64, 67, 0.3), 0px 1px 3px 1px rgba(60, 64, 67, 0.15);\n",
              "      fill: #174EA6;\n",
              "    }\n",
              "\n",
              "    .colab-df-buttons div {\n",
              "      margin-bottom: 4px;\n",
              "    }\n",
              "\n",
              "    [theme=dark] .colab-df-convert {\n",
              "      background-color: #3B4455;\n",
              "      fill: #D2E3FC;\n",
              "    }\n",
              "\n",
              "    [theme=dark] .colab-df-convert:hover {\n",
              "      background-color: #434B5C;\n",
              "      box-shadow: 0px 1px 3px 1px rgba(0, 0, 0, 0.15);\n",
              "      filter: drop-shadow(0px 1px 2px rgba(0, 0, 0, 0.3));\n",
              "      fill: #FFFFFF;\n",
              "    }\n",
              "  </style>\n",
              "\n",
              "    <script>\n",
              "      const buttonEl =\n",
              "        document.querySelector('#df-19fe4d26-135e-40bb-b0c4-5e37d82344d5 button.colab-df-convert');\n",
              "      buttonEl.style.display =\n",
              "        google.colab.kernel.accessAllowed ? 'block' : 'none';\n",
              "\n",
              "      async function convertToInteractive(key) {\n",
              "        const element = document.querySelector('#df-19fe4d26-135e-40bb-b0c4-5e37d82344d5');\n",
              "        const dataTable =\n",
              "          await google.colab.kernel.invokeFunction('convertToInteractive',\n",
              "                                                    [key], {});\n",
              "        if (!dataTable) return;\n",
              "\n",
              "        const docLinkHtml = 'Like what you see? Visit the ' +\n",
              "          '<a target=\"_blank\" href=https://colab.research.google.com/notebooks/data_table.ipynb>data table notebook</a>'\n",
              "          + ' to learn more about interactive tables.';\n",
              "        element.innerHTML = '';\n",
              "        dataTable['output_type'] = 'display_data';\n",
              "        await google.colab.output.renderOutput(dataTable, element);\n",
              "        const docLink = document.createElement('div');\n",
              "        docLink.innerHTML = docLinkHtml;\n",
              "        element.appendChild(docLink);\n",
              "      }\n",
              "    </script>\n",
              "  </div>\n",
              "\n",
              "\n",
              "<div id=\"df-0efeb2fd-150c-46f4-8c2a-07b19eef2680\">\n",
              "  <button class=\"colab-df-quickchart\" onclick=\"quickchart('df-0efeb2fd-150c-46f4-8c2a-07b19eef2680')\"\n",
              "            title=\"Suggest charts\"\n",
              "            style=\"display:none;\">\n",
              "\n",
              "<svg xmlns=\"http://www.w3.org/2000/svg\" height=\"24px\"viewBox=\"0 0 24 24\"\n",
              "     width=\"24px\">\n",
              "    <g>\n",
              "        <path d=\"M19 3H5c-1.1 0-2 .9-2 2v14c0 1.1.9 2 2 2h14c1.1 0 2-.9 2-2V5c0-1.1-.9-2-2-2zM9 17H7v-7h2v7zm4 0h-2V7h2v10zm4 0h-2v-4h2v4z\"/>\n",
              "    </g>\n",
              "</svg>\n",
              "  </button>\n",
              "\n",
              "<style>\n",
              "  .colab-df-quickchart {\n",
              "      --bg-color: #E8F0FE;\n",
              "      --fill-color: #1967D2;\n",
              "      --hover-bg-color: #E2EBFA;\n",
              "      --hover-fill-color: #174EA6;\n",
              "      --disabled-fill-color: #AAA;\n",
              "      --disabled-bg-color: #DDD;\n",
              "  }\n",
              "\n",
              "  [theme=dark] .colab-df-quickchart {\n",
              "      --bg-color: #3B4455;\n",
              "      --fill-color: #D2E3FC;\n",
              "      --hover-bg-color: #434B5C;\n",
              "      --hover-fill-color: #FFFFFF;\n",
              "      --disabled-bg-color: #3B4455;\n",
              "      --disabled-fill-color: #666;\n",
              "  }\n",
              "\n",
              "  .colab-df-quickchart {\n",
              "    background-color: var(--bg-color);\n",
              "    border: none;\n",
              "    border-radius: 50%;\n",
              "    cursor: pointer;\n",
              "    display: none;\n",
              "    fill: var(--fill-color);\n",
              "    height: 32px;\n",
              "    padding: 0;\n",
              "    width: 32px;\n",
              "  }\n",
              "\n",
              "  .colab-df-quickchart:hover {\n",
              "    background-color: var(--hover-bg-color);\n",
              "    box-shadow: 0 1px 2px rgba(60, 64, 67, 0.3), 0 1px 3px 1px rgba(60, 64, 67, 0.15);\n",
              "    fill: var(--button-hover-fill-color);\n",
              "  }\n",
              "\n",
              "  .colab-df-quickchart-complete:disabled,\n",
              "  .colab-df-quickchart-complete:disabled:hover {\n",
              "    background-color: var(--disabled-bg-color);\n",
              "    fill: var(--disabled-fill-color);\n",
              "    box-shadow: none;\n",
              "  }\n",
              "\n",
              "  .colab-df-spinner {\n",
              "    border: 2px solid var(--fill-color);\n",
              "    border-color: transparent;\n",
              "    border-bottom-color: var(--fill-color);\n",
              "    animation:\n",
              "      spin 1s steps(1) infinite;\n",
              "  }\n",
              "\n",
              "  @keyframes spin {\n",
              "    0% {\n",
              "      border-color: transparent;\n",
              "      border-bottom-color: var(--fill-color);\n",
              "      border-left-color: var(--fill-color);\n",
              "    }\n",
              "    20% {\n",
              "      border-color: transparent;\n",
              "      border-left-color: var(--fill-color);\n",
              "      border-top-color: var(--fill-color);\n",
              "    }\n",
              "    30% {\n",
              "      border-color: transparent;\n",
              "      border-left-color: var(--fill-color);\n",
              "      border-top-color: var(--fill-color);\n",
              "      border-right-color: var(--fill-color);\n",
              "    }\n",
              "    40% {\n",
              "      border-color: transparent;\n",
              "      border-right-color: var(--fill-color);\n",
              "      border-top-color: var(--fill-color);\n",
              "    }\n",
              "    60% {\n",
              "      border-color: transparent;\n",
              "      border-right-color: var(--fill-color);\n",
              "    }\n",
              "    80% {\n",
              "      border-color: transparent;\n",
              "      border-right-color: var(--fill-color);\n",
              "      border-bottom-color: var(--fill-color);\n",
              "    }\n",
              "    90% {\n",
              "      border-color: transparent;\n",
              "      border-bottom-color: var(--fill-color);\n",
              "    }\n",
              "  }\n",
              "</style>\n",
              "\n",
              "  <script>\n",
              "    async function quickchart(key) {\n",
              "      const quickchartButtonEl =\n",
              "        document.querySelector('#' + key + ' button');\n",
              "      quickchartButtonEl.disabled = true;  // To prevent multiple clicks.\n",
              "      quickchartButtonEl.classList.add('colab-df-spinner');\n",
              "      try {\n",
              "        const charts = await google.colab.kernel.invokeFunction(\n",
              "            'suggestCharts', [key], {});\n",
              "      } catch (error) {\n",
              "        console.error('Error during call to suggestCharts:', error);\n",
              "      }\n",
              "      quickchartButtonEl.classList.remove('colab-df-spinner');\n",
              "      quickchartButtonEl.classList.add('colab-df-quickchart-complete');\n",
              "    }\n",
              "    (() => {\n",
              "      let quickchartButtonEl =\n",
              "        document.querySelector('#df-0efeb2fd-150c-46f4-8c2a-07b19eef2680 button');\n",
              "      quickchartButtonEl.style.display =\n",
              "        google.colab.kernel.accessAllowed ? 'block' : 'none';\n",
              "    })();\n",
              "  </script>\n",
              "</div>\n",
              "    </div>\n",
              "  </div>\n"
            ],
            "application/vnd.google.colaboratory.intrinsic+json": {
              "type": "dataframe",
              "summary": "{\n  \"name\": \"eth_df\",\n  \"rows\": 8,\n  \"fields\": [\n    {\n      \"column\": \"Vol.\",\n      \"properties\": {\n        \"dtype\": \"number\",\n        \"std\": 627107256.9335763,\n        \"min\": 1920.0,\n        \"max\": 1790000000.0,\n        \"num_unique_values\": 8,\n        \"samples\": [\n          14545159.348958334,\n          1165000.0,\n          1920.0\n        ],\n        \"semantic_type\": \"\",\n        \"description\": \"\"\n      }\n    },\n    {\n      \"column\": \"Change %\",\n      \"properties\": {\n        \"dtype\": \"number\",\n        \"std\": 678.8292025358536,\n        \"min\": -0.44549999999999995,\n        \"max\": 1920.0,\n        \"num_unique_values\": 8,\n        \"samples\": [\n          0.002749375,\n          0.0014000000000000002,\n          1920.0\n        ],\n        \"semantic_type\": \"\",\n        \"description\": \"\"\n      }\n    }\n  ]\n}"
            }
          },
          "metadata": {},
          "execution_count": 100
        }
      ]
    },
    {
      "cell_type": "code",
      "source": [
        "eth_df['Price'] = eth_df['Price'].str.replace(',', '').astype(float)\n",
        "eth_df['Open'] = eth_df['Open'].str.replace(',', '').astype(float)\n",
        "eth_df['High'] =eth_df['High'].str.replace(',', '').astype(float)\n",
        "eth_df['Low'] = eth_df['Low'].str.replace(',', '').astype(float)\n",
        "eth_df"
      ],
      "metadata": {
        "colab": {
          "base_uri": "https://localhost:8080/",
          "height": 455
        },
        "id": "T1WuLNho3uv-",
        "outputId": "f195ebe1-0b83-4b7f-e63e-41a5f1a7e367"
      },
      "execution_count": 101,
      "outputs": [
        {
          "output_type": "execute_result",
          "data": {
            "text/plain": [
              "              Price     Open     High      Low        Vol.  Change %\n",
              "Date                                                                \n",
              "2024-06-01  3815.95  3762.63  3832.35  3753.32    143810.0    0.0142\n",
              "2024-05-31  3762.66  3747.89  3844.96  3724.57    294560.0    0.0040\n",
              "2024-05-30  3747.55  3767.22  3824.94  3703.74    293810.0   -0.0058\n",
              "2024-05-29  3769.57  3845.56  3886.44  3745.72    353250.0   -0.0198\n",
              "2024-05-28  3845.56  3894.33  3929.21  3775.08    436240.0   -0.0125\n",
              "...             ...      ...      ...      ...         ...       ...\n",
              "2019-03-05   136.82   125.97   141.11   125.44  16740000.0    0.0861\n",
              "2019-03-04   125.97   131.02   131.57   123.25  14110000.0   -0.0385\n",
              "2019-03-03   131.01   132.77   168.42   129.05  10640000.0   -0.0132\n",
              "2019-03-02   132.76   135.72   136.36   130.74  11290000.0   -0.0218\n",
              "2019-03-01   135.72   135.47   138.06   128.46   9730000.0    0.0018\n",
              "\n",
              "[1920 rows x 6 columns]"
            ],
            "text/html": [
              "\n",
              "  <div id=\"df-87ffec3a-26d4-47b9-908b-fe86fcb2e08b\" class=\"colab-df-container\">\n",
              "    <div>\n",
              "<style scoped>\n",
              "    .dataframe tbody tr th:only-of-type {\n",
              "        vertical-align: middle;\n",
              "    }\n",
              "\n",
              "    .dataframe tbody tr th {\n",
              "        vertical-align: top;\n",
              "    }\n",
              "\n",
              "    .dataframe thead th {\n",
              "        text-align: right;\n",
              "    }\n",
              "</style>\n",
              "<table border=\"1\" class=\"dataframe\">\n",
              "  <thead>\n",
              "    <tr style=\"text-align: right;\">\n",
              "      <th></th>\n",
              "      <th>Price</th>\n",
              "      <th>Open</th>\n",
              "      <th>High</th>\n",
              "      <th>Low</th>\n",
              "      <th>Vol.</th>\n",
              "      <th>Change %</th>\n",
              "    </tr>\n",
              "    <tr>\n",
              "      <th>Date</th>\n",
              "      <th></th>\n",
              "      <th></th>\n",
              "      <th></th>\n",
              "      <th></th>\n",
              "      <th></th>\n",
              "      <th></th>\n",
              "    </tr>\n",
              "  </thead>\n",
              "  <tbody>\n",
              "    <tr>\n",
              "      <th>2024-06-01</th>\n",
              "      <td>3815.95</td>\n",
              "      <td>3762.63</td>\n",
              "      <td>3832.35</td>\n",
              "      <td>3753.32</td>\n",
              "      <td>143810.0</td>\n",
              "      <td>0.0142</td>\n",
              "    </tr>\n",
              "    <tr>\n",
              "      <th>2024-05-31</th>\n",
              "      <td>3762.66</td>\n",
              "      <td>3747.89</td>\n",
              "      <td>3844.96</td>\n",
              "      <td>3724.57</td>\n",
              "      <td>294560.0</td>\n",
              "      <td>0.0040</td>\n",
              "    </tr>\n",
              "    <tr>\n",
              "      <th>2024-05-30</th>\n",
              "      <td>3747.55</td>\n",
              "      <td>3767.22</td>\n",
              "      <td>3824.94</td>\n",
              "      <td>3703.74</td>\n",
              "      <td>293810.0</td>\n",
              "      <td>-0.0058</td>\n",
              "    </tr>\n",
              "    <tr>\n",
              "      <th>2024-05-29</th>\n",
              "      <td>3769.57</td>\n",
              "      <td>3845.56</td>\n",
              "      <td>3886.44</td>\n",
              "      <td>3745.72</td>\n",
              "      <td>353250.0</td>\n",
              "      <td>-0.0198</td>\n",
              "    </tr>\n",
              "    <tr>\n",
              "      <th>2024-05-28</th>\n",
              "      <td>3845.56</td>\n",
              "      <td>3894.33</td>\n",
              "      <td>3929.21</td>\n",
              "      <td>3775.08</td>\n",
              "      <td>436240.0</td>\n",
              "      <td>-0.0125</td>\n",
              "    </tr>\n",
              "    <tr>\n",
              "      <th>...</th>\n",
              "      <td>...</td>\n",
              "      <td>...</td>\n",
              "      <td>...</td>\n",
              "      <td>...</td>\n",
              "      <td>...</td>\n",
              "      <td>...</td>\n",
              "    </tr>\n",
              "    <tr>\n",
              "      <th>2019-03-05</th>\n",
              "      <td>136.82</td>\n",
              "      <td>125.97</td>\n",
              "      <td>141.11</td>\n",
              "      <td>125.44</td>\n",
              "      <td>16740000.0</td>\n",
              "      <td>0.0861</td>\n",
              "    </tr>\n",
              "    <tr>\n",
              "      <th>2019-03-04</th>\n",
              "      <td>125.97</td>\n",
              "      <td>131.02</td>\n",
              "      <td>131.57</td>\n",
              "      <td>123.25</td>\n",
              "      <td>14110000.0</td>\n",
              "      <td>-0.0385</td>\n",
              "    </tr>\n",
              "    <tr>\n",
              "      <th>2019-03-03</th>\n",
              "      <td>131.01</td>\n",
              "      <td>132.77</td>\n",
              "      <td>168.42</td>\n",
              "      <td>129.05</td>\n",
              "      <td>10640000.0</td>\n",
              "      <td>-0.0132</td>\n",
              "    </tr>\n",
              "    <tr>\n",
              "      <th>2019-03-02</th>\n",
              "      <td>132.76</td>\n",
              "      <td>135.72</td>\n",
              "      <td>136.36</td>\n",
              "      <td>130.74</td>\n",
              "      <td>11290000.0</td>\n",
              "      <td>-0.0218</td>\n",
              "    </tr>\n",
              "    <tr>\n",
              "      <th>2019-03-01</th>\n",
              "      <td>135.72</td>\n",
              "      <td>135.47</td>\n",
              "      <td>138.06</td>\n",
              "      <td>128.46</td>\n",
              "      <td>9730000.0</td>\n",
              "      <td>0.0018</td>\n",
              "    </tr>\n",
              "  </tbody>\n",
              "</table>\n",
              "<p>1920 rows × 6 columns</p>\n",
              "</div>\n",
              "    <div class=\"colab-df-buttons\">\n",
              "\n",
              "  <div class=\"colab-df-container\">\n",
              "    <button class=\"colab-df-convert\" onclick=\"convertToInteractive('df-87ffec3a-26d4-47b9-908b-fe86fcb2e08b')\"\n",
              "            title=\"Convert this dataframe to an interactive table.\"\n",
              "            style=\"display:none;\">\n",
              "\n",
              "  <svg xmlns=\"http://www.w3.org/2000/svg\" height=\"24px\" viewBox=\"0 -960 960 960\">\n",
              "    <path d=\"M120-120v-720h720v720H120Zm60-500h600v-160H180v160Zm220 220h160v-160H400v160Zm0 220h160v-160H400v160ZM180-400h160v-160H180v160Zm440 0h160v-160H620v160ZM180-180h160v-160H180v160Zm440 0h160v-160H620v160Z\"/>\n",
              "  </svg>\n",
              "    </button>\n",
              "\n",
              "  <style>\n",
              "    .colab-df-container {\n",
              "      display:flex;\n",
              "      gap: 12px;\n",
              "    }\n",
              "\n",
              "    .colab-df-convert {\n",
              "      background-color: #E8F0FE;\n",
              "      border: none;\n",
              "      border-radius: 50%;\n",
              "      cursor: pointer;\n",
              "      display: none;\n",
              "      fill: #1967D2;\n",
              "      height: 32px;\n",
              "      padding: 0 0 0 0;\n",
              "      width: 32px;\n",
              "    }\n",
              "\n",
              "    .colab-df-convert:hover {\n",
              "      background-color: #E2EBFA;\n",
              "      box-shadow: 0px 1px 2px rgba(60, 64, 67, 0.3), 0px 1px 3px 1px rgba(60, 64, 67, 0.15);\n",
              "      fill: #174EA6;\n",
              "    }\n",
              "\n",
              "    .colab-df-buttons div {\n",
              "      margin-bottom: 4px;\n",
              "    }\n",
              "\n",
              "    [theme=dark] .colab-df-convert {\n",
              "      background-color: #3B4455;\n",
              "      fill: #D2E3FC;\n",
              "    }\n",
              "\n",
              "    [theme=dark] .colab-df-convert:hover {\n",
              "      background-color: #434B5C;\n",
              "      box-shadow: 0px 1px 3px 1px rgba(0, 0, 0, 0.15);\n",
              "      filter: drop-shadow(0px 1px 2px rgba(0, 0, 0, 0.3));\n",
              "      fill: #FFFFFF;\n",
              "    }\n",
              "  </style>\n",
              "\n",
              "    <script>\n",
              "      const buttonEl =\n",
              "        document.querySelector('#df-87ffec3a-26d4-47b9-908b-fe86fcb2e08b button.colab-df-convert');\n",
              "      buttonEl.style.display =\n",
              "        google.colab.kernel.accessAllowed ? 'block' : 'none';\n",
              "\n",
              "      async function convertToInteractive(key) {\n",
              "        const element = document.querySelector('#df-87ffec3a-26d4-47b9-908b-fe86fcb2e08b');\n",
              "        const dataTable =\n",
              "          await google.colab.kernel.invokeFunction('convertToInteractive',\n",
              "                                                    [key], {});\n",
              "        if (!dataTable) return;\n",
              "\n",
              "        const docLinkHtml = 'Like what you see? Visit the ' +\n",
              "          '<a target=\"_blank\" href=https://colab.research.google.com/notebooks/data_table.ipynb>data table notebook</a>'\n",
              "          + ' to learn more about interactive tables.';\n",
              "        element.innerHTML = '';\n",
              "        dataTable['output_type'] = 'display_data';\n",
              "        await google.colab.output.renderOutput(dataTable, element);\n",
              "        const docLink = document.createElement('div');\n",
              "        docLink.innerHTML = docLinkHtml;\n",
              "        element.appendChild(docLink);\n",
              "      }\n",
              "    </script>\n",
              "  </div>\n",
              "\n",
              "\n",
              "<div id=\"df-6e1f4c3d-e3b7-4558-be50-34cd2d9f595e\">\n",
              "  <button class=\"colab-df-quickchart\" onclick=\"quickchart('df-6e1f4c3d-e3b7-4558-be50-34cd2d9f595e')\"\n",
              "            title=\"Suggest charts\"\n",
              "            style=\"display:none;\">\n",
              "\n",
              "<svg xmlns=\"http://www.w3.org/2000/svg\" height=\"24px\"viewBox=\"0 0 24 24\"\n",
              "     width=\"24px\">\n",
              "    <g>\n",
              "        <path d=\"M19 3H5c-1.1 0-2 .9-2 2v14c0 1.1.9 2 2 2h14c1.1 0 2-.9 2-2V5c0-1.1-.9-2-2-2zM9 17H7v-7h2v7zm4 0h-2V7h2v10zm4 0h-2v-4h2v4z\"/>\n",
              "    </g>\n",
              "</svg>\n",
              "  </button>\n",
              "\n",
              "<style>\n",
              "  .colab-df-quickchart {\n",
              "      --bg-color: #E8F0FE;\n",
              "      --fill-color: #1967D2;\n",
              "      --hover-bg-color: #E2EBFA;\n",
              "      --hover-fill-color: #174EA6;\n",
              "      --disabled-fill-color: #AAA;\n",
              "      --disabled-bg-color: #DDD;\n",
              "  }\n",
              "\n",
              "  [theme=dark] .colab-df-quickchart {\n",
              "      --bg-color: #3B4455;\n",
              "      --fill-color: #D2E3FC;\n",
              "      --hover-bg-color: #434B5C;\n",
              "      --hover-fill-color: #FFFFFF;\n",
              "      --disabled-bg-color: #3B4455;\n",
              "      --disabled-fill-color: #666;\n",
              "  }\n",
              "\n",
              "  .colab-df-quickchart {\n",
              "    background-color: var(--bg-color);\n",
              "    border: none;\n",
              "    border-radius: 50%;\n",
              "    cursor: pointer;\n",
              "    display: none;\n",
              "    fill: var(--fill-color);\n",
              "    height: 32px;\n",
              "    padding: 0;\n",
              "    width: 32px;\n",
              "  }\n",
              "\n",
              "  .colab-df-quickchart:hover {\n",
              "    background-color: var(--hover-bg-color);\n",
              "    box-shadow: 0 1px 2px rgba(60, 64, 67, 0.3), 0 1px 3px 1px rgba(60, 64, 67, 0.15);\n",
              "    fill: var(--button-hover-fill-color);\n",
              "  }\n",
              "\n",
              "  .colab-df-quickchart-complete:disabled,\n",
              "  .colab-df-quickchart-complete:disabled:hover {\n",
              "    background-color: var(--disabled-bg-color);\n",
              "    fill: var(--disabled-fill-color);\n",
              "    box-shadow: none;\n",
              "  }\n",
              "\n",
              "  .colab-df-spinner {\n",
              "    border: 2px solid var(--fill-color);\n",
              "    border-color: transparent;\n",
              "    border-bottom-color: var(--fill-color);\n",
              "    animation:\n",
              "      spin 1s steps(1) infinite;\n",
              "  }\n",
              "\n",
              "  @keyframes spin {\n",
              "    0% {\n",
              "      border-color: transparent;\n",
              "      border-bottom-color: var(--fill-color);\n",
              "      border-left-color: var(--fill-color);\n",
              "    }\n",
              "    20% {\n",
              "      border-color: transparent;\n",
              "      border-left-color: var(--fill-color);\n",
              "      border-top-color: var(--fill-color);\n",
              "    }\n",
              "    30% {\n",
              "      border-color: transparent;\n",
              "      border-left-color: var(--fill-color);\n",
              "      border-top-color: var(--fill-color);\n",
              "      border-right-color: var(--fill-color);\n",
              "    }\n",
              "    40% {\n",
              "      border-color: transparent;\n",
              "      border-right-color: var(--fill-color);\n",
              "      border-top-color: var(--fill-color);\n",
              "    }\n",
              "    60% {\n",
              "      border-color: transparent;\n",
              "      border-right-color: var(--fill-color);\n",
              "    }\n",
              "    80% {\n",
              "      border-color: transparent;\n",
              "      border-right-color: var(--fill-color);\n",
              "      border-bottom-color: var(--fill-color);\n",
              "    }\n",
              "    90% {\n",
              "      border-color: transparent;\n",
              "      border-bottom-color: var(--fill-color);\n",
              "    }\n",
              "  }\n",
              "</style>\n",
              "\n",
              "  <script>\n",
              "    async function quickchart(key) {\n",
              "      const quickchartButtonEl =\n",
              "        document.querySelector('#' + key + ' button');\n",
              "      quickchartButtonEl.disabled = true;  // To prevent multiple clicks.\n",
              "      quickchartButtonEl.classList.add('colab-df-spinner');\n",
              "      try {\n",
              "        const charts = await google.colab.kernel.invokeFunction(\n",
              "            'suggestCharts', [key], {});\n",
              "      } catch (error) {\n",
              "        console.error('Error during call to suggestCharts:', error);\n",
              "      }\n",
              "      quickchartButtonEl.classList.remove('colab-df-spinner');\n",
              "      quickchartButtonEl.classList.add('colab-df-quickchart-complete');\n",
              "    }\n",
              "    (() => {\n",
              "      let quickchartButtonEl =\n",
              "        document.querySelector('#df-6e1f4c3d-e3b7-4558-be50-34cd2d9f595e button');\n",
              "      quickchartButtonEl.style.display =\n",
              "        google.colab.kernel.accessAllowed ? 'block' : 'none';\n",
              "    })();\n",
              "  </script>\n",
              "</div>\n",
              "    </div>\n",
              "  </div>\n"
            ],
            "application/vnd.google.colaboratory.intrinsic+json": {
              "type": "dataframe",
              "variable_name": "eth_df",
              "summary": "{\n  \"name\": \"eth_df\",\n  \"rows\": 1920,\n  \"fields\": [\n    {\n      \"column\": \"Date\",\n      \"properties\": {\n        \"dtype\": \"date\",\n        \"min\": \"2019-03-01 00:00:00\",\n        \"max\": \"2024-06-01 00:00:00\",\n        \"num_unique_values\": 1920,\n        \"samples\": [\n          \"2021-09-07 00:00:00\",\n          \"2019-12-24 00:00:00\",\n          \"2022-09-29 00:00:00\"\n        ],\n        \"semantic_type\": \"\",\n        \"description\": \"\"\n      }\n    },\n    {\n      \"column\": \"Price\",\n      \"properties\": {\n        \"dtype\": \"number\",\n        \"std\": 1205.8617192638408,\n        \"min\": 107.9,\n        \"max\": 4808.38,\n        \"num_unique_values\": 1900,\n        \"samples\": [\n          1117.33,\n          2506.69,\n          1203.77\n        ],\n        \"semantic_type\": \"\",\n        \"description\": \"\"\n      }\n    },\n    {\n      \"column\": \"Open\",\n      \"properties\": {\n        \"dtype\": \"number\",\n        \"std\": 1205.2290056329853,\n        \"min\": 107.87,\n        \"max\": 4808.34,\n        \"num_unique_values\": 1900,\n        \"samples\": [\n          1118.01,\n          2500.28,\n          1185.7\n        ],\n        \"semantic_type\": \"\",\n        \"description\": \"\"\n      }\n    },\n    {\n      \"column\": \"High\",\n      \"properties\": {\n        \"dtype\": \"number\",\n        \"std\": 1239.7880333126684,\n        \"min\": 117.91,\n        \"max\": 4864.06,\n        \"num_unique_values\": 1909,\n        \"samples\": [\n          229.8,\n          2537.85,\n          160.28\n        ],\n        \"semantic_type\": \"\",\n        \"description\": \"\"\n      }\n    },\n    {\n      \"column\": \"Low\",\n      \"properties\": {\n        \"dtype\": \"number\",\n        \"std\": 1166.0979301552745,\n        \"min\": 88.5,\n        \"max\": 4715.43,\n        \"num_unique_values\": 1908,\n        \"samples\": [\n          223.79,\n          2493.83,\n          167.03\n        ],\n        \"semantic_type\": \"\",\n        \"description\": \"\"\n      }\n    },\n    {\n      \"column\": \"Vol.\",\n      \"properties\": {\n        \"dtype\": \"number\",\n        \"std\": 112208076.64132501,\n        \"min\": 27030.0,\n        \"max\": 1790000000.0,\n        \"num_unique_values\": 1613,\n        \"samples\": [\n          381950.0,\n          194290.0,\n          229740.0\n        ],\n        \"semantic_type\": \"\",\n        \"description\": \"\"\n      }\n    },\n    {\n      \"column\": \"Change %\",\n      \"properties\": {\n        \"dtype\": \"number\",\n        \"std\": 0.04447354266892567,\n        \"min\": -0.44549999999999995,\n        \"max\": 0.2596,\n        \"num_unique_values\": 1042,\n        \"samples\": [\n          -0.0199,\n          -0.0123,\n          0.0362\n        ],\n        \"semantic_type\": \"\",\n        \"description\": \"\"\n      }\n    }\n  ]\n}"
            }
          },
          "metadata": {},
          "execution_count": 101
        }
      ]
    },
    {
      "cell_type": "code",
      "source": [
        "eth_description = eth_df.describe()\n",
        "eth_description"
      ],
      "metadata": {
        "colab": {
          "base_uri": "https://localhost:8080/",
          "height": 300
        },
        "id": "tVzHtzW9M0w2",
        "outputId": "72ee42ba-83f4-4065-9050-df314b32c9bb"
      },
      "execution_count": 102,
      "outputs": [
        {
          "output_type": "execute_result",
          "data": {
            "text/plain": [
              "             Price         Open         High          Low          Vol.  \\\n",
              "count  1920.000000  1920.000000  1920.000000  1920.000000  1.920000e+03   \n",
              "mean   1580.443599  1578.543557  1623.758177  1529.572755  1.454516e+07   \n",
              "std    1205.861719  1205.229006  1239.788033  1166.097930  1.122081e+08   \n",
              "min     107.900000   107.870000   117.910000    88.500000  2.703000e+04   \n",
              "25%     268.945000   268.717500   278.095000   262.277500  4.808800e+05   \n",
              "50%    1622.465000  1620.975000  1654.210000  1569.740000  1.165000e+06   \n",
              "75%    2334.242500  2331.202500  2393.075000  2255.137500  8.500000e+06   \n",
              "max    4808.380000  4808.340000  4864.060000  4715.430000  1.790000e+09   \n",
              "\n",
              "          Change %  \n",
              "count  1920.000000  \n",
              "mean      0.002749  \n",
              "std       0.044474  \n",
              "min      -0.445500  \n",
              "25%      -0.017600  \n",
              "50%       0.001400  \n",
              "75%       0.022925  \n",
              "max       0.259600  "
            ],
            "text/html": [
              "\n",
              "  <div id=\"df-f4dc8c79-aee4-421f-8d0c-405054affbb2\" class=\"colab-df-container\">\n",
              "    <div>\n",
              "<style scoped>\n",
              "    .dataframe tbody tr th:only-of-type {\n",
              "        vertical-align: middle;\n",
              "    }\n",
              "\n",
              "    .dataframe tbody tr th {\n",
              "        vertical-align: top;\n",
              "    }\n",
              "\n",
              "    .dataframe thead th {\n",
              "        text-align: right;\n",
              "    }\n",
              "</style>\n",
              "<table border=\"1\" class=\"dataframe\">\n",
              "  <thead>\n",
              "    <tr style=\"text-align: right;\">\n",
              "      <th></th>\n",
              "      <th>Price</th>\n",
              "      <th>Open</th>\n",
              "      <th>High</th>\n",
              "      <th>Low</th>\n",
              "      <th>Vol.</th>\n",
              "      <th>Change %</th>\n",
              "    </tr>\n",
              "  </thead>\n",
              "  <tbody>\n",
              "    <tr>\n",
              "      <th>count</th>\n",
              "      <td>1920.000000</td>\n",
              "      <td>1920.000000</td>\n",
              "      <td>1920.000000</td>\n",
              "      <td>1920.000000</td>\n",
              "      <td>1.920000e+03</td>\n",
              "      <td>1920.000000</td>\n",
              "    </tr>\n",
              "    <tr>\n",
              "      <th>mean</th>\n",
              "      <td>1580.443599</td>\n",
              "      <td>1578.543557</td>\n",
              "      <td>1623.758177</td>\n",
              "      <td>1529.572755</td>\n",
              "      <td>1.454516e+07</td>\n",
              "      <td>0.002749</td>\n",
              "    </tr>\n",
              "    <tr>\n",
              "      <th>std</th>\n",
              "      <td>1205.861719</td>\n",
              "      <td>1205.229006</td>\n",
              "      <td>1239.788033</td>\n",
              "      <td>1166.097930</td>\n",
              "      <td>1.122081e+08</td>\n",
              "      <td>0.044474</td>\n",
              "    </tr>\n",
              "    <tr>\n",
              "      <th>min</th>\n",
              "      <td>107.900000</td>\n",
              "      <td>107.870000</td>\n",
              "      <td>117.910000</td>\n",
              "      <td>88.500000</td>\n",
              "      <td>2.703000e+04</td>\n",
              "      <td>-0.445500</td>\n",
              "    </tr>\n",
              "    <tr>\n",
              "      <th>25%</th>\n",
              "      <td>268.945000</td>\n",
              "      <td>268.717500</td>\n",
              "      <td>278.095000</td>\n",
              "      <td>262.277500</td>\n",
              "      <td>4.808800e+05</td>\n",
              "      <td>-0.017600</td>\n",
              "    </tr>\n",
              "    <tr>\n",
              "      <th>50%</th>\n",
              "      <td>1622.465000</td>\n",
              "      <td>1620.975000</td>\n",
              "      <td>1654.210000</td>\n",
              "      <td>1569.740000</td>\n",
              "      <td>1.165000e+06</td>\n",
              "      <td>0.001400</td>\n",
              "    </tr>\n",
              "    <tr>\n",
              "      <th>75%</th>\n",
              "      <td>2334.242500</td>\n",
              "      <td>2331.202500</td>\n",
              "      <td>2393.075000</td>\n",
              "      <td>2255.137500</td>\n",
              "      <td>8.500000e+06</td>\n",
              "      <td>0.022925</td>\n",
              "    </tr>\n",
              "    <tr>\n",
              "      <th>max</th>\n",
              "      <td>4808.380000</td>\n",
              "      <td>4808.340000</td>\n",
              "      <td>4864.060000</td>\n",
              "      <td>4715.430000</td>\n",
              "      <td>1.790000e+09</td>\n",
              "      <td>0.259600</td>\n",
              "    </tr>\n",
              "  </tbody>\n",
              "</table>\n",
              "</div>\n",
              "    <div class=\"colab-df-buttons\">\n",
              "\n",
              "  <div class=\"colab-df-container\">\n",
              "    <button class=\"colab-df-convert\" onclick=\"convertToInteractive('df-f4dc8c79-aee4-421f-8d0c-405054affbb2')\"\n",
              "            title=\"Convert this dataframe to an interactive table.\"\n",
              "            style=\"display:none;\">\n",
              "\n",
              "  <svg xmlns=\"http://www.w3.org/2000/svg\" height=\"24px\" viewBox=\"0 -960 960 960\">\n",
              "    <path d=\"M120-120v-720h720v720H120Zm60-500h600v-160H180v160Zm220 220h160v-160H400v160Zm0 220h160v-160H400v160ZM180-400h160v-160H180v160Zm440 0h160v-160H620v160ZM180-180h160v-160H180v160Zm440 0h160v-160H620v160Z\"/>\n",
              "  </svg>\n",
              "    </button>\n",
              "\n",
              "  <style>\n",
              "    .colab-df-container {\n",
              "      display:flex;\n",
              "      gap: 12px;\n",
              "    }\n",
              "\n",
              "    .colab-df-convert {\n",
              "      background-color: #E8F0FE;\n",
              "      border: none;\n",
              "      border-radius: 50%;\n",
              "      cursor: pointer;\n",
              "      display: none;\n",
              "      fill: #1967D2;\n",
              "      height: 32px;\n",
              "      padding: 0 0 0 0;\n",
              "      width: 32px;\n",
              "    }\n",
              "\n",
              "    .colab-df-convert:hover {\n",
              "      background-color: #E2EBFA;\n",
              "      box-shadow: 0px 1px 2px rgba(60, 64, 67, 0.3), 0px 1px 3px 1px rgba(60, 64, 67, 0.15);\n",
              "      fill: #174EA6;\n",
              "    }\n",
              "\n",
              "    .colab-df-buttons div {\n",
              "      margin-bottom: 4px;\n",
              "    }\n",
              "\n",
              "    [theme=dark] .colab-df-convert {\n",
              "      background-color: #3B4455;\n",
              "      fill: #D2E3FC;\n",
              "    }\n",
              "\n",
              "    [theme=dark] .colab-df-convert:hover {\n",
              "      background-color: #434B5C;\n",
              "      box-shadow: 0px 1px 3px 1px rgba(0, 0, 0, 0.15);\n",
              "      filter: drop-shadow(0px 1px 2px rgba(0, 0, 0, 0.3));\n",
              "      fill: #FFFFFF;\n",
              "    }\n",
              "  </style>\n",
              "\n",
              "    <script>\n",
              "      const buttonEl =\n",
              "        document.querySelector('#df-f4dc8c79-aee4-421f-8d0c-405054affbb2 button.colab-df-convert');\n",
              "      buttonEl.style.display =\n",
              "        google.colab.kernel.accessAllowed ? 'block' : 'none';\n",
              "\n",
              "      async function convertToInteractive(key) {\n",
              "        const element = document.querySelector('#df-f4dc8c79-aee4-421f-8d0c-405054affbb2');\n",
              "        const dataTable =\n",
              "          await google.colab.kernel.invokeFunction('convertToInteractive',\n",
              "                                                    [key], {});\n",
              "        if (!dataTable) return;\n",
              "\n",
              "        const docLinkHtml = 'Like what you see? Visit the ' +\n",
              "          '<a target=\"_blank\" href=https://colab.research.google.com/notebooks/data_table.ipynb>data table notebook</a>'\n",
              "          + ' to learn more about interactive tables.';\n",
              "        element.innerHTML = '';\n",
              "        dataTable['output_type'] = 'display_data';\n",
              "        await google.colab.output.renderOutput(dataTable, element);\n",
              "        const docLink = document.createElement('div');\n",
              "        docLink.innerHTML = docLinkHtml;\n",
              "        element.appendChild(docLink);\n",
              "      }\n",
              "    </script>\n",
              "  </div>\n",
              "\n",
              "\n",
              "<div id=\"df-330a008c-662e-43e2-b10f-4f90cda99be3\">\n",
              "  <button class=\"colab-df-quickchart\" onclick=\"quickchart('df-330a008c-662e-43e2-b10f-4f90cda99be3')\"\n",
              "            title=\"Suggest charts\"\n",
              "            style=\"display:none;\">\n",
              "\n",
              "<svg xmlns=\"http://www.w3.org/2000/svg\" height=\"24px\"viewBox=\"0 0 24 24\"\n",
              "     width=\"24px\">\n",
              "    <g>\n",
              "        <path d=\"M19 3H5c-1.1 0-2 .9-2 2v14c0 1.1.9 2 2 2h14c1.1 0 2-.9 2-2V5c0-1.1-.9-2-2-2zM9 17H7v-7h2v7zm4 0h-2V7h2v10zm4 0h-2v-4h2v4z\"/>\n",
              "    </g>\n",
              "</svg>\n",
              "  </button>\n",
              "\n",
              "<style>\n",
              "  .colab-df-quickchart {\n",
              "      --bg-color: #E8F0FE;\n",
              "      --fill-color: #1967D2;\n",
              "      --hover-bg-color: #E2EBFA;\n",
              "      --hover-fill-color: #174EA6;\n",
              "      --disabled-fill-color: #AAA;\n",
              "      --disabled-bg-color: #DDD;\n",
              "  }\n",
              "\n",
              "  [theme=dark] .colab-df-quickchart {\n",
              "      --bg-color: #3B4455;\n",
              "      --fill-color: #D2E3FC;\n",
              "      --hover-bg-color: #434B5C;\n",
              "      --hover-fill-color: #FFFFFF;\n",
              "      --disabled-bg-color: #3B4455;\n",
              "      --disabled-fill-color: #666;\n",
              "  }\n",
              "\n",
              "  .colab-df-quickchart {\n",
              "    background-color: var(--bg-color);\n",
              "    border: none;\n",
              "    border-radius: 50%;\n",
              "    cursor: pointer;\n",
              "    display: none;\n",
              "    fill: var(--fill-color);\n",
              "    height: 32px;\n",
              "    padding: 0;\n",
              "    width: 32px;\n",
              "  }\n",
              "\n",
              "  .colab-df-quickchart:hover {\n",
              "    background-color: var(--hover-bg-color);\n",
              "    box-shadow: 0 1px 2px rgba(60, 64, 67, 0.3), 0 1px 3px 1px rgba(60, 64, 67, 0.15);\n",
              "    fill: var(--button-hover-fill-color);\n",
              "  }\n",
              "\n",
              "  .colab-df-quickchart-complete:disabled,\n",
              "  .colab-df-quickchart-complete:disabled:hover {\n",
              "    background-color: var(--disabled-bg-color);\n",
              "    fill: var(--disabled-fill-color);\n",
              "    box-shadow: none;\n",
              "  }\n",
              "\n",
              "  .colab-df-spinner {\n",
              "    border: 2px solid var(--fill-color);\n",
              "    border-color: transparent;\n",
              "    border-bottom-color: var(--fill-color);\n",
              "    animation:\n",
              "      spin 1s steps(1) infinite;\n",
              "  }\n",
              "\n",
              "  @keyframes spin {\n",
              "    0% {\n",
              "      border-color: transparent;\n",
              "      border-bottom-color: var(--fill-color);\n",
              "      border-left-color: var(--fill-color);\n",
              "    }\n",
              "    20% {\n",
              "      border-color: transparent;\n",
              "      border-left-color: var(--fill-color);\n",
              "      border-top-color: var(--fill-color);\n",
              "    }\n",
              "    30% {\n",
              "      border-color: transparent;\n",
              "      border-left-color: var(--fill-color);\n",
              "      border-top-color: var(--fill-color);\n",
              "      border-right-color: var(--fill-color);\n",
              "    }\n",
              "    40% {\n",
              "      border-color: transparent;\n",
              "      border-right-color: var(--fill-color);\n",
              "      border-top-color: var(--fill-color);\n",
              "    }\n",
              "    60% {\n",
              "      border-color: transparent;\n",
              "      border-right-color: var(--fill-color);\n",
              "    }\n",
              "    80% {\n",
              "      border-color: transparent;\n",
              "      border-right-color: var(--fill-color);\n",
              "      border-bottom-color: var(--fill-color);\n",
              "    }\n",
              "    90% {\n",
              "      border-color: transparent;\n",
              "      border-bottom-color: var(--fill-color);\n",
              "    }\n",
              "  }\n",
              "</style>\n",
              "\n",
              "  <script>\n",
              "    async function quickchart(key) {\n",
              "      const quickchartButtonEl =\n",
              "        document.querySelector('#' + key + ' button');\n",
              "      quickchartButtonEl.disabled = true;  // To prevent multiple clicks.\n",
              "      quickchartButtonEl.classList.add('colab-df-spinner');\n",
              "      try {\n",
              "        const charts = await google.colab.kernel.invokeFunction(\n",
              "            'suggestCharts', [key], {});\n",
              "      } catch (error) {\n",
              "        console.error('Error during call to suggestCharts:', error);\n",
              "      }\n",
              "      quickchartButtonEl.classList.remove('colab-df-spinner');\n",
              "      quickchartButtonEl.classList.add('colab-df-quickchart-complete');\n",
              "    }\n",
              "    (() => {\n",
              "      let quickchartButtonEl =\n",
              "        document.querySelector('#df-330a008c-662e-43e2-b10f-4f90cda99be3 button');\n",
              "      quickchartButtonEl.style.display =\n",
              "        google.colab.kernel.accessAllowed ? 'block' : 'none';\n",
              "    })();\n",
              "  </script>\n",
              "</div>\n",
              "    </div>\n",
              "  </div>\n"
            ],
            "application/vnd.google.colaboratory.intrinsic+json": {
              "type": "dataframe",
              "variable_name": "eth_description",
              "summary": "{\n  \"name\": \"eth_description\",\n  \"rows\": 8,\n  \"fields\": [\n    {\n      \"column\": \"Price\",\n      \"properties\": {\n        \"dtype\": \"number\",\n        \"std\": 1461.5141802828869,\n        \"min\": 107.9,\n        \"max\": 4808.38,\n        \"num_unique_values\": 8,\n        \"samples\": [\n          1580.443598958333,\n          1622.4650000000001,\n          1920.0\n        ],\n        \"semantic_type\": \"\",\n        \"description\": \"\"\n      }\n    },\n    {\n      \"column\": \"Open\",\n      \"properties\": {\n        \"dtype\": \"number\",\n        \"std\": 1461.4368608735583,\n        \"min\": 107.87,\n        \"max\": 4808.34,\n        \"num_unique_values\": 8,\n        \"samples\": [\n          1578.5435572916665,\n          1620.975,\n          1920.0\n        ],\n        \"semantic_type\": \"\",\n        \"description\": \"\"\n      }\n    },\n    {\n      \"column\": \"High\",\n      \"properties\": {\n        \"dtype\": \"number\",\n        \"std\": 1476.2129852198175,\n        \"min\": 117.91,\n        \"max\": 4864.06,\n        \"num_unique_values\": 8,\n        \"samples\": [\n          1623.7581770833335,\n          1654.21,\n          1920.0\n        ],\n        \"semantic_type\": \"\",\n        \"description\": \"\"\n      }\n    },\n    {\n      \"column\": \"Low\",\n      \"properties\": {\n        \"dtype\": \"number\",\n        \"std\": 1436.4316744025186,\n        \"min\": 88.5,\n        \"max\": 4715.43,\n        \"num_unique_values\": 8,\n        \"samples\": [\n          1529.5727552083335,\n          1569.74,\n          1920.0\n        ],\n        \"semantic_type\": \"\",\n        \"description\": \"\"\n      }\n    },\n    {\n      \"column\": \"Vol.\",\n      \"properties\": {\n        \"dtype\": \"number\",\n        \"std\": 627107256.9335763,\n        \"min\": 1920.0,\n        \"max\": 1790000000.0,\n        \"num_unique_values\": 8,\n        \"samples\": [\n          14545159.348958334,\n          1165000.0,\n          1920.0\n        ],\n        \"semantic_type\": \"\",\n        \"description\": \"\"\n      }\n    },\n    {\n      \"column\": \"Change %\",\n      \"properties\": {\n        \"dtype\": \"number\",\n        \"std\": 678.8292025358536,\n        \"min\": -0.44549999999999995,\n        \"max\": 1920.0,\n        \"num_unique_values\": 8,\n        \"samples\": [\n          0.002749375,\n          0.0014000000000000002,\n          1920.0\n        ],\n        \"semantic_type\": \"\",\n        \"description\": \"\"\n      }\n    }\n  ]\n}"
            }
          },
          "metadata": {},
          "execution_count": 102
        }
      ]
    },
    {
      "cell_type": "code",
      "source": [
        "print(\"Meadian \\t\")\n",
        "eth_df.median()"
      ],
      "metadata": {
        "colab": {
          "base_uri": "https://localhost:8080/"
        },
        "id": "04kv1IhOr6Lb",
        "outputId": "277e63ee-1486-42a8-83cd-5b75e9b3b92e"
      },
      "execution_count": 103,
      "outputs": [
        {
          "output_type": "stream",
          "name": "stdout",
          "text": [
            "Meadian \t\n"
          ]
        },
        {
          "output_type": "execute_result",
          "data": {
            "text/plain": [
              "Price       1.622465e+03\n",
              "Open        1.620975e+03\n",
              "High        1.654210e+03\n",
              "Low         1.569740e+03\n",
              "Vol.        1.165000e+06\n",
              "Change %    1.400000e-03\n",
              "dtype: float64"
            ]
          },
          "metadata": {},
          "execution_count": 103
        }
      ]
    },
    {
      "cell_type": "code",
      "source": [
        "print('Kurtosis\\t')\n",
        "eth_df.kurtosis()"
      ],
      "metadata": {
        "colab": {
          "base_uri": "https://localhost:8080/"
        },
        "id": "Avq55PofsdCP",
        "outputId": "a5bfb2ba-2489-4ac0-d67a-50a88206058b"
      },
      "execution_count": 104,
      "outputs": [
        {
          "output_type": "stream",
          "name": "stdout",
          "text": [
            "Kurtosis\t\n"
          ]
        },
        {
          "output_type": "execute_result",
          "data": {
            "text/plain": [
              "Price        -0.726134\n",
              "Open         -0.723653\n",
              "High         -0.733476\n",
              "Low          -0.729421\n",
              "Vol.        156.849436\n",
              "Change %      9.160245\n",
              "dtype: float64"
            ]
          },
          "metadata": {},
          "execution_count": 104
        }
      ]
    },
    {
      "cell_type": "code",
      "source": [
        "print('Skewness\\t')\n",
        "eth_df.skew()"
      ],
      "metadata": {
        "id": "HCFmq7kRsN4I",
        "colab": {
          "base_uri": "https://localhost:8080/"
        },
        "outputId": "b166391f-f1c9-453f-d667-c775be1f223f"
      },
      "execution_count": 105,
      "outputs": [
        {
          "output_type": "stream",
          "name": "stdout",
          "text": [
            "Skewness\t\n"
          ]
        },
        {
          "output_type": "execute_result",
          "data": {
            "text/plain": [
              "Price        0.460779\n",
              "Open         0.461996\n",
              "High         0.462121\n",
              "Low          0.454362\n",
              "Vol.        12.308683\n",
              "Change %    -0.341816\n",
              "dtype: float64"
            ]
          },
          "metadata": {},
          "execution_count": 105
        }
      ]
    },
    {
      "cell_type": "code",
      "source": [
        "# Tính toán các giá trị thống kê cột price\n",
        "variance_price = st.variance(eth_df[\"Price\"])\n",
        "std_dev_price = st.stdev(eth_df[\"Price\"])\n",
        "skewness_price = skew(eth_df[\"Price\"])\n",
        "kurtosis_price = kurtosis(eth_df[\"Price\"])\n",
        "mode_price = mode(eth_df[\"Price\"])\n",
        "\n",
        "print(\"Variance:\", variance_price)\n",
        "print(\"Standard Deviation:\", std_dev_price)\n",
        "print(\"Skewness:\", skewness_price)\n",
        "print(\"Kurtosis:\", kurtosis_price)\n",
        "print(\"Mode:\", mode_price)"
      ],
      "metadata": {
        "colab": {
          "base_uri": "https://localhost:8080/"
        },
        "id": "i0K-VCiSNPFF",
        "outputId": "7190ee4f-9eba-4eef-d334-89e5e488b948"
      },
      "execution_count": 106,
      "outputs": [
        {
          "output_type": "stream",
          "name": "stdout",
          "text": [
            "Variance: 1454102.4859859464\n",
            "Standard Deviation: 1205.861719263841\n",
            "Skewness: 0.4604188994029928\n",
            "Kurtosis: -0.7273679966545292\n",
            "Mode: ModeResult(mode=125.24, count=2)\n"
          ]
        }
      ]
    },
    {
      "cell_type": "code",
      "source": [
        "import statistics as st\n",
        "from scipy.stats import skew, kurtosis\n",
        "\n",
        "# Assuming eth_df is your DataFrame and \"Price\" is the column of interest.\n",
        "\n",
        "# Calculate variance\n",
        "variance_price = st.variance(eth_df[\"Price\"])\n",
        "\n",
        "# Calculate standard deviation\n",
        "std_dev_price = st.stdev(eth_df[\"Price\"])\n",
        "\n",
        "# Calculate skewness\n",
        "skewness_price = skew(eth_df[\"Price\"])\n",
        "\n",
        "# Calculate kurtosis\n",
        "kurtosis_price = kurtosis(eth_df[\"Price\"])\n",
        "\n",
        "# Calculate mode\n",
        "# Since mode might not be unique, we handle multiple modes using statistics.multimode\n",
        "mode_price = st.multimode(eth_df[\"Price\"])\n",
        "\n",
        "print(\"Variance:\", variance_price)\n",
        "print(\"Standard Deviation:\", std_dev_price)\n",
        "print(\"Skewness:\", skewness_price)\n",
        "print(\"Kurtosis:\", kurtosis_price)\n",
        "print(\"Mode:\", mode_price if mode_price else \"No unique mode\")\n"
      ],
      "metadata": {
        "colab": {
          "base_uri": "https://localhost:8080/"
        },
        "id": "YdpE-fSCuYWV",
        "outputId": "a9365928-b108-4776-e369-a541c037a8d6"
      },
      "execution_count": 107,
      "outputs": [
        {
          "output_type": "stream",
          "name": "stdout",
          "text": [
            "Variance: 1454102.4859859464\n",
            "Standard Deviation: 1205.861719263841\n",
            "Skewness: 0.4604188994029928\n",
            "Kurtosis: -0.7273679966545292\n",
            "Mode: [2083.09, 1647.05, 1323.41, 1818.07, 2229.53, 591.09, 241.26, 225.63, 206.62, 212.0, 196.14, 173.0, 125.24, 164.36, 137.92, 148.89, 181.11, 179.87, 163.47, 135.72]\n"
          ]
        }
      ]
    },
    {
      "cell_type": "code",
      "source": [
        "eth_df['Price'].describe()"
      ],
      "metadata": {
        "colab": {
          "base_uri": "https://localhost:8080/"
        },
        "id": "OBiTm74HsLg1",
        "outputId": "76faedd8-5681-407d-bcdb-ad05addcde2a"
      },
      "execution_count": 108,
      "outputs": [
        {
          "output_type": "execute_result",
          "data": {
            "text/plain": [
              "count    1920.000000\n",
              "mean     1580.443599\n",
              "std      1205.861719\n",
              "min       107.900000\n",
              "25%       268.945000\n",
              "50%      1622.465000\n",
              "75%      2334.242500\n",
              "max      4808.380000\n",
              "Name: Price, dtype: float64"
            ]
          },
          "metadata": {},
          "execution_count": 108
        }
      ]
    },
    {
      "cell_type": "code",
      "source": [
        "#df['Price'].plot(figsize=(10,5),color='red')\n",
        "\n",
        "plt.plot(eth_df['Price'])"
      ],
      "metadata": {
        "colab": {
          "base_uri": "https://localhost:8080/",
          "height": 449
        },
        "id": "0-hnl0ZOm9un",
        "outputId": "0c3e9f7d-173b-44ac-f289-98b524a22bbc"
      },
      "execution_count": 109,
      "outputs": [
        {
          "output_type": "execute_result",
          "data": {
            "text/plain": [
              "[<matplotlib.lines.Line2D at 0x7806300f0cd0>]"
            ]
          },
          "metadata": {},
          "execution_count": 109
        },
        {
          "output_type": "display_data",
          "data": {
            "text/plain": [
              "<Figure size 640x480 with 1 Axes>"
            ],
            "image/png": "[encoded data removed]"
          },
          "metadata": {}
        }
      ]
    },
    {
      "cell_type": "code",
      "source": [
        "plt.figure(figsize=(12, 6))\n",
        "sns.lineplot(x='Date', y='Price', data=eth_df)\n",
        "\n",
        "plt.title('Price theo Date')\n",
        "plt.xlabel('Date')\n",
        "plt.ylabel('Price')\n",
        "plt.show()"
      ],
      "metadata": {
        "colab": {
          "base_uri": "https://localhost:8080/",
          "height": 479
        },
        "id": "BW_kqlHlv-Mm",
        "outputId": "8b049c61-9ad6-46e6-93ea-2bc4f64db413"
      },
      "execution_count": 110,
      "outputs": [
        {
          "output_type": "display_data",
          "data": {
            "text/plain": [
              "<Figure size 1200x600 with 1 Axes>"
            ],
            "image/png": "[encoded data removed]"
          },
          "metadata": {}
        }
      ]
    },
    {
      "cell_type": "code",
      "source": [
        "plt.figure(figsize=(6, 4))\n",
        "sns.boxplot(data=eth_df, y='Price')\n",
        "plt.title('Box Plot of Price')\n",
        "plt.ylabel('Price')\n",
        "plt.show()"
      ],
      "metadata": {
        "colab": {
          "base_uri": "https://localhost:8080/",
          "height": 372
        },
        "id": "ld_EHtUTOtee",
        "outputId": "763d74fe-e78e-4bbb-b013-5f3cb275e85d"
      },
      "execution_count": 111,
      "outputs": [
        {
          "output_type": "display_data",
          "data": {
            "text/plain": [
              "<Figure size 600x400 with 1 Axes>"
            ],
            "image/png": "[encoded data removed]"
          },
          "metadata": {}
        }
      ]
    },
    {
      "cell_type": "code",
      "source": [
        "plt.figure()\n",
        "plt.plot(eth_df[\"Price\"], color='blue')\n",
        "plt.show()"
      ],
      "metadata": {
        "colab": {
          "base_uri": "https://localhost:8080/",
          "height": 432
        },
        "id": "5PEgP0Q1xM3x",
        "outputId": "32e6114a-6363-4180-a445-d8cdc68b7b8f"
      },
      "execution_count": 112,
      "outputs": [
        {
          "output_type": "display_data",
          "data": {
            "text/plain": [
              "<Figure size 640x480 with 1 Axes>"
            ],
            "image/png": "[encoded data removed]"
          },
          "metadata": {}
        }
      ]
    },
    {
      "cell_type": "code",
      "source": [
        "eth_df.boxplot(column=['Price'])"
      ],
      "metadata": {
        "colab": {
          "base_uri": "https://localhost:8080/",
          "height": 449
        },
        "id": "C9qkdQJRxYag",
        "outputId": "3f3faba3-e630-4304-8a79-e7eab4883c1f"
      },
      "execution_count": 113,
      "outputs": [
        {
          "output_type": "execute_result",
          "data": {
            "text/plain": [
              "<Axes: >"
            ]
          },
          "metadata": {},
          "execution_count": 113
        },
        {
          "output_type": "display_data",
          "data": {
            "text/plain": [
              "<Figure size 640x480 with 1 Axes>"
            ],
            "image/png": "[encoded data removed]"
          },
          "metadata": {}
        }
      ]
    },
    {
      "cell_type": "code",
      "source": [
        "plt.figure(figsize=(15,7))\n",
        "sns.heatmap(eth_df.corr(),annot =True,cmap=\"YlGnBu\")"
      ],
      "metadata": {
        "id": "qfdYcMdvRdym",
        "colab": {
          "base_uri": "https://localhost:8080/",
          "height": 496
        },
        "outputId": "fa78d328-c1da-41d7-db97-00d44d8facea"
      },
      "execution_count": 114,
      "outputs": [
        {
          "output_type": "execute_result",
          "data": {
            "text/plain": [
              "<Axes: >"
            ]
          },
          "metadata": {},
          "execution_count": 114
        },
        {
          "output_type": "display_data",
          "data": {
            "text/plain": [
              "<Figure size 1500x700 with 2 Axes>"
            ],
            "image/png": "[encoded data removed]"
          },
          "metadata": {}
        }
      ]
    },
    {
      "cell_type": "markdown",
      "source": [
        "### Preprocess data ###"
      ],
      "metadata": {
        "id": "rVv5YfA4vWQa"
      }
    },
    {
      "cell_type": "code",
      "source": [
        "\n",
        "eth_df['Year'] = eth_df.index.year\n",
        "eth_df['Month'] = eth_df.index.month\n",
        "eth_df['Day'] = eth_df.index.day"
      ],
      "metadata": {
        "id": "LCJz1QsIvYmR"
      },
      "execution_count": 115,
      "outputs": []
    },
    {
      "cell_type": "code",
      "source": [
        "eth_df\n"
      ],
      "metadata": {
        "colab": {
          "base_uri": "https://localhost:8080/",
          "height": 455
        },
        "id": "8id_T7TvvhYd",
        "outputId": "507b1f39-ae2b-4f7d-fc81-68f143f993db"
      },
      "execution_count": 116,
      "outputs": [
        {
          "output_type": "execute_result",
          "data": {
            "text/plain": [
              "              Price     Open     High      Low        Vol.  Change %  Year  \\\n",
              "Date                                                                         \n",
              "2024-06-01  3815.95  3762.63  3832.35  3753.32    143810.0    0.0142  2024   \n",
              "2024-05-31  3762.66  3747.89  3844.96  3724.57    294560.0    0.0040  2024   \n",
              "2024-05-30  3747.55  3767.22  3824.94  3703.74    293810.0   -0.0058  2024   \n",
              "2024-05-29  3769.57  3845.56  3886.44  3745.72    353250.0   -0.0198  2024   \n",
              "2024-05-28  3845.56  3894.33  3929.21  3775.08    436240.0   -0.0125  2024   \n",
              "...             ...      ...      ...      ...         ...       ...   ...   \n",
              "2019-03-05   136.82   125.97   141.11   125.44  16740000.0    0.0861  2019   \n",
              "2019-03-04   125.97   131.02   131.57   123.25  14110000.0   -0.0385  2019   \n",
              "2019-03-03   131.01   132.77   168.42   129.05  10640000.0   -0.0132  2019   \n",
              "2019-03-02   132.76   135.72   136.36   130.74  11290000.0   -0.0218  2019   \n",
              "2019-03-01   135.72   135.47   138.06   128.46   9730000.0    0.0018  2019   \n",
              "\n",
              "            Month  Day  \n",
              "Date                    \n",
              "2024-06-01      6    1  \n",
              "2024-05-31      5   31  \n",
              "2024-05-30      5   30  \n",
              "2024-05-29      5   29  \n",
              "2024-05-28      5   28  \n",
              "...           ...  ...  \n",
              "2019-03-05      3    5  \n",
              "2019-03-04      3    4  \n",
              "2019-03-03      3    3  \n",
              "2019-03-02      3    2  \n",
              "2019-03-01      3    1  \n",
              "\n",
              "[1920 rows x 9 columns]"
            ],
            "text/html": [
              "\n",
              "  <div id=\"df-2b94a27c-97c2-4386-b29f-738e5fb5051b\" class=\"colab-df-container\">\n",
              "    <div>\n",
              "<style scoped>\n",
              "    .dataframe tbody tr th:only-of-type {\n",
              "        vertical-align: middle;\n",
              "    }\n",
              "\n",
              "    .dataframe tbody tr th {\n",
              "        vertical-align: top;\n",
              "    }\n",
              "\n",
              "    .dataframe thead th {\n",
              "        text-align: right;\n",
              "    }\n",
              "</style>\n",
              "<table border=\"1\" class=\"dataframe\">\n",
              "  <thead>\n",
              "    <tr style=\"text-align: right;\">\n",
              "      <th></th>\n",
              "      <th>Price</th>\n",
              "      <th>Open</th>\n",
              "      <th>High</th>\n",
              "      <th>Low</th>\n",
              "      <th>Vol.</th>\n",
              "      <th>Change %</th>\n",
              "      <th>Year</th>\n",
              "      <th>Month</th>\n",
              "      <th>Day</th>\n",
              "    </tr>\n",
              "    <tr>\n",
              "      <th>Date</th>\n",
              "      <th></th>\n",
              "      <th></th>\n",
              "      <th></th>\n",
              "      <th></th>\n",
              "      <th></th>\n",
              "      <th></th>\n",
              "      <th></th>\n",
              "      <th></th>\n",
              "      <th></th>\n",
              "    </tr>\n",
              "  </thead>\n",
              "  <tbody>\n",
              "    <tr>\n",
              "      <th>2024-06-01</th>\n",
              "      <td>3815.95</td>\n",
              "      <td>3762.63</td>\n",
              "      <td>3832.35</td>\n",
              "      <td>3753.32</td>\n",
              "      <td>143810.0</td>\n",
              "      <td>0.0142</td>\n",
              "      <td>2024</td>\n",
              "      <td>6</td>\n",
              "      <td>1</td>\n",
              "    </tr>\n",
              "    <tr>\n",
              "      <th>2024-05-31</th>\n",
              "      <td>3762.66</td>\n",
              "      <td>3747.89</td>\n",
              "      <td>3844.96</td>\n",
              "      <td>3724.57</td>\n",
              "      <td>294560.0</td>\n",
              "      <td>0.0040</td>\n",
              "      <td>2024</td>\n",
              "      <td>5</td>\n",
              "      <td>31</td>\n",
              "    </tr>\n",
              "    <tr>\n",
              "      <th>2024-05-30</th>\n",
              "      <td>3747.55</td>\n",
              "      <td>3767.22</td>\n",
              "      <td>3824.94</td>\n",
              "      <td>3703.74</td>\n",
              "      <td>293810.0</td>\n",
              "      <td>-0.0058</td>\n",
              "      <td>2024</td>\n",
              "      <td>5</td>\n",
              "      <td>30</td>\n",
              "    </tr>\n",
              "    <tr>\n",
              "      <th>2024-05-29</th>\n",
              "      <td>3769.57</td>\n",
              "      <td>3845.56</td>\n",
              "      <td>3886.44</td>\n",
              "      <td>3745.72</td>\n",
              "      <td>353250.0</td>\n",
              "      <td>-0.0198</td>\n",
              "      <td>2024</td>\n",
              "      <td>5</td>\n",
              "      <td>29</td>\n",
              "    </tr>\n",
              "    <tr>\n",
              "      <th>2024-05-28</th>\n",
              "      <td>3845.56</td>\n",
              "      <td>3894.33</td>\n",
              "      <td>3929.21</td>\n",
              "      <td>3775.08</td>\n",
              "      <td>436240.0</td>\n",
              "      <td>-0.0125</td>\n",
              "      <td>2024</td>\n",
              "      <td>5</td>\n",
              "      <td>28</td>\n",
              "    </tr>\n",
              "    <tr>\n",
              "      <th>...</th>\n",
              "      <td>...</td>\n",
              "      <td>...</td>\n",
              "      <td>...</td>\n",
              "      <td>...</td>\n",
              "      <td>...</td>\n",
              "      <td>...</td>\n",
              "      <td>...</td>\n",
              "      <td>...</td>\n",
              "      <td>...</td>\n",
              "    </tr>\n",
              "    <tr>\n",
              "      <th>2019-03-05</th>\n",
              "      <td>136.82</td>\n",
              "      <td>125.97</td>\n",
              "      <td>141.11</td>\n",
              "      <td>125.44</td>\n",
              "      <td>16740000.0</td>\n",
              "      <td>0.0861</td>\n",
              "      <td>2019</td>\n",
              "      <td>3</td>\n",
              "      <td>5</td>\n",
              "    </tr>\n",
              "    <tr>\n",
              "      <th>2019-03-04</th>\n",
              "      <td>125.97</td>\n",
              "      <td>131.02</td>\n",
              "      <td>131.57</td>\n",
              "      <td>123.25</td>\n",
              "      <td>14110000.0</td>\n",
              "      <td>-0.0385</td>\n",
              "      <td>2019</td>\n",
              "      <td>3</td>\n",
              "      <td>4</td>\n",
              "    </tr>\n",
              "    <tr>\n",
              "      <th>2019-03-03</th>\n",
              "      <td>131.01</td>\n",
              "      <td>132.77</td>\n",
              "      <td>168.42</td>\n",
              "      <td>129.05</td>\n",
              "      <td>10640000.0</td>\n",
              "      <td>-0.0132</td>\n",
              "      <td>2019</td>\n",
              "      <td>3</td>\n",
              "      <td>3</td>\n",
              "    </tr>\n",
              "    <tr>\n",
              "      <th>2019-03-02</th>\n",
              "      <td>132.76</td>\n",
              "      <td>135.72</td>\n",
              "      <td>136.36</td>\n",
              "      <td>130.74</td>\n",
              "      <td>11290000.0</td>\n",
              "      <td>-0.0218</td>\n",
              "      <td>2019</td>\n",
              "      <td>3</td>\n",
              "      <td>2</td>\n",
              "    </tr>\n",
              "    <tr>\n",
              "      <th>2019-03-01</th>\n",
              "      <td>135.72</td>\n",
              "      <td>135.47</td>\n",
              "      <td>138.06</td>\n",
              "      <td>128.46</td>\n",
              "      <td>9730000.0</td>\n",
              "      <td>0.0018</td>\n",
              "      <td>2019</td>\n",
              "      <td>3</td>\n",
              "      <td>1</td>\n",
              "    </tr>\n",
              "  </tbody>\n",
              "</table>\n",
              "<p>1920 rows × 9 columns</p>\n",
              "</div>\n",
              "    <div class=\"colab-df-buttons\">\n",
              "\n",
              "  <div class=\"colab-df-container\">\n",
              "    <button class=\"colab-df-convert\" onclick=\"convertToInteractive('df-2b94a27c-97c2-4386-b29f-738e5fb5051b')\"\n",
              "            title=\"Convert this dataframe to an interactive table.\"\n",
              "            style=\"display:none;\">\n",
              "\n",
              "  <svg xmlns=\"http://www.w3.org/2000/svg\" height=\"24px\" viewBox=\"0 -960 960 960\">\n",
              "    <path d=\"M120-120v-720h720v720H120Zm60-500h600v-160H180v160Zm220 220h160v-160H400v160Zm0 220h160v-160H400v160ZM180-400h160v-160H180v160Zm440 0h160v-160H620v160ZM180-180h160v-160H180v160Zm440 0h160v-160H620v160Z\"/>\n",
              "  </svg>\n",
              "    </button>\n",
              "\n",
              "  <style>\n",
              "    .colab-df-container {\n",
              "      display:flex;\n",
              "      gap: 12px;\n",
              "    }\n",
              "\n",
              "    .colab-df-convert {\n",
              "      background-color: #E8F0FE;\n",
              "      border: none;\n",
              "      border-radius: 50%;\n",
              "      cursor: pointer;\n",
              "      display: none;\n",
              "      fill: #1967D2;\n",
              "      height: 32px;\n",
              "      padding: 0 0 0 0;\n",
              "      width: 32px;\n",
              "    }\n",
              "\n",
              "    .colab-df-convert:hover {\n",
              "      background-color: #E2EBFA;\n",
              "      box-shadow: 0px 1px 2px rgba(60, 64, 67, 0.3), 0px 1px 3px 1px rgba(60, 64, 67, 0.15);\n",
              "      fill: #174EA6;\n",
              "    }\n",
              "\n",
              "    .colab-df-buttons div {\n",
              "      margin-bottom: 4px;\n",
              "    }\n",
              "\n",
              "    [theme=dark] .colab-df-convert {\n",
              "      background-color: #3B4455;\n",
              "      fill: #D2E3FC;\n",
              "    }\n",
              "\n",
              "    [theme=dark] .colab-df-convert:hover {\n",
              "      background-color: #434B5C;\n",
              "      box-shadow: 0px 1px 3px 1px rgba(0, 0, 0, 0.15);\n",
              "      filter: drop-shadow(0px 1px 2px rgba(0, 0, 0, 0.3));\n",
              "      fill: #FFFFFF;\n",
              "    }\n",
              "  </style>\n",
              "\n",
              "    <script>\n",
              "      const buttonEl =\n",
              "        document.querySelector('#df-2b94a27c-97c2-4386-b29f-738e5fb5051b button.colab-df-convert');\n",
              "      buttonEl.style.display =\n",
              "        google.colab.kernel.accessAllowed ? 'block' : 'none';\n",
              "\n",
              "      async function convertToInteractive(key) {\n",
              "        const element = document.querySelector('#df-2b94a27c-97c2-4386-b29f-738e5fb5051b');\n",
              "        const dataTable =\n",
              "          await google.colab.kernel.invokeFunction('convertToInteractive',\n",
              "                                                    [key], {});\n",
              "        if (!dataTable) return;\n",
              "\n",
              "        const docLinkHtml = 'Like what you see? Visit the ' +\n",
              "          '<a target=\"_blank\" href=https://colab.research.google.com/notebooks/data_table.ipynb>data table notebook</a>'\n",
              "          + ' to learn more about interactive tables.';\n",
              "        element.innerHTML = '';\n",
              "        dataTable['output_type'] = 'display_data';\n",
              "        await google.colab.output.renderOutput(dataTable, element);\n",
              "        const docLink = document.createElement('div');\n",
              "        docLink.innerHTML = docLinkHtml;\n",
              "        element.appendChild(docLink);\n",
              "      }\n",
              "    </script>\n",
              "  </div>\n",
              "\n",
              "\n",
              "<div id=\"df-a6074383-5fb8-4d11-a342-c81a9e6d4ac1\">\n",
              "  <button class=\"colab-df-quickchart\" onclick=\"quickchart('df-a6074383-5fb8-4d11-a342-c81a9e6d4ac1')\"\n",
              "            title=\"Suggest charts\"\n",
              "            style=\"display:none;\">\n",
              "\n",
              "<svg xmlns=\"http://www.w3.org/2000/svg\" height=\"24px\"viewBox=\"0 0 24 24\"\n",
              "     width=\"24px\">\n",
              "    <g>\n",
              "        <path d=\"M19 3H5c-1.1 0-2 .9-2 2v14c0 1.1.9 2 2 2h14c1.1 0 2-.9 2-2V5c0-1.1-.9-2-2-2zM9 17H7v-7h2v7zm4 0h-2V7h2v10zm4 0h-2v-4h2v4z\"/>\n",
              "    </g>\n",
              "</svg>\n",
              "  </button>\n",
              "\n",
              "<style>\n",
              "  .colab-df-quickchart {\n",
              "      --bg-color: #E8F0FE;\n",
              "      --fill-color: #1967D2;\n",
              "      --hover-bg-color: #E2EBFA;\n",
              "      --hover-fill-color: #174EA6;\n",
              "      --disabled-fill-color: #AAA;\n",
              "      --disabled-bg-color: #DDD;\n",
              "  }\n",
              "\n",
              "  [theme=dark] .colab-df-quickchart {\n",
              "      --bg-color: #3B4455;\n",
              "      --fill-color: #D2E3FC;\n",
              "      --hover-bg-color: #434B5C;\n",
              "      --hover-fill-color: #FFFFFF;\n",
              "      --disabled-bg-color: #3B4455;\n",
              "      --disabled-fill-color: #666;\n",
              "  }\n",
              "\n",
              "  .colab-df-quickchart {\n",
              "    background-color: var(--bg-color);\n",
              "    border: none;\n",
              "    border-radius: 50%;\n",
              "    cursor: pointer;\n",
              "    display: none;\n",
              "    fill: var(--fill-color);\n",
              "    height: 32px;\n",
              "    padding: 0;\n",
              "    width: 32px;\n",
              "  }\n",
              "\n",
              "  .colab-df-quickchart:hover {\n",
              "    background-color: var(--hover-bg-color);\n",
              "    box-shadow: 0 1px 2px rgba(60, 64, 67, 0.3), 0 1px 3px 1px rgba(60, 64, 67, 0.15);\n",
              "    fill: var(--button-hover-fill-color);\n",
              "  }\n",
              "\n",
              "  .colab-df-quickchart-complete:disabled,\n",
              "  .colab-df-quickchart-complete:disabled:hover {\n",
              "    background-color: var(--disabled-bg-color);\n",
              "    fill: var(--disabled-fill-color);\n",
              "    box-shadow: none;\n",
              "  }\n",
              "\n",
              "  .colab-df-spinner {\n",
              "    border: 2px solid var(--fill-color);\n",
              "    border-color: transparent;\n",
              "    border-bottom-color: var(--fill-color);\n",
              "    animation:\n",
              "      spin 1s steps(1) infinite;\n",
              "  }\n",
              "\n",
              "  @keyframes spin {\n",
              "    0% {\n",
              "      border-color: transparent;\n",
              "      border-bottom-color: var(--fill-color);\n",
              "      border-left-color: var(--fill-color);\n",
              "    }\n",
              "    20% {\n",
              "      border-color: transparent;\n",
              "      border-left-color: var(--fill-color);\n",
              "      border-top-color: var(--fill-color);\n",
              "    }\n",
              "    30% {\n",
              "      border-color: transparent;\n",
              "      border-left-color: var(--fill-color);\n",
              "      border-top-color: var(--fill-color);\n",
              "      border-right-color: var(--fill-color);\n",
              "    }\n",
              "    40% {\n",
              "      border-color: transparent;\n",
              "      border-right-color: var(--fill-color);\n",
              "      border-top-color: var(--fill-color);\n",
              "    }\n",
              "    60% {\n",
              "      border-color: transparent;\n",
              "      border-right-color: var(--fill-color);\n",
              "    }\n",
              "    80% {\n",
              "      border-color: transparent;\n",
              "      border-right-color: var(--fill-color);\n",
              "      border-bottom-color: var(--fill-color);\n",
              "    }\n",
              "    90% {\n",
              "      border-color: transparent;\n",
              "      border-bottom-color: var(--fill-color);\n",
              "    }\n",
              "  }\n",
              "</style>\n",
              "\n",
              "  <script>\n",
              "    async function quickchart(key) {\n",
              "      const quickchartButtonEl =\n",
              "        document.querySelector('#' + key + ' button');\n",
              "      quickchartButtonEl.disabled = true;  // To prevent multiple clicks.\n",
              "      quickchartButtonEl.classList.add('colab-df-spinner');\n",
              "      try {\n",
              "        const charts = await google.colab.kernel.invokeFunction(\n",
              "            'suggestCharts', [key], {});\n",
              "      } catch (error) {\n",
              "        console.error('Error during call to suggestCharts:', error);\n",
              "      }\n",
              "      quickchartButtonEl.classList.remove('colab-df-spinner');\n",
              "      quickchartButtonEl.classList.add('colab-df-quickchart-complete');\n",
              "    }\n",
              "    (() => {\n",
              "      let quickchartButtonEl =\n",
              "        document.querySelector('#df-a6074383-5fb8-4d11-a342-c81a9e6d4ac1 button');\n",
              "      quickchartButtonEl.style.display =\n",
              "        google.colab.kernel.accessAllowed ? 'block' : 'none';\n",
              "    })();\n",
              "  </script>\n",
              "</div>\n",
              "    </div>\n",
              "  </div>\n"
            ],
            "application/vnd.google.colaboratory.intrinsic+json": {
              "type": "dataframe",
              "variable_name": "eth_df",
              "summary": "{\n  \"name\": \"eth_df\",\n  \"rows\": 1920,\n  \"fields\": [\n    {\n      \"column\": \"Date\",\n      \"properties\": {\n        \"dtype\": \"date\",\n        \"min\": \"2019-03-01 00:00:00\",\n        \"max\": \"2024-06-01 00:00:00\",\n        \"num_unique_values\": 1920,\n        \"samples\": [\n          \"2021-09-07 00:00:00\",\n          \"2019-12-24 00:00:00\",\n          \"2022-09-29 00:00:00\"\n        ],\n        \"semantic_type\": \"\",\n        \"description\": \"\"\n      }\n    },\n    {\n      \"column\": \"Price\",\n      \"properties\": {\n        \"dtype\": \"number\",\n        \"std\": 1205.8617192638408,\n        \"min\": 107.9,\n        \"max\": 4808.38,\n        \"num_unique_values\": 1900,\n        \"samples\": [\n          1117.33,\n          2506.69,\n          1203.77\n        ],\n        \"semantic_type\": \"\",\n        \"description\": \"\"\n      }\n    },\n    {\n      \"column\": \"Open\",\n      \"properties\": {\n        \"dtype\": \"number\",\n        \"std\": 1205.2290056329853,\n        \"min\": 107.87,\n        \"max\": 4808.34,\n        \"num_unique_values\": 1900,\n        \"samples\": [\n          1118.01,\n          2500.28,\n          1185.7\n        ],\n        \"semantic_type\": \"\",\n        \"description\": \"\"\n      }\n    },\n    {\n      \"column\": \"High\",\n      \"properties\": {\n        \"dtype\": \"number\",\n        \"std\": 1239.7880333126684,\n        \"min\": 117.91,\n        \"max\": 4864.06,\n        \"num_unique_values\": 1909,\n        \"samples\": [\n          229.8,\n          2537.85,\n          160.28\n        ],\n        \"semantic_type\": \"\",\n        \"description\": \"\"\n      }\n    },\n    {\n      \"column\": \"Low\",\n      \"properties\": {\n        \"dtype\": \"number\",\n        \"std\": 1166.0979301552745,\n        \"min\": 88.5,\n        \"max\": 4715.43,\n        \"num_unique_values\": 1908,\n        \"samples\": [\n          223.79,\n          2493.83,\n          167.03\n        ],\n        \"semantic_type\": \"\",\n        \"description\": \"\"\n      }\n    },\n    {\n      \"column\": \"Vol.\",\n      \"properties\": {\n        \"dtype\": \"number\",\n        \"std\": 112208076.64132501,\n        \"min\": 27030.0,\n        \"max\": 1790000000.0,\n        \"num_unique_values\": 1613,\n        \"samples\": [\n          381950.0,\n          194290.0,\n          229740.0\n        ],\n        \"semantic_type\": \"\",\n        \"description\": \"\"\n      }\n    },\n    {\n      \"column\": \"Change %\",\n      \"properties\": {\n        \"dtype\": \"number\",\n        \"std\": 0.04447354266892567,\n        \"min\": -0.44549999999999995,\n        \"max\": 0.2596,\n        \"num_unique_values\": 1042,\n        \"samples\": [\n          -0.0199,\n          -0.0123,\n          0.0362\n        ],\n        \"semantic_type\": \"\",\n        \"description\": \"\"\n      }\n    },\n    {\n      \"column\": \"Year\",\n      \"properties\": {\n        \"dtype\": \"int32\",\n        \"num_unique_values\": 6,\n        \"samples\": [\n          2024,\n          2023,\n          2019\n        ],\n        \"semantic_type\": \"\",\n        \"description\": \"\"\n      }\n    },\n    {\n      \"column\": \"Month\",\n      \"properties\": {\n        \"dtype\": \"int32\",\n        \"num_unique_values\": 12,\n        \"samples\": [\n          8,\n          9,\n          6\n        ],\n        \"semantic_type\": \"\",\n        \"description\": \"\"\n      }\n    },\n    {\n      \"column\": \"Day\",\n      \"properties\": {\n        \"dtype\": \"int32\",\n        \"num_unique_values\": 31,\n        \"samples\": [\n          5,\n          17,\n          9\n        ],\n        \"semantic_type\": \"\",\n        \"description\": \"\"\n      }\n    }\n  ]\n}"
            }
          },
          "metadata": {},
          "execution_count": 116
        }
      ]
    },
    {
      "cell_type": "code",
      "source": [
        "eth_df.info()"
      ],
      "metadata": {
        "colab": {
          "base_uri": "https://localhost:8080/"
        },
        "id": "cmZL5W_qvkhm",
        "outputId": "db278e77-34dd-4265-8887-7b961013ed2b"
      },
      "execution_count": 117,
      "outputs": [
        {
          "output_type": "stream",
          "name": "stdout",
          "text": [
            "<class 'pandas.core.frame.DataFrame'>\n",
            "DatetimeIndex: 1920 entries, 2024-06-01 to 2019-03-01\n",
            "Data columns (total 9 columns):\n",
            " #   Column    Non-Null Count  Dtype  \n",
            "---  ------    --------------  -----  \n",
            " 0   Price     1920 non-null   float64\n",
            " 1   Open      1920 non-null   float64\n",
            " 2   High      1920 non-null   float64\n",
            " 3   Low       1920 non-null   float64\n",
            " 4   Vol.      1920 non-null   float64\n",
            " 5   Change %  1920 non-null   float64\n",
            " 6   Year      1920 non-null   int32  \n",
            " 7   Month     1920 non-null   int32  \n",
            " 8   Day       1920 non-null   int32  \n",
            "dtypes: float64(6), int32(3)\n",
            "memory usage: 127.5 KB\n"
          ]
        }
      ]
    },
    {
      "cell_type": "code",
      "source": [
        "eth_df.shape"
      ],
      "metadata": {
        "colab": {
          "base_uri": "https://localhost:8080/"
        },
        "id": "nouphK-3vrgn",
        "outputId": "ec5de780-8a39-488f-85b1-3455cd94b592"
      },
      "execution_count": 118,
      "outputs": [
        {
          "output_type": "execute_result",
          "data": {
            "text/plain": [
              "(1920, 9)"
            ]
          },
          "metadata": {},
          "execution_count": 118
        }
      ]
    },
    {
      "cell_type": "markdown",
      "source": [
        "**Split data**"
      ],
      "metadata": {
        "id": "QVcUSRY3xrUU"
      }
    },
    {
      "cell_type": "code",
      "source": [
        "df_train = eth_df[eth_df.index<='3/1/2024']\n",
        "df_test = eth_df[eth_df.index>'3/1/2024']"
      ],
      "metadata": {
        "id": "nKiCvLiBxq5p"
      },
      "execution_count": 119,
      "outputs": []
    },
    {
      "cell_type": "code",
      "source": [
        "print('df_train.shape: ',df_train.shape)\n",
        "print('df_trest.shape: ',df_test.shape)"
      ],
      "metadata": {
        "colab": {
          "base_uri": "https://localhost:8080/"
        },
        "id": "Lf7xLTQ4xzys",
        "outputId": "9d1dec5d-b781-4a80-ec88-191bfeffabfa"
      },
      "execution_count": 120,
      "outputs": [
        {
          "output_type": "stream",
          "name": "stdout",
          "text": [
            "df_train.shape:  (1828, 9)\n",
            "df_trest.shape:  (92, 9)\n"
          ]
        }
      ]
    },
    {
      "cell_type": "code",
      "source": [
        "plt.figure()\n",
        "plt.plot(pd.DataFrame(df_train).index.to_list(), pd.DataFrame(df_train['Price']), color='red', label='Train')\n",
        "plt.plot(pd.DataFrame(df_test).index.to_list(),pd.DataFrame(df_test['Price']), label ='Test')\n",
        "plt.legend()\n",
        "plt.show()"
      ],
      "metadata": {
        "colab": {
          "base_uri": "https://localhost:8080/",
          "height": 432
        },
        "id": "vMfdpta5zDSf",
        "outputId": "4060fc04-ede6-48a4-f0a6-a464d1013a18"
      },
      "execution_count": 121,
      "outputs": [
        {
          "output_type": "display_data",
          "data": {
            "text/plain": [
              "<Figure size 640x480 with 1 Axes>"
            ],
            "image/png": "[encoded data removed]"
          },
          "metadata": {}
        }
      ]
    },
    {
      "cell_type": "code",
      "source": [
        "scaler = MinMaxScaler(feature_range=(0, 1))\n",
        "df_train_scaled = scaler.fit_transform(df_train)\n",
        "df_test_scaled = scaler.transform(df_test)\n",
        "\n",
        "df_train_scaled = pd.DataFrame(df_train_scaled, index=df_train.index, columns=df_train.columns)\n",
        "df_test_scaled = pd.DataFrame(df_test_scaled, index=df_test.index, columns=df_test.columns)"
      ],
      "metadata": {
        "id": "XC_GnheFzMgD"
      },
      "execution_count": 122,
      "outputs": []
    },
    {
      "cell_type": "code",
      "source": [
        "X_train_flat = df_train_scaled.drop(columns=['Price'])\n",
        "y_train_flat = df_train_scaled['Price']\n",
        "X_test_flat = df_test_scaled.drop(columns=['Price'])\n",
        "y_test_flat = df_test_scaled['Price']"
      ],
      "metadata": {
        "id": "BMetGWv2zRbq"
      },
      "execution_count": 123,
      "outputs": []
    },
    {
      "cell_type": "code",
      "source": [
        "X_train_flat = df_train_scaled.drop(columns=['Price'])\n",
        "y_train_flat = df_train_scaled['Price']\n",
        "X_test_flat = df_test_scaled.drop(columns=['Price'])\n",
        "y_test_flat = df_test_scaled['Price']"
      ],
      "metadata": {
        "id": "-9BxRYA4zZqp"
      },
      "execution_count": 124,
      "outputs": []
    },
    {
      "cell_type": "code",
      "source": [
        "def train_test_split(X_train, y_train,X_test,y_test,test_size, window_size=10):\n",
        "    if window_size is not None:\n",
        "        X_train = np.array([X_train[i:i+window_size] for i in range(len(X_train)-window_size)])\n",
        "        y_train = y_train[window_size:]\n",
        "        X_test = np.array([X_test[i:i+window_size] for i in range(len(X_test)-window_size)])\n",
        "        y_test = y_test[window_size:]\n",
        "    return X_train, y_train, X_test, y_test"
      ],
      "metadata": {
        "id": "fns-4SLizgsl"
      },
      "execution_count": 125,
      "outputs": []
    },
    {
      "cell_type": "code",
      "source": [
        "# Define window_size with an appropriate value\n",
        "window_size = 5  # or any other value that makes sense in your context\n",
        "\n",
        "# Now you can use window_size in your function call\n",
        "X_train, y_train, X_test, y_test = train_test_split(X_train_flat, y_train_flat, X_test_flat, y_test_flat, window_size)\n"
      ],
      "metadata": {
        "id": "pxXgLagg0Eqq"
      },
      "execution_count": 126,
      "outputs": []
    },
    {
      "cell_type": "code",
      "source": [
        "X_train, y_train, X_test, y_test=train_test_split(X_train_flat,y_train_flat,X_test_flat,y_test_flat,window_size)"
      ],
      "metadata": {
        "id": "5o0BSY_yzkDp"
      },
      "execution_count": 127,
      "outputs": []
    },
    {
      "cell_type": "code",
      "source": [
        "print('X_train shape: ',X_train.shape)\n",
        "print('y_train shape: ',y_train.shape)\n",
        "print('X_test shape: ',X_test.shape)\n",
        "print('y_test shape: ',y_test.shape)"
      ],
      "metadata": {
        "colab": {
          "base_uri": "https://localhost:8080/"
        },
        "id": "23K44Ws00HNV",
        "outputId": "f97a9e56-9bb0-47bd-e053-78a735441156"
      },
      "execution_count": 128,
      "outputs": [
        {
          "output_type": "stream",
          "name": "stdout",
          "text": [
            "X_train shape:  (1818, 10, 8)\n",
            "y_train shape:  (1818,)\n",
            "X_test shape:  (82, 10, 8)\n",
            "y_test shape:  (82,)\n"
          ]
        }
      ]
    },
    {
      "cell_type": "code",
      "source": [
        "from sklearn.model_selection import train_test_split"
      ],
      "metadata": {
        "id": "iXu0ZxWGSLEY"
      },
      "execution_count": 129,
      "outputs": []
    },
    {
      "cell_type": "code",
      "source": [
        "x = eth_df.drop(['Price'],axis =1 ).values\n",
        "y = eth_df['Change %'].values"
      ],
      "metadata": {
        "id": "hXz96YbdNnrj"
      },
      "execution_count": 130,
      "outputs": []
    },
    {
      "cell_type": "code",
      "source": [],
      "metadata": {
        "id": "psArFtqQPwX_"
      },
      "execution_count": 130,
      "outputs": []
    },
    {
      "cell_type": "code",
      "source": [
        "x"
      ],
      "metadata": {
        "colab": {
          "base_uri": "https://localhost:8080/"
        },
        "id": "UsyX7OLqPKvx",
        "outputId": "4515b05a-6297-4e29-d04b-d9a440df1f10"
      },
      "execution_count": 131,
      "outputs": [
        {
          "output_type": "execute_result",
          "data": {
            "text/plain": [
              "array([[3.76263e+03, 3.83235e+03, 3.75332e+03, ..., 2.02400e+03,\n",
              "        6.00000e+00, 1.00000e+00],\n",
              "       [3.74789e+03, 3.84496e+03, 3.72457e+03, ..., 2.02400e+03,\n",
              "        5.00000e+00, 3.10000e+01],\n",
              "       [3.76722e+03, 3.82494e+03, 3.70374e+03, ..., 2.02400e+03,\n",
              "        5.00000e+00, 3.00000e+01],\n",
              "       ...,\n",
              "       [1.32770e+02, 1.68420e+02, 1.29050e+02, ..., 2.01900e+03,\n",
              "        3.00000e+00, 3.00000e+00],\n",
              "       [1.35720e+02, 1.36360e+02, 1.30740e+02, ..., 2.01900e+03,\n",
              "        3.00000e+00, 2.00000e+00],\n",
              "       [1.35470e+02, 1.38060e+02, 1.28460e+02, ..., 2.01900e+03,\n",
              "        3.00000e+00, 1.00000e+00]])"
            ]
          },
          "metadata": {},
          "execution_count": 131
        }
      ]
    },
    {
      "cell_type": "code",
      "source": [
        "y"
      ],
      "metadata": {
        "colab": {
          "base_uri": "https://localhost:8080/"
        },
        "id": "VZc-0x4rPL9d",
        "outputId": "b9ff6197-56f5-4643-e0fa-b3e795706273"
      },
      "execution_count": 132,
      "outputs": [
        {
          "output_type": "execute_result",
          "data": {
            "text/plain": [
              "array([ 0.0142,  0.004 , -0.0058, ..., -0.0132, -0.0218,  0.0018])"
            ]
          },
          "metadata": {},
          "execution_count": 132
        }
      ]
    },
    {
      "cell_type": "code",
      "source": [
        "from sklearn.model_selection import train_test_split\n",
        "x_train, x_test, y_train, y_test = train_test_split(x, y, test_size=0.2, random_state=42)"
      ],
      "metadata": {
        "id": "MDSOS1IDP9vC"
      },
      "execution_count": 133,
      "outputs": []
    },
    {
      "cell_type": "code",
      "source": [
        "x_train"
      ],
      "metadata": {
        "colab": {
          "base_uri": "https://localhost:8080/"
        },
        "id": "jDANP7lAQz6S",
        "outputId": "de03448b-2125-40d3-bd4f-368c3b8d5e3e"
      },
      "execution_count": 134,
      "outputs": [
        {
          "output_type": "execute_result",
          "data": {
            "text/plain": [
              "array([[1.28533e+03, 1.31047e+03, 1.27279e+03, ..., 2.02200e+03,\n",
              "        1.00000e+01, 2.00000e+01],\n",
              "       [1.82078e+03, 1.82432e+03, 1.77581e+03, ..., 2.02300e+03,\n",
              "        4.00000e+00, 2.00000e+00],\n",
              "       [2.61808e+03, 2.71288e+03, 2.46293e+03, ..., 2.02400e+03,\n",
              "        1.00000e+00, 1.20000e+01],\n",
              "       ...,\n",
              "       [2.41252e+03, 2.54719e+03, 2.37385e+03, ..., 2.02200e+03,\n",
              "        1.00000e+00, 2.30000e+01],\n",
              "       [2.37900e+02, 2.44760e+02, 2.33840e+02, ..., 2.02000e+03,\n",
              "        6.00000e+00, 3.00000e+00],\n",
              "       [2.94504e+03, 2.98452e+03, 2.85412e+03, ..., 2.02100e+03,\n",
              "        5.00000e+00, 2.00000e+00]])"
            ]
          },
          "metadata": {},
          "execution_count": 134
        }
      ]
    },
    {
      "cell_type": "code",
      "source": [
        "y_train"
      ],
      "metadata": {
        "colab": {
          "base_uri": "https://localhost:8080/"
        },
        "id": "vVRc0aZYRi7M",
        "outputId": "5382a32a-0ada-49b8-d807-6dba23a50ba2"
      },
      "execution_count": 135,
      "outputs": [
        {
          "output_type": "execute_result",
          "data": {
            "text/plain": [
              "array([-0.0019, -0.0142, -0.0359, ...,  0.0532,  0.0277,  0.0019])"
            ]
          },
          "metadata": {},
          "execution_count": 135
        }
      ]
    },
    {
      "cell_type": "markdown",
      "source": [
        "###Split data"
      ],
      "metadata": {
        "id": "26Q6cpWZP0Vx"
      }
    },
    {
      "cell_type": "code",
      "source": [
        "window_size = 10\n",
        "feature_dim = 5\n",
        "\n",
        "train_size = 0.6\n",
        "val_size = 0.1\n",
        "test_size=0.3\n",
        "\n",
        "# model params\n",
        "lstm_neurons = 20\n",
        "rnn_neurons = 20\n",
        "epochs = 100\n",
        "batch_size = 4\n",
        "loss = 'mae'\n",
        "dropout = 0.25\n",
        "optimizer = 'adam'"
      ],
      "metadata": {
        "id": "KXMFwGXGTIcJ"
      },
      "execution_count": 136,
      "outputs": []
    },
    {
      "cell_type": "code",
      "source": [
        "train_index = int(len(eth_df)*train_size)\n",
        "test_index = train_index + int(len(eth_df)*test_size)\n",
        "\n",
        "print('train index: ',train_index)\n",
        "print('test index: ',test_index)"
      ],
      "metadata": {
        "colab": {
          "base_uri": "https://localhost:8080/"
        },
        "id": "uvkDwv_cP__1",
        "outputId": "24787bcc-4035-44ef-9717-95b4dcc75785"
      },
      "execution_count": 137,
      "outputs": [
        {
          "output_type": "stream",
          "name": "stdout",
          "text": [
            "train index:  1152\n",
            "test index:  1728\n"
          ]
        }
      ]
    },
    {
      "cell_type": "code",
      "source": [
        "eth_df_train = eth_df.iloc[:train_index]\n",
        "eth_df_test  = eth_df[train_index:test_index]\n",
        "eth_df_val   = eth_df[test_index:]\n",
        "\n",
        "print('eth_df_train.shape: ',eth_df_train.shape)\n",
        "print('eth_df_test.shape: ',eth_df_test.shape)\n",
        "print('eth_df_val.shape: ',eth_df_val.shape)"
      ],
      "metadata": {
        "colab": {
          "base_uri": "https://localhost:8080/"
        },
        "id": "RTwO-1lUQJq5",
        "outputId": "a8feb66b-0fbf-4347-fe25-707c3b09909e"
      },
      "execution_count": 138,
      "outputs": [
        {
          "output_type": "stream",
          "name": "stdout",
          "text": [
            "eth_df_train.shape:  (1152, 9)\n",
            "eth_df_test.shape:  (576, 9)\n",
            "eth_df_val.shape:  (192, 9)\n"
          ]
        }
      ]
    },
    {
      "cell_type": "code",
      "source": [
        "plt.figure(figsize=(12,6))\n",
        "plt.plot(pd.DataFrame(eth_df_train).index.to_list(), pd.DataFrame(eth_df_train['Price']), color='red', label='Train')\n",
        "plt.plot(pd.DataFrame(eth_df_test).index.to_list(),pd.DataFrame(eth_df_test['Price']),color='blue' ,label ='Test')\n",
        "plt.plot(pd.DataFrame(eth_df_val).index.to_list(),pd.DataFrame(eth_df_val['Price']),color ='orange', label ='Validation')\n",
        "plt.legend()\n",
        "plt.show()"
      ],
      "metadata": {
        "colab": {
          "base_uri": "https://localhost:8080/",
          "height": 454
        },
        "id": "TVDu8D1vQbmp",
        "outputId": "a8bcf9d4-8b4b-4c0d-aa3c-5fa777372856"
      },
      "execution_count": 139,
      "outputs": [
        {
          "output_type": "display_data",
          "data": {
            "text/plain": [
              "<Figure size 1200x600 with 1 Axes>"
            ],
            "image/png": "[encoded data removed]"
          },
          "metadata": {}
        }
      ]
    },
    {
      "cell_type": "code",
      "source": [
        "scaler = MinMaxScaler(feature_range=(0, 1))\n",
        "eth_df_train_scaled = scaler.fit_transform(eth_df_train)\n",
        "eth_df_test_scaled = scaler.transform(eth_df_test)\n",
        "eth_df_val_scaled = scaler.transform(eth_df_val)\n",
        "\n",
        "eth_df_train_scaled = pd.DataFrame(eth_df_train_scaled, index=eth_df_train.index, columns=eth_df_train.columns)\n",
        "eth_df_test_scaled = pd.DataFrame(eth_df_test_scaled, index=eth_df_test.index, columns=eth_df_test.columns)\n",
        "eth_df_val_scaled = pd.DataFrame(eth_df_val_scaled,index =eth_df_val.index,columns=eth_df_val.columns)"
      ],
      "metadata": {
        "id": "1SEV18DzQoNr"
      },
      "execution_count": 140,
      "outputs": []
    },
    {
      "cell_type": "code",
      "source": [
        "X_train_scale = eth_df_train_scaled.drop(columns=['Price'])\n",
        "y_train_scale = eth_df_train_scaled['Price']\n",
        "\n",
        "X_test_scale  = eth_df_test_scaled.drop(columns=['Price'])\n",
        "y_test_scale  = eth_df_test_scaled['Price']\n",
        "\n",
        "X_val_scale = eth_df_val_scaled.drop(columns=['Price'])\n",
        "y_val_scale = eth_df_val_scaled['Price']"
      ],
      "metadata": {
        "id": "tTlWC_1MRq94"
      },
      "execution_count": 141,
      "outputs": []
    },
    {
      "cell_type": "code",
      "source": [
        "print('X_train_scale shape: ',X_train_scale.shape)\n",
        "print('y_train_scale shape: ',y_train_scale.shape)\n",
        "print('\\nX_test_scale shape: ',X_test_scale.shape)\n",
        "print('y_test_scale shape: ',y_test_scale.shape)\n",
        "print('\\nX_val_scale shape: ',X_val_scale.shape)\n",
        "print('y_val_scale shape: ',y_val_scale.shape)"
      ],
      "metadata": {
        "colab": {
          "base_uri": "https://localhost:8080/"
        },
        "id": "w6PcdIQpTZP-",
        "outputId": "83ad9a05-d666-4aa8-cca5-a0251264408c"
      },
      "execution_count": 142,
      "outputs": [
        {
          "output_type": "stream",
          "name": "stdout",
          "text": [
            "X_train_scale shape:  (1152, 8)\n",
            "y_train_scale shape:  (1152,)\n",
            "\n",
            "X_test_scale shape:  (576, 8)\n",
            "y_test_scale shape:  (576,)\n",
            "\n",
            "X_val_scale shape:  (192, 8)\n",
            "y_val_scale shape:  (192,)\n"
          ]
        }
      ]
    },
    {
      "cell_type": "code",
      "source": [],
      "metadata": {
        "id": "rVXLgSRuTa16"
      },
      "execution_count": 142,
      "outputs": []
    },
    {
      "cell_type": "markdown",
      "source": [
        "#RNN"
      ],
      "metadata": {
        "id": "HFX6oid9f6hH"
      }
    },
    {
      "cell_type": "code",
      "source": [
        "df1=eth_df.reset_index()['Price']"
      ],
      "metadata": {
        "id": "qMaecooLgH_l"
      },
      "execution_count": 143,
      "outputs": []
    },
    {
      "cell_type": "code",
      "source": [
        "scaler=MinMaxScaler(feature_range=(0,1))\n",
        "df1=scaler.fit_transform(np.array(df1).reshape(-1,1))"
      ],
      "metadata": {
        "id": "qSrccwpTf-8d"
      },
      "execution_count": 144,
      "outputs": []
    },
    {
      "cell_type": "code",
      "source": [
        "# 4. Chia train test\n",
        "train_size = int(0.6 * len(df1))\n",
        "test_size = int(0.3 * len(df1))\n",
        "val_size = len(df1) - train_size - test_size\n",
        "\n",
        "train_data = df1[:train_size]\n",
        "test_data = df1[train_size:train_size+test_size]\n",
        "val_data = df1[train_size+test_size:]\n",
        "\n",
        "print(\"Train shape:\", train_data.shape)\n",
        "print(\"Test shape:\", test_data.shape)\n",
        "print(\"Validate shape:\", val_data.shape)"
      ],
      "metadata": {
        "colab": {
          "base_uri": "https://localhost:8080/"
        },
        "id": "ud_rEFo2IwC-",
        "outputId": "3c775743-c7b1-478f-e9bb-831f81ee8be7"
      },
      "execution_count": 156,
      "outputs": [
        {
          "output_type": "stream",
          "name": "stdout",
          "text": [
            "Train shape: (1152, 1)\n",
            "Test shape: (576, 1)\n",
            "Validate shape: (192, 1)\n"
          ]
        }
      ]
    },
    {
      "cell_type": "code",
      "source": [
        "# 5. Hàm Create Dataset\n",
        "def create_dataset(dataset, time_step=1):\n",
        "    dataX, dataY = [], []\n",
        "    for i in range(len(dataset) - time_step - 1):\n",
        "        a = dataset[i:(i + time_step), 0]\n",
        "        dataX.append(a)\n",
        "        dataY.append(dataset[i + time_step, 0])\n",
        "    return np.array(dataX), np.array(dataY)"
      ],
      "metadata": {
        "id": "CqRfwr9RgWSq"
      },
      "execution_count": 145,
      "outputs": []
    },
    {
      "cell_type": "code",
      "source": [
        "# 6. Reshape into X=t,t+1,t+2..t+99 and Y=t+100\n",
        "time_step = 100\n",
        "X_train, y_train = create_dataset(train_data, time_step)\n",
        "X_test, ytest = create_dataset(test_data, time_step)"
      ],
      "metadata": {
        "id": "rJAIeUPHgYpF"
      },
      "execution_count": 146,
      "outputs": []
    },
    {
      "cell_type": "code",
      "source": [
        "# 7. Reshape input to be [samples, time steps, features] which is required for LSTM\n",
        "X_train = X_train.reshape(X_train.shape[0], X_train.shape[1], 1)\n",
        "X_test = X_test.reshape(X_test.shape[0], X_test.shape[1], 1)"
      ],
      "metadata": {
        "id": "H7N8zC_bgcbR"
      },
      "execution_count": 147,
      "outputs": []
    },
    {
      "cell_type": "code",
      "source": [
        "# 8. Define RNN Model\n",
        "model = Sequential()\n",
        "model.add(SimpleRNN(50, input_shape=(time_step, 1)))\n",
        "model.add(Dense(1))\n",
        "model.compile(loss='mean_squared_error', optimizer='adam')"
      ],
      "metadata": {
        "id": "Q11sVMAdgocO"
      },
      "execution_count": 148,
      "outputs": []
    },
    {
      "cell_type": "code",
      "source": [
        "# 9. Fit mô hình với dữ liệu train\n",
        "model.fit(X_train, y_train, validation_data=(X_test, ytest), epochs=100, batch_size=64, verbose=1)"
      ],
      "metadata": {
        "colab": {
          "base_uri": "https://localhost:8080/"
        },
        "id": "Ml7F3d30g3Sr",
        "outputId": "611dbb0d-fd5c-4db7-d5de-c8e8768e8a04"
      },
      "execution_count": 149,
      "outputs": [
        {
          "output_type": "stream",
          "name": "stdout",
          "text": [
            "Epoch 1/100\n",
            "20/20 [==============================] - 2s 37ms/step - loss: 0.0154 - val_loss: 3.6600e-04\n",
            "Epoch 2/100\n",
            "20/20 [==============================] - 0s 23ms/step - loss: 0.0020 - val_loss: 1.5188e-04\n",
            "Epoch 3/100\n",
            "20/20 [==============================] - 0s 24ms/step - loss: 0.0011 - val_loss: 3.7951e-05\n",
            "Epoch 4/100\n",
            "20/20 [==============================] - 0s 24ms/step - loss: 8.3151e-04 - val_loss: 2.5828e-05\n",
            "Epoch 5/100\n",
            "20/20 [==============================] - 1s 43ms/step - loss: 7.7090e-04 - val_loss: 4.2428e-05\n",
            "Epoch 6/100\n",
            "20/20 [==============================] - 1s 44ms/step - loss: 7.2470e-04 - val_loss: 2.8473e-05\n",
            "Epoch 7/100\n",
            "20/20 [==============================] - 1s 41ms/step - loss: 6.9951e-04 - val_loss: 3.0485e-05\n",
            "Epoch 8/100\n",
            "20/20 [==============================] - 1s 44ms/step - loss: 6.8433e-04 - val_loss: 4.2595e-05\n",
            "Epoch 9/100\n",
            "20/20 [==============================] - 1s 40ms/step - loss: 6.9831e-04 - val_loss: 2.0320e-05\n",
            "Epoch 10/100\n",
            "20/20 [==============================] - 0s 23ms/step - loss: 6.6684e-04 - val_loss: 1.7321e-05\n",
            "Epoch 11/100\n",
            "20/20 [==============================] - 0s 22ms/step - loss: 6.4645e-04 - val_loss: 4.1657e-05\n",
            "Epoch 12/100\n",
            "20/20 [==============================] - 0s 24ms/step - loss: 6.5289e-04 - val_loss: 2.3566e-05\n",
            "Epoch 13/100\n",
            "20/20 [==============================] - 0s 22ms/step - loss: 6.7837e-04 - val_loss: 3.0758e-05\n",
            "Epoch 14/100\n",
            "20/20 [==============================] - 0s 22ms/step - loss: 6.8260e-04 - val_loss: 1.3954e-05\n",
            "Epoch 15/100\n",
            "20/20 [==============================] - 0s 24ms/step - loss: 6.3351e-04 - val_loss: 1.1101e-04\n",
            "Epoch 16/100\n",
            "20/20 [==============================] - 0s 23ms/step - loss: 6.1517e-04 - val_loss: 4.5135e-05\n",
            "Epoch 17/100\n",
            "20/20 [==============================] - 0s 24ms/step - loss: 6.0356e-04 - val_loss: 1.5724e-05\n",
            "Epoch 18/100\n",
            "20/20 [==============================] - 0s 23ms/step - loss: 6.0465e-04 - val_loss: 1.1858e-05\n",
            "Epoch 19/100\n",
            "20/20 [==============================] - 0s 25ms/step - loss: 6.0822e-04 - val_loss: 9.0972e-06\n",
            "Epoch 20/100\n",
            "20/20 [==============================] - 0s 23ms/step - loss: 6.0294e-04 - val_loss: 2.2940e-05\n",
            "Epoch 21/100\n",
            "20/20 [==============================] - 0s 24ms/step - loss: 5.8160e-04 - val_loss: 1.2344e-04\n",
            "Epoch 22/100\n",
            "20/20 [==============================] - 0s 24ms/step - loss: 5.8730e-04 - val_loss: 1.6485e-05\n",
            "Epoch 23/100\n",
            "20/20 [==============================] - 0s 24ms/step - loss: 5.7423e-04 - val_loss: 8.0065e-05\n",
            "Epoch 24/100\n",
            "20/20 [==============================] - 0s 23ms/step - loss: 5.7514e-04 - val_loss: 1.6091e-05\n",
            "Epoch 25/100\n",
            "20/20 [==============================] - 0s 23ms/step - loss: 5.5709e-04 - val_loss: 4.1698e-05\n",
            "Epoch 26/100\n",
            "20/20 [==============================] - 0s 24ms/step - loss: 5.5673e-04 - val_loss: 1.8711e-05\n",
            "Epoch 27/100\n",
            "20/20 [==============================] - 0s 23ms/step - loss: 5.5298e-04 - val_loss: 1.3436e-04\n",
            "Epoch 28/100\n",
            "20/20 [==============================] - 0s 24ms/step - loss: 5.6545e-04 - val_loss: 5.9398e-05\n",
            "Epoch 29/100\n",
            "20/20 [==============================] - 0s 22ms/step - loss: 5.4570e-04 - val_loss: 4.2166e-05\n",
            "Epoch 30/100\n",
            "20/20 [==============================] - 0s 25ms/step - loss: 5.9134e-04 - val_loss: 2.4030e-05\n",
            "Epoch 31/100\n",
            "20/20 [==============================] - 1s 45ms/step - loss: 5.6884e-04 - val_loss: 1.2709e-05\n",
            "Epoch 32/100\n",
            "20/20 [==============================] - 1s 45ms/step - loss: 5.3811e-04 - val_loss: 1.9269e-05\n",
            "Epoch 33/100\n",
            "20/20 [==============================] - 1s 44ms/step - loss: 5.9210e-04 - val_loss: 1.5395e-05\n",
            "Epoch 34/100\n",
            "20/20 [==============================] - 1s 44ms/step - loss: 5.4732e-04 - val_loss: 1.2243e-05\n",
            "Epoch 35/100\n",
            "20/20 [==============================] - 1s 37ms/step - loss: 5.4605e-04 - val_loss: 1.5859e-05\n",
            "Epoch 36/100\n",
            "20/20 [==============================] - 1s 34ms/step - loss: 5.4803e-04 - val_loss: 1.3607e-05\n",
            "Epoch 37/100\n",
            "20/20 [==============================] - 1s 50ms/step - loss: 5.2709e-04 - val_loss: 1.4941e-05\n",
            "Epoch 38/100\n",
            "20/20 [==============================] - 1s 44ms/step - loss: 5.0642e-04 - val_loss: 2.8087e-05\n",
            "Epoch 39/100\n",
            "20/20 [==============================] - 1s 31ms/step - loss: 5.1711e-04 - val_loss: 2.0633e-05\n",
            "Epoch 40/100\n",
            "20/20 [==============================] - 1s 45ms/step - loss: 5.1471e-04 - val_loss: 3.0042e-05\n",
            "Epoch 41/100\n",
            "20/20 [==============================] - 1s 44ms/step - loss: 5.0492e-04 - val_loss: 1.2678e-05\n",
            "Epoch 42/100\n",
            "20/20 [==============================] - 1s 46ms/step - loss: 5.0200e-04 - val_loss: 1.2220e-05\n",
            "Epoch 43/100\n",
            "20/20 [==============================] - 1s 50ms/step - loss: 4.9709e-04 - val_loss: 1.2957e-05\n",
            "Epoch 44/100\n",
            "20/20 [==============================] - 1s 46ms/step - loss: 5.1085e-04 - val_loss: 1.3475e-05\n",
            "Epoch 45/100\n",
            "20/20 [==============================] - 1s 47ms/step - loss: 5.6789e-04 - val_loss: 1.4434e-05\n",
            "Epoch 46/100\n",
            "20/20 [==============================] - 1s 46ms/step - loss: 5.5554e-04 - val_loss: 2.5569e-05\n",
            "Epoch 47/100\n",
            "20/20 [==============================] - 1s 69ms/step - loss: 5.2908e-04 - val_loss: 2.7002e-05\n",
            "Epoch 48/100\n",
            "20/20 [==============================] - 1s 69ms/step - loss: 4.8631e-04 - val_loss: 2.9803e-05\n",
            "Epoch 49/100\n",
            "20/20 [==============================] - 2s 117ms/step - loss: 5.0800e-04 - val_loss: 1.3928e-05\n",
            "Epoch 50/100\n",
            "20/20 [==============================] - 1s 29ms/step - loss: 5.1856e-04 - val_loss: 3.2658e-05\n",
            "Epoch 51/100\n",
            "20/20 [==============================] - 0s 24ms/step - loss: 5.3392e-04 - val_loss: 6.8667e-05\n",
            "Epoch 52/100\n",
            "20/20 [==============================] - 0s 23ms/step - loss: 5.2562e-04 - val_loss: 1.7607e-05\n",
            "Epoch 53/100\n",
            "20/20 [==============================] - 0s 24ms/step - loss: 5.4326e-04 - val_loss: 4.1871e-05\n",
            "Epoch 54/100\n",
            "20/20 [==============================] - 0s 23ms/step - loss: 4.8464e-04 - val_loss: 3.3098e-05\n",
            "Epoch 55/100\n",
            "20/20 [==============================] - 0s 24ms/step - loss: 4.9169e-04 - val_loss: 2.9083e-05\n",
            "Epoch 56/100\n",
            "20/20 [==============================] - 0s 23ms/step - loss: 4.9796e-04 - val_loss: 3.5970e-05\n",
            "Epoch 57/100\n",
            "20/20 [==============================] - 0s 24ms/step - loss: 5.0944e-04 - val_loss: 3.7279e-05\n",
            "Epoch 58/100\n",
            "20/20 [==============================] - 0s 24ms/step - loss: 4.7225e-04 - val_loss: 6.7214e-05\n",
            "Epoch 59/100\n",
            "20/20 [==============================] - 0s 24ms/step - loss: 4.9226e-04 - val_loss: 4.4008e-05\n",
            "Epoch 60/100\n",
            "20/20 [==============================] - 0s 23ms/step - loss: 4.7164e-04 - val_loss: 4.2772e-05\n",
            "Epoch 61/100\n",
            "20/20 [==============================] - 0s 23ms/step - loss: 4.6772e-04 - val_loss: 5.6272e-05\n",
            "Epoch 62/100\n",
            "20/20 [==============================] - 0s 23ms/step - loss: 4.7846e-04 - val_loss: 3.4648e-05\n",
            "Epoch 63/100\n",
            "20/20 [==============================] - 0s 24ms/step - loss: 4.7523e-04 - val_loss: 5.6662e-05\n",
            "Epoch 64/100\n",
            "20/20 [==============================] - 1s 52ms/step - loss: 4.6761e-04 - val_loss: 3.6246e-05\n",
            "Epoch 65/100\n",
            "20/20 [==============================] - 1s 57ms/step - loss: 4.8578e-04 - val_loss: 4.9510e-05\n",
            "Epoch 66/100\n",
            "20/20 [==============================] - 1s 39ms/step - loss: 4.7241e-04 - val_loss: 8.2312e-05\n",
            "Epoch 67/100\n",
            "20/20 [==============================] - 1s 28ms/step - loss: 4.8339e-04 - val_loss: 2.9195e-05\n",
            "Epoch 68/100\n",
            "20/20 [==============================] - 1s 42ms/step - loss: 4.5967e-04 - val_loss: 6.6827e-05\n",
            "Epoch 69/100\n",
            "20/20 [==============================] - 1s 39ms/step - loss: 4.7561e-04 - val_loss: 3.9215e-05\n",
            "Epoch 70/100\n",
            "20/20 [==============================] - 1s 42ms/step - loss: 4.5707e-04 - val_loss: 3.4584e-05\n",
            "Epoch 71/100\n",
            "20/20 [==============================] - 1s 47ms/step - loss: 4.6376e-04 - val_loss: 2.4522e-05\n",
            "Epoch 72/100\n",
            "20/20 [==============================] - 1s 34ms/step - loss: 4.5741e-04 - val_loss: 2.8715e-05\n",
            "Epoch 73/100\n",
            "20/20 [==============================] - 0s 23ms/step - loss: 4.7182e-04 - val_loss: 5.8775e-05\n",
            "Epoch 74/100\n",
            "20/20 [==============================] - 0s 23ms/step - loss: 4.7483e-04 - val_loss: 2.8495e-05\n",
            "Epoch 75/100\n",
            "20/20 [==============================] - 0s 23ms/step - loss: 4.6450e-04 - val_loss: 1.5791e-05\n",
            "Epoch 76/100\n",
            "20/20 [==============================] - 0s 23ms/step - loss: 4.9619e-04 - val_loss: 3.5450e-05\n",
            "Epoch 77/100\n",
            "20/20 [==============================] - 0s 24ms/step - loss: 4.5931e-04 - val_loss: 6.4869e-05\n",
            "Epoch 78/100\n",
            "20/20 [==============================] - 0s 23ms/step - loss: 4.6465e-04 - val_loss: 2.9275e-05\n",
            "Epoch 79/100\n",
            "20/20 [==============================] - 1s 26ms/step - loss: 4.6146e-04 - val_loss: 1.8724e-05\n",
            "Epoch 80/100\n",
            "20/20 [==============================] - 0s 23ms/step - loss: 4.8168e-04 - val_loss: 3.4885e-05\n",
            "Epoch 81/100\n",
            "20/20 [==============================] - 0s 24ms/step - loss: 4.5942e-04 - val_loss: 3.0411e-05\n",
            "Epoch 82/100\n",
            "20/20 [==============================] - 0s 23ms/step - loss: 5.2729e-04 - val_loss: 4.1374e-05\n",
            "Epoch 83/100\n",
            "20/20 [==============================] - 0s 24ms/step - loss: 4.8642e-04 - val_loss: 5.8099e-05\n",
            "Epoch 84/100\n",
            "20/20 [==============================] - 0s 22ms/step - loss: 4.9342e-04 - val_loss: 2.1375e-05\n",
            "Epoch 85/100\n",
            "20/20 [==============================] - 0s 23ms/step - loss: 4.7458e-04 - val_loss: 2.0924e-05\n",
            "Epoch 86/100\n",
            "20/20 [==============================] - 0s 23ms/step - loss: 4.5812e-04 - val_loss: 6.1858e-05\n",
            "Epoch 87/100\n",
            "20/20 [==============================] - 0s 24ms/step - loss: 4.7460e-04 - val_loss: 6.7761e-05\n",
            "Epoch 88/100\n",
            "20/20 [==============================] - 0s 23ms/step - loss: 4.7358e-04 - val_loss: 1.6366e-05\n",
            "Epoch 89/100\n",
            "20/20 [==============================] - 0s 23ms/step - loss: 4.4432e-04 - val_loss: 3.6902e-05\n",
            "Epoch 90/100\n",
            "20/20 [==============================] - 0s 25ms/step - loss: 4.4087e-04 - val_loss: 2.9066e-05\n",
            "Epoch 91/100\n",
            "20/20 [==============================] - 0s 24ms/step - loss: 4.3889e-04 - val_loss: 8.9492e-06\n",
            "Epoch 92/100\n",
            "20/20 [==============================] - 0s 25ms/step - loss: 4.5105e-04 - val_loss: 3.9343e-05\n",
            "Epoch 93/100\n",
            "20/20 [==============================] - 1s 30ms/step - loss: 4.4863e-04 - val_loss: 2.9625e-05\n",
            "Epoch 94/100\n",
            "20/20 [==============================] - 1s 45ms/step - loss: 5.2183e-04 - val_loss: 5.7439e-05\n",
            "Epoch 95/100\n",
            "20/20 [==============================] - 1s 45ms/step - loss: 4.9455e-04 - val_loss: 4.6367e-05\n",
            "Epoch 96/100\n",
            "20/20 [==============================] - 1s 44ms/step - loss: 4.8462e-04 - val_loss: 1.5202e-05\n",
            "Epoch 97/100\n",
            "20/20 [==============================] - 1s 41ms/step - loss: 4.5560e-04 - val_loss: 4.7184e-05\n",
            "Epoch 98/100\n",
            "20/20 [==============================] - 1s 28ms/step - loss: 4.3561e-04 - val_loss: 1.2276e-05\n",
            "Epoch 99/100\n",
            "20/20 [==============================] - 0s 23ms/step - loss: 4.5750e-04 - val_loss: 3.9232e-05\n",
            "Epoch 100/100\n",
            "20/20 [==============================] - 0s 22ms/step - loss: 4.4837e-04 - val_loss: 1.9249e-05\n"
          ]
        },
        {
          "output_type": "execute_result",
          "data": {
            "text/plain": [
              "<keras.src.callbacks.History at 0x780643d66a10>"
            ]
          },
          "metadata": {},
          "execution_count": 149
        }
      ]
    },
    {
      "cell_type": "code",
      "source": [
        "# 10. Dự báo dữ liệu test\n",
        "train_predict = model.predict(X_train)\n",
        "y_pred = model.predict(X_test)"
      ],
      "metadata": {
        "colab": {
          "base_uri": "https://localhost:8080/"
        },
        "id": "TDEczvhphRd-",
        "outputId": "e4dc69ac-be87-4572-e1df-b92aed57e72d"
      },
      "execution_count": 150,
      "outputs": [
        {
          "output_type": "stream",
          "name": "stdout",
          "text": [
            "39/39 [==============================] - 0s 7ms/step\n",
            "15/15 [==============================] - 0s 7ms/step\n"
          ]
        }
      ]
    },
    {
      "cell_type": "code",
      "source": [
        "# 11. Chuẩn hóa dữ liệu y_pred\n",
        "train_predict = scaler.inverse_transform(train_predict)\n",
        "y_pred = scaler.inverse_transform(y_pred)"
      ],
      "metadata": {
        "id": "6R19JXz0hUtx"
      },
      "execution_count": 151,
      "outputs": []
    },
    {
      "cell_type": "code",
      "source": [
        "# 12. Đánh giá độ chính xác thuật toán bằng RMSE\n",
        "test_rmse = np.sqrt(np.mean((y_pred - scaler.inverse_transform(ytest.reshape(-1, 1)))**2))\n",
        "print('Testing RMSE:', test_rmse)"
      ],
      "metadata": {
        "colab": {
          "base_uri": "https://localhost:8080/"
        },
        "id": "ZKUAOQJPhYYF",
        "outputId": "9990aeef-682d-4eea-c3d4-f27e4e1b0215"
      },
      "execution_count": 152,
      "outputs": [
        {
          "output_type": "stream",
          "name": "stdout",
          "text": [
            "Testing RMSE: 20.62297684519943\n"
          ]
        }
      ]
    },
    {
      "cell_type": "code",
      "source": [
        "# 13. Dự báo 30 ngày tiếp theo\n",
        "x_input = test_data[-100:].reshape(1, -1)\n",
        "x_input.shape\n",
        "\n",
        "temp_input = list(x_input)\n",
        "temp_input = temp_input[0].tolist()\n",
        "\n",
        "lst_output = []\n",
        "n_steps = 100\n",
        "i = 0\n",
        "while i < 30:\n",
        "    if len(temp_input) > 100:\n",
        "        x_input = np.array(temp_input[1:])\n",
        "        x_input = x_input.reshape(1, -1)\n",
        "        x_input = x_input.reshape((1, n_steps, 1))\n",
        "        yhat = model.predict(x_input, verbose=0)\n",
        "        temp_input.extend(yhat[0].tolist())\n",
        "        temp_input = temp_input[1:]\n",
        "        lst_output.extend(yhat.tolist())\n",
        "        i += 1\n",
        "    else:\n",
        "        x_input = x_input.reshape((1, n_steps, 1))\n",
        "        yhat = model.predict(x_input, verbose=0)\n",
        "        temp_input.extend(yhat[0].tolist())\n",
        "        lst_output.extend(yhat.tolist())\n",
        "        i += 1"
      ],
      "metadata": {
        "id": "ceETKf--hb1t"
      },
      "execution_count": 153,
      "outputs": []
    },
    {
      "cell_type": "code",
      "source": [
        "# 14. Vẽ hình\n",
        "plt.plot(scaler.inverse_transform(train_data), label='Train Data')\n",
        "plt.plot(range(train_size, train_size + len(test_data)), scaler.inverse_transform(test_data), label='Test Data')\n",
        "plt.plot(range(train_size + 100, train_size + 100 + len(y_pred)), y_pred, label='Predicted Test Data')\n",
        "plt.plot(range(len(df1), len(df1) + 30), scaler.inverse_transform(lst_output), label='Predicted Next 30 Days')\n",
        "\n",
        "plt.legend()\n",
        "plt.show()"
      ],
      "metadata": {
        "colab": {
          "base_uri": "https://localhost:8080/",
          "height": 661
        },
        "id": "-YRE06jgheHr",
        "outputId": "530c7188-b902-4ed7-ea15-95f5d86b29c7"
      },
      "execution_count": 154,
      "outputs": [
        {
          "output_type": "error",
          "ename": "TypeError",
          "evalue": "'float' object cannot be interpreted as an integer",
          "traceback": [
            "\u001b[0;31m---------------------------------------------------------------------------\u001b[0m",
            "\u001b[0;31mTypeError\u001b[0m                                 Traceback (most recent call last)",
            "\u001b[0;32m<ipython-input-154-8297ecae92f5>\u001b[0m in \u001b[0;36m<cell line: 3>\u001b[0;34m()\u001b[0m\n\u001b[1;32m      1\u001b[0m \u001b[0;31m# 14. Vẽ hình\u001b[0m\u001b[0;34m\u001b[0m\u001b[0;34m\u001b[0m\u001b[0m\n\u001b[1;32m      2\u001b[0m \u001b[0mplt\u001b[0m\u001b[0;34m.\u001b[0m\u001b[0mplot\u001b[0m\u001b[0;34m(\u001b[0m\u001b[0mscaler\u001b[0m\u001b[0;34m.\u001b[0m\u001b[0minverse_transform\u001b[0m\u001b[0;34m(\u001b[0m\u001b[0mtrain_data\u001b[0m\u001b[0;34m)\u001b[0m\u001b[0;34m,\u001b[0m \u001b[0mlabel\u001b[0m\u001b[0;34m=\u001b[0m\u001b[0;34m'Train Data'\u001b[0m\u001b[0;34m)\u001b[0m\u001b[0;34m\u001b[0m\u001b[0;34m\u001b[0m\u001b[0m\n\u001b[0;32m----> 3\u001b[0;31m \u001b[0mplt\u001b[0m\u001b[0;34m.\u001b[0m\u001b[0mplot\u001b[0m\u001b[0;34m(\u001b[0m\u001b[0mrange\u001b[0m\u001b[0;34m(\u001b[0m\u001b[0mtrain_size\u001b[0m\u001b[0;34m,\u001b[0m \u001b[0mtrain_size\u001b[0m \u001b[0;34m+\u001b[0m \u001b[0mlen\u001b[0m\u001b[0;34m(\u001b[0m\u001b[0mtest_data\u001b[0m\u001b[0;34m)\u001b[0m\u001b[0;34m)\u001b[0m\u001b[0;34m,\u001b[0m \u001b[0mscaler\u001b[0m\u001b[0;34m.\u001b[0m\u001b[0minverse_transform\u001b[0m\u001b[0;34m(\u001b[0m\u001b[0mtest_data\u001b[0m\u001b[0;34m)\u001b[0m\u001b[0;34m,\u001b[0m \u001b[0mlabel\u001b[0m\u001b[0;34m=\u001b[0m\u001b[0;34m'Test Data'\u001b[0m\u001b[0;34m)\u001b[0m\u001b[0;34m\u001b[0m\u001b[0;34m\u001b[0m\u001b[0m\n\u001b[0m\u001b[1;32m      4\u001b[0m \u001b[0mplt\u001b[0m\u001b[0;34m.\u001b[0m\u001b[0mplot\u001b[0m\u001b[0;34m(\u001b[0m\u001b[0mrange\u001b[0m\u001b[0;34m(\u001b[0m\u001b[0mtrain_size\u001b[0m \u001b[0;34m+\u001b[0m \u001b[0;36m100\u001b[0m\u001b[0;34m,\u001b[0m \u001b[0mtrain_size\u001b[0m \u001b[0;34m+\u001b[0m \u001b[0;36m100\u001b[0m \u001b[0;34m+\u001b[0m \u001b[0mlen\u001b[0m\u001b[0;34m(\u001b[0m\u001b[0my_pred\u001b[0m\u001b[0;34m)\u001b[0m\u001b[0;34m)\u001b[0m\u001b[0;34m,\u001b[0m \u001b[0my_pred\u001b[0m\u001b[0;34m,\u001b[0m \u001b[0mlabel\u001b[0m\u001b[0;34m=\u001b[0m\u001b[0;34m'Predicted Test Data'\u001b[0m\u001b[0;34m)\u001b[0m\u001b[0;34m\u001b[0m\u001b[0;34m\u001b[0m\u001b[0m\n\u001b[1;32m      5\u001b[0m \u001b[0mplt\u001b[0m\u001b[0;34m.\u001b[0m\u001b[0mplot\u001b[0m\u001b[0;34m(\u001b[0m\u001b[0mrange\u001b[0m\u001b[0;34m(\u001b[0m\u001b[0mlen\u001b[0m\u001b[0;34m(\u001b[0m\u001b[0mdf1\u001b[0m\u001b[0;34m)\u001b[0m\u001b[0;34m,\u001b[0m \u001b[0mlen\u001b[0m\u001b[0;34m(\u001b[0m\u001b[0mdf1\u001b[0m\u001b[0;34m)\u001b[0m \u001b[0;34m+\u001b[0m \u001b[0;36m30\u001b[0m\u001b[0;34m)\u001b[0m\u001b[0;34m,\u001b[0m \u001b[0mscaler\u001b[0m\u001b[0;34m.\u001b[0m\u001b[0minverse_transform\u001b[0m\u001b[0;34m(\u001b[0m\u001b[0mlst_output\u001b[0m\u001b[0;34m)\u001b[0m\u001b[0;34m,\u001b[0m \u001b[0mlabel\u001b[0m\u001b[0;34m=\u001b[0m\u001b[0;34m'Predicted Next 30 Days'\u001b[0m\u001b[0;34m)\u001b[0m\u001b[0;34m\u001b[0m\u001b[0;34m\u001b[0m\u001b[0m\n",
            "\u001b[0;31mTypeError\u001b[0m: 'float' object cannot be interpreted as an integer"
          ]
        },
        {
          "output_type": "display_data",
          "data": {
            "text/plain": [
              "<Figure size 640x480 with 1 Axes>"
            ],
            "image/png": "[encoded data removed]"
          },
          "metadata": {}
        }
      ]
    },
    {
      "cell_type": "code",
      "source": [
        "# 13. Dự báo 60 ngày tiếp theo\n",
        "x_input = test_data[-100:].reshape(1, -1)\n",
        "x_input.shape\n",
        "\n",
        "temp_input = list(x_input)\n",
        "temp_input = temp_input[0].tolist()\n",
        "\n",
        "lst_output = []\n",
        "n_steps = 100\n",
        "i = 0\n",
        "while i < 60:  # Sửa số lần lặp từ 30 thành 60\n",
        "    if len(temp_input) > 100:\n",
        "        x_input = np.array(temp_input[1:])\n",
        "        x_input = x_input.reshape(1, -1)\n",
        "        x_input = x_input.reshape((1, n_steps, 1))\n",
        "        yhat = model.predict(x_input, verbose=0)\n",
        "        temp_input.extend(yhat[0].tolist())\n",
        "        temp_input = temp_input[1:]\n",
        "        lst_output.extend(yhat.tolist())\n",
        "        i += 1\n",
        "    else:\n",
        "        x_input = x_input.reshape((1, n_steps, 1))\n",
        "        yhat = model.predict(x_input, verbose=0)\n",
        "        temp_input.extend(yhat[0].tolist())\n",
        "        lst_output.extend(yhat.tolist())\n",
        "        i += 1\n",
        "\n",
        "# 14. Vẽ hình\n",
        "plt.plot(scaler.inverse_transform(train_data), label='Train Data')\n",
        "plt.plot(range(train_size, train_size + len(test_data)), scaler.inverse_transform(test_data), label='Test Data')\n",
        "plt.plot(range(train_size + 100, train_size + 100 + len(y_pred)), y_pred, label='Predicted Test Data')\n",
        "plt.plot(range(len(df1), len(df1) + 60), scaler.inverse_transform(lst_output), label='Predicted Next 60 Days')  # Sửa số ngày từ 30 thành 60\n",
        "\n",
        "plt.legend()\n",
        "plt.show()"
      ],
      "metadata": {
        "id": "Dsi4NRFshe-0"
      },
      "execution_count": null,
      "outputs": []
    },
    {
      "cell_type": "code",
      "source": [
        "# 13. Dự báo 90 ngày tiếp theo\n",
        "x_input = test_data[-100:].reshape(1, -1)\n",
        "x_input.shape\n",
        "\n",
        "temp_input = list(x_input)\n",
        "temp_input = temp_input[0].tolist()\n",
        "\n",
        "lst_output = []\n",
        "n_steps = 100\n",
        "i = 0\n",
        "while i < 90:  # Sửa số lần lặp từ 30 thành 90\n",
        "    if len(temp_input) > 100:\n",
        "        x_input = np.array(temp_input[1:])\n",
        "        x_input = x_input.reshape(1, -1)\n",
        "        x_input = x_input.reshape((1, n_steps, 1))\n",
        "        yhat = model.predict(x_input, verbose=0)\n",
        "        temp_input.extend(yhat[0].tolist())\n",
        "        temp_input = temp_input[1:]\n",
        "        lst_output.extend(yhat.tolist())\n",
        "        i += 1\n",
        "    else:\n",
        "        x_input = x_input.reshape((1, n_steps, 1))\n",
        "        yhat = model.predict(x_input, verbose=0)\n",
        "        temp_input.extend(yhat[0].tolist())\n",
        "        lst_output.extend(yhat.tolist())\n",
        "        i += 1\n",
        "\n",
        "# 14. Vẽ hình\n",
        "plt.plot(scaler.inverse_transform(train_data), label='Train Data')\n",
        "plt.plot(range(train_size, train_size + len(test_data)), scaler.inverse_transform(test_data), label='Test Data')\n",
        "plt.plot(range(train_size + 100, train_size + 100 + len(y_pred)), y_pred, label='Predicted Test Data')\n",
        "plt.plot(range(len(df1), len(df1) + 90), scaler.inverse_transform(lst_output), label='Predicted Next 90 Days')  # Sửa số ngày từ 30 thành 90\n",
        "\n",
        "plt.legend()\n",
        "plt.show()"
      ],
      "metadata": {
        "id": "sceOlM2jhl7U"
      },
      "execution_count": null,
      "outputs": []
    },
    {
      "cell_type": "code",
      "source": [],
      "metadata": {
        "id": "H1LvLkIvh8Nh"
      },
      "execution_count": null,
      "outputs": []
    },
    {
      "cell_type": "markdown",
      "source": [
        "###LSTM"
      ],
      "metadata": {
        "id": "AkV9236-h9E0"
      }
    },
    {
      "cell_type": "code",
      "source": [
        "scaler=MinMaxScaler(feature_range=(0,1))\n",
        "df1=scaler.fit_transform(np.array(df1).reshape(-1,1))"
      ],
      "metadata": {
        "id": "9DRcQr04iAFa"
      },
      "execution_count": null,
      "outputs": []
    },
    {
      "cell_type": "code",
      "source": [
        "train_size = int(0.6 * len(df1))\n",
        "test_size = int(0.3 * len(df1))\n",
        "val_size = len(df1) - train_size - test_size\n",
        "\n",
        "train_data = df1[:train_size]\n",
        "test_data = df1[train_size:train_size+test_size]\n",
        "val_data = df1[train_size+test_size:]\n",
        "\n",
        "print(\"Train shape:\", train_data.shape)\n",
        "print(\"Test shape:\", test_data.shape)\n",
        "print(\"Validate shape:\", val_data.shape)"
      ],
      "metadata": {
        "id": "tBDgVNjHICi5"
      },
      "execution_count": null,
      "outputs": []
    },
    {
      "cell_type": "code",
      "source": [
        "# 5. Hàm Create Dataset\n",
        "def create_dataset(dataset, time_step=1):\n",
        "    dataX, dataY = [], []\n",
        "    for i in range(len(dataset) - time_step - 1):\n",
        "        a = dataset[i:(i + time_step), 0]\n",
        "        dataX.append(a)\n",
        "        dataY.append(dataset[i + time_step, 0])\n",
        "    return np.array(dataX), np.array(dataY)"
      ],
      "metadata": {
        "id": "DvyPtO3jiIvS"
      },
      "execution_count": null,
      "outputs": []
    },
    {
      "cell_type": "code",
      "source": [
        "# 6. Reshape into X=t,t+1,t+2..t+99 and Y=t+100\n",
        "time_step = 100\n",
        "X_train, y_train = create_dataset(train_data, time_step)\n",
        "X_test, y_test = create_dataset(test_data, time_step)"
      ],
      "metadata": {
        "id": "OKMVdlsSiLqE"
      },
      "execution_count": null,
      "outputs": []
    },
    {
      "cell_type": "code",
      "source": [
        "# 7. Reshape input to be [samples, time steps, features] which is required for LSTM\n",
        "X_train = X_train.reshape(X_train.shape[0], X_train.shape[1], 1)\n",
        "X_test = X_test.reshape(X_test.shape[0], X_test.shape[1], 1)"
      ],
      "metadata": {
        "id": "AjjuiajuiOJX"
      },
      "execution_count": null,
      "outputs": []
    },
    {
      "cell_type": "code",
      "source": [
        "# 8. Define LSTM Model\n",
        "model = Sequential()\n",
        "model.add(LSTM(50, return_sequences=True, input_shape=(100, 1)))\n",
        "model.add(LSTM(50, return_sequences=True))\n",
        "model.add(LSTM(50))\n",
        "model.add(Dense(1))\n",
        "model.compile(loss='mean_squared_error', optimizer='adam')"
      ],
      "metadata": {
        "id": "qofWSNveiQUQ"
      },
      "execution_count": null,
      "outputs": []
    },
    {
      "cell_type": "code",
      "source": [
        "# 9. Fit mô hình với dữ liệu train\n",
        "model.fit(X_train, y_train, validation_data=(X_test, y_test), epochs=100, batch_size=64, verbose=1)"
      ],
      "metadata": {
        "colab": {
          "base_uri": "https://localhost:8080/"
        },
        "id": "gwwtlJCMiTg-",
        "outputId": "cbb7fb34-06dc-4473-b225-32971bb61238"
      },
      "execution_count": 82,
      "outputs": [
        {
          "output_type": "stream",
          "name": "stdout",
          "text": [
            "Epoch 1/100\n",
            "20/20 [==============================] - 12s 259ms/step - loss: 0.0262 - val_loss: 0.0124\n",
            "Epoch 2/100\n",
            "20/20 [==============================] - 4s 200ms/step - loss: 0.0062 - val_loss: 0.0021\n",
            "Epoch 3/100\n",
            "20/20 [==============================] - 5s 265ms/step - loss: 0.0037 - val_loss: 6.6150e-05\n",
            "Epoch 4/100\n",
            "20/20 [==============================] - 4s 182ms/step - loss: 0.0036 - val_loss: 5.6375e-04\n",
            "Epoch 5/100\n",
            "20/20 [==============================] - 4s 182ms/step - loss: 0.0032 - val_loss: 2.2909e-04\n",
            "Epoch 6/100\n",
            "20/20 [==============================] - 6s 297ms/step - loss: 0.0029 - val_loss: 2.8708e-04\n",
            "Epoch 7/100\n",
            "20/20 [==============================] - 5s 231ms/step - loss: 0.0028 - val_loss: 2.3666e-04\n",
            "Epoch 8/100\n",
            "20/20 [==============================] - 7s 379ms/step - loss: 0.0025 - val_loss: 1.6538e-04\n",
            "Epoch 9/100\n",
            "20/20 [==============================] - 8s 397ms/step - loss: 0.0023 - val_loss: 8.7229e-05\n",
            "Epoch 10/100\n",
            "20/20 [==============================] - 11s 541ms/step - loss: 0.0022 - val_loss: 3.3443e-05\n",
            "Epoch 11/100\n",
            "20/20 [==============================] - 10s 502ms/step - loss: 0.0021 - val_loss: 3.0375e-05\n",
            "Epoch 12/100\n",
            "20/20 [==============================] - 9s 427ms/step - loss: 0.0021 - val_loss: 3.5558e-05\n",
            "Epoch 13/100\n",
            "20/20 [==============================] - 7s 334ms/step - loss: 0.0019 - val_loss: 2.1935e-05\n",
            "Epoch 14/100\n",
            "20/20 [==============================] - 7s 346ms/step - loss: 0.0021 - val_loss: 2.4299e-05\n",
            "Epoch 15/100\n",
            "20/20 [==============================] - 4s 187ms/step - loss: 0.0017 - val_loss: 2.0595e-05\n",
            "Epoch 16/100\n",
            "20/20 [==============================] - 4s 206ms/step - loss: 0.0017 - val_loss: 2.2099e-05\n",
            "Epoch 17/100\n",
            "20/20 [==============================] - 5s 247ms/step - loss: 0.0016 - val_loss: 1.9613e-05\n",
            "Epoch 18/100\n",
            "20/20 [==============================] - 4s 182ms/step - loss: 0.0015 - val_loss: 1.9467e-05\n",
            "Epoch 19/100\n",
            "20/20 [==============================] - 4s 184ms/step - loss: 0.0014 - val_loss: 2.3372e-05\n",
            "Epoch 20/100\n",
            "20/20 [==============================] - 5s 279ms/step - loss: 0.0013 - val_loss: 3.1155e-05\n",
            "Epoch 21/100\n",
            "20/20 [==============================] - 4s 186ms/step - loss: 0.0013 - val_loss: 1.7598e-05\n",
            "Epoch 22/100\n",
            "20/20 [==============================] - 4s 192ms/step - loss: 0.0012 - val_loss: 1.8795e-05\n",
            "Epoch 23/100\n",
            "20/20 [==============================] - 5s 234ms/step - loss: 0.0012 - val_loss: 1.8093e-05\n",
            "Epoch 24/100\n",
            "20/20 [==============================] - 5s 223ms/step - loss: 0.0013 - val_loss: 3.3637e-05\n",
            "Epoch 25/100\n",
            "20/20 [==============================] - 4s 187ms/step - loss: 0.0014 - val_loss: 3.5015e-05\n",
            "Epoch 26/100\n",
            "20/20 [==============================] - 4s 182ms/step - loss: 0.0013 - val_loss: 3.4867e-05\n",
            "Epoch 27/100\n",
            "20/20 [==============================] - 5s 278ms/step - loss: 0.0011 - val_loss: 3.8920e-05\n",
            "Epoch 28/100\n",
            "20/20 [==============================] - 4s 183ms/step - loss: 0.0010 - val_loss: 2.5417e-05\n",
            "Epoch 29/100\n",
            "20/20 [==============================] - 4s 184ms/step - loss: 0.0010 - val_loss: 2.9773e-05\n",
            "Epoch 30/100\n",
            "20/20 [==============================] - 5s 243ms/step - loss: 9.2891e-04 - val_loss: 2.4484e-05\n",
            "Epoch 31/100\n",
            "20/20 [==============================] - 4s 198ms/step - loss: 9.2631e-04 - val_loss: 3.6927e-05\n",
            "Epoch 32/100\n",
            "20/20 [==============================] - 4s 184ms/step - loss: 9.1388e-04 - val_loss: 1.5936e-05\n",
            "Epoch 33/100\n",
            "20/20 [==============================] - 4s 192ms/step - loss: 0.0010 - val_loss: 2.4650e-05\n",
            "Epoch 34/100\n",
            "20/20 [==============================] - 6s 303ms/step - loss: 0.0011 - val_loss: 3.6865e-05\n",
            "Epoch 35/100\n",
            "20/20 [==============================] - 4s 184ms/step - loss: 8.4119e-04 - val_loss: 2.5739e-05\n",
            "Epoch 36/100\n",
            "20/20 [==============================] - 4s 184ms/step - loss: 8.0547e-04 - val_loss: 1.4716e-05\n",
            "Epoch 37/100\n",
            "20/20 [==============================] - 6s 282ms/step - loss: 9.5309e-04 - val_loss: 2.7128e-05\n",
            "Epoch 38/100\n",
            "20/20 [==============================] - 4s 184ms/step - loss: 7.6930e-04 - val_loss: 1.5200e-05\n",
            "Epoch 39/100\n",
            "20/20 [==============================] - 4s 183ms/step - loss: 8.3468e-04 - val_loss: 1.5842e-05\n",
            "Epoch 40/100\n",
            "20/20 [==============================] - 4s 217ms/step - loss: 8.0993e-04 - val_loss: 2.0361e-05\n",
            "Epoch 41/100\n",
            "20/20 [==============================] - 5s 242ms/step - loss: 7.3699e-04 - val_loss: 1.8038e-05\n",
            "Epoch 42/100\n",
            "20/20 [==============================] - 6s 328ms/step - loss: 7.8330e-04 - val_loss: 1.6689e-05\n",
            "Epoch 43/100\n",
            "20/20 [==============================] - 5s 263ms/step - loss: 7.0561e-04 - val_loss: 1.3362e-05\n",
            "Epoch 44/100\n",
            "20/20 [==============================] - 4s 187ms/step - loss: 0.0011 - val_loss: 3.4769e-05\n",
            "Epoch 45/100\n",
            "20/20 [==============================] - 4s 182ms/step - loss: 6.9923e-04 - val_loss: 1.3711e-05\n",
            "Epoch 46/100\n",
            "20/20 [==============================] - 4s 202ms/step - loss: 7.3266e-04 - val_loss: 1.6273e-05\n",
            "Epoch 47/100\n",
            "20/20 [==============================] - 5s 251ms/step - loss: 7.0618e-04 - val_loss: 2.6250e-05\n",
            "Epoch 48/100\n",
            "20/20 [==============================] - 4s 185ms/step - loss: 6.7824e-04 - val_loss: 1.7191e-05\n",
            "Epoch 49/100\n",
            "20/20 [==============================] - 4s 184ms/step - loss: 6.9221e-04 - val_loss: 1.3651e-05\n",
            "Epoch 50/100\n",
            "20/20 [==============================] - 5s 274ms/step - loss: 6.3993e-04 - val_loss: 1.1802e-05\n",
            "Epoch 51/100\n",
            "20/20 [==============================] - 5s 263ms/step - loss: 6.1950e-04 - val_loss: 2.3133e-05\n",
            "Epoch 52/100\n",
            "20/20 [==============================] - 4s 185ms/step - loss: 8.9955e-04 - val_loss: 1.5948e-05\n",
            "Epoch 53/100\n",
            "20/20 [==============================] - 5s 281ms/step - loss: 7.6807e-04 - val_loss: 1.9573e-05\n",
            "Epoch 54/100\n",
            "20/20 [==============================] - 4s 184ms/step - loss: 6.0657e-04 - val_loss: 2.6589e-05\n",
            "Epoch 55/100\n",
            "20/20 [==============================] - 4s 185ms/step - loss: 5.6377e-04 - val_loss: 1.0893e-05\n",
            "Epoch 56/100\n",
            "20/20 [==============================] - 4s 226ms/step - loss: 5.6264e-04 - val_loss: 1.4729e-05\n",
            "Epoch 57/100\n",
            "20/20 [==============================] - 5s 230ms/step - loss: 5.9237e-04 - val_loss: 1.5833e-05\n",
            "Epoch 58/100\n",
            "20/20 [==============================] - 4s 219ms/step - loss: 5.6755e-04 - val_loss: 1.0917e-05\n",
            "Epoch 59/100\n",
            "20/20 [==============================] - 4s 194ms/step - loss: 5.8220e-04 - val_loss: 1.5445e-05\n",
            "Epoch 60/100\n",
            "20/20 [==============================] - 5s 267ms/step - loss: 6.7514e-04 - val_loss: 1.0875e-05\n",
            "Epoch 61/100\n",
            "20/20 [==============================] - 4s 193ms/step - loss: 5.3659e-04 - val_loss: 1.2105e-05\n",
            "Epoch 62/100\n",
            "20/20 [==============================] - 4s 188ms/step - loss: 5.4640e-04 - val_loss: 1.3142e-05\n",
            "Epoch 63/100\n",
            "20/20 [==============================] - 6s 304ms/step - loss: 6.1088e-04 - val_loss: 1.0493e-05\n",
            "Epoch 64/100\n",
            "20/20 [==============================] - 4s 189ms/step - loss: 5.4866e-04 - val_loss: 9.8854e-06\n",
            "Epoch 65/100\n",
            "20/20 [==============================] - 4s 187ms/step - loss: 5.6304e-04 - val_loss: 1.7330e-05\n",
            "Epoch 66/100\n",
            "20/20 [==============================] - 5s 272ms/step - loss: 5.1143e-04 - val_loss: 1.3046e-05\n",
            "Epoch 67/100\n",
            "20/20 [==============================] - 4s 183ms/step - loss: 5.3138e-04 - val_loss: 1.0418e-05\n",
            "Epoch 68/100\n",
            "20/20 [==============================] - 4s 183ms/step - loss: 5.0082e-04 - val_loss: 1.4392e-05\n",
            "Epoch 69/100\n",
            "20/20 [==============================] - 8s 405ms/step - loss: 6.5457e-04 - val_loss: 1.1084e-05\n",
            "Epoch 70/100\n",
            "20/20 [==============================] - 4s 189ms/step - loss: 6.4311e-04 - val_loss: 2.1496e-05\n",
            "Epoch 71/100\n",
            "20/20 [==============================] - 4s 185ms/step - loss: 5.2224e-04 - val_loss: 1.3573e-05\n",
            "Epoch 72/100\n",
            "20/20 [==============================] - 5s 240ms/step - loss: 6.5402e-04 - val_loss: 1.6163e-05\n",
            "Epoch 73/100\n",
            "20/20 [==============================] - 4s 201ms/step - loss: 5.7351e-04 - val_loss: 1.1499e-05\n",
            "Epoch 74/100\n",
            "20/20 [==============================] - 4s 183ms/step - loss: 5.5464e-04 - val_loss: 1.7297e-05\n",
            "Epoch 75/100\n",
            "20/20 [==============================] - 4s 195ms/step - loss: 5.2283e-04 - val_loss: 1.0744e-05\n",
            "Epoch 76/100\n",
            "20/20 [==============================] - 5s 259ms/step - loss: 5.0366e-04 - val_loss: 1.0432e-05\n",
            "Epoch 77/100\n",
            "20/20 [==============================] - 4s 187ms/step - loss: 5.4748e-04 - val_loss: 9.8517e-06\n",
            "Epoch 78/100\n",
            "20/20 [==============================] - 4s 194ms/step - loss: 5.0441e-04 - val_loss: 9.3721e-06\n",
            "Epoch 79/100\n",
            "20/20 [==============================] - 5s 271ms/step - loss: 5.2727e-04 - val_loss: 9.1486e-06\n",
            "Epoch 80/100\n",
            "20/20 [==============================] - 4s 184ms/step - loss: 5.0628e-04 - val_loss: 9.4312e-06\n",
            "Epoch 81/100\n",
            "20/20 [==============================] - 4s 185ms/step - loss: 4.8598e-04 - val_loss: 1.0429e-05\n",
            "Epoch 82/100\n",
            "20/20 [==============================] - 4s 218ms/step - loss: 5.3565e-04 - val_loss: 1.6422e-05\n",
            "Epoch 83/100\n",
            "20/20 [==============================] - 5s 226ms/step - loss: 6.0040e-04 - val_loss: 5.3686e-05\n",
            "Epoch 84/100\n",
            "20/20 [==============================] - 4s 184ms/step - loss: 5.4946e-04 - val_loss: 1.2065e-05\n",
            "Epoch 85/100\n",
            "20/20 [==============================] - 4s 189ms/step - loss: 5.1541e-04 - val_loss: 4.4362e-05\n",
            "Epoch 86/100\n",
            "20/20 [==============================] - 5s 276ms/step - loss: 5.2520e-04 - val_loss: 1.8110e-05\n",
            "Epoch 87/100\n",
            "20/20 [==============================] - 4s 185ms/step - loss: 6.0687e-04 - val_loss: 9.4130e-06\n",
            "Epoch 88/100\n",
            "20/20 [==============================] - 4s 184ms/step - loss: 5.4894e-04 - val_loss: 1.1062e-05\n",
            "Epoch 89/100\n",
            "20/20 [==============================] - 5s 279ms/step - loss: 5.5794e-04 - val_loss: 1.0030e-05\n",
            "Epoch 90/100\n",
            "20/20 [==============================] - 4s 184ms/step - loss: 4.9296e-04 - val_loss: 1.4584e-05\n",
            "Epoch 91/100\n",
            "20/20 [==============================] - 4s 195ms/step - loss: 5.3376e-04 - val_loss: 1.5849e-05\n",
            "Epoch 92/100\n",
            "20/20 [==============================] - 5s 237ms/step - loss: 5.8280e-04 - val_loss: 1.5995e-05\n",
            "Epoch 93/100\n",
            "20/20 [==============================] - 5s 228ms/step - loss: 4.9790e-04 - val_loss: 1.1639e-05\n",
            "Epoch 94/100\n",
            "20/20 [==============================] - 6s 277ms/step - loss: 5.4160e-04 - val_loss: 2.3665e-05\n",
            "Epoch 95/100\n",
            "20/20 [==============================] - 5s 260ms/step - loss: 5.4327e-04 - val_loss: 1.0912e-05\n",
            "Epoch 96/100\n",
            "20/20 [==============================] - 4s 188ms/step - loss: 5.7620e-04 - val_loss: 9.0186e-06\n",
            "Epoch 97/100\n",
            "20/20 [==============================] - 4s 181ms/step - loss: 5.6181e-04 - val_loss: 1.4026e-05\n",
            "Epoch 98/100\n",
            "20/20 [==============================] - 4s 197ms/step - loss: 5.7296e-04 - val_loss: 1.9086e-05\n",
            "Epoch 99/100\n",
            "20/20 [==============================] - 5s 249ms/step - loss: 4.7950e-04 - val_loss: 2.6094e-05\n",
            "Epoch 100/100\n",
            "20/20 [==============================] - 4s 184ms/step - loss: 5.2526e-04 - val_loss: 8.9442e-06\n"
          ]
        },
        {
          "output_type": "execute_result",
          "data": {
            "text/plain": [
              "<keras.src.callbacks.History at 0x780631006ec0>"
            ]
          },
          "metadata": {},
          "execution_count": 82
        }
      ]
    },
    {
      "cell_type": "code",
      "source": [
        "# 10. Dự báo dữ liệu test\n",
        "train_predict = model.predict(X_train)\n",
        "y_pred = model.predict(X_test)"
      ],
      "metadata": {
        "colab": {
          "base_uri": "https://localhost:8080/"
        },
        "id": "zEuD-xCginen",
        "outputId": "b70b22a4-ce0e-4db8-9142-31dbce4c0c18"
      },
      "execution_count": 83,
      "outputs": [
        {
          "output_type": "stream",
          "name": "stdout",
          "text": [
            "39/39 [==============================] - 3s 39ms/step\n",
            "15/15 [==============================] - 1s 47ms/step\n"
          ]
        }
      ]
    },
    {
      "cell_type": "code",
      "source": [
        "# 11. Chuẩn hóa dữ liệu y_pred\n",
        "train_predict = scaler.inverse_transform(train_predict)\n",
        "y_pred = scaler.inverse_transform(y_pred)"
      ],
      "metadata": {
        "id": "25uXUBiLiuXK"
      },
      "execution_count": 84,
      "outputs": []
    },
    {
      "cell_type": "code",
      "source": [
        "# 12. Đánh giá độ chính xác thuật toán bằng RMSE\n",
        "test_rmse = np.sqrt(np.mean((y_pred - scaler.inverse_transform(y_test.reshape(-1, 1)))**2))\n",
        "print('Testing RMSE:', test_rmse)"
      ],
      "metadata": {
        "colab": {
          "base_uri": "https://localhost:8080/"
        },
        "id": "61FGJoc3ivik",
        "outputId": "88bc8cd3-de2f-4db4-cf77-5e3662262e59"
      },
      "execution_count": 85,
      "outputs": [
        {
          "output_type": "stream",
          "name": "stdout",
          "text": [
            "Testing RMSE: 0.0029906828755177626\n"
          ]
        }
      ]
    },
    {
      "cell_type": "code",
      "source": [
        "# 13. Dự báo 30 ngày tiếp theo\n",
        "n_steps = 100\n",
        "x_input = test_data[-n_steps:].reshape(1, -1)\n",
        "x_input.shape\n",
        "\n",
        "temp_input = list(x_input[0])\n",
        "\n",
        "from numpy import array\n",
        "\n",
        "lst_output = []\n",
        "i = 0\n",
        "while(i < 30):\n",
        "    if(len(temp_input) > 100):\n",
        "        x_input = np.array(temp_input[1:])\n",
        "        x_input = x_input.reshape((1, n_steps, 1))\n",
        "        yhat = model.predict(x_input, verbose=0)\n",
        "        temp_input.extend(yhat[0].tolist())\n",
        "        temp_input = temp_input[1:]\n",
        "        lst_output.extend(yhat.tolist())\n",
        "        i += 1\n",
        "    else:\n",
        "        x_input = x_input.reshape((1, n_steps, 1))\n",
        "        yhat = model.predict(x_input, verbose=0)\n",
        "        temp_input.extend(yhat[0].tolist())\n",
        "        lst_output.extend(yhat.tolist())\n",
        "        i += 1"
      ],
      "metadata": {
        "id": "cuqfyX40izcL"
      },
      "execution_count": 86,
      "outputs": []
    },
    {
      "cell_type": "code",
      "source": [
        "# 14. Vẽ hình\n",
        "plt.plot(scaler.inverse_transform(train_data), label='Train Data')\n",
        "plt.plot(range(train_size, train_size + len(test_data)), scaler.inverse_transform(test_data), label='Test Data')\n",
        "plt.plot(range(train_size + time_step, train_size + time_step + len(y_pred)), y_pred, label='Predicted Test Data')\n",
        "plt.plot(range(len(df1), len(df1) + 30), scaler.inverse_transform(lst_output), label='Predicted Next 30 Days')\n",
        "\n",
        "plt.legend()\n",
        "plt.show()"
      ],
      "metadata": {
        "colab": {
          "base_uri": "https://localhost:8080/",
          "height": 430
        },
        "id": "yRDPL-dRi1u4",
        "outputId": "24c72d0d-1f5d-47bb-ef5d-320dc377dac8"
      },
      "execution_count": 87,
      "outputs": [
        {
          "output_type": "display_data",
          "data": {
            "text/plain": [
              "<Figure size 640x480 with 1 Axes>"
            ],
            "image/png": "[encoded data removed]"
          },
          "metadata": {}
        }
      ]
    },
    {
      "cell_type": "code",
      "source": [
        "# 13. Dự báo 60 ngày tiếp theo\n",
        "n_steps = 100\n",
        "x_input = test_data[-n_steps:].reshape(1, -1)\n",
        "x_input.shape\n",
        "\n",
        "temp_input = list(x_input[0])\n",
        "\n",
        "from numpy import array\n",
        "\n",
        "lst_output = []\n",
        "i = 0\n",
        "while(i < 60):  # Đổi từ 30 thành 60\n",
        "    if(len(temp_input) > 100):\n",
        "        x_input = np.array(temp_input[1:])\n",
        "        x_input = x_input.reshape((1, n_steps, 1))\n",
        "        yhat = model.predict(x_input, verbose=0)\n",
        "        temp_input.extend(yhat[0].tolist())\n",
        "        temp_input = temp_input[1:]\n",
        "        lst_output.extend(yhat.tolist())\n",
        "        i += 1\n",
        "    else:\n",
        "        x_input = x_input.reshape((1, n_steps, 1))\n",
        "        yhat = model.predict(x_input, verbose=0)\n",
        "        temp_input.extend(yhat[0].tolist())\n",
        "        lst_output.extend(yhat.tolist())\n",
        "        i += 1\n",
        "\n",
        "# 14. Vẽ hình\n",
        "plt.plot(scaler.inverse_transform(train_data), label='Train Data')\n",
        "plt.plot(range(train_size, train_size + len(test_data)), scaler.inverse_transform(test_data), label='Test Data')\n",
        "plt.plot(range(train_size + time_step, train_size + time_step + len(y_pred)), y_pred, label='Predicted Test Data')\n",
        "plt.plot(range(len(df1), len(df1) + 60), scaler.inverse_transform(lst_output), label='Predicted Next 60 Days')\n",
        "\n",
        "plt.legend()\n",
        "plt.show()\n"
      ],
      "metadata": {
        "colab": {
          "base_uri": "https://localhost:8080/",
          "height": 430
        },
        "id": "w-xeySspi4Xx",
        "outputId": "76076dfc-b2de-4131-ed2a-1de18834a769"
      },
      "execution_count": 88,
      "outputs": [
        {
          "output_type": "display_data",
          "data": {
            "text/plain": [
              "<Figure size 640x480 with 1 Axes>"
            ],
            "image/png": "[encoded data removed]"
          },
          "metadata": {}
        }
      ]
    },
    {
      "cell_type": "code",
      "source": [
        "# 13. Dự báo 90 ngày tiếp theo\n",
        "n_steps = 100\n",
        "x_input = test_data[-n_steps:].reshape(1, -1)\n",
        "x_input.shape\n",
        "\n",
        "temp_input = list(x_input[0])\n",
        "\n",
        "from numpy import array\n",
        "\n",
        "lst_output = []\n",
        "i = 0\n",
        "while(i < 90):  # Đổi từ 60 thành 90\n",
        "    if(len(temp_input) > 100):\n",
        "        x_input = np.array(temp_input[1:])\n",
        "        x_input = x_input.reshape((1, n_steps, 1))\n",
        "        yhat = model.predict(x_input, verbose=0)\n",
        "        temp_input.extend(yhat[0].tolist())\n",
        "        temp_input = temp_input[1:]\n",
        "        lst_output.extend(yhat.tolist())\n",
        "        i += 1\n",
        "    else:\n",
        "        x_input = x_input.reshape((1, n_steps, 1))\n",
        "        yhat = model.predict(x_input, verbose=0)\n",
        "        temp_input.extend(yhat[0].tolist())\n",
        "        lst_output.extend(yhat.tolist())\n",
        "        i += 1\n",
        "\n",
        "# 14. Vẽ hình\n",
        "plt.plot(scaler.inverse_transform(train_data), label='Train Data')\n",
        "plt.plot(range(train_size, train_size + len(test_data)), scaler.inverse_transform(test_data), label='Test Data')\n",
        "plt.plot(range(train_size + time_step, train_size + time_step + len(y_pred)), y_pred, label='Predicted Test Data')\n",
        "plt.plot(range(len(df1), len(df1) + 90), scaler.inverse_transform(lst_output), label='Predicted Next 90 Days')\n",
        "\n",
        "plt.legend()\n",
        "plt.show()"
      ],
      "metadata": {
        "colab": {
          "base_uri": "https://localhost:8080/",
          "height": 430
        },
        "id": "KfdE42N-i70Y",
        "outputId": "4eb1cb9d-3f80-4fe0-aa4d-104a9b61775b"
      },
      "execution_count": 89,
      "outputs": [
        {
          "output_type": "display_data",
          "data": {
            "text/plain": [
              "<Figure size 640x480 with 1 Axes>"
            ],
            "image/png": "[encoded data removed]"
          },
          "metadata": {}
        }
      ]
    },
    {
      "cell_type": "markdown",
      "source": [
        "## Linear regression"
      ],
      "metadata": {
        "id": "b2utSPudk82n"
      }
    },
    {
      "cell_type": "code",
      "source": [
        "import pandas as pd\n",
        "import numpy as np\n",
        "from sklearn import datasets, linear_model\n",
        "from sklearn.linear_model import LinearRegression\n",
        "from sklearn.preprocessing import PolynomialFeatures\n",
        "import statsmodels.api as sm\n",
        "from scipy import stats"
      ],
      "metadata": {
        "id": "QJaCXZ1J1x_q"
      },
      "execution_count": null,
      "outputs": []
    },
    {
      "cell_type": "code",
      "source": [
        "from sklearn import datasets, linear_model\n",
        "from sklearn.linear_model import LinearRegression\n",
        "import statsmodels.api as sm\n",
        "from scipy import stats"
      ],
      "metadata": {
        "id": "LVkEXiCxlbct"
      },
      "execution_count": null,
      "outputs": []
    },
    {
      "cell_type": "code",
      "source": [
        "from sklearn.model_selection import train_test_split\n",
        "x_train, x_test, y_train, y_test = train_test_split(x, y, test_size=0.2, random_state=0)"
      ],
      "metadata": {
        "id": "MOClFKI_PVQD"
      },
      "execution_count": null,
      "outputs": []
    },
    {
      "cell_type": "code",
      "source": [
        "X_train_lr = X_train_scale\n",
        "y_train_lr = y_train_scale\n",
        "\n",
        "X_test_lr  = X_test_scale\n",
        "y_test_lr = y_test_scale\n",
        "\n",
        "X_val_lr = X_val_scale\n",
        "y_val_lr = y_val_scale"
      ],
      "metadata": {
        "id": "jIYEBo50XSQt"
      },
      "execution_count": null,
      "outputs": []
    },
    {
      "cell_type": "code",
      "source": [
        "model_LR = LinearRegression()\n",
        "model_LR.fit(X_train_scale, y_train_scale)"
      ],
      "metadata": {
        "id": "IyaZ0hlqXULD"
      },
      "execution_count": null,
      "outputs": []
    },
    {
      "cell_type": "code",
      "source": [
        "pred_test_LR = model_LR.predict(X_test_scale)\n",
        "pred_val_LR = model_LR.predict(X_val_lr)"
      ],
      "metadata": {
        "id": "MOGjZNUcXWpq"
      },
      "execution_count": null,
      "outputs": []
    },
    {
      "cell_type": "code",
      "source": [
        "mape = mean_absolute_percentage_error(y_test_scale, pred_test_LR)\n",
        "mae = mean_absolute_error(y_test_scale,pred_test_LR)\n",
        "mse = mean_squared_error(y_test_scale, pred_test_LR)\n",
        "print(f'Mean Absolute Percentage Error: {mape}')\n",
        "print(f'Mean Absolute Error: {mae}')\n",
        "print(f'Root Mean Squared Error: {math.sqrt(mse)}')"
      ],
      "metadata": {
        "id": "8ftklqXfXYxs"
      },
      "execution_count": null,
      "outputs": []
    },
    {
      "cell_type": "code",
      "source": [
        "plt.figure(figsize=(12, 6))\n",
        "plt.plot(pd.DataFrame(y_train_scale).index.to_list(),pd.DataFrame(y_train_lr),color='red',label='Train value')\n",
        "plt.plot(pd.DataFrame(y_test_scale).index.to_list(), pd.DataFrame(y_test_lr), color='blue', label='Test value')\n",
        "plt.plot(pd.DataFrame(y_test_scale).index.to_list(), pd.DataFrame(pred_test_LR.reshape(-1)), color='green', label='Predicted test value')\n",
        "plt.plot(pd.DataFrame(y_val_scale).index.to_list(),pd.DataFrame(y_val_lr),color='orange', label='Validation value')\n",
        "plt.plot(pd.DataFrame(y_val_scale).index.to_list(),pd.DataFrame(pred_val_LR.reshape(-1)),color='purple', label='Predicted validation value')\n",
        "plt.legend()\n",
        "plt.show()"
      ],
      "metadata": {
        "id": "_ScWiXboXno9"
      },
      "execution_count": null,
      "outputs": []
    },
    {
      "cell_type": "code",
      "source": [
        "model_filename = \"model_LR.joblib\"\n",
        "joblib.dump(model_LR, model_filename)"
      ],
      "metadata": {
        "id": "APNVvVzeXvqG"
      },
      "execution_count": null,
      "outputs": []
    },
    {
      "cell_type": "code",
      "source": [
        "y"
      ],
      "metadata": {
        "id": "Gpzy4FX9W7QY"
      },
      "execution_count": null,
      "outputs": []
    },
    {
      "cell_type": "code",
      "source": [
        "X_test =X_test.sort_index(ascending=True)\n",
        "X_test"
      ],
      "metadata": {
        "id": "K8josPvIW0yX"
      },
      "execution_count": null,
      "outputs": []
    },
    {
      "cell_type": "code",
      "source": [
        "X_train"
      ],
      "metadata": {
        "id": "VlZuMmQNX-xA"
      },
      "execution_count": null,
      "outputs": []
    },
    {
      "cell_type": "code",
      "source": [
        "test_data =X_test.join(y_test)\n",
        "test_data =test_data.sort_index(ascending=True)\n",
        "test_data"
      ],
      "metadata": {
        "id": "T8cReu--YCBs"
      },
      "execution_count": null,
      "outputs": []
    },
    {
      "cell_type": "markdown",
      "source": [
        "###ARIMA"
      ],
      "metadata": {
        "id": "xus8B7wEFOck"
      }
    },
    {
      "cell_type": "code",
      "source": [],
      "metadata": {
        "id": "__kUZ1sGFQza"
      },
      "execution_count": null,
      "outputs": []
    },
    {
      "cell_type": "markdown",
      "source": [
        "###Draft"
      ],
      "metadata": {
        "id": "yOVevcmFaTTz"
      }
    },
    {
      "cell_type": "code",
      "source": [
        "# Format \"Date\" column\n",
        "eth_df['Date'] = pd.to_datetime(eth_df['Date'], format='%m/%d/%Y')"
      ],
      "metadata": {
        "id": "O0MjflxYcm_r"
      },
      "execution_count": null,
      "outputs": []
    },
    {
      "cell_type": "code",
      "source": [
        "plt.figure(figsize=(8, 6))\n",
        "sns.histplot(eth_df['Date'], bins=20, kde=True)\n",
        "plt.title('Histogram of Ethereum Prices')\n",
        "plt.xlabel('Date')\n",
        "plt.ylabel('Price')\n",
        "plt.grid(True)\n",
        "plt.show()"
      ],
      "metadata": {
        "id": "Oq_WzkwBOxf8"
      },
      "execution_count": null,
      "outputs": []
    },
    {
      "cell_type": "code",
      "source": [
        "new_df=eth_df.drop[['Price', 'Change %']]\n",
        "X =new_df.drop(['Price'],axis = 1)\n",
        "y = new_df['Change %']"
      ],
      "metadata": {
        "id": "TveqvhsQMO2N"
      },
      "execution_count": null,
      "outputs": []
    },
    {
      "cell_type": "code",
      "source": [
        "print('x_scale.shape: ',x_scale.shape)\n",
        "print('y_scale.shape: ',y_scale.shape)"
      ],
      "metadata": {
        "id": "s7J4jZGARZAy"
      },
      "execution_count": null,
      "outputs": []
    },
    {
      "cell_type": "code",
      "source": [
        "x_train, y_train, x_test, y_test = train_test_split(x_scale, y_scale, 0.2, 10)\n",
        "print('X_train.shape: ', X_train.shape)\n",
        "print('y_train.shape: ',y_train.shape)\n",
        "print('X_test.shape: ',X_test.shape)\n",
        "print('y_test.shape: ',y_test.shape)"
      ],
      "metadata": {
        "id": "flA1SwfDPR6Q"
      },
      "execution_count": null,
      "outputs": []
    }
  ]
}