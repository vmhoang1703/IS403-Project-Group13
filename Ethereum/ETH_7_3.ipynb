{
  "cells": [
    {
      "cell_type": "code",
      "execution_count": null,
      "metadata": {
        "colab": {
          "base_uri": "https://localhost:8080/"
        },
        "id": "p0X8ORXf9EHA",
        "outputId": "0742a5a6-9c15-48b4-a8a8-5ac5222799a2"
      },
      "outputs": [
        {
          "output_type": "stream",
          "name": "stdout",
          "text": [
            "Requirement already satisfied: scikit-learn in /usr/local/lib/python3.10/dist-packages (1.2.2)\n",
            "Collecting scikit-learn\n",
            "  Downloading scikit_learn-1.5.0-cp310-cp310-manylinux_2_17_x86_64.manylinux2014_x86_64.whl (13.3 MB)\n",
            "\u001b[2K     \u001b[90m━━━━━━━━━━━━━━━━━━━━━━━━━━━━━━━━━━━━━━━━\u001b[0m \u001b[32m13.3/13.3 MB\u001b[0m \u001b[31m44.1 MB/s\u001b[0m eta \u001b[36m0:00:00\u001b[0m\n",
            "\u001b[?25hRequirement already satisfied: numpy>=1.19.5 in /usr/local/lib/python3.10/dist-packages (from scikit-learn) (1.25.2)\n",
            "Requirement already satisfied: scipy>=1.6.0 in /usr/local/lib/python3.10/dist-packages (from scikit-learn) (1.11.4)\n",
            "Requirement already satisfied: joblib>=1.2.0 in /usr/local/lib/python3.10/dist-packages (from scikit-learn) (1.4.2)\n",
            "Requirement already satisfied: threadpoolctl>=3.1.0 in /usr/local/lib/python3.10/dist-packages (from scikit-learn) (3.5.0)\n",
            "Installing collected packages: scikit-learn\n",
            "  Attempting uninstall: scikit-learn\n",
            "    Found existing installation: scikit-learn 1.2.2\n",
            "    Uninstalling scikit-learn-1.2.2:\n",
            "      Successfully uninstalled scikit-learn-1.2.2\n",
            "Successfully installed scikit-learn-1.5.0\n"
          ]
        }
      ],
      "source": [
        "!pip install --upgrade scikit-learn\n"
      ]
    },
    {
      "cell_type": "code",
      "execution_count": null,
      "metadata": {
        "colab": {
          "base_uri": "https://localhost:8080/"
        },
        "id": "bvPoZWmm9OpK",
        "outputId": "1147a4cb-9d52-4886-8989-012fa21cc665"
      },
      "outputs": [
        {
          "output_type": "stream",
          "name": "stdout",
          "text": [
            "Collecting pmdarima\n",
            "  Downloading pmdarima-2.0.4-cp310-cp310-manylinux_2_17_x86_64.manylinux2014_x86_64.manylinux_2_28_x86_64.whl (2.1 MB)\n",
            "\u001b[2K     \u001b[90m━━━━━━━━━━━━━━━━━━━━━━━━━━━━━━━━━━━━━━━━\u001b[0m \u001b[32m2.1/2.1 MB\u001b[0m \u001b[31m8.1 MB/s\u001b[0m eta \u001b[36m0:00:00\u001b[0m\n",
            "\u001b[?25hRequirement already satisfied: joblib>=0.11 in /usr/local/lib/python3.10/dist-packages (from pmdarima) (1.4.2)\n",
            "Requirement already satisfied: Cython!=0.29.18,!=0.29.31,>=0.29 in /usr/local/lib/python3.10/dist-packages (from pmdarima) (3.0.10)\n",
            "Requirement already satisfied: numpy>=1.21.2 in /usr/local/lib/python3.10/dist-packages (from pmdarima) (1.25.2)\n",
            "Requirement already satisfied: pandas>=0.19 in /usr/local/lib/python3.10/dist-packages (from pmdarima) (2.0.3)\n",
            "Requirement already satisfied: scikit-learn>=0.22 in /usr/local/lib/python3.10/dist-packages (from pmdarima) (1.5.0)\n",
            "Requirement already satisfied: scipy>=1.3.2 in /usr/local/lib/python3.10/dist-packages (from pmdarima) (1.11.4)\n",
            "Requirement already satisfied: statsmodels>=0.13.2 in /usr/local/lib/python3.10/dist-packages (from pmdarima) (0.14.2)\n",
            "Requirement already satisfied: urllib3 in /usr/local/lib/python3.10/dist-packages (from pmdarima) (2.0.7)\n",
            "Requirement already satisfied: setuptools!=50.0.0,>=38.6.0 in /usr/local/lib/python3.10/dist-packages (from pmdarima) (67.7.2)\n",
            "Requirement already satisfied: packaging>=17.1 in /usr/local/lib/python3.10/dist-packages (from pmdarima) (24.1)\n",
            "Requirement already satisfied: python-dateutil>=2.8.2 in /usr/local/lib/python3.10/dist-packages (from pandas>=0.19->pmdarima) (2.8.2)\n",
            "Requirement already satisfied: pytz>=2020.1 in /usr/local/lib/python3.10/dist-packages (from pandas>=0.19->pmdarima) (2023.4)\n",
            "Requirement already satisfied: tzdata>=2022.1 in /usr/local/lib/python3.10/dist-packages (from pandas>=0.19->pmdarima) (2024.1)\n",
            "Requirement already satisfied: threadpoolctl>=3.1.0 in /usr/local/lib/python3.10/dist-packages (from scikit-learn>=0.22->pmdarima) (3.5.0)\n",
            "Requirement already satisfied: patsy>=0.5.6 in /usr/local/lib/python3.10/dist-packages (from statsmodels>=0.13.2->pmdarima) (0.5.6)\n",
            "Requirement already satisfied: six in /usr/local/lib/python3.10/dist-packages (from patsy>=0.5.6->statsmodels>=0.13.2->pmdarima) (1.16.0)\n",
            "Installing collected packages: pmdarima\n",
            "Successfully installed pmdarima-2.0.4\n"
          ]
        }
      ],
      "source": [
        "pip install pmdarima\n"
      ]
    },
    {
      "cell_type": "code",
      "execution_count": null,
      "metadata": {
        "colab": {
          "base_uri": "https://localhost:8080/"
        },
        "id": "p0sS1E7X9sRS",
        "outputId": "f0b63a07-5ad8-4bfb-f820-39a5effca2ec"
      },
      "outputs": [
        {
          "output_type": "stream",
          "name": "stdout",
          "text": [
            "Requirement already satisfied: numpy in /usr/local/lib/python3.10/dist-packages (1.25.2)\n"
          ]
        }
      ],
      "source": [
        "!pip install numpy"
      ]
    },
    {
      "cell_type": "code",
      "execution_count": null,
      "metadata": {
        "id": "rkKatRptgBdZ"
      },
      "outputs": [],
      "source": [
        "import pandas as pd\n",
        "import numpy as np\n",
        "import matplotlib.pyplot as plt\n",
        "from sklearn.metrics import mean_squared_error ,mean_absolute_error\n",
        "from math import  sqrt\n",
        "from sklearn import metrics\n",
        "import warnings\n",
        "warnings.filterwarnings(\"ignore\")\n",
        "import statistics as st\n",
        "from scipy.stats import mode, skew, kurtosis\n",
        "import seaborn as sns\n",
        "import random\n",
        "import tensorflow as tf\n",
        "from sklearn.preprocessing import MinMaxScaler\n",
        "from keras.models import Sequential\n",
        "from keras.layers import Dense\n",
        "from keras.layers import Dense, SimpleRNN\n",
        "from keras.layers import LSTM\n",
        "from keras.layers import Dropout\n",
        "\n",
        "\n",
        "import pandas as pd\n",
        "import joblib\n",
        "import matplotlib.pyplot as plt\n",
        "import math\n",
        "\n",
        "from sklearn.metrics import mean_squared_error, mean_absolute_error, mean_absolute_percentage_error\n",
        "from sklearn.linear_model import LinearRegression\n",
        "from sklearn.neural_network import MLPClassifier\n",
        "from sklearn.model_selection import KFold\n",
        "from sklearn.ensemble import RandomForestRegressor\n",
        "\n",
        "from keras.models import Sequential\n",
        "from tensorflow.keras.datasets import imdb\n",
        "from tensorflow.keras.layers import SimpleRNN, Embedding\n",
        "from tensorflow.keras.preprocessing import sequence\n",
        "from keras.layers import Dense, LSTM, RNN, GRU, Dropout, Activation\n",
        "from sklearn.metrics import mean_squared_error, mean_absolute_error, mean_absolute_percentage_error\n",
        "import numpy as np\n",
        "\n",
        "from statsmodels.tsa.arima.model import ARIMA\n",
        "from scipy.stats import skew, kurtosis\n",
        "\n",
        "from torch import nn\n",
        "from torch.utils.data import DataLoader, Dataset\n",
        "from datetime import datetime, timedelta\n",
        "from pmdarima import auto_arima\n",
        "\n",
        "import warnings\n",
        "warnings.filterwarnings(\"ignore\")"
      ]
    },
    {
      "cell_type": "markdown",
      "metadata": {
        "id": "WfI7HKjLmQt8"
      },
      "source": [
        "###Read data"
      ]
    },
    {
      "cell_type": "code",
      "execution_count": null,
      "metadata": {
        "colab": {
          "base_uri": "https://localhost:8080/",
          "height": 423
        },
        "id": "nyN3A673h6YR",
        "outputId": "3a6a30f4-d6ce-4694-bba7-a3503d8a2780"
      },
      "outputs": [
        {
          "output_type": "execute_result",
          "data": {
            "text/plain": [
              "            Date     Price      Open      High       Low     Vol. Change %\n",
              "0     06/01/2024  3,815.95  3,762.63  3,832.35  3,753.32  143.81K    1.42%\n",
              "1     05/31/2024  3,762.66  3,747.89  3,844.96  3,724.57  294.56K    0.40%\n",
              "2     05/30/2024  3,747.55  3,767.22  3,824.94  3,703.74  293.81K   -0.58%\n",
              "3     05/29/2024  3,769.57  3,845.56  3,886.44  3,745.72  353.25K   -1.98%\n",
              "4     05/28/2024  3,845.56  3,894.33  3,929.21  3,775.08  436.24K   -1.25%\n",
              "...          ...       ...       ...       ...       ...      ...      ...\n",
              "1915  03/05/2019    136.82    125.97    141.11    125.44   16.74M    8.61%\n",
              "1916  03/04/2019    125.97    131.02    131.57    123.25   14.11M   -3.85%\n",
              "1917  03/03/2019    131.01    132.77    168.42    129.05   10.64M   -1.32%\n",
              "1918  03/02/2019    132.76    135.72    136.36    130.74   11.29M   -2.18%\n",
              "1919  03/01/2019    135.72    135.47    138.06    128.46    9.73M    0.18%\n",
              "\n",
              "[1920 rows x 7 columns]"
            ],
            "text/html": [
              "\n",
              "  <div id=\"df-dd558c9a-912d-4c1d-8034-fecea0b55c15\" class=\"colab-df-container\">\n",
              "    <div>\n",
              "<style scoped>\n",
              "    .dataframe tbody tr th:only-of-type {\n",
              "        vertical-align: middle;\n",
              "    }\n",
              "\n",
              "    .dataframe tbody tr th {\n",
              "        vertical-align: top;\n",
              "    }\n",
              "\n",
              "    .dataframe thead th {\n",
              "        text-align: right;\n",
              "    }\n",
              "</style>\n",
              "<table border=\"1\" class=\"dataframe\">\n",
              "  <thead>\n",
              "    <tr style=\"text-align: right;\">\n",
              "      <th></th>\n",
              "      <th>Date</th>\n",
              "      <th>Price</th>\n",
              "      <th>Open</th>\n",
              "      <th>High</th>\n",
              "      <th>Low</th>\n",
              "      <th>Vol.</th>\n",
              "      <th>Change %</th>\n",
              "    </tr>\n",
              "  </thead>\n",
              "  <tbody>\n",
              "    <tr>\n",
              "      <th>0</th>\n",
              "      <td>06/01/2024</td>\n",
              "      <td>3,815.95</td>\n",
              "      <td>3,762.63</td>\n",
              "      <td>3,832.35</td>\n",
              "      <td>3,753.32</td>\n",
              "      <td>143.81K</td>\n",
              "      <td>1.42%</td>\n",
              "    </tr>\n",
              "    <tr>\n",
              "      <th>1</th>\n",
              "      <td>05/31/2024</td>\n",
              "      <td>3,762.66</td>\n",
              "      <td>3,747.89</td>\n",
              "      <td>3,844.96</td>\n",
              "      <td>3,724.57</td>\n",
              "      <td>294.56K</td>\n",
              "      <td>0.40%</td>\n",
              "    </tr>\n",
              "    <tr>\n",
              "      <th>2</th>\n",
              "      <td>05/30/2024</td>\n",
              "      <td>3,747.55</td>\n",
              "      <td>3,767.22</td>\n",
              "      <td>3,824.94</td>\n",
              "      <td>3,703.74</td>\n",
              "      <td>293.81K</td>\n",
              "      <td>-0.58%</td>\n",
              "    </tr>\n",
              "    <tr>\n",
              "      <th>3</th>\n",
              "      <td>05/29/2024</td>\n",
              "      <td>3,769.57</td>\n",
              "      <td>3,845.56</td>\n",
              "      <td>3,886.44</td>\n",
              "      <td>3,745.72</td>\n",
              "      <td>353.25K</td>\n",
              "      <td>-1.98%</td>\n",
              "    </tr>\n",
              "    <tr>\n",
              "      <th>4</th>\n",
              "      <td>05/28/2024</td>\n",
              "      <td>3,845.56</td>\n",
              "      <td>3,894.33</td>\n",
              "      <td>3,929.21</td>\n",
              "      <td>3,775.08</td>\n",
              "      <td>436.24K</td>\n",
              "      <td>-1.25%</td>\n",
              "    </tr>\n",
              "    <tr>\n",
              "      <th>...</th>\n",
              "      <td>...</td>\n",
              "      <td>...</td>\n",
              "      <td>...</td>\n",
              "      <td>...</td>\n",
              "      <td>...</td>\n",
              "      <td>...</td>\n",
              "      <td>...</td>\n",
              "    </tr>\n",
              "    <tr>\n",
              "      <th>1915</th>\n",
              "      <td>03/05/2019</td>\n",
              "      <td>136.82</td>\n",
              "      <td>125.97</td>\n",
              "      <td>141.11</td>\n",
              "      <td>125.44</td>\n",
              "      <td>16.74M</td>\n",
              "      <td>8.61%</td>\n",
              "    </tr>\n",
              "    <tr>\n",
              "      <th>1916</th>\n",
              "      <td>03/04/2019</td>\n",
              "      <td>125.97</td>\n",
              "      <td>131.02</td>\n",
              "      <td>131.57</td>\n",
              "      <td>123.25</td>\n",
              "      <td>14.11M</td>\n",
              "      <td>-3.85%</td>\n",
              "    </tr>\n",
              "    <tr>\n",
              "      <th>1917</th>\n",
              "      <td>03/03/2019</td>\n",
              "      <td>131.01</td>\n",
              "      <td>132.77</td>\n",
              "      <td>168.42</td>\n",
              "      <td>129.05</td>\n",
              "      <td>10.64M</td>\n",
              "      <td>-1.32%</td>\n",
              "    </tr>\n",
              "    <tr>\n",
              "      <th>1918</th>\n",
              "      <td>03/02/2019</td>\n",
              "      <td>132.76</td>\n",
              "      <td>135.72</td>\n",
              "      <td>136.36</td>\n",
              "      <td>130.74</td>\n",
              "      <td>11.29M</td>\n",
              "      <td>-2.18%</td>\n",
              "    </tr>\n",
              "    <tr>\n",
              "      <th>1919</th>\n",
              "      <td>03/01/2019</td>\n",
              "      <td>135.72</td>\n",
              "      <td>135.47</td>\n",
              "      <td>138.06</td>\n",
              "      <td>128.46</td>\n",
              "      <td>9.73M</td>\n",
              "      <td>0.18%</td>\n",
              "    </tr>\n",
              "  </tbody>\n",
              "</table>\n",
              "<p>1920 rows × 7 columns</p>\n",
              "</div>\n",
              "    <div class=\"colab-df-buttons\">\n",
              "\n",
              "  <div class=\"colab-df-container\">\n",
              "    <button class=\"colab-df-convert\" onclick=\"convertToInteractive('df-dd558c9a-912d-4c1d-8034-fecea0b55c15')\"\n",
              "            title=\"Convert this dataframe to an interactive table.\"\n",
              "            style=\"display:none;\">\n",
              "\n",
              "  <svg xmlns=\"http://www.w3.org/2000/svg\" height=\"24px\" viewBox=\"0 -960 960 960\">\n",
              "    <path d=\"M120-120v-720h720v720H120Zm60-500h600v-160H180v160Zm220 220h160v-160H400v160Zm0 220h160v-160H400v160ZM180-400h160v-160H180v160Zm440 0h160v-160H620v160ZM180-180h160v-160H180v160Zm440 0h160v-160H620v160Z\"/>\n",
              "  </svg>\n",
              "    </button>\n",
              "\n",
              "  <style>\n",
              "    .colab-df-container {\n",
              "      display:flex;\n",
              "      gap: 12px;\n",
              "    }\n",
              "\n",
              "    .colab-df-convert {\n",
              "      background-color: #E8F0FE;\n",
              "      border: none;\n",
              "      border-radius: 50%;\n",
              "      cursor: pointer;\n",
              "      display: none;\n",
              "      fill: #1967D2;\n",
              "      height: 32px;\n",
              "      padding: 0 0 0 0;\n",
              "      width: 32px;\n",
              "    }\n",
              "\n",
              "    .colab-df-convert:hover {\n",
              "      background-color: #E2EBFA;\n",
              "      box-shadow: 0px 1px 2px rgba(60, 64, 67, 0.3), 0px 1px 3px 1px rgba(60, 64, 67, 0.15);\n",
              "      fill: #174EA6;\n",
              "    }\n",
              "\n",
              "    .colab-df-buttons div {\n",
              "      margin-bottom: 4px;\n",
              "    }\n",
              "\n",
              "    [theme=dark] .colab-df-convert {\n",
              "      background-color: #3B4455;\n",
              "      fill: #D2E3FC;\n",
              "    }\n",
              "\n",
              "    [theme=dark] .colab-df-convert:hover {\n",
              "      background-color: #434B5C;\n",
              "      box-shadow: 0px 1px 3px 1px rgba(0, 0, 0, 0.15);\n",
              "      filter: drop-shadow(0px 1px 2px rgba(0, 0, 0, 0.3));\n",
              "      fill: #FFFFFF;\n",
              "    }\n",
              "  </style>\n",
              "\n",
              "    <script>\n",
              "      const buttonEl =\n",
              "        document.querySelector('#df-dd558c9a-912d-4c1d-8034-fecea0b55c15 button.colab-df-convert');\n",
              "      buttonEl.style.display =\n",
              "        google.colab.kernel.accessAllowed ? 'block' : 'none';\n",
              "\n",
              "      async function convertToInteractive(key) {\n",
              "        const element = document.querySelector('#df-dd558c9a-912d-4c1d-8034-fecea0b55c15');\n",
              "        const dataTable =\n",
              "          await google.colab.kernel.invokeFunction('convertToInteractive',\n",
              "                                                    [key], {});\n",
              "        if (!dataTable) return;\n",
              "\n",
              "        const docLinkHtml = 'Like what you see? Visit the ' +\n",
              "          '<a target=\"_blank\" href=https://colab.research.google.com/notebooks/data_table.ipynb>data table notebook</a>'\n",
              "          + ' to learn more about interactive tables.';\n",
              "        element.innerHTML = '';\n",
              "        dataTable['output_type'] = 'display_data';\n",
              "        await google.colab.output.renderOutput(dataTable, element);\n",
              "        const docLink = document.createElement('div');\n",
              "        docLink.innerHTML = docLinkHtml;\n",
              "        element.appendChild(docLink);\n",
              "      }\n",
              "    </script>\n",
              "  </div>\n",
              "\n",
              "\n",
              "<div id=\"df-0de5d6f2-7aa9-4d51-b64a-cca6a768210e\">\n",
              "  <button class=\"colab-df-quickchart\" onclick=\"quickchart('df-0de5d6f2-7aa9-4d51-b64a-cca6a768210e')\"\n",
              "            title=\"Suggest charts\"\n",
              "            style=\"display:none;\">\n",
              "\n",
              "<svg xmlns=\"http://www.w3.org/2000/svg\" height=\"24px\"viewBox=\"0 0 24 24\"\n",
              "     width=\"24px\">\n",
              "    <g>\n",
              "        <path d=\"M19 3H5c-1.1 0-2 .9-2 2v14c0 1.1.9 2 2 2h14c1.1 0 2-.9 2-2V5c0-1.1-.9-2-2-2zM9 17H7v-7h2v7zm4 0h-2V7h2v10zm4 0h-2v-4h2v4z\"/>\n",
              "    </g>\n",
              "</svg>\n",
              "  </button>\n",
              "\n",
              "<style>\n",
              "  .colab-df-quickchart {\n",
              "      --bg-color: #E8F0FE;\n",
              "      --fill-color: #1967D2;\n",
              "      --hover-bg-color: #E2EBFA;\n",
              "      --hover-fill-color: #174EA6;\n",
              "      --disabled-fill-color: #AAA;\n",
              "      --disabled-bg-color: #DDD;\n",
              "  }\n",
              "\n",
              "  [theme=dark] .colab-df-quickchart {\n",
              "      --bg-color: #3B4455;\n",
              "      --fill-color: #D2E3FC;\n",
              "      --hover-bg-color: #434B5C;\n",
              "      --hover-fill-color: #FFFFFF;\n",
              "      --disabled-bg-color: #3B4455;\n",
              "      --disabled-fill-color: #666;\n",
              "  }\n",
              "\n",
              "  .colab-df-quickchart {\n",
              "    background-color: var(--bg-color);\n",
              "    border: none;\n",
              "    border-radius: 50%;\n",
              "    cursor: pointer;\n",
              "    display: none;\n",
              "    fill: var(--fill-color);\n",
              "    height: 32px;\n",
              "    padding: 0;\n",
              "    width: 32px;\n",
              "  }\n",
              "\n",
              "  .colab-df-quickchart:hover {\n",
              "    background-color: var(--hover-bg-color);\n",
              "    box-shadow: 0 1px 2px rgba(60, 64, 67, 0.3), 0 1px 3px 1px rgba(60, 64, 67, 0.15);\n",
              "    fill: var(--button-hover-fill-color);\n",
              "  }\n",
              "\n",
              "  .colab-df-quickchart-complete:disabled,\n",
              "  .colab-df-quickchart-complete:disabled:hover {\n",
              "    background-color: var(--disabled-bg-color);\n",
              "    fill: var(--disabled-fill-color);\n",
              "    box-shadow: none;\n",
              "  }\n",
              "\n",
              "  .colab-df-spinner {\n",
              "    border: 2px solid var(--fill-color);\n",
              "    border-color: transparent;\n",
              "    border-bottom-color: var(--fill-color);\n",
              "    animation:\n",
              "      spin 1s steps(1) infinite;\n",
              "  }\n",
              "\n",
              "  @keyframes spin {\n",
              "    0% {\n",
              "      border-color: transparent;\n",
              "      border-bottom-color: var(--fill-color);\n",
              "      border-left-color: var(--fill-color);\n",
              "    }\n",
              "    20% {\n",
              "      border-color: transparent;\n",
              "      border-left-color: var(--fill-color);\n",
              "      border-top-color: var(--fill-color);\n",
              "    }\n",
              "    30% {\n",
              "      border-color: transparent;\n",
              "      border-left-color: var(--fill-color);\n",
              "      border-top-color: var(--fill-color);\n",
              "      border-right-color: var(--fill-color);\n",
              "    }\n",
              "    40% {\n",
              "      border-color: transparent;\n",
              "      border-right-color: var(--fill-color);\n",
              "      border-top-color: var(--fill-color);\n",
              "    }\n",
              "    60% {\n",
              "      border-color: transparent;\n",
              "      border-right-color: var(--fill-color);\n",
              "    }\n",
              "    80% {\n",
              "      border-color: transparent;\n",
              "      border-right-color: var(--fill-color);\n",
              "      border-bottom-color: var(--fill-color);\n",
              "    }\n",
              "    90% {\n",
              "      border-color: transparent;\n",
              "      border-bottom-color: var(--fill-color);\n",
              "    }\n",
              "  }\n",
              "</style>\n",
              "\n",
              "  <script>\n",
              "    async function quickchart(key) {\n",
              "      const quickchartButtonEl =\n",
              "        document.querySelector('#' + key + ' button');\n",
              "      quickchartButtonEl.disabled = true;  // To prevent multiple clicks.\n",
              "      quickchartButtonEl.classList.add('colab-df-spinner');\n",
              "      try {\n",
              "        const charts = await google.colab.kernel.invokeFunction(\n",
              "            'suggestCharts', [key], {});\n",
              "      } catch (error) {\n",
              "        console.error('Error during call to suggestCharts:', error);\n",
              "      }\n",
              "      quickchartButtonEl.classList.remove('colab-df-spinner');\n",
              "      quickchartButtonEl.classList.add('colab-df-quickchart-complete');\n",
              "    }\n",
              "    (() => {\n",
              "      let quickchartButtonEl =\n",
              "        document.querySelector('#df-0de5d6f2-7aa9-4d51-b64a-cca6a768210e button');\n",
              "      quickchartButtonEl.style.display =\n",
              "        google.colab.kernel.accessAllowed ? 'block' : 'none';\n",
              "    })();\n",
              "  </script>\n",
              "</div>\n",
              "\n",
              "  <div id=\"id_93b274c3-3f05-4487-90ab-d0dacfbd5b66\">\n",
              "    <style>\n",
              "      .colab-df-generate {\n",
              "        background-color: #E8F0FE;\n",
              "        border: none;\n",
              "        border-radius: 50%;\n",
              "        cursor: pointer;\n",
              "        display: none;\n",
              "        fill: #1967D2;\n",
              "        height: 32px;\n",
              "        padding: 0 0 0 0;\n",
              "        width: 32px;\n",
              "      }\n",
              "\n",
              "      .colab-df-generate:hover {\n",
              "        background-color: #E2EBFA;\n",
              "        box-shadow: 0px 1px 2px rgba(60, 64, 67, 0.3), 0px 1px 3px 1px rgba(60, 64, 67, 0.15);\n",
              "        fill: #174EA6;\n",
              "      }\n",
              "\n",
              "      [theme=dark] .colab-df-generate {\n",
              "        background-color: #3B4455;\n",
              "        fill: #D2E3FC;\n",
              "      }\n",
              "\n",
              "      [theme=dark] .colab-df-generate:hover {\n",
              "        background-color: #434B5C;\n",
              "        box-shadow: 0px 1px 3px 1px rgba(0, 0, 0, 0.15);\n",
              "        filter: drop-shadow(0px 1px 2px rgba(0, 0, 0, 0.3));\n",
              "        fill: #FFFFFF;\n",
              "      }\n",
              "    </style>\n",
              "    <button class=\"colab-df-generate\" onclick=\"generateWithVariable('eth_df')\"\n",
              "            title=\"Generate code using this dataframe.\"\n",
              "            style=\"display:none;\">\n",
              "\n",
              "  <svg xmlns=\"http://www.w3.org/2000/svg\" height=\"24px\"viewBox=\"0 0 24 24\"\n",
              "       width=\"24px\">\n",
              "    <path d=\"M7,19H8.4L18.45,9,17,7.55,7,17.6ZM5,21V16.75L18.45,3.32a2,2,0,0,1,2.83,0l1.4,1.43a1.91,1.91,0,0,1,.58,1.4,1.91,1.91,0,0,1-.58,1.4L9.25,21ZM18.45,9,17,7.55Zm-12,3A5.31,5.31,0,0,0,4.9,8.1,5.31,5.31,0,0,0,1,6.5,5.31,5.31,0,0,0,4.9,4.9,5.31,5.31,0,0,0,6.5,1,5.31,5.31,0,0,0,8.1,4.9,5.31,5.31,0,0,0,12,6.5,5.46,5.46,0,0,0,6.5,12Z\"/>\n",
              "  </svg>\n",
              "    </button>\n",
              "    <script>\n",
              "      (() => {\n",
              "      const buttonEl =\n",
              "        document.querySelector('#id_93b274c3-3f05-4487-90ab-d0dacfbd5b66 button.colab-df-generate');\n",
              "      buttonEl.style.display =\n",
              "        google.colab.kernel.accessAllowed ? 'block' : 'none';\n",
              "\n",
              "      buttonEl.onclick = () => {\n",
              "        google.colab.notebook.generateWithVariable('eth_df');\n",
              "      }\n",
              "      })();\n",
              "    </script>\n",
              "  </div>\n",
              "\n",
              "    </div>\n",
              "  </div>\n"
            ],
            "application/vnd.google.colaboratory.intrinsic+json": {
              "type": "dataframe",
              "variable_name": "eth_df",
              "summary": "{\n  \"name\": \"eth_df\",\n  \"rows\": 1920,\n  \"fields\": [\n    {\n      \"column\": \"Date\",\n      \"properties\": {\n        \"dtype\": \"object\",\n        \"num_unique_values\": 1920,\n        \"samples\": [\n          \"09/07/2021\",\n          \"12/24/2019\",\n          \"09/29/2022\"\n        ],\n        \"semantic_type\": \"\",\n        \"description\": \"\"\n      }\n    },\n    {\n      \"column\": \"Price\",\n      \"properties\": {\n        \"dtype\": \"string\",\n        \"num_unique_values\": 1900,\n        \"samples\": [\n          \"1,117.33\",\n          \"2,506.69\",\n          \"1,203.77\"\n        ],\n        \"semantic_type\": \"\",\n        \"description\": \"\"\n      }\n    },\n    {\n      \"column\": \"Open\",\n      \"properties\": {\n        \"dtype\": \"string\",\n        \"num_unique_values\": 1900,\n        \"samples\": [\n          \"1,118.01\",\n          \"2,500.28\",\n          \"1,185.70\"\n        ],\n        \"semantic_type\": \"\",\n        \"description\": \"\"\n      }\n    },\n    {\n      \"column\": \"High\",\n      \"properties\": {\n        \"dtype\": \"string\",\n        \"num_unique_values\": 1909,\n        \"samples\": [\n          \"229.80\",\n          \"2,537.85\",\n          \"160.28\"\n        ],\n        \"semantic_type\": \"\",\n        \"description\": \"\"\n      }\n    },\n    {\n      \"column\": \"Low\",\n      \"properties\": {\n        \"dtype\": \"string\",\n        \"num_unique_values\": 1908,\n        \"samples\": [\n          \"223.79\",\n          \"2,493.83\",\n          \"167.03\"\n        ],\n        \"semantic_type\": \"\",\n        \"description\": \"\"\n      }\n    },\n    {\n      \"column\": \"Vol.\",\n      \"properties\": {\n        \"dtype\": \"string\",\n        \"num_unique_values\": 1613,\n        \"samples\": [\n          \"381.95K\",\n          \"194.29K\",\n          \"229.74K\"\n        ],\n        \"semantic_type\": \"\",\n        \"description\": \"\"\n      }\n    },\n    {\n      \"column\": \"Change %\",\n      \"properties\": {\n        \"dtype\": \"string\",\n        \"num_unique_values\": 1042,\n        \"samples\": [\n          \"-1.99%\",\n          \"-1.23%\",\n          \"3.62%\"\n        ],\n        \"semantic_type\": \"\",\n        \"description\": \"\"\n      }\n    }\n  ]\n}"
            }
          },
          "metadata": {},
          "execution_count": 48
        }
      ],
      "source": [
        "eth_df = pd.read_csv(\"/content/Ethereum Historical Data (1).csv\")\n",
        "eth_df"
      ]
    },
    {
      "cell_type": "markdown",
      "metadata": {
        "id": "5hiTApHcoFPZ"
      },
      "source": [
        "###Data processing"
      ]
    },
    {
      "cell_type": "code",
      "execution_count": null,
      "metadata": {
        "id": "YsGWa3Y1idAS"
      },
      "outputs": [],
      "source": [
        "#convert to \"Datetime\" format\n",
        "eth_df['Date'] = pd.to_datetime(eth_df['Date'])\n",
        "eth_df.reset_index(drop=True)\n",
        "eth_df.set_index('Date', inplace=True)\n",
        "eth_df.sort_index(ascending=True, inplace=True)"
      ]
    },
    {
      "cell_type": "code",
      "execution_count": null,
      "metadata": {
        "colab": {
          "base_uri": "https://localhost:8080/",
          "height": 455
        },
        "id": "ngEROuCXmcc6",
        "outputId": "90348e34-c3a4-49a9-c80d-6c2cc23d4fcd"
      },
      "outputs": [
        {
          "output_type": "execute_result",
          "data": {
            "text/plain": [
              "               Price      Open      High       Low     Vol. Change %\n",
              "Date                                                                \n",
              "2019-03-01    135.72    135.47    138.06    128.46    9.73M    0.18%\n",
              "2019-03-02    132.76    135.72    136.36    130.74   11.29M   -2.18%\n",
              "2019-03-03    131.01    132.77    168.42    129.05   10.64M   -1.32%\n",
              "2019-03-04    125.97    131.02    131.57    123.25   14.11M   -3.85%\n",
              "2019-03-05    136.82    125.97    141.11    125.44   16.74M    8.61%\n",
              "...              ...       ...       ...       ...      ...      ...\n",
              "2024-05-28  3,845.56  3,894.33  3,929.21  3,775.08  436.24K   -1.25%\n",
              "2024-05-29  3,769.57  3,845.56  3,886.44  3,745.72  353.25K   -1.98%\n",
              "2024-05-30  3,747.55  3,767.22  3,824.94  3,703.74  293.81K   -0.58%\n",
              "2024-05-31  3,762.66  3,747.89  3,844.96  3,724.57  294.56K    0.40%\n",
              "2024-06-01  3,815.95  3,762.63  3,832.35  3,753.32  143.81K    1.42%\n",
              "\n",
              "[1920 rows x 6 columns]"
            ],
            "text/html": [
              "\n",
              "  <div id=\"df-af78aace-8324-4809-8083-8b0543475530\" class=\"colab-df-container\">\n",
              "    <div>\n",
              "<style scoped>\n",
              "    .dataframe tbody tr th:only-of-type {\n",
              "        vertical-align: middle;\n",
              "    }\n",
              "\n",
              "    .dataframe tbody tr th {\n",
              "        vertical-align: top;\n",
              "    }\n",
              "\n",
              "    .dataframe thead th {\n",
              "        text-align: right;\n",
              "    }\n",
              "</style>\n",
              "<table border=\"1\" class=\"dataframe\">\n",
              "  <thead>\n",
              "    <tr style=\"text-align: right;\">\n",
              "      <th></th>\n",
              "      <th>Price</th>\n",
              "      <th>Open</th>\n",
              "      <th>High</th>\n",
              "      <th>Low</th>\n",
              "      <th>Vol.</th>\n",
              "      <th>Change %</th>\n",
              "    </tr>\n",
              "    <tr>\n",
              "      <th>Date</th>\n",
              "      <th></th>\n",
              "      <th></th>\n",
              "      <th></th>\n",
              "      <th></th>\n",
              "      <th></th>\n",
              "      <th></th>\n",
              "    </tr>\n",
              "  </thead>\n",
              "  <tbody>\n",
              "    <tr>\n",
              "      <th>2019-03-01</th>\n",
              "      <td>135.72</td>\n",
              "      <td>135.47</td>\n",
              "      <td>138.06</td>\n",
              "      <td>128.46</td>\n",
              "      <td>9.73M</td>\n",
              "      <td>0.18%</td>\n",
              "    </tr>\n",
              "    <tr>\n",
              "      <th>2019-03-02</th>\n",
              "      <td>132.76</td>\n",
              "      <td>135.72</td>\n",
              "      <td>136.36</td>\n",
              "      <td>130.74</td>\n",
              "      <td>11.29M</td>\n",
              "      <td>-2.18%</td>\n",
              "    </tr>\n",
              "    <tr>\n",
              "      <th>2019-03-03</th>\n",
              "      <td>131.01</td>\n",
              "      <td>132.77</td>\n",
              "      <td>168.42</td>\n",
              "      <td>129.05</td>\n",
              "      <td>10.64M</td>\n",
              "      <td>-1.32%</td>\n",
              "    </tr>\n",
              "    <tr>\n",
              "      <th>2019-03-04</th>\n",
              "      <td>125.97</td>\n",
              "      <td>131.02</td>\n",
              "      <td>131.57</td>\n",
              "      <td>123.25</td>\n",
              "      <td>14.11M</td>\n",
              "      <td>-3.85%</td>\n",
              "    </tr>\n",
              "    <tr>\n",
              "      <th>2019-03-05</th>\n",
              "      <td>136.82</td>\n",
              "      <td>125.97</td>\n",
              "      <td>141.11</td>\n",
              "      <td>125.44</td>\n",
              "      <td>16.74M</td>\n",
              "      <td>8.61%</td>\n",
              "    </tr>\n",
              "    <tr>\n",
              "      <th>...</th>\n",
              "      <td>...</td>\n",
              "      <td>...</td>\n",
              "      <td>...</td>\n",
              "      <td>...</td>\n",
              "      <td>...</td>\n",
              "      <td>...</td>\n",
              "    </tr>\n",
              "    <tr>\n",
              "      <th>2024-05-28</th>\n",
              "      <td>3,845.56</td>\n",
              "      <td>3,894.33</td>\n",
              "      <td>3,929.21</td>\n",
              "      <td>3,775.08</td>\n",
              "      <td>436.24K</td>\n",
              "      <td>-1.25%</td>\n",
              "    </tr>\n",
              "    <tr>\n",
              "      <th>2024-05-29</th>\n",
              "      <td>3,769.57</td>\n",
              "      <td>3,845.56</td>\n",
              "      <td>3,886.44</td>\n",
              "      <td>3,745.72</td>\n",
              "      <td>353.25K</td>\n",
              "      <td>-1.98%</td>\n",
              "    </tr>\n",
              "    <tr>\n",
              "      <th>2024-05-30</th>\n",
              "      <td>3,747.55</td>\n",
              "      <td>3,767.22</td>\n",
              "      <td>3,824.94</td>\n",
              "      <td>3,703.74</td>\n",
              "      <td>293.81K</td>\n",
              "      <td>-0.58%</td>\n",
              "    </tr>\n",
              "    <tr>\n",
              "      <th>2024-05-31</th>\n",
              "      <td>3,762.66</td>\n",
              "      <td>3,747.89</td>\n",
              "      <td>3,844.96</td>\n",
              "      <td>3,724.57</td>\n",
              "      <td>294.56K</td>\n",
              "      <td>0.40%</td>\n",
              "    </tr>\n",
              "    <tr>\n",
              "      <th>2024-06-01</th>\n",
              "      <td>3,815.95</td>\n",
              "      <td>3,762.63</td>\n",
              "      <td>3,832.35</td>\n",
              "      <td>3,753.32</td>\n",
              "      <td>143.81K</td>\n",
              "      <td>1.42%</td>\n",
              "    </tr>\n",
              "  </tbody>\n",
              "</table>\n",
              "<p>1920 rows × 6 columns</p>\n",
              "</div>\n",
              "    <div class=\"colab-df-buttons\">\n",
              "\n",
              "  <div class=\"colab-df-container\">\n",
              "    <button class=\"colab-df-convert\" onclick=\"convertToInteractive('df-af78aace-8324-4809-8083-8b0543475530')\"\n",
              "            title=\"Convert this dataframe to an interactive table.\"\n",
              "            style=\"display:none;\">\n",
              "\n",
              "  <svg xmlns=\"http://www.w3.org/2000/svg\" height=\"24px\" viewBox=\"0 -960 960 960\">\n",
              "    <path d=\"M120-120v-720h720v720H120Zm60-500h600v-160H180v160Zm220 220h160v-160H400v160Zm0 220h160v-160H400v160ZM180-400h160v-160H180v160Zm440 0h160v-160H620v160ZM180-180h160v-160H180v160Zm440 0h160v-160H620v160Z\"/>\n",
              "  </svg>\n",
              "    </button>\n",
              "\n",
              "  <style>\n",
              "    .colab-df-container {\n",
              "      display:flex;\n",
              "      gap: 12px;\n",
              "    }\n",
              "\n",
              "    .colab-df-convert {\n",
              "      background-color: #E8F0FE;\n",
              "      border: none;\n",
              "      border-radius: 50%;\n",
              "      cursor: pointer;\n",
              "      display: none;\n",
              "      fill: #1967D2;\n",
              "      height: 32px;\n",
              "      padding: 0 0 0 0;\n",
              "      width: 32px;\n",
              "    }\n",
              "\n",
              "    .colab-df-convert:hover {\n",
              "      background-color: #E2EBFA;\n",
              "      box-shadow: 0px 1px 2px rgba(60, 64, 67, 0.3), 0px 1px 3px 1px rgba(60, 64, 67, 0.15);\n",
              "      fill: #174EA6;\n",
              "    }\n",
              "\n",
              "    .colab-df-buttons div {\n",
              "      margin-bottom: 4px;\n",
              "    }\n",
              "\n",
              "    [theme=dark] .colab-df-convert {\n",
              "      background-color: #3B4455;\n",
              "      fill: #D2E3FC;\n",
              "    }\n",
              "\n",
              "    [theme=dark] .colab-df-convert:hover {\n",
              "      background-color: #434B5C;\n",
              "      box-shadow: 0px 1px 3px 1px rgba(0, 0, 0, 0.15);\n",
              "      filter: drop-shadow(0px 1px 2px rgba(0, 0, 0, 0.3));\n",
              "      fill: #FFFFFF;\n",
              "    }\n",
              "  </style>\n",
              "\n",
              "    <script>\n",
              "      const buttonEl =\n",
              "        document.querySelector('#df-af78aace-8324-4809-8083-8b0543475530 button.colab-df-convert');\n",
              "      buttonEl.style.display =\n",
              "        google.colab.kernel.accessAllowed ? 'block' : 'none';\n",
              "\n",
              "      async function convertToInteractive(key) {\n",
              "        const element = document.querySelector('#df-af78aace-8324-4809-8083-8b0543475530');\n",
              "        const dataTable =\n",
              "          await google.colab.kernel.invokeFunction('convertToInteractive',\n",
              "                                                    [key], {});\n",
              "        if (!dataTable) return;\n",
              "\n",
              "        const docLinkHtml = 'Like what you see? Visit the ' +\n",
              "          '<a target=\"_blank\" href=https://colab.research.google.com/notebooks/data_table.ipynb>data table notebook</a>'\n",
              "          + ' to learn more about interactive tables.';\n",
              "        element.innerHTML = '';\n",
              "        dataTable['output_type'] = 'display_data';\n",
              "        await google.colab.output.renderOutput(dataTable, element);\n",
              "        const docLink = document.createElement('div');\n",
              "        docLink.innerHTML = docLinkHtml;\n",
              "        element.appendChild(docLink);\n",
              "      }\n",
              "    </script>\n",
              "  </div>\n",
              "\n",
              "\n",
              "<div id=\"df-441f4195-5947-4d41-a618-eb28bad5e9dd\">\n",
              "  <button class=\"colab-df-quickchart\" onclick=\"quickchart('df-441f4195-5947-4d41-a618-eb28bad5e9dd')\"\n",
              "            title=\"Suggest charts\"\n",
              "            style=\"display:none;\">\n",
              "\n",
              "<svg xmlns=\"http://www.w3.org/2000/svg\" height=\"24px\"viewBox=\"0 0 24 24\"\n",
              "     width=\"24px\">\n",
              "    <g>\n",
              "        <path d=\"M19 3H5c-1.1 0-2 .9-2 2v14c0 1.1.9 2 2 2h14c1.1 0 2-.9 2-2V5c0-1.1-.9-2-2-2zM9 17H7v-7h2v7zm4 0h-2V7h2v10zm4 0h-2v-4h2v4z\"/>\n",
              "    </g>\n",
              "</svg>\n",
              "  </button>\n",
              "\n",
              "<style>\n",
              "  .colab-df-quickchart {\n",
              "      --bg-color: #E8F0FE;\n",
              "      --fill-color: #1967D2;\n",
              "      --hover-bg-color: #E2EBFA;\n",
              "      --hover-fill-color: #174EA6;\n",
              "      --disabled-fill-color: #AAA;\n",
              "      --disabled-bg-color: #DDD;\n",
              "  }\n",
              "\n",
              "  [theme=dark] .colab-df-quickchart {\n",
              "      --bg-color: #3B4455;\n",
              "      --fill-color: #D2E3FC;\n",
              "      --hover-bg-color: #434B5C;\n",
              "      --hover-fill-color: #FFFFFF;\n",
              "      --disabled-bg-color: #3B4455;\n",
              "      --disabled-fill-color: #666;\n",
              "  }\n",
              "\n",
              "  .colab-df-quickchart {\n",
              "    background-color: var(--bg-color);\n",
              "    border: none;\n",
              "    border-radius: 50%;\n",
              "    cursor: pointer;\n",
              "    display: none;\n",
              "    fill: var(--fill-color);\n",
              "    height: 32px;\n",
              "    padding: 0;\n",
              "    width: 32px;\n",
              "  }\n",
              "\n",
              "  .colab-df-quickchart:hover {\n",
              "    background-color: var(--hover-bg-color);\n",
              "    box-shadow: 0 1px 2px rgba(60, 64, 67, 0.3), 0 1px 3px 1px rgba(60, 64, 67, 0.15);\n",
              "    fill: var(--button-hover-fill-color);\n",
              "  }\n",
              "\n",
              "  .colab-df-quickchart-complete:disabled,\n",
              "  .colab-df-quickchart-complete:disabled:hover {\n",
              "    background-color: var(--disabled-bg-color);\n",
              "    fill: var(--disabled-fill-color);\n",
              "    box-shadow: none;\n",
              "  }\n",
              "\n",
              "  .colab-df-spinner {\n",
              "    border: 2px solid var(--fill-color);\n",
              "    border-color: transparent;\n",
              "    border-bottom-color: var(--fill-color);\n",
              "    animation:\n",
              "      spin 1s steps(1) infinite;\n",
              "  }\n",
              "\n",
              "  @keyframes spin {\n",
              "    0% {\n",
              "      border-color: transparent;\n",
              "      border-bottom-color: var(--fill-color);\n",
              "      border-left-color: var(--fill-color);\n",
              "    }\n",
              "    20% {\n",
              "      border-color: transparent;\n",
              "      border-left-color: var(--fill-color);\n",
              "      border-top-color: var(--fill-color);\n",
              "    }\n",
              "    30% {\n",
              "      border-color: transparent;\n",
              "      border-left-color: var(--fill-color);\n",
              "      border-top-color: var(--fill-color);\n",
              "      border-right-color: var(--fill-color);\n",
              "    }\n",
              "    40% {\n",
              "      border-color: transparent;\n",
              "      border-right-color: var(--fill-color);\n",
              "      border-top-color: var(--fill-color);\n",
              "    }\n",
              "    60% {\n",
              "      border-color: transparent;\n",
              "      border-right-color: var(--fill-color);\n",
              "    }\n",
              "    80% {\n",
              "      border-color: transparent;\n",
              "      border-right-color: var(--fill-color);\n",
              "      border-bottom-color: var(--fill-color);\n",
              "    }\n",
              "    90% {\n",
              "      border-color: transparent;\n",
              "      border-bottom-color: var(--fill-color);\n",
              "    }\n",
              "  }\n",
              "</style>\n",
              "\n",
              "  <script>\n",
              "    async function quickchart(key) {\n",
              "      const quickchartButtonEl =\n",
              "        document.querySelector('#' + key + ' button');\n",
              "      quickchartButtonEl.disabled = true;  // To prevent multiple clicks.\n",
              "      quickchartButtonEl.classList.add('colab-df-spinner');\n",
              "      try {\n",
              "        const charts = await google.colab.kernel.invokeFunction(\n",
              "            'suggestCharts', [key], {});\n",
              "      } catch (error) {\n",
              "        console.error('Error during call to suggestCharts:', error);\n",
              "      }\n",
              "      quickchartButtonEl.classList.remove('colab-df-spinner');\n",
              "      quickchartButtonEl.classList.add('colab-df-quickchart-complete');\n",
              "    }\n",
              "    (() => {\n",
              "      let quickchartButtonEl =\n",
              "        document.querySelector('#df-441f4195-5947-4d41-a618-eb28bad5e9dd button');\n",
              "      quickchartButtonEl.style.display =\n",
              "        google.colab.kernel.accessAllowed ? 'block' : 'none';\n",
              "    })();\n",
              "  </script>\n",
              "</div>\n",
              "\n",
              "  <div id=\"id_c6b9a511-c558-4e2c-a15b-6d6e1a98889f\">\n",
              "    <style>\n",
              "      .colab-df-generate {\n",
              "        background-color: #E8F0FE;\n",
              "        border: none;\n",
              "        border-radius: 50%;\n",
              "        cursor: pointer;\n",
              "        display: none;\n",
              "        fill: #1967D2;\n",
              "        height: 32px;\n",
              "        padding: 0 0 0 0;\n",
              "        width: 32px;\n",
              "      }\n",
              "\n",
              "      .colab-df-generate:hover {\n",
              "        background-color: #E2EBFA;\n",
              "        box-shadow: 0px 1px 2px rgba(60, 64, 67, 0.3), 0px 1px 3px 1px rgba(60, 64, 67, 0.15);\n",
              "        fill: #174EA6;\n",
              "      }\n",
              "\n",
              "      [theme=dark] .colab-df-generate {\n",
              "        background-color: #3B4455;\n",
              "        fill: #D2E3FC;\n",
              "      }\n",
              "\n",
              "      [theme=dark] .colab-df-generate:hover {\n",
              "        background-color: #434B5C;\n",
              "        box-shadow: 0px 1px 3px 1px rgba(0, 0, 0, 0.15);\n",
              "        filter: drop-shadow(0px 1px 2px rgba(0, 0, 0, 0.3));\n",
              "        fill: #FFFFFF;\n",
              "      }\n",
              "    </style>\n",
              "    <button class=\"colab-df-generate\" onclick=\"generateWithVariable('eth_df')\"\n",
              "            title=\"Generate code using this dataframe.\"\n",
              "            style=\"display:none;\">\n",
              "\n",
              "  <svg xmlns=\"http://www.w3.org/2000/svg\" height=\"24px\"viewBox=\"0 0 24 24\"\n",
              "       width=\"24px\">\n",
              "    <path d=\"M7,19H8.4L18.45,9,17,7.55,7,17.6ZM5,21V16.75L18.45,3.32a2,2,0,0,1,2.83,0l1.4,1.43a1.91,1.91,0,0,1,.58,1.4,1.91,1.91,0,0,1-.58,1.4L9.25,21ZM18.45,9,17,7.55Zm-12,3A5.31,5.31,0,0,0,4.9,8.1,5.31,5.31,0,0,0,1,6.5,5.31,5.31,0,0,0,4.9,4.9,5.31,5.31,0,0,0,6.5,1,5.31,5.31,0,0,0,8.1,4.9,5.31,5.31,0,0,0,12,6.5,5.46,5.46,0,0,0,6.5,12Z\"/>\n",
              "  </svg>\n",
              "    </button>\n",
              "    <script>\n",
              "      (() => {\n",
              "      const buttonEl =\n",
              "        document.querySelector('#id_c6b9a511-c558-4e2c-a15b-6d6e1a98889f button.colab-df-generate');\n",
              "      buttonEl.style.display =\n",
              "        google.colab.kernel.accessAllowed ? 'block' : 'none';\n",
              "\n",
              "      buttonEl.onclick = () => {\n",
              "        google.colab.notebook.generateWithVariable('eth_df');\n",
              "      }\n",
              "      })();\n",
              "    </script>\n",
              "  </div>\n",
              "\n",
              "    </div>\n",
              "  </div>\n"
            ],
            "application/vnd.google.colaboratory.intrinsic+json": {
              "type": "dataframe",
              "variable_name": "eth_df",
              "summary": "{\n  \"name\": \"eth_df\",\n  \"rows\": 1920,\n  \"fields\": [\n    {\n      \"column\": \"Date\",\n      \"properties\": {\n        \"dtype\": \"date\",\n        \"min\": \"2019-03-01 00:00:00\",\n        \"max\": \"2024-06-01 00:00:00\",\n        \"num_unique_values\": 1920,\n        \"samples\": [\n          \"2021-11-23 00:00:00\",\n          \"2023-08-08 00:00:00\",\n          \"2020-11-01 00:00:00\"\n        ],\n        \"semantic_type\": \"\",\n        \"description\": \"\"\n      }\n    },\n    {\n      \"column\": \"Price\",\n      \"properties\": {\n        \"dtype\": \"string\",\n        \"num_unique_values\": 1900,\n        \"samples\": [\n          \"1,534.85\",\n          \"310.38\",\n          \"385.25\"\n        ],\n        \"semantic_type\": \"\",\n        \"description\": \"\"\n      }\n    },\n    {\n      \"column\": \"Open\",\n      \"properties\": {\n        \"dtype\": \"string\",\n        \"num_unique_values\": 1900,\n        \"samples\": [\n          \"1,575.68\",\n          \"294.69\",\n          \"385.33\"\n        ],\n        \"semantic_type\": \"\",\n        \"description\": \"\"\n      }\n    },\n    {\n      \"column\": \"High\",\n      \"properties\": {\n        \"dtype\": \"string\",\n        \"num_unique_values\": 1909,\n        \"samples\": [\n          \"1,710.27\",\n          \"273.18\",\n          \"3,435.57\"\n        ],\n        \"semantic_type\": \"\",\n        \"description\": \"\"\n      }\n    },\n    {\n      \"column\": \"Low\",\n      \"properties\": {\n        \"dtype\": \"string\",\n        \"num_unique_values\": 1908,\n        \"samples\": [\n          \"1,628.73\",\n          \"271.45\",\n          \"3,462.44\"\n        ],\n        \"semantic_type\": \"\",\n        \"description\": \"\"\n      }\n    },\n    {\n      \"column\": \"Vol.\",\n      \"properties\": {\n        \"dtype\": \"string\",\n        \"num_unique_values\": 1613,\n        \"samples\": [\n          \"9.33M\",\n          \"15.67M\",\n          \"13.96M\"\n        ],\n        \"semantic_type\": \"\",\n        \"description\": \"\"\n      }\n    },\n    {\n      \"column\": \"Change %\",\n      \"properties\": {\n        \"dtype\": \"string\",\n        \"num_unique_values\": 1042,\n        \"samples\": [\n          \"10.49%\",\n          \"0.59%\",\n          \"-3.72%\"\n        ],\n        \"semantic_type\": \"\",\n        \"description\": \"\"\n      }\n    }\n  ]\n}"
            }
          },
          "metadata": {},
          "execution_count": 50
        }
      ],
      "source": [
        "eth_df"
      ]
    },
    {
      "cell_type": "code",
      "execution_count": null,
      "metadata": {
        "colab": {
          "base_uri": "https://localhost:8080/"
        },
        "id": "iTBnmtJf3caa",
        "outputId": "a19d7174-d2ca-4a83-d606-2ec176a244b5"
      },
      "outputs": [
        {
          "output_type": "stream",
          "name": "stdout",
          "text": [
            "<class 'pandas.core.frame.DataFrame'>\n",
            "DatetimeIndex: 1920 entries, 2019-03-01 to 2024-06-01\n",
            "Data columns (total 6 columns):\n",
            " #   Column    Non-Null Count  Dtype \n",
            "---  ------    --------------  ----- \n",
            " 0   Price     1920 non-null   object\n",
            " 1   Open      1920 non-null   object\n",
            " 2   High      1920 non-null   object\n",
            " 3   Low       1920 non-null   object\n",
            " 4   Vol.      1920 non-null   object\n",
            " 5   Change %  1920 non-null   object\n",
            "dtypes: object(6)\n",
            "memory usage: 105.0+ KB\n",
            "None\n"
          ]
        }
      ],
      "source": [
        "print(eth_df.info())"
      ]
    },
    {
      "cell_type": "code",
      "execution_count": null,
      "metadata": {
        "id": "MwZEQMxG8SfD"
      },
      "outputs": [],
      "source": [
        "# Hàm để chuyển đổi giá trị có 'K', 'M', hoặc 'B' thành số thực.\n",
        "def convert_volume(value):\n",
        "    if 'K' in value:\n",
        "        return float(value.replace('K', '')) * 1e3\n",
        "    elif 'M' in value:\n",
        "        return float(value.replace('M', '')) * 1e6\n",
        "    elif 'B' in value:\n",
        "        return float(value.replace('B', '')) * 1e9\n",
        "    else:\n",
        "        return float(value)\n",
        "\n",
        "# Áp dụng hàm cho mỗi giá trị trong cột 'Vol.'.\n",
        "eth_df['Vol.'] = eth_df['Vol.'].apply(convert_volume)\n"
      ]
    },
    {
      "cell_type": "code",
      "execution_count": null,
      "metadata": {
        "id": "bsFiDhee88wq"
      },
      "outputs": [],
      "source": [
        "# Hàm để chuyển đổi giá trị có dấu % thành số thực.\n",
        "def convert_percent_to_float(value):\n",
        "    return float(value.replace('%', '')) / 100\n",
        "\n",
        "# Giả sử etr_df là DataFrame của bạn với cột 'Percentage' cần được chuyển đổi.\n",
        "# etr_df['Percentage'] = ...\n",
        "\n",
        "# Áp dụng hàm cho mỗi giá trị trong cột 'Percentage'.\n",
        "eth_df['Change %'] = eth_df['Change %'].apply(convert_percent_to_float)\n"
      ]
    },
    {
      "cell_type": "code",
      "execution_count": null,
      "metadata": {
        "colab": {
          "base_uri": "https://localhost:8080/",
          "height": 455
        },
        "id": "sJPM0dDT8VsR",
        "outputId": "d1295497-2163-44a6-b43a-5880f634437b"
      },
      "outputs": [
        {
          "output_type": "execute_result",
          "data": {
            "text/plain": [
              "               Price      Open      High       Low        Vol.  Change %\n",
              "Date                                                                    \n",
              "2019-03-01    135.72    135.47    138.06    128.46   9730000.0    0.0018\n",
              "2019-03-02    132.76    135.72    136.36    130.74  11290000.0   -0.0218\n",
              "2019-03-03    131.01    132.77    168.42    129.05  10640000.0   -0.0132\n",
              "2019-03-04    125.97    131.02    131.57    123.25  14110000.0   -0.0385\n",
              "2019-03-05    136.82    125.97    141.11    125.44  16740000.0    0.0861\n",
              "...              ...       ...       ...       ...         ...       ...\n",
              "2024-05-28  3,845.56  3,894.33  3,929.21  3,775.08    436240.0   -0.0125\n",
              "2024-05-29  3,769.57  3,845.56  3,886.44  3,745.72    353250.0   -0.0198\n",
              "2024-05-30  3,747.55  3,767.22  3,824.94  3,703.74    293810.0   -0.0058\n",
              "2024-05-31  3,762.66  3,747.89  3,844.96  3,724.57    294560.0    0.0040\n",
              "2024-06-01  3,815.95  3,762.63  3,832.35  3,753.32    143810.0    0.0142\n",
              "\n",
              "[1920 rows x 6 columns]"
            ],
            "text/html": [
              "\n",
              "  <div id=\"df-6e929be8-f1f0-4d9d-8075-ad6eb2baf7b6\" class=\"colab-df-container\">\n",
              "    <div>\n",
              "<style scoped>\n",
              "    .dataframe tbody tr th:only-of-type {\n",
              "        vertical-align: middle;\n",
              "    }\n",
              "\n",
              "    .dataframe tbody tr th {\n",
              "        vertical-align: top;\n",
              "    }\n",
              "\n",
              "    .dataframe thead th {\n",
              "        text-align: right;\n",
              "    }\n",
              "</style>\n",
              "<table border=\"1\" class=\"dataframe\">\n",
              "  <thead>\n",
              "    <tr style=\"text-align: right;\">\n",
              "      <th></th>\n",
              "      <th>Price</th>\n",
              "      <th>Open</th>\n",
              "      <th>High</th>\n",
              "      <th>Low</th>\n",
              "      <th>Vol.</th>\n",
              "      <th>Change %</th>\n",
              "    </tr>\n",
              "    <tr>\n",
              "      <th>Date</th>\n",
              "      <th></th>\n",
              "      <th></th>\n",
              "      <th></th>\n",
              "      <th></th>\n",
              "      <th></th>\n",
              "      <th></th>\n",
              "    </tr>\n",
              "  </thead>\n",
              "  <tbody>\n",
              "    <tr>\n",
              "      <th>2019-03-01</th>\n",
              "      <td>135.72</td>\n",
              "      <td>135.47</td>\n",
              "      <td>138.06</td>\n",
              "      <td>128.46</td>\n",
              "      <td>9730000.0</td>\n",
              "      <td>0.0018</td>\n",
              "    </tr>\n",
              "    <tr>\n",
              "      <th>2019-03-02</th>\n",
              "      <td>132.76</td>\n",
              "      <td>135.72</td>\n",
              "      <td>136.36</td>\n",
              "      <td>130.74</td>\n",
              "      <td>11290000.0</td>\n",
              "      <td>-0.0218</td>\n",
              "    </tr>\n",
              "    <tr>\n",
              "      <th>2019-03-03</th>\n",
              "      <td>131.01</td>\n",
              "      <td>132.77</td>\n",
              "      <td>168.42</td>\n",
              "      <td>129.05</td>\n",
              "      <td>10640000.0</td>\n",
              "      <td>-0.0132</td>\n",
              "    </tr>\n",
              "    <tr>\n",
              "      <th>2019-03-04</th>\n",
              "      <td>125.97</td>\n",
              "      <td>131.02</td>\n",
              "      <td>131.57</td>\n",
              "      <td>123.25</td>\n",
              "      <td>14110000.0</td>\n",
              "      <td>-0.0385</td>\n",
              "    </tr>\n",
              "    <tr>\n",
              "      <th>2019-03-05</th>\n",
              "      <td>136.82</td>\n",
              "      <td>125.97</td>\n",
              "      <td>141.11</td>\n",
              "      <td>125.44</td>\n",
              "      <td>16740000.0</td>\n",
              "      <td>0.0861</td>\n",
              "    </tr>\n",
              "    <tr>\n",
              "      <th>...</th>\n",
              "      <td>...</td>\n",
              "      <td>...</td>\n",
              "      <td>...</td>\n",
              "      <td>...</td>\n",
              "      <td>...</td>\n",
              "      <td>...</td>\n",
              "    </tr>\n",
              "    <tr>\n",
              "      <th>2024-05-28</th>\n",
              "      <td>3,845.56</td>\n",
              "      <td>3,894.33</td>\n",
              "      <td>3,929.21</td>\n",
              "      <td>3,775.08</td>\n",
              "      <td>436240.0</td>\n",
              "      <td>-0.0125</td>\n",
              "    </tr>\n",
              "    <tr>\n",
              "      <th>2024-05-29</th>\n",
              "      <td>3,769.57</td>\n",
              "      <td>3,845.56</td>\n",
              "      <td>3,886.44</td>\n",
              "      <td>3,745.72</td>\n",
              "      <td>353250.0</td>\n",
              "      <td>-0.0198</td>\n",
              "    </tr>\n",
              "    <tr>\n",
              "      <th>2024-05-30</th>\n",
              "      <td>3,747.55</td>\n",
              "      <td>3,767.22</td>\n",
              "      <td>3,824.94</td>\n",
              "      <td>3,703.74</td>\n",
              "      <td>293810.0</td>\n",
              "      <td>-0.0058</td>\n",
              "    </tr>\n",
              "    <tr>\n",
              "      <th>2024-05-31</th>\n",
              "      <td>3,762.66</td>\n",
              "      <td>3,747.89</td>\n",
              "      <td>3,844.96</td>\n",
              "      <td>3,724.57</td>\n",
              "      <td>294560.0</td>\n",
              "      <td>0.0040</td>\n",
              "    </tr>\n",
              "    <tr>\n",
              "      <th>2024-06-01</th>\n",
              "      <td>3,815.95</td>\n",
              "      <td>3,762.63</td>\n",
              "      <td>3,832.35</td>\n",
              "      <td>3,753.32</td>\n",
              "      <td>143810.0</td>\n",
              "      <td>0.0142</td>\n",
              "    </tr>\n",
              "  </tbody>\n",
              "</table>\n",
              "<p>1920 rows × 6 columns</p>\n",
              "</div>\n",
              "    <div class=\"colab-df-buttons\">\n",
              "\n",
              "  <div class=\"colab-df-container\">\n",
              "    <button class=\"colab-df-convert\" onclick=\"convertToInteractive('df-6e929be8-f1f0-4d9d-8075-ad6eb2baf7b6')\"\n",
              "            title=\"Convert this dataframe to an interactive table.\"\n",
              "            style=\"display:none;\">\n",
              "\n",
              "  <svg xmlns=\"http://www.w3.org/2000/svg\" height=\"24px\" viewBox=\"0 -960 960 960\">\n",
              "    <path d=\"M120-120v-720h720v720H120Zm60-500h600v-160H180v160Zm220 220h160v-160H400v160Zm0 220h160v-160H400v160ZM180-400h160v-160H180v160Zm440 0h160v-160H620v160ZM180-180h160v-160H180v160Zm440 0h160v-160H620v160Z\"/>\n",
              "  </svg>\n",
              "    </button>\n",
              "\n",
              "  <style>\n",
              "    .colab-df-container {\n",
              "      display:flex;\n",
              "      gap: 12px;\n",
              "    }\n",
              "\n",
              "    .colab-df-convert {\n",
              "      background-color: #E8F0FE;\n",
              "      border: none;\n",
              "      border-radius: 50%;\n",
              "      cursor: pointer;\n",
              "      display: none;\n",
              "      fill: #1967D2;\n",
              "      height: 32px;\n",
              "      padding: 0 0 0 0;\n",
              "      width: 32px;\n",
              "    }\n",
              "\n",
              "    .colab-df-convert:hover {\n",
              "      background-color: #E2EBFA;\n",
              "      box-shadow: 0px 1px 2px rgba(60, 64, 67, 0.3), 0px 1px 3px 1px rgba(60, 64, 67, 0.15);\n",
              "      fill: #174EA6;\n",
              "    }\n",
              "\n",
              "    .colab-df-buttons div {\n",
              "      margin-bottom: 4px;\n",
              "    }\n",
              "\n",
              "    [theme=dark] .colab-df-convert {\n",
              "      background-color: #3B4455;\n",
              "      fill: #D2E3FC;\n",
              "    }\n",
              "\n",
              "    [theme=dark] .colab-df-convert:hover {\n",
              "      background-color: #434B5C;\n",
              "      box-shadow: 0px 1px 3px 1px rgba(0, 0, 0, 0.15);\n",
              "      filter: drop-shadow(0px 1px 2px rgba(0, 0, 0, 0.3));\n",
              "      fill: #FFFFFF;\n",
              "    }\n",
              "  </style>\n",
              "\n",
              "    <script>\n",
              "      const buttonEl =\n",
              "        document.querySelector('#df-6e929be8-f1f0-4d9d-8075-ad6eb2baf7b6 button.colab-df-convert');\n",
              "      buttonEl.style.display =\n",
              "        google.colab.kernel.accessAllowed ? 'block' : 'none';\n",
              "\n",
              "      async function convertToInteractive(key) {\n",
              "        const element = document.querySelector('#df-6e929be8-f1f0-4d9d-8075-ad6eb2baf7b6');\n",
              "        const dataTable =\n",
              "          await google.colab.kernel.invokeFunction('convertToInteractive',\n",
              "                                                    [key], {});\n",
              "        if (!dataTable) return;\n",
              "\n",
              "        const docLinkHtml = 'Like what you see? Visit the ' +\n",
              "          '<a target=\"_blank\" href=https://colab.research.google.com/notebooks/data_table.ipynb>data table notebook</a>'\n",
              "          + ' to learn more about interactive tables.';\n",
              "        element.innerHTML = '';\n",
              "        dataTable['output_type'] = 'display_data';\n",
              "        await google.colab.output.renderOutput(dataTable, element);\n",
              "        const docLink = document.createElement('div');\n",
              "        docLink.innerHTML = docLinkHtml;\n",
              "        element.appendChild(docLink);\n",
              "      }\n",
              "    </script>\n",
              "  </div>\n",
              "\n",
              "\n",
              "<div id=\"df-b98653aa-05ff-40b1-bb67-f702919b2601\">\n",
              "  <button class=\"colab-df-quickchart\" onclick=\"quickchart('df-b98653aa-05ff-40b1-bb67-f702919b2601')\"\n",
              "            title=\"Suggest charts\"\n",
              "            style=\"display:none;\">\n",
              "\n",
              "<svg xmlns=\"http://www.w3.org/2000/svg\" height=\"24px\"viewBox=\"0 0 24 24\"\n",
              "     width=\"24px\">\n",
              "    <g>\n",
              "        <path d=\"M19 3H5c-1.1 0-2 .9-2 2v14c0 1.1.9 2 2 2h14c1.1 0 2-.9 2-2V5c0-1.1-.9-2-2-2zM9 17H7v-7h2v7zm4 0h-2V7h2v10zm4 0h-2v-4h2v4z\"/>\n",
              "    </g>\n",
              "</svg>\n",
              "  </button>\n",
              "\n",
              "<style>\n",
              "  .colab-df-quickchart {\n",
              "      --bg-color: #E8F0FE;\n",
              "      --fill-color: #1967D2;\n",
              "      --hover-bg-color: #E2EBFA;\n",
              "      --hover-fill-color: #174EA6;\n",
              "      --disabled-fill-color: #AAA;\n",
              "      --disabled-bg-color: #DDD;\n",
              "  }\n",
              "\n",
              "  [theme=dark] .colab-df-quickchart {\n",
              "      --bg-color: #3B4455;\n",
              "      --fill-color: #D2E3FC;\n",
              "      --hover-bg-color: #434B5C;\n",
              "      --hover-fill-color: #FFFFFF;\n",
              "      --disabled-bg-color: #3B4455;\n",
              "      --disabled-fill-color: #666;\n",
              "  }\n",
              "\n",
              "  .colab-df-quickchart {\n",
              "    background-color: var(--bg-color);\n",
              "    border: none;\n",
              "    border-radius: 50%;\n",
              "    cursor: pointer;\n",
              "    display: none;\n",
              "    fill: var(--fill-color);\n",
              "    height: 32px;\n",
              "    padding: 0;\n",
              "    width: 32px;\n",
              "  }\n",
              "\n",
              "  .colab-df-quickchart:hover {\n",
              "    background-color: var(--hover-bg-color);\n",
              "    box-shadow: 0 1px 2px rgba(60, 64, 67, 0.3), 0 1px 3px 1px rgba(60, 64, 67, 0.15);\n",
              "    fill: var(--button-hover-fill-color);\n",
              "  }\n",
              "\n",
              "  .colab-df-quickchart-complete:disabled,\n",
              "  .colab-df-quickchart-complete:disabled:hover {\n",
              "    background-color: var(--disabled-bg-color);\n",
              "    fill: var(--disabled-fill-color);\n",
              "    box-shadow: none;\n",
              "  }\n",
              "\n",
              "  .colab-df-spinner {\n",
              "    border: 2px solid var(--fill-color);\n",
              "    border-color: transparent;\n",
              "    border-bottom-color: var(--fill-color);\n",
              "    animation:\n",
              "      spin 1s steps(1) infinite;\n",
              "  }\n",
              "\n",
              "  @keyframes spin {\n",
              "    0% {\n",
              "      border-color: transparent;\n",
              "      border-bottom-color: var(--fill-color);\n",
              "      border-left-color: var(--fill-color);\n",
              "    }\n",
              "    20% {\n",
              "      border-color: transparent;\n",
              "      border-left-color: var(--fill-color);\n",
              "      border-top-color: var(--fill-color);\n",
              "    }\n",
              "    30% {\n",
              "      border-color: transparent;\n",
              "      border-left-color: var(--fill-color);\n",
              "      border-top-color: var(--fill-color);\n",
              "      border-right-color: var(--fill-color);\n",
              "    }\n",
              "    40% {\n",
              "      border-color: transparent;\n",
              "      border-right-color: var(--fill-color);\n",
              "      border-top-color: var(--fill-color);\n",
              "    }\n",
              "    60% {\n",
              "      border-color: transparent;\n",
              "      border-right-color: var(--fill-color);\n",
              "    }\n",
              "    80% {\n",
              "      border-color: transparent;\n",
              "      border-right-color: var(--fill-color);\n",
              "      border-bottom-color: var(--fill-color);\n",
              "    }\n",
              "    90% {\n",
              "      border-color: transparent;\n",
              "      border-bottom-color: var(--fill-color);\n",
              "    }\n",
              "  }\n",
              "</style>\n",
              "\n",
              "  <script>\n",
              "    async function quickchart(key) {\n",
              "      const quickchartButtonEl =\n",
              "        document.querySelector('#' + key + ' button');\n",
              "      quickchartButtonEl.disabled = true;  // To prevent multiple clicks.\n",
              "      quickchartButtonEl.classList.add('colab-df-spinner');\n",
              "      try {\n",
              "        const charts = await google.colab.kernel.invokeFunction(\n",
              "            'suggestCharts', [key], {});\n",
              "      } catch (error) {\n",
              "        console.error('Error during call to suggestCharts:', error);\n",
              "      }\n",
              "      quickchartButtonEl.classList.remove('colab-df-spinner');\n",
              "      quickchartButtonEl.classList.add('colab-df-quickchart-complete');\n",
              "    }\n",
              "    (() => {\n",
              "      let quickchartButtonEl =\n",
              "        document.querySelector('#df-b98653aa-05ff-40b1-bb67-f702919b2601 button');\n",
              "      quickchartButtonEl.style.display =\n",
              "        google.colab.kernel.accessAllowed ? 'block' : 'none';\n",
              "    })();\n",
              "  </script>\n",
              "</div>\n",
              "\n",
              "  <div id=\"id_c1b327e2-e95e-40d4-b8de-a1bf5ac921ea\">\n",
              "    <style>\n",
              "      .colab-df-generate {\n",
              "        background-color: #E8F0FE;\n",
              "        border: none;\n",
              "        border-radius: 50%;\n",
              "        cursor: pointer;\n",
              "        display: none;\n",
              "        fill: #1967D2;\n",
              "        height: 32px;\n",
              "        padding: 0 0 0 0;\n",
              "        width: 32px;\n",
              "      }\n",
              "\n",
              "      .colab-df-generate:hover {\n",
              "        background-color: #E2EBFA;\n",
              "        box-shadow: 0px 1px 2px rgba(60, 64, 67, 0.3), 0px 1px 3px 1px rgba(60, 64, 67, 0.15);\n",
              "        fill: #174EA6;\n",
              "      }\n",
              "\n",
              "      [theme=dark] .colab-df-generate {\n",
              "        background-color: #3B4455;\n",
              "        fill: #D2E3FC;\n",
              "      }\n",
              "\n",
              "      [theme=dark] .colab-df-generate:hover {\n",
              "        background-color: #434B5C;\n",
              "        box-shadow: 0px 1px 3px 1px rgba(0, 0, 0, 0.15);\n",
              "        filter: drop-shadow(0px 1px 2px rgba(0, 0, 0, 0.3));\n",
              "        fill: #FFFFFF;\n",
              "      }\n",
              "    </style>\n",
              "    <button class=\"colab-df-generate\" onclick=\"generateWithVariable('eth_df')\"\n",
              "            title=\"Generate code using this dataframe.\"\n",
              "            style=\"display:none;\">\n",
              "\n",
              "  <svg xmlns=\"http://www.w3.org/2000/svg\" height=\"24px\"viewBox=\"0 0 24 24\"\n",
              "       width=\"24px\">\n",
              "    <path d=\"M7,19H8.4L18.45,9,17,7.55,7,17.6ZM5,21V16.75L18.45,3.32a2,2,0,0,1,2.83,0l1.4,1.43a1.91,1.91,0,0,1,.58,1.4,1.91,1.91,0,0,1-.58,1.4L9.25,21ZM18.45,9,17,7.55Zm-12,3A5.31,5.31,0,0,0,4.9,8.1,5.31,5.31,0,0,0,1,6.5,5.31,5.31,0,0,0,4.9,4.9,5.31,5.31,0,0,0,6.5,1,5.31,5.31,0,0,0,8.1,4.9,5.31,5.31,0,0,0,12,6.5,5.46,5.46,0,0,0,6.5,12Z\"/>\n",
              "  </svg>\n",
              "    </button>\n",
              "    <script>\n",
              "      (() => {\n",
              "      const buttonEl =\n",
              "        document.querySelector('#id_c1b327e2-e95e-40d4-b8de-a1bf5ac921ea button.colab-df-generate');\n",
              "      buttonEl.style.display =\n",
              "        google.colab.kernel.accessAllowed ? 'block' : 'none';\n",
              "\n",
              "      buttonEl.onclick = () => {\n",
              "        google.colab.notebook.generateWithVariable('eth_df');\n",
              "      }\n",
              "      })();\n",
              "    </script>\n",
              "  </div>\n",
              "\n",
              "    </div>\n",
              "  </div>\n"
            ],
            "application/vnd.google.colaboratory.intrinsic+json": {
              "type": "dataframe",
              "variable_name": "eth_df",
              "summary": "{\n  \"name\": \"eth_df\",\n  \"rows\": 1920,\n  \"fields\": [\n    {\n      \"column\": \"Date\",\n      \"properties\": {\n        \"dtype\": \"date\",\n        \"min\": \"2019-03-01 00:00:00\",\n        \"max\": \"2024-06-01 00:00:00\",\n        \"num_unique_values\": 1920,\n        \"samples\": [\n          \"2021-11-23 00:00:00\",\n          \"2023-08-08 00:00:00\",\n          \"2020-11-01 00:00:00\"\n        ],\n        \"semantic_type\": \"\",\n        \"description\": \"\"\n      }\n    },\n    {\n      \"column\": \"Price\",\n      \"properties\": {\n        \"dtype\": \"string\",\n        \"num_unique_values\": 1900,\n        \"samples\": [\n          \"1,534.85\",\n          \"310.38\",\n          \"385.25\"\n        ],\n        \"semantic_type\": \"\",\n        \"description\": \"\"\n      }\n    },\n    {\n      \"column\": \"Open\",\n      \"properties\": {\n        \"dtype\": \"string\",\n        \"num_unique_values\": 1900,\n        \"samples\": [\n          \"1,575.68\",\n          \"294.69\",\n          \"385.33\"\n        ],\n        \"semantic_type\": \"\",\n        \"description\": \"\"\n      }\n    },\n    {\n      \"column\": \"High\",\n      \"properties\": {\n        \"dtype\": \"string\",\n        \"num_unique_values\": 1909,\n        \"samples\": [\n          \"1,710.27\",\n          \"273.18\",\n          \"3,435.57\"\n        ],\n        \"semantic_type\": \"\",\n        \"description\": \"\"\n      }\n    },\n    {\n      \"column\": \"Low\",\n      \"properties\": {\n        \"dtype\": \"string\",\n        \"num_unique_values\": 1908,\n        \"samples\": [\n          \"1,628.73\",\n          \"271.45\",\n          \"3,462.44\"\n        ],\n        \"semantic_type\": \"\",\n        \"description\": \"\"\n      }\n    },\n    {\n      \"column\": \"Vol.\",\n      \"properties\": {\n        \"dtype\": \"number\",\n        \"std\": 112208076.64132501,\n        \"min\": 27030.0,\n        \"max\": 1790000000.0,\n        \"num_unique_values\": 1613,\n        \"samples\": [\n          9330000.0,\n          15670000.0,\n          13960000.0\n        ],\n        \"semantic_type\": \"\",\n        \"description\": \"\"\n      }\n    },\n    {\n      \"column\": \"Change %\",\n      \"properties\": {\n        \"dtype\": \"number\",\n        \"std\": 0.04447354266892567,\n        \"min\": -0.44549999999999995,\n        \"max\": 0.2596,\n        \"num_unique_values\": 1042,\n        \"samples\": [\n          0.10490000000000001,\n          0.0059,\n          -0.037200000000000004\n        ],\n        \"semantic_type\": \"\",\n        \"description\": \"\"\n      }\n    }\n  ]\n}"
            }
          },
          "metadata": {},
          "execution_count": 54
        }
      ],
      "source": [
        "eth_df"
      ]
    },
    {
      "cell_type": "code",
      "execution_count": null,
      "metadata": {
        "colab": {
          "base_uri": "https://localhost:8080/"
        },
        "id": "8ZxKlMKSq6dK",
        "outputId": "d9b11b35-fff9-49ef-8048-4628c0440b56"
      },
      "outputs": [
        {
          "output_type": "execute_result",
          "data": {
            "text/plain": [
              "dtype('O')"
            ]
          },
          "metadata": {},
          "execution_count": 55
        }
      ],
      "source": [
        "eth_df['Price'].dtype"
      ]
    },
    {
      "cell_type": "code",
      "execution_count": null,
      "metadata": {
        "colab": {
          "base_uri": "https://localhost:8080/"
        },
        "id": "d4vKxHnap38a",
        "outputId": "f4d3ab16-5e71-4019-81db-1797ebfb5437"
      },
      "outputs": [
        {
          "output_type": "stream",
          "name": "stdout",
          "text": [
            "Missing values:\n",
            " Price       0\n",
            "Open        0\n",
            "High        0\n",
            "Low         0\n",
            "Vol.        0\n",
            "Change %    0\n",
            "dtype: int64\n"
          ]
        }
      ],
      "source": [
        "missing_values = eth_df.isnull().sum()\n",
        "print(\"Missing values:\\n\", missing_values)"
      ]
    },
    {
      "cell_type": "code",
      "execution_count": null,
      "metadata": {
        "colab": {
          "base_uri": "https://localhost:8080/",
          "height": 455
        },
        "id": "T1WuLNho3uv-",
        "outputId": "76e7a785-b3f5-4f2b-e7ef-9e366a555af7"
      },
      "outputs": [
        {
          "output_type": "execute_result",
          "data": {
            "text/plain": [
              "              Price     Open     High      Low        Vol.  Change %\n",
              "Date                                                                \n",
              "2019-03-01   135.72   135.47   138.06   128.46   9730000.0    0.0018\n",
              "2019-03-02   132.76   135.72   136.36   130.74  11290000.0   -0.0218\n",
              "2019-03-03   131.01   132.77   168.42   129.05  10640000.0   -0.0132\n",
              "2019-03-04   125.97   131.02   131.57   123.25  14110000.0   -0.0385\n",
              "2019-03-05   136.82   125.97   141.11   125.44  16740000.0    0.0861\n",
              "...             ...      ...      ...      ...         ...       ...\n",
              "2024-05-28  3845.56  3894.33  3929.21  3775.08    436240.0   -0.0125\n",
              "2024-05-29  3769.57  3845.56  3886.44  3745.72    353250.0   -0.0198\n",
              "2024-05-30  3747.55  3767.22  3824.94  3703.74    293810.0   -0.0058\n",
              "2024-05-31  3762.66  3747.89  3844.96  3724.57    294560.0    0.0040\n",
              "2024-06-01  3815.95  3762.63  3832.35  3753.32    143810.0    0.0142\n",
              "\n",
              "[1920 rows x 6 columns]"
            ],
            "text/html": [
              "\n",
              "  <div id=\"df-4027ebf1-90f8-4d3e-b984-e481efa4b68c\" class=\"colab-df-container\">\n",
              "    <div>\n",
              "<style scoped>\n",
              "    .dataframe tbody tr th:only-of-type {\n",
              "        vertical-align: middle;\n",
              "    }\n",
              "\n",
              "    .dataframe tbody tr th {\n",
              "        vertical-align: top;\n",
              "    }\n",
              "\n",
              "    .dataframe thead th {\n",
              "        text-align: right;\n",
              "    }\n",
              "</style>\n",
              "<table border=\"1\" class=\"dataframe\">\n",
              "  <thead>\n",
              "    <tr style=\"text-align: right;\">\n",
              "      <th></th>\n",
              "      <th>Price</th>\n",
              "      <th>Open</th>\n",
              "      <th>High</th>\n",
              "      <th>Low</th>\n",
              "      <th>Vol.</th>\n",
              "      <th>Change %</th>\n",
              "    </tr>\n",
              "    <tr>\n",
              "      <th>Date</th>\n",
              "      <th></th>\n",
              "      <th></th>\n",
              "      <th></th>\n",
              "      <th></th>\n",
              "      <th></th>\n",
              "      <th></th>\n",
              "    </tr>\n",
              "  </thead>\n",
              "  <tbody>\n",
              "    <tr>\n",
              "      <th>2019-03-01</th>\n",
              "      <td>135.72</td>\n",
              "      <td>135.47</td>\n",
              "      <td>138.06</td>\n",
              "      <td>128.46</td>\n",
              "      <td>9730000.0</td>\n",
              "      <td>0.0018</td>\n",
              "    </tr>\n",
              "    <tr>\n",
              "      <th>2019-03-02</th>\n",
              "      <td>132.76</td>\n",
              "      <td>135.72</td>\n",
              "      <td>136.36</td>\n",
              "      <td>130.74</td>\n",
              "      <td>11290000.0</td>\n",
              "      <td>-0.0218</td>\n",
              "    </tr>\n",
              "    <tr>\n",
              "      <th>2019-03-03</th>\n",
              "      <td>131.01</td>\n",
              "      <td>132.77</td>\n",
              "      <td>168.42</td>\n",
              "      <td>129.05</td>\n",
              "      <td>10640000.0</td>\n",
              "      <td>-0.0132</td>\n",
              "    </tr>\n",
              "    <tr>\n",
              "      <th>2019-03-04</th>\n",
              "      <td>125.97</td>\n",
              "      <td>131.02</td>\n",
              "      <td>131.57</td>\n",
              "      <td>123.25</td>\n",
              "      <td>14110000.0</td>\n",
              "      <td>-0.0385</td>\n",
              "    </tr>\n",
              "    <tr>\n",
              "      <th>2019-03-05</th>\n",
              "      <td>136.82</td>\n",
              "      <td>125.97</td>\n",
              "      <td>141.11</td>\n",
              "      <td>125.44</td>\n",
              "      <td>16740000.0</td>\n",
              "      <td>0.0861</td>\n",
              "    </tr>\n",
              "    <tr>\n",
              "      <th>...</th>\n",
              "      <td>...</td>\n",
              "      <td>...</td>\n",
              "      <td>...</td>\n",
              "      <td>...</td>\n",
              "      <td>...</td>\n",
              "      <td>...</td>\n",
              "    </tr>\n",
              "    <tr>\n",
              "      <th>2024-05-28</th>\n",
              "      <td>3845.56</td>\n",
              "      <td>3894.33</td>\n",
              "      <td>3929.21</td>\n",
              "      <td>3775.08</td>\n",
              "      <td>436240.0</td>\n",
              "      <td>-0.0125</td>\n",
              "    </tr>\n",
              "    <tr>\n",
              "      <th>2024-05-29</th>\n",
              "      <td>3769.57</td>\n",
              "      <td>3845.56</td>\n",
              "      <td>3886.44</td>\n",
              "      <td>3745.72</td>\n",
              "      <td>353250.0</td>\n",
              "      <td>-0.0198</td>\n",
              "    </tr>\n",
              "    <tr>\n",
              "      <th>2024-05-30</th>\n",
              "      <td>3747.55</td>\n",
              "      <td>3767.22</td>\n",
              "      <td>3824.94</td>\n",
              "      <td>3703.74</td>\n",
              "      <td>293810.0</td>\n",
              "      <td>-0.0058</td>\n",
              "    </tr>\n",
              "    <tr>\n",
              "      <th>2024-05-31</th>\n",
              "      <td>3762.66</td>\n",
              "      <td>3747.89</td>\n",
              "      <td>3844.96</td>\n",
              "      <td>3724.57</td>\n",
              "      <td>294560.0</td>\n",
              "      <td>0.0040</td>\n",
              "    </tr>\n",
              "    <tr>\n",
              "      <th>2024-06-01</th>\n",
              "      <td>3815.95</td>\n",
              "      <td>3762.63</td>\n",
              "      <td>3832.35</td>\n",
              "      <td>3753.32</td>\n",
              "      <td>143810.0</td>\n",
              "      <td>0.0142</td>\n",
              "    </tr>\n",
              "  </tbody>\n",
              "</table>\n",
              "<p>1920 rows × 6 columns</p>\n",
              "</div>\n",
              "    <div class=\"colab-df-buttons\">\n",
              "\n",
              "  <div class=\"colab-df-container\">\n",
              "    <button class=\"colab-df-convert\" onclick=\"convertToInteractive('df-4027ebf1-90f8-4d3e-b984-e481efa4b68c')\"\n",
              "            title=\"Convert this dataframe to an interactive table.\"\n",
              "            style=\"display:none;\">\n",
              "\n",
              "  <svg xmlns=\"http://www.w3.org/2000/svg\" height=\"24px\" viewBox=\"0 -960 960 960\">\n",
              "    <path d=\"M120-120v-720h720v720H120Zm60-500h600v-160H180v160Zm220 220h160v-160H400v160Zm0 220h160v-160H400v160ZM180-400h160v-160H180v160Zm440 0h160v-160H620v160ZM180-180h160v-160H180v160Zm440 0h160v-160H620v160Z\"/>\n",
              "  </svg>\n",
              "    </button>\n",
              "\n",
              "  <style>\n",
              "    .colab-df-container {\n",
              "      display:flex;\n",
              "      gap: 12px;\n",
              "    }\n",
              "\n",
              "    .colab-df-convert {\n",
              "      background-color: #E8F0FE;\n",
              "      border: none;\n",
              "      border-radius: 50%;\n",
              "      cursor: pointer;\n",
              "      display: none;\n",
              "      fill: #1967D2;\n",
              "      height: 32px;\n",
              "      padding: 0 0 0 0;\n",
              "      width: 32px;\n",
              "    }\n",
              "\n",
              "    .colab-df-convert:hover {\n",
              "      background-color: #E2EBFA;\n",
              "      box-shadow: 0px 1px 2px rgba(60, 64, 67, 0.3), 0px 1px 3px 1px rgba(60, 64, 67, 0.15);\n",
              "      fill: #174EA6;\n",
              "    }\n",
              "\n",
              "    .colab-df-buttons div {\n",
              "      margin-bottom: 4px;\n",
              "    }\n",
              "\n",
              "    [theme=dark] .colab-df-convert {\n",
              "      background-color: #3B4455;\n",
              "      fill: #D2E3FC;\n",
              "    }\n",
              "\n",
              "    [theme=dark] .colab-df-convert:hover {\n",
              "      background-color: #434B5C;\n",
              "      box-shadow: 0px 1px 3px 1px rgba(0, 0, 0, 0.15);\n",
              "      filter: drop-shadow(0px 1px 2px rgba(0, 0, 0, 0.3));\n",
              "      fill: #FFFFFF;\n",
              "    }\n",
              "  </style>\n",
              "\n",
              "    <script>\n",
              "      const buttonEl =\n",
              "        document.querySelector('#df-4027ebf1-90f8-4d3e-b984-e481efa4b68c button.colab-df-convert');\n",
              "      buttonEl.style.display =\n",
              "        google.colab.kernel.accessAllowed ? 'block' : 'none';\n",
              "\n",
              "      async function convertToInteractive(key) {\n",
              "        const element = document.querySelector('#df-4027ebf1-90f8-4d3e-b984-e481efa4b68c');\n",
              "        const dataTable =\n",
              "          await google.colab.kernel.invokeFunction('convertToInteractive',\n",
              "                                                    [key], {});\n",
              "        if (!dataTable) return;\n",
              "\n",
              "        const docLinkHtml = 'Like what you see? Visit the ' +\n",
              "          '<a target=\"_blank\" href=https://colab.research.google.com/notebooks/data_table.ipynb>data table notebook</a>'\n",
              "          + ' to learn more about interactive tables.';\n",
              "        element.innerHTML = '';\n",
              "        dataTable['output_type'] = 'display_data';\n",
              "        await google.colab.output.renderOutput(dataTable, element);\n",
              "        const docLink = document.createElement('div');\n",
              "        docLink.innerHTML = docLinkHtml;\n",
              "        element.appendChild(docLink);\n",
              "      }\n",
              "    </script>\n",
              "  </div>\n",
              "\n",
              "\n",
              "<div id=\"df-2df4fe84-1ba9-4f3f-a076-699bcf2d9500\">\n",
              "  <button class=\"colab-df-quickchart\" onclick=\"quickchart('df-2df4fe84-1ba9-4f3f-a076-699bcf2d9500')\"\n",
              "            title=\"Suggest charts\"\n",
              "            style=\"display:none;\">\n",
              "\n",
              "<svg xmlns=\"http://www.w3.org/2000/svg\" height=\"24px\"viewBox=\"0 0 24 24\"\n",
              "     width=\"24px\">\n",
              "    <g>\n",
              "        <path d=\"M19 3H5c-1.1 0-2 .9-2 2v14c0 1.1.9 2 2 2h14c1.1 0 2-.9 2-2V5c0-1.1-.9-2-2-2zM9 17H7v-7h2v7zm4 0h-2V7h2v10zm4 0h-2v-4h2v4z\"/>\n",
              "    </g>\n",
              "</svg>\n",
              "  </button>\n",
              "\n",
              "<style>\n",
              "  .colab-df-quickchart {\n",
              "      --bg-color: #E8F0FE;\n",
              "      --fill-color: #1967D2;\n",
              "      --hover-bg-color: #E2EBFA;\n",
              "      --hover-fill-color: #174EA6;\n",
              "      --disabled-fill-color: #AAA;\n",
              "      --disabled-bg-color: #DDD;\n",
              "  }\n",
              "\n",
              "  [theme=dark] .colab-df-quickchart {\n",
              "      --bg-color: #3B4455;\n",
              "      --fill-color: #D2E3FC;\n",
              "      --hover-bg-color: #434B5C;\n",
              "      --hover-fill-color: #FFFFFF;\n",
              "      --disabled-bg-color: #3B4455;\n",
              "      --disabled-fill-color: #666;\n",
              "  }\n",
              "\n",
              "  .colab-df-quickchart {\n",
              "    background-color: var(--bg-color);\n",
              "    border: none;\n",
              "    border-radius: 50%;\n",
              "    cursor: pointer;\n",
              "    display: none;\n",
              "    fill: var(--fill-color);\n",
              "    height: 32px;\n",
              "    padding: 0;\n",
              "    width: 32px;\n",
              "  }\n",
              "\n",
              "  .colab-df-quickchart:hover {\n",
              "    background-color: var(--hover-bg-color);\n",
              "    box-shadow: 0 1px 2px rgba(60, 64, 67, 0.3), 0 1px 3px 1px rgba(60, 64, 67, 0.15);\n",
              "    fill: var(--button-hover-fill-color);\n",
              "  }\n",
              "\n",
              "  .colab-df-quickchart-complete:disabled,\n",
              "  .colab-df-quickchart-complete:disabled:hover {\n",
              "    background-color: var(--disabled-bg-color);\n",
              "    fill: var(--disabled-fill-color);\n",
              "    box-shadow: none;\n",
              "  }\n",
              "\n",
              "  .colab-df-spinner {\n",
              "    border: 2px solid var(--fill-color);\n",
              "    border-color: transparent;\n",
              "    border-bottom-color: var(--fill-color);\n",
              "    animation:\n",
              "      spin 1s steps(1) infinite;\n",
              "  }\n",
              "\n",
              "  @keyframes spin {\n",
              "    0% {\n",
              "      border-color: transparent;\n",
              "      border-bottom-color: var(--fill-color);\n",
              "      border-left-color: var(--fill-color);\n",
              "    }\n",
              "    20% {\n",
              "      border-color: transparent;\n",
              "      border-left-color: var(--fill-color);\n",
              "      border-top-color: var(--fill-color);\n",
              "    }\n",
              "    30% {\n",
              "      border-color: transparent;\n",
              "      border-left-color: var(--fill-color);\n",
              "      border-top-color: var(--fill-color);\n",
              "      border-right-color: var(--fill-color);\n",
              "    }\n",
              "    40% {\n",
              "      border-color: transparent;\n",
              "      border-right-color: var(--fill-color);\n",
              "      border-top-color: var(--fill-color);\n",
              "    }\n",
              "    60% {\n",
              "      border-color: transparent;\n",
              "      border-right-color: var(--fill-color);\n",
              "    }\n",
              "    80% {\n",
              "      border-color: transparent;\n",
              "      border-right-color: var(--fill-color);\n",
              "      border-bottom-color: var(--fill-color);\n",
              "    }\n",
              "    90% {\n",
              "      border-color: transparent;\n",
              "      border-bottom-color: var(--fill-color);\n",
              "    }\n",
              "  }\n",
              "</style>\n",
              "\n",
              "  <script>\n",
              "    async function quickchart(key) {\n",
              "      const quickchartButtonEl =\n",
              "        document.querySelector('#' + key + ' button');\n",
              "      quickchartButtonEl.disabled = true;  // To prevent multiple clicks.\n",
              "      quickchartButtonEl.classList.add('colab-df-spinner');\n",
              "      try {\n",
              "        const charts = await google.colab.kernel.invokeFunction(\n",
              "            'suggestCharts', [key], {});\n",
              "      } catch (error) {\n",
              "        console.error('Error during call to suggestCharts:', error);\n",
              "      }\n",
              "      quickchartButtonEl.classList.remove('colab-df-spinner');\n",
              "      quickchartButtonEl.classList.add('colab-df-quickchart-complete');\n",
              "    }\n",
              "    (() => {\n",
              "      let quickchartButtonEl =\n",
              "        document.querySelector('#df-2df4fe84-1ba9-4f3f-a076-699bcf2d9500 button');\n",
              "      quickchartButtonEl.style.display =\n",
              "        google.colab.kernel.accessAllowed ? 'block' : 'none';\n",
              "    })();\n",
              "  </script>\n",
              "</div>\n",
              "\n",
              "  <div id=\"id_44bc27a6-a78c-482f-a756-60da5571644d\">\n",
              "    <style>\n",
              "      .colab-df-generate {\n",
              "        background-color: #E8F0FE;\n",
              "        border: none;\n",
              "        border-radius: 50%;\n",
              "        cursor: pointer;\n",
              "        display: none;\n",
              "        fill: #1967D2;\n",
              "        height: 32px;\n",
              "        padding: 0 0 0 0;\n",
              "        width: 32px;\n",
              "      }\n",
              "\n",
              "      .colab-df-generate:hover {\n",
              "        background-color: #E2EBFA;\n",
              "        box-shadow: 0px 1px 2px rgba(60, 64, 67, 0.3), 0px 1px 3px 1px rgba(60, 64, 67, 0.15);\n",
              "        fill: #174EA6;\n",
              "      }\n",
              "\n",
              "      [theme=dark] .colab-df-generate {\n",
              "        background-color: #3B4455;\n",
              "        fill: #D2E3FC;\n",
              "      }\n",
              "\n",
              "      [theme=dark] .colab-df-generate:hover {\n",
              "        background-color: #434B5C;\n",
              "        box-shadow: 0px 1px 3px 1px rgba(0, 0, 0, 0.15);\n",
              "        filter: drop-shadow(0px 1px 2px rgba(0, 0, 0, 0.3));\n",
              "        fill: #FFFFFF;\n",
              "      }\n",
              "    </style>\n",
              "    <button class=\"colab-df-generate\" onclick=\"generateWithVariable('eth_df')\"\n",
              "            title=\"Generate code using this dataframe.\"\n",
              "            style=\"display:none;\">\n",
              "\n",
              "  <svg xmlns=\"http://www.w3.org/2000/svg\" height=\"24px\"viewBox=\"0 0 24 24\"\n",
              "       width=\"24px\">\n",
              "    <path d=\"M7,19H8.4L18.45,9,17,7.55,7,17.6ZM5,21V16.75L18.45,3.32a2,2,0,0,1,2.83,0l1.4,1.43a1.91,1.91,0,0,1,.58,1.4,1.91,1.91,0,0,1-.58,1.4L9.25,21ZM18.45,9,17,7.55Zm-12,3A5.31,5.31,0,0,0,4.9,8.1,5.31,5.31,0,0,0,1,6.5,5.31,5.31,0,0,0,4.9,4.9,5.31,5.31,0,0,0,6.5,1,5.31,5.31,0,0,0,8.1,4.9,5.31,5.31,0,0,0,12,6.5,5.46,5.46,0,0,0,6.5,12Z\"/>\n",
              "  </svg>\n",
              "    </button>\n",
              "    <script>\n",
              "      (() => {\n",
              "      const buttonEl =\n",
              "        document.querySelector('#id_44bc27a6-a78c-482f-a756-60da5571644d button.colab-df-generate');\n",
              "      buttonEl.style.display =\n",
              "        google.colab.kernel.accessAllowed ? 'block' : 'none';\n",
              "\n",
              "      buttonEl.onclick = () => {\n",
              "        google.colab.notebook.generateWithVariable('eth_df');\n",
              "      }\n",
              "      })();\n",
              "    </script>\n",
              "  </div>\n",
              "\n",
              "    </div>\n",
              "  </div>\n"
            ],
            "application/vnd.google.colaboratory.intrinsic+json": {
              "type": "dataframe",
              "variable_name": "eth_df",
              "summary": "{\n  \"name\": \"eth_df\",\n  \"rows\": 1920,\n  \"fields\": [\n    {\n      \"column\": \"Date\",\n      \"properties\": {\n        \"dtype\": \"date\",\n        \"min\": \"2019-03-01 00:00:00\",\n        \"max\": \"2024-06-01 00:00:00\",\n        \"num_unique_values\": 1920,\n        \"samples\": [\n          \"2021-11-23 00:00:00\",\n          \"2023-08-08 00:00:00\",\n          \"2020-11-01 00:00:00\"\n        ],\n        \"semantic_type\": \"\",\n        \"description\": \"\"\n      }\n    },\n    {\n      \"column\": \"Price\",\n      \"properties\": {\n        \"dtype\": \"number\",\n        \"std\": 1205.8617192638408,\n        \"min\": 107.9,\n        \"max\": 4808.38,\n        \"num_unique_values\": 1900,\n        \"samples\": [\n          1534.85,\n          310.38,\n          385.25\n        ],\n        \"semantic_type\": \"\",\n        \"description\": \"\"\n      }\n    },\n    {\n      \"column\": \"Open\",\n      \"properties\": {\n        \"dtype\": \"number\",\n        \"std\": 1205.2290056329853,\n        \"min\": 107.87,\n        \"max\": 4808.34,\n        \"num_unique_values\": 1900,\n        \"samples\": [\n          1575.68,\n          294.69,\n          385.33\n        ],\n        \"semantic_type\": \"\",\n        \"description\": \"\"\n      }\n    },\n    {\n      \"column\": \"High\",\n      \"properties\": {\n        \"dtype\": \"number\",\n        \"std\": 1239.7880333126684,\n        \"min\": 117.91,\n        \"max\": 4864.06,\n        \"num_unique_values\": 1909,\n        \"samples\": [\n          1710.27,\n          273.18,\n          3435.57\n        ],\n        \"semantic_type\": \"\",\n        \"description\": \"\"\n      }\n    },\n    {\n      \"column\": \"Low\",\n      \"properties\": {\n        \"dtype\": \"number\",\n        \"std\": 1166.0979301552745,\n        \"min\": 88.5,\n        \"max\": 4715.43,\n        \"num_unique_values\": 1908,\n        \"samples\": [\n          1628.73,\n          271.45,\n          3462.44\n        ],\n        \"semantic_type\": \"\",\n        \"description\": \"\"\n      }\n    },\n    {\n      \"column\": \"Vol.\",\n      \"properties\": {\n        \"dtype\": \"number\",\n        \"std\": 112208076.64132501,\n        \"min\": 27030.0,\n        \"max\": 1790000000.0,\n        \"num_unique_values\": 1613,\n        \"samples\": [\n          9330000.0,\n          15670000.0,\n          13960000.0\n        ],\n        \"semantic_type\": \"\",\n        \"description\": \"\"\n      }\n    },\n    {\n      \"column\": \"Change %\",\n      \"properties\": {\n        \"dtype\": \"number\",\n        \"std\": 0.04447354266892567,\n        \"min\": -0.44549999999999995,\n        \"max\": 0.2596,\n        \"num_unique_values\": 1042,\n        \"samples\": [\n          0.10490000000000001,\n          0.0059,\n          -0.037200000000000004\n        ],\n        \"semantic_type\": \"\",\n        \"description\": \"\"\n      }\n    }\n  ]\n}"
            }
          },
          "metadata": {},
          "execution_count": 57
        }
      ],
      "source": [
        "eth_df['Price'] = eth_df['Price'].str.replace(',', '').astype(float)\n",
        "eth_df['Open'] = eth_df['Open'].str.replace(',', '').astype(float)\n",
        "eth_df['High'] =eth_df['High'].str.replace(',', '').astype(float)\n",
        "eth_df['Low'] = eth_df['Low'].str.replace(',', '').astype(float)\n",
        "eth_df"
      ]
    },
    {
      "cell_type": "code",
      "execution_count": null,
      "metadata": {
        "colab": {
          "base_uri": "https://localhost:8080/",
          "height": 237
        },
        "id": "aSfTzHHPqCyP",
        "outputId": "44a9b304-2398-4937-a992-e2823c5286ea"
      },
      "outputs": [
        {
          "output_type": "execute_result",
          "data": {
            "text/plain": [
              "             Price    Open    High     Low        Vol.  Change %\n",
              "Date                                                            \n",
              "2019-03-01  135.72  135.47  138.06  128.46   9730000.0    0.0018\n",
              "2019-03-02  132.76  135.72  136.36  130.74  11290000.0   -0.0218\n",
              "2019-03-03  131.01  132.77  168.42  129.05  10640000.0   -0.0132\n",
              "2019-03-04  125.97  131.02  131.57  123.25  14110000.0   -0.0385\n",
              "2019-03-05  136.82  125.97  141.11  125.44  16740000.0    0.0861"
            ],
            "text/html": [
              "\n",
              "  <div id=\"df-80b207dc-98ee-45c5-b232-a0bcfee7612f\" class=\"colab-df-container\">\n",
              "    <div>\n",
              "<style scoped>\n",
              "    .dataframe tbody tr th:only-of-type {\n",
              "        vertical-align: middle;\n",
              "    }\n",
              "\n",
              "    .dataframe tbody tr th {\n",
              "        vertical-align: top;\n",
              "    }\n",
              "\n",
              "    .dataframe thead th {\n",
              "        text-align: right;\n",
              "    }\n",
              "</style>\n",
              "<table border=\"1\" class=\"dataframe\">\n",
              "  <thead>\n",
              "    <tr style=\"text-align: right;\">\n",
              "      <th></th>\n",
              "      <th>Price</th>\n",
              "      <th>Open</th>\n",
              "      <th>High</th>\n",
              "      <th>Low</th>\n",
              "      <th>Vol.</th>\n",
              "      <th>Change %</th>\n",
              "    </tr>\n",
              "    <tr>\n",
              "      <th>Date</th>\n",
              "      <th></th>\n",
              "      <th></th>\n",
              "      <th></th>\n",
              "      <th></th>\n",
              "      <th></th>\n",
              "      <th></th>\n",
              "    </tr>\n",
              "  </thead>\n",
              "  <tbody>\n",
              "    <tr>\n",
              "      <th>2019-03-01</th>\n",
              "      <td>135.72</td>\n",
              "      <td>135.47</td>\n",
              "      <td>138.06</td>\n",
              "      <td>128.46</td>\n",
              "      <td>9730000.0</td>\n",
              "      <td>0.0018</td>\n",
              "    </tr>\n",
              "    <tr>\n",
              "      <th>2019-03-02</th>\n",
              "      <td>132.76</td>\n",
              "      <td>135.72</td>\n",
              "      <td>136.36</td>\n",
              "      <td>130.74</td>\n",
              "      <td>11290000.0</td>\n",
              "      <td>-0.0218</td>\n",
              "    </tr>\n",
              "    <tr>\n",
              "      <th>2019-03-03</th>\n",
              "      <td>131.01</td>\n",
              "      <td>132.77</td>\n",
              "      <td>168.42</td>\n",
              "      <td>129.05</td>\n",
              "      <td>10640000.0</td>\n",
              "      <td>-0.0132</td>\n",
              "    </tr>\n",
              "    <tr>\n",
              "      <th>2019-03-04</th>\n",
              "      <td>125.97</td>\n",
              "      <td>131.02</td>\n",
              "      <td>131.57</td>\n",
              "      <td>123.25</td>\n",
              "      <td>14110000.0</td>\n",
              "      <td>-0.0385</td>\n",
              "    </tr>\n",
              "    <tr>\n",
              "      <th>2019-03-05</th>\n",
              "      <td>136.82</td>\n",
              "      <td>125.97</td>\n",
              "      <td>141.11</td>\n",
              "      <td>125.44</td>\n",
              "      <td>16740000.0</td>\n",
              "      <td>0.0861</td>\n",
              "    </tr>\n",
              "  </tbody>\n",
              "</table>\n",
              "</div>\n",
              "    <div class=\"colab-df-buttons\">\n",
              "\n",
              "  <div class=\"colab-df-container\">\n",
              "    <button class=\"colab-df-convert\" onclick=\"convertToInteractive('df-80b207dc-98ee-45c5-b232-a0bcfee7612f')\"\n",
              "            title=\"Convert this dataframe to an interactive table.\"\n",
              "            style=\"display:none;\">\n",
              "\n",
              "  <svg xmlns=\"http://www.w3.org/2000/svg\" height=\"24px\" viewBox=\"0 -960 960 960\">\n",
              "    <path d=\"M120-120v-720h720v720H120Zm60-500h600v-160H180v160Zm220 220h160v-160H400v160Zm0 220h160v-160H400v160ZM180-400h160v-160H180v160Zm440 0h160v-160H620v160ZM180-180h160v-160H180v160Zm440 0h160v-160H620v160Z\"/>\n",
              "  </svg>\n",
              "    </button>\n",
              "\n",
              "  <style>\n",
              "    .colab-df-container {\n",
              "      display:flex;\n",
              "      gap: 12px;\n",
              "    }\n",
              "\n",
              "    .colab-df-convert {\n",
              "      background-color: #E8F0FE;\n",
              "      border: none;\n",
              "      border-radius: 50%;\n",
              "      cursor: pointer;\n",
              "      display: none;\n",
              "      fill: #1967D2;\n",
              "      height: 32px;\n",
              "      padding: 0 0 0 0;\n",
              "      width: 32px;\n",
              "    }\n",
              "\n",
              "    .colab-df-convert:hover {\n",
              "      background-color: #E2EBFA;\n",
              "      box-shadow: 0px 1px 2px rgba(60, 64, 67, 0.3), 0px 1px 3px 1px rgba(60, 64, 67, 0.15);\n",
              "      fill: #174EA6;\n",
              "    }\n",
              "\n",
              "    .colab-df-buttons div {\n",
              "      margin-bottom: 4px;\n",
              "    }\n",
              "\n",
              "    [theme=dark] .colab-df-convert {\n",
              "      background-color: #3B4455;\n",
              "      fill: #D2E3FC;\n",
              "    }\n",
              "\n",
              "    [theme=dark] .colab-df-convert:hover {\n",
              "      background-color: #434B5C;\n",
              "      box-shadow: 0px 1px 3px 1px rgba(0, 0, 0, 0.15);\n",
              "      filter: drop-shadow(0px 1px 2px rgba(0, 0, 0, 0.3));\n",
              "      fill: #FFFFFF;\n",
              "    }\n",
              "  </style>\n",
              "\n",
              "    <script>\n",
              "      const buttonEl =\n",
              "        document.querySelector('#df-80b207dc-98ee-45c5-b232-a0bcfee7612f button.colab-df-convert');\n",
              "      buttonEl.style.display =\n",
              "        google.colab.kernel.accessAllowed ? 'block' : 'none';\n",
              "\n",
              "      async function convertToInteractive(key) {\n",
              "        const element = document.querySelector('#df-80b207dc-98ee-45c5-b232-a0bcfee7612f');\n",
              "        const dataTable =\n",
              "          await google.colab.kernel.invokeFunction('convertToInteractive',\n",
              "                                                    [key], {});\n",
              "        if (!dataTable) return;\n",
              "\n",
              "        const docLinkHtml = 'Like what you see? Visit the ' +\n",
              "          '<a target=\"_blank\" href=https://colab.research.google.com/notebooks/data_table.ipynb>data table notebook</a>'\n",
              "          + ' to learn more about interactive tables.';\n",
              "        element.innerHTML = '';\n",
              "        dataTable['output_type'] = 'display_data';\n",
              "        await google.colab.output.renderOutput(dataTable, element);\n",
              "        const docLink = document.createElement('div');\n",
              "        docLink.innerHTML = docLinkHtml;\n",
              "        element.appendChild(docLink);\n",
              "      }\n",
              "    </script>\n",
              "  </div>\n",
              "\n",
              "\n",
              "<div id=\"df-a33415aa-d053-407b-ae3c-683e2bba9db7\">\n",
              "  <button class=\"colab-df-quickchart\" onclick=\"quickchart('df-a33415aa-d053-407b-ae3c-683e2bba9db7')\"\n",
              "            title=\"Suggest charts\"\n",
              "            style=\"display:none;\">\n",
              "\n",
              "<svg xmlns=\"http://www.w3.org/2000/svg\" height=\"24px\"viewBox=\"0 0 24 24\"\n",
              "     width=\"24px\">\n",
              "    <g>\n",
              "        <path d=\"M19 3H5c-1.1 0-2 .9-2 2v14c0 1.1.9 2 2 2h14c1.1 0 2-.9 2-2V5c0-1.1-.9-2-2-2zM9 17H7v-7h2v7zm4 0h-2V7h2v10zm4 0h-2v-4h2v4z\"/>\n",
              "    </g>\n",
              "</svg>\n",
              "  </button>\n",
              "\n",
              "<style>\n",
              "  .colab-df-quickchart {\n",
              "      --bg-color: #E8F0FE;\n",
              "      --fill-color: #1967D2;\n",
              "      --hover-bg-color: #E2EBFA;\n",
              "      --hover-fill-color: #174EA6;\n",
              "      --disabled-fill-color: #AAA;\n",
              "      --disabled-bg-color: #DDD;\n",
              "  }\n",
              "\n",
              "  [theme=dark] .colab-df-quickchart {\n",
              "      --bg-color: #3B4455;\n",
              "      --fill-color: #D2E3FC;\n",
              "      --hover-bg-color: #434B5C;\n",
              "      --hover-fill-color: #FFFFFF;\n",
              "      --disabled-bg-color: #3B4455;\n",
              "      --disabled-fill-color: #666;\n",
              "  }\n",
              "\n",
              "  .colab-df-quickchart {\n",
              "    background-color: var(--bg-color);\n",
              "    border: none;\n",
              "    border-radius: 50%;\n",
              "    cursor: pointer;\n",
              "    display: none;\n",
              "    fill: var(--fill-color);\n",
              "    height: 32px;\n",
              "    padding: 0;\n",
              "    width: 32px;\n",
              "  }\n",
              "\n",
              "  .colab-df-quickchart:hover {\n",
              "    background-color: var(--hover-bg-color);\n",
              "    box-shadow: 0 1px 2px rgba(60, 64, 67, 0.3), 0 1px 3px 1px rgba(60, 64, 67, 0.15);\n",
              "    fill: var(--button-hover-fill-color);\n",
              "  }\n",
              "\n",
              "  .colab-df-quickchart-complete:disabled,\n",
              "  .colab-df-quickchart-complete:disabled:hover {\n",
              "    background-color: var(--disabled-bg-color);\n",
              "    fill: var(--disabled-fill-color);\n",
              "    box-shadow: none;\n",
              "  }\n",
              "\n",
              "  .colab-df-spinner {\n",
              "    border: 2px solid var(--fill-color);\n",
              "    border-color: transparent;\n",
              "    border-bottom-color: var(--fill-color);\n",
              "    animation:\n",
              "      spin 1s steps(1) infinite;\n",
              "  }\n",
              "\n",
              "  @keyframes spin {\n",
              "    0% {\n",
              "      border-color: transparent;\n",
              "      border-bottom-color: var(--fill-color);\n",
              "      border-left-color: var(--fill-color);\n",
              "    }\n",
              "    20% {\n",
              "      border-color: transparent;\n",
              "      border-left-color: var(--fill-color);\n",
              "      border-top-color: var(--fill-color);\n",
              "    }\n",
              "    30% {\n",
              "      border-color: transparent;\n",
              "      border-left-color: var(--fill-color);\n",
              "      border-top-color: var(--fill-color);\n",
              "      border-right-color: var(--fill-color);\n",
              "    }\n",
              "    40% {\n",
              "      border-color: transparent;\n",
              "      border-right-color: var(--fill-color);\n",
              "      border-top-color: var(--fill-color);\n",
              "    }\n",
              "    60% {\n",
              "      border-color: transparent;\n",
              "      border-right-color: var(--fill-color);\n",
              "    }\n",
              "    80% {\n",
              "      border-color: transparent;\n",
              "      border-right-color: var(--fill-color);\n",
              "      border-bottom-color: var(--fill-color);\n",
              "    }\n",
              "    90% {\n",
              "      border-color: transparent;\n",
              "      border-bottom-color: var(--fill-color);\n",
              "    }\n",
              "  }\n",
              "</style>\n",
              "\n",
              "  <script>\n",
              "    async function quickchart(key) {\n",
              "      const quickchartButtonEl =\n",
              "        document.querySelector('#' + key + ' button');\n",
              "      quickchartButtonEl.disabled = true;  // To prevent multiple clicks.\n",
              "      quickchartButtonEl.classList.add('colab-df-spinner');\n",
              "      try {\n",
              "        const charts = await google.colab.kernel.invokeFunction(\n",
              "            'suggestCharts', [key], {});\n",
              "      } catch (error) {\n",
              "        console.error('Error during call to suggestCharts:', error);\n",
              "      }\n",
              "      quickchartButtonEl.classList.remove('colab-df-spinner');\n",
              "      quickchartButtonEl.classList.add('colab-df-quickchart-complete');\n",
              "    }\n",
              "    (() => {\n",
              "      let quickchartButtonEl =\n",
              "        document.querySelector('#df-a33415aa-d053-407b-ae3c-683e2bba9db7 button');\n",
              "      quickchartButtonEl.style.display =\n",
              "        google.colab.kernel.accessAllowed ? 'block' : 'none';\n",
              "    })();\n",
              "  </script>\n",
              "</div>\n",
              "\n",
              "    </div>\n",
              "  </div>\n"
            ],
            "application/vnd.google.colaboratory.intrinsic+json": {
              "type": "dataframe",
              "variable_name": "eth_df",
              "summary": "{\n  \"name\": \"eth_df\",\n  \"rows\": 1920,\n  \"fields\": [\n    {\n      \"column\": \"Date\",\n      \"properties\": {\n        \"dtype\": \"date\",\n        \"min\": \"2019-03-01 00:00:00\",\n        \"max\": \"2024-06-01 00:00:00\",\n        \"num_unique_values\": 1920,\n        \"samples\": [\n          \"2021-11-23 00:00:00\",\n          \"2023-08-08 00:00:00\",\n          \"2020-11-01 00:00:00\"\n        ],\n        \"semantic_type\": \"\",\n        \"description\": \"\"\n      }\n    },\n    {\n      \"column\": \"Price\",\n      \"properties\": {\n        \"dtype\": \"number\",\n        \"std\": 1205.8617192638408,\n        \"min\": 107.9,\n        \"max\": 4808.38,\n        \"num_unique_values\": 1900,\n        \"samples\": [\n          1534.85,\n          310.38,\n          385.25\n        ],\n        \"semantic_type\": \"\",\n        \"description\": \"\"\n      }\n    },\n    {\n      \"column\": \"Open\",\n      \"properties\": {\n        \"dtype\": \"number\",\n        \"std\": 1205.2290056329853,\n        \"min\": 107.87,\n        \"max\": 4808.34,\n        \"num_unique_values\": 1900,\n        \"samples\": [\n          1575.68,\n          294.69,\n          385.33\n        ],\n        \"semantic_type\": \"\",\n        \"description\": \"\"\n      }\n    },\n    {\n      \"column\": \"High\",\n      \"properties\": {\n        \"dtype\": \"number\",\n        \"std\": 1239.7880333126684,\n        \"min\": 117.91,\n        \"max\": 4864.06,\n        \"num_unique_values\": 1909,\n        \"samples\": [\n          1710.27,\n          273.18,\n          3435.57\n        ],\n        \"semantic_type\": \"\",\n        \"description\": \"\"\n      }\n    },\n    {\n      \"column\": \"Low\",\n      \"properties\": {\n        \"dtype\": \"number\",\n        \"std\": 1166.0979301552745,\n        \"min\": 88.5,\n        \"max\": 4715.43,\n        \"num_unique_values\": 1908,\n        \"samples\": [\n          1628.73,\n          271.45,\n          3462.44\n        ],\n        \"semantic_type\": \"\",\n        \"description\": \"\"\n      }\n    },\n    {\n      \"column\": \"Vol.\",\n      \"properties\": {\n        \"dtype\": \"number\",\n        \"std\": 112208076.64132501,\n        \"min\": 27030.0,\n        \"max\": 1790000000.0,\n        \"num_unique_values\": 1613,\n        \"samples\": [\n          9330000.0,\n          15670000.0,\n          13960000.0\n        ],\n        \"semantic_type\": \"\",\n        \"description\": \"\"\n      }\n    },\n    {\n      \"column\": \"Change %\",\n      \"properties\": {\n        \"dtype\": \"number\",\n        \"std\": 0.04447354266892567,\n        \"min\": -0.44549999999999995,\n        \"max\": 0.2596,\n        \"num_unique_values\": 1042,\n        \"samples\": [\n          0.10490000000000001,\n          0.0059,\n          -0.037200000000000004\n        ],\n        \"semantic_type\": \"\",\n        \"description\": \"\"\n      }\n    }\n  ]\n}"
            }
          },
          "metadata": {},
          "execution_count": 58
        }
      ],
      "source": [
        "eth_df.head()"
      ]
    },
    {
      "cell_type": "code",
      "execution_count": null,
      "metadata": {
        "colab": {
          "base_uri": "https://localhost:8080/"
        },
        "id": "nouphK-3vrgn",
        "outputId": "66aa7518-a466-4321-9cdd-cf7d97690c4c"
      },
      "outputs": [
        {
          "output_type": "execute_result",
          "data": {
            "text/plain": [
              "(1920, 6)"
            ]
          },
          "metadata": {},
          "execution_count": 59
        }
      ],
      "source": [
        "eth_df.shape"
      ]
    },
    {
      "cell_type": "markdown",
      "metadata": {
        "id": "cv8peQcFnTkA"
      },
      "source": [
        "###Descriptive Analysis"
      ]
    },
    {
      "cell_type": "code",
      "execution_count": null,
      "metadata": {
        "colab": {
          "base_uri": "https://localhost:8080/",
          "height": 300
        },
        "id": "X_-1mjLVq7aD",
        "outputId": "5610deaf-fe81-4ba0-b55c-05d24a2bb4d1"
      },
      "outputs": [
        {
          "output_type": "execute_result",
          "data": {
            "text/plain": [
              "             Price         Open         High          Low          Vol.  \\\n",
              "count  1920.000000  1920.000000  1920.000000  1920.000000  1.920000e+03   \n",
              "mean   1580.443599  1578.543557  1623.758177  1529.572755  1.454516e+07   \n",
              "std    1205.861719  1205.229006  1239.788033  1166.097930  1.122081e+08   \n",
              "min     107.900000   107.870000   117.910000    88.500000  2.703000e+04   \n",
              "25%     268.945000   268.717500   278.095000   262.277500  4.808800e+05   \n",
              "50%    1622.465000  1620.975000  1654.210000  1569.740000  1.165000e+06   \n",
              "75%    2334.242500  2331.202500  2393.075000  2255.137500  8.500000e+06   \n",
              "max    4808.380000  4808.340000  4864.060000  4715.430000  1.790000e+09   \n",
              "\n",
              "          Change %  \n",
              "count  1920.000000  \n",
              "mean      0.002749  \n",
              "std       0.044474  \n",
              "min      -0.445500  \n",
              "25%      -0.017600  \n",
              "50%       0.001400  \n",
              "75%       0.022925  \n",
              "max       0.259600  "
            ],
            "text/html": [
              "\n",
              "  <div id=\"df-576694e5-cfc8-4c13-88a2-bdd851238d39\" class=\"colab-df-container\">\n",
              "    <div>\n",
              "<style scoped>\n",
              "    .dataframe tbody tr th:only-of-type {\n",
              "        vertical-align: middle;\n",
              "    }\n",
              "\n",
              "    .dataframe tbody tr th {\n",
              "        vertical-align: top;\n",
              "    }\n",
              "\n",
              "    .dataframe thead th {\n",
              "        text-align: right;\n",
              "    }\n",
              "</style>\n",
              "<table border=\"1\" class=\"dataframe\">\n",
              "  <thead>\n",
              "    <tr style=\"text-align: right;\">\n",
              "      <th></th>\n",
              "      <th>Price</th>\n",
              "      <th>Open</th>\n",
              "      <th>High</th>\n",
              "      <th>Low</th>\n",
              "      <th>Vol.</th>\n",
              "      <th>Change %</th>\n",
              "    </tr>\n",
              "  </thead>\n",
              "  <tbody>\n",
              "    <tr>\n",
              "      <th>count</th>\n",
              "      <td>1920.000000</td>\n",
              "      <td>1920.000000</td>\n",
              "      <td>1920.000000</td>\n",
              "      <td>1920.000000</td>\n",
              "      <td>1.920000e+03</td>\n",
              "      <td>1920.000000</td>\n",
              "    </tr>\n",
              "    <tr>\n",
              "      <th>mean</th>\n",
              "      <td>1580.443599</td>\n",
              "      <td>1578.543557</td>\n",
              "      <td>1623.758177</td>\n",
              "      <td>1529.572755</td>\n",
              "      <td>1.454516e+07</td>\n",
              "      <td>0.002749</td>\n",
              "    </tr>\n",
              "    <tr>\n",
              "      <th>std</th>\n",
              "      <td>1205.861719</td>\n",
              "      <td>1205.229006</td>\n",
              "      <td>1239.788033</td>\n",
              "      <td>1166.097930</td>\n",
              "      <td>1.122081e+08</td>\n",
              "      <td>0.044474</td>\n",
              "    </tr>\n",
              "    <tr>\n",
              "      <th>min</th>\n",
              "      <td>107.900000</td>\n",
              "      <td>107.870000</td>\n",
              "      <td>117.910000</td>\n",
              "      <td>88.500000</td>\n",
              "      <td>2.703000e+04</td>\n",
              "      <td>-0.445500</td>\n",
              "    </tr>\n",
              "    <tr>\n",
              "      <th>25%</th>\n",
              "      <td>268.945000</td>\n",
              "      <td>268.717500</td>\n",
              "      <td>278.095000</td>\n",
              "      <td>262.277500</td>\n",
              "      <td>4.808800e+05</td>\n",
              "      <td>-0.017600</td>\n",
              "    </tr>\n",
              "    <tr>\n",
              "      <th>50%</th>\n",
              "      <td>1622.465000</td>\n",
              "      <td>1620.975000</td>\n",
              "      <td>1654.210000</td>\n",
              "      <td>1569.740000</td>\n",
              "      <td>1.165000e+06</td>\n",
              "      <td>0.001400</td>\n",
              "    </tr>\n",
              "    <tr>\n",
              "      <th>75%</th>\n",
              "      <td>2334.242500</td>\n",
              "      <td>2331.202500</td>\n",
              "      <td>2393.075000</td>\n",
              "      <td>2255.137500</td>\n",
              "      <td>8.500000e+06</td>\n",
              "      <td>0.022925</td>\n",
              "    </tr>\n",
              "    <tr>\n",
              "      <th>max</th>\n",
              "      <td>4808.380000</td>\n",
              "      <td>4808.340000</td>\n",
              "      <td>4864.060000</td>\n",
              "      <td>4715.430000</td>\n",
              "      <td>1.790000e+09</td>\n",
              "      <td>0.259600</td>\n",
              "    </tr>\n",
              "  </tbody>\n",
              "</table>\n",
              "</div>\n",
              "    <div class=\"colab-df-buttons\">\n",
              "\n",
              "  <div class=\"colab-df-container\">\n",
              "    <button class=\"colab-df-convert\" onclick=\"convertToInteractive('df-576694e5-cfc8-4c13-88a2-bdd851238d39')\"\n",
              "            title=\"Convert this dataframe to an interactive table.\"\n",
              "            style=\"display:none;\">\n",
              "\n",
              "  <svg xmlns=\"http://www.w3.org/2000/svg\" height=\"24px\" viewBox=\"0 -960 960 960\">\n",
              "    <path d=\"M120-120v-720h720v720H120Zm60-500h600v-160H180v160Zm220 220h160v-160H400v160Zm0 220h160v-160H400v160ZM180-400h160v-160H180v160Zm440 0h160v-160H620v160ZM180-180h160v-160H180v160Zm440 0h160v-160H620v160Z\"/>\n",
              "  </svg>\n",
              "    </button>\n",
              "\n",
              "  <style>\n",
              "    .colab-df-container {\n",
              "      display:flex;\n",
              "      gap: 12px;\n",
              "    }\n",
              "\n",
              "    .colab-df-convert {\n",
              "      background-color: #E8F0FE;\n",
              "      border: none;\n",
              "      border-radius: 50%;\n",
              "      cursor: pointer;\n",
              "      display: none;\n",
              "      fill: #1967D2;\n",
              "      height: 32px;\n",
              "      padding: 0 0 0 0;\n",
              "      width: 32px;\n",
              "    }\n",
              "\n",
              "    .colab-df-convert:hover {\n",
              "      background-color: #E2EBFA;\n",
              "      box-shadow: 0px 1px 2px rgba(60, 64, 67, 0.3), 0px 1px 3px 1px rgba(60, 64, 67, 0.15);\n",
              "      fill: #174EA6;\n",
              "    }\n",
              "\n",
              "    .colab-df-buttons div {\n",
              "      margin-bottom: 4px;\n",
              "    }\n",
              "\n",
              "    [theme=dark] .colab-df-convert {\n",
              "      background-color: #3B4455;\n",
              "      fill: #D2E3FC;\n",
              "    }\n",
              "\n",
              "    [theme=dark] .colab-df-convert:hover {\n",
              "      background-color: #434B5C;\n",
              "      box-shadow: 0px 1px 3px 1px rgba(0, 0, 0, 0.15);\n",
              "      filter: drop-shadow(0px 1px 2px rgba(0, 0, 0, 0.3));\n",
              "      fill: #FFFFFF;\n",
              "    }\n",
              "  </style>\n",
              "\n",
              "    <script>\n",
              "      const buttonEl =\n",
              "        document.querySelector('#df-576694e5-cfc8-4c13-88a2-bdd851238d39 button.colab-df-convert');\n",
              "      buttonEl.style.display =\n",
              "        google.colab.kernel.accessAllowed ? 'block' : 'none';\n",
              "\n",
              "      async function convertToInteractive(key) {\n",
              "        const element = document.querySelector('#df-576694e5-cfc8-4c13-88a2-bdd851238d39');\n",
              "        const dataTable =\n",
              "          await google.colab.kernel.invokeFunction('convertToInteractive',\n",
              "                                                    [key], {});\n",
              "        if (!dataTable) return;\n",
              "\n",
              "        const docLinkHtml = 'Like what you see? Visit the ' +\n",
              "          '<a target=\"_blank\" href=https://colab.research.google.com/notebooks/data_table.ipynb>data table notebook</a>'\n",
              "          + ' to learn more about interactive tables.';\n",
              "        element.innerHTML = '';\n",
              "        dataTable['output_type'] = 'display_data';\n",
              "        await google.colab.output.renderOutput(dataTable, element);\n",
              "        const docLink = document.createElement('div');\n",
              "        docLink.innerHTML = docLinkHtml;\n",
              "        element.appendChild(docLink);\n",
              "      }\n",
              "    </script>\n",
              "  </div>\n",
              "\n",
              "\n",
              "<div id=\"df-dcff0f40-9cf6-4b35-b61e-7ad99b10f3fa\">\n",
              "  <button class=\"colab-df-quickchart\" onclick=\"quickchart('df-dcff0f40-9cf6-4b35-b61e-7ad99b10f3fa')\"\n",
              "            title=\"Suggest charts\"\n",
              "            style=\"display:none;\">\n",
              "\n",
              "<svg xmlns=\"http://www.w3.org/2000/svg\" height=\"24px\"viewBox=\"0 0 24 24\"\n",
              "     width=\"24px\">\n",
              "    <g>\n",
              "        <path d=\"M19 3H5c-1.1 0-2 .9-2 2v14c0 1.1.9 2 2 2h14c1.1 0 2-.9 2-2V5c0-1.1-.9-2-2-2zM9 17H7v-7h2v7zm4 0h-2V7h2v10zm4 0h-2v-4h2v4z\"/>\n",
              "    </g>\n",
              "</svg>\n",
              "  </button>\n",
              "\n",
              "<style>\n",
              "  .colab-df-quickchart {\n",
              "      --bg-color: #E8F0FE;\n",
              "      --fill-color: #1967D2;\n",
              "      --hover-bg-color: #E2EBFA;\n",
              "      --hover-fill-color: #174EA6;\n",
              "      --disabled-fill-color: #AAA;\n",
              "      --disabled-bg-color: #DDD;\n",
              "  }\n",
              "\n",
              "  [theme=dark] .colab-df-quickchart {\n",
              "      --bg-color: #3B4455;\n",
              "      --fill-color: #D2E3FC;\n",
              "      --hover-bg-color: #434B5C;\n",
              "      --hover-fill-color: #FFFFFF;\n",
              "      --disabled-bg-color: #3B4455;\n",
              "      --disabled-fill-color: #666;\n",
              "  }\n",
              "\n",
              "  .colab-df-quickchart {\n",
              "    background-color: var(--bg-color);\n",
              "    border: none;\n",
              "    border-radius: 50%;\n",
              "    cursor: pointer;\n",
              "    display: none;\n",
              "    fill: var(--fill-color);\n",
              "    height: 32px;\n",
              "    padding: 0;\n",
              "    width: 32px;\n",
              "  }\n",
              "\n",
              "  .colab-df-quickchart:hover {\n",
              "    background-color: var(--hover-bg-color);\n",
              "    box-shadow: 0 1px 2px rgba(60, 64, 67, 0.3), 0 1px 3px 1px rgba(60, 64, 67, 0.15);\n",
              "    fill: var(--button-hover-fill-color);\n",
              "  }\n",
              "\n",
              "  .colab-df-quickchart-complete:disabled,\n",
              "  .colab-df-quickchart-complete:disabled:hover {\n",
              "    background-color: var(--disabled-bg-color);\n",
              "    fill: var(--disabled-fill-color);\n",
              "    box-shadow: none;\n",
              "  }\n",
              "\n",
              "  .colab-df-spinner {\n",
              "    border: 2px solid var(--fill-color);\n",
              "    border-color: transparent;\n",
              "    border-bottom-color: var(--fill-color);\n",
              "    animation:\n",
              "      spin 1s steps(1) infinite;\n",
              "  }\n",
              "\n",
              "  @keyframes spin {\n",
              "    0% {\n",
              "      border-color: transparent;\n",
              "      border-bottom-color: var(--fill-color);\n",
              "      border-left-color: var(--fill-color);\n",
              "    }\n",
              "    20% {\n",
              "      border-color: transparent;\n",
              "      border-left-color: var(--fill-color);\n",
              "      border-top-color: var(--fill-color);\n",
              "    }\n",
              "    30% {\n",
              "      border-color: transparent;\n",
              "      border-left-color: var(--fill-color);\n",
              "      border-top-color: var(--fill-color);\n",
              "      border-right-color: var(--fill-color);\n",
              "    }\n",
              "    40% {\n",
              "      border-color: transparent;\n",
              "      border-right-color: var(--fill-color);\n",
              "      border-top-color: var(--fill-color);\n",
              "    }\n",
              "    60% {\n",
              "      border-color: transparent;\n",
              "      border-right-color: var(--fill-color);\n",
              "    }\n",
              "    80% {\n",
              "      border-color: transparent;\n",
              "      border-right-color: var(--fill-color);\n",
              "      border-bottom-color: var(--fill-color);\n",
              "    }\n",
              "    90% {\n",
              "      border-color: transparent;\n",
              "      border-bottom-color: var(--fill-color);\n",
              "    }\n",
              "  }\n",
              "</style>\n",
              "\n",
              "  <script>\n",
              "    async function quickchart(key) {\n",
              "      const quickchartButtonEl =\n",
              "        document.querySelector('#' + key + ' button');\n",
              "      quickchartButtonEl.disabled = true;  // To prevent multiple clicks.\n",
              "      quickchartButtonEl.classList.add('colab-df-spinner');\n",
              "      try {\n",
              "        const charts = await google.colab.kernel.invokeFunction(\n",
              "            'suggestCharts', [key], {});\n",
              "      } catch (error) {\n",
              "        console.error('Error during call to suggestCharts:', error);\n",
              "      }\n",
              "      quickchartButtonEl.classList.remove('colab-df-spinner');\n",
              "      quickchartButtonEl.classList.add('colab-df-quickchart-complete');\n",
              "    }\n",
              "    (() => {\n",
              "      let quickchartButtonEl =\n",
              "        document.querySelector('#df-dcff0f40-9cf6-4b35-b61e-7ad99b10f3fa button');\n",
              "      quickchartButtonEl.style.display =\n",
              "        google.colab.kernel.accessAllowed ? 'block' : 'none';\n",
              "    })();\n",
              "  </script>\n",
              "</div>\n",
              "\n",
              "    </div>\n",
              "  </div>\n"
            ],
            "application/vnd.google.colaboratory.intrinsic+json": {
              "type": "dataframe",
              "summary": "{\n  \"name\": \"eth_df\",\n  \"rows\": 8,\n  \"fields\": [\n    {\n      \"column\": \"Price\",\n      \"properties\": {\n        \"dtype\": \"number\",\n        \"std\": 1461.5141802828869,\n        \"min\": 107.9,\n        \"max\": 4808.38,\n        \"num_unique_values\": 8,\n        \"samples\": [\n          1580.4435989583333,\n          1622.4650000000001,\n          1920.0\n        ],\n        \"semantic_type\": \"\",\n        \"description\": \"\"\n      }\n    },\n    {\n      \"column\": \"Open\",\n      \"properties\": {\n        \"dtype\": \"number\",\n        \"std\": 1461.4368608735583,\n        \"min\": 107.87,\n        \"max\": 4808.34,\n        \"num_unique_values\": 8,\n        \"samples\": [\n          1578.5435572916665,\n          1620.975,\n          1920.0\n        ],\n        \"semantic_type\": \"\",\n        \"description\": \"\"\n      }\n    },\n    {\n      \"column\": \"High\",\n      \"properties\": {\n        \"dtype\": \"number\",\n        \"std\": 1476.2129852198175,\n        \"min\": 117.91,\n        \"max\": 4864.06,\n        \"num_unique_values\": 8,\n        \"samples\": [\n          1623.7581770833335,\n          1654.21,\n          1920.0\n        ],\n        \"semantic_type\": \"\",\n        \"description\": \"\"\n      }\n    },\n    {\n      \"column\": \"Low\",\n      \"properties\": {\n        \"dtype\": \"number\",\n        \"std\": 1436.4316744025186,\n        \"min\": 88.5,\n        \"max\": 4715.43,\n        \"num_unique_values\": 8,\n        \"samples\": [\n          1529.5727552083335,\n          1569.74,\n          1920.0\n        ],\n        \"semantic_type\": \"\",\n        \"description\": \"\"\n      }\n    },\n    {\n      \"column\": \"Vol.\",\n      \"properties\": {\n        \"dtype\": \"number\",\n        \"std\": 627107256.9335763,\n        \"min\": 1920.0,\n        \"max\": 1790000000.0,\n        \"num_unique_values\": 8,\n        \"samples\": [\n          14545159.348958334,\n          1165000.0,\n          1920.0\n        ],\n        \"semantic_type\": \"\",\n        \"description\": \"\"\n      }\n    },\n    {\n      \"column\": \"Change %\",\n      \"properties\": {\n        \"dtype\": \"number\",\n        \"std\": 678.8292025358536,\n        \"min\": -0.44549999999999995,\n        \"max\": 1920.0,\n        \"num_unique_values\": 8,\n        \"samples\": [\n          0.002749375,\n          0.0014000000000000002,\n          1920.0\n        ],\n        \"semantic_type\": \"\",\n        \"description\": \"\"\n      }\n    }\n  ]\n}"
            }
          },
          "metadata": {},
          "execution_count": 60
        }
      ],
      "source": [
        "eth_df.describe()\n"
      ]
    },
    {
      "cell_type": "code",
      "execution_count": null,
      "metadata": {
        "colab": {
          "base_uri": "https://localhost:8080/"
        },
        "id": "KvBtRiRFuuvz",
        "outputId": "c93cf6c3-9861-4d30-b6bf-007fad0dd4b1"
      },
      "outputs": [
        {
          "output_type": "execute_result",
          "data": {
            "text/plain": [
              "Price       float64\n",
              "Open        float64\n",
              "High        float64\n",
              "Low         float64\n",
              "Vol.        float64\n",
              "Change %    float64\n",
              "dtype: object"
            ]
          },
          "metadata": {},
          "execution_count": 61
        }
      ],
      "source": [
        "eth_df.dtypes\n"
      ]
    },
    {
      "cell_type": "code",
      "execution_count": null,
      "metadata": {
        "colab": {
          "base_uri": "https://localhost:8080/",
          "height": 455
        },
        "id": "suPwHYhfrHLI",
        "outputId": "1671128a-b3dc-4304-fe96-418e74942fc4"
      },
      "outputs": [
        {
          "output_type": "execute_result",
          "data": {
            "text/plain": [
              "              Price     Open     High      Low        Vol.  Change %\n",
              "Date                                                                \n",
              "2019-03-01   135.72   135.47   138.06   128.46   9730000.0    0.0018\n",
              "2019-03-02   132.76   135.72   136.36   130.74  11290000.0   -0.0218\n",
              "2019-03-03   131.01   132.77   168.42   129.05  10640000.0   -0.0132\n",
              "2019-03-04   125.97   131.02   131.57   123.25  14110000.0   -0.0385\n",
              "2019-03-05   136.82   125.97   141.11   125.44  16740000.0    0.0861\n",
              "...             ...      ...      ...      ...         ...       ...\n",
              "2024-05-28  3845.56  3894.33  3929.21  3775.08    436240.0   -0.0125\n",
              "2024-05-29  3769.57  3845.56  3886.44  3745.72    353250.0   -0.0198\n",
              "2024-05-30  3747.55  3767.22  3824.94  3703.74    293810.0   -0.0058\n",
              "2024-05-31  3762.66  3747.89  3844.96  3724.57    294560.0    0.0040\n",
              "2024-06-01  3815.95  3762.63  3832.35  3753.32    143810.0    0.0142\n",
              "\n",
              "[1920 rows x 6 columns]"
            ],
            "text/html": [
              "\n",
              "  <div id=\"df-0ac21673-9eff-4b8e-98f8-4269c6da7a28\" class=\"colab-df-container\">\n",
              "    <div>\n",
              "<style scoped>\n",
              "    .dataframe tbody tr th:only-of-type {\n",
              "        vertical-align: middle;\n",
              "    }\n",
              "\n",
              "    .dataframe tbody tr th {\n",
              "        vertical-align: top;\n",
              "    }\n",
              "\n",
              "    .dataframe thead th {\n",
              "        text-align: right;\n",
              "    }\n",
              "</style>\n",
              "<table border=\"1\" class=\"dataframe\">\n",
              "  <thead>\n",
              "    <tr style=\"text-align: right;\">\n",
              "      <th></th>\n",
              "      <th>Price</th>\n",
              "      <th>Open</th>\n",
              "      <th>High</th>\n",
              "      <th>Low</th>\n",
              "      <th>Vol.</th>\n",
              "      <th>Change %</th>\n",
              "    </tr>\n",
              "    <tr>\n",
              "      <th>Date</th>\n",
              "      <th></th>\n",
              "      <th></th>\n",
              "      <th></th>\n",
              "      <th></th>\n",
              "      <th></th>\n",
              "      <th></th>\n",
              "    </tr>\n",
              "  </thead>\n",
              "  <tbody>\n",
              "    <tr>\n",
              "      <th>2019-03-01</th>\n",
              "      <td>135.72</td>\n",
              "      <td>135.47</td>\n",
              "      <td>138.06</td>\n",
              "      <td>128.46</td>\n",
              "      <td>9730000.0</td>\n",
              "      <td>0.0018</td>\n",
              "    </tr>\n",
              "    <tr>\n",
              "      <th>2019-03-02</th>\n",
              "      <td>132.76</td>\n",
              "      <td>135.72</td>\n",
              "      <td>136.36</td>\n",
              "      <td>130.74</td>\n",
              "      <td>11290000.0</td>\n",
              "      <td>-0.0218</td>\n",
              "    </tr>\n",
              "    <tr>\n",
              "      <th>2019-03-03</th>\n",
              "      <td>131.01</td>\n",
              "      <td>132.77</td>\n",
              "      <td>168.42</td>\n",
              "      <td>129.05</td>\n",
              "      <td>10640000.0</td>\n",
              "      <td>-0.0132</td>\n",
              "    </tr>\n",
              "    <tr>\n",
              "      <th>2019-03-04</th>\n",
              "      <td>125.97</td>\n",
              "      <td>131.02</td>\n",
              "      <td>131.57</td>\n",
              "      <td>123.25</td>\n",
              "      <td>14110000.0</td>\n",
              "      <td>-0.0385</td>\n",
              "    </tr>\n",
              "    <tr>\n",
              "      <th>2019-03-05</th>\n",
              "      <td>136.82</td>\n",
              "      <td>125.97</td>\n",
              "      <td>141.11</td>\n",
              "      <td>125.44</td>\n",
              "      <td>16740000.0</td>\n",
              "      <td>0.0861</td>\n",
              "    </tr>\n",
              "    <tr>\n",
              "      <th>...</th>\n",
              "      <td>...</td>\n",
              "      <td>...</td>\n",
              "      <td>...</td>\n",
              "      <td>...</td>\n",
              "      <td>...</td>\n",
              "      <td>...</td>\n",
              "    </tr>\n",
              "    <tr>\n",
              "      <th>2024-05-28</th>\n",
              "      <td>3845.56</td>\n",
              "      <td>3894.33</td>\n",
              "      <td>3929.21</td>\n",
              "      <td>3775.08</td>\n",
              "      <td>436240.0</td>\n",
              "      <td>-0.0125</td>\n",
              "    </tr>\n",
              "    <tr>\n",
              "      <th>2024-05-29</th>\n",
              "      <td>3769.57</td>\n",
              "      <td>3845.56</td>\n",
              "      <td>3886.44</td>\n",
              "      <td>3745.72</td>\n",
              "      <td>353250.0</td>\n",
              "      <td>-0.0198</td>\n",
              "    </tr>\n",
              "    <tr>\n",
              "      <th>2024-05-30</th>\n",
              "      <td>3747.55</td>\n",
              "      <td>3767.22</td>\n",
              "      <td>3824.94</td>\n",
              "      <td>3703.74</td>\n",
              "      <td>293810.0</td>\n",
              "      <td>-0.0058</td>\n",
              "    </tr>\n",
              "    <tr>\n",
              "      <th>2024-05-31</th>\n",
              "      <td>3762.66</td>\n",
              "      <td>3747.89</td>\n",
              "      <td>3844.96</td>\n",
              "      <td>3724.57</td>\n",
              "      <td>294560.0</td>\n",
              "      <td>0.0040</td>\n",
              "    </tr>\n",
              "    <tr>\n",
              "      <th>2024-06-01</th>\n",
              "      <td>3815.95</td>\n",
              "      <td>3762.63</td>\n",
              "      <td>3832.35</td>\n",
              "      <td>3753.32</td>\n",
              "      <td>143810.0</td>\n",
              "      <td>0.0142</td>\n",
              "    </tr>\n",
              "  </tbody>\n",
              "</table>\n",
              "<p>1920 rows × 6 columns</p>\n",
              "</div>\n",
              "    <div class=\"colab-df-buttons\">\n",
              "\n",
              "  <div class=\"colab-df-container\">\n",
              "    <button class=\"colab-df-convert\" onclick=\"convertToInteractive('df-0ac21673-9eff-4b8e-98f8-4269c6da7a28')\"\n",
              "            title=\"Convert this dataframe to an interactive table.\"\n",
              "            style=\"display:none;\">\n",
              "\n",
              "  <svg xmlns=\"http://www.w3.org/2000/svg\" height=\"24px\" viewBox=\"0 -960 960 960\">\n",
              "    <path d=\"M120-120v-720h720v720H120Zm60-500h600v-160H180v160Zm220 220h160v-160H400v160Zm0 220h160v-160H400v160ZM180-400h160v-160H180v160Zm440 0h160v-160H620v160ZM180-180h160v-160H180v160Zm440 0h160v-160H620v160Z\"/>\n",
              "  </svg>\n",
              "    </button>\n",
              "\n",
              "  <style>\n",
              "    .colab-df-container {\n",
              "      display:flex;\n",
              "      gap: 12px;\n",
              "    }\n",
              "\n",
              "    .colab-df-convert {\n",
              "      background-color: #E8F0FE;\n",
              "      border: none;\n",
              "      border-radius: 50%;\n",
              "      cursor: pointer;\n",
              "      display: none;\n",
              "      fill: #1967D2;\n",
              "      height: 32px;\n",
              "      padding: 0 0 0 0;\n",
              "      width: 32px;\n",
              "    }\n",
              "\n",
              "    .colab-df-convert:hover {\n",
              "      background-color: #E2EBFA;\n",
              "      box-shadow: 0px 1px 2px rgba(60, 64, 67, 0.3), 0px 1px 3px 1px rgba(60, 64, 67, 0.15);\n",
              "      fill: #174EA6;\n",
              "    }\n",
              "\n",
              "    .colab-df-buttons div {\n",
              "      margin-bottom: 4px;\n",
              "    }\n",
              "\n",
              "    [theme=dark] .colab-df-convert {\n",
              "      background-color: #3B4455;\n",
              "      fill: #D2E3FC;\n",
              "    }\n",
              "\n",
              "    [theme=dark] .colab-df-convert:hover {\n",
              "      background-color: #434B5C;\n",
              "      box-shadow: 0px 1px 3px 1px rgba(0, 0, 0, 0.15);\n",
              "      filter: drop-shadow(0px 1px 2px rgba(0, 0, 0, 0.3));\n",
              "      fill: #FFFFFF;\n",
              "    }\n",
              "  </style>\n",
              "\n",
              "    <script>\n",
              "      const buttonEl =\n",
              "        document.querySelector('#df-0ac21673-9eff-4b8e-98f8-4269c6da7a28 button.colab-df-convert');\n",
              "      buttonEl.style.display =\n",
              "        google.colab.kernel.accessAllowed ? 'block' : 'none';\n",
              "\n",
              "      async function convertToInteractive(key) {\n",
              "        const element = document.querySelector('#df-0ac21673-9eff-4b8e-98f8-4269c6da7a28');\n",
              "        const dataTable =\n",
              "          await google.colab.kernel.invokeFunction('convertToInteractive',\n",
              "                                                    [key], {});\n",
              "        if (!dataTable) return;\n",
              "\n",
              "        const docLinkHtml = 'Like what you see? Visit the ' +\n",
              "          '<a target=\"_blank\" href=https://colab.research.google.com/notebooks/data_table.ipynb>data table notebook</a>'\n",
              "          + ' to learn more about interactive tables.';\n",
              "        element.innerHTML = '';\n",
              "        dataTable['output_type'] = 'display_data';\n",
              "        await google.colab.output.renderOutput(dataTable, element);\n",
              "        const docLink = document.createElement('div');\n",
              "        docLink.innerHTML = docLinkHtml;\n",
              "        element.appendChild(docLink);\n",
              "      }\n",
              "    </script>\n",
              "  </div>\n",
              "\n",
              "\n",
              "<div id=\"df-53f9e124-e004-48ef-9f54-487c61205a2d\">\n",
              "  <button class=\"colab-df-quickchart\" onclick=\"quickchart('df-53f9e124-e004-48ef-9f54-487c61205a2d')\"\n",
              "            title=\"Suggest charts\"\n",
              "            style=\"display:none;\">\n",
              "\n",
              "<svg xmlns=\"http://www.w3.org/2000/svg\" height=\"24px\"viewBox=\"0 0 24 24\"\n",
              "     width=\"24px\">\n",
              "    <g>\n",
              "        <path d=\"M19 3H5c-1.1 0-2 .9-2 2v14c0 1.1.9 2 2 2h14c1.1 0 2-.9 2-2V5c0-1.1-.9-2-2-2zM9 17H7v-7h2v7zm4 0h-2V7h2v10zm4 0h-2v-4h2v4z\"/>\n",
              "    </g>\n",
              "</svg>\n",
              "  </button>\n",
              "\n",
              "<style>\n",
              "  .colab-df-quickchart {\n",
              "      --bg-color: #E8F0FE;\n",
              "      --fill-color: #1967D2;\n",
              "      --hover-bg-color: #E2EBFA;\n",
              "      --hover-fill-color: #174EA6;\n",
              "      --disabled-fill-color: #AAA;\n",
              "      --disabled-bg-color: #DDD;\n",
              "  }\n",
              "\n",
              "  [theme=dark] .colab-df-quickchart {\n",
              "      --bg-color: #3B4455;\n",
              "      --fill-color: #D2E3FC;\n",
              "      --hover-bg-color: #434B5C;\n",
              "      --hover-fill-color: #FFFFFF;\n",
              "      --disabled-bg-color: #3B4455;\n",
              "      --disabled-fill-color: #666;\n",
              "  }\n",
              "\n",
              "  .colab-df-quickchart {\n",
              "    background-color: var(--bg-color);\n",
              "    border: none;\n",
              "    border-radius: 50%;\n",
              "    cursor: pointer;\n",
              "    display: none;\n",
              "    fill: var(--fill-color);\n",
              "    height: 32px;\n",
              "    padding: 0;\n",
              "    width: 32px;\n",
              "  }\n",
              "\n",
              "  .colab-df-quickchart:hover {\n",
              "    background-color: var(--hover-bg-color);\n",
              "    box-shadow: 0 1px 2px rgba(60, 64, 67, 0.3), 0 1px 3px 1px rgba(60, 64, 67, 0.15);\n",
              "    fill: var(--button-hover-fill-color);\n",
              "  }\n",
              "\n",
              "  .colab-df-quickchart-complete:disabled,\n",
              "  .colab-df-quickchart-complete:disabled:hover {\n",
              "    background-color: var(--disabled-bg-color);\n",
              "    fill: var(--disabled-fill-color);\n",
              "    box-shadow: none;\n",
              "  }\n",
              "\n",
              "  .colab-df-spinner {\n",
              "    border: 2px solid var(--fill-color);\n",
              "    border-color: transparent;\n",
              "    border-bottom-color: var(--fill-color);\n",
              "    animation:\n",
              "      spin 1s steps(1) infinite;\n",
              "  }\n",
              "\n",
              "  @keyframes spin {\n",
              "    0% {\n",
              "      border-color: transparent;\n",
              "      border-bottom-color: var(--fill-color);\n",
              "      border-left-color: var(--fill-color);\n",
              "    }\n",
              "    20% {\n",
              "      border-color: transparent;\n",
              "      border-left-color: var(--fill-color);\n",
              "      border-top-color: var(--fill-color);\n",
              "    }\n",
              "    30% {\n",
              "      border-color: transparent;\n",
              "      border-left-color: var(--fill-color);\n",
              "      border-top-color: var(--fill-color);\n",
              "      border-right-color: var(--fill-color);\n",
              "    }\n",
              "    40% {\n",
              "      border-color: transparent;\n",
              "      border-right-color: var(--fill-color);\n",
              "      border-top-color: var(--fill-color);\n",
              "    }\n",
              "    60% {\n",
              "      border-color: transparent;\n",
              "      border-right-color: var(--fill-color);\n",
              "    }\n",
              "    80% {\n",
              "      border-color: transparent;\n",
              "      border-right-color: var(--fill-color);\n",
              "      border-bottom-color: var(--fill-color);\n",
              "    }\n",
              "    90% {\n",
              "      border-color: transparent;\n",
              "      border-bottom-color: var(--fill-color);\n",
              "    }\n",
              "  }\n",
              "</style>\n",
              "\n",
              "  <script>\n",
              "    async function quickchart(key) {\n",
              "      const quickchartButtonEl =\n",
              "        document.querySelector('#' + key + ' button');\n",
              "      quickchartButtonEl.disabled = true;  // To prevent multiple clicks.\n",
              "      quickchartButtonEl.classList.add('colab-df-spinner');\n",
              "      try {\n",
              "        const charts = await google.colab.kernel.invokeFunction(\n",
              "            'suggestCharts', [key], {});\n",
              "      } catch (error) {\n",
              "        console.error('Error during call to suggestCharts:', error);\n",
              "      }\n",
              "      quickchartButtonEl.classList.remove('colab-df-spinner');\n",
              "      quickchartButtonEl.classList.add('colab-df-quickchart-complete');\n",
              "    }\n",
              "    (() => {\n",
              "      let quickchartButtonEl =\n",
              "        document.querySelector('#df-53f9e124-e004-48ef-9f54-487c61205a2d button');\n",
              "      quickchartButtonEl.style.display =\n",
              "        google.colab.kernel.accessAllowed ? 'block' : 'none';\n",
              "    })();\n",
              "  </script>\n",
              "</div>\n",
              "\n",
              "  <div id=\"id_2b218ac9-4c01-4c8c-a1b4-eaea0e30a2a3\">\n",
              "    <style>\n",
              "      .colab-df-generate {\n",
              "        background-color: #E8F0FE;\n",
              "        border: none;\n",
              "        border-radius: 50%;\n",
              "        cursor: pointer;\n",
              "        display: none;\n",
              "        fill: #1967D2;\n",
              "        height: 32px;\n",
              "        padding: 0 0 0 0;\n",
              "        width: 32px;\n",
              "      }\n",
              "\n",
              "      .colab-df-generate:hover {\n",
              "        background-color: #E2EBFA;\n",
              "        box-shadow: 0px 1px 2px rgba(60, 64, 67, 0.3), 0px 1px 3px 1px rgba(60, 64, 67, 0.15);\n",
              "        fill: #174EA6;\n",
              "      }\n",
              "\n",
              "      [theme=dark] .colab-df-generate {\n",
              "        background-color: #3B4455;\n",
              "        fill: #D2E3FC;\n",
              "      }\n",
              "\n",
              "      [theme=dark] .colab-df-generate:hover {\n",
              "        background-color: #434B5C;\n",
              "        box-shadow: 0px 1px 3px 1px rgba(0, 0, 0, 0.15);\n",
              "        filter: drop-shadow(0px 1px 2px rgba(0, 0, 0, 0.3));\n",
              "        fill: #FFFFFF;\n",
              "      }\n",
              "    </style>\n",
              "    <button class=\"colab-df-generate\" onclick=\"generateWithVariable('eth_df')\"\n",
              "            title=\"Generate code using this dataframe.\"\n",
              "            style=\"display:none;\">\n",
              "\n",
              "  <svg xmlns=\"http://www.w3.org/2000/svg\" height=\"24px\"viewBox=\"0 0 24 24\"\n",
              "       width=\"24px\">\n",
              "    <path d=\"M7,19H8.4L18.45,9,17,7.55,7,17.6ZM5,21V16.75L18.45,3.32a2,2,0,0,1,2.83,0l1.4,1.43a1.91,1.91,0,0,1,.58,1.4,1.91,1.91,0,0,1-.58,1.4L9.25,21ZM18.45,9,17,7.55Zm-12,3A5.31,5.31,0,0,0,4.9,8.1,5.31,5.31,0,0,0,1,6.5,5.31,5.31,0,0,0,4.9,4.9,5.31,5.31,0,0,0,6.5,1,5.31,5.31,0,0,0,8.1,4.9,5.31,5.31,0,0,0,12,6.5,5.46,5.46,0,0,0,6.5,12Z\"/>\n",
              "  </svg>\n",
              "    </button>\n",
              "    <script>\n",
              "      (() => {\n",
              "      const buttonEl =\n",
              "        document.querySelector('#id_2b218ac9-4c01-4c8c-a1b4-eaea0e30a2a3 button.colab-df-generate');\n",
              "      buttonEl.style.display =\n",
              "        google.colab.kernel.accessAllowed ? 'block' : 'none';\n",
              "\n",
              "      buttonEl.onclick = () => {\n",
              "        google.colab.notebook.generateWithVariable('eth_df');\n",
              "      }\n",
              "      })();\n",
              "    </script>\n",
              "  </div>\n",
              "\n",
              "    </div>\n",
              "  </div>\n"
            ],
            "application/vnd.google.colaboratory.intrinsic+json": {
              "type": "dataframe",
              "variable_name": "eth_df",
              "summary": "{\n  \"name\": \"eth_df\",\n  \"rows\": 1920,\n  \"fields\": [\n    {\n      \"column\": \"Date\",\n      \"properties\": {\n        \"dtype\": \"date\",\n        \"min\": \"2019-03-01 00:00:00\",\n        \"max\": \"2024-06-01 00:00:00\",\n        \"num_unique_values\": 1920,\n        \"samples\": [\n          \"2021-11-23 00:00:00\",\n          \"2023-08-08 00:00:00\",\n          \"2020-11-01 00:00:00\"\n        ],\n        \"semantic_type\": \"\",\n        \"description\": \"\"\n      }\n    },\n    {\n      \"column\": \"Price\",\n      \"properties\": {\n        \"dtype\": \"number\",\n        \"std\": 1205.8617192638408,\n        \"min\": 107.9,\n        \"max\": 4808.38,\n        \"num_unique_values\": 1900,\n        \"samples\": [\n          1534.85,\n          310.38,\n          385.25\n        ],\n        \"semantic_type\": \"\",\n        \"description\": \"\"\n      }\n    },\n    {\n      \"column\": \"Open\",\n      \"properties\": {\n        \"dtype\": \"number\",\n        \"std\": 1205.2290056329853,\n        \"min\": 107.87,\n        \"max\": 4808.34,\n        \"num_unique_values\": 1900,\n        \"samples\": [\n          1575.68,\n          294.69,\n          385.33\n        ],\n        \"semantic_type\": \"\",\n        \"description\": \"\"\n      }\n    },\n    {\n      \"column\": \"High\",\n      \"properties\": {\n        \"dtype\": \"number\",\n        \"std\": 1239.7880333126684,\n        \"min\": 117.91,\n        \"max\": 4864.06,\n        \"num_unique_values\": 1909,\n        \"samples\": [\n          1710.27,\n          273.18,\n          3435.57\n        ],\n        \"semantic_type\": \"\",\n        \"description\": \"\"\n      }\n    },\n    {\n      \"column\": \"Low\",\n      \"properties\": {\n        \"dtype\": \"number\",\n        \"std\": 1166.0979301552745,\n        \"min\": 88.5,\n        \"max\": 4715.43,\n        \"num_unique_values\": 1908,\n        \"samples\": [\n          1628.73,\n          271.45,\n          3462.44\n        ],\n        \"semantic_type\": \"\",\n        \"description\": \"\"\n      }\n    },\n    {\n      \"column\": \"Vol.\",\n      \"properties\": {\n        \"dtype\": \"number\",\n        \"std\": 112208076.64132501,\n        \"min\": 27030.0,\n        \"max\": 1790000000.0,\n        \"num_unique_values\": 1613,\n        \"samples\": [\n          9330000.0,\n          15670000.0,\n          13960000.0\n        ],\n        \"semantic_type\": \"\",\n        \"description\": \"\"\n      }\n    },\n    {\n      \"column\": \"Change %\",\n      \"properties\": {\n        \"dtype\": \"number\",\n        \"std\": 0.04447354266892567,\n        \"min\": -0.44549999999999995,\n        \"max\": 0.2596,\n        \"num_unique_values\": 1042,\n        \"samples\": [\n          0.10490000000000001,\n          0.0059,\n          -0.037200000000000004\n        ],\n        \"semantic_type\": \"\",\n        \"description\": \"\"\n      }\n    }\n  ]\n}"
            }
          },
          "metadata": {},
          "execution_count": 62
        }
      ],
      "source": [
        "eth_df"
      ]
    },
    {
      "cell_type": "code",
      "execution_count": null,
      "metadata": {
        "colab": {
          "base_uri": "https://localhost:8080/"
        },
        "id": "04kv1IhOr6Lb",
        "outputId": "ef882056-5022-401d-c4b0-1f002f67f435"
      },
      "outputs": [
        {
          "output_type": "stream",
          "name": "stdout",
          "text": [
            "Meadian \t\n"
          ]
        },
        {
          "output_type": "execute_result",
          "data": {
            "text/plain": [
              "Price       1.622465e+03\n",
              "Open        1.620975e+03\n",
              "High        1.654210e+03\n",
              "Low         1.569740e+03\n",
              "Vol.        1.165000e+06\n",
              "Change %    1.400000e-03\n",
              "dtype: float64"
            ]
          },
          "metadata": {},
          "execution_count": 63
        }
      ],
      "source": [
        "#all\n",
        "print(\"Meadian \\t\")\n",
        "eth_df.median()"
      ]
    },
    {
      "cell_type": "code",
      "execution_count": null,
      "metadata": {
        "colab": {
          "base_uri": "https://localhost:8080/"
        },
        "id": "Avq55PofsdCP",
        "outputId": "213cf949-98d5-4825-c6a6-8cc59d32cee1"
      },
      "outputs": [
        {
          "output_type": "stream",
          "name": "stdout",
          "text": [
            "Kurtosis\t\n"
          ]
        },
        {
          "output_type": "execute_result",
          "data": {
            "text/plain": [
              "Price        -0.726134\n",
              "Open         -0.723653\n",
              "High         -0.733476\n",
              "Low          -0.729421\n",
              "Vol.        156.849436\n",
              "Change %      9.160245\n",
              "dtype: float64"
            ]
          },
          "metadata": {},
          "execution_count": 64
        }
      ],
      "source": [
        "#all\n",
        "print('Kurtosis\\t')\n",
        "eth_df.kurtosis()"
      ]
    },
    {
      "cell_type": "code",
      "execution_count": null,
      "metadata": {
        "colab": {
          "base_uri": "https://localhost:8080/"
        },
        "id": "HCFmq7kRsN4I",
        "outputId": "99886691-14c2-4358-e689-5aca5ed9175c"
      },
      "outputs": [
        {
          "output_type": "stream",
          "name": "stdout",
          "text": [
            "Skewness\t\n"
          ]
        },
        {
          "output_type": "execute_result",
          "data": {
            "text/plain": [
              "Price        0.460779\n",
              "Open         0.461996\n",
              "High         0.462121\n",
              "Low          0.454362\n",
              "Vol.        12.308683\n",
              "Change %    -0.341816\n",
              "dtype: float64"
            ]
          },
          "metadata": {},
          "execution_count": 65
        }
      ],
      "source": [
        "#all\n",
        "print('Skewness\\t')\n",
        "eth_df.skew()"
      ]
    },
    {
      "cell_type": "code",
      "execution_count": null,
      "metadata": {
        "colab": {
          "base_uri": "https://localhost:8080/"
        },
        "id": "i0K-VCiSNPFF",
        "outputId": "5ca15017-ae4d-4945-fdb1-1752b7c02e0a"
      },
      "outputs": [
        {
          "output_type": "stream",
          "name": "stdout",
          "text": [
            "Variance: 1454102.4859859464\n",
            "Standard Deviation: 1205.861719263841\n",
            "Skewness: 0.46041889940299197\n",
            "Kurtosis: -0.7273679966545297\n",
            "Mode: ModeResult(mode=125.24, count=2)\n"
          ]
        }
      ],
      "source": [
        "# Tính toán các giá trị thống kê cột price\n",
        "variance_price = st.variance(eth_df[\"Price\"])\n",
        "std_dev_price = st.stdev(eth_df[\"Price\"])\n",
        "skewness_price = skew(eth_df[\"Price\"])\n",
        "kurtosis_price = kurtosis(eth_df[\"Price\"])\n",
        "mode_price = mode(eth_df[\"Price\"])\n",
        "\n",
        "print(\"Variance:\", variance_price)\n",
        "print(\"Standard Deviation:\", std_dev_price)\n",
        "print(\"Skewness:\", skewness_price)\n",
        "print(\"Kurtosis:\", kurtosis_price)\n",
        "print(\"Mode:\", mode_price)"
      ]
    },
    {
      "cell_type": "code",
      "execution_count": null,
      "metadata": {
        "colab": {
          "base_uri": "https://localhost:8080/"
        },
        "id": "OBiTm74HsLg1",
        "outputId": "f7222c04-4238-4a72-8e6b-66f7c56b1a66"
      },
      "outputs": [
        {
          "output_type": "execute_result",
          "data": {
            "text/plain": [
              "count    1920.000000\n",
              "mean     1580.443599\n",
              "std      1205.861719\n",
              "min       107.900000\n",
              "25%       268.945000\n",
              "50%      1622.465000\n",
              "75%      2334.242500\n",
              "max      4808.380000\n",
              "Name: Price, dtype: float64"
            ]
          },
          "metadata": {},
          "execution_count": 67
        }
      ],
      "source": [
        "eth_df['Price'].describe()"
      ]
    },
    {
      "cell_type": "code",
      "execution_count": null,
      "metadata": {
        "colab": {
          "base_uri": "https://localhost:8080/",
          "height": 488
        },
        "id": "0-hnl0ZOm9un",
        "outputId": "6eb25404-d2a8-48c7-ccba-543976236621"
      },
      "outputs": [
        {
          "output_type": "execute_result",
          "data": {
            "text/plain": [
              "[<matplotlib.lines.Line2D at 0x7e3ab1eee830>]"
            ]
          },
          "metadata": {},
          "execution_count": 68
        },
        {
          "output_type": "display_data",
          "data": {
            "text/plain": [
              "<Figure size 1200x600 with 1 Axes>"
            ],
            "image/png": "[encoded data removed]"
          },
          "metadata": {}
        }
      ],
      "source": [
        "eth_df['Price'].plot(figsize=(12,6),color='red')\n",
        "\n",
        "plt.plot(eth_df['Price'])"
      ]
    },
    {
      "cell_type": "code",
      "execution_count": null,
      "metadata": {
        "colab": {
          "base_uri": "https://localhost:8080/",
          "height": 461
        },
        "id": "BW_kqlHlv-Mm",
        "outputId": "d52560a4-8bc4-4b27-db70-c6bd1838fc12"
      },
      "outputs": [
        {
          "output_type": "display_data",
          "data": {
            "text/plain": [
              "<Figure size 1200x600 with 1 Axes>"
            ],
            "image/png": "[encoded data removed]"
          },
          "metadata": {}
        }
      ],
      "source": [
        "plt.figure(figsize=(12, 6))\n",
        "sns.lineplot(x='Date', y='Price', data=eth_df)\n",
        "\n",
        "plt.xlabel('Date')\n",
        "plt.ylabel('Price')\n",
        "plt.show()"
      ]
    },
    {
      "cell_type": "code",
      "execution_count": null,
      "metadata": {
        "colab": {
          "base_uri": "https://localhost:8080/",
          "height": 469
        },
        "id": "C9qkdQJRxYag",
        "outputId": "ceb7c92b-c47e-4ed7-b37d-3c17505ff568"
      },
      "outputs": [
        {
          "output_type": "execute_result",
          "data": {
            "text/plain": [
              "<Axes: title={'center': 'Box Plot of Price'}>"
            ]
          },
          "metadata": {},
          "execution_count": 70
        },
        {
          "output_type": "display_data",
          "data": {
            "text/plain": [
              "<Figure size 640x480 with 1 Axes>"
            ],
            "image/png": "[encoded data removed]"
          },
          "metadata": {}
        }
      ],
      "source": [
        "plt.title('Box Plot of Price')\n",
        "eth_df.boxplot(column=['Price'])"
      ]
    },
    {
      "cell_type": "code",
      "execution_count": null,
      "metadata": {
        "colab": {
          "base_uri": "https://localhost:8080/",
          "height": 496
        },
        "id": "qfdYcMdvRdym",
        "outputId": "7a8e87fb-e99c-4172-9515-d8c62703d1a9"
      },
      "outputs": [
        {
          "output_type": "execute_result",
          "data": {
            "text/plain": [
              "<Axes: >"
            ]
          },
          "metadata": {},
          "execution_count": 71
        },
        {
          "output_type": "display_data",
          "data": {
            "text/plain": [
              "<Figure size 1500x700 with 2 Axes>"
            ],
            "image/png": "[encoded data removed]"
          },
          "metadata": {}
        }
      ],
      "source": [
        "plt.figure(figsize=(15,7))\n",
        "sns.heatmap(eth_df.corr(),annot =True,cmap=\"YlGnBu\")"
      ]
    },
    {
      "cell_type": "code",
      "execution_count": null,
      "metadata": {
        "id": "cmZL5W_qvkhm",
        "colab": {
          "base_uri": "https://localhost:8080/"
        },
        "outputId": "070f18a1-b128-4c20-a8fe-0b8c78cb7068"
      },
      "outputs": [
        {
          "output_type": "stream",
          "name": "stdout",
          "text": [
            "<class 'pandas.core.frame.DataFrame'>\n",
            "DatetimeIndex: 1920 entries, 2019-03-01 to 2024-06-01\n",
            "Data columns (total 6 columns):\n",
            " #   Column    Non-Null Count  Dtype  \n",
            "---  ------    --------------  -----  \n",
            " 0   Price     1920 non-null   float64\n",
            " 1   Open      1920 non-null   float64\n",
            " 2   High      1920 non-null   float64\n",
            " 3   Low       1920 non-null   float64\n",
            " 4   Vol.      1920 non-null   float64\n",
            " 5   Change %  1920 non-null   float64\n",
            "dtypes: float64(6)\n",
            "memory usage: 105.0 KB\n"
          ]
        }
      ],
      "source": [
        "eth_df.info()"
      ]
    },
    {
      "cell_type": "markdown",
      "metadata": {
        "id": "z8ZIIYSxzUlp"
      },
      "source": [
        "###Paramater"
      ]
    },
    {
      "cell_type": "code",
      "execution_count": null,
      "metadata": {
        "id": "GWNVVheszXQQ"
      },
      "outputs": [],
      "source": [
        "window_size = 10\n",
        "feature_dim = 5\n",
        "\n",
        "train_size = 0.7\n",
        "test_size = 0.3\n",
        "\n",
        "# model params\n",
        "lstm_neurons = 20\n",
        "rnn_neurons = 20\n",
        "epochs = 100\n",
        "batch_size = 4\n",
        "loss = 'mae'\n",
        "dropout = 0.25\n",
        "optimizer = 'adam'"
      ]
    },
    {
      "cell_type": "markdown",
      "metadata": {
        "id": "26Q6cpWZP0Vx"
      },
      "source": [
        "###Split data"
      ]
    },
    {
      "cell_type": "code",
      "execution_count": null,
      "metadata": {
        "id": "z0Vn4TEC17n3"
      },
      "outputs": [],
      "source": [
        "#eth_df.drop(columns=['Year'], inplace=True)\n",
        "#eth_df.drop(columns=['Month'], inplace=True)\n",
        "#eth_df.drop(columns=['Day'], inplace=True)\n"
      ]
    },
    {
      "cell_type": "code",
      "execution_count": null,
      "metadata": {
        "colab": {
          "base_uri": "https://localhost:8080/"
        },
        "id": "uvkDwv_cP__1",
        "outputId": "38933bbb-8f63-4ac4-cfed-b1b1c7660b44"
      },
      "outputs": [
        {
          "output_type": "stream",
          "name": "stdout",
          "text": [
            "train index:  1344\n",
            "test index:  1920\n"
          ]
        }
      ],
      "source": [
        "train_index = int(len(eth_df)*train_size)\n",
        "test_index = train_index + int(len(eth_df)*test_size)\n",
        "\n",
        "print('train index: ',train_index)\n",
        "print('test index: ',test_index)"
      ]
    },
    {
      "cell_type": "code",
      "execution_count": null,
      "metadata": {
        "colab": {
          "base_uri": "https://localhost:8080/"
        },
        "id": "u5DGqwCc7KZ4",
        "outputId": "aceef237-66f0-49f0-8800-cba2782238e8"
      },
      "outputs": [
        {
          "output_type": "execute_result",
          "data": {
            "text/plain": [
              "146"
            ]
          },
          "metadata": {},
          "execution_count": 76
        }
      ],
      "source": [
        "eth_df_30 = eth_df.iloc[(random.randint(0, len(eth_df) - 100)):(random.randint(0, len(eth_df) - 100)+30)]\n",
        "len(eth_df_30)"
      ]
    },
    {
      "cell_type": "code",
      "execution_count": null,
      "metadata": {
        "colab": {
          "base_uri": "https://localhost:8080/"
        },
        "id": "_QnJGFWF5Ufr",
        "outputId": "318dac5b-3bf2-481e-9af2-a30d55b42031"
      },
      "outputs": [
        {
          "output_type": "stream",
          "name": "stdout",
          "text": [
            "df_train.shape:  (1344, 6)\n",
            "df_test.shape:  (576, 6)\n",
            "df_30.shape:  (30, 6)\n",
            "df_60.shape:  (60, 6)\n",
            "df_90.shape:  (90, 6)\n"
          ]
        }
      ],
      "source": [
        "eth_df_train = eth_df.iloc[:train_index]\n",
        "eth_df_test  = eth_df[train_index:test_index]\n",
        "\n",
        "index_30 = random.randint(0, len(eth_df) - 100)\n",
        "index_60 =random.randint(0, len(eth_df) - 100)\n",
        "index_90 =random.randint(0, len(eth_df) - 100)\n",
        "\n",
        "eth_df_30 = eth_df.iloc[index_30: index_30+30]\n",
        "eth_df_60 = eth_df.iloc[index_60: index_60+60]\n",
        "eth_df_90 = eth_df.iloc[index_90: index_90+90]\n",
        "\n",
        "date_range_30 = pd.date_range(start='2024-06-02', end='2024-07-02', periods=30)\n",
        "date_range_60 = pd.date_range(start='2024-06-02', end='2024-08-01', periods=60)\n",
        "date_range_90 = pd.date_range(start='2024-02-06', end='2024-08-31', periods=90)\n",
        "\n",
        "eth_df_30.index = date_range_30.date\n",
        "eth_df_60.index = date_range_60.date\n",
        "eth_df_90.index = date_range_90.date\n",
        "\n",
        "print('df_train.shape: ',eth_df_train.shape)\n",
        "print('df_test.shape: ',eth_df_test.shape)\n",
        "\n",
        "print('df_30.shape: ',eth_df_30.shape)\n",
        "print('df_60.shape: ',eth_df_60.shape)\n",
        "print('df_90.shape: ',eth_df_90.shape)"
      ]
    },
    {
      "cell_type": "code",
      "execution_count": null,
      "metadata": {
        "colab": {
          "base_uri": "https://localhost:8080/",
          "height": 454
        },
        "id": "OHstNTiv5suo",
        "outputId": "7a165393-5363-4965-9ba2-cc1fa6d1b272"
      },
      "outputs": [
        {
          "output_type": "display_data",
          "data": {
            "text/plain": [
              "<Figure size 1200x600 with 1 Axes>"
            ],
            "image/png": "[encoded data removed]"
          },
          "metadata": {}
        }
      ],
      "source": [
        "plt.figure(figsize=(12,6))\n",
        "plt.plot(pd.DataFrame(eth_df_train).index.to_list(), pd.DataFrame(eth_df_train['Price']), color='red', label='Train')\n",
        "plt.plot(pd.DataFrame(eth_df_test).index.to_list(),pd.DataFrame(eth_df_test['Price']),color='blue' ,label ='Test')\n",
        "plt.legend()\n",
        "plt.show()"
      ]
    },
    {
      "cell_type": "code",
      "execution_count": null,
      "metadata": {
        "id": "1SEV18DzQoNr"
      },
      "outputs": [],
      "source": [
        "scaler = MinMaxScaler(feature_range=(0, 1))\n",
        "eth_df_train_scaled = scaler.fit_transform(eth_df_train)\n",
        "eth_df_test_scaled = scaler.transform(eth_df_test)\n",
        "\n",
        "eth_df_30_scaled = scaler.transform(eth_df_30)\n",
        "eth_df_60_scaled = scaler.transform(eth_df_60)\n",
        "eth_df_90_scaled = scaler.transform(eth_df_90)\n",
        "\n",
        "\n",
        "eth_df_train_scaled = pd.DataFrame(eth_df_train_scaled, index=eth_df_train.index, columns=eth_df_train.columns)\n",
        "eth_df_test_scaled = pd.DataFrame(eth_df_test_scaled, index=eth_df_test.index, columns=eth_df_test.columns)\n",
        "\n",
        "eth_df_30_scaled = pd.DataFrame(eth_df_30_scaled,index =eth_df_30.index,columns=eth_df_30.columns)\n",
        "eth_df_60_scaled = pd.DataFrame(eth_df_60_scaled,index =eth_df_60.index,columns=eth_df_60.columns)\n",
        "eth_df_90_scaled = pd.DataFrame(eth_df_90_scaled,index =eth_df_90.index,columns=eth_df_90.columns)"
      ]
    },
    {
      "cell_type": "code",
      "execution_count": null,
      "metadata": {
        "id": "tTlWC_1MRq94"
      },
      "outputs": [],
      "source": [
        "X_train_scale = eth_df_train_scaled.drop(columns=['Price'])\n",
        "y_train_scale = eth_df_train_scaled['Price']\n",
        "\n",
        "X_test_scale  = eth_df_test_scaled.drop(columns=['Price'])\n",
        "y_test_scale  = eth_df_test_scaled['Price']\n",
        "\n",
        "\n",
        "X_30_scale = eth_df_30_scaled.drop(columns=['Price'])\n",
        "y_30_scale = eth_df_30_scaled['Price']\n",
        "\n",
        "X_60_scale = eth_df_60_scaled.drop(columns=['Price'])\n",
        "y_60_scale = eth_df_60_scaled['Price']\n",
        "\n",
        "X_90_scale = eth_df_90_scaled.drop(columns=['Price'])\n",
        "y_90_scale = eth_df_90_scaled['Price']"
      ]
    },
    {
      "cell_type": "code",
      "execution_count": null,
      "metadata": {
        "colab": {
          "base_uri": "https://localhost:8080/"
        },
        "id": "DQ02g3x76jHU",
        "outputId": "a30cbba2-75b6-436b-a42e-f8c91da91d2c"
      },
      "outputs": [
        {
          "output_type": "stream",
          "name": "stdout",
          "text": [
            "X_train_scale shape:  (1344, 5)\n",
            "y_train_scale shape:  (1344,)\n",
            "\n",
            "X_test_scale shape:  (576, 5)\n",
            "y_test_scale shape:  (576,)\n"
          ]
        }
      ],
      "source": [
        "print('X_train_scale shape: ',X_train_scale.shape)\n",
        "print('y_train_scale shape: ',y_train_scale.shape)\n",
        "print('\\nX_test_scale shape: ',X_test_scale.shape)\n",
        "print('y_test_scale shape: ',y_test_scale.shape)"
      ]
    },
    {
      "cell_type": "markdown",
      "metadata": {
        "id": "H_HQAbf9181X"
      },
      "source": [
        "###ARIMA"
      ]
    },
    {
      "cell_type": "code",
      "execution_count": null,
      "metadata": {
        "id": "4Q2hantC-pvC"
      },
      "outputs": [],
      "source": [
        "from sklearn.metrics import root_mean_squared_error, mean_absolute_error, mean_absolute_percentage_error\n",
        "import numpy as np"
      ]
    },
    {
      "cell_type": "code",
      "execution_count": null,
      "metadata": {
        "colab": {
          "base_uri": "https://localhost:8080/"
        },
        "id": "K2VPq83C1_U1",
        "outputId": "e47e1ec3-097e-410a-ba84-5091857c8710"
      },
      "outputs": [
        {
          "output_type": "execute_result",
          "data": {
            "text/plain": [
              "Date\n",
              "2019-03-01    0.005919\n",
              "2019-03-02    0.005289\n",
              "2019-03-03    0.004917\n",
              "2019-03-04    0.003844\n",
              "2019-03-05    0.006153\n",
              "                ...   \n",
              "2022-10-30    0.315408\n",
              "2022-10-31    0.311668\n",
              "2022-11-01    0.313104\n",
              "2022-11-02    0.300212\n",
              "2022-11-03    0.302773\n",
              "Name: Price, Length: 1344, dtype: float64"
            ]
          },
          "metadata": {},
          "execution_count": 83
        }
      ],
      "source": [
        "y_train_scale"
      ]
    },
    {
      "cell_type": "code",
      "execution_count": null,
      "metadata": {
        "colab": {
          "base_uri": "https://localhost:8080/"
        },
        "id": "BkdUmoZ42COD",
        "outputId": "0cd412c1-189b-4585-b18f-d5f5b2001c35"
      },
      "outputs": [
        {
          "output_type": "stream",
          "name": "stdout",
          "text": [
            "Performing stepwise search to minimize aic\n",
            " ARIMA(1,1,1)(0,0,0)[0] intercept   : AIC=-6777.519, Time=0.99 sec\n",
            " ARIMA(0,1,0)(0,0,0)[0] intercept   : AIC=-6770.584, Time=0.19 sec\n",
            " ARIMA(1,1,0)(0,0,0)[0] intercept   : AIC=-6779.099, Time=0.25 sec\n",
            " ARIMA(0,1,1)(0,0,0)[0] intercept   : AIC=-6778.549, Time=0.26 sec\n",
            " ARIMA(0,1,0)(0,0,0)[0]             : AIC=-6772.410, Time=0.11 sec\n",
            " ARIMA(2,1,0)(0,0,0)[0] intercept   : AIC=-6777.675, Time=1.28 sec\n",
            " ARIMA(2,1,1)(0,0,0)[0] intercept   : AIC=-6775.740, Time=1.99 sec\n",
            " ARIMA(1,1,0)(0,0,0)[0]             : AIC=-6780.891, Time=0.24 sec\n",
            " ARIMA(2,1,0)(0,0,0)[0]             : AIC=-6779.477, Time=0.44 sec\n",
            " ARIMA(1,1,1)(0,0,0)[0]             : AIC=-6779.318, Time=1.06 sec\n",
            " ARIMA(0,1,1)(0,0,0)[0]             : AIC=-6780.340, Time=0.28 sec\n",
            " ARIMA(2,1,1)(0,0,0)[0]             : AIC=-6777.543, Time=0.37 sec\n",
            "\n",
            "Best model:  ARIMA(1,1,0)(0,0,0)[0]          \n",
            "Total fit time: 7.488 seconds\n",
            "                               SARIMAX Results                                \n",
            "==============================================================================\n",
            "Dep. Variable:                      y   No. Observations:                 1344\n",
            "Model:               SARIMAX(1, 1, 0)   Log Likelihood                3392.446\n",
            "Date:                Tue, 18 Jun 2024   AIC                          -6780.891\n",
            "Time:                        06:40:27   BIC                          -6770.486\n",
            "Sample:                    03-01-2019   HQIC                         -6776.994\n",
            "                         - 11-03-2022                                         \n",
            "Covariance Type:                  opg                                         \n",
            "==============================================================================\n",
            "                 coef    std err          z      P>|z|      [0.025      0.975]\n",
            "------------------------------------------------------------------------------\n",
            "ar.L1         -0.0882      0.016     -5.462      0.000      -0.120      -0.057\n",
            "sigma2         0.0004   5.27e-06     71.052      0.000       0.000       0.000\n",
            "===================================================================================\n",
            "Ljung-Box (L1) (Q):                   0.00   Jarque-Bera (JB):             10913.63\n",
            "Prob(Q):                              0.95   Prob(JB):                         0.00\n",
            "Heteroskedasticity (H):             148.67   Skew:                            -0.93\n",
            "Prob(H) (two-sided):                  0.00   Kurtosis:                        16.84\n",
            "===================================================================================\n",
            "\n",
            "Warnings:\n",
            "[1] Covariance matrix calculated using the outer product of gradients (complex-step).\n"
          ]
        }
      ],
      "source": [
        "stepwise_model = auto_arima(y_train_scale, start_p=1, start_q=1,\n",
        "                            max_p=5, max_q=5, m=1,\n",
        "                            start_P=0, seasonal=False,\n",
        "                            d=None, D=0, trace=True,\n",
        "                            error_action='ignore',\n",
        "                            suppress_warnings=True,\n",
        "                            stepwise=True)\n",
        "\n",
        "print(stepwise_model.summary())"
      ]
    },
    {
      "cell_type": "code",
      "execution_count": null,
      "metadata": {
        "colab": {
          "base_uri": "https://localhost:8080/"
        },
        "id": "4ROijo75uDsV",
        "outputId": "306800ed-5dd2-4e91-ffa2-cced7e76e575"
      },
      "outputs": [
        {
          "output_type": "stream",
          "name": "stdout",
          "text": [
            "Test Set MAPE:  0.25990681732592397\n",
            "Test Set MAE:  0.1312304472994049\n",
            "Test Set RMSE:  0.18837812247955266\n"
          ]
        }
      ],
      "source": [
        "y_pred_test_arima = stepwise_model.predict(n_periods=len(X_test_scale))\n",
        "mape_test_arima = mean_absolute_percentage_error(y_test_scale, y_pred_test_arima)\n",
        "mae_test_arima = mean_absolute_error(y_test_scale, y_pred_test_arima)\n",
        "rmse_test_arima = root_mean_squared_error(y_test_scale, y_pred_test_arima)\n",
        "\n",
        "print(\"Test Set MAPE: \", mape_test_arima)\n",
        "print(\"Test Set MAE: \", mae_test_arima)\n",
        "print(\"Test Set RMSE: \", rmse_test_arima)\n"
      ]
    },
    {
      "cell_type": "code",
      "source": [
        "# Chuyển DataFrame thành NumPy array trước khi reshape\n",
        "X_30_arima = X_30_scale.values.reshape((X_30_scale.shape[0], 1, X_30_scale.shape[1]))\n",
        "X_60_arima = X_60_scale.values.reshape((X_60_scale.shape[0], 1, X_60_scale.shape[1]))\n",
        "X_90_arima = X_90_scale.values.reshape((X_90_scale.shape[0], 1, X_90_scale.shape[1]))"
      ],
      "metadata": {
        "id": "d26_uQmOCA6e"
      },
      "execution_count": null,
      "outputs": []
    },
    {
      "cell_type": "code",
      "source": [
        "y_pred_test_arima = stepwise_model.predict(n_periods=len(X_test_scale))\n",
        "pred_30_arima = stepwise_model.predict(n_periods=len(X_30_arima))\n",
        "pred_60_arima = stepwise_model.predict(n_periods=len(X_60_arima))\n",
        "pred_90_arima = stepwise_model.predict(n_periods=len(X_90_arima))"
      ],
      "metadata": {
        "id": "Ccee_qwLCBpC"
      },
      "execution_count": null,
      "outputs": []
    },
    {
      "cell_type": "code",
      "execution_count": null,
      "metadata": {
        "colab": {
          "base_uri": "https://localhost:8080/",
          "height": 478
        },
        "id": "iXpFchj0_pBF",
        "outputId": "118031d0-fce7-4b1d-c300-6b0812ce31a1"
      },
      "outputs": [
        {
          "output_type": "display_data",
          "data": {
            "text/plain": [
              "<Figure size 1200x600 with 1 Axes>"
            ],
            "image/png": "[encoded data removed]"
          },
          "metadata": {}
        }
      ],
      "source": [
        "plt.figure(figsize=(12, 6))\n",
        "plt.plot(pd.DataFrame(y_train_scale).index.to_list(),pd.DataFrame(y_train_scale),color='red',label='Train value')\n",
        "plt.plot(pd.DataFrame(y_test_scale).index.to_list(), pd.DataFrame(y_test_scale), color='blue', label='Test value')\n",
        "plt.plot(pd.DataFrame(y_test_scale).index.to_list(), pd.DataFrame(y_pred_test_arima), color='g', label='Predicted test value')\n",
        "plt.plot(pd.DataFrame(y_30_scale).index.to_list(),pd.DataFrame(pred_30_arima),color='magenta', label='Predicted 30-day value')\n",
        "plt.plot(pd.DataFrame(y_60_scale).index.to_list(), pd.DataFrame(pred_60_arima), color='cyan', label='Predicted 60-day value')\n",
        "plt.plot(pd.DataFrame(y_90_scale).index.to_list(), pd.DataFrame(pred_90_arima), color='brown', label='Predicted 90-day value')\n",
        "plt.title(f\"Running ARIMA on Ethereum with ratio 7:3\")\n",
        "plt.legend()\n",
        "plt.show()"
      ]
    },
    {
      "cell_type": "markdown",
      "metadata": {
        "id": "HFX6oid9f6hH"
      },
      "source": [
        "#RNN"
      ]
    },
    {
      "cell_type": "code",
      "execution_count": null,
      "metadata": {
        "id": "qMaecooLgH_l"
      },
      "outputs": [],
      "source": [
        "df1=eth_df.reset_index()['Price']"
      ]
    },
    {
      "cell_type": "code",
      "execution_count": null,
      "metadata": {
        "id": "ud_rEFo2IwC-"
      },
      "outputs": [],
      "source": [
        "X_train_RNN = X_train_scale.values.reshape((X_train_scale.shape[0], 1, X_train_scale.shape[1]))\n",
        "y_test_RNN = y_test_scale.values\n",
        "\n",
        "X_test_RNN = X_test_scale.values.reshape((X_test_scale.shape[0], 1, X_test_scale.shape[1]))\n",
        "y_train_RNN = y_train_scale.values"
      ]
    },
    {
      "cell_type": "code",
      "execution_count": null,
      "metadata": {
        "id": "mnaySVBoMDr_"
      },
      "outputs": [],
      "source": [
        "X_30_RNN = X_30_scale.values.reshape((X_30_scale.shape[0], 1, X_30_scale.shape[1]))\n",
        "X_60_RNN = X_60_scale.values.reshape((X_60_scale.shape[0], 1, X_60_scale.shape[1]))\n",
        "X_90_RNN = X_90_scale.values.reshape((X_90_scale.shape[0], 1, X_90_scale.shape[1]))"
      ]
    },
    {
      "cell_type": "code",
      "execution_count": null,
      "metadata": {
        "id": "_bXijUguMHyF"
      },
      "outputs": [],
      "source": [
        "def build_RNN_model(input_shape, output_size, neurons=20, activ_func='linear',\n",
        "                     dropout=0.25, loss='mae', optimizer='adam'):\n",
        "    model = Sequential()\n",
        "    model.add(SimpleRNN(50, activation='relu', input_shape=input_shape))\n",
        "    model.add(Dense(units=output_size))\n",
        "    model.add(Activation(activ_func))\n",
        "    model.compile(optimizer='adam', loss='mse')\n",
        "\n",
        "    model.compile(loss =loss, optimizer=optimizer)\n",
        "    return model"
      ]
    },
    {
      "cell_type": "code",
      "execution_count": null,
      "metadata": {
        "id": "yQ6vfSOLMI6f"
      },
      "outputs": [],
      "source": [
        "model_RNN = build_RNN_model((X_train_RNN.shape[1],X_train_RNN.shape[2]), output_size=1, neurons=lstm_neurons, dropout=dropout, loss=loss,\n",
        "    optimizer=optimizer)"
      ]
    },
    {
      "cell_type": "code",
      "execution_count": null,
      "metadata": {
        "id": "iQks1x6dMLq6"
      },
      "outputs": [],
      "source": [
        "history = model_RNN.fit(\n",
        "    X_train_RNN, y_train_RNN, epochs=epochs, batch_size=batch_size, verbose=0, shuffle=True)"
      ]
    },
    {
      "cell_type": "code",
      "execution_count": null,
      "metadata": {
        "id": "fMbsxwm3MOAj"
      },
      "outputs": [],
      "source": [
        "model_RNN.save('model_RNN.h5')"
      ]
    },
    {
      "cell_type": "code",
      "execution_count": null,
      "metadata": {
        "id": "Wou7TMbpMTL6",
        "colab": {
          "base_uri": "https://localhost:8080/"
        },
        "outputId": "ad44e739-78b8-43fb-9a3c-708ec3c80e90"
      },
      "outputs": [
        {
          "output_type": "stream",
          "name": "stdout",
          "text": [
            "18/18 [==============================] - 0s 2ms/step\n",
            "1/1 [==============================] - 0s 231ms/step\n",
            "2/2 [==============================] - 0s 10ms/step\n",
            "3/3 [==============================] - 0s 6ms/step\n"
          ]
        }
      ],
      "source": [
        "pred_test_RNN = model_RNN.predict(X_test_RNN)\n",
        "pred_30_RNN = model_RNN.predict(X_30_RNN)\n",
        "pred_60_RNN = model_RNN.predict(X_60_RNN)\n",
        "pred_90_RNN = model_RNN.predict(X_90_RNN)"
      ]
    },
    {
      "cell_type": "code",
      "execution_count": null,
      "metadata": {
        "id": "YTbLJBxmMVOI",
        "colab": {
          "base_uri": "https://localhost:8080/"
        },
        "outputId": "5feb4c8b-055e-445d-ec43-3b4bff65a5eb"
      },
      "outputs": [
        {
          "output_type": "stream",
          "name": "stdout",
          "text": [
            "Mean Absolute Percentage Error: 0.012289084238652265\n",
            "Mean Absolute Error: 0.004520051886898877\n",
            "Root Mean Squared Error: 0.004770042128503605\n"
          ]
        }
      ],
      "source": [
        "mape = mean_absolute_percentage_error(y_test_RNN, pred_test_RNN)\n",
        "mae = mean_absolute_error(y_test_RNN,pred_test_RNN)\n",
        "rmse = root_mean_squared_error(y_test_RNN, pred_test_RNN)\n",
        "print(f'Mean Absolute Percentage Error: {mape}')\n",
        "print(f'Mean Absolute Error: {mae}')\n",
        "print(f'Root Mean Squared Error: {rmse}')"
      ]
    },
    {
      "cell_type": "code",
      "execution_count": null,
      "metadata": {
        "id": "1j75XFBpNf_5",
        "colab": {
          "base_uri": "https://localhost:8080/"
        },
        "outputId": "2f1b91bd-88d9-4982-b7be-322a6a1cb447"
      },
      "outputs": [
        {
          "output_type": "display_data",
          "data": {
            "text/plain": [
              "<Figure size 1200x600 with 1 Axes>"
            ],
            "image/png": "[encoded data removed]"
          },
          "metadata": {}
        }
      ],
      "source": [
        "plt.figure(figsize=(12, 6))\n",
        "plt.plot(pd.DataFrame(y_train_scale).index.to_list(),pd.DataFrame(y_train_RNN),color='red',label='Train value')\n",
        "plt.plot(pd.DataFrame(y_test_scale).index.to_list(), pd.DataFrame(y_test_RNN), color='blue', label='Test value')\n",
        "plt.plot(pd.DataFrame(y_test_scale).index.to_list(), pd.DataFrame(pred_test_RNN.reshape(-1)), color='green', label='Predicted test value')\n",
        "plt.plot(pd.DataFrame(y_30_scale).index.to_list(), pd.DataFrame(pred_30_RNN.reshape(-1)), color='magenta', label='Predicted 30 day value')\n",
        "plt.plot(pd.DataFrame(y_60_scale).index.to_list(), pd.DataFrame(pred_60_RNN.reshape(-1)), color='cyan', label='Predicted 60 day value')\n",
        "plt.plot(pd.DataFrame(y_90_scale).index.to_list(), pd.DataFrame(pred_90_RNN.reshape(-1)), color='brown', label='Predicted 90 day value')\n",
        "plt.title(\"RNN on Ethereum\")\n",
        "plt.legend()\n",
        "plt.show()"
      ]
    },
    {
      "cell_type": "markdown",
      "metadata": {
        "id": "KUJNe5lJMzkL"
      },
      "source": [
        "####Code mẫu RNN"
      ]
    },
    {
      "cell_type": "code",
      "execution_count": null,
      "metadata": {
        "id": "CqRfwr9RgWSq"
      },
      "outputs": [],
      "source": [
        "# 5. Hàm Create Dataset\n",
        "def create_dataset(dataset, time_step=1):\n",
        "    dataX, dataY = [], []\n",
        "    for i in range(len(dataset) - time_step - 1):\n",
        "        a = dataset[i:(i + time_step), 0]\n",
        "        dataX.append(a)\n",
        "        dataY.append(dataset[i + time_step, 0])\n",
        "    return np.array(dataX), np.array(dataY)"
      ]
    },
    {
      "cell_type": "code",
      "execution_count": null,
      "metadata": {
        "id": "rJAIeUPHgYpF",
        "colab": {
          "base_uri": "https://localhost:8080/"
        },
        "outputId": "b3744973-dff9-4f47-be7e-ad1c6c0719c2"
      },
      "outputs": [
        {
          "output_type": "error",
          "ename": "NameError",
          "evalue": "name 'train_data' is not defined",
          "traceback": [
            "\u001b[0;31m---------------------------------------------------------------------------\u001b[0m",
            "\u001b[0;31mNameError\u001b[0m                                 Traceback (most recent call last)",
            "\u001b[0;32m<ipython-input-60-2640e1b19532>\u001b[0m in \u001b[0;36m<cell line: 3>\u001b[0;34m()\u001b[0m\n\u001b[1;32m      1\u001b[0m \u001b[0;31m# 6. Reshape into X=t,t+1,t+2..t+99 and Y=t+100\u001b[0m\u001b[0;34m\u001b[0m\u001b[0;34m\u001b[0m\u001b[0m\n\u001b[1;32m      2\u001b[0m \u001b[0mtime_step\u001b[0m \u001b[0;34m=\u001b[0m \u001b[0;36m100\u001b[0m\u001b[0;34m\u001b[0m\u001b[0;34m\u001b[0m\u001b[0m\n\u001b[0;32m----> 3\u001b[0;31m \u001b[0mX_train\u001b[0m\u001b[0;34m,\u001b[0m \u001b[0my_train\u001b[0m \u001b[0;34m=\u001b[0m \u001b[0mcreate_dataset\u001b[0m\u001b[0;34m(\u001b[0m\u001b[0mtrain_data\u001b[0m\u001b[0;34m,\u001b[0m \u001b[0mtime_step\u001b[0m\u001b[0;34m)\u001b[0m\u001b[0;34m\u001b[0m\u001b[0;34m\u001b[0m\u001b[0m\n\u001b[0m\u001b[1;32m      4\u001b[0m \u001b[0mX_val\u001b[0m\u001b[0;34m,\u001b[0m \u001b[0myval\u001b[0m \u001b[0;34m=\u001b[0m \u001b[0mcreate_dataset\u001b[0m\u001b[0;34m(\u001b[0m\u001b[0mval_data\u001b[0m\u001b[0;34m,\u001b[0m \u001b[0mtime_step\u001b[0m\u001b[0;34m)\u001b[0m\u001b[0;34m\u001b[0m\u001b[0;34m\u001b[0m\u001b[0m\n\u001b[1;32m      5\u001b[0m \u001b[0mX_test\u001b[0m\u001b[0;34m,\u001b[0m \u001b[0mytest\u001b[0m \u001b[0;34m=\u001b[0m \u001b[0mcreate_dataset\u001b[0m\u001b[0;34m(\u001b[0m\u001b[0mtest_data\u001b[0m\u001b[0;34m,\u001b[0m \u001b[0mtime_step\u001b[0m\u001b[0;34m)\u001b[0m\u001b[0;34m\u001b[0m\u001b[0;34m\u001b[0m\u001b[0m\n",
            "\u001b[0;31mNameError\u001b[0m: name 'train_data' is not defined"
          ]
        }
      ],
      "source": [
        "# 6. Reshape into X=t,t+1,t+2..t+99 and Y=t+100\n",
        "time_step = 100\n",
        "X_train, y_train = create_dataset(train_data, time_step)\n",
        "X_val, yval = create_dataset(val_data, time_step)\n",
        "X_test, ytest = create_dataset(test_data, time_step)"
      ]
    },
    {
      "cell_type": "code",
      "execution_count": null,
      "metadata": {
        "id": "H7N8zC_bgcbR"
      },
      "outputs": [],
      "source": [
        "# 7. Reshape input to be [samples, time steps, features] which is required for LSTM\n",
        "X_train =X_train.reshape(X_train.shape[0],X_train.shape[1] , 1)\n",
        "X_test = X_test.reshape(X_test.shape[0],X_test.shape[1] , 1)\n",
        "X_val = X_val.reshape(X_val.shape[0],X_val.shape[1] , 1)"
      ]
    },
    {
      "cell_type": "code",
      "execution_count": null,
      "metadata": {
        "id": "Q11sVMAdgocO"
      },
      "outputs": [],
      "source": [
        "# 8. Define RNN Model\n",
        "model = Sequential()\n",
        "model.add(SimpleRNN(50, input_shape=(time_step, 1)))\n",
        "model.add(Dense(1))\n",
        "model.compile(loss='mean_squared_error', optimizer='adam')\n",
        "\n",
        "model = Sequential()\n",
        "model.add(SimpleRNN(50, input_shape=(time_step, 1)))\n",
        "model.add(Dense(1))\n",
        "model.compile(loss='mean_squared_error',optimizer='adam')"
      ]
    },
    {
      "cell_type": "code",
      "execution_count": null,
      "metadata": {
        "id": "Ml7F3d30g3Sr"
      },
      "outputs": [],
      "source": [
        "# 9. Fit mô hình với dữ liệu train\n",
        "model.fit(X_train, y_train, validation_data=(X_test, ytest), epochs=100, batch_size=64, verbose=1)"
      ]
    },
    {
      "cell_type": "code",
      "execution_count": null,
      "metadata": {
        "id": "TDEczvhphRd-"
      },
      "outputs": [],
      "source": [
        "# 10. Dự báo dữ liệu test\n",
        "train_predict=model.predict(X_train)\n",
        "y_pred=model.predict(X_test)\n",
        "y_pred_val=model.predict(X_val)"
      ]
    },
    {
      "cell_type": "code",
      "execution_count": null,
      "metadata": {
        "id": "6R19JXz0hUtx"
      },
      "outputs": [],
      "source": [
        "# 11. Chuẩn hóa dữ liệu y_pred\n",
        "train_predict=scaler.inverse_transform(train_predict)\n",
        "y_pred=scaler.inverse_transform(y_pred)\n",
        "y_pred_val=scaler.inverse_transform(y_pred_val)"
      ]
    },
    {
      "cell_type": "code",
      "execution_count": null,
      "metadata": {
        "id": "ZKUAOQJPhYYF"
      },
      "outputs": [],
      "source": [
        "# 12. Đánh giá độ chính xác thuật toán bằng RMSE\n",
        "valid_rmse = np.sqrt(np.mean((y_pred_val - yval)**2))\n",
        "test_rmse = np.sqrt(np.mean((y_pred - ytest)**2))\n",
        "print('Validation RMSE:', valid_rmse)\n",
        "print('Testing RMSE:', test_rmse)"
      ]
    },
    {
      "cell_type": "code",
      "execution_count": null,
      "metadata": {
        "id": "ceETKf--hb1t"
      },
      "outputs": [],
      "source": [
        "# 13. Dự báo 30 ngày tiếp theo\n",
        "x_input = val_data[-100:].reshape(1, -1)\n",
        "x_input.shape\n",
        "\n",
        "temp_input = list(x_input)\n",
        "temp_input = temp_input[0].tolist()\n",
        "\n",
        "lst_output = []\n",
        "n_steps = 100\n",
        "i = 0\n",
        "while i < 30:\n",
        "    if len(temp_input) > 100:\n",
        "        x_input = np.array(temp_input[1:])\n",
        "        x_input = x_input.reshape(1, -1)\n",
        "        x_input = x_input.reshape((1, n_steps, 1))\n",
        "        yhat = model.predict(x_input, verbose=0)\n",
        "        temp_input.extend(yhat[0].tolist())\n",
        "        temp_input = temp_input[1:]\n",
        "        lst_output.extend(yhat.tolist())\n",
        "        i += 1\n",
        "    else:\n",
        "        x_input = x_input.reshape((1, n_steps, 1))\n",
        "        yhat = model.predict(x_input, verbose=0)\n",
        "        temp_input.extend(yhat[0].tolist())\n",
        "        lst_output.extend(yhat.tolist())\n",
        "        i += 1"
      ]
    },
    {
      "cell_type": "code",
      "execution_count": null,
      "metadata": {
        "id": "f-817091fuOQ"
      },
      "outputs": [],
      "source": [
        "# 14.Vẽ hình\n",
        "\n",
        "train_data_index = pd.RangeIndex(start=0, stop=train_size, step=1)\n",
        "plt.plot(scaler.inverse_transform(train_data))\n",
        "test_data_index = pd.RangeIndex(start=train_size, stop=train_size+test_size, step=1)\n",
        "plt.plot(test_data_index,scaler.inverse_transform(test_data))\n",
        "test_data_index = pd.RangeIndex(start=train_size+101, stop=train_size+test_size, step=1)\n",
        "plt.plot(test_data_index,(y_pred))\n",
        "val_data_index = pd.RangeIndex(start=train_size+test_size, stop=train_size+test_size+val_size, step=1)\n",
        "plt.plot(val_data_index,scaler.inverse_transform(val_data))\n",
        "val_data_index = pd.RangeIndex(start=train_size+test_size+101, stop=train_size+test_size+val_size, step=1)\n",
        "plt.plot(val_data_index,y_pred_val)\n",
        "prediect_data_index = pd.RangeIndex(start=len(df1)-1, stop=len(df1)+29, step=1)\n",
        "plt.plot(prediect_data_index,scaler.inverse_transform(lst_output))\n",
        "plt.legend(['Train','Test','Predict','Validate','ValidatePred','Predict30days'])\n",
        "plt.show()"
      ]
    },
    {
      "cell_type": "code",
      "execution_count": null,
      "metadata": {
        "id": "XVZCjx-Shk00"
      },
      "outputs": [],
      "source": [
        "# 14. Vẽ hình\n",
        "plt.plot(scaler.inverse_transform(train_data), label='Train Data')\n",
        "plt.plot(range(train_size, train_size + len(test_data)), scaler.inverse_transform(test_data), label='Test Data')\n",
        "plt.plot(range(train_size + time_step, train_size + time_step + len(y_pred)), y_pred, label='Predicted Test Data')\n",
        "plt.plot(range(len(df1), len(df1) + 30), scaler.inverse_transform(lst_output), label='Predicted Next 30 Days')\n",
        "\n",
        "# Thêm val_data vào biểu đồ\n",
        "plt.plot(range(train_size, train_size + len(val_data)), scaler.inverse_transform(val_data), label='Validation Data')\n",
        "\n",
        "plt.legend()\n",
        "plt.show()\n"
      ]
    },
    {
      "cell_type": "code",
      "execution_count": null,
      "metadata": {
        "id": "-YRE06jgheHr"
      },
      "outputs": [],
      "source": [
        "# 14. Vẽ hình\n",
        "plt.plot(scaler.inverse_transform(train_data), label='Train Data')\n",
        "plt.plot(range(train_size, train_size + len(test_data)), scaler.inverse_transform(test_data), label='Test Data')\n",
        "plt.plot(range(train_size + 100, train_size + 100 + len(y_pred)), y_pred, label='Predicted Test Data')\n",
        "plt.plot(range(len(df1), len(df1) + 30), scaler.inverse_transform(lst_output), label='Predicted Next 30 Days')\n",
        "\n",
        "plt.legend()\n",
        "plt.show()"
      ]
    },
    {
      "cell_type": "code",
      "execution_count": null,
      "metadata": {
        "id": "Dsi4NRFshe-0"
      },
      "outputs": [],
      "source": [
        "# 13. Dự báo 60 ngày tiếp theo\n",
        "x_input = test_data[-100:].reshape(1, -1)\n",
        "x_input.shape\n",
        "\n",
        "temp_input = list(x_input)\n",
        "temp_input = temp_input[0].tolist()\n",
        "\n",
        "lst_output = []\n",
        "n_steps = 100\n",
        "i = 0\n",
        "while i < 60:  # Sửa số lần lặp từ 30 thành 60\n",
        "    if len(temp_input) > 100:\n",
        "        x_input = np.array(temp_input[1:])\n",
        "        x_input = x_input.reshape(1, -1)\n",
        "        x_input = x_input.reshape((1, n_steps, 1))\n",
        "        yhat = model.predict(x_input, verbose=0)\n",
        "        temp_input.extend(yhat[0].tolist())\n",
        "        temp_input = temp_input[1:]\n",
        "        lst_output.extend(yhat.tolist())\n",
        "        i += 1\n",
        "    else:\n",
        "        x_input = x_input.reshape((1, n_steps, 1))\n",
        "        yhat = model.predict(x_input, verbose=0)\n",
        "        temp_input.extend(yhat[0].tolist())\n",
        "        lst_output.extend(yhat.tolist())\n",
        "        i += 1\n",
        "\n",
        "# 14. Vẽ hình\n",
        "plt.plot(scaler.inverse_transform(train_data), label='Train Data')\n",
        "plt.plot(range(train_size, train_size + len(test_data)), scaler.inverse_transform(test_data), label='Test Data')\n",
        "plt.plot(range(train_size + 100, train_size + 100 + len(y_pred)), y_pred, label='Predicted Test Data')\n",
        "plt.plot(range(len(df1), len(df1) + 60), scaler.inverse_transform(lst_output), label='Predicted Next 60 Days')  # Sửa số ngày từ 30 thành 60\n",
        "# Thêm val_data vào biểu đồ\n",
        "plt.plot(range(train_size, train_size + len(val_data)), scaler.inverse_transform(val_data), label='Validation Data')\n",
        "\n",
        "plt.legend()\n",
        "plt.show()\n"
      ]
    },
    {
      "cell_type": "code",
      "execution_count": null,
      "metadata": {
        "id": "sceOlM2jhl7U"
      },
      "outputs": [],
      "source": [
        "# 13. Dự báo 90 ngày tiếp theo\n",
        "x_input = test_data[-100:].reshape(1, -1)\n",
        "x_input.shape\n",
        "\n",
        "temp_input = list(x_input)\n",
        "temp_input = temp_input[0].tolist()\n",
        "\n",
        "lst_output = []\n",
        "n_steps = 100\n",
        "i = 0\n",
        "while i < 90:  # Sửa số lần lặp từ 30 thành 90\n",
        "    if len(temp_input) > 100:\n",
        "        x_input = np.array(temp_input[1:])\n",
        "        x_input = x_input.reshape(1, -1)\n",
        "        x_input = x_input.reshape((1, n_steps, 1))\n",
        "        yhat = model.predict(x_input, verbose=0)\n",
        "        temp_input.extend(yhat[0].tolist())\n",
        "        temp_input = temp_input[1:]\n",
        "        lst_output.extend(yhat.tolist())\n",
        "        i += 1\n",
        "    else:\n",
        "        x_input = x_input.reshape((1, n_steps, 1))\n",
        "        yhat = model.predict(x_input, verbose=0)\n",
        "        temp_input.extend(yhat[0].tolist())\n",
        "        lst_output.extend(yhat.tolist())\n",
        "        i += 1\n",
        "\n",
        "# 14. Vẽ hình\n",
        "plt.plot(scaler.inverse_transform(train_data), label='Train Data')\n",
        "plt.plot(range(train_size, train_size + len(test_data)), scaler.inverse_transform(test_data), label='Test Data')\n",
        "plt.plot(range(train_size + 100, train_size + 100 + len(y_pred)), y_pred, label='Predicted Test Data')\n",
        "plt.plot(range(len(df1), len(df1) + 90), scaler.inverse_transform(lst_output), label='Predicted Next 90 Days')  # Sửa số ngày từ 30 thành 90\n",
        "\n",
        "plt.legend()\n",
        "plt.show()"
      ]
    },
    {
      "cell_type": "code",
      "execution_count": null,
      "metadata": {
        "id": "H1LvLkIvh8Nh"
      },
      "outputs": [],
      "source": []
    },
    {
      "cell_type": "markdown",
      "metadata": {
        "id": "AkV9236-h9E0"
      },
      "source": [
        "###LSTM"
      ]
    },
    {
      "cell_type": "code",
      "execution_count": null,
      "metadata": {
        "id": "XBArluIIOBWB"
      },
      "outputs": [],
      "source": [
        "X_train_LSTM = X_train_scale.values.reshape((X_train_scale.shape[0], 1, X_train_scale.shape[1]))\n",
        "y_test_LSTM  = y_test_scale.values\n",
        "\n",
        "X_test_LSTM  = X_test_scale.values.reshape((X_test_scale.shape[0], 1, X_test_scale.shape[1]))\n",
        "y_train_LSTM  = y_train_scale.values"
      ]
    },
    {
      "cell_type": "code",
      "execution_count": null,
      "metadata": {
        "id": "Sj6jliIuOGbM"
      },
      "outputs": [],
      "source": [
        "X_30_LSTM = X_30_scale.values.reshape((X_30_scale.shape[0], 1, X_30_scale.shape[1]))\n",
        "X_60_LSTM = X_60_scale.values.reshape((X_60_scale.shape[0], 1, X_60_scale.shape[1]))\n",
        "X_90_LSTM = X_90_scale.values.reshape((X_90_scale.shape[0], 1, X_90_scale.shape[1]))"
      ]
    },
    {
      "cell_type": "code",
      "execution_count": null,
      "metadata": {
        "id": "1l3nuHMVOHSy"
      },
      "outputs": [],
      "source": [
        "def build_lstm_model(input_shape, output_size, neurons=20, activ_func='linear',\n",
        "                     dropout=0.25, loss='mae', optimizer='adam'):\n",
        "    model = Sequential()\n",
        "    model.add(LSTM(neurons, input_shape=input_shape))\n",
        "    model.add(Dropout(dropout))\n",
        "    model.add(Dense(units=output_size))\n",
        "    model.add(Activation(activ_func))\n",
        "    model.compile(loss=loss, optimizer=optimizer)\n",
        "    return model"
      ]
    },
    {
      "cell_type": "code",
      "execution_count": null,
      "metadata": {
        "id": "FfO2xzzgOJjL"
      },
      "outputs": [],
      "source": [
        "model_LSTM = build_lstm_model(\n",
        "    (X_train_LSTM.shape[1],X_train_LSTM.shape[2]), output_size=1, neurons=lstm_neurons, dropout=dropout, loss=loss,\n",
        "    optimizer=optimizer)"
      ]
    },
    {
      "cell_type": "code",
      "execution_count": null,
      "metadata": {
        "id": "juwfidIeOLz8"
      },
      "outputs": [],
      "source": [
        "history = model_LSTM.fit(\n",
        "    X_train_LSTM, y_train_LSTM, epochs=epochs, batch_size=batch_size, verbose=0, shuffle=True)"
      ]
    },
    {
      "cell_type": "code",
      "execution_count": null,
      "metadata": {
        "id": "4Tsuum-dONz9"
      },
      "outputs": [],
      "source": [
        "model_LSTM.save('model_LSTM.h5')"
      ]
    },
    {
      "cell_type": "code",
      "execution_count": null,
      "metadata": {
        "id": "0tGG0vSBOQQm"
      },
      "outputs": [],
      "source": [
        "pred_test_LSTM = model_LSTM.predict(X_test_LSTM)\n",
        "pred_30_LSTM = model_LSTM.predict(X_30_RNN)\n",
        "pred_60_LSTM = model_LSTM.predict(X_60_RNN)\n",
        "pred_90_LSTM = model_LSTM.predict(X_90_RNN)"
      ]
    },
    {
      "cell_type": "code",
      "execution_count": null,
      "metadata": {
        "id": "6W16mvMuOTkr"
      },
      "outputs": [],
      "source": [
        "mape = mean_absolute_percentage_error(y_test_LSTM, pred_test_LSTM)\n",
        "mae = mean_absolute_error(y_test_LSTM,pred_test_LSTM)\n",
        "rmse = root_mean_squared_error(y_test_LSTM, pred_test_LSTM)\n",
        "print(f'Mean Absolute Percentage Error: {mape}')\n",
        "print(f'Mean Absolute Error: {mae}')\n",
        "print(f'Root Mean Squared Error: {rmse}')"
      ]
    },
    {
      "cell_type": "code",
      "execution_count": null,
      "metadata": {
        "id": "ImXvBHcXPmEy"
      },
      "outputs": [],
      "source": [
        "plt.figure(figsize=(12, 6))\n",
        "plt.plot(pd.DataFrame(y_train_scale).index.to_list(),pd.DataFrame(y_train_LSTM),color='red',label='Train value')\n",
        "plt.plot(pd.DataFrame(y_test_scale).index.to_list(), pd.DataFrame(y_test_LSTM), color='blue', label='Test value')\n",
        "plt.plot(pd.DataFrame(y_test_scale).index.to_list(), pd.DataFrame(pred_test_LSTM.reshape(-1)), color='green', label='Predicted test value')\n",
        "plt.plot(pd.DataFrame(y_30_scale).index.to_list(), pd.DataFrame(pred_30_LSTM.reshape(-1)), color='magenta', label='Predicted 30 day value')\n",
        "plt.plot(pd.DataFrame(y_60_scale).index.to_list(), pd.DataFrame(pred_60_LSTM.reshape(-1)), color='cyan', label='Predicted 60 day value')\n",
        "plt.plot(pd.DataFrame(y_90_scale).index.to_list(), pd.DataFrame(pred_90_LSTM.reshape(-1)), color='brown', label='Predicted 90 day value')\n",
        "plt.title(\"LSTM on Ethereum 7:3\")\n",
        "plt.legend()\n",
        "plt.show()"
      ]
    },
    {
      "cell_type": "markdown",
      "metadata": {
        "id": "8GFSvGp4N2zH"
      },
      "source": [
        "####Code mẫu LTSM"
      ]
    },
    {
      "cell_type": "code",
      "execution_count": null,
      "metadata": {
        "id": "9DRcQr04iAFa"
      },
      "outputs": [],
      "source": [
        "scaler=MinMaxScaler(feature_range=(0,1))\n",
        "df1=scaler.fit_transform(np.array(df1).reshape(-1,1))"
      ]
    },
    {
      "cell_type": "code",
      "execution_count": null,
      "metadata": {
        "id": "tBDgVNjHICi5"
      },
      "outputs": [],
      "source": [
        "train_size = int(0.6 * len(df1))\n",
        "test_size = int(0.3 * len(df1))\n",
        "val_size = len(df1) - train_size - test_size\n",
        "\n",
        "train_data = df1[:train_size]\n",
        "test_data = df1[train_size:train_size+test_size]\n",
        "val_data = df1[train_size+test_size:]\n",
        "\n",
        "print(\"Train shape:\", train_data.shape)\n",
        "print(\"Test shape:\", test_data.shape)\n",
        "print(\"Validate shape:\", val_data.shape)"
      ]
    },
    {
      "cell_type": "code",
      "execution_count": null,
      "metadata": {
        "id": "DvyPtO3jiIvS"
      },
      "outputs": [],
      "source": [
        "# 5. Hàm Create Dataset\n",
        "def create_dataset(dataset, time_step=1):\n",
        "    dataX, dataY = [], []\n",
        "    for i in range(len(dataset) - time_step - 1):\n",
        "        a = dataset[i:(i + time_step), 0]\n",
        "        dataX.append(a)\n",
        "        dataY.append(dataset[i + time_step, 0])\n",
        "    return np.array(dataX), np.array(dataY)"
      ]
    },
    {
      "cell_type": "code",
      "execution_count": null,
      "metadata": {
        "id": "OKMVdlsSiLqE"
      },
      "outputs": [],
      "source": [
        "# 6. Reshape into X=t,t+1,t+2..t+99 and Y=t+100\n",
        "\n",
        "time_step = 100\n",
        "X_train, y_train = create_dataset(train_data, time_step)\n",
        "X_val, yval = create_dataset(val_data, time_step)\n",
        "X_test, ytest = create_dataset(test_data, time_step)"
      ]
    },
    {
      "cell_type": "code",
      "execution_count": null,
      "metadata": {
        "id": "AjjuiajuiOJX"
      },
      "outputs": [],
      "source": [
        "# 7. Reshape input to be [samples, time steps, features] which is required for LSTM\n",
        "X_train =X_train.reshape(X_train.shape[0],X_train.shape[1] , 1)\n",
        "X_test = X_test.reshape(X_test.shape[0],X_test.shape[1] , 1)\n",
        "X_val = X_val.reshape(X_val.shape[0],X_val.shape[1] , 1)"
      ]
    },
    {
      "cell_type": "code",
      "execution_count": null,
      "metadata": {
        "id": "qofWSNveiQUQ"
      },
      "outputs": [],
      "source": [
        "# 8. Define LSTM Model\n",
        "model = Sequential()\n",
        "model.add(LSTM(50, return_sequences=True, input_shape=(100, 1)))\n",
        "model.add(LSTM(50, return_sequences=True))\n",
        "model.add(LSTM(50))\n",
        "model.add(Dense(1))\n",
        "model.compile(loss='mean_squared_error', optimizer='adam')\n"
      ]
    },
    {
      "cell_type": "code",
      "execution_count": null,
      "metadata": {
        "id": "gwwtlJCMiTg-"
      },
      "outputs": [],
      "source": [
        "# 9. Fit mô hình với dữ liệu train\n",
        "model.fit(X_train,y_train,validation_data=(X_test,ytest),epochs=100,batch_size=64,verbose=1)"
      ]
    },
    {
      "cell_type": "code",
      "execution_count": null,
      "metadata": {
        "id": "zEuD-xCginen"
      },
      "outputs": [],
      "source": [
        "# 10. Dự báo dữ liệu test\n",
        "train_predict=model.predict(X_train)\n",
        "y_pred=model.predict(X_test)\n",
        "y_pred_val=model.predict(X_val)"
      ]
    },
    {
      "cell_type": "code",
      "execution_count": null,
      "metadata": {
        "id": "25uXUBiLiuXK"
      },
      "outputs": [],
      "source": [
        "# 11. Chuẩn hóa dữ liệu y_pred\n",
        "train_predict=scaler.inverse_transform(train_predict)\n",
        "y_pred=scaler.inverse_transform(y_pred)\n",
        "y_pred_val=scaler.inverse_transform(y_pred_val)"
      ]
    },
    {
      "cell_type": "code",
      "execution_count": null,
      "metadata": {
        "id": "61FGJoc3ivik"
      },
      "outputs": [],
      "source": [
        "# 12. Đánh giá độ chính xác thuật toán bằng RMSE\n",
        "\n",
        "\n",
        "valid_rmse = np.sqrt(np.mean((y_pred_val - yval)**2))\n",
        "test_rmse = np.sqrt(np.mean((y_pred - ytest)**2))\n",
        "print('Validation RMSE:', valid_rmse)\n",
        "print('Testing RMSE:', test_rmse)"
      ]
    },
    {
      "cell_type": "code",
      "execution_count": null,
      "metadata": {
        "id": "nz1ZCjXlapLs"
      },
      "outputs": [],
      "source": [
        "# 13. Dự báo 30 ngày tiếp theo\n",
        "n_steps = 100\n",
        "x_input = test_data[-n_steps:].reshape(1, -1)\n",
        "x_input.shape\n",
        "\n",
        "temp_input = list(x_input[0])\n",
        "\n",
        "from numpy import array\n",
        "\n",
        "lst_output = []\n",
        "i = 0\n",
        "while(i < 30):\n",
        "    if(len(temp_input) > 100):\n",
        "        x_input = np.array(temp_input[1:])\n",
        "        x_input = x_input.reshape((1, n_steps, 1))\n",
        "        yhat = model.predict(x_input, verbose=0)\n",
        "        temp_input.extend(yhat[0].tolist())\n",
        "        temp_input = temp_input[1:]\n",
        "        lst_output.extend(yhat.tolist())\n",
        "        i += 1\n",
        "    else:\n",
        "        x_input = x_input.reshape((1, n_steps, 1))\n",
        "        yhat = model.predict(x_input, verbose=0)\n",
        "        temp_input.extend(yhat[0].tolist())\n",
        "        lst_output.extend(yhat.tolist())\n",
        "        i += 1"
      ]
    },
    {
      "cell_type": "code",
      "execution_count": null,
      "metadata": {
        "id": "Z58TrxhebNoG"
      },
      "outputs": [],
      "source": [
        "\n",
        "train_data_index = pd.RangeIndex(start=0, stop=train_size, step=1)\n",
        "plt.plot(scaler.inverse_transform(train_data))\n",
        "test_data_index = pd.RangeIndex(start=train_size, stop=train_size+test_size, step=1)\n",
        "plt.plot(test_data_index,scaler.inverse_transform(test_data))\n",
        "test_data_index = pd.RangeIndex(start=train_size+101, stop=train_size+test_size, step=1)\n",
        "plt.plot(test_data_index,(y_pred))\n",
        "val_data_index = pd.RangeIndex(start=train_size+test_size, stop=train_size+test_size+val_size, step=1)\n",
        "plt.plot(val_data_index,scaler.inverse_transform(val_data))\n",
        "val_data_index = pd.RangeIndex(start=train_size+test_size+101, stop=train_size+test_size+val_size, step=1)\n",
        "plt.plot(val_data_index,y_pred_val)\n",
        "prediect_data_index = pd.RangeIndex(start=len(df1)-1, stop=len(df1)+29, step=1)\n",
        "plt.plot(prediect_data_index,scaler.inverse_transform(lst_output))\n",
        "plt.legend(['Train','Test','Predict','Validate','ValidatePred','Predict30days'])\n",
        "plt.show()"
      ]
    },
    {
      "cell_type": "code",
      "execution_count": null,
      "metadata": {
        "id": "yRDPL-dRi1u4"
      },
      "outputs": [],
      "source": [
        "# 14. Vẽ hình\n",
        "plt.plot(scaler.inverse_transform(train_data), label='Train Data')\n",
        "plt.plot(range(train_size, train_size + len(test_data)), scaler.inverse_transform(test_data), label='Test Data')\n",
        "plt.plot(range(train_size + time_step, train_size + time_step + len(y_pred)), y_pred, label='Predicted Test Data')\n",
        "plt.plot(range(len(df1), len(df1) + 30), scaler.inverse_transform(lst_output), label='Predicted Next 30 Days')\n",
        "\n",
        "plt.legend()\n",
        "plt.show()\n"
      ]
    },
    {
      "cell_type": "code",
      "execution_count": null,
      "metadata": {
        "id": "rbuCbvuZcjtg"
      },
      "outputs": [],
      "source": [
        "# 14. Vẽ hình\n",
        "plt.plot(scaler.inverse_transform(train_data), label='Train Data')\n",
        "plt.plot(range(train_size, train_size + len(test_data)), scaler.inverse_transform(test_data), label='Test Data')\n",
        "plt.plot(range(train_size + time_step, train_size + time_step + len(y_pred)), y_pred, label='Predicted Test Data')\n",
        "plt.plot(range(len(df1), len(df1) + 30), scaler.inverse_transform(lst_output), label='Predicted Next 30 Days')\n",
        "\n",
        "# Thêm val_data vào biểu đồ\n",
        "plt.plot(range(train_size, train_size + len(val_data)), scaler.inverse_transform(val_data), label='Validation Data')\n",
        "\n",
        "plt.legend()\n",
        "plt.show()\n"
      ]
    },
    {
      "cell_type": "code",
      "execution_count": null,
      "metadata": {
        "id": "EwEkgQDrdCvS"
      },
      "outputs": [],
      "source": [
        "# 14. Vẽ hình\n",
        "train_data_index = pd.RangeIndex(start=0, stop=train_size, step=1)\n",
        "plt.plot(scaler.inverse_transform(train_data))\n",
        "test_data_index = pd.RangeIndex(start=train_size, stop=train_size+test_size, step=1)\n",
        "plt.plot(test_data_index,scaler.inverse_transform(test_data))\n",
        "test_data_index = pd.RangeIndex(start=train_size+101, stop=train_size+test_size, step=1)\n",
        "plt.plot(test_data_index,(y_pred))\n",
        "val_data_index = pd.RangeIndex(start=train_size+test_size, stop=train_size+test_size+val_size, step=1)\n",
        "plt.plot(val_data_index,scaler.inverse_transform(val_data))\n",
        "val_data_index = pd.RangeIndex(start=train_size+test_size+101, stop=train_size+test_size+val_size, step=1)\n",
        "plt.plot(val_data_index,y_pred_val)\n",
        "prediect_data_index = pd.RangeIndex(start=len(df1)-1, stop=len(df1)+29, step=1)\n",
        "plt.plot(prediect_data_index,scaler.inverse_transform(lst_output))\n",
        "plt.legend(['Train','Test','Predict','Validate','ValidatePred','Predict30days'])\n",
        "plt.show()"
      ]
    },
    {
      "cell_type": "code",
      "execution_count": null,
      "metadata": {
        "id": "piqk8Mh2dKIA"
      },
      "outputs": [],
      "source": []
    },
    {
      "cell_type": "code",
      "execution_count": null,
      "metadata": {
        "id": "w-xeySspi4Xx"
      },
      "outputs": [],
      "source": [
        "# 13. Dự báo 60 ngày tiếp theo\n",
        "n_steps = 100\n",
        "x_input = test_data[-n_steps:].reshape(1, -1)\n",
        "x_input.shape\n",
        "\n",
        "temp_input = list(x_input[0])\n",
        "\n",
        "from numpy import array\n",
        "\n",
        "lst_output = []\n",
        "i = 0\n",
        "while(i < 60):  # Đổi từ 30 thành 60\n",
        "    if(len(temp_input) > 100):\n",
        "        x_input = np.array(temp_input[1:])\n",
        "        x_input = x_input.reshape((1, n_steps, 1))\n",
        "        yhat = model.predict(x_input, verbose=0)\n",
        "        temp_input.extend(yhat[0].tolist())\n",
        "        temp_input = temp_input[1:]\n",
        "        lst_output.extend(yhat.tolist())\n",
        "        i += 1\n",
        "    else:\n",
        "        x_input = x_input.reshape((1, n_steps, 1))\n",
        "        yhat = model.predict(x_input, verbose=0)\n",
        "        temp_input.extend(yhat[0].tolist())\n",
        "        lst_output.extend(yhat.tolist())\n",
        "        i += 1\n",
        "\n",
        "# 14. Vẽ hình\n",
        "plt.plot(scaler.inverse_transform(train_data), label='Train Data')\n",
        "plt.plot(range(train_size, train_size + len(test_data)), scaler.inverse_transform(test_data), label='Test Data')\n",
        "plt.plot(range(train_size + time_step, train_size + time_step + len(y_pred)), y_pred, label='Predicted Test Data')\n",
        "plt.plot(range(len(df1), len(df1) + 60), scaler.inverse_transform(lst_output), label='Predicted Next 60 Days')\n",
        "\n",
        "plt.legend()\n",
        "plt.show()\n"
      ]
    },
    {
      "cell_type": "code",
      "execution_count": null,
      "metadata": {
        "id": "KfdE42N-i70Y"
      },
      "outputs": [],
      "source": [
        "# 13. Dự báo 90 ngày tiếp theo\n",
        "n_steps = 100\n",
        "x_input = test_data[-n_steps:].reshape(1, -1)\n",
        "x_input.shape\n",
        "\n",
        "temp_input = list(x_input[0])\n",
        "\n",
        "from numpy import array\n",
        "\n",
        "lst_output = []\n",
        "i = 0\n",
        "while(i < 90):  # Đổi từ 60 thành 90\n",
        "    if(len(temp_input) > 100):\n",
        "        x_input = np.array(temp_input[1:])\n",
        "        x_input = x_input.reshape((1, n_steps, 1))\n",
        "        yhat = model.predict(x_input, verbose=0)\n",
        "        temp_input.extend(yhat[0].tolist())\n",
        "        temp_input = temp_input[1:]\n",
        "        lst_output.extend(yhat.tolist())\n",
        "        i += 1\n",
        "    else:\n",
        "        x_input = x_input.reshape((1, n_steps, 1))\n",
        "        yhat = model.predict(x_input, verbose=0)\n",
        "        temp_input.extend(yhat[0].tolist())\n",
        "        lst_output.extend(yhat.tolist())\n",
        "        i += 1\n",
        "\n",
        "# 14. Vẽ hình\n",
        "plt.plot(scaler.inverse_transform(train_data), label='Train Data')\n",
        "plt.plot(range(train_size, train_size + len(test_data)), scaler.inverse_transform(test_data), label='Test Data')\n",
        "plt.plot(range(train_size + time_step, train_size + time_step + len(y_pred)), y_pred, label='Predicted Test Data')\n",
        "plt.plot(range(len(df1), len(df1) + 90), scaler.inverse_transform(lst_output), label='Predicted Next 90 Days')\n",
        "\n",
        "plt.legend()\n",
        "plt.show()"
      ]
    },
    {
      "cell_type": "markdown",
      "metadata": {
        "id": "b2utSPudk82n"
      },
      "source": [
        "## Linear regression"
      ]
    },
    {
      "cell_type": "code",
      "execution_count": null,
      "metadata": {
        "id": "QJaCXZ1J1x_q"
      },
      "outputs": [],
      "source": [
        "import pandas as pd\n",
        "import numpy as np\n",
        "from sklearn import datasets, linear_model\n",
        "from sklearn.linear_model import LinearRegression\n",
        "from sklearn.preprocessing import PolynomialFeatures\n",
        "import statsmodels.api as sm\n",
        "from scipy import stats"
      ]
    },
    {
      "cell_type": "code",
      "execution_count": null,
      "metadata": {
        "id": "LVkEXiCxlbct"
      },
      "outputs": [],
      "source": [
        "from sklearn import datasets, linear_model\n",
        "from sklearn.linear_model import LinearRegression\n",
        "import statsmodels.api as sm\n",
        "from scipy import stats"
      ]
    },
    {
      "cell_type": "code",
      "execution_count": null,
      "metadata": {
        "id": "JGH-Hh58yNqe"
      },
      "outputs": [],
      "source": [
        "X_train_lr = X_train_scale\n",
        "y_train_lr = y_train_scale\n",
        "\n",
        "X_test_lr  = X_test_scale\n",
        "y_test_lr = y_test_scale\n",
        "\n",
        "X_30_lr = X_30_scale\n",
        "X_60_lr = X_60_scale\n",
        "X_90_lr = X_90_scale"
      ]
    },
    {
      "cell_type": "code",
      "execution_count": null,
      "metadata": {
        "id": "o0kH2d2DyRLg"
      },
      "outputs": [],
      "source": [
        "model_LR = LinearRegression()\n",
        "model_LR.fit(X_train_scale, y_train_scale)"
      ]
    },
    {
      "cell_type": "code",
      "execution_count": null,
      "metadata": {
        "id": "LrYelj0yySvx"
      },
      "outputs": [],
      "source": [
        "pred_test_LR = model_LR.predict(X_test_scale)"
      ]
    },
    {
      "cell_type": "code",
      "execution_count": null,
      "metadata": {
        "id": "2gdrTqr8HeN3"
      },
      "outputs": [],
      "source": [
        "pred_30_LR = model_LR.predict(X_30_lr)\n",
        "pred_60_LR = model_LR.predict(X_60_lr)\n",
        "pred_90_LR = model_LR.predict(X_90_lr)"
      ]
    },
    {
      "cell_type": "code",
      "execution_count": null,
      "metadata": {
        "id": "jowJzIX5ycUj"
      },
      "outputs": [],
      "source": [
        "mape = mean_absolute_percentage_error(y_test_scale, pred_test_LR)\n",
        "mae = mean_absolute_error(y_test_scale,pred_test_LR)\n",
        "rmse = root_mean_squared_error(y_test_scale, pred_test_LR)\n",
        "print(f'Mean Absolute Percentage Error: {mape}')\n",
        "print(f'Mean Absolute Error: {mae}')\n",
        "print(f'Root Mean Squared Error: {math.sqrt(rmse)}')"
      ]
    },
    {
      "cell_type": "code",
      "execution_count": null,
      "metadata": {
        "id": "b97nbd4v3JV4"
      },
      "outputs": [],
      "source": [
        "pred_test_LR = model_LR.predict(X_test_scale)\n",
        "pred_30_LR = model_LR.predict(X_30_lr)\n",
        "pred_60_LR = model_LR.predict(X_60_lr)\n",
        "pred_90_LR = model_LR.predict(X_90_lr)"
      ]
    },
    {
      "cell_type": "code",
      "execution_count": null,
      "metadata": {
        "id": "-BJp21wAyogw"
      },
      "outputs": [],
      "source": [
        "plt.figure(figsize=(12, 6))\n",
        "plt.plot(pd.DataFrame(y_train_scale).index.to_list(),pd.DataFrame(y_train_lr),color='red',label='Train value')\n",
        "plt.plot(pd.DataFrame(y_test_scale).index.to_list(), pd.DataFrame(y_test_lr), color='blue', label='Test value')\n",
        "plt.plot(pd.DataFrame(y_test_scale).index.to_list(), pd.DataFrame(pred_test_LR.reshape(-1)), color='green', label='Predicted test value')\n",
        "plt.plot(pd.DataFrame(y_30_scale).index.to_list(),pd.DataFrame(pred_30_LR.reshape(-1)),color='magenta', label='Predicted 30-day value')\n",
        "plt.plot(pd.DataFrame(y_60_scale).index.to_list(), pd.DataFrame(pred_60_LR.reshape(-1)), color='cyan', label='Predicted 60-day value')\n",
        "plt.plot(pd.DataFrame(y_90_scale).index.to_list(), pd.DataFrame(pred_90_LR.reshape(-1)), color='brown', label='Predicted 90-day value')\n",
        "plt.title(\"Linear Regression on Ethereum 7:3\")\n",
        "plt.legend()\n",
        "plt.show()"
      ]
    },
    {
      "cell_type": "markdown",
      "metadata": {
        "id": "iC7uu7reFljl"
      },
      "source": [
        "###GRU"
      ]
    },
    {
      "cell_type": "code",
      "execution_count": null,
      "metadata": {
        "id": "6a57IVxBPdLA"
      },
      "outputs": [],
      "source": [
        "X_train_GRU = X_train_scale.values.reshape((X_train_scale.shape[0], 1, X_train_scale.shape[1]))\n",
        "y_test_GRU = y_test_scale.values\n",
        "\n",
        "X_test_GRU = X_test_scale.values.reshape((X_test_scale.shape[0], 1, X_test_scale.shape[1]))\n",
        "y_train_GRU = y_train_scale.values\n"
      ]
    },
    {
      "cell_type": "code",
      "execution_count": null,
      "metadata": {
        "id": "8YoNOa9HQCqC"
      },
      "outputs": [],
      "source": [
        "X_30_GRU = X_30_scale.values.reshape((X_30_scale.shape[0], 1, X_30_scale.shape[1]))\n",
        "X_60_GRU = X_60_scale.values.reshape((X_60_scale.shape[0], 1, X_60_scale.shape[1]))\n",
        "X_90_GRU = X_90_scale.values.reshape((X_90_scale.shape[0], 1, X_90_scale.shape[1]))"
      ]
    },
    {
      "cell_type": "code",
      "execution_count": null,
      "metadata": {
        "id": "JWKztNiQQE4e"
      },
      "outputs": [],
      "source": [
        "def build_GRU_model(input_shape, output_size, neurons=20, activ_func='linear',\n",
        "                     dropout=0.25, loss='mae', optimizer='adam'):\n",
        "    model = Sequential()\n",
        "\n",
        "    model.add(GRU(neurons,  input_shape=input_shape))\n",
        "    model.add(Dropout(dropout))\n",
        "    model.add(Dense(units=output_size))\n",
        "    model.add(Activation(activ_func))\n",
        "\n",
        "    model.compile(loss=loss, optimizer=optimizer)\n",
        "    return model"
      ]
    },
    {
      "cell_type": "code",
      "execution_count": null,
      "metadata": {
        "id": "HGXjBBVdQHLn"
      },
      "outputs": [],
      "source": [
        "model_GRU = build_GRU_model(\n",
        "    (X_train_GRU.shape[1], X_train_GRU.shape[2]), output_size=1, neurons=lstm_neurons, dropout=dropout, loss=loss,\n",
        "    optimizer=optimizer)"
      ]
    },
    {
      "cell_type": "code",
      "execution_count": null,
      "metadata": {
        "id": "E43w74loQIBi"
      },
      "outputs": [],
      "source": [
        "history = model_GRU.fit(\n",
        "    X_train_GRU, y_train_GRU, epochs=epochs, batch_size=batch_size, verbose=0, shuffle=True)"
      ]
    },
    {
      "cell_type": "code",
      "execution_count": null,
      "metadata": {
        "id": "nIbN8REhQJ7d"
      },
      "outputs": [],
      "source": [
        "model_GRU.save('model_GRU.h5')"
      ]
    },
    {
      "cell_type": "code",
      "execution_count": null,
      "metadata": {
        "id": "0AYgcyiWQMOO"
      },
      "outputs": [],
      "source": [
        "pred_test_GRU = model_GRU.predict(X_test_GRU)\n",
        "pred_30_GRU = model_GRU.predict(X_30_GRU)\n",
        "pred_60_GRU = model_GRU.predict(X_60_GRU)\n",
        "pred_90_GRU = model_GRU.predict(X_90_GRU)"
      ]
    },
    {
      "cell_type": "code",
      "execution_count": null,
      "metadata": {
        "id": "RD4uP0CtQO-L"
      },
      "outputs": [],
      "source": [
        "mape = mean_absolute_percentage_error(y_test_GRU, pred_test_GRU)\n",
        "mae = mean_absolute_error(y_test_GRU,pred_test_GRU)\n",
        "rmse = root_mean_squared_error(y_test_GRU, pred_test_GRU)\n",
        "print(f'Mean Absolute Percentage Error: {mape}')\n",
        "print(f'Mean Absolute Error: {mae}')\n",
        "print(f'Root Mean Squared Error: {rmse}')"
      ]
    },
    {
      "cell_type": "code",
      "execution_count": null,
      "metadata": {
        "id": "p7zv7PshQWG7"
      },
      "outputs": [],
      "source": [
        "plt.figure(figsize=(12, 6))\n",
        "plt.plot(pd.DataFrame(y_train_scale).index.to_list(),pd.DataFrame(y_train_GRU),color='red',label='Train value')\n",
        "plt.plot(pd.DataFrame(y_test_scale).index.to_list(), pd.DataFrame(y_test_GRU), color='blue', label='Test value')\n",
        "plt.plot(pd.DataFrame(y_test_scale).index.to_list(), pd.DataFrame(pred_test_GRU.reshape(-1)), color='green', label='Predicted test value')\n",
        "plt.plot(pd.DataFrame(y_30_scale).index.to_list(), pd.DataFrame(pred_30_GRU.reshape(-1)), color='magenta', label='Predicted 30 day value')\n",
        "plt.plot(pd.DataFrame(y_60_scale).index.to_list(), pd.DataFrame(pred_60_GRU.reshape(-1)), color='cyan', label='Predicted 60 day value')\n",
        "plt.plot(pd.DataFrame(y_90_scale).index.to_list(), pd.DataFrame(pred_90_GRU.reshape(-1)), color='brown', label='Predicted 90 day value')\n",
        "plt.title(\"GRU on Ethereum 7:3\")\n",
        "plt.legend()\n",
        "plt.show()"
      ]
    },
    {
      "cell_type": "markdown",
      "metadata": {
        "id": "spiiDrHiPa4u"
      },
      "source": [
        "####Code mẫu GRU"
      ]
    },
    {
      "cell_type": "code",
      "execution_count": null,
      "metadata": {
        "id": "DNZBPHzMH-33"
      },
      "outputs": [],
      "source": [
        "from keras.layers import Dense, GRU"
      ]
    },
    {
      "cell_type": "code",
      "execution_count": null,
      "metadata": {
        "id": "CrvUh96xFsu9"
      },
      "outputs": [],
      "source": [
        "df1=eth_df.reset_index()['Price']"
      ]
    },
    {
      "cell_type": "code",
      "execution_count": null,
      "metadata": {
        "id": "WOGCOtwPcKhv"
      },
      "outputs": [],
      "source": [
        "X_train_GRU = X_train.reshape((X_train.shape[0], 1, X_train.shape[1]))\n",
        "y_train_GRU = y_train  # Nếu y_train đã là một numpy.ndarray\n",
        "\n",
        "X_test_GRU = X_test.reshape((X_test.shape[0], 1, X_test.shape[1]))\n",
        "y_test_GRU = y_test\n",
        "\n",
        "X_val_GRU = X_train.reshape((X_train.shape[0], 1, X_train.shape[1]))\n",
        "y_val_GRU = yval\n"
      ]
    },
    {
      "cell_type": "code",
      "execution_count": null,
      "metadata": {
        "id": "-fvTar3sfD8v"
      },
      "outputs": [],
      "source": [
        "def build_GRU_model(input_shape, output_size, neurons=20, activ_func='linear',\n",
        "                     dropout=0.25, loss='mae', optimizer='adam'):\n",
        "    model = Sequential()\n",
        "\n",
        "    model.add(GRU(neurons,  input_shape=input_shape))\n",
        "    model.add(Dropout(dropout))\n",
        "    model.add(Dense(units=output_size))\n",
        "    model.add(Activation(activ_func))\n",
        "\n",
        "    model.compile(loss=loss, optimizer=optimizer)\n",
        "    return model"
      ]
    },
    {
      "cell_type": "code",
      "execution_count": null,
      "metadata": {
        "id": "16bYN35jfHZY"
      },
      "outputs": [],
      "source": [
        "model_GRU = build_GRU_model(\n",
        "    (X_train_GRU.shape[1], X_train_GRU.shape[2]), output_size=1, neurons=lstm_neurons, dropout=dropout, loss=loss,\n",
        "    optimizer=optimizer)"
      ]
    },
    {
      "cell_type": "code",
      "execution_count": null,
      "metadata": {
        "id": "SvLYuM-_ftm5"
      },
      "outputs": [],
      "source": [
        "history = model_GRU.fit(\n",
        "    X_train_GRU, y_train_GRU, epochs=epochs, batch_size=batch_size, verbose=0, shuffle=True)"
      ]
    },
    {
      "cell_type": "code",
      "execution_count": null,
      "metadata": {
        "id": "PxcnW47ecRVe"
      },
      "outputs": [],
      "source": [
        "# Xây dựng mô hình GRU\n",
        "model_GRU = Sequential()\n",
        "model_GRU.add(GRU(50, return_sequences=True, input_shape=(1, X_train_GRU.shape[2])))\n",
        "model_GRU.add(GRU(50, return_sequences=False))\n",
        "model_GRU.add(Dense(25))\n",
        "model_GRU.add(Dense(1))\n",
        "\n",
        "# Compile mô hình\n",
        "model_GRU.compile(optimizer='adam', loss='mean_squared_error')\n",
        "\n",
        "# Huấn luyện mô hình\n",
        "history_GRU = model_GRU.fit(X_train_GRU, y_train_GRU, validation_data=(X_val_GRU, y_val_GRU), epochs=100, batch_size=64, verbose=1)"
      ]
    },
    {
      "cell_type": "code",
      "execution_count": null,
      "metadata": {
        "id": "OeWx7VS1FnkO"
      },
      "outputs": [],
      "source": [
        "train_size = int(0.6 * len(df1))\n",
        "test_size = int(0.3 * len(df1))\n",
        "val_size = len(df1) - train_size - test_size\n",
        "\n",
        "train_data = df1[:train_size]\n",
        "test_data = df1[train_size:train_size+test_size]\n",
        "val_data = df1[train_size+test_size:]"
      ]
    },
    {
      "cell_type": "code",
      "execution_count": null,
      "metadata": {
        "id": "ENlPuZmlHsUy"
      },
      "outputs": [],
      "source": [
        "# 5. Hàm Create Dataset\n",
        "import numpy\n",
        "# convert an array of values into a dataset matrix\n",
        "def create_dataset(dataset, time_step=1):\n",
        "\tdataX, dataY = [], []\n",
        "\tfor i in range(len(dataset)-time_step-1):\n",
        "\t\ta = dataset[i:(i+time_step), 0]   ###i=0, X=0,1,2,3-----99   Y=100\n",
        "\t\tdataX.append(a)\n",
        "\t\tdataY.append(dataset[i + time_step, 0])\n",
        "\treturn numpy.array(dataX), numpy.array(dataY)"
      ]
    },
    {
      "cell_type": "code",
      "execution_count": null,
      "metadata": {
        "id": "bU9DRmC_gQUc"
      },
      "outputs": [],
      "source": [
        "import pandas as pd\n",
        "\n",
        "def create_dataset(data, time_step):\n",
        "  \"\"\"\n",
        "  Hàm này tạo bộ dữ liệu chuỗi thời gian từ một DataFrame Pandas.\n",
        "\n",
        "  Args:\n",
        "      data: Một DataFrame Pandas chứa dữ liệu.\n",
        "      time_step: Số bước thời gian để bao gồm trong mỗi mẫu.\n",
        "\n",
        "  Returns:\n",
        "      X: Một DataFrame Pandas chứa các tính năng (dữ liệu dịch chuyển thời gian).\n",
        "      y: Một Series Pandas chứa các giá trị mục tiêu.\n",
        "  \"\"\"\n",
        "\n",
        "  X, y = [], []\n",
        "  for i in range(len(data) - time_step + 1):  # Chỉnh sửa vòng lặp để tránh lỗi\n",
        "    X.append(data.iloc[i:i + time_step])\n",
        "    y.append(data.iloc[i + time_step - 1])  # Chỉnh sửa vị trí lấy giá trị mục tiêu\n",
        "\n",
        "  return pd.DataFrame(X), pd.Series(y)\n",
        "\n",
        "# Dữ liệu mẫu (thay thế bằng dữ liệu thực tế của bạn)\n",
        "data = pd.Series(range(100))  # Tạo một Series mẫu\n",
        "\n",
        "# Tạo bộ dữ liệu chuỗi thời gian với time_step = 49\n",
        "time_step = 49\n",
        "\n",
        "# ... (phần còn lại của mã của bạn để chia dữ liệu và tạo bộ dữ liệu)\n"
      ]
    },
    {
      "cell_type": "code",
      "execution_count": null,
      "metadata": {
        "id": "h2sZfGhvHwgk"
      },
      "outputs": [],
      "source": [
        "#6. Reshape into X=t,t+1,t+2..t+99 and Y=t+100\n",
        "\n",
        "time_step = 49\n",
        "X_train, y_train = create_dataset(train_data, time_step)\n",
        "X_val, yval = create_dataset(val_data, time_step)\n",
        "X_test, ytest = create_dataset(test_data, time_step)"
      ]
    },
    {
      "cell_type": "code",
      "execution_count": null,
      "metadata": {
        "id": "flkMcAS_Hy-K"
      },
      "outputs": [],
      "source": [
        "# 7. Reshape input to be [samples, time steps, features]\n",
        "X_train =X_train.reshape(X_train.shape[0],X_train.shape[1] , 1)\n",
        "X_test = X_test.reshape(X_test.shape[0],X_test.shape[1] , 1)\n",
        "X_val = X_val.reshape(X_val.shape[0],X_val.shape[1] , 1)"
      ]
    },
    {
      "cell_type": "code",
      "execution_count": null,
      "metadata": {
        "id": "SgZ0rH0mH6K6"
      },
      "outputs": [],
      "source": [
        "# 8. Define GRU Model\n",
        "\n",
        "model = Sequential()\n",
        "model.add(GRU(64, input_shape=(time_step, 1)))\n",
        "model.add(Dense(1))\n",
        "model.compile(optimizer='adam', loss='mean_squared_error')"
      ]
    },
    {
      "cell_type": "code",
      "execution_count": null,
      "metadata": {
        "id": "mO5eu5LXIBRF"
      },
      "outputs": [],
      "source": [
        "# 9. Fit mô hình với dữ liệu train\n",
        "model.fit(X_train,y_train,validation_data=(X_test,ytest),epochs=100,batch_size=64,verbose=1)"
      ]
    },
    {
      "cell_type": "code",
      "execution_count": null,
      "metadata": {
        "id": "MIsk0vwUIlqp"
      },
      "outputs": [],
      "source": [
        "# 10. Dự báo dữ liệu test, val\n",
        "train_predict=model.predict(X_train)\n",
        "y_pred=model.predict(X_test)\n",
        "y_pred_val=model.predict(X_val)"
      ]
    },
    {
      "cell_type": "code",
      "execution_count": null,
      "metadata": {
        "id": "qEs_oN8dIsNB"
      },
      "outputs": [],
      "source": [
        "# 11. Chuẩn hóa dữ liệu y_pred, y_pred_val\n",
        "train_predict=scaler.inverse_transform(train_predict)\n",
        "y_pred=scaler.inverse_transform(y_pred)\n",
        "y_pred_val=scaler.inverse_transform(y_pred_val)"
      ]
    },
    {
      "cell_type": "code",
      "execution_count": null,
      "metadata": {
        "id": "1_HT4KXdItQC"
      },
      "outputs": [],
      "source": [
        "# 12. Đánh giá độ chính xác thuật toán bằng RMSE\n",
        "valid_rmse = np.sqrt(np.mean((y_pred_val - yval)**2))\n",
        "test_rmse = np.sqrt(np.mean((y_pred - ytest)**2))\n",
        "print('Validation RMSE:', valid_rmse)\n",
        "print('Testing RMSE:', test_rmse)"
      ]
    },
    {
      "cell_type": "code",
      "execution_count": null,
      "metadata": {
        "id": "pwE45cClIvuC"
      },
      "outputs": [],
      "source": [
        "# 13. Dự báo 30 ngày tiếp theo\n",
        "n_steps = 100\n",
        "x_input = test_data[-n_steps:].reshape(1, -1)\n",
        "x_input.shape\n",
        "\n",
        "temp_input = list(x_input[0])\n",
        "\n",
        "from numpy import array\n",
        "\n",
        "lst_output = []\n",
        "i = 0\n",
        "while(i < 30):\n",
        "    if(len(temp_input) > 100):\n",
        "        x_input = np.array(temp_input[1:])\n",
        "        x_input = x_input.reshape((1, n_steps, 1))\n",
        "        yhat = model.predict(x_input, verbose=0)\n",
        "        temp_input.extend(yhat[0].tolist())\n",
        "        temp_input = temp_input[1:]\n",
        "        lst_output.extend(yhat.tolist())\n",
        "        i += 1\n",
        "    else:\n",
        "        x_input = x_input.reshape((1, n_steps, 1))\n",
        "        yhat = model.predict(x_input, verbose=0)\n",
        "        temp_input.extend(yhat[0].tolist())\n",
        "        lst_output.extend(yhat.tolist())\n",
        "        i += 1"
      ]
    },
    {
      "cell_type": "code",
      "execution_count": null,
      "metadata": {
        "id": "UvpxSrfMJEO1"
      },
      "outputs": [],
      "source": [
        "# 14.Vẽ hình\n",
        "\n",
        "train_data_index = pd.RangeIndex(start=0, stop=train_size, step=1)\n",
        "plt.plot(scaler.inverse_transform(train_data))\n",
        "test_data_index = pd.RangeIndex(start=train_size, stop=train_size+test_size, step=1)\n",
        "plt.plot(test_data_index,scaler.inverse_transform(test_data))\n",
        "test_data_index = pd.RangeIndex(start=train_size+101, stop=train_size+test_size, step=1)\n",
        "plt.plot(test_data_index,(y_pred))\n",
        "val_data_index = pd.RangeIndex(start=train_size+test_size, stop=train_size+test_size+val_size, step=1)\n",
        "plt.plot(val_data_index,scaler.inverse_transform(val_data))\n",
        "val_data_index = pd.RangeIndex(start=train_size+test_size+101, stop=train_size+test_size+val_size, step=1)\n",
        "plt.plot(val_data_index,y_pred_val)\n",
        "prediect_data_index = pd.RangeIndex(start=len(df1)-1, stop=len(df1)+29, step=1)\n",
        "plt.plot(prediect_data_index,scaler.inverse_transform(lst_output))\n",
        "plt.legend(['Train','Test','Predict','Validate','ValidatePred','Predict30days'])\n",
        "plt.show()"
      ]
    },
    {
      "cell_type": "markdown",
      "metadata": {
        "id": "cKwUP-4ociRl"
      },
      "source": [
        "###SARIMAX"
      ]
    },
    {
      "cell_type": "code",
      "execution_count": null,
      "metadata": {
        "id": "qbutaZsyaff7"
      },
      "outputs": [],
      "source": [
        "from datetime import datetime\n",
        "import numpy as np\n",
        "import pandas as pd\n",
        "import matplotlib.pylab as plt\n",
        "%matplotlib inline\n",
        "from matplotlib.pylab import rcParams\n",
        "\n",
        "from statsmodels.tsa.stattools import adfuller\n",
        "!pip install pmdarima -q\n",
        "import pmdarima as pm\n",
        "from statsmodels.tsa.seasonal import seasonal_decompose\n",
        "import statsmodels.api as sm\n"
      ]
    },
    {
      "cell_type": "code",
      "execution_count": null,
      "metadata": {
        "id": "cRooAMwpGxLz"
      },
      "outputs": [],
      "source": [
        "result = seasonal_decompose(eth_df['Price'], model='multiplicative', period=12)\n",
        "trend = result.trend.dropna()\n",
        "seasonal = result.seasonal.dropna()\n",
        "residual = result.resid.dropna()\n",
        "\n",
        "# Plot the decomposed components\n",
        "plt.figure(figsize=(12,6))\n",
        "\n",
        "plt.subplot(4, 1, 1)\n",
        "plt.plot(eth_df['Price'], label='Original Series')\n",
        "plt.legend()\n",
        "\n",
        "plt.subplot(4, 1, 2)\n",
        "plt.plot(trend, label='Trend')\n",
        "plt.legend()\n",
        "\n",
        "plt.subplot(4, 1, 3)\n",
        "plt.plot(seasonal, label='Seasonal')\n",
        "plt.legend()\n",
        "\n",
        "plt.subplot(4, 1, 4)\n",
        "plt.plot(residual, label='Residuals')\n",
        "plt.legend()\n",
        "\n",
        "plt.tight_layout()\n",
        "plt.show()\n"
      ]
    },
    {
      "cell_type": "code",
      "execution_count": null,
      "metadata": {
        "id": "ju0_BsmOA_3u"
      },
      "outputs": [],
      "source": [
        "y_train_scale"
      ]
    },
    {
      "cell_type": "code",
      "execution_count": null,
      "metadata": {
        "id": "n495RgoXA8p2"
      },
      "outputs": [],
      "source": [
        "#Model Fitting\n",
        "SARIMAX_model = pm.auto_arima( y_train_scale,\n",
        "\t\t\t\t\t\tstart_p=1, start_q=1,\n",
        "\t\t\t\t\t\tmax_p=3, max_q=3, m=12,\n",
        "\t\t\t\t\t\tstart_P=0, seasonal=True,\n",
        "\t\t\t\t\t\td=None, D=1,\n",
        "\t\t\t\t\t\ttrace=False,\n",
        "\t\t\t\t\t\terror_action='ignore',\n",
        "\t\t\t\t\t\tsuppress_warnings=True,\n",
        "\t\t\t\t\t\tstepwise=True)\n"
      ]
    },
    {
      "cell_type": "code",
      "execution_count": null,
      "metadata": {
        "id": "JVWz-3TNFx4x"
      },
      "outputs": [],
      "source": [
        "print(SARIMAX_model.summary())"
      ]
    },
    {
      "cell_type": "code",
      "execution_count": null,
      "metadata": {
        "id": "3ljyrerJiU8S"
      },
      "outputs": [],
      "source": [
        "X_train_SARIMAX = X_train_scale.values.reshape((X_train_scale.shape[0], 1, X_train_scale.shape[1]))\n",
        "y_test_SARIMAX  = y_test_scale.values\n",
        "\n",
        "X_test_SARIMAX  = X_test_scale.values.reshape((X_test_scale.shape[0], 1, X_test_scale.shape[1]))\n",
        "y_train_SARIMAX  = y_train_scale.values"
      ]
    },
    {
      "cell_type": "code",
      "execution_count": null,
      "metadata": {
        "id": "5-WvgDI6i7bc"
      },
      "outputs": [],
      "source": [
        "X_30_SARIMAX = X_30_scale.values.reshape((X_30_scale.shape[0], 1, X_30_scale.shape[1]))\n",
        "X_60_SARIMAX = X_60_scale.values.reshape((X_60_scale.shape[0], 1, X_60_scale.shape[1]))\n",
        "X_90_SARIMAX = X_90_scale.values.reshape((X_90_scale.shape[0], 1, X_90_scale.shape[1]))"
      ]
    },
    {
      "cell_type": "code",
      "source": [
        "X_train_SARIMAX = X_train_scale\n",
        "y_train_SARIMAX = y_train_scale\n",
        "\n",
        "X_test_SARIMAX  = X_test_scale\n",
        "y_test_SARIMAX = y_test_scale"
      ],
      "metadata": {
        "id": "3zTnaXsXBGFf"
      },
      "execution_count": null,
      "outputs": []
    },
    {
      "cell_type": "code",
      "source": [
        "SARIMAX_model.fit(y_train_scale, X_train_scale)"
      ],
      "metadata": {
        "id": "3nbhh3PCBuxT"
      },
      "execution_count": null,
      "outputs": []
    },
    {
      "cell_type": "code",
      "source": [],
      "metadata": {
        "id": "e6N0jyPfyxgu"
      },
      "execution_count": null,
      "outputs": []
    },
    {
      "cell_type": "code",
      "source": [
        "X_train_scale = eth_df_train_scaled.drop(columns=['Price'])\n",
        "y_train_scale = eth_df_train_scaled['Price']\n",
        "\n",
        "X_test_scale  = eth_df_train_scaled.drop(columns=['Price'])\n",
        "y_test_scale  = eth_df_train_scaled['Price']\n",
        "\n",
        "\n",
        "\n"
      ],
      "metadata": {
        "id": "yq8iTlmMyxPn"
      },
      "execution_count": null,
      "outputs": []
    },
    {
      "cell_type": "code",
      "source": [
        "X_30_scale = eth_df_30_scaled.drop(columns=['Price'])\n",
        "y_30_scale = eth_df_30_scaled['Price']\n",
        "\n",
        "X_60_scale = eth_df_60_scaled.drop(columns=['Price'])\n",
        "y_60_scale = eth_df_60_scaled['Price']\n",
        "\n",
        "X_90_scale = eth_df_60_scaled.drop(columns=['Price'])\n",
        "y_90_scale = eth_df_60_scaled['Price']"
      ],
      "metadata": {
        "id": "-Up9AcbjzM_h"
      },
      "execution_count": null,
      "outputs": []
    },
    {
      "cell_type": "code",
      "source": [
        "X_train_SARIMAX = X_train_scale\n",
        "y_train_SARIMAX = y_train_scale\n",
        "\n",
        "X_test_SARIMAX  = X_test_scale\n",
        "y_test_SARIMAX = y_test_scale\n",
        "\n",
        "\n",
        "X_30_SARIMAX = X_30_scale\n",
        "X_60_SARIMAX = X_60_scale\n",
        "X_90_SARIMAX = X_90_scale"
      ],
      "metadata": {
        "id": "9xQhGE8jyIbu"
      },
      "execution_count": null,
      "outputs": []
    },
    {
      "cell_type": "code",
      "source": [
        "y_pred_test_Sarimax = SARIMAX_model.predict(n_periods=len(X_test_SARIMAX))\n",
        "mape_test_Sarimax = mean_absolute_percentage_error(y_test_SARIMAX, y_pred_test_Sarimax)\n",
        "mae_test_Sarimax = mean_absolute_error(y_test_SARIMAX, y_pred_test_Sarimax)\n",
        "rmse_test_Sarimax = root_mean_squared_error(y_test_SARIMAX, y_pred_test_Sarimax)\n",
        "\n",
        "print(\"Test Set MAPE: \", mape_test_Sarimax)\n",
        "print(\"Test Set MAE: \", mae_test_Sarimax)\n",
        "print(\"Test Set RMSE: \", rmse_test_Sarimax)"
      ],
      "metadata": {
        "id": "XudqUsoY07eG"
      },
      "execution_count": null,
      "outputs": []
    },
    {
      "cell_type": "code",
      "source": [
        "pred_test_SARIMAX = SARIMAX_model.predict(X_test_scale)\n",
        "\n",
        "pred_30_SARIMAX = SARIMAX_model.predict(X_30_SARIMAX)\n",
        "pred_60_SARIMAX = SARIMAX_model.predict(X_60_SARIMAX)\n",
        "pred_90_SARIMAX = SARIMAX_model.predict(X_90_SARIMAX)"
      ],
      "metadata": {
        "id": "qma5Y1CmxF0_"
      },
      "execution_count": null,
      "outputs": []
    },
    {
      "cell_type": "code",
      "execution_count": null,
      "metadata": {
        "id": "SA6eK1ValTJH"
      },
      "outputs": [],
      "source": [
        "plt.figure(figsize=(12, 6))\n",
        "plt.plot(pd.DataFrame(y_train_scale).index.to_list(),pd.DataFrame(y_train_SARIMAX),color='red',label='Train value')\n",
        "plt.plot(pd.DataFrame(y_test_scale).index.to_list(), pd.DataFrame(y_test_SARIMAX), color='blue', label='Test value')\n",
        "plt.plot(pd.DataFrame(y_test_scale).index.to_list(), pd.DataFrame(pred_test_SARIMAX.reshape(-1)), color='green', label='Predicted test value')\n",
        "plt.plot(pd.DataFrame(y_30_scale).index.to_list(), pd.DataFrame(pred_30_SARIMAX.reshape(-1)), color='magenta', label='Predicted 30 day value')\n",
        "plt.plot(pd.DataFrame(y_60_scale).index.to_list(), pd.DataFrame(pred_60_SARIMAX.reshape(-1)), color='cyan', label='Predicted 60 day value')\n",
        "plt.plot(pd.DataFrame(y_90_scale).index.to_list(), pd.DataFrame(pred_90_SARIMAX.reshape(-1)), color='brown', label='Predicted 90 day value')\n",
        "plt.title(\"SARIMAX on ETH\")\n",
        "plt.legend()\n",
        "plt.show()"
      ]
    },
    {
      "cell_type": "markdown",
      "metadata": {
        "id": "yOVevcmFaTTz"
      },
      "source": [
        "###Draft"
      ]
    },
    {
      "cell_type": "code",
      "execution_count": null,
      "metadata": {
        "id": "Y0B5ZJaMkp0Y"
      },
      "outputs": [],
      "source": [
        "SARIMAX_model = build_SARIMAX_model(y_train_SARIMAX)\n",
        "results = SARIMAX_model.fit()\n"
      ]
    },
    {
      "cell_type": "code",
      "execution_count": null,
      "metadata": {
        "id": "Mi9Aw3fQjYPx"
      },
      "outputs": [],
      "source": [
        "import statsmodels.api as sm\n",
        "\n",
        "def build_SARIMAX_model(y_train, order=(1, 1, 1), seasonal_order=(1, 1, 1, 12), trend='c'):\n",
        "    model = sm.tsa.statespace.SARIMAX(y_train_SARIMAX,\n",
        "                                       order=order,\n",
        "                                       seasonal_order=seasonal_order,\n",
        "                                       trend=trend,\n",
        "                                       enforce_stationarity=False,\n",
        "                                       enforce_invertibility=False)\n",
        "    return model\n"
      ]
    },
    {
      "cell_type": "code",
      "execution_count": null,
      "metadata": {
        "id": "2Oa7ZCaU95j3"
      },
      "outputs": [],
      "source": [
        "from statsmodels.tsa.seasonal import seasonal_decompose\n",
        "decompose_data = seasonal_decompose(data, model=\"additive\")\n",
        "decompose_data.plot();"
      ]
    },
    {
      "cell_type": "code",
      "execution_count": null,
      "metadata": {
        "id": "cKCccSu-HaYI"
      },
      "outputs": [],
      "source": [
        "from statsmodels.tsa.seasonal import seasonal_decompose\n",
        "decompose_data = seasonal_decompose(eth_df, model=\"additive\")\n",
        "decompose_data.plot();"
      ]
    },
    {
      "cell_type": "code",
      "execution_count": null,
      "metadata": {
        "id": "LCJz1QsIvYmR"
      },
      "outputs": [],
      "source": [
        "\n",
        "eth_df['Year'] = eth_df.index.year\n",
        "eth_df['Month'] = eth_df.index.month\n",
        "eth_df['Day'] = eth_df.index.day\n",
        "eth_df"
      ]
    },
    {
      "cell_type": "code",
      "execution_count": null,
      "metadata": {
        "id": "O0MjflxYcm_r"
      },
      "outputs": [],
      "source": [
        "# Format \"Date\" column\n",
        "eth_df['Date'] = pd.to_datetime(eth_df['Date'], format='%m/%d/%Y')"
      ]
    },
    {
      "cell_type": "code",
      "execution_count": null,
      "metadata": {
        "id": "Oq_WzkwBOxf8"
      },
      "outputs": [],
      "source": [
        "plt.figure(figsize=(8, 6))\n",
        "sns.histplot(eth_df['Date'], bins=20, kde=True)\n",
        "plt.title('Histogram of Ethereum Prices')\n",
        "plt.xlabel('Date')\n",
        "plt.ylabel('Price')\n",
        "plt.grid(True)\n",
        "plt.show()"
      ]
    },
    {
      "cell_type": "code",
      "execution_count": null,
      "metadata": {
        "id": "TveqvhsQMO2N"
      },
      "outputs": [],
      "source": [
        "new_df=eth_df.drop[['Price', 'Change %']]\n",
        "X =new_df.drop(['Price'],axis = 1)\n",
        "y = new_df['Change %']"
      ]
    },
    {
      "cell_type": "code",
      "execution_count": null,
      "metadata": {
        "id": "s7J4jZGARZAy"
      },
      "outputs": [],
      "source": [
        "print('x_scale.shape: ',x_scale.shape)\n",
        "print('y_scale.shape: ',y_scale.shape)"
      ]
    },
    {
      "cell_type": "code",
      "execution_count": null,
      "metadata": {
        "id": "flA1SwfDPR6Q"
      },
      "outputs": [],
      "source": [
        "x_train, y_train, x_test, y_test = train_test_split(x_scale, y_scale, 0.2, 10)\n",
        "print('X_train.shape: ', X_train.shape)\n",
        "print('y_train.shape: ',y_train.shape)\n",
        "print('X_test.shape: ',X_test.shape)\n",
        "print('y_test.shape: ',y_test.shape)"
      ]
    }
  ],
  "metadata": {
    "colab": {
      "collapsed_sections": [
        "KUJNe5lJMzkL",
        "8GFSvGp4N2zH",
        "spiiDrHiPa4u"
      ],
      "provenance": []
    },
    "kernelspec": {
      "display_name": "Python 3",
      "name": "python3"
    },
    "language_info": {
      "name": "python"
    }
  },
  "nbformat": 4,
  "nbformat_minor": 0
}