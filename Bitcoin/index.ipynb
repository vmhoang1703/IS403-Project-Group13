{
 "cells": [
  {
   "cell_type": "code",
   "execution_count": 61,
   "metadata": {},
   "outputs": [
    {
     "ename": "ImportError",
     "evalue": "cannot import name 'root_mean_squared_error' from 'sklearn.metrics' (d:\\USER\\anaconda3\\envs\\e4_jupyter_notebook_assignment\\lib\\site-packages\\sklearn\\metrics\\__init__.py)",
     "output_type": "error",
     "traceback": [
      "\u001b[1;31m---------------------------------------------------------------------------\u001b[0m",
      "\u001b[1;31mImportError\u001b[0m                               Traceback (most recent call last)",
      "Cell \u001b[1;32mIn[61], line 10\u001b[0m\n\u001b[0;32m      8\u001b[0m \u001b[38;5;28;01mfrom\u001b[39;00m \u001b[38;5;21;01msklearn\u001b[39;00m\u001b[38;5;21;01m.\u001b[39;00m\u001b[38;5;21;01mmetrics\u001b[39;00m \u001b[38;5;28;01mimport\u001b[39;00m mean_absolute_error\n\u001b[0;32m      9\u001b[0m \u001b[38;5;28;01mfrom\u001b[39;00m \u001b[38;5;21;01msklearn\u001b[39;00m\u001b[38;5;21;01m.\u001b[39;00m\u001b[38;5;21;01mmetrics\u001b[39;00m \u001b[38;5;28;01mimport\u001b[39;00m mean_absolute_percentage_error\n\u001b[1;32m---> 10\u001b[0m \u001b[38;5;28;01mfrom\u001b[39;00m \u001b[38;5;21;01msklearn\u001b[39;00m\u001b[38;5;21;01m.\u001b[39;00m\u001b[38;5;21;01mmetrics\u001b[39;00m \u001b[38;5;28;01mimport\u001b[39;00m root_mean_squared_error\n\u001b[0;32m     11\u001b[0m \u001b[38;5;28;01mfrom\u001b[39;00m \u001b[38;5;21;01msklearn\u001b[39;00m\u001b[38;5;21;01m.\u001b[39;00m\u001b[38;5;21;01mlinear_model\u001b[39;00m \u001b[38;5;28;01mimport\u001b[39;00m LinearRegression\n\u001b[0;32m     12\u001b[0m \u001b[38;5;28;01mfrom\u001b[39;00m \u001b[38;5;21;01msklearn\u001b[39;00m\u001b[38;5;21;01m.\u001b[39;00m\u001b[38;5;21;01mneural_network\u001b[39;00m \u001b[38;5;28;01mimport\u001b[39;00m MLPClassifier\n",
      "\u001b[1;31mImportError\u001b[0m: cannot import name 'root_mean_squared_error' from 'sklearn.metrics' (d:\\USER\\anaconda3\\envs\\e4_jupyter_notebook_assignment\\lib\\site-packages\\sklearn\\metrics\\__init__.py)"
     ]
    }
   ],
   "source": [
    "import numpy as np\n",
    "import pandas as pd\n",
    "import matplotlib.pyplot as plt\n",
    "import math\n",
    "\n",
    "from sklearn.preprocessing import MinMaxScaler\n",
    "from sklearn.metrics import mean_squared_error\n",
    "from sklearn.metrics import mean_absolute_error\n",
    "from sklearn.metrics import mean_absolute_percentage_error\n",
    "from sklearn.linear_model import LinearRegression\n",
    "from sklearn.neural_network import MLPClassifier\n",
    "\n",
    "from keras.models import Sequential\n",
    "from keras.layers import Dense\n",
    "from keras.layers import LSTM\n",
    "from keras.layers import RNN\n",
    "from keras.layers import GRU\n",
    "from keras.layers import Dropout\n",
    "from keras.layers import Activation\n",
    "\n",
    "from statsmodels.tsa.arima.model import ARIMA\n",
    "from scipy.stats import skew, kurtosis\n",
    "\n",
    "from tensorflow.keras.datasets import imdb\n",
    "from tensorflow.keras.models import Sequential\n",
    "from tensorflow.keras.layers import SimpleRNN, Embedding, Dense, GRU\n",
    "from tensorflow.keras.preprocessing import sequence"
   ]
  },
  {
   "cell_type": "markdown",
   "metadata": {},
   "source": [
    "### Read data ###"
   ]
  },
  {
   "cell_type": "code",
   "execution_count": 4,
   "metadata": {},
   "outputs": [],
   "source": [
    "df = pd.read_csv('./BTC-USD.csv')"
   ]
  },
  {
   "cell_type": "code",
   "execution_count": 5,
   "metadata": {},
   "outputs": [
    {
     "data": {
      "text/html": [
       "<div>\n",
       "<style scoped>\n",
       "    .dataframe tbody tr th:only-of-type {\n",
       "        vertical-align: middle;\n",
       "    }\n",
       "\n",
       "    .dataframe tbody tr th {\n",
       "        vertical-align: top;\n",
       "    }\n",
       "\n",
       "    .dataframe thead th {\n",
       "        text-align: right;\n",
       "    }\n",
       "</style>\n",
       "<table border=\"1\" class=\"dataframe\">\n",
       "  <thead>\n",
       "    <tr style=\"text-align: right;\">\n",
       "      <th></th>\n",
       "      <th>Date</th>\n",
       "      <th>Open</th>\n",
       "      <th>High</th>\n",
       "      <th>Low</th>\n",
       "      <th>Close</th>\n",
       "      <th>Adj Close</th>\n",
       "      <th>Volume</th>\n",
       "    </tr>\n",
       "  </thead>\n",
       "  <tbody>\n",
       "    <tr>\n",
       "      <th>0</th>\n",
       "      <td>2019-03-01</td>\n",
       "      <td>3853.757080</td>\n",
       "      <td>3907.795410</td>\n",
       "      <td>3851.692383</td>\n",
       "      <td>3859.583740</td>\n",
       "      <td>3859.583740</td>\n",
       "      <td>7661247975</td>\n",
       "    </tr>\n",
       "    <tr>\n",
       "      <th>1</th>\n",
       "      <td>2019-03-02</td>\n",
       "      <td>3855.318115</td>\n",
       "      <td>3874.607422</td>\n",
       "      <td>3832.127930</td>\n",
       "      <td>3864.415039</td>\n",
       "      <td>3864.415039</td>\n",
       "      <td>7578786076</td>\n",
       "    </tr>\n",
       "    <tr>\n",
       "      <th>2</th>\n",
       "      <td>2019-03-03</td>\n",
       "      <td>3862.266113</td>\n",
       "      <td>3875.483643</td>\n",
       "      <td>3836.905762</td>\n",
       "      <td>3847.175781</td>\n",
       "      <td>3847.175781</td>\n",
       "      <td>7253558152</td>\n",
       "    </tr>\n",
       "    <tr>\n",
       "      <th>3</th>\n",
       "      <td>2019-03-04</td>\n",
       "      <td>3845.091553</td>\n",
       "      <td>3867.381836</td>\n",
       "      <td>3733.749756</td>\n",
       "      <td>3761.557129</td>\n",
       "      <td>3761.557129</td>\n",
       "      <td>9029175788</td>\n",
       "    </tr>\n",
       "    <tr>\n",
       "      <th>4</th>\n",
       "      <td>2019-03-05</td>\n",
       "      <td>3759.832520</td>\n",
       "      <td>3903.916748</td>\n",
       "      <td>3745.183105</td>\n",
       "      <td>3896.375000</td>\n",
       "      <td>3896.375000</td>\n",
       "      <td>10174126415</td>\n",
       "    </tr>\n",
       "  </tbody>\n",
       "</table>\n",
       "</div>"
      ],
      "text/plain": [
       "         Date         Open         High          Low        Close  \\\n",
       "0  2019-03-01  3853.757080  3907.795410  3851.692383  3859.583740   \n",
       "1  2019-03-02  3855.318115  3874.607422  3832.127930  3864.415039   \n",
       "2  2019-03-03  3862.266113  3875.483643  3836.905762  3847.175781   \n",
       "3  2019-03-04  3845.091553  3867.381836  3733.749756  3761.557129   \n",
       "4  2019-03-05  3759.832520  3903.916748  3745.183105  3896.375000   \n",
       "\n",
       "     Adj Close       Volume  \n",
       "0  3859.583740   7661247975  \n",
       "1  3864.415039   7578786076  \n",
       "2  3847.175781   7253558152  \n",
       "3  3761.557129   9029175788  \n",
       "4  3896.375000  10174126415  "
      ]
     },
     "execution_count": 5,
     "metadata": {},
     "output_type": "execute_result"
    }
   ],
   "source": [
    "df.head()"
   ]
  },
  {
   "cell_type": "code",
   "execution_count": 6,
   "metadata": {},
   "outputs": [
    {
     "name": "stdout",
     "output_type": "stream",
     "text": [
      "<class 'pandas.core.frame.DataFrame'>\n",
      "RangeIndex: 1909 entries, 0 to 1908\n",
      "Data columns (total 7 columns):\n",
      " #   Column     Non-Null Count  Dtype  \n",
      "---  ------     --------------  -----  \n",
      " 0   Date       1909 non-null   object \n",
      " 1   Open       1909 non-null   float64\n",
      " 2   High       1909 non-null   float64\n",
      " 3   Low        1909 non-null   float64\n",
      " 4   Close      1909 non-null   float64\n",
      " 5   Adj Close  1909 non-null   float64\n",
      " 6   Volume     1909 non-null   int64  \n",
      "dtypes: float64(5), int64(1), object(1)\n",
      "memory usage: 104.5+ KB\n"
     ]
    }
   ],
   "source": [
    "df.info()"
   ]
  },
  {
   "cell_type": "code",
   "execution_count": 7,
   "metadata": {},
   "outputs": [
    {
     "data": {
      "text/plain": [
       "(1909, 7)"
      ]
     },
     "execution_count": 7,
     "metadata": {},
     "output_type": "execute_result"
    }
   ],
   "source": [
    "df.shape"
   ]
  },
  {
   "cell_type": "code",
   "execution_count": 8,
   "metadata": {},
   "outputs": [],
   "source": [
    "df['Date'] = pd.to_datetime(df['Date'])\n",
    "df.reset_index(drop=True)\n",
    "df.set_index('Date', inplace=True)"
   ]
  },
  {
   "cell_type": "markdown",
   "metadata": {},
   "source": [
    "### Descriptive statistc ###"
   ]
  },
  {
   "cell_type": "code",
   "execution_count": 9,
   "metadata": {},
   "outputs": [
    {
     "data": {
      "image/png": "[encoded data removed]",
      "text/plain": [
       "<Figure size 640x480 with 1 Axes>"
      ]
     },
     "metadata": {},
     "output_type": "display_data"
    }
   ],
   "source": [
    "plt.figure()\n",
    "plt.plot(df[\"Close\"], color='red')\n",
    "plt.show()"
   ]
  },
  {
   "cell_type": "code",
   "execution_count": 10,
   "metadata": {},
   "outputs": [
    {
     "data": {
      "text/plain": [
       "<Axes: >"
      ]
     },
     "execution_count": 10,
     "metadata": {},
     "output_type": "execute_result"
    },
    {
     "data": {
      "image/png": "[encoded data removed]",
      "text/plain": [
       "<Figure size 640x480 with 1 Axes>"
      ]
     },
     "metadata": {},
     "output_type": "display_data"
    }
   ],
   "source": [
    "df.boxplot(column=['Close'])"
   ]
  },
  {
   "cell_type": "code",
   "execution_count": 11,
   "metadata": {},
   "outputs": [
    {
     "name": "stdout",
     "output_type": "stream",
     "text": [
      "Summary statistics for column Close:\n",
      "mean: 27700.52769653222\n",
      "mode: 3761.557129\n",
      "std: 17708.57514402739\n",
      "var: 313593633.6316647\n",
      "kurtosis: -0.6948182249917778\n",
      "skewness: 0.5713889457991368\n",
      "range: 69321.942871\n",
      "min: 3761.557129\n",
      "max: 73083.5\n",
      "sum: 52880307.37268001\n",
      "count: 1909\n",
      "median: 25868.798828\n"
     ]
    }
   ],
   "source": [
    "column='Close'\n",
    "summary = {\n",
    "    'mean': df[column].mean(),\n",
    "    'mode': df[column].mode()[0], \n",
    "    'std': df[column].std(),\n",
    "    'var': df[column].var(),\n",
    "    'kurtosis': kurtosis(df[column]),\n",
    "    'skewness': skew(df[column]),\n",
    "    'range': df[column].max() - df[column].min(),\n",
    "    'min': df[column].min(),\n",
    "    'max': df[column].max(),\n",
    "    'sum': df[column].sum(),\n",
    "    'count': df[column].count(),\n",
    "    'median': df[column].median()\n",
    "}\n",
    "\n",
    "print(f\"Summary statistics for column {column}:\")\n",
    "for stat, value in summary.items():\n",
    "    print(f\"{stat}: {value}\")\n"
   ]
  },
  {
   "cell_type": "code",
   "execution_count": 12,
   "metadata": {},
   "outputs": [
    {
     "data": {
      "text/plain": [
       "count     1909.000000\n",
       "mean     27700.527697\n",
       "std      17708.575144\n",
       "min       3761.557129\n",
       "25%      10410.126953\n",
       "50%      25868.798828\n",
       "75%      41143.929688\n",
       "max      73083.500000\n",
       "Name: Close, dtype: float64"
      ]
     },
     "execution_count": 12,
     "metadata": {},
     "output_type": "execute_result"
    }
   ],
   "source": [
    "df['Close'].describe()"
   ]
  },
  {
   "cell_type": "markdown",
   "metadata": {},
   "source": [
    "### Preprocess data ###"
   ]
  },
  {
   "cell_type": "code",
   "execution_count": 13,
   "metadata": {},
   "outputs": [],
   "source": [
    "\n",
    "df['Year'] = df.index.year\n",
    "df['Month'] = df.index.month\n",
    "df['Day'] = df.index.day"
   ]
  },
  {
   "cell_type": "code",
   "execution_count": 14,
   "metadata": {},
   "outputs": [
    {
     "data": {
      "text/html": [
       "<div>\n",
       "<style scoped>\n",
       "    .dataframe tbody tr th:only-of-type {\n",
       "        vertical-align: middle;\n",
       "    }\n",
       "\n",
       "    .dataframe tbody tr th {\n",
       "        vertical-align: top;\n",
       "    }\n",
       "\n",
       "    .dataframe thead th {\n",
       "        text-align: right;\n",
       "    }\n",
       "</style>\n",
       "<table border=\"1\" class=\"dataframe\">\n",
       "  <thead>\n",
       "    <tr style=\"text-align: right;\">\n",
       "      <th></th>\n",
       "      <th>Open</th>\n",
       "      <th>High</th>\n",
       "      <th>Low</th>\n",
       "      <th>Close</th>\n",
       "      <th>Adj Close</th>\n",
       "      <th>Volume</th>\n",
       "      <th>Year</th>\n",
       "      <th>Month</th>\n",
       "      <th>Day</th>\n",
       "    </tr>\n",
       "    <tr>\n",
       "      <th>Date</th>\n",
       "      <th></th>\n",
       "      <th></th>\n",
       "      <th></th>\n",
       "      <th></th>\n",
       "      <th></th>\n",
       "      <th></th>\n",
       "      <th></th>\n",
       "      <th></th>\n",
       "      <th></th>\n",
       "    </tr>\n",
       "  </thead>\n",
       "  <tbody>\n",
       "    <tr>\n",
       "      <th>2019-03-01</th>\n",
       "      <td>3853.757080</td>\n",
       "      <td>3907.795410</td>\n",
       "      <td>3851.692383</td>\n",
       "      <td>3859.583740</td>\n",
       "      <td>3859.583740</td>\n",
       "      <td>7661247975</td>\n",
       "      <td>2019</td>\n",
       "      <td>3</td>\n",
       "      <td>1</td>\n",
       "    </tr>\n",
       "    <tr>\n",
       "      <th>2019-03-02</th>\n",
       "      <td>3855.318115</td>\n",
       "      <td>3874.607422</td>\n",
       "      <td>3832.127930</td>\n",
       "      <td>3864.415039</td>\n",
       "      <td>3864.415039</td>\n",
       "      <td>7578786076</td>\n",
       "      <td>2019</td>\n",
       "      <td>3</td>\n",
       "      <td>2</td>\n",
       "    </tr>\n",
       "    <tr>\n",
       "      <th>2019-03-03</th>\n",
       "      <td>3862.266113</td>\n",
       "      <td>3875.483643</td>\n",
       "      <td>3836.905762</td>\n",
       "      <td>3847.175781</td>\n",
       "      <td>3847.175781</td>\n",
       "      <td>7253558152</td>\n",
       "      <td>2019</td>\n",
       "      <td>3</td>\n",
       "      <td>3</td>\n",
       "    </tr>\n",
       "    <tr>\n",
       "      <th>2019-03-04</th>\n",
       "      <td>3845.091553</td>\n",
       "      <td>3867.381836</td>\n",
       "      <td>3733.749756</td>\n",
       "      <td>3761.557129</td>\n",
       "      <td>3761.557129</td>\n",
       "      <td>9029175788</td>\n",
       "      <td>2019</td>\n",
       "      <td>3</td>\n",
       "      <td>4</td>\n",
       "    </tr>\n",
       "    <tr>\n",
       "      <th>2019-03-05</th>\n",
       "      <td>3759.832520</td>\n",
       "      <td>3903.916748</td>\n",
       "      <td>3745.183105</td>\n",
       "      <td>3896.375000</td>\n",
       "      <td>3896.375000</td>\n",
       "      <td>10174126415</td>\n",
       "      <td>2019</td>\n",
       "      <td>3</td>\n",
       "      <td>5</td>\n",
       "    </tr>\n",
       "  </tbody>\n",
       "</table>\n",
       "</div>"
      ],
      "text/plain": [
       "                   Open         High          Low        Close    Adj Close  \\\n",
       "Date                                                                          \n",
       "2019-03-01  3853.757080  3907.795410  3851.692383  3859.583740  3859.583740   \n",
       "2019-03-02  3855.318115  3874.607422  3832.127930  3864.415039  3864.415039   \n",
       "2019-03-03  3862.266113  3875.483643  3836.905762  3847.175781  3847.175781   \n",
       "2019-03-04  3845.091553  3867.381836  3733.749756  3761.557129  3761.557129   \n",
       "2019-03-05  3759.832520  3903.916748  3745.183105  3896.375000  3896.375000   \n",
       "\n",
       "                 Volume  Year  Month  Day  \n",
       "Date                                       \n",
       "2019-03-01   7661247975  2019      3    1  \n",
       "2019-03-02   7578786076  2019      3    2  \n",
       "2019-03-03   7253558152  2019      3    3  \n",
       "2019-03-04   9029175788  2019      3    4  \n",
       "2019-03-05  10174126415  2019      3    5  "
      ]
     },
     "execution_count": 14,
     "metadata": {},
     "output_type": "execute_result"
    }
   ],
   "source": [
    "df.head()"
   ]
  },
  {
   "cell_type": "code",
   "execution_count": 15,
   "metadata": {},
   "outputs": [
    {
     "name": "stdout",
     "output_type": "stream",
     "text": [
      "<class 'pandas.core.frame.DataFrame'>\n",
      "DatetimeIndex: 1909 entries, 2019-03-01 to 2024-05-21\n",
      "Data columns (total 9 columns):\n",
      " #   Column     Non-Null Count  Dtype  \n",
      "---  ------     --------------  -----  \n",
      " 0   Open       1909 non-null   float64\n",
      " 1   High       1909 non-null   float64\n",
      " 2   Low        1909 non-null   float64\n",
      " 3   Close      1909 non-null   float64\n",
      " 4   Adj Close  1909 non-null   float64\n",
      " 5   Volume     1909 non-null   int64  \n",
      " 6   Year       1909 non-null   int64  \n",
      " 7   Month      1909 non-null   int64  \n",
      " 8   Day        1909 non-null   int64  \n",
      "dtypes: float64(5), int64(4)\n",
      "memory usage: 149.1 KB\n"
     ]
    }
   ],
   "source": [
    "df.info()"
   ]
  },
  {
   "cell_type": "code",
   "execution_count": 16,
   "metadata": {},
   "outputs": [
    {
     "data": {
      "text/plain": [
       "(1909, 9)"
      ]
     },
     "execution_count": 16,
     "metadata": {},
     "output_type": "execute_result"
    }
   ],
   "source": [
    "df.shape"
   ]
  },
  {
   "cell_type": "markdown",
   "metadata": {},
   "source": [
    "### Parameter"
   ]
  },
  {
   "cell_type": "code",
   "execution_count": 17,
   "metadata": {},
   "outputs": [],
   "source": [
    "window_size = 10\n",
    "feature_dim = 5\n",
    "test_size=0.2\n",
    "\n",
    "# model params\n",
    "lstm_neurons = 20\n",
    "rnn_neurons = 20\n",
    "epochs = 50\n",
    "batch_size = 4\n",
    "loss = 'mae'\n",
    "dropout = 0.25\n",
    "optimizer = 'adam'"
   ]
  },
  {
   "cell_type": "markdown",
   "metadata": {},
   "source": [
    "### Split data"
   ]
  },
  {
   "cell_type": "code",
   "execution_count": 18,
   "metadata": {},
   "outputs": [],
   "source": [
    "df_train = df[df.index<='3/1/2024']\n",
    "df_test = df[df.index>'3/1/2024']\n"
   ]
  },
  {
   "cell_type": "code",
   "execution_count": 19,
   "metadata": {},
   "outputs": [
    {
     "name": "stdout",
     "output_type": "stream",
     "text": [
      "df_train.shape:  (1828, 9)\n",
      "df_trest.shape:  (81, 9)\n"
     ]
    }
   ],
   "source": [
    "print('df_train.shape: ',df_train.shape)\n",
    "print('df_trest.shape: ',df_test.shape)"
   ]
  },
  {
   "cell_type": "code",
   "execution_count": 20,
   "metadata": {},
   "outputs": [
    {
     "data": {
      "image/png": "[encoded data removed]",
      "text/plain": [
       "<Figure size 640x480 with 1 Axes>"
      ]
     },
     "metadata": {},
     "output_type": "display_data"
    }
   ],
   "source": [
    "plt.figure()\n",
    "plt.plot(pd.DataFrame(df_train).index.to_list(), pd.DataFrame(df_train['Close']), color='red', label='Train')\n",
    "plt.plot(pd.DataFrame(df_test).index.to_list(),pd.DataFrame(df_test['Close']), label ='Test')\n",
    "plt.legend()\n",
    "plt.show()"
   ]
  },
  {
   "cell_type": "code",
   "execution_count": 21,
   "metadata": {},
   "outputs": [],
   "source": [
    "scaler = MinMaxScaler(feature_range=(0, 1))\n",
    "df_train_scaled = scaler.fit_transform(df_train)\n",
    "df_test_scaled = scaler.transform(df_test)\n",
    "\n",
    "df_train_scaled = pd.DataFrame(df_train_scaled, index=df_train.index, columns=df_train.columns)\n",
    "df_test_scaled = pd.DataFrame(df_test_scaled, index=df_test.index, columns=df_test.columns)"
   ]
  },
  {
   "cell_type": "code",
   "execution_count": 22,
   "metadata": {},
   "outputs": [],
   "source": [
    "X_train_flat = df_train_scaled.drop(columns=['Close'])\n",
    "y_train_flat = df_train_scaled['Close']\n",
    "X_test_flat = df_test_scaled.drop(columns=['Close'])\n",
    "y_test_flat = df_test_scaled['Close']"
   ]
  },
  {
   "cell_type": "code",
   "execution_count": 23,
   "metadata": {},
   "outputs": [
    {
     "name": "stdout",
     "output_type": "stream",
     "text": [
      "X_train_flat shape:  (1828, 8)\n",
      "y_train_flat shape:  (1828,)\n",
      "X_test_flat shape:  (81, 8)\n",
      "y_test_flat shape:  (81,)\n"
     ]
    }
   ],
   "source": [
    "print('X_train_flat shape: ',X_train_flat.shape)\n",
    "print('y_train_flat shape: ',y_train_flat.shape)\n",
    "print('X_test_flat shape: ',X_test_flat.shape)\n",
    "print('y_test_flat shape: ',y_test_flat.shape)"
   ]
  },
  {
   "cell_type": "code",
   "execution_count": 24,
   "metadata": {},
   "outputs": [],
   "source": [
    "def train_test_split(X_train, y_train,X_test,y_test,test_size, window_size=10):\n",
    "    if window_size is not None:\n",
    "        X_train = np.array([X_train[i:i+window_size] for i in range(len(X_train)-window_size)])\n",
    "        y_train = y_train[window_size:]\n",
    "        X_test = np.array([X_test[i:i+window_size] for i in range(len(X_test)-window_size)])\n",
    "        y_test = y_test[window_size:]\n",
    "    return X_train, y_train, X_test, y_test"
   ]
  },
  {
   "cell_type": "code",
   "execution_count": 25,
   "metadata": {},
   "outputs": [],
   "source": [
    "X_train, y_train, X_test, y_test=train_test_split(X_train_flat,y_train_flat,X_test_flat,y_test_flat,window_size)"
   ]
  },
  {
   "cell_type": "code",
   "execution_count": 26,
   "metadata": {},
   "outputs": [
    {
     "name": "stdout",
     "output_type": "stream",
     "text": [
      "X_train shape:  (1818, 10, 8)\n",
      "y_train shape:  (1818,)\n",
      "X_test shape:  (71, 10, 8)\n",
      "y_test shape:  (71,)\n"
     ]
    }
   ],
   "source": [
    "print('X_train shape: ',X_train.shape)\n",
    "print('y_train shape: ',y_train.shape)\n",
    "print('X_test shape: ',X_test.shape)\n",
    "print('y_test shape: ',y_test.shape)"
   ]
  },
  {
   "cell_type": "markdown",
   "metadata": {},
   "source": [
    "### Linear Regression ###"
   ]
  },
  {
   "cell_type": "markdown",
   "metadata": {},
   "source": [
    "### GRU ###"
   ]
  },
  {
   "cell_type": "markdown",
   "metadata": {},
   "source": [
    "### RNN ###"
   ]
  },
  {
   "cell_type": "markdown",
   "metadata": {},
   "source": [
    "### LSTM ###"
   ]
  },
  {
   "cell_type": "code",
   "execution_count": 1,
   "metadata": {},
   "outputs": [],
   "source": [
    "def build_lstm_model(input_data, output_size, neurons=20, activ_func='linear',\n",
    "                     dropout=0.25, loss='mae', optimizer='adam'):\n",
    "    model = Sequential()\n",
    "\n",
    "    model.add(LSTM(neurons, input_shape=input_data.shape))\n",
    "    model.add(Dropout(dropout))\n",
    "    model.add(Dense(units=output_size))\n",
    "    model.add(Activation(activ_func))\n",
    "\n",
    "    model.compile(loss=loss, optimizer=optimizer)\n",
    "    return model"
   ]
  },
  {
   "cell_type": "code",
   "execution_count": 27,
   "metadata": {},
   "outputs": [],
   "source": [
    "model_LSTM = build_lstm_model(\n",
    "    X_train, output_size=1, neurons=lstm_neurons, dropout=dropout, loss=loss,\n",
    "    optimizer=optimizer)"
   ]
  },
  {
   "cell_type": "code",
   "execution_count": 28,
   "metadata": {},
   "outputs": [
    {
     "name": "stdout",
     "output_type": "stream",
     "text": [
      "Epoch 1/50\n",
      "455/455 [==============================] - 7s 9ms/step - loss: 0.0760\n",
      "Epoch 2/50\n",
      "455/455 [==============================] - 3s 8ms/step - loss: 0.0503\n",
      "Epoch 3/50\n",
      "455/455 [==============================] - 4s 8ms/step - loss: 0.0429\n",
      "Epoch 4/50\n",
      "455/455 [==============================] - 3s 7ms/step - loss: 0.0399\n",
      "Epoch 5/50\n",
      "455/455 [==============================] - 5s 10ms/step - loss: 0.0377\n",
      "Epoch 6/50\n",
      "455/455 [==============================] - 4s 8ms/step - loss: 0.0360\n",
      "Epoch 7/50\n",
      "455/455 [==============================] - 3s 7ms/step - loss: 0.0357\n",
      "Epoch 8/50\n",
      "455/455 [==============================] - 4s 8ms/step - loss: 0.0340\n",
      "Epoch 9/50\n",
      "455/455 [==============================] - 4s 8ms/step - loss: 0.0338\n",
      "Epoch 10/50\n",
      "455/455 [==============================] - 4s 8ms/step - loss: 0.0325\n",
      "Epoch 11/50\n",
      "455/455 [==============================] - 4s 8ms/step - loss: 0.0328\n",
      "Epoch 12/50\n",
      "455/455 [==============================] - 4s 10ms/step - loss: 0.0315\n",
      "Epoch 13/50\n",
      "455/455 [==============================] - 6s 13ms/step - loss: 0.0310\n",
      "Epoch 14/50\n",
      "455/455 [==============================] - 5s 12ms/step - loss: 0.0306\n",
      "Epoch 15/50\n",
      "455/455 [==============================] - 5s 12ms/step - loss: 0.0298\n",
      "Epoch 16/50\n",
      "455/455 [==============================] - 6s 12ms/step - loss: 0.0298\n",
      "Epoch 17/50\n",
      "455/455 [==============================] - 6s 12ms/step - loss: 0.0303\n",
      "Epoch 18/50\n",
      "455/455 [==============================] - 6s 14ms/step - loss: 0.0302\n",
      "Epoch 19/50\n",
      "455/455 [==============================] - 5s 12ms/step - loss: 0.0285\n",
      "Epoch 20/50\n",
      "455/455 [==============================] - 5s 12ms/step - loss: 0.0305\n",
      "Epoch 21/50\n",
      "455/455 [==============================] - 5s 12ms/step - loss: 0.0294\n",
      "Epoch 22/50\n",
      "455/455 [==============================] - 5s 11ms/step - loss: 0.0293\n",
      "Epoch 23/50\n",
      "455/455 [==============================] - 5s 11ms/step - loss: 0.0289\n",
      "Epoch 24/50\n",
      "455/455 [==============================] - 5s 11ms/step - loss: 0.0295\n",
      "Epoch 25/50\n",
      "455/455 [==============================] - 5s 11ms/step - loss: 0.0289\n",
      "Epoch 26/50\n",
      "455/455 [==============================] - 5s 11ms/step - loss: 0.0288\n",
      "Epoch 27/50\n",
      "455/455 [==============================] - 5s 11ms/step - loss: 0.0287\n",
      "Epoch 28/50\n",
      "455/455 [==============================] - 5s 12ms/step - loss: 0.0285\n",
      "Epoch 29/50\n",
      "455/455 [==============================] - 6s 14ms/step - loss: 0.0281\n",
      "Epoch 30/50\n",
      "455/455 [==============================] - 6s 13ms/step - loss: 0.0279\n",
      "Epoch 31/50\n",
      "455/455 [==============================] - 5s 11ms/step - loss: 0.0283\n",
      "Epoch 32/50\n",
      "455/455 [==============================] - 6s 13ms/step - loss: 0.0298\n",
      "Epoch 33/50\n",
      "455/455 [==============================] - 7s 15ms/step - loss: 0.0280\n",
      "Epoch 34/50\n",
      "455/455 [==============================] - 6s 13ms/step - loss: 0.0289\n",
      "Epoch 35/50\n",
      "455/455 [==============================] - 5s 12ms/step - loss: 0.0281\n",
      "Epoch 36/50\n",
      "455/455 [==============================] - 5s 12ms/step - loss: 0.0279\n",
      "Epoch 37/50\n",
      "455/455 [==============================] - 6s 14ms/step - loss: 0.0274\n",
      "Epoch 38/50\n",
      "455/455 [==============================] - 6s 12ms/step - loss: 0.0273\n",
      "Epoch 39/50\n",
      "455/455 [==============================] - 6s 12ms/step - loss: 0.0276\n",
      "Epoch 40/50\n",
      "455/455 [==============================] - 4s 9ms/step - loss: 0.0279\n",
      "Epoch 41/50\n",
      "455/455 [==============================] - 4s 9ms/step - loss: 0.0278\n",
      "Epoch 42/50\n",
      "455/455 [==============================] - 4s 9ms/step - loss: 0.0264\n",
      "Epoch 43/50\n",
      "455/455 [==============================] - 4s 8ms/step - loss: 0.0284\n",
      "Epoch 44/50\n",
      "455/455 [==============================] - 4s 9ms/step - loss: 0.0278\n",
      "Epoch 45/50\n",
      "455/455 [==============================] - 5s 10ms/step - loss: 0.0268\n",
      "Epoch 46/50\n",
      "455/455 [==============================] - 5s 12ms/step - loss: 0.0267\n",
      "Epoch 47/50\n",
      "455/455 [==============================] - 6s 12ms/step - loss: 0.0272\n",
      "Epoch 48/50\n",
      "455/455 [==============================] - 5s 12ms/step - loss: 0.0270\n",
      "Epoch 49/50\n",
      "455/455 [==============================] - 4s 10ms/step - loss: 0.0272\n",
      "Epoch 50/50\n",
      "455/455 [==============================] - 4s 9ms/step - loss: 0.0275\n"
     ]
    }
   ],
   "source": [
    "history = model_LSTM.fit(\n",
    "    X_train, y_train, epochs=epochs, batch_size=batch_size, verbose=1, shuffle=True)"
   ]
  },
  {
   "cell_type": "code",
   "execution_count": 62,
   "metadata": {},
   "outputs": [
    {
     "name": "stdout",
     "output_type": "stream",
     "text": [
      "3/3 [==============================] - 0s 3ms/step\n",
      "Mean Absolute Percentage Error: 0.0394061896676424\n",
      "Mean Absolute Error: 0.03887124911112929\n",
      "Root Mean Squared Error: 0.04662268987092157\n"
     ]
    }
   ],
   "source": [
    "pred_LSTM = model_LSTM.predict(X_test)\n",
    "mape = mean_absolute_percentage_error(y_test, pred_LSTM)\n",
    "mae = mean_absolute_error(y_test,pred_LSTM)\n",
    "mse = mean_squared_error(y_test, pred_LSTM)\n",
    "print(f'Mean Absolute Percentage Error: {mape}')\n",
    "print(f'Mean Absolute Error: {mae}')\n",
    "print(f'Root Mean Squared Error: {math.sqrt(mse)}')"
   ]
  },
  {
   "cell_type": "code",
   "execution_count": 63,
   "metadata": {},
   "outputs": [
    {
     "data": {
      "image/png": "[encoded data removed]",
      "text/plain": [
       "<Figure size 1200x800 with 1 Axes>"
      ]
     },
     "metadata": {},
     "output_type": "display_data"
    }
   ],
   "source": [
    "plt.figure(figsize=(12, 8))\n",
    "plt.plot(pd.DataFrame(y_train).index.to_list(),pd.DataFrame(y_train),color='green',label='Train value')\n",
    "plt.plot(pd.DataFrame(y_test).index.to_list(), pd.DataFrame(pred_LSTM.reshape(-1)), color='red', label='Predicted value')\n",
    "plt.plot(pd.DataFrame(y_test).index.to_list(), pd.DataFrame(y_test), color='blue', label='Test value')\n",
    "plt.legend()\n",
    "plt.show()"
   ]
  },
  {
   "cell_type": "markdown",
   "metadata": {},
   "source": [
    "### AUTOFORMER ###"
   ]
  },
  {
   "cell_type": "markdown",
   "metadata": {},
   "source": [
    "### SARIMAX ###"
   ]
  },
  {
   "cell_type": "markdown",
   "metadata": {},
   "source": [
    "### STACKING MODELS ###"
   ]
  },
  {
   "cell_type": "markdown",
   "metadata": {},
   "source": [
    "### ARIMA ###"
   ]
  }
 ],
 "metadata": {
  "kernelspec": {
   "display_name": "e4_jupyter_notebook_assignment",
   "language": "python",
   "name": "python3"
  },
  "language_info": {
   "codemirror_mode": {
    "name": "ipython",
    "version": 3
   },
   "file_extension": ".py",
   "mimetype": "text/x-python",
   "name": "python",
   "nbconvert_exporter": "python",
   "pygments_lexer": "ipython3",
   "version": "3.10.13"
  }
 },
 "nbformat": 4,
 "nbformat_minor": 2
}
