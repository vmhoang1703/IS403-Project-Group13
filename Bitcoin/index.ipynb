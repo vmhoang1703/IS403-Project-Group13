{
 "cells": [
  {
   "cell_type": "code",
   "execution_count": 70,
   "metadata": {},
   "outputs": [],
   "source": [
    "import numpy as np\n",
    "import pandas as pd\n",
    "import matplotlib.pyplot as plt\n",
    "import math\n",
    "\n",
    "from sklearn.preprocessing import MinMaxScaler\n",
    "from sklearn.metrics import mean_squared_error\n",
    "from sklearn.metrics import mean_absolute_error\n",
    "from sklearn.linear_model import LinearRegression\n",
    "from sklearn.neural_network import MLPClassifier\n",
    "\n",
    "from keras.models import Sequential\n",
    "from keras.layers import Dense\n",
    "from keras.layers import LSTM\n",
    "from keras.layers import RNN\n",
    "from keras.layers import GRU\n",
    "from keras.layers import Dropout\n",
    "from keras.layers import Activation\n",
    "from keras.models import load_model\n",
    "from keras.utils import plot_model\n",
    "\n",
    "from statsmodels.tsa.arima.model import ARIMA\n",
    "\n",
    "import numpy as np\n",
    "from tensorflow.keras.datasets import imdb\n",
    "from tensorflow.keras.models import Sequential\n",
    "from tensorflow.keras.layers import SimpleRNN, Embedding, Dense, GRU\n",
    "from tensorflow.keras.preprocessing import sequence"
   ]
  },
  {
   "cell_type": "markdown",
   "metadata": {},
   "source": [
    "### Read data ###"
   ]
  },
  {
   "cell_type": "code",
   "execution_count": 71,
   "metadata": {},
   "outputs": [],
   "source": [
    "df = pd.read_csv('./BTC-USD.csv')"
   ]
  },
  {
   "cell_type": "code",
   "execution_count": 72,
   "metadata": {},
   "outputs": [
    {
     "data": {
      "text/html": [
       "<div>\n",
       "<style scoped>\n",
       "    .dataframe tbody tr th:only-of-type {\n",
       "        vertical-align: middle;\n",
       "    }\n",
       "\n",
       "    .dataframe tbody tr th {\n",
       "        vertical-align: top;\n",
       "    }\n",
       "\n",
       "    .dataframe thead th {\n",
       "        text-align: right;\n",
       "    }\n",
       "</style>\n",
       "<table border=\"1\" class=\"dataframe\">\n",
       "  <thead>\n",
       "    <tr style=\"text-align: right;\">\n",
       "      <th></th>\n",
       "      <th>Date</th>\n",
       "      <th>Open</th>\n",
       "      <th>High</th>\n",
       "      <th>Low</th>\n",
       "      <th>Close</th>\n",
       "      <th>Adj Close</th>\n",
       "      <th>Volume</th>\n",
       "    </tr>\n",
       "  </thead>\n",
       "  <tbody>\n",
       "    <tr>\n",
       "      <th>0</th>\n",
       "      <td>2019-03-01</td>\n",
       "      <td>3853.757080</td>\n",
       "      <td>3907.795410</td>\n",
       "      <td>3851.692383</td>\n",
       "      <td>3859.583740</td>\n",
       "      <td>3859.583740</td>\n",
       "      <td>7661247975</td>\n",
       "    </tr>\n",
       "    <tr>\n",
       "      <th>1</th>\n",
       "      <td>2019-03-02</td>\n",
       "      <td>3855.318115</td>\n",
       "      <td>3874.607422</td>\n",
       "      <td>3832.127930</td>\n",
       "      <td>3864.415039</td>\n",
       "      <td>3864.415039</td>\n",
       "      <td>7578786076</td>\n",
       "    </tr>\n",
       "    <tr>\n",
       "      <th>2</th>\n",
       "      <td>2019-03-03</td>\n",
       "      <td>3862.266113</td>\n",
       "      <td>3875.483643</td>\n",
       "      <td>3836.905762</td>\n",
       "      <td>3847.175781</td>\n",
       "      <td>3847.175781</td>\n",
       "      <td>7253558152</td>\n",
       "    </tr>\n",
       "    <tr>\n",
       "      <th>3</th>\n",
       "      <td>2019-03-04</td>\n",
       "      <td>3845.091553</td>\n",
       "      <td>3867.381836</td>\n",
       "      <td>3733.749756</td>\n",
       "      <td>3761.557129</td>\n",
       "      <td>3761.557129</td>\n",
       "      <td>9029175788</td>\n",
       "    </tr>\n",
       "    <tr>\n",
       "      <th>4</th>\n",
       "      <td>2019-03-05</td>\n",
       "      <td>3759.832520</td>\n",
       "      <td>3903.916748</td>\n",
       "      <td>3745.183105</td>\n",
       "      <td>3896.375000</td>\n",
       "      <td>3896.375000</td>\n",
       "      <td>10174126415</td>\n",
       "    </tr>\n",
       "  </tbody>\n",
       "</table>\n",
       "</div>"
      ],
      "text/plain": [
       "         Date         Open         High          Low        Close  \\\n",
       "0  2019-03-01  3853.757080  3907.795410  3851.692383  3859.583740   \n",
       "1  2019-03-02  3855.318115  3874.607422  3832.127930  3864.415039   \n",
       "2  2019-03-03  3862.266113  3875.483643  3836.905762  3847.175781   \n",
       "3  2019-03-04  3845.091553  3867.381836  3733.749756  3761.557129   \n",
       "4  2019-03-05  3759.832520  3903.916748  3745.183105  3896.375000   \n",
       "\n",
       "     Adj Close       Volume  \n",
       "0  3859.583740   7661247975  \n",
       "1  3864.415039   7578786076  \n",
       "2  3847.175781   7253558152  \n",
       "3  3761.557129   9029175788  \n",
       "4  3896.375000  10174126415  "
      ]
     },
     "execution_count": 72,
     "metadata": {},
     "output_type": "execute_result"
    }
   ],
   "source": [
    "df.head()"
   ]
  },
  {
   "cell_type": "code",
   "execution_count": 73,
   "metadata": {},
   "outputs": [
    {
     "name": "stdout",
     "output_type": "stream",
     "text": [
      "<class 'pandas.core.frame.DataFrame'>\n",
      "RangeIndex: 1909 entries, 0 to 1908\n",
      "Data columns (total 7 columns):\n",
      " #   Column     Non-Null Count  Dtype  \n",
      "---  ------     --------------  -----  \n",
      " 0   Date       1909 non-null   object \n",
      " 1   Open       1909 non-null   float64\n",
      " 2   High       1909 non-null   float64\n",
      " 3   Low        1909 non-null   float64\n",
      " 4   Close      1909 non-null   float64\n",
      " 5   Adj Close  1909 non-null   float64\n",
      " 6   Volume     1909 non-null   int64  \n",
      "dtypes: float64(5), int64(1), object(1)\n",
      "memory usage: 104.5+ KB\n"
     ]
    }
   ],
   "source": [
    "df.info()"
   ]
  },
  {
   "cell_type": "code",
   "execution_count": 74,
   "metadata": {},
   "outputs": [
    {
     "data": {
      "text/plain": [
       "(1909, 7)"
      ]
     },
     "execution_count": 74,
     "metadata": {},
     "output_type": "execute_result"
    }
   ],
   "source": [
    "df.shape"
   ]
  },
  {
   "cell_type": "markdown",
   "metadata": {},
   "source": [
    "### Preprocess data ###"
   ]
  },
  {
   "cell_type": "code",
   "execution_count": 75,
   "metadata": {},
   "outputs": [],
   "source": [
    "df['Date'] = pd.to_datetime(df['Date'])\n",
    "df.reset_index(drop=True)\n",
    "df.set_index('Date', inplace=True)\n"
   ]
  },
  {
   "cell_type": "code",
   "execution_count": 76,
   "metadata": {},
   "outputs": [],
   "source": [
    "\n",
    "df['Year'] = df.index.year\n",
    "df['Month'] = df.index.month\n",
    "df['Day'] = df.index.day"
   ]
  },
  {
   "cell_type": "code",
   "execution_count": 77,
   "metadata": {},
   "outputs": [
    {
     "data": {
      "text/html": [
       "<div>\n",
       "<style scoped>\n",
       "    .dataframe tbody tr th:only-of-type {\n",
       "        vertical-align: middle;\n",
       "    }\n",
       "\n",
       "    .dataframe tbody tr th {\n",
       "        vertical-align: top;\n",
       "    }\n",
       "\n",
       "    .dataframe thead th {\n",
       "        text-align: right;\n",
       "    }\n",
       "</style>\n",
       "<table border=\"1\" class=\"dataframe\">\n",
       "  <thead>\n",
       "    <tr style=\"text-align: right;\">\n",
       "      <th></th>\n",
       "      <th>Open</th>\n",
       "      <th>High</th>\n",
       "      <th>Low</th>\n",
       "      <th>Close</th>\n",
       "      <th>Adj Close</th>\n",
       "      <th>Volume</th>\n",
       "      <th>Year</th>\n",
       "      <th>Month</th>\n",
       "      <th>Day</th>\n",
       "    </tr>\n",
       "    <tr>\n",
       "      <th>Date</th>\n",
       "      <th></th>\n",
       "      <th></th>\n",
       "      <th></th>\n",
       "      <th></th>\n",
       "      <th></th>\n",
       "      <th></th>\n",
       "      <th></th>\n",
       "      <th></th>\n",
       "      <th></th>\n",
       "    </tr>\n",
       "  </thead>\n",
       "  <tbody>\n",
       "    <tr>\n",
       "      <th>2019-03-01</th>\n",
       "      <td>3853.757080</td>\n",
       "      <td>3907.795410</td>\n",
       "      <td>3851.692383</td>\n",
       "      <td>3859.583740</td>\n",
       "      <td>3859.583740</td>\n",
       "      <td>7661247975</td>\n",
       "      <td>2019</td>\n",
       "      <td>3</td>\n",
       "      <td>1</td>\n",
       "    </tr>\n",
       "    <tr>\n",
       "      <th>2019-03-02</th>\n",
       "      <td>3855.318115</td>\n",
       "      <td>3874.607422</td>\n",
       "      <td>3832.127930</td>\n",
       "      <td>3864.415039</td>\n",
       "      <td>3864.415039</td>\n",
       "      <td>7578786076</td>\n",
       "      <td>2019</td>\n",
       "      <td>3</td>\n",
       "      <td>2</td>\n",
       "    </tr>\n",
       "    <tr>\n",
       "      <th>2019-03-03</th>\n",
       "      <td>3862.266113</td>\n",
       "      <td>3875.483643</td>\n",
       "      <td>3836.905762</td>\n",
       "      <td>3847.175781</td>\n",
       "      <td>3847.175781</td>\n",
       "      <td>7253558152</td>\n",
       "      <td>2019</td>\n",
       "      <td>3</td>\n",
       "      <td>3</td>\n",
       "    </tr>\n",
       "    <tr>\n",
       "      <th>2019-03-04</th>\n",
       "      <td>3845.091553</td>\n",
       "      <td>3867.381836</td>\n",
       "      <td>3733.749756</td>\n",
       "      <td>3761.557129</td>\n",
       "      <td>3761.557129</td>\n",
       "      <td>9029175788</td>\n",
       "      <td>2019</td>\n",
       "      <td>3</td>\n",
       "      <td>4</td>\n",
       "    </tr>\n",
       "    <tr>\n",
       "      <th>2019-03-05</th>\n",
       "      <td>3759.832520</td>\n",
       "      <td>3903.916748</td>\n",
       "      <td>3745.183105</td>\n",
       "      <td>3896.375000</td>\n",
       "      <td>3896.375000</td>\n",
       "      <td>10174126415</td>\n",
       "      <td>2019</td>\n",
       "      <td>3</td>\n",
       "      <td>5</td>\n",
       "    </tr>\n",
       "  </tbody>\n",
       "</table>\n",
       "</div>"
      ],
      "text/plain": [
       "                   Open         High          Low        Close    Adj Close  \\\n",
       "Date                                                                          \n",
       "2019-03-01  3853.757080  3907.795410  3851.692383  3859.583740  3859.583740   \n",
       "2019-03-02  3855.318115  3874.607422  3832.127930  3864.415039  3864.415039   \n",
       "2019-03-03  3862.266113  3875.483643  3836.905762  3847.175781  3847.175781   \n",
       "2019-03-04  3845.091553  3867.381836  3733.749756  3761.557129  3761.557129   \n",
       "2019-03-05  3759.832520  3903.916748  3745.183105  3896.375000  3896.375000   \n",
       "\n",
       "                 Volume  Year  Month  Day  \n",
       "Date                                       \n",
       "2019-03-01   7661247975  2019      3    1  \n",
       "2019-03-02   7578786076  2019      3    2  \n",
       "2019-03-03   7253558152  2019      3    3  \n",
       "2019-03-04   9029175788  2019      3    4  \n",
       "2019-03-05  10174126415  2019      3    5  "
      ]
     },
     "execution_count": 77,
     "metadata": {},
     "output_type": "execute_result"
    }
   ],
   "source": [
    "df.head()"
   ]
  },
  {
   "cell_type": "code",
   "execution_count": 78,
   "metadata": {},
   "outputs": [
    {
     "name": "stdout",
     "output_type": "stream",
     "text": [
      "<class 'pandas.core.frame.DataFrame'>\n",
      "DatetimeIndex: 1909 entries, 2019-03-01 to 2024-05-21\n",
      "Data columns (total 9 columns):\n",
      " #   Column     Non-Null Count  Dtype  \n",
      "---  ------     --------------  -----  \n",
      " 0   Open       1909 non-null   float64\n",
      " 1   High       1909 non-null   float64\n",
      " 2   Low        1909 non-null   float64\n",
      " 3   Close      1909 non-null   float64\n",
      " 4   Adj Close  1909 non-null   float64\n",
      " 5   Volume     1909 non-null   int64  \n",
      " 6   Year       1909 non-null   int64  \n",
      " 7   Month      1909 non-null   int64  \n",
      " 8   Day        1909 non-null   int64  \n",
      "dtypes: float64(5), int64(4)\n",
      "memory usage: 149.1 KB\n"
     ]
    }
   ],
   "source": [
    "df.info()"
   ]
  },
  {
   "cell_type": "code",
   "execution_count": 79,
   "metadata": {},
   "outputs": [
    {
     "data": {
      "text/plain": [
       "(1909, 9)"
      ]
     },
     "execution_count": 79,
     "metadata": {},
     "output_type": "execute_result"
    }
   ],
   "source": [
    "df.shape"
   ]
  },
  {
   "cell_type": "markdown",
   "metadata": {},
   "source": [
    "### Parameter"
   ]
  },
  {
   "cell_type": "code",
   "execution_count": 80,
   "metadata": {},
   "outputs": [],
   "source": [
    "window_size = 10\n",
    "feature_dim = 5\n",
    "test_size=0.2\n",
    "\n",
    "# model params\n",
    "lstm_neurons = 20\n",
    "rnn_neurons = 20\n",
    "epochs = 50\n",
    "batch_size = 4\n",
    "loss = 'mae'\n",
    "dropout = 0.25\n",
    "optimizer = 'adam'"
   ]
  },
  {
   "cell_type": "markdown",
   "metadata": {},
   "source": [
    "### Split data"
   ]
  },
  {
   "cell_type": "code",
   "execution_count": 81,
   "metadata": {},
   "outputs": [],
   "source": [
    "split_index = int(len(df)*(1-test_size))\n",
    "df_train = df.iloc[:split_index,:]\n",
    "df_test = df.iloc[split_index:,:]"
   ]
  },
  {
   "cell_type": "code",
   "execution_count": 82,
   "metadata": {},
   "outputs": [
    {
     "name": "stdout",
     "output_type": "stream",
     "text": [
      "df_train.shape:  (1527, 9)\n",
      "df_trest.shape:  (382, 9)\n"
     ]
    }
   ],
   "source": [
    "print('df_train.shape: ',df_train.shape)\n",
    "print('df_trest.shape: ',df_test.shape)"
   ]
  },
  {
   "cell_type": "code",
   "execution_count": 85,
   "metadata": {},
   "outputs": [
    {
     "data": {
      "image/png": "[encoded data removed]",
      "text/plain": [
       "<Figure size 640x480 with 1 Axes>"
      ]
     },
     "metadata": {},
     "output_type": "display_data"
    }
   ],
   "source": [
    "plt.figure()\n",
    "plt.plot(pd.DataFrame(df_train).index.to_list(), pd.DataFrame(df_train['Close']), color='red', label='Train')\n",
    "plt.plot(pd.DataFrame(df_test).index.to_list(),pd.DataFrame(df_test['Close']), label ='Test')\n",
    "plt.legend()\n",
    "plt.show()"
   ]
  },
  {
   "cell_type": "code",
   "execution_count": 86,
   "metadata": {},
   "outputs": [],
   "source": [
    "scaler = MinMaxScaler(feature_range=(0, 1))\n",
    "df_train_scaled = scaler.fit_transform(df_train)\n",
    "df_test_scaled = scaler.transform(df_test)\n",
    "\n",
    "df_train_scaled = pd.DataFrame(df_train_scaled, index=df_train.index, columns=df_train.columns)\n",
    "df_test_scaled = pd.DataFrame(df_test_scaled, index=df_test.index, columns=df_test.columns)"
   ]
  },
  {
   "cell_type": "code",
   "execution_count": 11,
   "metadata": {},
   "outputs": [],
   "source": [
    "def train_test_split(X, y,test_size, window_size=10 ):\n",
    "    split_index = int(len(X) * (1 - test_size))\n",
    "    X_train = X[:split_index]\n",
    "    y_train = y[:split_index]\n",
    "    X_test = X[split_index:]\n",
    "    y_test = y[split_index:]\n",
    "    if window_size is not None:\n",
    "        X_train = np.array([X_train[i:i+window_size] for i in range(len(X_train)-window_size)])\n",
    "        y_train = y_train[window_size:]\n",
    "        X_test = np.array([X_test[i:i+window_size] for i in range(len(X_test)-window_size)])\n",
    "        y_test = y_test[window_size:]\n",
    "    return X_train, y_train, X_test, y_test"
   ]
  }
 ],
 "metadata": {
  "kernelspec": {
   "display_name": "e4_jupyter_notebook_assignment",
   "language": "python",
   "name": "python3"
  },
  "language_info": {
   "codemirror_mode": {
    "name": "ipython",
    "version": 3
   },
   "file_extension": ".py",
   "mimetype": "text/x-python",
   "name": "python",
   "nbconvert_exporter": "python",
   "pygments_lexer": "ipython3",
   "version": "3.10.13"
  }
 },
 "nbformat": 4,
 "nbformat_minor": 2
}
